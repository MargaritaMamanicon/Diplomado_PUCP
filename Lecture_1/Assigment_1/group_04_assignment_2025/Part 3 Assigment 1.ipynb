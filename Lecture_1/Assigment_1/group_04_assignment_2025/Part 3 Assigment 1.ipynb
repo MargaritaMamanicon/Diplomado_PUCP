{
 "cells": [
  {
   "cell_type": "code",
   "execution_count": 18,
   "id": "8700ed9b",
   "metadata": {},
   "outputs": [
    {
     "data": {
      "text/plain": [
       "Ana        15\n",
       "Jorge      17\n",
       "Valeria    20\n",
       "Pedro      11\n",
       "Martin     13\n",
       "Carlos     18\n",
       "Maria      19\n",
       "dtype: int64"
      ]
     },
     "execution_count": 18,
     "metadata": {},
     "output_type": "execute_result"
    }
   ],
   "source": [
    "import pandas as pd \n",
    "\n",
    "grades = [15,17,20,11,13,18,19]\n",
    "students_names = [\"Ana\",\"Jorge\",\"Valeria\",\"Pedro\",\"Martin\",\"Carlos\", \"Maria\"]\n",
    "\n",
    "Pandas_Series = pd.Series(grades, index = students_names)\n",
    "Pandas_Series"
   ]
  },
  {
   "cell_type": "code",
   "execution_count": 12,
   "id": "7b40dc13",
   "metadata": {},
   "outputs": [
    {
     "data": {
      "text/plain": [
       "16.142857142857142"
      ]
     },
     "execution_count": 12,
     "metadata": {},
     "output_type": "execute_result"
    }
   ],
   "source": [
    "#Average of the grades\n",
    "Pandas_Series.mean()"
   ]
  },
  {
   "cell_type": "code",
   "execution_count": 14,
   "id": "d6927321",
   "metadata": {},
   "outputs": [
    {
     "data": {
      "text/plain": [
       "'Valeria'"
      ]
     },
     "execution_count": 14,
     "metadata": {},
     "output_type": "execute_result"
    }
   ],
   "source": [
    "#student with the highest grade\n",
    "Pandas_Series.idxmax()"
   ]
  },
  {
   "cell_type": "code",
   "execution_count": 19,
   "id": "32932d37",
   "metadata": {},
   "outputs": [
    {
     "data": {
      "text/plain": [
       "'Pedro'"
      ]
     },
     "execution_count": 19,
     "metadata": {},
     "output_type": "execute_result"
    }
   ],
   "source": [
    "#student with lowest grade\n",
    "Pandas_Series.idxmin()"
   ]
  },
  {
   "cell_type": "code",
   "execution_count": 23,
   "id": "075dfbbf",
   "metadata": {},
   "outputs": [],
   "source": [
    "countries_capitals = {\n",
    "    \"Spain\":\"Madrid\",\n",
    "    \"France\":\"Paris\",\n",
    "    \"Germany\":\"Berlin\",\n",
    "    \"Italy\":\"Rome\",\n",
    "    \"Portugal\":\"Lisbon\",\n",
    "    \"Netherlands\":\"Amsterdam\",\n",
    "    \"Lima\":\"Peru\",\n",
    "    \"Venezuela\":\"Caracas\",\n",
    "    \"Belgium\":\"Brussels\",\n",
    "    \"Austria\":\"Vienna\"\n",
    "}"
   ]
  },
  {
   "cell_type": "code",
   "execution_count": 27,
   "id": "cfa1ec67",
   "metadata": {},
   "outputs": [
    {
     "data": {
      "text/plain": [
       "Spain             Madrid\n",
       "France             Paris\n",
       "Germany           Berlin\n",
       "Italy               Rome\n",
       "Portugal          Lisbon\n",
       "Netherlands    Amsterdam\n",
       "Lima                Peru\n",
       "Venezuela        Caracas\n",
       "Belgium         Brussels\n",
       "Austria           Vienna\n",
       "dtype: object"
      ]
     },
     "execution_count": 27,
     "metadata": {},
     "output_type": "execute_result"
    }
   ],
   "source": [
    "capital_series = pd.Series(countries_capitals)\n",
    "capital_series"
   ]
  },
  {
   "cell_type": "code",
   "execution_count": 35,
   "id": "8bfea097",
   "metadata": {},
   "outputs": [
    {
     "data": {
      "text/plain": [
       "Netherlands    Amsterdam\n",
       "Venezuela        Caracas\n",
       "Belgium         Brussels\n",
       "dtype: object"
      ]
     },
     "execution_count": 35,
     "metadata": {},
     "output_type": "execute_result"
    }
   ],
   "source": [
    "#Capitals with more than 6 letters\n",
    "\n",
    "letters_capital = capital_series[capital_series.str.len() > 6]\n",
    "letters_capital"
   ]
  },
  {
   "cell_type": "code",
   "execution_count": 37,
   "id": "45ecce2d",
   "metadata": {},
   "outputs": [],
   "source": [
    "fruits = [\"apple\",\"pear\",\"banana\",\"orange\",\"grape\",\"pineapple\",\"mango\",\"blueberry\"]\n",
    "fruits_df = pd.Series(fruits)"
   ]
  },
  {
   "cell_type": "code",
   "execution_count": 40,
   "id": "24cbb9bf",
   "metadata": {},
   "outputs": [
    {
     "data": {
      "text/plain": [
       "0        APPLE\n",
       "1         PEAR\n",
       "2       BANANA\n",
       "3       ORANGE\n",
       "4        GRAPE\n",
       "5    PINEAPPLE\n",
       "6        MANGO\n",
       "7    BLUEBERRY\n",
       "dtype: object"
      ]
     },
     "execution_count": 40,
     "metadata": {},
     "output_type": "execute_result"
    }
   ],
   "source": [
    "fruits_upper = fruits_df.apply(str.upper)\n",
    "fruits_upper"
   ]
  }
 ],
 "metadata": {
  "kernelspec": {
   "display_name": "Python 3 (ipykernel)",
   "language": "python",
   "name": "python3"
  },
  "language_info": {
   "codemirror_mode": {
    "name": "ipython",
    "version": 3
   },
   "file_extension": ".py",
   "mimetype": "text/x-python",
   "name": "python",
   "nbconvert_exporter": "python",
   "pygments_lexer": "ipython3",
   "version": "3.11.5"
  }
 },
 "nbformat": 4,
 "nbformat_minor": 5
}
