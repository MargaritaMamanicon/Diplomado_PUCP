{
 "cells": [
  {
   "cell_type": "markdown",
   "id": "449dd995",
   "metadata": {},
   "source": [
    "# PART 2\n",
    "\n",
    "# Variable for each of the following types: "
   ]
  },
  {
   "cell_type": "code",
   "execution_count": null,
   "id": "26859830",
   "metadata": {},
   "outputs": [],
   "source": []
  },
  {
   "cell_type": "code",
   "execution_count": 2,
   "id": "b9a2e546",
   "metadata": {},
   "outputs": [],
   "source": [
    "## Varible int:"
   ]
  },
  {
   "cell_type": "code",
   "execution_count": null,
   "id": "ba65f355",
   "metadata": {},
   "outputs": [],
   "source": [
    "catidad_de_estudiantes == m"
   ]
  },
  {
   "cell_type": "code",
   "execution_count": 8,
   "id": "31bca3ba",
   "metadata": {},
   "outputs": [],
   "source": [
    "m = 40"
   ]
  },
  {
   "cell_type": "code",
   "execution_count": 9,
   "id": "f53e8c22",
   "metadata": {},
   "outputs": [
    {
     "data": {
      "text/plain": [
       "40"
      ]
     },
     "execution_count": 9,
     "metadata": {},
     "output_type": "execute_result"
    }
   ],
   "source": [
    "m"
   ]
  },
  {
   "cell_type": "code",
   "execution_count": null,
   "id": "38fa26c0",
   "metadata": {},
   "outputs": [],
   "source": []
  },
  {
   "cell_type": "code",
   "execution_count": 3,
   "id": "4e505eb8",
   "metadata": {},
   "outputs": [],
   "source": [
    "## Varible float:"
   ]
  },
  {
   "cell_type": "code",
   "execution_count": 26,
   "id": "1edcd77d",
   "metadata": {},
   "outputs": [],
   "source": [
    "promedio_notas_estudiantes = 19.5"
   ]
  },
  {
   "cell_type": "code",
   "execution_count": 27,
   "id": "dcafc96e",
   "metadata": {},
   "outputs": [
    {
     "data": {
      "text/plain": [
       "True"
      ]
     },
     "execution_count": 27,
     "metadata": {},
     "output_type": "execute_result"
    }
   ],
   "source": [
    "promedio_notas_estudiantes == p"
   ]
  },
  {
   "cell_type": "code",
   "execution_count": 28,
   "id": "dc90c49b",
   "metadata": {},
   "outputs": [
    {
     "data": {
      "text/plain": [
       "19.5"
      ]
     },
     "execution_count": 28,
     "metadata": {},
     "output_type": "execute_result"
    }
   ],
   "source": [
    "p"
   ]
  },
  {
   "cell_type": "code",
   "execution_count": 12,
   "id": "bcf3e484",
   "metadata": {},
   "outputs": [],
   "source": [
    "## Varible string:"
   ]
  },
  {
   "cell_type": "code",
   "execution_count": 18,
   "id": "d1c20e67",
   "metadata": {},
   "outputs": [],
   "source": [
    "nombre_curso = 'Fundamentos de Python'"
   ]
  },
  {
   "cell_type": "code",
   "execution_count": 19,
   "id": "8aa882c8",
   "metadata": {},
   "outputs": [
    {
     "data": {
      "text/plain": [
       "'Fundamentos de Python'"
      ]
     },
     "execution_count": 19,
     "metadata": {},
     "output_type": "execute_result"
    }
   ],
   "source": [
    "nombre_curso"
   ]
  },
  {
   "cell_type": "code",
   "execution_count": null,
   "id": "a0bf02c2",
   "metadata": {},
   "outputs": [],
   "source": []
  },
  {
   "cell_type": "code",
   "execution_count": 20,
   "id": "4b7299c5",
   "metadata": {},
   "outputs": [],
   "source": [
    "## Varible boolean:"
   ]
  },
  {
   "cell_type": "code",
   "execution_count": 31,
   "id": "5d03cc4c",
   "metadata": {},
   "outputs": [],
   "source": [
    "asistencia = 1"
   ]
  },
  {
   "cell_type": "code",
   "execution_count": 34,
   "id": "2cf16e5d",
   "metadata": {},
   "outputs": [
    {
     "data": {
      "text/plain": [
       "1"
      ]
     },
     "execution_count": 34,
     "metadata": {},
     "output_type": "execute_result"
    }
   ],
   "source": [
    "asistencia"
   ]
  },
  {
   "cell_type": "code",
   "execution_count": 35,
   "id": "dcc31435",
   "metadata": {},
   "outputs": [],
   "source": [
    "falta = 0"
   ]
  },
  {
   "cell_type": "code",
   "execution_count": 36,
   "id": "4102346d",
   "metadata": {},
   "outputs": [
    {
     "data": {
      "text/plain": [
       "0"
      ]
     },
     "execution_count": 36,
     "metadata": {},
     "output_type": "execute_result"
    }
   ],
   "source": [
    "falta"
   ]
  },
  {
   "cell_type": "code",
   "execution_count": 37,
   "id": "f232f394",
   "metadata": {},
   "outputs": [
    {
     "data": {
      "text/plain": [
       "False"
      ]
     },
     "execution_count": 37,
     "metadata": {},
     "output_type": "execute_result"
    }
   ],
   "source": [
    "asistencia == falta"
   ]
  },
  {
   "cell_type": "markdown",
   "id": "9012bab4",
   "metadata": {},
   "source": [
    "## 7. Create a list that contains the following elements:A string, a boolean value, two numeric values (of any type) and two strings representing your favorite music artists"
   ]
  },
  {
   "cell_type": "code",
   "execution_count": 38,
   "id": "0e3215db",
   "metadata": {},
   "outputs": [],
   "source": [
    "Grupo_4 = [\"Santiago, Jakeline y Karen\", True, 3, 30.0, [\"Calle 13\", \"Super Grupo\"] ]"
   ]
  },
  {
   "cell_type": "code",
   "execution_count": 39,
   "id": "268bf1d3",
   "metadata": {},
   "outputs": [
    {
     "data": {
      "text/plain": [
       "['Santiago, Jakeline y Karen', True, 3, 30.0, ['Calle 13', 'Super Grupo']]"
      ]
     },
     "execution_count": 39,
     "metadata": {},
     "output_type": "execute_result"
    }
   ],
   "source": [
    "Grupo_4"
   ]
  },
  {
   "cell_type": "markdown",
   "id": "ae633236",
   "metadata": {},
   "source": [
    "## Access the first and the last element"
   ]
  },
  {
   "cell_type": "code",
   "execution_count": 40,
   "id": "251e5a9e",
   "metadata": {},
   "outputs": [
    {
     "data": {
      "text/plain": [
       "'Santiago, Jaekline y Karen'"
      ]
     },
     "execution_count": 40,
     "metadata": {},
     "output_type": "execute_result"
    }
   ],
   "source": [
    "Grupo_4[0]"
   ]
  },
  {
   "cell_type": "code",
   "execution_count": 42,
   "id": "df172722",
   "metadata": {},
   "outputs": [
    {
     "data": {
      "text/plain": [
       "['Calle 13', 'Super Grupo']"
      ]
     },
     "execution_count": 42,
     "metadata": {},
     "output_type": "execute_result"
    }
   ],
   "source": [
    "Grupo_4[-1]"
   ]
  },
  {
   "cell_type": "markdown",
   "id": "2692b141",
   "metadata": {},
   "source": [
    "## Add a new string"
   ]
  },
  {
   "cell_type": "code",
   "execution_count": 44,
   "id": "b95c6def",
   "metadata": {},
   "outputs": [],
   "source": [
    "Grupo_4.append(\"cientificos sociales\")"
   ]
  },
  {
   "cell_type": "code",
   "execution_count": 45,
   "id": "4aa5e3cc",
   "metadata": {},
   "outputs": [
    {
     "data": {
      "text/plain": [
       "['Santiago, Jakeline y Karen',\n",
       " True,\n",
       " 3,\n",
       " 30.0,\n",
       " ['Calle 13', 'Super Grupo'],\n",
       " 'cientificos sociales']"
      ]
     },
     "execution_count": 45,
     "metadata": {},
     "output_type": "execute_result"
    }
   ],
   "source": [
    "Grupo_4"
   ]
  },
  {
   "cell_type": "markdown",
   "id": "c6b51521",
   "metadata": {},
   "source": [
    "## Remove the boolean value"
   ]
  },
  {
   "cell_type": "code",
   "execution_count": 47,
   "id": "4e0378bb",
   "metadata": {},
   "outputs": [],
   "source": [
    "Grupo_4.remove(True)"
   ]
  },
  {
   "cell_type": "code",
   "execution_count": 48,
   "id": "6c120718",
   "metadata": {},
   "outputs": [
    {
     "data": {
      "text/plain": [
       "['Santiago, Jakeline y Karen',\n",
       " 3,\n",
       " 30.0,\n",
       " ['Calle 13', 'Super Grupo'],\n",
       " 'cientificos sociales']"
      ]
     },
     "execution_count": 48,
     "metadata": {},
     "output_type": "execute_result"
    }
   ],
   "source": [
    "Grupo_4"
   ]
  },
  {
   "cell_type": "markdown",
   "id": "dd7235ce-b649-4dc0-b98e-ee5801b77a62",
   "metadata": {},
   "source": [
    "## 8. Define a tuple that contains: A string, a boolean and a tuple with three numeric values"
   ]
  },
  {
   "cell_type": "code",
   "execution_count": 3,
   "id": "1837e3db-ed79-44e5-8f08-32dfcf64daf6",
   "metadata": {},
   "outputs": [],
   "source": [
    "tupla_04 = (\"Hola, mundo\", False, (20, 16, 250))"
   ]
  },
  {
   "cell_type": "code",
   "execution_count": 4,
   "id": "1df9e519-9b92-4135-9e0d-0b9bc07361be",
   "metadata": {},
   "outputs": [
    {
     "name": "stdout",
     "output_type": "stream",
     "text": [
      "Tupla del Grupo_04 ('Hola, mundo', False, (20, 16, 250))\n"
     ]
    }
   ],
   "source": [
    "print(\"Tupla del Grupo_04\", tupla_04)"
   ]
  },
  {
   "cell_type": "markdown",
   "id": "50598e50-06ce-4e8a-9c58-acad74b7198c",
   "metadata": {},
   "source": [
    "Explicación:"
   ]
  },
  {
   "cell_type": "code",
   "execution_count": 6,
   "id": "5c7d35de-f57f-4561-aa42-f685ecef63eb",
   "metadata": {},
   "outputs": [],
   "source": [
    "# Una tupla es inmutable porque no se permiten cambios después de su creación"
   ]
  },
  {
   "cell_type": "markdown",
   "id": "b2e7a913-fd41-4482-9c82-08d01c33a240",
   "metadata": {},
   "source": [
    "Ejemplo:"
   ]
  },
  {
   "cell_type": "code",
   "execution_count": 7,
   "id": "0e65adf4-5604-4887-9181-3bc468ca1543",
   "metadata": {},
   "outputs": [
    {
     "ename": "TypeError",
     "evalue": "'tuple' object does not support item assignment",
     "output_type": "error",
     "traceback": [
      "\u001b[1;31m---------------------------------------------------------------------------\u001b[0m",
      "\u001b[1;31mTypeError\u001b[0m                                 Traceback (most recent call last)",
      "Cell \u001b[1;32mIn[7], line 1\u001b[0m\n\u001b[1;32m----> 1\u001b[0m tupla_04[\u001b[38;5;241m0\u001b[39m] \u001b[38;5;241m=\u001b[39m \u001b[38;5;124m\"\u001b[39m\u001b[38;5;124mAdiós, mundo\u001b[39m\u001b[38;5;124m\"\u001b[39m\n",
      "\u001b[1;31mTypeError\u001b[0m: 'tuple' object does not support item assignment"
     ]
    }
   ],
   "source": [
    "tupla_04[0] = \"Adiós, mundo\" "
   ]
  },
  {
   "cell_type": "markdown",
   "id": "7ef4c79a-942c-4fd8-85f2-5ca73044b2fa",
   "metadata": {},
   "source": [
    "## 9. Write a Python function named movie_summary that takes as argument a dictionary of movies with the following structure:"
   ]
  },
  {
   "cell_type": "code",
   "execution_count": 52,
   "id": "8a1ac3e4-a0f7-4d37-81ff-1f7689ece93e",
   "metadata": {},
   "outputs": [],
   "source": [
    "def movie_summary(movies):\n",
    "    summary = []\n",
    "    for name, info in movies.items():\n",
    "        sentence = f'The movie {name} belongs to the {info[\"genre\"]} genre and was release in {info[\"year\"]}.'\n",
    "        print(sentence)\n",
    "        summary.append(sentence)"
   ]
  },
  {
   "cell_type": "code",
   "execution_count": 11,
   "id": "4aad8532-9929-45b4-8024-c460eb257f3a",
   "metadata": {},
   "outputs": [],
   "source": [
    "movies = {\n",
    "  \"Inception\": {\"year\": 2010, \"genre\": \"Sci-Fi\"},\n",
    "  \"Parasite\": {\"year\": 2019, \"genre\": \"Drama\"},\n",
    "  \"Whiplash\": {\"year\": 2014, \"genre\": \"Drama\"}\n",
    "}"
   ]
  },
  {
   "cell_type": "code",
   "execution_count": 53,
   "id": "23373409-5dd7-4dc2-8c67-fe5b5eb7b0cc",
   "metadata": {},
   "outputs": [
    {
     "name": "stdout",
     "output_type": "stream",
     "text": [
      "The movie Inception belongs to the Sci-Fi genre and was release in 2010.\n",
      "The movie Parasite belongs to the Drama genre and was release in 2019.\n",
      "The movie Whiplash belongs to the Drama genre and was release in 2014.\n"
     ]
    }
   ],
   "source": [
    "movie_summary(movies)"
   ]
  },
  {
   "cell_type": "markdown",
   "id": "0310f10a-51ac-49e7-88f9-1d54bc8b0608",
   "metadata": {},
   "source": [
    "## 10. Using NumPy, generate a 4x4 matrix with random integers between 1 and 100:"
   ]
  },
  {
   "cell_type": "markdown",
   "id": "c4c6594e-fca7-4eaa-9d97-9b3604c1c5c1",
   "metadata": {},
   "source": [
    "Matrix"
   ]
  },
  {
   "cell_type": "code",
   "execution_count": 59,
   "id": "8c11357e-5090-4c31-9be4-e259c02662bf",
   "metadata": {},
   "outputs": [
    {
     "name": "stdout",
     "output_type": "stream",
     "text": [
      "Matrix:\n",
      " [[88 78  5 19]\n",
      " [ 3  4 14 29]\n",
      " [86 39 31 84]\n",
      " [23 56 26 58]]\n"
     ]
    }
   ],
   "source": [
    "import numpy as np\n",
    "\n",
    "matrix = np.random.randint(1, 100, size=(4,4))\n",
    "print(\"Matrix:\\n\", matrix)"
   ]
  },
  {
   "cell_type": "markdown",
   "id": "ec31da14-07fc-4a2b-ae19-f0c5969b3fd8",
   "metadata": {},
   "source": [
    "Then calculate:"
   ]
  },
  {
   "cell_type": "code",
   "execution_count": 61,
   "id": "b8ddd51b-9520-432c-a37d-e223e3ce732a",
   "metadata": {},
   "outputs": [
    {
     "name": "stdout",
     "output_type": "stream",
     "text": [
      "Mean per column: [50.   44.25 19.   47.5 ]\n"
     ]
    }
   ],
   "source": [
    "# Media\n",
    "mean_cols = np.mean(matrix, axis=0)\n",
    "print(\"Mean per column:\", mean_cols)"
   ]
  },
  {
   "cell_type": "code",
   "execution_count": 63,
   "id": "a6eb46ea-08bc-4088-a73a-1fd7728134d6",
   "metadata": {},
   "outputs": [
    {
     "name": "stdout",
     "output_type": "stream",
     "text": [
      "Sum of main diagonal: 181\n"
     ]
    }
   ],
   "source": [
    "# Mean\n",
    "diag_sum = np.trace(matrix)\n",
    "print(\"Sum of main diagonal:\", diag_sum)"
   ]
  },
  {
   "cell_type": "code",
   "execution_count": null,
   "id": "ab0959b2-bae7-4385-9ab9-09437b7ee37c",
   "metadata": {},
   "outputs": [],
   "source": []
  }
 ],
 "metadata": {
  "kernelspec": {
   "display_name": "Python [conda env:base] *",
   "language": "python",
   "name": "conda-base-py"
  },
  "language_info": {
   "codemirror_mode": {
    "name": "ipython",
    "version": 3
   },
   "file_extension": ".py",
   "mimetype": "text/x-python",
   "name": "python",
   "nbconvert_exporter": "python",
   "pygments_lexer": "ipython3",
   "version": "3.13.5"
  }
 },
 "nbformat": 4,
 "nbformat_minor": 5
}
