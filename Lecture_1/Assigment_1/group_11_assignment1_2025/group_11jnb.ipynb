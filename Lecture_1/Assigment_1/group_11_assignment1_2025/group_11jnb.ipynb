{
 "cells": [
  {
   "cell_type": "markdown",
   "id": "6a140cae",
   "metadata": {},
   "source": [
    "# Part 2 – Data Types and Data Structures"
   ]
  },
  {
   "cell_type": "markdown",
   "id": "e1667148",
   "metadata": {},
   "source": [
    "## 2.6 Declare a variable for each of the following types: int, float, string, and boolean. Then print the type of each variable using the type() function."
   ]
  },
  {
   "cell_type": "code",
   "execution_count": 7,
   "id": "88f5d6c5",
   "metadata": {},
   "outputs": [
    {
     "name": "stdout",
     "output_type": "stream",
     "text": [
      "<class 'int'>\n",
      "<class 'float'>\n",
      "<class 'str'>\n",
      "<class 'bool'>\n"
     ]
    }
   ],
   "source": [
    "int_var = 11\n",
    "float_var = 11.0\n",
    "string_var = \"GROUP ELEVEN\"\n",
    "boolean_var = 11>10\n",
    "\n",
    "# Print the type of each variable\n",
    "print(type(int_var))\n",
    "print(type(float_var))\n",
    "print(type(string_var))\n",
    "print(type(boolean_var))"
   ]
  },
  {
   "cell_type": "markdown",
   "id": "502cf2a7",
   "metadata": {},
   "source": [
    "## 2.7 Create a list that contains the following elements:\n",
    "A string, A boolean value, Two numeric values (of any type), A list with two strings representing your favorite music artists\n"
   ]
  },
  {
   "cell_type": "code",
   "execution_count": 8,
   "id": "1ff59fe9",
   "metadata": {},
   "outputs": [
    {
     "name": "stdout",
     "output_type": "stream",
     "text": [
      "['GROUP ELEVEN!', True, 42, 11.0, ['Enrique Bumbury', 'Maykel Blanco']]\n"
     ]
    }
   ],
   "source": [
    "list_1 = [\n",
    "    \"GROUP ELEVEN!\",      # A string\n",
    "    11>10,                # A boolean value\n",
    "    42,                   # First numeric value (integer)\n",
    "    11.0,                 # Second numeric value (float)\n",
    "    [\"Enrique Bumbury\", \"Maykel Blanco\"]  # List with two strings (favorite music artists)\n",
    "]\n",
    "\n",
    "# Print the list\n",
    "print(list_1)"
   ]
  },
  {
   "cell_type": "markdown",
   "id": "3966080b",
   "metadata": {},
   "source": [
    "*From that list:*\n",
    "2.2.1 Access the first and the last element"
   ]
  },
  {
   "cell_type": "code",
   "execution_count": 9,
   "id": "dfce2a25",
   "metadata": {},
   "outputs": [
    {
     "name": "stdout",
     "output_type": "stream",
     "text": [
      "GROUP ELEVEN!\n",
      "['Enrique Bumbury', 'Maykel Blanco']\n"
     ]
    }
   ],
   "source": [
    "first_element=list_1[0]\n",
    "last_element=list_1[4]\n",
    "print(first_element)\n",
    "print(last_element)"
   ]
  },
  {
   "cell_type": "markdown",
   "id": "b3cf4064",
   "metadata": {},
   "source": [
    "2.2.2 Add a new string\n"
   ]
  },
  {
   "cell_type": "code",
   "execution_count": 10,
   "id": "4213832f",
   "metadata": {},
   "outputs": [],
   "source": [
    "list_1.append(\"Led Zepellin\")"
   ]
  },
  {
   "cell_type": "markdown",
   "id": "ca806d24",
   "metadata": {},
   "source": [
    "2.2.3 Remove the boolean value"
   ]
  },
  {
   "cell_type": "code",
   "execution_count": 11,
   "id": "2b9496d9-adc8-44e4-92da-25701ba0c828",
   "metadata": {},
   "outputs": [],
   "source": [
    "list_1.remove(True)"
   ]
  },
  {
   "cell_type": "markdown",
   "id": "f48dbacd",
   "metadata": {},
   "source": [
    "2.2.4 Print the modified list"
   ]
  },
  {
   "cell_type": "code",
   "execution_count": 12,
   "id": "50e4555c",
   "metadata": {},
   "outputs": [
    {
     "name": "stdout",
     "output_type": "stream",
     "text": [
      "Modified list: ['GROUP ELEVEN!', 42, 11.0, ['Enrique Bumbury', 'Maykel Blanco'], 'Led Zepellin']\n"
     ]
    }
   ],
   "source": [
    "print(\"Modified list:\", list_1)"
   ]
  },
  {
   "cell_type": "markdown",
   "id": "eba17f36-c32f-47d9-bef7-6269e83ac20c",
   "metadata": {},
   "source": [
    "## 2.8. Define a tuple that contains:\n",
    "A string,\n",
    "A boolean,\n",
    "A tuple with three numeric values (of any type)"
   ]
  },
  {
   "cell_type": "code",
   "execution_count": 13,
   "id": "c4593e33",
   "metadata": {},
   "outputs": [
    {
     "name": "stdout",
     "output_type": "stream",
     "text": [
      "Error: 'tuple' object does not support item assignment\n"
     ]
    }
   ],
   "source": [
    "# Definimos la tupla\n",
    "my_tuple = (\"Hola\", True, (10, 20.5, 30))\n",
    "\n",
    "# Explicación: las tuplas son inmutables, es decir, no se pueden modificar después de ser creadas.\n",
    "# Probemos cambiar el primer elemento para demostrarlo:\n",
    "try:\n",
    "    my_tuple[0] = \"Holi\"\n",
    "except TypeError as e:\n",
    "    print(\"Error:\", e)  \n"
   ]
  },
  {
   "cell_type": "markdown",
   "id": "2b9a0fcb-e955-4a44-b2de-e6b00b9cd706",
   "metadata": {},
   "source": [
    "## 2.9. Write a Python function named movie_summary that takes as argument a dictionary of movies with the following structure:\n",
    "movies = {\n",
    "  \"Inception\": {\"year\": 2010, \"genre\": \"Sci-Fi\"},\n",
    "  \"Parasite\": {\"year\": 2019, \"genre\": \"Drama\"},\n",
    "  \"Whiplash\": {\"year\": 2014, \"genre\": \"Drama\"}\n",
    "}"
   ]
  },
  {
   "cell_type": "code",
   "execution_count": 14,
   "id": "a047acb9",
   "metadata": {},
   "outputs": [
    {
     "name": "stdout",
     "output_type": "stream",
     "text": [
      "['The movie Coraline belongs to the Dark Fantasy genre and was released in 2009.', 'The movie Spirited Away belongs to the Fantasy genre and was released in 2001.', 'The movie City of God belongs to the Crime Drama genre and was released in 2002.']\n"
     ]
    }
   ],
   "source": [
    "def movie_summary(movies):\n",
    "    summaries = []\n",
    "    for title, info in movies.items():\n",
    "        sentence = f\"The movie {title} belongs to the {info['genre']} genre and was released in {info['year']}.\"\n",
    "        summaries.append(sentence)\n",
    "    return summaries\n",
    "\n",
    "# Diccionario con mis películas favoritas\n",
    "movies = {\n",
    "    \"Coraline\": {\"year\": 2009, \"genre\": \"Dark Fantasy\"},\n",
    "    \"Spirited Away\": {\"year\": 2001, \"genre\": \"Fantasy\"},\n",
    "    \"City of God\": {\"year\": 2002, \"genre\": \"Crime Drama\"}\n",
    "}\n",
    "\n",
    "print(movie_summary(movies))\n"
   ]
  },
  {
   "cell_type": "markdown",
   "id": "30c3474b-e9c5-44f6-b90f-b91e628c9bc2",
   "metadata": {},
   "source": [
    "## 2.10. Using NumPy, generate a 4x4 matrix with random integers between 1 and 100.\n",
    "Then calculate: \n",
    "The mean per column, \n",
    "The sum of the values in the main diagonal"
   ]
  },
  {
   "cell_type": "code",
   "execution_count": 15,
   "id": "870f5b86-b9a9-47a4-afb5-08f8d263d8f0",
   "metadata": {},
   "outputs": [
    {
     "name": "stdout",
     "output_type": "stream",
     "text": [
      "4x4 matrix:\n",
      " [[66 89 15 13]\n",
      " [16 19 86  4]\n",
      " [25 32 23 80]\n",
      " [51 42 96 88]]\n",
      "mean per column: [39.5  45.5  55.   46.25]\n",
      "sum of the values in the main diagonal: 196\n"
     ]
    }
   ],
   "source": [
    "import numpy as np\n",
    "\n",
    "# Generamos matriz aleatoria 4x4 con enteros entre 1 y 100\n",
    "matrix = np.random.randint(1, 101, size=(4, 4))\n",
    "print(\"4x4 matrix:\\n\", matrix)\n",
    "\n",
    "# Media por columna\n",
    "mean_per_column = np.mean(matrix, axis=0)\n",
    "print(\"mean per column:\", mean_per_column)\n",
    "\n",
    "# Suma de la diagonal principal\n",
    "sum_diagonal = np.trace(matrix)\n",
    "print(\"sum of the values in the main diagonal:\", sum_diagonal)\n"
   ]
  },
  {
   "cell_type": "markdown",
   "id": "0aef31e5-fb3a-4f09-a3d2-173349b3390e",
   "metadata": {},
   "source": [
    "# Part 3 – Pandas Series"
   ]
  },
  {
   "cell_type": "code",
   "execution_count": 1,
   "id": "29f1b2ab-2bef-48b2-bd25-e3dc3d3f5076",
   "metadata": {},
   "outputs": [],
   "source": [
    "import pandas as pd"
   ]
  },
  {
   "cell_type": "markdown",
   "id": "9c45c8fd",
   "metadata": {},
   "source": [
    "## 3.11 From the list of grades [15, 17, 20, 11, 13, 18, 19], create a Pandas Series assigning student names as the index (for example: \"Ana\", \"Jorge\", \"Valeria\", etc.)."
   ]
  },
  {
   "cell_type": "code",
   "execution_count": 2,
   "id": "d39877f8",
   "metadata": {},
   "outputs": [
    {
     "name": "stdout",
     "output_type": "stream",
     "text": [
      "Student Grades Series:\n",
      "Ana         15\n",
      "Jorge       17\n",
      "Valeria     20\n",
      "Carlos      11\n",
      "Sofia       13\n",
      "Miguel      18\n",
      "Isabella    19\n",
      "Name: Grades, dtype: int64\n",
      "\n",
      "Series Info:\n",
      "Data type: int64\n",
      "Number of students: 7\n"
     ]
    }
   ],
   "source": [
    "# Listado de notas\n",
    "grades = [15, 17, 20, 11, 13, 18, 19]\n",
    "\n",
    "# Nombre de los estudiantes para los índices\n",
    "student_names = [\"Ana\", \"Jorge\", \"Valeria\", \"Carlos\", \"Sofia\", \"Miguel\", \"Isabella\"]\n",
    "\n",
    "# Crear un Panda Series con los nombres de los estudiantes como índices\n",
    "student_grades = pd.Series(grades, index=student_names, name=\"Grades\")\n",
    "\n",
    "# Mostrar las series\n",
    "print(\"Student Grades Series:\")\n",
    "print(student_grades)\n",
    "print(f\"\\nSeries Info:\")\n",
    "print(f\"Data type: {student_grades.dtype}\")\n",
    "print(f\"Number of students: {len(student_grades)}\")"
   ]
  },
  {
   "cell_type": "markdown",
   "id": "2414cb06",
   "metadata": {},
   "source": [
    "## 3.12 Using the Series created in the previous step, calculate:\n",
    "\n",
    "The average of the grades.\n",
    "The student with the highest grade (use .idxmax()).\n",
    "The student with the lowest grade (use .idxmin())."
   ]
  },
  {
   "cell_type": "code",
   "execution_count": 4,
   "id": "f52b292e",
   "metadata": {},
   "outputs": [
    {
     "name": "stdout",
     "output_type": "stream",
     "text": [
      "Average grade: 16.14\n",
      "Student with highest grade: Valeria (Grade: 20)\n",
      "Student with lowest grade: Carlos (Grade: 11)\n"
     ]
    }
   ],
   "source": [
    "# Promedio de las notas\n",
    "average_grade = student_grades.mean()\n",
    "print(f\"Average grade: {average_grade:.2f}\")\n",
    "\n",
    "# Estudiante con la nota más alta usando .idxmax() \n",
    "student_highest = student_grades.idxmax()\n",
    "highest_grade = student_grades.max()\n",
    "print(f\"Student with highest grade: {student_highest} (Grade: {highest_grade})\")\n",
    "\n",
    "# Estudiante con la nota más baja usando .idxmin()\n",
    "student_lowest = student_grades.idxmin()\n",
    "lowest_grade = student_grades.min()\n",
    "print(f\"Student with lowest grade: {student_lowest} (Grade: {lowest_grade})\")"
   ]
  },
  {
   "cell_type": "markdown",
   "id": "49035853",
   "metadata": {},
   "source": [
    "## 3.13 Create a Series from a dictionary of countries and their capitals.\n",
    "Filter and display only those countries whose capital has more than 6 letters."
   ]
  },
  {
   "cell_type": "code",
   "execution_count": 7,
   "id": "7cc9df9d",
   "metadata": {},
   "outputs": [
    {
     "name": "stdout",
     "output_type": "stream",
     "text": [
      "Original Series:\n",
      "Country\n",
      "USA               Washington\n",
      "France                 Paris\n",
      "Germany               Berlin\n",
      "Japan                  Tokyo\n",
      "Brazil              Brasilia\n",
      "Australia           Canberra\n",
      "Canada                Ottawa\n",
      "India              New Delhi\n",
      "China                Beijing\n",
      "Russia                Moscow\n",
      "Italy                   Rome\n",
      "Spain                 Madrid\n",
      "UK                    London\n",
      "Mexico           Mexico City\n",
      "Argentina       Buenos Aires\n",
      "Egypt                  Cairo\n",
      "South Africa       Cape Town\n",
      "Thailand             Bangkok\n",
      "Norway                  Oslo\n",
      "Sweden             Stockholm\n",
      "Name: Capital, dtype: object\n",
      "\n",
      "==================================================\n",
      "\n",
      "Countries with capitals having more than 6 letters:\n",
      "Country\n",
      "USA               Washington\n",
      "Brazil              Brasilia\n",
      "Australia           Canberra\n",
      "India              New Delhi\n",
      "China                Beijing\n",
      "Mexico           Mexico City\n",
      "Argentina       Buenos Aires\n",
      "South Africa       Cape Town\n",
      "Thailand             Bangkok\n",
      "Sweden             Stockholm\n",
      "Name: Capital, dtype: object\n",
      "\n",
      "Total countries with capitals > 6 letters: 10\n",
      "\n",
      "==================================================\n",
      "DETAILED RESULTS:\n",
      "==================================================\n",
      "USA             -> Washington (10 letters)\n",
      "Brazil          -> Brasilia (8 letters)\n",
      "Australia       -> Canberra (8 letters)\n",
      "India           -> New Delhi (9 letters)\n",
      "China           -> Beijing (7 letters)\n",
      "Mexico          -> Mexico City (11 letters)\n",
      "Argentina       -> Buenos Aires (12 letters)\n",
      "South Africa    -> Cape Town (9 letters)\n",
      "Thailand        -> Bangkok (7 letters)\n",
      "Sweden          -> Stockholm (9 letters)\n"
     ]
    }
   ],
   "source": [
    "# Crear un diccionario de países con sus capitales\n",
    "countries_capitals = {\n",
    "    'USA': 'Washington',\n",
    "    'France': 'Paris',\n",
    "    'Germany': 'Berlin',\n",
    "    'Japan': 'Tokyo',\n",
    "    'Brazil': 'Brasilia',\n",
    "    'Australia': 'Canberra',\n",
    "    'Canada': 'Ottawa',\n",
    "    'India': 'New Delhi',\n",
    "    'China': 'Beijing',\n",
    "    'Russia': 'Moscow',\n",
    "    'Italy': 'Rome',\n",
    "    'Spain': 'Madrid',\n",
    "    'UK': 'London',\n",
    "    'Mexico': 'Mexico City',\n",
    "    'Argentina': 'Buenos Aires',\n",
    "    'Egypt': 'Cairo',\n",
    "    'South Africa': 'Cape Town',\n",
    "    'Thailand': 'Bangkok',\n",
    "    'Norway': 'Oslo',\n",
    "    'Sweden': 'Stockholm'\n",
    "}\n",
    "\n",
    "# Crear un Panda Series desde el diccionario\n",
    "countries_series = pd.Series(countries_capitals, name='Capital')\n",
    "countries_series.index.name = 'Country'\n",
    "\n",
    "print(\"Original Series:\")\n",
    "print(countries_series)\n",
    "print(\"\\n\" + \"=\"*50 + \"\\n\")\n",
    "\n",
    "# Filtrar los países cuyas capitales tengan más de 6 letras\n",
    "filtered_series = countries_series[countries_series.str.len() > 6]\n",
    "\n",
    "print(\"Countries with capitals having more than 6 letters:\")\n",
    "print(filtered_series)\n",
    "print(f\"\\nTotal countries with capitals > 6 letters: {len(filtered_series)}\")\n",
    "\n",
    "# Mostrar los resultados en un formato más detallado\n",
    "print(\"\\n\" + \"=\"*50)\n",
    "print(\"DETAILED RESULTS:\")\n",
    "print(\"=\"*50)\n",
    "for country, capital in filtered_series.items():\n",
    "    print(f\"{country:15} -> {capital} ({len(capital)} letters)\")"
   ]
  },
  {
   "cell_type": "markdown",
   "id": "f1a9ce23",
   "metadata": {},
   "source": [
    "## 3.14 Create a Series containing several strings and convert all its elements to uppercase using the .apply(str.upper) method."
   ]
  },
  {
   "cell_type": "code",
   "execution_count": 8,
   "id": "71528cc3",
   "metadata": {},
   "outputs": [
    {
     "name": "stdout",
     "output_type": "stream",
     "text": [
      "Original Series (lowercase/mixed case):\n",
      "========================================\n",
      "0                  geography\n",
      "1                    economy\n",
      "2               data science\n",
      "3           machine learning\n",
      "4    artificial intelligence\n",
      "5              deep learning\n",
      "6           spatial analysis\n",
      "7                geodatabase\n",
      "Name: Original_Strings, dtype: object\n",
      "\n",
      "Series converted to UPPERCASE using .apply(str.upper):\n",
      "=======================================================\n",
      "0                  GEOGRAPHY\n",
      "1                    ECONOMY\n",
      "2               DATA SCIENCE\n",
      "3           MACHINE LEARNING\n",
      "4    ARTIFICIAL INTELLIGENCE\n",
      "5              DEEP LEARNING\n",
      "6           SPATIAL ANALYSIS\n",
      "7                GEODATABASE\n",
      "Name: Original_Strings, dtype: object\n",
      "\n"
     ]
    }
   ],
   "source": [
    "# Crear una Serie que contenga varios objetos tipo string\n",
    "string_data = [\n",
    "    \"geography\",\n",
    "    \"economy\",\n",
    "    \"data science\",\n",
    "    \"machine learning\",\n",
    "    \"artificial intelligence\",\n",
    "    \"deep learning\",\n",
    "    \"spatial analysis\",\n",
    "    \"geodatabase\"\n",
    "]\n",
    "\n",
    "# Crear el Panda Series\n",
    "original_series = pd.Series(string_data, name=\"Original_Strings\")\n",
    "\n",
    "print(\"Original Series (lowercase/mixed case):\")\n",
    "print(\"=\" * 40)\n",
    "print(original_series)\n",
    "print()\n",
    "\n",
    "# Convertir todos los elementos a mayúsculas usando\n",
    "uppercase_series = original_series.apply(str.upper) .apply(str.upper) \n",
    "\n",
    "print(\"Series converted to UPPERCASE using .apply(str.upper):\")\n",
    "print(\"=\" * 55)\n",
    "print(uppercase_series)\n",
    "print()"
   ]
  }
 ],
 "metadata": {
  "kernelspec": {
   "display_name": "Python 3 (ipykernel)",
   "language": "python",
   "name": "python3"
  },
  "language_info": {
   "codemirror_mode": {
    "name": "ipython",
    "version": 3
   },
   "file_extension": ".py",
   "mimetype": "text/x-python",
   "name": "python",
   "nbconvert_exporter": "python",
   "pygments_lexer": "ipython3",
   "version": "3.9.13"
  }
 },
 "nbformat": 4,
 "nbformat_minor": 5
}
