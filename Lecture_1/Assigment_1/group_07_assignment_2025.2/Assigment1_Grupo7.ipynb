{
 "cells": [
  {
   "cell_type": "markdown",
   "id": "be587dc7",
   "metadata": {},
   "source": [
    "# Parte 2 – Tipos de datos y estructuras de datos  \n",
    "Este notebook contiene la **Parte 2** (preguntas 6–8) resueltas, con explicaciones breves y código ejecutable.\n"
   ]
  },
  {
   "cell_type": "markdown",
   "id": "53fa891e",
   "metadata": {},
   "source": [
    "## 6. Declarar variables de distintos tipos y mostrar su tipo\n",
    "\n",
    "Crea una variable para cada tipo: `int`, `float`, `string`, `bool`. Luego imprime el tipo con `type()`.\n"
   ]
  },
  {
   "cell_type": "code",
   "execution_count": 33,
   "id": "fbacb42b",
   "metadata": {
    "scrolled": true
   },
   "outputs": [
    {
     "name": "stdout",
     "output_type": "stream",
     "text": [
      "42 <class 'int'>\n",
      "3.14159 <class 'float'>\n",
      "Hola grupo 7 <class 'str'>\n",
      "True <class 'bool'>\n"
     ]
    }
   ],
   "source": [
    "# 6) Variables y sus tipos\n",
    "# int\n",
    "entero = 42  \n",
    "\n",
    "# float\n",
    "flotante = 3.14159  \n",
    "\n",
    "# string\n",
    "cadena = \"Hola grupo 7\"\n",
    "\n",
    "# bool\n",
    "booleano = True           \n",
    "\n",
    "# Impresion de las variables y sus tipos\n",
    "print(entero, type(entero))\n",
    "print(flotante, type(flotante))\n",
    "print(cadena, type(cadena))\n",
    "print(booleano, type(booleano))"
   ]
  },
  {
   "cell_type": "markdown",
   "id": "b975adc1",
   "metadata": {},
   "source": [
    "## 7. Lista con elementos heterogéneos y operaciones\n",
    "\n",
    "Crear una lista con:  \n",
    "- Una cadena  \n",
    "- Un valor booleano  \n",
    "- Dos valores numéricos (cualquier tipo)  \n",
    "- Una **lista de dos cadenas** con tus artistas musicales favoritos  \n",
    "\n",
    "Luego:  \n",
    "- Accede al primer y al último elemento  \n",
    "- Agrega una nueva cadena  \n",
    "- Elimina el valor booleano\n"
   ]
  },
  {
   "cell_type": "code",
   "execution_count": 2,
   "id": "35d466d5",
   "metadata": {},
   "outputs": [
    {
     "name": "stdout",
     "output_type": "stream",
     "text": [
      "['Python', True, 2025, 3.14, ['Alex Zurdo', 'Redimidos']]\n"
     ]
    }
   ],
   "source": [
    "# 7) Lista y operaciones\n",
    "elementos = [\n",
    "    \"Python\",           # cadena\n",
    "    True,               # booleano\n",
    "    2025,               # numérico\n",
    "    3.14,               # numérico\n",
    "    [\"Alex Zurdo\", \"Redimidos\"]  # lista de dos cadenas \n",
    "            ]\n",
    "\n",
    "print(elementos)"
   ]
  },
  {
   "cell_type": "code",
   "execution_count": 3,
   "id": "037e45f0-18f2-43b0-bd5d-fb666b6c2d4f",
   "metadata": {},
   "outputs": [
    {
     "data": {
      "text/plain": [
       "['Alex Zurdo', 'Redimidos']"
      ]
     },
     "execution_count": 3,
     "metadata": {},
     "output_type": "execute_result"
    }
   ],
   "source": [
    "elementos[-1]"
   ]
  },
  {
   "cell_type": "code",
   "execution_count": 4,
   "id": "2f374860-ee39-489c-90ab-e72b367792d9",
   "metadata": {},
   "outputs": [
    {
     "name": "stdout",
     "output_type": "stream",
     "text": [
      "Primer elemento: Python\n",
      "Último elemento: ['Alex Zurdo', 'Redimidos']\n"
     ]
    }
   ],
   "source": [
    "# Acceso al primer y último elemento\n",
    "primer = elementos[0]\n",
    "ultimo = elementos[-1]\n",
    "print(\"Primer elemento:\", primer)\n",
    "print(\"Último elemento:\", ultimo)\n",
    "\n"
   ]
  },
  {
   "cell_type": "code",
   "execution_count": 5,
   "id": "019e4435-dccf-4934-bdcb-0c8686c1a3ca",
   "metadata": {},
   "outputs": [
    {
     "name": "stdout",
     "output_type": "stream",
     "text": [
      "Tras append: ['Python', True, 2025, 3.14, ['Alex Zurdo', 'Redimidos'], 'nuevo elemento']\n"
     ]
    }
   ],
   "source": [
    "# Agregar una nueva cadena\n",
    "elementos.append(\"nuevo elemento\")\n",
    "print(\"Tras append:\", elementos)\n",
    "\n"
   ]
  },
  {
   "cell_type": "code",
   "execution_count": 6,
   "id": "24235c08-214a-4379-a7cb-7a07767346df",
   "metadata": {},
   "outputs": [
    {
     "name": "stdout",
     "output_type": "stream",
     "text": [
      "['Python', 2025, 3.14, ['Alex Zurdo', 'Redimidos'], 'nuevo elemento']\n"
     ]
    }
   ],
   "source": [
    "# Eliminar el valor booleano (si está presente)\n",
    "if True in elementos:\n",
    "    elementos.remove(True)\n",
    "print(elementos)"
   ]
  },
  {
   "cell_type": "markdown",
   "id": "e930ad06",
   "metadata": {},
   "source": [
    "## 8. Tupla con distintos tipos y demostración de inmutabilidad\n",
    "\n",
    "Define una tupla que contenga:  \n",
    "- Una cadena  \n",
    "- Un booleano  \n",
    "- **Una tupla** con tres valores numéricos (de cualquier tipo)  \n",
    "\n",
    "Explica por qué una tupla es **inmutable** e intenta modificar un elemento para mostrar el error.\n"
   ]
  },
  {
   "cell_type": "code",
   "execution_count": 7,
   "id": "dbe506c7",
   "metadata": {},
   "outputs": [
    {
     "name": "stdout",
     "output_type": "stream",
     "text": [
      "Tupla original: ('Lima', False, (10, 20.5, -3))\n"
     ]
    }
   ],
   "source": [
    "# 8) Tuplas e inmutabilidad\n",
    "tupla = (\"Lima\", False, (10, 20.5, -3))\n",
    "\n",
    "print(\"Tupla original:\", tupla)\n"
   ]
  },
  {
   "cell_type": "code",
   "execution_count": 8,
   "id": "2ad4162f-4e68-4d25-b8d9-013eb0762bde",
   "metadata": {},
   "outputs": [
    {
     "name": "stdout",
     "output_type": "stream",
     "text": [
      "Las tuplas son inmutables: una vez creadas, no es posible realizar cambios, reasignar, agregar o eliminar sus elementosEsto permite que se usen como claves en diccionarios (si sus elementos también son inmutables) Algunos beneficios pueden ser que garantiza que su contenido no cambie accidentalmente.\n"
     ]
    }
   ],
   "source": [
    "explicacion = (\n",
    "    \"Las tuplas son inmutables: una vez creadas, no es posible realizar cambios, reasignar, agregar o eliminar sus elementos\"\n",
    "    \"Esto permite que se usen como claves en diccionarios (si sus elementos también son inmutables)\"\n",
    "    \" Algunos beneficios pueden ser que garantiza que su contenido no cambie accidentalmente.\"\n",
    ")\n",
    "print(explicacion)\n",
    "\n"
   ]
  },
  {
   "cell_type": "code",
   "execution_count": 9,
   "id": "7a73ccf7-4db7-419b-a9dc-75d777b7fbed",
   "metadata": {},
   "outputs": [
    {
     "name": "stdout",
     "output_type": "stream",
     "text": [
      "Ocurrió un error\n"
     ]
    }
   ],
   "source": [
    "# Cuando intento de modificar (debe lanzar Ocurrió un error)\n",
    "try:\n",
    "    tupla[0] = \"Cusco\"\n",
    "except:\n",
    "    print(\"Ocurrió un error\")"
   ]
  },
  {
   "cell_type": "markdown",
   "id": "becc4691",
   "metadata": {},
   "source": [
    "## 9. Función `movie_summary(movies_dict)`\n",
    "\n",
    "Dado un diccionario de películas con la forma:  \n",
    "```python\n",
    "movies = {\n",
    "    \"Inception\": {\"year\": 2010, \"genre\": \"Sci-Fi\"},\n",
    "    \"Parasite\": {\"year\": 2019, \"genre\": \"Drama\"},\n",
    "    \"Whiplash\": {\"year\": 2014, \"genre\": \"Drama\"}\n",
    "}\n",
    "```\n",
    "La función debe devolver una **lista** de oraciones:  \n",
    "`\"La película Inception pertenece al género Sci-Fi y se estrenó en 2010.\"`"
   ]
  },
  {
   "cell_type": "code",
   "execution_count": 10,
   "id": "21827cf5-381e-4cc4-80a7-0f44f210770e",
   "metadata": {},
   "outputs": [
    {
     "name": "stdout",
     "output_type": "stream",
     "text": [
      "La película Inception pertenece al género Sci-Fi y fue lanzada en 2010.\n",
      "La película Parasite pertenece al género Drama y fue lanzada en 2019.\n",
      "La película Whiplash pertenece al género Drama y fue lanzada en 2014.\n"
     ]
    }
   ],
   "source": [
    "# Declaración de variables\n",
    "\n",
    "# definir movie\n",
    "movies = {\n",
    "    \"Inception\": {\"year\": 2010, \"genre\": \"Sci-Fi\"},\n",
    "    \"Parasite\": {\"year\": 2019, \"genre\": \"Drama\"},\n",
    "    \"Whiplash\": {\"year\": 2014, \"genre\": \"Drama\"}\n",
    "}\n",
    "\n",
    "# uso de la funcion movie_summary(movies)\n",
    "\n",
    "def movie_summary(movies_dict):\n",
    "    resumen = []\n",
    "    for titulo, info in movies_dict.items():\n",
    "        frase = f\"La película {titulo} pertenece al género {info['genre']} y fue lanzada en {info['year']}.\"\n",
    "        resumen.append(frase)\n",
    "    return resumen\n",
    "\n",
    "\n",
    "# Usar la función\n",
    "for linea in movie_summary(movies):\n",
    "    print(linea)"
   ]
  },
  {
   "cell_type": "markdown",
   "id": "7652e11e",
   "metadata": {},
   "source": [
    "## 10. Usando NumPy , genere una matriz de 4x4 con números enteros aleatorios entre 1 y 100.\n",
    "Luego calcule:\n",
    "\n",
    "La media por columna\n",
    "\n",
    "La suma de los valores en la diagonal principal"
   ]
  },
  {
   "cell_type": "code",
   "execution_count": 11,
   "id": "1052376f",
   "metadata": {},
   "outputs": [
    {
     "name": "stdout",
     "output_type": "stream",
     "text": [
      "Matriz 4x4 aleatoria: [[77 69  4 92]\n",
      " [13 61 92 75]\n",
      " [74  7 28 23]\n",
      " [29 47 75 48]]\n",
      "Media por columna: [48.25 46.   49.75 59.5 ]\n",
      "Suma de la diagonal principal: 214\n"
     ]
    }
   ],
   "source": [
    "# 10) Cálculos con NumPy\n",
    "import numpy as np\n",
    "\n",
    "matriz = np.random.randint(1, 101, size=(4, 4))\n",
    "print(\"Matriz 4x4 aleatoria:\", matriz)\n",
    "\n",
    "media_por_columna = matriz.mean(axis=0)\n",
    "suma_diagonal = np.trace(matriz)\n",
    "\n",
    "print(\"Media por columna:\", media_por_columna)\n",
    "print(\"Suma de la diagonal principal:\", suma_diagonal)"
   ]
  },
  {
   "cell_type": "code",
   "execution_count": 12,
   "id": "f255db55",
   "metadata": {},
   "outputs": [],
   "source": [
    "# Pregunta 11"
   ]
  },
  {
   "cell_type": "code",
   "execution_count": 13,
   "id": "02efc71c",
   "metadata": {},
   "outputs": [],
   "source": [
    "import pandas as pd\n",
    "import numpy as np"
   ]
  },
  {
   "cell_type": "code",
   "execution_count": 14,
   "id": "79ae31a6",
   "metadata": {},
   "outputs": [
    {
     "data": {
      "text/plain": [
       "[15, 17, 20, 11, 13, 18, 19]"
      ]
     },
     "execution_count": 14,
     "metadata": {},
     "output_type": "execute_result"
    }
   ],
   "source": [
    "#we create a list of grades \n",
    "grades = [15, 17, 20, 11, 13, 18, 19]\n",
    "grades"
   ]
  },
  {
   "cell_type": "code",
   "execution_count": 15,
   "id": "8eae1fb1",
   "metadata": {},
   "outputs": [
    {
     "data": {
      "text/plain": [
       "['Ana', 'Jorge', 'Valeria', 'Luis', 'María', 'Carlos', 'Sofía']"
      ]
     },
     "execution_count": 15,
     "metadata": {},
     "output_type": "execute_result"
    }
   ],
   "source": [
    "#we create a list of students\n",
    "students = [\"Ana\", \"Jorge\", \"Valeria\", \"Luis\", \"María\", \"Carlos\", \"Sofía\"]\n",
    "students"
   ]
  },
  {
   "cell_type": "code",
   "execution_count": 16,
   "id": "af166a48",
   "metadata": {},
   "outputs": [
    {
     "data": {
      "text/plain": [
       "Ana        15\n",
       "Jorge      17\n",
       "Valeria    20\n",
       "Luis       11\n",
       "María      13\n",
       "Carlos     18\n",
       "Sofía      19\n",
       "dtype: int64"
      ]
     },
     "execution_count": 16,
     "metadata": {},
     "output_type": "execute_result"
    }
   ],
   "source": [
    "#this scrop creates a DataFrame with the grades and students\n",
    "grades_series = pd.Series(grades, index=students)\n",
    "grades_series"
   ]
  },
  {
   "cell_type": "markdown",
   "id": "b8fd21af",
   "metadata": {},
   "source": [
    "# Pregunta 12\n",
    "## We calculate the average grade, highest and lowest student"
   ]
  },
  {
   "cell_type": "code",
   "execution_count": 35,
   "id": "eec0d54c",
   "metadata": {},
   "outputs": [
    {
     "data": {
      "text/plain": [
       "16.142857142857142"
      ]
     },
     "execution_count": 35,
     "metadata": {},
     "output_type": "execute_result"
    }
   ],
   "source": [
    "#we calculate the average of the grades\n",
    "average = grades_series.mean()\n",
    "average"
   ]
  },
  {
   "cell_type": "code",
   "execution_count": 19,
   "id": "a6466b2a",
   "metadata": {},
   "outputs": [
    {
     "data": {
      "text/plain": [
       "'Valeria'"
      ]
     },
     "execution_count": 19,
     "metadata": {},
     "output_type": "execute_result"
    }
   ],
   "source": [
    "#we calculate the  student with the highest grade\n",
    "highest_student = grades_series.idxmax()\n",
    "highest_student"
   ]
  },
  {
   "cell_type": "code",
   "execution_count": 20,
   "id": "b45752c5",
   "metadata": {},
   "outputs": [
    {
     "data": {
      "text/plain": [
       "20"
      ]
     },
     "execution_count": 20,
     "metadata": {},
     "output_type": "execute_result"
    }
   ],
   "source": [
    "highest_grade = grades_series.max()\n",
    "highest_grade"
   ]
  },
  {
   "cell_type": "code",
   "execution_count": 21,
   "id": "527f8bde",
   "metadata": {},
   "outputs": [
    {
     "data": {
      "text/plain": [
       "'Luis'"
      ]
     },
     "execution_count": 21,
     "metadata": {},
     "output_type": "execute_result"
    }
   ],
   "source": [
    "#we calculate the student with the lowest grade \n",
    "lowest_student = grades_series.idxmin()\n",
    "lowest_student"
   ]
  },
  {
   "cell_type": "code",
   "execution_count": 22,
   "id": "c784e198",
   "metadata": {},
   "outputs": [
    {
     "data": {
      "text/plain": [
       "11"
      ]
     },
     "execution_count": 22,
     "metadata": {},
     "output_type": "execute_result"
    }
   ],
   "source": [
    "lowest_grade = grades_series.min()\n",
    "lowest_grade"
   ]
  },
  {
   "cell_type": "code",
   "execution_count": 23,
   "id": "26cd2798",
   "metadata": {},
   "outputs": [
    {
     "name": "stdout",
     "output_type": "stream",
     "text": [
      "El promedio de notas es de 16.142857142857142\n",
      "La nota más alta 20 es de Valeria\n",
      "La nota más baja 11 es de Luis\n"
     ]
    }
   ],
   "source": [
    "print(\"El promedio de notas es de\", average)\n",
    "print(\"La nota más alta\", highest_grade, \"es de\", highest_student)\n",
    "print(\"La nota más baja\", lowest_grade, \"es de\", lowest_student)"
   ]
  },
  {
   "cell_type": "markdown",
   "id": "b56013de",
   "metadata": {},
   "source": [
    "## Pregunta 13\n",
    " we create the a dictionary of countries and their capitals."
   ]
  },
  {
   "cell_type": "code",
   "execution_count": 36,
   "id": "c77833dc",
   "metadata": {},
   "outputs": [
    {
     "data": {
      "text/plain": [
       "{'Peru': 'Lima',\n",
       " 'Argentina': 'Buenos Aires',\n",
       " 'Brazil': 'Brasilia',\n",
       " 'Colombia': 'Bogota',\n",
       " 'Mexico': 'Ciudad De Mexico',\n",
       " 'Chile': 'Santiago',\n",
       " 'Ecuador': 'Quito',\n",
       " 'Bolivia': 'La Paz',\n",
       " 'Venezuela': 'Caracas',\n",
       " 'Uruguay': 'Montevideo',\n",
       " 'Paraguay': 'Asuncion',\n",
       " 'Canada': 'Ottawa',\n",
       " 'USA': 'Washington',\n",
       " 'France': 'Paris',\n",
       " 'Germany': 'Berlin',\n",
       " 'Italy': 'Rome',\n",
       " 'Spain': 'Madrid',\n",
       " 'Portugal': 'Lisbon',\n",
       " 'UK': 'London',\n",
       " 'Japan': 'Tokyo'}"
      ]
     },
     "execution_count": 36,
     "metadata": {},
     "output_type": "execute_result"
    }
   ],
   "source": [
    "\n",
    "countries_capitals = {\n",
    "    \"Peru\": \"Lima\",\n",
    "    \"Argentina\": \"Buenos Aires\",\n",
    "    \"Brazil\": \"Brasilia\",\n",
    "    \"Colombia\": \"Bogota\",\n",
    "    \"Mexico\": \"Ciudad De Mexico\",\n",
    "    \"Chile\": \"Santiago\",\n",
    "    \"Ecuador\": \"Quito\",\n",
    "    \"Bolivia\": \"La Paz\",\n",
    "    \"Venezuela\": \"Caracas\",\n",
    "    \"Uruguay\": \"Montevideo\",\n",
    "    \"Paraguay\": \"Asuncion\",\n",
    "    \"Canada\": \"Ottawa\",\n",
    "    \"USA\": \"Washington\",\n",
    "    \"France\": \"Paris\",\n",
    "    \"Germany\": \"Berlin\",\n",
    "    \"Italy\": \"Rome\",\n",
    "    \"Spain\": \"Madrid\",\n",
    "    \"Portugal\": \"Lisbon\",\n",
    "    \"UK\": \"London\",\n",
    "    \"Japan\": \"Tokyo\" }\n",
    "countries_capitals"
   ]
  },
  {
   "cell_type": "code",
   "execution_count": 26,
   "id": "daf00bd2",
   "metadata": {},
   "outputs": [
    {
     "data": {
      "text/plain": [
       "Peru                     Lima\n",
       "Argentina        Buenos Aires\n",
       "Brazil               Brasilia\n",
       "Colombia               Bogota\n",
       "Mexico       Ciudad De Mexico\n",
       "Chile                Santiago\n",
       "Ecuador                 Quito\n",
       "Bolivia                La Paz\n",
       "Venezuela             Caracas\n",
       "Uruguay            Montevideo\n",
       "Paraguay             Asuncion\n",
       "Canada                 Ottawa\n",
       "USA                Washington\n",
       "France                  Paris\n",
       "Germany                Berlin\n",
       "Italy                    Rome\n",
       "Spain                  Madrid\n",
       "Portugal               Lisbon\n",
       "UK                     London\n",
       "Japan                   Tokyo\n",
       "dtype: object"
      ]
     },
     "execution_count": 26,
     "metadata": {},
     "output_type": "execute_result"
    }
   ],
   "source": [
    "capitals_series = pd.Series(countries_capitals)\n",
    "capitals_series"
   ]
  },
  {
   "cell_type": "code",
   "execution_count": 27,
   "id": "8b766529",
   "metadata": {},
   "outputs": [
    {
     "data": {
      "text/plain": [
       "Argentina        Buenos Aires\n",
       "Brazil               Brasilia\n",
       "Mexico       Ciudad De Mexico\n",
       "Chile                Santiago\n",
       "Venezuela             Caracas\n",
       "Uruguay            Montevideo\n",
       "Paraguay             Asuncion\n",
       "USA                Washington\n",
       "dtype: object"
      ]
     },
     "execution_count": 27,
     "metadata": {},
     "output_type": "execute_result"
    }
   ],
   "source": [
    "#we filter the data\n",
    "filtered = capitals_series[capitals_series.str.len() > 6]\n",
    "filtered"
   ]
  },
  {
   "cell_type": "code",
   "execution_count": 28,
   "id": "4e17af97",
   "metadata": {},
   "outputs": [
    {
     "name": "stdout",
     "output_type": "stream",
     "text": [
      "      Todas las capitales\n",
      "Peru                     Lima\n",
      "Argentina        Buenos Aires\n",
      "Brazil               Brasilia\n",
      "Colombia               Bogota\n",
      "Mexico       Ciudad De Mexico\n",
      "Chile                Santiago\n",
      "Ecuador                 Quito\n",
      "Bolivia                La Paz\n",
      "Venezuela             Caracas\n",
      "Uruguay            Montevideo\n",
      "Paraguay             Asuncion\n",
      "Canada                 Ottawa\n",
      "USA                Washington\n",
      "France                  Paris\n",
      "Germany                Berlin\n",
      "Italy                    Rome\n",
      "Spain                  Madrid\n",
      "Portugal               Lisbon\n",
      "UK                     London\n",
      "Japan                   Tokyo\n",
      "dtype: object\n"
     ]
    }
   ],
   "source": [
    "print(\"      Todas las capitales\")\n",
    "print(capitals_series)"
   ]
  },
  {
   "cell_type": "code",
   "execution_count": 29,
   "id": "5711d0df",
   "metadata": {},
   "outputs": [
    {
     "name": "stdout",
     "output_type": "stream",
     "text": [
      "Capitales con más de 6 letras\n",
      "Argentina        Buenos Aires\n",
      "Brazil               Brasilia\n",
      "Mexico       Ciudad De Mexico\n",
      "Chile                Santiago\n",
      "Venezuela             Caracas\n",
      "Uruguay            Montevideo\n",
      "Paraguay             Asuncion\n",
      "USA                Washington\n",
      "dtype: object\n"
     ]
    }
   ],
   "source": [
    "print(\"Capitales con más de 6 letras\")\n",
    "print(filtered)"
   ]
  },
  {
   "cell_type": "markdown",
   "id": "cb70e5f8",
   "metadata": {},
   "source": [
    "## Pregunta 14\n",
    "\n",
    "We create the Serie \"flowers\""
   ]
  },
  {
   "cell_type": "code",
   "execution_count": 37,
   "id": "feeee26a",
   "metadata": {},
   "outputs": [
    {
     "name": "stdout",
     "output_type": "stream",
     "text": [
      ".Flores diversas.\n"
     ]
    },
    {
     "data": {
      "text/plain": [
       "0         rosa\n",
       "1      girasol\n",
       "2    margarita\n",
       "3        dalia\n",
       "4       clavel\n",
       "5       jazmin\n",
       "6     orquidea\n",
       "7        lirio\n",
       "8      tulipan\n",
       "dtype: object"
      ]
     },
     "execution_count": 37,
     "metadata": {},
     "output_type": "execute_result"
    }
   ],
   "source": [
    "flowers = pd.Series ([\"rosa\", \"girasol\", \"margarita\", \"dalia\", \"clavel\", \"jazmin\", \"orquidea\", \"lirio\", \"tulipan\"])\n",
    "print(\".Flores diversas.\")\n",
    "flowers"
   ]
  },
  {
   "cell_type": "code",
   "execution_count": 31,
   "id": "ce7a2625",
   "metadata": {},
   "outputs": [
    {
     "data": {
      "text/plain": [
       "0         ROSA\n",
       "1      GIRASOL\n",
       "2    MARGARITA\n",
       "3        DALIA\n",
       "4       CLAVEL\n",
       "5       JAZMIN\n",
       "6     ORQUIDEA\n",
       "7        LIRIO\n",
       "8      TULIPAN\n",
       "dtype: object"
      ]
     },
     "execution_count": 31,
     "metadata": {},
     "output_type": "execute_result"
    }
   ],
   "source": [
    "#convertimos a mayúsculas\n",
    "flowersmay = flowers.apply(str.upper)\n",
    "flowersmay"
   ]
  },
  {
   "cell_type": "code",
   "execution_count": 32,
   "id": "e5a0cce9",
   "metadata": {},
   "outputs": [
    {
     "name": "stdout",
     "output_type": "stream",
     "text": [
      "Flores diversas en mayúscula\n",
      "0         ROSA\n",
      "1      GIRASOL\n",
      "2    MARGARITA\n",
      "3        DALIA\n",
      "4       CLAVEL\n",
      "5       JAZMIN\n",
      "6     ORQUIDEA\n",
      "7        LIRIO\n",
      "8      TULIPAN\n",
      "dtype: object\n"
     ]
    }
   ],
   "source": [
    "print (\"Flores diversas en mayúscula\")\n",
    "print (flowersmay)"
   ]
  }
 ],
 "metadata": {
  "kernelspec": {
   "display_name": "base",
   "language": "python",
   "name": "python3"
  },
  "language_info": {
   "codemirror_mode": {
    "name": "ipython",
    "version": 3
   },
   "file_extension": ".py",
   "mimetype": "text/x-python",
   "name": "python",
   "nbconvert_exporter": "python",
   "pygments_lexer": "ipython3",
   "version": "3.11.5"
  }
 },
 "nbformat": 4,
 "nbformat_minor": 5
}
