{
 "cells": [
  {
   "cell_type": "markdown",
   "id": "565b0cb2",
   "metadata": {},
   "source": [
    "### Assignment 1 – Part 2: Data Types and Data Structures"
   ]
  },
  {
   "cell_type": "markdown",
   "id": "3930cd37",
   "metadata": {},
   "source": [
    "#### 6. Declare a variable"
   ]
  },
  {
   "cell_type": "code",
   "execution_count": 1,
   "id": "54d19e55",
   "metadata": {},
   "outputs": [],
   "source": [
    "variable_int = 20\n",
    "varible_float = 3.6\n",
    "variable_str = \"Ejercicio 6\"\n",
    "variable_bool = False"
   ]
  },
  {
   "cell_type": "code",
   "execution_count": 2,
   "id": "c532836c",
   "metadata": {},
   "outputs": [
    {
     "name": "stdout",
     "output_type": "stream",
     "text": [
      "<class 'int'>\n",
      "<class 'float'>\n",
      "<class 'str'>\n",
      "<class 'bool'>\n"
     ]
    }
   ],
   "source": [
    "print(type(variable_int))\n",
    "print(type(varible_float))\n",
    "print(type(variable_str))\n",
    "print(type(variable_bool))"
   ]
  },
  {
   "cell_type": "markdown",
   "id": "ec8d5794",
   "metadata": {},
   "source": [
    "#### 7. Create a list "
   ]
  },
  {
   "cell_type": "markdown",
   "id": "65c13230",
   "metadata": {},
   "source": [
    "7.1 Create the list:"
   ]
  },
  {
   "cell_type": "code",
   "execution_count": 3,
   "id": "32651208",
   "metadata": {},
   "outputs": [],
   "source": [
    "list_group2_q7 = [\n",
    "    \"gatos\",\n",
    "    False,\n",
    "    21,\n",
    "    12.12,\n",
    "    [\"Lady Gaga\", \"Kali Uchis\"]\n",
    "]"
   ]
  },
  {
   "cell_type": "markdown",
   "id": "4e50ee36",
   "metadata": {},
   "source": [
    "7.2 Access the first and the last element"
   ]
  },
  {
   "cell_type": "code",
   "execution_count": 4,
   "id": "4ec6e131",
   "metadata": {},
   "outputs": [
    {
     "data": {
      "text/plain": [
       "'gatos'"
      ]
     },
     "execution_count": 4,
     "metadata": {},
     "output_type": "execute_result"
    }
   ],
   "source": [
    "#First element\n",
    "list_group2_q7[0]"
   ]
  },
  {
   "cell_type": "code",
   "execution_count": 5,
   "id": "0c05d1dd",
   "metadata": {},
   "outputs": [
    {
     "data": {
      "text/plain": [
       "['Lady Gaga', 'Kali Uchis']"
      ]
     },
     "execution_count": 5,
     "metadata": {},
     "output_type": "execute_result"
    }
   ],
   "source": [
    "#Last element\n",
    "list_group2_q7[-1]"
   ]
  },
  {
   "cell_type": "markdown",
   "id": "745c62ea",
   "metadata": {},
   "source": [
    "7.3 Add a new string"
   ]
  },
  {
   "cell_type": "code",
   "execution_count": 6,
   "id": "cb31e4c3",
   "metadata": {},
   "outputs": [
    {
     "data": {
      "text/plain": [
       "['gatos', False, 21, 12.12, ['Lady Gaga', 'Kali Uchis']]"
      ]
     },
     "execution_count": 6,
     "metadata": {},
     "output_type": "execute_result"
    }
   ],
   "source": [
    "#Review current elements of my list\n",
    "list_group2_q7"
   ]
  },
  {
   "cell_type": "code",
   "execution_count": 7,
   "id": "a9467ae4",
   "metadata": {},
   "outputs": [],
   "source": [
    "#Add a new string element\n",
    "list_group2_q7.append(\"perros\")"
   ]
  },
  {
   "cell_type": "code",
   "execution_count": 8,
   "id": "91bd0900",
   "metadata": {},
   "outputs": [
    {
     "data": {
      "text/plain": [
       "['gatos', False, 21, 12.12, ['Lady Gaga', 'Kali Uchis'], 'perros']"
      ]
     },
     "execution_count": 8,
     "metadata": {},
     "output_type": "execute_result"
    }
   ],
   "source": [
    "#Verify if the new element has been added\n",
    "list_group2_q7"
   ]
  },
  {
   "cell_type": "markdown",
   "id": "75f3a8c8",
   "metadata": {},
   "source": [
    "7.4 Remove the boolean value"
   ]
  },
  {
   "cell_type": "code",
   "execution_count": 9,
   "id": "159d33a0",
   "metadata": {},
   "outputs": [
    {
     "data": {
      "text/plain": [
       "['gatos', False, 21, 12.12, ['Lady Gaga', 'Kali Uchis'], 'perros']"
      ]
     },
     "execution_count": 9,
     "metadata": {},
     "output_type": "execute_result"
    }
   ],
   "source": [
    "#Review current elements of my list\n",
    "list_group2_q7"
   ]
  },
  {
   "cell_type": "code",
   "execution_count": 10,
   "id": "7fc30e79",
   "metadata": {},
   "outputs": [
    {
     "data": {
      "text/plain": [
       "False"
      ]
     },
     "execution_count": 10,
     "metadata": {},
     "output_type": "execute_result"
    }
   ],
   "source": [
    "#Remove the boolean value\n",
    "list_group2_q7.pop(1)"
   ]
  },
  {
   "cell_type": "code",
   "execution_count": 11,
   "id": "07bce5d8",
   "metadata": {},
   "outputs": [
    {
     "data": {
      "text/plain": [
       "['gatos', 21, 12.12, ['Lady Gaga', 'Kali Uchis'], 'perros']"
      ]
     },
     "execution_count": 11,
     "metadata": {},
     "output_type": "execute_result"
    }
   ],
   "source": [
    "#Verify if the boolean value has been removed\n",
    "list_group2_q7"
   ]
  },
  {
   "cell_type": "markdown",
   "id": "fab2ec39",
   "metadata": {},
   "source": [
    "#### 8. Define a tuple"
   ]
  },
  {
   "cell_type": "markdown",
   "id": "63b2103d",
   "metadata": {},
   "source": [
    "8.1 Create a tuple"
   ]
  },
  {
   "cell_type": "code",
   "execution_count": 12,
   "id": "b6cdcbec",
   "metadata": {},
   "outputs": [
    {
     "data": {
      "text/plain": [
       "('peces', True, (6, 96, 87.1))"
      ]
     },
     "execution_count": 12,
     "metadata": {},
     "output_type": "execute_result"
    }
   ],
   "source": [
    "my_tuple = (\n",
    "    \"peces\", \n",
    "    True, \n",
    "    (6, 96, 87.1)\n",
    ")\n",
    "my_tuple"
   ]
  },
  {
   "cell_type": "markdown",
   "id": "31aff0ab",
   "metadata": {},
   "source": [
    "8.2 Why a tuple is immutable?\n",
    "A tuple is inmutable because the its values cannot be changed once created."
   ]
  },
  {
   "cell_type": "markdown",
   "id": "db0eab16",
   "metadata": {},
   "source": [
    "8.3 Try to modify a tuple"
   ]
  },
  {
   "cell_type": "code",
   "execution_count": 13,
   "id": "bf222774",
   "metadata": {},
   "outputs": [
    {
     "ename": "AttributeError",
     "evalue": "'tuple' object has no attribute 'append'",
     "output_type": "error",
     "traceback": [
      "\u001b[1;31m---------------------------------------------------------------------------\u001b[0m",
      "\u001b[1;31mAttributeError\u001b[0m                            Traceback (most recent call last)",
      "Cell \u001b[1;32mIn[13], line 2\u001b[0m\n\u001b[0;32m      1\u001b[0m \u001b[38;5;66;03m#Try to create a new element for the tuple\u001b[39;00m\n\u001b[1;32m----> 2\u001b[0m my_tuple\u001b[38;5;241m.\u001b[39mappend(\u001b[38;5;124m\"\u001b[39m\u001b[38;5;124mconejos\u001b[39m\u001b[38;5;124m\"\u001b[39m)\n",
      "\u001b[1;31mAttributeError\u001b[0m: 'tuple' object has no attribute 'append'"
     ]
    }
   ],
   "source": [
    "#Try to create a new element for the tuple\n",
    "my_tuple.append(\"conejos\")"
   ]
  },
  {
   "cell_type": "code",
   "execution_count": 14,
   "id": "4e23c679",
   "metadata": {},
   "outputs": [
    {
     "data": {
      "text/plain": [
       "('peces', True, (6, 96, 87.1))"
      ]
     },
     "execution_count": 14,
     "metadata": {},
     "output_type": "execute_result"
    }
   ],
   "source": [
    "#Verify is the tuple has been altered\n",
    "my_tuple"
   ]
  },
  {
   "cell_type": "markdown",
   "id": "387c7612",
   "metadata": {},
   "source": [
    "#### 9. Write a Python function named movie_summary"
   ]
  },
  {
   "cell_type": "markdown",
   "id": "684e8f84",
   "metadata": {},
   "source": [
    "9.1 Create a dictionary"
   ]
  },
  {
   "cell_type": "code",
   "execution_count": 15,
   "id": "f0d4bddd",
   "metadata": {},
   "outputs": [
    {
     "name": "stdout",
     "output_type": "stream",
     "text": [
      "{'Barbie': {'year': 2023, 'genre': 'Comedy'}, 'Oppenheimer': {'year': 2023, 'genre': 'Drama'}, 'Super Mario Bros': {'year': 2023, 'genre': 'Children'}}\n"
     ]
    }
   ],
   "source": [
    "#Dictionary of movies\n",
    "movies = {\n",
    "  \"Barbie\": {\"year\": 2023, \"genre\": \"Comedy\"},\n",
    "  \"Oppenheimer\": {\"year\": 2023, \"genre\": \"Drama\"},\n",
    "  \"Super Mario Bros\": {\"year\": 2023, \"genre\": \"Children\"}\n",
    "}\n",
    "\n",
    "movie_summary = movies\n",
    "print(movie_summary)"
   ]
  },
  {
   "cell_type": "code",
   "execution_count": 16,
   "id": "e934dc07",
   "metadata": {},
   "outputs": [
    {
     "data": {
      "text/plain": [
       "dict"
      ]
     },
     "execution_count": 16,
     "metadata": {},
     "output_type": "execute_result"
    }
   ],
   "source": [
    "type(movie_summary)"
   ]
  },
  {
   "cell_type": "code",
   "execution_count": 17,
   "id": "13a51404",
   "metadata": {},
   "outputs": [
    {
     "data": {
      "text/plain": [
       "dict_keys(['Barbie', 'Oppenheimer', 'Super Mario Bros'])"
      ]
     },
     "execution_count": 17,
     "metadata": {},
     "output_type": "execute_result"
    }
   ],
   "source": [
    "movie_summary.keys()"
   ]
  },
  {
   "cell_type": "code",
   "execution_count": 19,
   "id": "bb8d80fa",
   "metadata": {},
   "outputs": [
    {
     "data": {
      "text/plain": [
       "2023"
      ]
     },
     "execution_count": 19,
     "metadata": {},
     "output_type": "execute_result"
    }
   ],
   "source": [
    "movie_summary[\"Barbie\"].get(\"year\")"
   ]
  },
  {
   "cell_type": "markdown",
   "id": "803b6d2c",
   "metadata": {},
   "source": [
    "9.2 Return a list with sentences in an specific format"
   ]
  },
  {
   "cell_type": "code",
   "execution_count": 32,
   "id": "9d787b0b",
   "metadata": {},
   "outputs": [
    {
     "name": "stdout",
     "output_type": "stream",
     "text": [
      "Barbie belongs to the Comedy genre and was released in 2023\n",
      "Oppenheimer belongs to the Drama genre and was released in 2023\n",
      "Super Mario Bros belongs to the Children genre and was released in 2023\n"
     ]
    }
   ],
   "source": [
    "for title, info in movie_summary.items():\n",
    "    print(f\"{title} belongs to the {info['genre']} genre and was released in {info['year']}\")"
   ]
  },
  {
   "cell_type": "markdown",
   "id": "73c8a5f9",
   "metadata": {},
   "source": [
    "#### 10. NumPy number"
   ]
  },
  {
   "cell_type": "code",
   "execution_count": 33,
   "id": "8b16b864",
   "metadata": {},
   "outputs": [],
   "source": [
    "import numpy as np"
   ]
  },
  {
   "cell_type": "markdown",
   "id": "86568b9e",
   "metadata": {},
   "source": [
    "10.1 Create the 4x4 Matriz"
   ]
  },
  {
   "cell_type": "code",
   "execution_count": 34,
   "id": "4d48f311",
   "metadata": {},
   "outputs": [
    {
     "name": "stdout",
     "output_type": "stream",
     "text": [
      "[[ 1  2  3  4]\n",
      " [10 11 12 13]\n",
      " [45 65 42 88]\n",
      " [ 5  6  7  8]]\n"
     ]
    }
   ],
   "source": [
    "A = np.array( [ [1, 2, 3, 4], [10, 11, 12, 13], [45, 65, 42, 88], [5, 6, 7, 8] ] )\n",
    "\n",
    "print(A)"
   ]
  },
  {
   "cell_type": "markdown",
   "id": "7b72c4be",
   "metadata": {},
   "source": [
    "10.2 Obtain the mean per column"
   ]
  },
  {
   "cell_type": "code",
   "execution_count": 36,
   "id": "c4a1b073",
   "metadata": {},
   "outputs": [
    {
     "data": {
      "text/plain": [
       "array([15.25, 21.  , 16.  , 28.25])"
      ]
     },
     "execution_count": 36,
     "metadata": {},
     "output_type": "execute_result"
    }
   ],
   "source": [
    "#create the variable column means by defining its structure\n",
    "column_means = np.mean(A, axis=0)\n",
    "column_means"
   ]
  },
  {
   "cell_type": "markdown",
   "id": "74d0ae5a",
   "metadata": {},
   "source": [
    "10.3 Obtain the sum of the values in the main diagonal"
   ]
  },
  {
   "cell_type": "code",
   "execution_count": 38,
   "id": "cdabda72",
   "metadata": {},
   "outputs": [
    {
     "data": {
      "text/plain": [
       "array([ 1, 11, 42,  8])"
      ]
     },
     "execution_count": 38,
     "metadata": {},
     "output_type": "execute_result"
    }
   ],
   "source": [
    "#Define the main diagonal\n",
    "diagonal = np.diag(A)\n",
    "diagonal"
   ]
  },
  {
   "cell_type": "code",
   "execution_count": 39,
   "id": "70d661a3",
   "metadata": {},
   "outputs": [
    {
     "data": {
      "text/plain": [
       "62"
      ]
     },
     "execution_count": 39,
     "metadata": {},
     "output_type": "execute_result"
    }
   ],
   "source": [
    "#Create the variable diagonal_sum\n",
    "diagonal_sum = np.sum(diagonal)\n",
    "diagonal_sum"
   ]
  }
 ],
 "metadata": {
  "kernelspec": {
   "display_name": "Python 3 (ipykernel)",
   "language": "python",
   "name": "python3"
  },
  "language_info": {
   "codemirror_mode": {
    "name": "ipython",
    "version": 3
   },
   "file_extension": ".py",
   "mimetype": "text/x-python",
   "name": "python",
   "nbconvert_exporter": "python",
   "pygments_lexer": "ipython3",
   "version": "3.11.5"
  }
 },
 "nbformat": 4,
 "nbformat_minor": 5
}
