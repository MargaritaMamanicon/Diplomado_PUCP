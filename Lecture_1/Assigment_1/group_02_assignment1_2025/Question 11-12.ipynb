{
 "cells": [
  {
   "cell_type": "markdown",
   "id": "4fc7999d",
   "metadata": {},
   "source": [
    "### Tercer ejercicio:\n",
    "\n",
    "1. From the list of grades [15, 17, 20, 11, 13, 18, 19], create a Pandas Series assigning student names as the index (for example: \"Ana\", \"Jorge\", \"Valeria\", etc.).\n",
    "\n",
    "En ese sentido, la lista es la siguiente:"
   ]
  },
  {
   "cell_type": "code",
   "execution_count": 3,
   "id": "d0fb4aea",
   "metadata": {},
   "outputs": [],
   "source": [
    "# Primero las librerias\n",
    "\n",
    "import pandas as pd\n",
    "import numpy as np"
   ]
  },
  {
   "cell_type": "code",
   "execution_count": 5,
   "id": "ce5460fc",
   "metadata": {},
   "outputs": [
    {
     "data": {
      "text/html": [
       "<div>\n",
       "<style scoped>\n",
       "    .dataframe tbody tr th:only-of-type {\n",
       "        vertical-align: middle;\n",
       "    }\n",
       "\n",
       "    .dataframe tbody tr th {\n",
       "        vertical-align: top;\n",
       "    }\n",
       "\n",
       "    .dataframe thead th {\n",
       "        text-align: right;\n",
       "    }\n",
       "</style>\n",
       "<table border=\"1\" class=\"dataframe\">\n",
       "  <thead>\n",
       "    <tr style=\"text-align: right;\">\n",
       "      <th></th>\n",
       "      <th>Students</th>\n",
       "      <th>Grades</th>\n",
       "    </tr>\n",
       "  </thead>\n",
       "  <tbody>\n",
       "    <tr>\n",
       "      <th>0</th>\n",
       "      <td>Ana</td>\n",
       "      <td>15</td>\n",
       "    </tr>\n",
       "    <tr>\n",
       "      <th>1</th>\n",
       "      <td>Jorge</td>\n",
       "      <td>17</td>\n",
       "    </tr>\n",
       "    <tr>\n",
       "      <th>2</th>\n",
       "      <td>Valeria</td>\n",
       "      <td>20</td>\n",
       "    </tr>\n",
       "    <tr>\n",
       "      <th>3</th>\n",
       "      <td>Arianna</td>\n",
       "      <td>11</td>\n",
       "    </tr>\n",
       "    <tr>\n",
       "      <th>4</th>\n",
       "      <td>Mirzha</td>\n",
       "      <td>13</td>\n",
       "    </tr>\n",
       "    <tr>\n",
       "      <th>5</th>\n",
       "      <td>Eduardo</td>\n",
       "      <td>18</td>\n",
       "    </tr>\n",
       "    <tr>\n",
       "      <th>6</th>\n",
       "      <td>Anel</td>\n",
       "      <td>19</td>\n",
       "    </tr>\n",
       "  </tbody>\n",
       "</table>\n",
       "</div>"
      ],
      "text/plain": [
       "  Students  Grades\n",
       "0      Ana      15\n",
       "1    Jorge      17\n",
       "2  Valeria      20\n",
       "3  Arianna      11\n",
       "4   Mirzha      13\n",
       "5  Eduardo      18\n",
       "6     Anel      19"
      ]
     },
     "execution_count": 5,
     "metadata": {},
     "output_type": "execute_result"
    }
   ],
   "source": [
    "# Grades\n",
    "students = [ \"Ana\", \"Jorge\", \"Valeria\", \"Arianna\", \"Mirzha\", \"Eduardo\", \"Anel\" ]\n",
    "grades     = [ 15, 17, 20, 11, 13, 18, 19]\n",
    "grades_A = {'Students':students, 'Grades':grades}\n",
    "\n",
    "# Dataframe con pandas\n",
    "gradesA1 = pd.DataFrame( grades_A )\n",
    "gradesA1"
   ]
  },
  {
   "cell_type": "markdown",
   "id": "f703c52e",
   "metadata": {},
   "source": [
    "2. Using the Series created in the previous step, calculate:\n",
    "\n",
    "2.1. The average of the grades.\n",
    "2.2. The student with the highest grade (use .idxmax()).\n",
    "2.3. The student with the lowest grade (use .idxmin())."
   ]
  },
  {
   "cell_type": "code",
   "execution_count": 6,
   "id": "569c8e8d",
   "metadata": {},
   "outputs": [
    {
     "name": "stdout",
     "output_type": "stream",
     "text": [
      "16.142857142857142\n"
     ]
    }
   ],
   "source": [
    "# 2.1. The average of grades\n",
    "\n",
    "promedio = gradesA1[\"Grades\"].mean()\n",
    "print(promedio)"
   ]
  },
  {
   "cell_type": "code",
   "execution_count": 7,
   "id": "2e8bcd9e",
   "metadata": {},
   "outputs": [
    {
     "name": "stdout",
     "output_type": "stream",
     "text": [
      "The student with the highest grade is Valeria with 20.\n"
     ]
    }
   ],
   "source": [
    "# 2.2. The student with the highest grade\n",
    "\n",
    "# index of the highest grade\n",
    "idx_max = gradesA1[\"Grades\"].idxmax()\n",
    "\n",
    "# corresponding student\n",
    "top_student = gradesA1[\"Students\"][idx_max]\n",
    "top_grade = gradesA1[\"Grades\"][idx_max]\n",
    "\n",
    "print(f\"The student with the highest grade is {top_student} with {top_grade}.\")"
   ]
  },
  {
   "cell_type": "code",
   "execution_count": 8,
   "id": "4e3ebfb8",
   "metadata": {},
   "outputs": [
    {
     "name": "stdout",
     "output_type": "stream",
     "text": [
      "The student with the lowest grade is Arianna with 11.\n"
     ]
    }
   ],
   "source": [
    "# 2.3. The student with the lowest grade (use .idxmin()).\n",
    "\n",
    "# index of the highest grade\n",
    "idx_min = gradesA1[\"Grades\"].idxmin()\n",
    "\n",
    "# corresponding student\n",
    "low_student = gradesA1[\"Students\"][idx_min]\n",
    "low_grade = gradesA1[\"Grades\"][idx_min]\n",
    "\n",
    "print(f\"The student with the lowest grade is {low_student} with {low_grade}.\")\n"
   ]
  },
  {
   "cell_type": "code",
   "execution_count": null,
   "id": "592aee7e",
   "metadata": {},
   "outputs": [],
   "source": []
  }
 ],
 "metadata": {
  "kernelspec": {
   "display_name": "Python 3 (ipykernel)",
   "language": "python",
   "name": "python3"
  },
  "language_info": {
   "codemirror_mode": {
    "name": "ipython",
    "version": 3
   },
   "file_extension": ".py",
   "mimetype": "text/x-python",
   "name": "python",
   "nbconvert_exporter": "python",
   "pygments_lexer": "ipython3",
   "version": "3.9.7"
  }
 },
 "nbformat": 4,
 "nbformat_minor": 5
}
