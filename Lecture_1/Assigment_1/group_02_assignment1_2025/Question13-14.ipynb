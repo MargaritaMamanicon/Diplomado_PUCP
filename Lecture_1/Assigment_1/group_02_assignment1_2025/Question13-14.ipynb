{
 "cells": [
  {
   "cell_type": "markdown",
   "id": "dd591a1c-db50-4d1b-a8cc-b65248ae02c9",
   "metadata": {},
   "source": [
    "## Part 03 - Pandas Series- Question 13-14\n",
    "#####  13. Create a Series from a dictionary of countries and their capitals.\n",
    "##### Filter and display only those countries whose capital has more than 6 letters."
   ]
  },
  {
   "cell_type": "code",
   "execution_count": 2,
   "id": "f3ac031b-e9e8-4a07-b651-57f8db88678b",
   "metadata": {
    "tags": []
   },
   "outputs": [],
   "source": [
    "import pandas as pd"
   ]
  },
  {
   "cell_type": "code",
   "execution_count": 15,
   "id": "65ea62f1-d9fb-4515-aab4-63b74e48a0dd",
   "metadata": {
    "tags": []
   },
   "outputs": [],
   "source": [
    "# URL del CSV en RAW desde GitHub\n",
    "url = \"https://gist.githubusercontent.com/ofou/df09a6834a8421b4f376c875194915c9/raw/355eb56e164ddc3cd1a9467c524422cb674e71a9/country-capital-lat-long-population.csv\"\n",
    "\n",
    "# Leer CSV directamente desde la URL\n",
    "df_country = pd.read_csv(url)\n",
    "\n",
    "# df_country"
   ]
  },
  {
   "cell_type": "code",
   "execution_count": 21,
   "id": "985091b5-abe0-49a9-b585-41ab95fde9ef",
   "metadata": {
    "tags": []
   },
   "outputs": [
    {
     "name": "stdout",
     "output_type": "stream",
     "text": [
      "                                Country           Capital City\n",
      "1                               Albania        Tiranë (Tirana)\n",
      "2                               Algeria  El Djazaïr  (Algiers)\n",
      "3                        American Samoa              Pago Pago\n",
      "4                               Andorra       Andorra la Vella\n",
      "6                              Anguilla             The Valley\n",
      "..                                  ...                    ...\n",
      "226                             Vanuatu              Port Vila\n",
      "227  Venezuela (Bolivarian Republic of)                Caracas\n",
      "229           Wallis and Futuna Islands               Matu-Utu\n",
      "230                      Western Sahara               El Aaiún\n",
      "231                               Yemen                Sana'a'\n",
      "\n",
      "[166 rows x 2 columns]\n"
     ]
    }
   ],
   "source": [
    "# Filtrar solo países cuya capital tenga más de 6 letras\n",
    "filtered = df_country[df_country['Capital City'].str.len() > 6]\n",
    "\n",
    "# Mostrar solo País y Capital\n",
    "print(filtered[['Country', 'Capital City']])"
   ]
  },
  {
   "cell_type": "markdown",
   "id": "ce26cb6d-b195-4a85-a934-56c8c4dffa49",
   "metadata": {},
   "source": [
    "##### 14. Create a Series containing several strings and convert all its elements to uppercase using the .apply(str.upper) method."
   ]
  },
  {
   "cell_type": "code",
   "execution_count": 22,
   "id": "70a4d3e4-ca83-4d30-92a6-cc310330c115",
   "metadata": {
    "tags": []
   },
   "outputs": [
    {
     "name": "stdout",
     "output_type": "stream",
     "text": [
      "Serie original:\n",
      "0           hello\n",
      "1           world\n",
      "2          python\n",
      "3          pandas\n",
      "4    data science\n",
      "dtype: object\n"
     ]
    }
   ],
   "source": [
    "# Creamos una Serie con varias cadenas\n",
    "serie = pd.Series([\"hello\", \"world\", \"python\", \"pandas\", \"data science\"])\n",
    "\n",
    "print(\"Serie original:\")\n",
    "print(serie)"
   ]
  },
  {
   "cell_type": "code",
   "execution_count": 23,
   "id": "9b71e07b-8f7a-4a86-b80e-c0f72df30add",
   "metadata": {
    "tags": []
   },
   "outputs": [
    {
     "name": "stdout",
     "output_type": "stream",
     "text": [
      "\n",
      "Serie en mayúsculas:\n",
      "0           HELLO\n",
      "1           WORLD\n",
      "2          PYTHON\n",
      "3          PANDAS\n",
      "4    DATA SCIENCE\n",
      "dtype: object\n"
     ]
    }
   ],
   "source": [
    "# Convertimos todos los elementos a mayúsculas usando .apply(str.upper)\n",
    "serie_mayus = serie.apply(str.upper)\n",
    "\n",
    "print(\"\\nSerie en mayúsculas:\")\n",
    "print(serie_mayus)"
   ]
  },
  {
   "cell_type": "code",
   "execution_count": null,
   "id": "376d19a6-d79e-487c-8e9f-f041ded713cd",
   "metadata": {},
   "outputs": [],
   "source": []
  }
 ],
 "metadata": {
  "kernelspec": {
   "display_name": "Python 3 (ipykernel)",
   "language": "python",
   "name": "python3"
  },
  "language_info": {
   "codemirror_mode": {
    "name": "ipython",
    "version": 3
   },
   "file_extension": ".py",
   "mimetype": "text/x-python",
   "name": "python",
   "nbconvert_exporter": "python",
   "pygments_lexer": "ipython3",
   "version": "3.11.5"
  }
 },
 "nbformat": 4,
 "nbformat_minor": 5
}
