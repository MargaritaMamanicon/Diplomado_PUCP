{
 "cells": [
  {
   "cell_type": "markdown",
   "id": "a9e57f37",
   "metadata": {},
   "source": [
    "## TAREA 1 - Parte 2\n"
   ]
  },
  {
   "cell_type": "code",
   "execution_count": 1,
   "id": "7c4ba648",
   "metadata": {},
   "outputs": [],
   "source": [
    "# Pregunta 6. Declaramos una variable de cada tipo:\n",
    "entero = 10            #int\n",
    "decimal = 3.14         #float\n",
    "texto = \"Buenos días\"  #string\n",
    "booleano = True        #booleano"
   ]
  },
  {
   "cell_type": "code",
   "execution_count": 2,
   "id": "f2ad5c23",
   "metadata": {},
   "outputs": [
    {
     "name": "stdout",
     "output_type": "stream",
     "text": [
      "<class 'int'>\n",
      "<class 'float'>\n",
      "<class 'str'>\n",
      "<class 'bool'>\n"
     ]
    }
   ],
   "source": [
    "# Mostramos las variables\n",
    "print(type(entero))   \n",
    "print(type(decimal))  \n",
    "print(type(texto))   \n",
    "print(type(booleano)) "
   ]
  },
  {
   "cell_type": "code",
   "execution_count": 3,
   "id": "8dc8f70e",
   "metadata": {},
   "outputs": [],
   "source": [
    "# Pregunta 7. Creamos una lista:\n",
    "equipo_10 = [\n",
    "    \"Equipo\",                # string\n",
    "    True,                    # booleano\n",
    "    10,                      # número entero\n",
    "    3.14,                    # número decimal\n",
    "    [\"Shakira\", \"Miranda\"]     # lista con dos strings\n",
    "]"
   ]
  },
  {
   "cell_type": "code",
   "execution_count": 4,
   "id": "edd0c75a",
   "metadata": {},
   "outputs": [
    {
     "name": "stdout",
     "output_type": "stream",
     "text": [
      "Primer elemento: Equipo\n"
     ]
    }
   ],
   "source": [
    "# Accedemos al primer elemento:\n",
    "print(\"Primer elemento:\", equipo_10[0])"
   ]
  },
  {
   "cell_type": "code",
   "execution_count": 5,
   "id": "06757703",
   "metadata": {},
   "outputs": [
    {
     "name": "stdout",
     "output_type": "stream",
     "text": [
      "Último elemento: ['Shakira', 'Miranda']\n"
     ]
    }
   ],
   "source": [
    "# Accedemos al último elemento\n",
    "print(\"Último elemento:\", equipo_10[-1])"
   ]
  },
  {
   "cell_type": "code",
   "execution_count": 6,
   "id": "db0cec32",
   "metadata": {},
   "outputs": [
    {
     "name": "stdout",
     "output_type": "stream",
     "text": [
      "Lista después de agregar un string: ['Equipo', True, 10, 3.14, ['Shakira', 'Miranda'], 'Katty Perry']\n"
     ]
    }
   ],
   "source": [
    "# Agregamos un nuevo string\n",
    "equipo_10.append(\"Katty Perry\")\n",
    "print(\"Lista después de agregar un string:\", equipo_10)"
   ]
  },
  {
   "cell_type": "code",
   "execution_count": 7,
   "id": "51a81332",
   "metadata": {},
   "outputs": [
    {
     "name": "stdout",
     "output_type": "stream",
     "text": [
      "Lista después de eliminar el booleano: ['Equipo', 10, 3.14, ['Shakira', 'Miranda'], 'Katty Perry']\n"
     ]
    }
   ],
   "source": [
    "# Eliminamos el valor booleano\n",
    "equipo_10.remove(True)\n",
    "print(\"Lista después de eliminar el booleano:\", equipo_10)"
   ]
  },
  {
   "cell_type": "code",
   "execution_count": 8,
   "id": "7e3efaf9",
   "metadata": {},
   "outputs": [],
   "source": [
    "# Pregunta 8. Definiendo una Tuple"
   ]
  },
  {
   "cell_type": "code",
   "execution_count": 9,
   "id": "01615213",
   "metadata": {},
   "outputs": [
    {
     "name": "stdout",
     "output_type": "stream",
     "text": [
      "('Perú', False, (5, 7.5, 2.14))\n"
     ]
    }
   ],
   "source": [
    "tuple_1 = (\"Perú\", False, (5,7.5, 2.14))\n",
    "print(tuple_1)"
   ]
  },
  {
   "cell_type": "code",
   "execution_count": 10,
   "id": "76945e82",
   "metadata": {},
   "outputs": [
    {
     "name": "stdout",
     "output_type": "stream",
     "text": [
      "\"Una tupla es inmutable por construcción de python, es decir, \n",
      "la tupla ya viene configurada por python para que, una vez creada una determinada tupla no se puedan modificar los datos, \n",
      "lo cual garantiza la seguridad, estabilidad, e integridad de los datos de la tupla, y así los datos no serán\n",
      "modificados, añadidos, o eliminados.\n"
     ]
    }
   ],
   "source": [
    "# Pregunta 8. Explicando por qué una Tuple es inmutable\n",
    "rpta_8 = \"\"\"\"Una tupla es inmutable por construcción de python, es decir, \n",
    "la tupla ya viene configurada por python para que, una vez creada una determinada tupla no se puedan modificar los datos, \n",
    "lo cual garantiza la seguridad, estabilidad, e integridad de los datos de la tupla, y así los datos no serán\n",
    "modificados, añadidos, o eliminados.\"\"\"\n",
    "print (rpta_8)\n"
   ]
  },
  {
   "cell_type": "code",
   "execution_count": 11,
   "id": "13cb58e3",
   "metadata": {},
   "outputs": [
    {
     "ename": "SyntaxError",
     "evalue": "expression cannot contain assignment, perhaps you meant \"==\"? (129615631.py, line 6)",
     "output_type": "error",
     "traceback": [
      "\u001b[1;36m  Cell \u001b[1;32mIn[11], line 6\u001b[1;36m\u001b[0m\n\u001b[1;33m    print(tuple_1[0]=100)\u001b[0m\n\u001b[1;37m          ^\u001b[0m\n\u001b[1;31mSyntaxError\u001b[0m\u001b[1;31m:\u001b[0m expression cannot contain assignment, perhaps you meant \"==\"?\n"
     ]
    }
   ],
   "source": [
    "# Pregunta 8 : intentando modificar los elementos de la tuple para corroborar que no se puede:\n",
    "print(tuple_1)\n",
    "tuple_1[0]=100\n",
    "tuple_1[1]=\"Argentina\"\n",
    "\n",
    "print(tuple_1[0]=100)"
   ]
  },
  {
   "cell_type": "code",
   "execution_count": 12,
   "id": "ae27deb6",
   "metadata": {},
   "outputs": [],
   "source": [
    "# Pregunta 9: funcion movie_summary"
   ]
  },
  {
   "cell_type": "code",
   "execution_count": 13,
   "id": "81103509",
   "metadata": {},
   "outputs": [],
   "source": [
    "import pandas as pd\n",
    "import numpy as np"
   ]
  },
  {
   "cell_type": "code",
   "execution_count": 14,
   "id": "53eab46f",
   "metadata": {},
   "outputs": [],
   "source": [
    "movies = {\n",
    "  \"Inception\": {\"year\": 2010, \"genre\": \"Sci-Fi\"},\n",
    "  \"Parasite\": {\"year\": 2019, \"genre\": \"Drama\"},\n",
    "  \"Whiplash\": {\"year\": 2014, \"genre\": \"Drama\"}\n",
    "}"
   ]
  },
  {
   "cell_type": "code",
   "execution_count": 15,
   "id": "fcab5b3d",
   "metadata": {},
   "outputs": [
    {
     "name": "stdout",
     "output_type": "stream",
     "text": [
      "['La película Inception pertenece al género Sci-Fi y fue lanzado en 2010.', 'La película Parasite pertenece al género Drama y fue lanzado en 2019.', 'La película Whiplash pertenece al género Drama y fue lanzado en 2014.']\n"
     ]
    }
   ],
   "source": [
    "def movie_summary(movies):\n",
    "    return [f\"La película {name} pertenece al género {info['genre']} y fue lanzado en {info['year']}.\"\n",
    "            for name, info in movies.items()]\n",
    "\n",
    "print(movie_summary(movies))"
   ]
  },
  {
   "cell_type": "code",
   "execution_count": 16,
   "id": "8ddcaec0",
   "metadata": {},
   "outputs": [],
   "source": [
    "# Pregunta 10 (Hecha por Eduardo)"
   ]
  },
  {
   "cell_type": "code",
   "execution_count": 17,
   "id": "c0251ea0",
   "metadata": {},
   "outputs": [],
   "source": [
    "# Paso 1 Importamos la la libreria numpy con import\n",
    "import numpy as np"
   ]
  },
  {
   "cell_type": "code",
   "execution_count": 18,
   "id": "7939acc7",
   "metadata": {},
   "outputs": [
    {
     "name": "stdout",
     "output_type": "stream",
     "text": [
      "Matriz generada:\n",
      " [[83 26 97 88]\n",
      " [38 70  2 32]\n",
      " [62 67 14 36]\n",
      " [17 57 52 23]]\n"
     ]
    }
   ],
   "source": [
    "# Paso2 Generar matriz 4x4 con enteros aleatorios entre 1 y 100 como se indica en el ejercicio\n",
    "matriz = np.random.randint(1, 101, size=(4, 4))\n",
    "print(\"Matriz generada:\\n\", matriz)"
   ]
  },
  {
   "cell_type": "code",
   "execution_count": 19,
   "id": "537ced73",
   "metadata": {},
   "outputs": [
    {
     "name": "stdout",
     "output_type": "stream",
     "text": [
      "\n",
      "Media por columna: [50.   55.   41.25 44.75]\n"
     ]
    }
   ],
   "source": [
    "# Paso 3 Calculamos la media por columna\n",
    "media_columnas = np.mean(matriz, axis=0)\n",
    "print(\"\\nMedia por columna:\", media_columnas)"
   ]
  },
  {
   "cell_type": "code",
   "execution_count": 20,
   "id": "18ad5d6f",
   "metadata": {},
   "outputs": [
    {
     "name": "stdout",
     "output_type": "stream",
     "text": [
      "\n",
      "Suma de la diagonal principal: 190\n"
     ]
    }
   ],
   "source": [
    "# Paso 4 Calculamos la suma de la diagonal principal\n",
    "suma_diagonal = np.trace(matriz)\n",
    "print(\"\\nSuma de la diagonal principal:\", suma_diagonal)"
   ]
  },
  {
   "cell_type": "code",
   "execution_count": 21,
   "id": "b8e2cb84",
   "metadata": {},
   "outputs": [],
   "source": [
    "# Part 3 (Hecho por Georgina) – Pandas Series"
   ]
  },
  {
   "cell_type": "code",
   "execution_count": 22,
   "id": "20f06bb5",
   "metadata": {},
   "outputs": [],
   "source": [
    "# Pregunta 11"
   ]
  },
  {
   "cell_type": "markdown",
   "id": "159b4107",
   "metadata": {},
   "source": [
    "From the list of grades [15, 17, 20, 11, 13, 18, 19], create a Pandas Series assigning student names as the index (for example: \"Ana\", \"Jorge\", \"Valeria\", etc.).\n",
    "A partir de la lista de calificaciones [15, 17, 20, 11, 13, 18, 19], crea una Serie de Pandas asignando nombres de estudiantes como índice (por ejemplo: \"Ana\", \"Jorge\", \"Valeria\", etc.)."
   ]
  },
  {
   "cell_type": "code",
   "execution_count": 23,
   "id": "03430c8d",
   "metadata": {},
   "outputs": [],
   "source": [
    "import pandas as pd"
   ]
  },
  {
   "cell_type": "code",
   "execution_count": 24,
   "id": "e189f4e6",
   "metadata": {},
   "outputs": [
    {
     "name": "stdout",
     "output_type": "stream",
     "text": [
      "Ana        15\n",
      "Jorge      17\n",
      "Valeria    20\n",
      "Mathias    11\n",
      "Nancy      13\n",
      "Anthony    18\n",
      "Rosa       19\n",
      "dtype: int64\n"
     ]
    }
   ],
   "source": [
    "calificaciones = [15, 17, 20, 11, 13, 18, 19]\n",
    "nombres = [\"Ana\", \"Jorge\", \"Valeria\", \"Mathias\",\"Nancy\",\"Anthony\",\"Rosa\"]\n",
    "alum_calf = pd.Series(calificaciones, index = nombres)\n",
    "print(alum_calf)"
   ]
  },
  {
   "cell_type": "code",
   "execution_count": 25,
   "id": "9d20edb8",
   "metadata": {},
   "outputs": [
    {
     "name": "stdout",
     "output_type": "stream",
     "text": [
      "Index(['Ana', 'Jorge', 'Valeria', 'Mathias', 'Nancy', 'Anthony', 'Rosa'], dtype='object')\n"
     ]
    }
   ],
   "source": [
    "print(alum_calf.index)"
   ]
  },
  {
   "cell_type": "code",
   "execution_count": 26,
   "id": "cce05644",
   "metadata": {},
   "outputs": [],
   "source": [
    "# Pregunta 12"
   ]
  },
  {
   "cell_type": "markdown",
   "id": "aba4b6fd",
   "metadata": {},
   "source": [
    "Using the Series created in the previous step, calculate:\n",
    "\n",
    "The average of the grades.\n",
    "The student with the highest grade (use .idxmax()).\n",
    "The student with the lowest grade (use .idxmin()).\n",
    "Usando la Serie creada en el paso anterior, calcula:\n",
    "El promedio de las calificaciones.\n",
    "El estudiante con la calificación más alta (usa .idxmax()).\n",
    "El estudiante con la calificación más baja (usa .idxmin())."
   ]
  },
  {
   "cell_type": "code",
   "execution_count": 27,
   "id": "3dfa1753",
   "metadata": {},
   "outputs": [
    {
     "data": {
      "text/plain": [
       "16.142857142857142"
      ]
     },
     "execution_count": 27,
     "metadata": {},
     "output_type": "execute_result"
    }
   ],
   "source": [
    "promedio = alum_calf.mean()\n",
    "promedio"
   ]
  },
  {
   "cell_type": "code",
   "execution_count": 28,
   "id": "58a0494a",
   "metadata": {},
   "outputs": [
    {
     "data": {
      "text/plain": [
       "'Valeria'"
      ]
     },
     "execution_count": 28,
     "metadata": {},
     "output_type": "execute_result"
    }
   ],
   "source": [
    "Alumno = alum_calf.idxmax()\n",
    "Alumno"
   ]
  },
  {
   "cell_type": "code",
   "execution_count": 29,
   "id": "d50e2dd4",
   "metadata": {},
   "outputs": [
    {
     "data": {
      "text/plain": [
       "20"
      ]
     },
     "execution_count": 29,
     "metadata": {},
     "output_type": "execute_result"
    }
   ],
   "source": [
    "Max = alum_calf.max()\n",
    "Max"
   ]
  },
  {
   "cell_type": "code",
   "execution_count": 30,
   "id": "e1cf31e8",
   "metadata": {},
   "outputs": [
    {
     "data": {
      "text/plain": [
       "'Mathias'"
      ]
     },
     "execution_count": 30,
     "metadata": {},
     "output_type": "execute_result"
    }
   ],
   "source": [
    "Alumno2 = alum_calf.idxmin()\n",
    "Alumno2"
   ]
  },
  {
   "cell_type": "code",
   "execution_count": 31,
   "id": "50e76027",
   "metadata": {},
   "outputs": [
    {
     "data": {
      "text/plain": [
       "11"
      ]
     },
     "execution_count": 31,
     "metadata": {},
     "output_type": "execute_result"
    }
   ],
   "source": [
    "Min = alum_calf.min()\n",
    "Min"
   ]
  },
  {
   "cell_type": "code",
   "execution_count": 32,
   "id": "69ce16db",
   "metadata": {},
   "outputs": [],
   "source": [
    "# Pregunta 13"
   ]
  },
  {
   "cell_type": "markdown",
   "id": "2e36e1f2",
   "metadata": {},
   "source": [
    "Create a Series from a dictionary of countries and their capitals. Filter and display only those countries whose capital has more than 6 letters. Crea una serie a partir de un diccionario de países y sus capitales. Filtra y muestra solo aquellos países cuya capital tiene más de 6 letras."
   ]
  },
  {
   "cell_type": "code",
   "execution_count": 33,
   "id": "5461619e",
   "metadata": {},
   "outputs": [
    {
     "data": {
      "text/plain": [
       "Perú                     Lima\n",
       "Argentina        Buenos Aires\n",
       "Colombia               Bogota\n",
       "Mexico       Ciudad de Mexico\n",
       "España                 Madrid\n",
       "Chile           Santiago de C\n",
       "dtype: object"
      ]
     },
     "execution_count": 33,
     "metadata": {},
     "output_type": "execute_result"
    }
   ],
   "source": [
    "Paises_capitales = {\n",
    "    \"Perú\":\"Lima\", \n",
    "    \"Argentina\": \"Buenos Aires\", \n",
    "    \"Colombia\": \"Bogota\", \n",
    "    \"Mexico\":\"Ciudad de Mexico\", \n",
    "    \"España\": \"Madrid\", \n",
    "    \"Chile\": \"Santiago de C\"\n",
    "}\n",
    "PaisesyCapitales = pd.Series(Paises_capitales)\n",
    "PaisesyCapitales"
   ]
  },
  {
   "cell_type": "code",
   "execution_count": 34,
   "id": "195becaa",
   "metadata": {},
   "outputs": [
    {
     "data": {
      "text/plain": [
       "Argentina        Buenos Aires\n",
       "Mexico       Ciudad de Mexico\n",
       "Chile           Santiago de C\n",
       "dtype: object"
      ]
     },
     "execution_count": 34,
     "metadata": {},
     "output_type": "execute_result"
    }
   ],
   "source": [
    "filtro_capitales = PaisesyCapitales[PaisesyCapitales.str.len()>6]\n",
    "filtro_capitales"
   ]
  },
  {
   "cell_type": "code",
   "execution_count": 35,
   "id": "64880c15",
   "metadata": {},
   "outputs": [
    {
     "data": {
      "text/plain": [
       "Argentina    Buenos Aires\n",
       "Colombia           Bogota\n",
       "dtype: object"
      ]
     },
     "execution_count": 35,
     "metadata": {},
     "output_type": "execute_result"
    }
   ],
   "source": [
    "# Para países con mas de 6 letras que son INDEX\n",
    "filtro_paises = PaisesyCapitales[PaisesyCapitales.index.str.len() > 6]\n",
    "filtro_paises"
   ]
  },
  {
   "cell_type": "code",
   "execution_count": 36,
   "id": "94e5cc75",
   "metadata": {},
   "outputs": [],
   "source": [
    "# Pregunta 14"
   ]
  },
  {
   "cell_type": "markdown",
   "id": "c580f64a",
   "metadata": {},
   "source": [
    "Create a Series containing several strings and convert all its elements to uppercase using the .apply(str.upper) method. Crea una Serie que contenga varias cadenas y convierte todos sus elementos a mayúsculas utilizando el método .apply(str.upper)."
   ]
  },
  {
   "cell_type": "code",
   "execution_count": 37,
   "id": "f0ffa340",
   "metadata": {},
   "outputs": [
    {
     "data": {
      "text/plain": [
       "0          Lima\n",
       "1      Arequipa\n",
       "2         Cusco\n",
       "3    San Martín\n",
       "4       Ucayali\n",
       "dtype: object"
      ]
     },
     "execution_count": 37,
     "metadata": {},
     "output_type": "execute_result"
    }
   ],
   "source": [
    "Departamentos = pd.Series([\"Lima\", \"Arequipa\", \"Cusco\", \"San Martín\", \"Ucayali\"])\n",
    "Departamentos"
   ]
  },
  {
   "cell_type": "code",
   "execution_count": 38,
   "id": "a3051980",
   "metadata": {},
   "outputs": [
    {
     "data": {
      "text/plain": [
       "0          LIMA\n",
       "1      AREQUIPA\n",
       "2         CUSCO\n",
       "3    SAN MARTÍN\n",
       "4       UCAYALI\n",
       "dtype: object"
      ]
     },
     "execution_count": 38,
     "metadata": {},
     "output_type": "execute_result"
    }
   ],
   "source": [
    "# Convertir todos los elementos a mayúsculas- .apply(str.upper)\n",
    "Departamentos_may = Departamentos.apply(str.upper)\n",
    "Departamentos_may"
   ]
  },
  {
   "cell_type": "code",
   "execution_count": null,
   "id": "949df78a",
   "metadata": {},
   "outputs": [],
   "source": []
  }
 ],
 "metadata": {
  "kernelspec": {
   "display_name": "Python 3 (ipykernel)",
   "language": "python",
   "name": "python3"
  },
  "language_info": {
   "codemirror_mode": {
    "name": "ipython",
    "version": 3
   },
   "file_extension": ".py",
   "mimetype": "text/x-python",
   "name": "python",
   "nbconvert_exporter": "python",
   "pygments_lexer": "ipython3",
   "version": "3.11.5"
  }
 },
 "nbformat": 4,
 "nbformat_minor": 5
}
