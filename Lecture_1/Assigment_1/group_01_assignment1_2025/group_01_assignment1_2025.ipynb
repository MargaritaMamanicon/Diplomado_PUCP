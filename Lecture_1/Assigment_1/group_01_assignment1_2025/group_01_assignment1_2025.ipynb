{
 "cells": [
  {
   "cell_type": "markdown",
   "id": "378ceed9",
   "metadata": {},
   "source": [
    "# Assignment 1 – Group 01\n",
    "\n",
    "This notebook contains answers to Part 1, 2 and 3.\n",
    "\n",
    "---\n",
    "\n",
    "## Part 1 – Git Workflow (Branch → Pull Request → Merge)\n",
    "\n",
    "1. [X] Explain the difference between **working on a branch** and **working directly on `main`**. Why is it recommended to always use branches in collaborative projects?  [1 pts] \n",
    "\n",
    "> ### **Trabajar en el main directamente y el branch**\n",
    "> \n",
    "> El **main** es la rama principal y es parte del repositorio; sin embargo, un **branch** es una rama, una línea independiente separada del main y no altera el repositorio.\n",
    "> \n",
    "> Al hacer cambios directamente en el main, cada commit afecta a la base del código; por otro lado, con los branches pueden \n",
    "hascerse cambios (e.g. crearse nuevas funcionalidades, corregir errores) sin alterar el versión principal.\n",
    "> \n",
    "> Trabajar directamente en el main representa muchos riesgos: los errores o funciones pueden poner en riesgo el proyecto; \n",
    "se dificulta la revisión, aprobación de los cambios y se pueden generar conflicto de código. En contraposición, el branch es versátil y mantiene estable el proyecto; facilita la revisión de código, se reducen los conflictos y errores; permite varias tareas en simultáneo....\n",
    "\n",
    "2. [X] Create a branch with the following naming format: `group_##_assignment1_2025` *(Example: group_01_assignment1_2025)*. All group results must be saved inside this [folder](https://github.com/alexanderquispe/Diplomado_PUCP/tree/main/Lecture_1/Assigment_1).  \n",
    "\n",
    "> Se creó una carpeta con el nombre *group_01_assignment1_2025* dentro de la ruta señalada *Diplomado_PUCP/Lecture_1/Assigment_1/*\n",
    "\n",
    "3. [X] Within that branch, create a file called **movies.md** where you include at least **3 favorite movies**. For each movie, you must include: Title, Release year and Synopsis (max. 3 lines). Use Markdown to format (titles, subtitles, **bold**, *italics*, bullet points, etc.).\n",
    "\n",
    "> El archivo movies.md se encuentra disponible en la ruta *Diplomado_PUCP/Lecture_1/Assigment_1/group_01_assignment1_2025/movies.md*\n",
    "\n",
    "4. [X] Make a commit with the following message: \"Added my favorite movies\". Write down the corresponding Git command. Choose **one group member** to act as the *repository maintainer*. Their responsibilities will be:  \n",
    "   - Reviewing all contributions  \n",
    "   - Managing the group branch  \n",
    "   - Performing the **final merge** into `main`  \n",
    "\n",
    "> Se siguieron los pasos.\n",
    "\n",
    "6. [X] Create a **Pull Request (PR)** on GitHub to merge the group branch into `main`. Explain in which cases a *reviewer* might reject the PR (e.g., code conflicts, formatting errors, failure to follow instructions, etc.).  \n"
   ]
  },
  {
   "cell_type": "markdown",
   "id": "808bd0ef-a52f-477b-82dc-ac6218137aea",
   "metadata": {},
   "source": [
    "> ### **Sobre los PR**\n",
    "> Para el trabajo colaborativo efectivo debemos crear o generar las ramas (branches) con la finalidad que todos los integrantes del grupo puedan reaizar sus tareas asignadas sin contratiempos y a cargo de un supervisor que al final da la confrmidad y consolida el trabajo grupal.\n",
    ">\n",
    "> Un revisor puede rechazar el PR debido en caso haya conflictos con el código entre branches. Otros escenarios incluyen que no se haya producido lo solicitado, no se hayan seguido instrucciones, la propuesta de código nueva no sea suficiente o pertinente, o más bien que esta intente cambiar cosas que no debería.\n",
    ">\n",
    "> Después de haber delegado las distintas tareas a los colaboradores a través de los branches (ramas), debemos incluirlas en el Main (o la rama troncal del proyecto). Para ello debemos seguir los siguientes pasos:\n",
    "1.\tAsumimos que se ha han creado varios Branches que deseamos unir al Main\n",
    "2.\tSeleccionamos el Branch de nuestro interés. Hacemos clic en los tres puntos y seleccionamos New pull request.\n",
    "3.\tRecordemos que el New pull request, es solicitar autorización para que se acepte la modificación o que el Branch se una al Mainbranch. La nueva ventana nos solicita agregar un título, una descripción y finalmente Create pull request.\n",
    "4.\tRealizamos el merge pull request\n",
    "5.\tConfirmamos el merg.\n",
    "6.\tPara cerciorarnos de los cambios y visualizarlo vamos a Code.\n",
    "7.\tFinalmente, seleccionamos Main y visualizamos todos los aportes de colaboradores.\n",
    "8. Enviar el Pull Request (PR) para su revisión.\n",
    ">\n",
    "> ¿Cómo resolver conflictos en el proceso del trabajo colaborativo? De existir conflictos en el proceso, el sistema nos arroja el siguiente mensaje: Resolve conflicts.\n",
    "1.\tGitHub nos muestra dónde están los conflictos. En el ejemplo de clase fueron Movies y Actors.\n",
    "2.\tLos conflictos se originan por varios motivos, pero deben ser solucionados por el director del equipo. Es conflictos se corrigen de manera manual. Así por ejemplo, si alguno de ellos no es el correcto se elimina, pero si los dos están bien se eliminan manualmente los signos (igual, mayor y menor). \n",
    "3.\tA continuación, marcamos como resuelto.\n",
    "4.\tDespués, commit merge\n",
    "5.\tAhora, confirmamos el merge\n",
    "6.\tComo penúltimo paso seleccionamos Code.\n",
    "7.\tFinalmente, el mainbranch está completo.\n",
    "8. Enviar el Pull Request (PR) para su revisión.\n",
    ">"
   ]
  },
  {
   "cell_type": "markdown",
   "id": "9add4963-3bab-44fb-88d2-df68df016bba",
   "metadata": {},
   "source": [
    "---\n",
    "\n",
    "## Part 2 – Data Types and Data Structures  \n",
    "\n",
    "6. [X] Declare a variable for each of the following types: **int**, **float**, **string**, and **boolean**.  \n",
    "   Then print the type of each variable using the `type()` function.  "
   ]
  },
  {
   "cell_type": "code",
   "execution_count": 172,
   "id": "cb102207-25cb-4cd4-99dc-89afeee34261",
   "metadata": {},
   "outputs": [
    {
     "name": "stdout",
     "output_type": "stream",
     "text": [
      "my_int: <class 'int'>\n",
      "my_float: <class 'float'>\n",
      "my_string: <class 'str'>\n",
      "my_bool: <class 'bool'>\n"
     ]
    }
   ],
   "source": [
    "# 6. Declare a variable for each of the following types: int, float, string, and boolean.\n",
    "#Then print the type of each variable using the type() function.\n",
    "my_int = 10\n",
    "my_float = 3.14\n",
    "my_string = \"Hola\"\n",
    "my_bool = True\n",
    "\n",
    "# Imprimir el tipo de cada variable\n",
    "print(\"my_int:\", type(my_int))\n",
    "print(\"my_float:\", type(my_float))\n",
    "print(\"my_string:\", type(my_string))\n",
    "print(\"my_bool:\", type(my_bool))"
   ]
  },
  {
   "cell_type": "markdown",
   "id": "9c4a8a5e-0217-4118-8e7d-91d93edf65a7",
   "metadata": {},
   "source": [
    "7. [X] Create a list that contains the following elements:  \n",
    "   - A string  \n",
    "   - A boolean value  \n",
    "   - Two numeric values (of any type)  \n",
    "   - A list with two strings representing your favorite music artists  \n",
    "\n",
    "- [X] From that list:  \n",
    "   - Access the **first** and the **last** element  \n",
    "   - Add a new string  \n",
    "   - Remove the boolean value  "
   ]
  },
  {
   "cell_type": "code",
   "execution_count": 173,
   "id": "957075ef-40f3-43dd-9bd8-f83ee5b0a6ad",
   "metadata": {},
   "outputs": [
    {
     "name": "stdout",
     "output_type": "stream",
     "text": [
      "\n",
      "7.Created list:\n",
      "['Hola', True, 10, 3.14, ['Coldplay', 'Adele']]\n",
      "\n",
      "7.a First element:\n",
      "Hola\n",
      "\n",
      "7.b Last element:\n",
      "['Coldplay', 'Adele']\n",
      "\n",
      "7.c Updated list:\n",
      "['Hola', True, 10, 3.14, ['Coldplay', 'Adele'], 'this is a new string']\n",
      "\n",
      "7.d Updated list:\n",
      "['Hola', 10, 3.14, ['Coldplay', 'Adele'], 'this is a new string']\n"
     ]
    }
   ],
   "source": [
    "# 7. Create a list that contains the following elements:\n",
    "#A string\n",
    "#A boolean value\n",
    "#Two numeric values (of any type)\n",
    "#A list with two strings representing your favorite music artists\n",
    "\n",
    "my_list = [\"Hola\", True, 10, 3.14,[\"Coldplay\", \"Adele\"]]\n",
    "\n",
    "# Imprimir la lista completa\n",
    "print('\\n7.Created list:')\n",
    "print(my_list)\n",
    "\n",
    "# Access first element\n",
    "print('\\n7.a First element:')\n",
    "print(my_list[0])\n",
    "\n",
    "# Access last element\n",
    "print('\\n7.b Last element:')\n",
    "print(my_list[-1])\n",
    "\n",
    "# Add a new string\n",
    "my_list.append('this is a new string')\n",
    "print('\\n7.c Updated list:')\n",
    "print(my_list)\n",
    "\n",
    "# Remove de boolean value\n",
    "print('\\n7.d Updated list:')\n",
    "my_list.pop(1)\n",
    "print(my_list)"
   ]
  },
  {
   "cell_type": "markdown",
   "id": "f82c01c9-b97f-4664-807e-f9c1b3f36d0e",
   "metadata": {},
   "source": [
    "8. [X] Define a **tuple** that contains: [1 pts] \n",
    "   - A string  \n",
    "   - A boolean  \n",
    "   - A tuple with three numeric values (of any type)  \n",
    "\n",
    "- [X] Explain in your own words why a tuple is **immutable** and try to modify one of its elements to prove it.   \n"
   ]
  },
  {
   "cell_type": "code",
   "execution_count": 174,
   "id": "6f156727-ebc6-407b-9c3d-58984c748c5d",
   "metadata": {},
   "outputs": [
    {
     "name": "stdout",
     "output_type": "stream",
     "text": [
      "('Hola', False, (10, 20.5, 3))\n"
     ]
    }
   ],
   "source": [
    "# 8. Define a tuple that contains: [1 pts]\n",
    "# A string\n",
    "# A boolean\n",
    "# A tuple with three numeric values (of any type)\n",
    "\n",
    "my_tuple = (\"Hola\", False, (10, 20.5, 3))\n",
    "\n",
    "# Imprimir la tupla\n",
    "print(my_tuple)"
   ]
  },
  {
   "cell_type": "markdown",
   "id": "ad5d789b-5fe8-40d6-a22b-b603e807077f",
   "metadata": {},
   "source": [
    "> A **tuple** is said to ibe *immutable* because it cannot be changed or transformed once it is created. More specifically, we cannont add o remove values to it after it has been defined and stored in memory. Its nature ensures data safety and helps optimization.\n",
    "> \n",
    "> We will try deleting an item from *my_tuple* to prove it cannot be done."
   ]
  },
  {
   "cell_type": "code",
   "execution_count": 175,
   "id": "68f50a48-f37a-4ad6-aff8-20663e0a1e10",
   "metadata": {},
   "outputs": [
    {
     "ename": "TypeError",
     "evalue": "'tuple' object doesn't support item deletion",
     "output_type": "error",
     "traceback": [
      "\u001b[0;31m---------------------------------------------------------------------------\u001b[0m",
      "\u001b[0;31mTypeError\u001b[0m                                 Traceback (most recent call last)",
      "Cell \u001b[0;32mIn[175], line 1\u001b[0m\n\u001b[0;32m----> 1\u001b[0m \u001b[38;5;28;01mdel\u001b[39;00m my_tuple[\u001b[38;5;241m1\u001b[39m]\n",
      "\u001b[0;31mTypeError\u001b[0m: 'tuple' object doesn't support item deletion"
     ]
    }
   ],
   "source": [
    "del my_tuple[1]"
   ]
  },
  {
   "cell_type": "markdown",
   "id": "d49b6a7a-0602-43e0-91f9-82aae503126c",
   "metadata": {},
   "source": [
    "9. [X] Write a Python function named **`movie_summary`** that takes as argument a dictionary of movies with the following structure:  \n",
    "\n",
    "   ```python\n",
    "   movies = {\n",
    "     \"Inception\": {\"year\": 2010, \"genre\": \"Sci-Fi\"},\n",
    "     \"Parasite\": {\"year\": 2019, \"genre\": \"Drama\"},\n",
    "     \"Whiplash\": {\"year\": 2014, \"genre\": \"Drama\"}\n",
    "   }\n",
    "   ```\n",
    "   \n",
    "The function must return a list with sentences in the following format:  \n",
    "\n",
    "> \"The movie Inception belongs to the Sci-Fi genre and was released in 2010.\"  \n"
   ]
  },
  {
   "cell_type": "code",
   "execution_count": 176,
   "id": "822aaaf6-8926-40bc-a21f-2d96f7b03b31",
   "metadata": {},
   "outputs": [],
   "source": [
    "# 9. Define function movie_summary\n",
    "def movie_summary(movies_dict):\n",
    "    \"\"\"\n",
    "    Takes a dictionary of movies and returns a list of formatted summary sentences.\n",
    "    Args: \n",
    "        movies_dict (dict): A dictionary where keys are movie titles and values are dictionaries with \"year\" and \"genre\".\n",
    "    Returns: \n",
    "        list: A list of sentences summarizing each movie.\n",
    "    \"\"\"\n",
    "    info = []\n",
    "    for title, details in movies_dict.items():\n",
    "        sentence = f\"The movie {title} belongs to the {details['genre']} genre and was released in {details['year']}.\"\n",
    "        info.append(sentence)\n",
    "    return info"
   ]
  },
  {
   "cell_type": "code",
   "execution_count": 177,
   "id": "c2145913-b06a-4a58-a772-ed1e4dac20b5",
   "metadata": {},
   "outputs": [
    {
     "data": {
      "text/plain": [
       "['The movie Inception belongs to the Sci-Fi genre and was released in 2010.',\n",
       " 'The movie Parasite belongs to the Drama genre and was released in 2019.',\n",
       " 'The movie Whiplash belongs to the Drama genre and was released in 2014.']"
      ]
     },
     "execution_count": 177,
     "metadata": {},
     "output_type": "execute_result"
    }
   ],
   "source": [
    "movies = {\"Inception\": {\"year\": 2010, \"genre\": \"Sci-Fi\"},\n",
    "          \"Parasite\": {\"year\": 2019, \"genre\": \"Drama\"},\n",
    "          \"Whiplash\": {\"year\": 2014, \"genre\": \"Drama\"}}\n",
    "movie_summary(movies)"
   ]
  },
  {
   "cell_type": "code",
   "execution_count": 178,
   "id": "8c3ba263-805e-4a9e-a90e-fe9093ad1f4f",
   "metadata": {},
   "outputs": [],
   "source": [
    "# 9. ALTERNATIVA: Get info by movie\n",
    "def movie_summary2(movies_dict, title):\n",
    "    \"\"\"\n",
    "    Takes a dictionary of movies and title of one of then and returns a prints basic information about it.\n",
    "    Args: \n",
    "        movies_dict (dict): A dictionary where keys are movie titles and values are dictionaries with \"year\" and \"genre\".\n",
    "        title (str): A movie title from the dict.\n",
    "    Returns: \n",
    "        info: A str summarizing selected movie.\n",
    "    \"\"\"\n",
    "    if title in movies_dict:\n",
    "        info = f\"The movie {title} belongs to the {movies_dict[title]['genre']} genre and was released in {movies_dict[title]['year']}.\"\n",
    "    else:\n",
    "        info = f\"The movie {title} is not in the entered dict.\"        \n",
    "    return info"
   ]
  },
  {
   "cell_type": "code",
   "execution_count": 179,
   "id": "0af61508-b3a1-4594-aa69-4c22579e3d58",
   "metadata": {},
   "outputs": [
    {
     "data": {
      "text/plain": [
       "'The movie Whiplash belongs to the Drama genre and was released in 2014.'"
      ]
     },
     "execution_count": 179,
     "metadata": {},
     "output_type": "execute_result"
    }
   ],
   "source": [
    "movie_summary2(movies, 'Whiplash')"
   ]
  },
  {
   "cell_type": "markdown",
   "id": "59de832d-b762-44c8-a2bc-3a90b4727d66",
   "metadata": {},
   "source": [
    "10. [X] Using **NumPy**, generate a **4x4 matrix** with random integers between 1 and 100.  \n",
    "Then calculate:  \n",
    "- The **mean per column**  \n",
    "- The **sum of the values in the main diagonal**  "
   ]
  },
  {
   "cell_type": "code",
   "execution_count": 180,
   "id": "4dbd9b2c-451b-4212-be31-f904d0cba3de",
   "metadata": {},
   "outputs": [],
   "source": [
    "import numpy as np"
   ]
  },
  {
   "cell_type": "code",
   "execution_count": 181,
   "id": "3c613a68-c3be-4689-848f-57dc53546474",
   "metadata": {},
   "outputs": [
    {
     "name": "stdout",
     "output_type": "stream",
     "text": [
      "\n",
      "10. Matrix:\n",
      "[[ 81  46 100  25]\n",
      " [ 87  95  25   9]\n",
      " [ 89  97  74   5]\n",
      " [100  34  75  94]]\n",
      "\n",
      "10.a Column means:\n",
      "[89.25 68.   68.5  33.25]\n",
      "\n",
      "10.b Sum of the values in the main diagonal:\n"
     ]
    },
    {
     "data": {
      "text/plain": [
       "344"
      ]
     },
     "execution_count": 181,
     "metadata": {},
     "output_type": "execute_result"
    }
   ],
   "source": [
    "# 10.\n",
    "# Generate a 4x4 matriz with random integers between 1 y 100\n",
    "matrix = np.random.randint(1, 101, size=(4, 4))\n",
    "\n",
    "print(\"\\n10. Matrix:\")\n",
    "print(matrix)\n",
    "\n",
    "# Calculate mean per column\n",
    "column_means = np.mean(matrix, axis=0)\n",
    "\n",
    "print(\"\\n10.a Column means:\")\n",
    "print(column_means)\n",
    "\n",
    "# Calculate sum of the values in the main diagonal\n",
    "sum_main_diagonal = np.trace(matrix)\n",
    "\n",
    "print(\"\\n10.b Sum of the values in the main diagonal:\")\n",
    "sum_main_diagonal"
   ]
  },
  {
   "cell_type": "markdown",
   "id": "9174c20c-958b-439b-a0bd-717ac1445533",
   "metadata": {},
   "source": [
    "---\n",
    "\n",
    "## Part 3 – Pandas Series  \n",
    "\n",
    "11. [X] From the list of grades `[15, 17, 20, 11, 13, 18, 19]`, create a **Pandas Series** assigning student names as the index (for example: `\"Ana\"`, `\"Jorge\"`, `\"Valeria\"`, etc.).  "
   ]
  },
  {
   "cell_type": "code",
   "execution_count": 182,
   "id": "8bd1c7bc",
   "metadata": {},
   "outputs": [],
   "source": [
    "import pandas as pd"
   ]
  },
  {
   "cell_type": "code",
   "execution_count": 183,
   "id": "13221713-404e-436a-b0f0-9d0fdd6d760d",
   "metadata": {},
   "outputs": [
    {
     "data": {
      "text/plain": [
       "Ana        15\n",
       "Jorge      17\n",
       "Valeria    20\n",
       "David      11\n",
       "Evelin     13\n",
       "Franco     18\n",
       "Grecia     19\n",
       "dtype: int64"
      ]
     },
     "execution_count": 183,
     "metadata": {},
     "output_type": "execute_result"
    }
   ],
   "source": [
    "# 11. This script creates a DataFrame with the grades and students\n",
    "grades = [15, 17, 20, 11, 13, 18, 19]\n",
    "students = ['Ana', 'Jorge', 'Valeria', 'David', 'Evelin', 'Franco', 'Grecia']\n",
    "\n",
    "grades_series = pd.Series(grades, index=students)\n",
    "\n",
    "grades_series"
   ]
  },
  {
   "cell_type": "markdown",
   "id": "ea621522-30b6-4391-9dd4-60803f81f4ef",
   "metadata": {},
   "source": [
    "12. [X] Using the Series created in the previous step, calculate:  \n",
    "   - The **average of the grades**.  \n",
    "   - The **student with the highest grade** (use `.idxmax()`).  \n",
    "   - The **student with the lowest grade** (use `.idxmin()`).  "
   ]
  },
  {
   "cell_type": "code",
   "execution_count": 184,
   "id": "1cf3759f",
   "metadata": {},
   "outputs": [
    {
     "data": {
      "text/plain": [
       "(16.142857142857142, 'Valeria', 'David')"
      ]
     },
     "execution_count": 184,
     "metadata": {},
     "output_type": "execute_result"
    }
   ],
   "source": [
    "# 12. This script calculates the average grade, highest and lowest student\n",
    "average_grade = grades_series.mean()\n",
    "highest_student = grades_series.idxmax()\n",
    "lowest_student = grades_series.idxmin()\n",
    "\n",
    "average_grade, highest_student, lowest_student"
   ]
  },
  {
   "cell_type": "markdown",
   "id": "4cc01618-0ed8-4043-9647-dff107bf83a9",
   "metadata": {},
   "source": [
    "13.  [X] Create a Series from a **dictionary of countries and their capitals**.  \n",
    "    Filter and display only those countries whose capital has more than **6 letters**."
   ]
  },
  {
   "cell_type": "code",
   "execution_count": 185,
   "id": "e7ef22eb",
   "metadata": {},
   "outputs": [
    {
     "data": {
      "text/plain": [
       "Argentina         Buenos Aires\n",
       "Chile        Santiago de Chile\n",
       "Brazil                Brasilia\n",
       "Venezuela              Caracas\n",
       "dtype: object"
      ]
     },
     "execution_count": 185,
     "metadata": {},
     "output_type": "execute_result"
    }
   ],
   "source": [
    "# 13. This script creates a dictionary of countries and their capitals\n",
    "countries = {\n",
    "    'Peru': 'Lima',\n",
    "    'Colombia' : 'Bogotá',\n",
    "    'Argentina': 'Buenos Aires',\n",
    "    'Chile': 'Santiago de Chile',\n",
    "    'Ecuador': 'Quito',\n",
    "    'Bolivia': 'Sucre',\n",
    "    'Brazil': 'Brasilia',\n",
    "    'Venezuela': 'Caracas'\n",
    "}\n",
    "\n",
    "countries_series = pd.Series(countries)\n",
    "countries_filered = countries_series[countries_series.str.len()>6]\n",
    "\n",
    "countries_filered"
   ]
  },
  {
   "cell_type": "markdown",
   "id": "80026fbe-4668-435b-96af-508cb3a077e9",
   "metadata": {},
   "source": [
    "14. [X] Create a Series containing several **strings** and convert all its elements to **uppercase** using the `.apply(str.upper)` method.  "
   ]
  },
  {
   "cell_type": "code",
   "execution_count": 186,
   "id": "8d763cf8",
   "metadata": {},
   "outputs": [
    {
     "data": {
      "text/plain": [
       "0                  DIPLOMADO\n",
       "1                       PUCP\n",
       "2                     PYTHON\n",
       "3               DATA SCIENCE\n",
       "4           MACHINE LEARNING\n",
       "5    ARTIFICIAL INTELLIGENCE\n",
       "dtype: object"
      ]
     },
     "execution_count": 186,
     "metadata": {},
     "output_type": "execute_result"
    }
   ],
   "source": [
    "# 14. This script creates a Series with text data\n",
    "text = ['diplomado', 'pucp', 'python', 'data science', 'machine learning', 'artificial intelligence']\n",
    "text_series = pd.Series(text)\n",
    "text_series = text_series.apply(str.upper)\n",
    "text_series"
   ]
  }
 ],
 "metadata": {
  "kernelspec": {
   "display_name": "Python [conda env:base] *",
   "language": "python",
   "name": "conda-base-py"
  },
  "language_info": {
   "codemirror_mode": {
    "name": "ipython",
    "version": 3
   },
   "file_extension": ".py",
   "mimetype": "text/x-python",
   "name": "python",
   "nbconvert_exporter": "python",
   "pygments_lexer": "ipython3",
   "version": "3.11.5"
  }
 },
 "nbformat": 4,
 "nbformat_minor": 5
}
