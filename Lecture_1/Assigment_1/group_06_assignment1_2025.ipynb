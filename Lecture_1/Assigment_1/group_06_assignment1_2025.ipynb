{
 "cells": [
  {
   "cell_type": "markdown",
   "id": "15b8b1a8",
   "metadata": {},
   "source": [
    "# Assignment 1 – Part 1: Git Workflow (Branch → Pull Request → Merge)\n",
    "\n",
    "---\n",
    "\n",
    "## Q1: Difference between working on a branch and working directly on main\n",
    "\n",
    "- **Main**: This is the central branch of the repository. If you edit directly here, any mistakes or bugs affect the entire project.\n",
    "- **Branch**: A separate working space where you can make changes without affecting `main`. Once changes are tested and reviewed, they can be merged back into `main`.\n",
    "\n",
    "**Why is it recommended to always use branches in collaborative projects?**\n",
    "\n",
    "- Prevents breaking the main codebase.\n",
    "- Allows multiple people to work independently on different features or files.\n",
    "- Makes it easier to review and manage contributions before merging.\n",
    "\n",
    "---\n",
    "\n",
    "## Q3: Git command for the commit\n",
    "\n",
    "git add Diplomado_PUCP/Lecture_1/Assignment_1/movies.md\n",
    "\n",
    "git commit -m \"Added my favorite movies\""
   ]
  },
  {
   "cell_type": "markdown",
   "id": "89955879",
   "metadata": {},
   "source": [
    "## Q4: Repository maintainer\n",
    "- Nicole"
   ]
  },
  {
   "cell_type": "markdown",
   "id": "892fa23f",
   "metadata": {},
   "source": [
    "## Q5: Pull Request (PR) explanation\n",
    "\n",
    "- After finishing changes in the branch, we must create a **Pull Request (PR)** to merge `group_06_assignment1_2025` into `main`.  \n",
    "- The PR allows the maintainer and other collaborators to review the changes before they are merged.  \n",
    "\n",
    "**A reviewer might reject the PR if:**\n",
    "- There are **code conflicts** with `main`.  \n",
    "- The contribution **does not follow instructions** (wrong folder, missing file, incorrect branch name).  \n",
    "- There are **formatting errors** (Markdown not clean, wrong structure).  \n",
    "- The submission is **incomplete** (less than 3 movies, missing synopsis, etc.).  "
   ]
  },
  {
   "cell_type": "code",
   "execution_count": 18,
   "id": "6489b655",
   "metadata": {},
   "outputs": [
    {
     "name": "stdout",
     "output_type": "stream",
     "text": [
      "<class 'int'>\n",
      "<class 'float'>\n",
      "<class 'str'>\n",
      "<class 'bool'>\n"
     ]
    }
   ],
   "source": [
    "##Parte 2 – Data Types and Data Structures\n",
    "\n",
    "# Variables de distintos tipos\n",
    "x_int = 10\n",
    "x_float = 3.14\n",
    "x_str = \"Hola Python\"\n",
    "x_bool = True\n",
    "\n",
    "print(type(x_int))\n",
    "print(type(x_float))\n",
    "print(type(x_str))\n",
    "print(type(x_bool))"
   ]
  },
  {
   "cell_type": "code",
   "execution_count": 19,
   "id": "1d3a1ef4",
   "metadata": {},
   "outputs": [
    {
     "name": "stdout",
     "output_type": "stream",
     "text": [
      "Primer elemento: cadena de texto\n",
      "Último elemento: ['Bad Bunny', 'Shakira']\n",
      "Lista con nuevo elemento: ['cadena de texto', False, 42, 7.5, ['Bad Bunny', 'Shakira'], 'Nuevo elemento']\n",
      "Lista sin el booleano: ['cadena de texto', 42, 7.5, ['Bad Bunny', 'Shakira'], 'Nuevo elemento']\n"
     ]
    }
   ],
   "source": [
    "# Lista con varios elementos\n",
    "my_list = [\n",
    "    \"cadena de texto\",\n",
    "    False,\n",
    "    42,\n",
    "    7.5,\n",
    "    [\"Bad Bunny\", \"Shakira\"]\n",
    "]\n",
    "\n",
    "# Acceder al primer y último elemento\n",
    "print(\"Primer elemento:\", my_list[0])\n",
    "print(\"Último elemento:\", my_list[-1])\n",
    "\n",
    "# Agregar un nuevo string\n",
    "my_list.append(\"Nuevo elemento\")\n",
    "print(\"Lista con nuevo elemento:\", my_list)\n",
    "\n",
    "# Eliminar el booleano\n",
    "my_list.remove(False)\n",
    "print(\"Lista sin el booleano:\", my_list)"
   ]
  },
  {
   "cell_type": "code",
   "execution_count": 20,
   "id": "8daa32e8",
   "metadata": {},
   "outputs": [
    {
     "name": "stdout",
     "output_type": "stream",
     "text": [
      "Mi tupla: ('Python', True, (1, 2, 3))\n",
      "Error al modificar la tupla: 'tuple' object does not support item assignment\n"
     ]
    }
   ],
   "source": [
    "# Definición de tupla\n",
    "my_tuple = (\n",
    "    \"Python\",\n",
    "    True,\n",
    "    (1, 2, 3)\n",
    ")\n",
    "\n",
    "print(\"Mi tupla:\", my_tuple)\n",
    "\n",
    "# Explicación: una tupla es inmutable (no se puede cambiar después de creada).\n",
    "# Intentar modificarla dará error:\n",
    "try:\n",
    "    my_tuple[0] = \"Java\"\n",
    "except TypeError as e:\n",
    "    print(\"Error al modificar la tupla:\", e)"
   ]
  },
  {
   "cell_type": "code",
   "execution_count": 22,
   "id": "fcb97b77",
   "metadata": {},
   "outputs": [
    {
     "data": {
      "text/plain": [
       "['The movie Inception belongs to the Sci-Fi genre and was released in 2010.',\n",
       " 'The movie Parasite belongs to the Drama genre and was released in 2019.',\n",
       " 'The movie Whiplash belongs to the Drama genre and was released in 2014.']"
      ]
     },
     "execution_count": 22,
     "metadata": {},
     "output_type": "execute_result"
    }
   ],
   "source": [
    "# Función movie_summary\n",
    "def movie_summary(movies):\n",
    "    summaries = []\n",
    "    for title, info in movies.items():\n",
    "        summaries.append(f\"The movie {title} belongs to the {info['genre']} genre and was released in {info['year']}.\")\n",
    "    return summaries\n",
    "\n",
    "movies = {\n",
    "  \"Inception\": {\"year\": 2010, \"genre\": \"Sci-Fi\"},\n",
    "  \"Parasite\": {\"year\": 2019, \"genre\": \"Drama\"},\n",
    "  \"Whiplash\": {\"year\": 2014, \"genre\": \"Drama\"}\n",
    "}\n",
    "\n",
    "movie_summary(movies)"
   ]
  },
  {
   "cell_type": "code",
   "execution_count": 23,
   "id": "26d28346",
   "metadata": {},
   "outputs": [
    {
     "name": "stdout",
     "output_type": "stream",
     "text": [
      "Matriz:\n",
      " [[52 42 43 14]\n",
      " [82  6 79 41]\n",
      " [42 23 31 41]\n",
      " [65 85  4 30]]\n",
      "Media por columna: [60.25 39.   39.25 31.5 ]\n",
      "Suma diagonal: 119\n"
     ]
    }
   ],
   "source": [
    "# Numpy: matriz 4x4 con enteros aleatorios\n",
    "import numpy as np\n",
    "\n",
    "matrix = np.random.randint(1, 101, size=(4, 4))\n",
    "print(\"Matriz:\\n\", matrix)\n",
    "\n",
    "# Media por columna\n",
    "print(\"Media por columna:\", matrix.mean(axis=0))\n",
    "\n",
    "# Suma de la diagonal principal\n",
    "print(\"Suma diagonal:\", np.trace(matrix))"
   ]
  },
  {
   "cell_type": "code",
   "execution_count": 24,
   "id": "9d02061c",
   "metadata": {},
   "outputs": [
    {
     "name": "stdout",
     "output_type": "stream",
     "text": [
      "Ana        15\n",
      "Jorge      17\n",
      "Valeria    20\n",
      "Luis       11\n",
      "María      13\n",
      "Pedro      18\n",
      "Lucía      19\n",
      "dtype: int64\n"
     ]
    }
   ],
   "source": [
    "import pandas as pd\n",
    "\n",
    "grades = [15, 17, 20, 11, 13, 18, 19]\n",
    "students = [\"Ana\", \"Jorge\", \"Valeria\", \"Luis\", \"María\", \"Pedro\", \"Lucía\"]\n",
    "\n",
    "grades_series = pd.Series(grades, index=students)\n",
    "print(grades_series)"
   ]
  },
  {
   "cell_type": "code",
   "execution_count": 25,
   "id": "c28995cb",
   "metadata": {},
   "outputs": [
    {
     "name": "stdout",
     "output_type": "stream",
     "text": [
      "Promedio: 16.142857142857142\n",
      "Mayor nota: Valeria\n",
      "Menor nota: Luis\n"
     ]
    }
   ],
   "source": [
    "# Promedio de notas\n",
    "print(\"Promedio:\", grades_series.mean())\n",
    "\n",
    "# Estudiante con nota más alta\n",
    "print(\"Mayor nota:\", grades_series.idxmax())\n",
    "\n",
    "# Estudiante con nota más baja\n",
    "print(\"Menor nota:\", grades_series.idxmin())\n"
   ]
  },
  {
   "cell_type": "code",
   "execution_count": 26,
   "id": "98e0132f",
   "metadata": {},
   "outputs": [
    {
     "name": "stdout",
     "output_type": "stream",
     "text": [
      "Todas las capitales:\n",
      " Peru                     Lima\n",
      "Argentina        Buenos Aires\n",
      "Mexico       Ciudad de Mexico\n",
      "Chile                Santiago\n",
      "dtype: object\n",
      "Capitales con más de 6 letras:\n",
      " Argentina        Buenos Aires\n",
      "Mexico       Ciudad de Mexico\n",
      "Chile                Santiago\n",
      "dtype: object\n"
     ]
    }
   ],
   "source": [
    "# Serie de países y capitales\n",
    "countries = {\n",
    "    \"Peru\": \"Lima\",\n",
    "    \"Argentina\": \"Buenos Aires\",\n",
    "    \"Mexico\": \"Ciudad de Mexico\",\n",
    "    \"Chile\": \"Santiago\"\n",
    "}\n",
    "\n",
    "capitals_series = pd.Series(countries)\n",
    "print(\"Todas las capitales:\\n\", capitals_series)\n",
    "\n",
    "# Filtrar capitales con más de 6 letras\n",
    "print(\"Capitales con más de 6 letras:\\n\", capitals_series[capitals_series.str.len() > 6])\n"
   ]
  },
  {
   "cell_type": "code",
   "execution_count": 27,
   "id": "1e930418",
   "metadata": {},
   "outputs": [
    {
     "name": "stdout",
     "output_type": "stream",
     "text": [
      "0      PYTHON\n",
      "1         GIT\n",
      "2      GITHUB\n",
      "3    ANACONDA\n",
      "dtype: object\n"
     ]
    }
   ],
   "source": [
    "# Serie con strings y conversión a mayúsculas\n",
    "text_series = pd.Series([\"python\", \"git\", \"github\", \"anaconda\"])\n",
    "print(text_series.apply(str.upper))\n"
   ]
  },
  {
   "cell_type": "code",
   "execution_count": null,
   "id": "1d415ec1",
   "metadata": {},
   "outputs": [],
   "source": []
  }
 ],
 "metadata": {
  "kernelspec": {
   "display_name": "Python 3 (ipykernel)",
   "language": "python",
   "name": "python3"
  },
  "language_info": {
   "codemirror_mode": {
    "name": "ipython",
    "version": 3
   },
   "file_extension": ".py",
   "mimetype": "text/x-python",
   "name": "python",
   "nbconvert_exporter": "python",
   "pygments_lexer": "ipython3",
   "version": "3.11.5"
  }
 },
 "nbformat": 4,
 "nbformat_minor": 5
}
