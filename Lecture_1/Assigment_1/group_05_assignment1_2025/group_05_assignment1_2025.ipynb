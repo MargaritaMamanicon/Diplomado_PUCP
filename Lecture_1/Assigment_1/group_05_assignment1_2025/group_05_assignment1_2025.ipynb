{
 "cells": [
  {
   "cell_type": "markdown",
   "id": "4365bc2a-d3b8-492f-a7ba-083790f9f27c",
   "metadata": {},
   "source": [
    "# Assignment 1: Group 5\n",
    "\n",
    "*Curso:* Fundamentos de Python\n",
    "\n",
    "*Profesor:* Alexander Quispe  \n",
    "\n",
    "*Fecha:* 24 de agosto de 2025  \n",
    "\n",
    "---\n",
    "\n",
    "## Integrantes:\n",
    "\n",
    "- Lesly León  \n",
    "- Susan Montalvo  \n",
    "- Vivian Saurino  \n",
    "- Esteban Quispitupa"
   ]
  },
  {
   "cell_type": "markdown",
   "id": "28378aaa-e14c-4bb0-a06f-2fb0d2c7f6c9",
   "metadata": {},
   "source": [
    "## Parte 1"
   ]
  },
  {
   "cell_type": "markdown",
   "id": "bfd72ebf-49b8-4b29-b16c-827cb312c133",
   "metadata": {},
   "source": [
    "Repository maintainer: Susan Montalvo"
   ]
  },
  {
   "cell_type": "markdown",
   "id": "e856eda1-3c06-44bb-9446-44b0821b4d58",
   "metadata": {},
   "source": [
    "1. Explain the difference between working on a branch and working directly on main. Why is it recommended to always use branches in collaborative projects? [1 pts]"
   ]
  },
  {
   "cell_type": "markdown",
   "id": "db51daf9-369d-435a-8e89-e0ad2729cec3",
   "metadata": {},
   "source": [
    "Trabajar en main significa modificar directamente la rama principal, mientras que en un branch los cambios se realizan en paralelo y pueden incorporarse posteriormente, previa revisión. En ese sentido, es recomendable usar un branch, ya que evita afectar al main y facilita el trabajo colaborativo."
   ]
  },
  {
   "cell_type": "markdown",
   "id": "f90eb3a4-0151-4fa5-b69e-dfcfd8f5c064",
   "metadata": {},
   "source": [
    "5. Explain in which cases a reviewer might reject the PR (e.g., code conflicts, formatting errors, failure to follow instructions, etc.)."
   ]
  },
  {
   "cell_type": "markdown",
   "id": "02811d7a-6721-4710-ade1-2141a0d02864",
   "metadata": {},
   "source": [
    "Un revisor puede rechazar un Pull Request cuando detecta conflictos de código que impiden su integración al main, fallas en la ejecución del código, o cuando no se han seguido las instrucciones definidas para el proyecto. Asimismo, el rechazo puede darse si la documentación es insuficiente para comprender los cambios realizados, redundante o no aporta valor al desarrollo del repositorio."
   ]
  },
  {
   "cell_type": "markdown",
   "id": "5cdebf9f-c555-4c40-85f9-27d90659ca76",
   "metadata": {},
   "source": [
    "## Parte 2"
   ]
  },
  {
   "cell_type": "markdown",
   "id": "a583ef5c-6c43-4fc2-97b9-23e7128b851e",
   "metadata": {},
   "source": [
    "6. Declare a variable for each of the following types: int, float, string, and boolean.\n",
    "Then print the type of each variable using the type() function."
   ]
  },
  {
   "cell_type": "code",
   "execution_count": 3,
   "id": "114e85c5-03cf-49b3-945c-b16677a2c7a3",
   "metadata": {},
   "outputs": [],
   "source": [
    "an_int = 30"
   ]
  },
  {
   "cell_type": "code",
   "execution_count": 9,
   "id": "14b6f1d4-45c0-4ba1-a74f-1310d5d90588",
   "metadata": {},
   "outputs": [],
   "source": [
    "a_float = 2.50"
   ]
  },
  {
   "cell_type": "code",
   "execution_count": 11,
   "id": "ce3f6929-241e-4b4a-a073-7b2ed99a7996",
   "metadata": {},
   "outputs": [],
   "source": [
    "a_string = \"improve\""
   ]
  },
  {
   "cell_type": "code",
   "execution_count": 13,
   "id": "dbd10fa6-c6da-4040-8ef4-1e426a481603",
   "metadata": {},
   "outputs": [],
   "source": [
    "a_bool = True"
   ]
  },
  {
   "cell_type": "code",
   "execution_count": 17,
   "id": "a637ac38-6b0a-4297-b2eb-abe4d8b99866",
   "metadata": {},
   "outputs": [
    {
     "name": "stdout",
     "output_type": "stream",
     "text": [
      "<class 'int'> <class 'float'> <class 'str'> <class 'bool'>\n"
     ]
    }
   ],
   "source": [
    "print(type(an_int), type(a_float), type(a_string), type(a_bool))"
   ]
  },
  {
   "cell_type": "markdown",
   "id": "156b5828-46b9-4f2b-ad2d-baa6eeec7b9a",
   "metadata": {},
   "source": [
    "7. Create a list with a string, a boolean, two numbers, and a sublist of two favorite artists; then access the first and last elements, add a string, and remove the boolean."
   ]
  },
  {
   "cell_type": "code",
   "execution_count": 10,
   "id": "e5514cb0-c817-4167-a939-b2a5ebe7650d",
   "metadata": {},
   "outputs": [],
   "source": [
    "list = [\"enero\", True, 30, 1.8, [\"Coldplay\", \"Adele\"]]"
   ]
  },
  {
   "cell_type": "markdown",
   "id": "dae6212c-cf48-4290-a52f-5d1bfd407a83",
   "metadata": {},
   "source": [
    "Access the first element:"
   ]
  },
  {
   "cell_type": "code",
   "execution_count": 12,
   "id": "a8136d29-92be-4ece-af82-c23a5cdc5758",
   "metadata": {},
   "outputs": [
    {
     "data": {
      "text/plain": [
       "'enero'"
      ]
     },
     "execution_count": 12,
     "metadata": {},
     "output_type": "execute_result"
    }
   ],
   "source": [
    "list[0]"
   ]
  },
  {
   "cell_type": "markdown",
   "id": "85862069-887e-4025-864f-84ba627f8e25",
   "metadata": {},
   "source": [
    "Access the last element:"
   ]
  },
  {
   "cell_type": "code",
   "execution_count": 14,
   "id": "66e50eee-70b6-43fc-9d9c-33b1a1797812",
   "metadata": {},
   "outputs": [
    {
     "data": {
      "text/plain": [
       "['Coldplay', 'Adele']"
      ]
     },
     "execution_count": 14,
     "metadata": {},
     "output_type": "execute_result"
    }
   ],
   "source": [
    "list[-1]"
   ]
  },
  {
   "cell_type": "markdown",
   "id": "762a1b62-f680-4489-afde-ad70281f8b3a",
   "metadata": {},
   "source": [
    "Add a new string:"
   ]
  },
  {
   "cell_type": "code",
   "execution_count": 16,
   "id": "96efd306-bcf1-43f5-a438-de4d16afde25",
   "metadata": {},
   "outputs": [
    {
     "data": {
      "text/plain": [
       "['enero', True, 30, 1.8, ['Coldplay', 'Adele'], 'diciembre']"
      ]
     },
     "execution_count": 16,
     "metadata": {},
     "output_type": "execute_result"
    }
   ],
   "source": [
    "list.append(\"diciembre\")\n",
    "list"
   ]
  },
  {
   "cell_type": "markdown",
   "id": "4eac2b9b-c614-4789-bd4e-46cc5d8567c3",
   "metadata": {},
   "source": [
    "Remove the boolean value:"
   ]
  },
  {
   "cell_type": "code",
   "execution_count": 18,
   "id": "96cf9064-97ae-4986-9b6a-ba58aff22dd6",
   "metadata": {},
   "outputs": [],
   "source": [
    "list.remove(True)"
   ]
  },
  {
   "cell_type": "code",
   "execution_count": 33,
   "id": "9620dce9-ff94-4f76-8617-403970df7b60",
   "metadata": {},
   "outputs": [
    {
     "data": {
      "text/plain": [
       "['enero', 30, 1.8, ['Coldplay', 'Michael Jackson'], 'diciembre', 'diciembre']"
      ]
     },
     "execution_count": 33,
     "metadata": {},
     "output_type": "execute_result"
    }
   ],
   "source": [
    "list"
   ]
  },
  {
   "cell_type": "markdown",
   "id": "8aa5f727-941e-489f-99a2-8215ae5d5cef",
   "metadata": {},
   "source": [
    "8. Define a tuple, explain its immutability, and provide a demonstration of this property."
   ]
  },
  {
   "cell_type": "code",
   "execution_count": 15,
   "id": "f6f52007-34e9-406f-a124-55a23d28b046",
   "metadata": {},
   "outputs": [],
   "source": [
    "new_tupla = (\"febrero\", True, 18, 20.0, 1.5)"
   ]
  },
  {
   "cell_type": "markdown",
   "id": "d0ce5796-9698-4252-9992-caefc6b71625",
   "metadata": {},
   "source": [
    "La tupla es inmutable porque, una vez creada, sus elementos no pueden modificarse, agregarse ni eliminarse. En caso de intentarlo, se generará un TypeError, indicando que la tupla no admite la asignación de elementos."
   ]
  },
  {
   "cell_type": "code",
   "execution_count": 16,
   "id": "0184131d-eb6b-437d-af69-cd899ebfb1b0",
   "metadata": {},
   "outputs": [
    {
     "name": "stdout",
     "output_type": "stream",
     "text": [
      "Error al intentar modificar la tupla: 'tuple' object does not support item assignment\n"
     ]
    }
   ],
   "source": [
    "try:\n",
    "    new_tupla[0] = \"marzo\"\n",
    "except TypeError as e:\n",
    "    print(\"Error al intentar modificar la tupla:\", e)"
   ]
  },
  {
   "cell_type": "markdown",
   "id": "8c254280-d1d9-4748-9c75-4dbab20e4578",
   "metadata": {},
   "source": [
    "9. Write a Python function named movie_summary that takes as input a dictionary of movies, where each key is a movie title and each value is another dictionary containing the movie’s \"year\" and \"genre\"."
   ]
  },
  {
   "cell_type": "code",
   "execution_count": 7,
   "id": "acfc0670-b390-49bc-9ea3-db32b5556c5c",
   "metadata": {},
   "outputs": [
    {
     "name": "stdout",
     "output_type": "stream",
     "text": [
      "The movie Grown Ups belongs to the Comedy genre and was released in 2010.\n",
      "The movie Click belongs to the Comedy genre and was released in 2006.\n",
      "The movie Just Go with It belongs to the Comedy genre and was released in 2011.\n"
     ]
    }
   ],
   "source": [
    "movies = {\n",
    "    \"Grown Ups\": {\"year\": 2010, \"genre\": \"Comedy\"},\n",
    "    \"Click\": {\"year\": 2006, \"genre\": \"Comedy\"},\n",
    "    \"Just Go with It\": {\"year\": 2011, \"genre\": \"Comedy\"}\n",
    "}\n",
    "\n",
    "def movie_summary(movies):\n",
    "    summary_list = [] \n",
    "    for title, info in movies.items():\n",
    "        sentence = f\"The movie {title} belongs to the {info['genre']} genre and was released in {info['year']}.\"\n",
    "        summary_list.append(sentence)\n",
    "    return summary_list\n",
    "\n",
    "result = movie_summary(movies)\n",
    "\n",
    "for r in result:\n",
    "    print(r)"
   ]
  },
  {
   "cell_type": "markdown",
   "id": "cb71994c-1f85-4209-a021-e134fcd7470b",
   "metadata": {},
   "source": [
    "10. Using NumPy, generate a 4x4 matrix with random integers between 1 and 100."
   ]
  },
  {
   "cell_type": "code",
   "execution_count": 8,
   "id": "41d2100a-b943-4495-9df0-bf9a8675c5f1",
   "metadata": {},
   "outputs": [
    {
     "name": "stdout",
     "output_type": "stream",
     "text": [
      "Requirement already satisfied: numpy in c:\\users\\esteban\\anaconda3\\lib\\site-packages (2.1.3)\n"
     ]
    }
   ],
   "source": [
    "!pip install numpy"
   ]
  },
  {
   "cell_type": "code",
   "execution_count": 9,
   "id": "f832d23c-c54e-4750-9a58-a7f3e91de0b0",
   "metadata": {},
   "outputs": [
    {
     "name": "stdout",
     "output_type": "stream",
     "text": [
      "2.1.3\n"
     ]
    }
   ],
   "source": [
    "import numpy as np\n",
    "print(np.__version__)"
   ]
  },
  {
   "cell_type": "code",
   "execution_count": 10,
   "id": "fc359742-6418-45a9-b9db-279a1d1c39f9",
   "metadata": {},
   "outputs": [
    {
     "name": "stdout",
     "output_type": "stream",
     "text": [
      "Matriz generada:\n",
      "[[90 70 21 64]\n",
      " [59 61 16 49]\n",
      " [14  3 79 78]\n",
      " [35 57 31 38]]\n",
      "\n",
      "Media por columna:\n",
      "[49.5  47.75 36.75 57.25]\n",
      "\n",
      "Suma de la diagonal principal:\n",
      "268\n"
     ]
    }
   ],
   "source": [
    "import numpy as np\n",
    "\n",
    "# Matriz 4x4 con enteros aleatorios entre 1 y 100\n",
    "matrix = np.random.randint(1, 101, size=(4, 4))\n",
    "print(\"Matriz generada:\")\n",
    "print(matrix)\n",
    "\n",
    "# Media por columna\n",
    "mean_per_column = np.mean(matrix, axis=0)\n",
    "print(\"\\nMedia por columna:\")\n",
    "print(mean_per_column)\n",
    "\n",
    "# Suma de la diagonal principal\n",
    "sum_diagonal = np.trace(matrix)\n",
    "print(\"\\nSuma de la diagonal principal:\")\n",
    "print(sum_diagonal)"
   ]
  },
  {
   "cell_type": "markdown",
   "id": "dfdda52b-4f62-4e24-897d-4c0e7ff285da",
   "metadata": {},
   "source": [
    "## Parte 3."
   ]
  },
  {
   "cell_type": "markdown",
   "id": "88461f4f-bdcd-450c-863a-4816101eb1d4",
   "metadata": {},
   "source": [
    "11. From the list of grades [15, 17, 20, 11, 13, 18, 19], create a Pandas Series assigning student names as the index "
   ]
  },
  {
   "cell_type": "code",
   "execution_count": 4,
   "id": "dc233fee-242c-406e-8ba4-bf3c4ebe36e0",
   "metadata": {},
   "outputs": [],
   "source": [
    "import pandas as pd"
   ]
  },
  {
   "cell_type": "code",
   "execution_count": 5,
   "id": "d2e3f0c5-3736-4087-bdc7-01764280e464",
   "metadata": {},
   "outputs": [
    {
     "name": "stdout",
     "output_type": "stream",
     "text": [
      "Aluumnos y notas:\n",
      " Estefania    15\n",
      "Antonella    17\n",
      "Viviana      20\n",
      "Henry        11\n",
      "Angel        13\n",
      "Lucía        18\n",
      "Katherin     19\n",
      "dtype: int64\n"
     ]
    }
   ],
   "source": [
    "grades = [15, 17, 20, 11, 13, 18, 19]\n",
    "students = [\"Estefania\", \"Antonella\", \"Viviana\", \"Henry\", \"Angel\", \"Lucía\", \"Katherin\"]\n",
    "grades_series = pd.Series(grades, index=students)\n",
    "print(\"Aluumnos y notas:\\n\", grades_series)"
   ]
  },
  {
   "cell_type": "markdown",
   "id": "fcf16eed-a9bf-4e39-96d6-f8f3bec83693",
   "metadata": {},
   "source": [
    "12. Using the Series created in the previous step, calculate:"
   ]
  },
  {
   "cell_type": "code",
   "execution_count": 10,
   "id": "71a8138d-305f-46cc-bf84-b83c7607c43f",
   "metadata": {},
   "outputs": [
    {
     "name": "stdout",
     "output_type": "stream",
     "text": [
      "promedio de notas:\n",
      " 16.142857142857142\n"
     ]
    }
   ],
   "source": [
    "grades_series.mean()\n",
    "print(\"promedio de notas:\\n\", grades_series.mean())"
   ]
  },
  {
   "cell_type": "code",
   "execution_count": 11,
   "id": "db732aa2-d64b-41db-9e07-e2c1c04cb855",
   "metadata": {},
   "outputs": [
    {
     "name": "stdout",
     "output_type": "stream",
     "text": [
      "Nota más alta: Viviana\n",
      "Nota más baja: Henry\n"
     ]
    }
   ],
   "source": [
    "print(\"Nota más alta:\", grades_series.idxmax())\n",
    "print(\"Nota más baja:\", grades_series.idxmin())"
   ]
  },
  {
   "cell_type": "markdown",
   "id": "fe914de6-7292-4322-9dc0-2f21e26f3aae",
   "metadata": {},
   "source": [
    "13. Create a Series from a dictionary of countries and their capitals. \n",
    "Filter and display only those countries whose capital has more than 6 letters."
   ]
  },
  {
   "cell_type": "code",
   "execution_count": 13,
   "id": "379cb238-80a5-40c4-946b-3e1a6f649573",
   "metadata": {},
   "outputs": [
    {
     "name": "stdout",
     "output_type": "stream",
     "text": [
      "Países y capitales:\n",
      " Peru                     Lima\n",
      "Argentina        Buenos Aires\n",
      "Chile                Santiago\n",
      "Colombia               Bogotá\n",
      "Mexico       Ciudad de México\n",
      "dtype: object \n",
      "\n"
     ]
    }
   ],
   "source": [
    "countries_capitals = {\"Peru\": \"Lima\",\"Argentina\": \"Buenos Aires\", \"Chile\": \"Santiago\", \"Colombia\": \"Bogotá\", \"Mexico\": \"Ciudad de México\"}\n",
    "capitals_series = pd.Series(countries_capitals)\n",
    "print(\"Países y capitales:\\n\", capitals_series, \"\\n\")"
   ]
  },
  {
   "cell_type": "code",
   "execution_count": 14,
   "id": "1766ec73-8734-44bf-8e5e-7be81ea3c306",
   "metadata": {},
   "outputs": [
    {
     "name": "stdout",
     "output_type": "stream",
     "text": [
      "Capitales con más de 6 letras:\n",
      " Argentina        Buenos Aires\n",
      "Chile                Santiago\n",
      "Mexico       Ciudad de México\n",
      "dtype: object\n"
     ]
    }
   ],
   "source": [
    "filtered_capitals = capitals_series[capitals_series.str.len() > 6]\n",
    "print(\"Capitales con más de 6 letras:\\n\", filtered_capitals)"
   ]
  },
  {
   "cell_type": "markdown",
   "id": "0ff46e92-92de-4f6f-9325-4e8e0c5ee3d9",
   "metadata": {},
   "source": [
    "14. Create a Series containing several strings and convert all its elements to uppercase using the .apply(str.upper) method.\n"
   ]
  },
  {
   "cell_type": "code",
   "execution_count": 15,
   "id": "542625c3-8336-4679-85f1-e40a3b975d8c",
   "metadata": {},
   "outputs": [
    {
     "name": "stdout",
     "output_type": "stream",
     "text": [
      "strings_series:\n",
      " 0      teclado\n",
      "1        mouse\n",
      "2       laptop\n",
      "3    impresora\n",
      "dtype: object\n"
     ]
    }
   ],
   "source": [
    "strings_series = pd.Series([\"teclado\", \"mouse\", \"laptop\", \"impresora\"])\n",
    "print(\"strings_series:\\n\", strings_series)"
   ]
  },
  {
   "cell_type": "code",
   "execution_count": 16,
   "id": "37bacc2d-cecd-45c8-a6cc-bb1033811a1e",
   "metadata": {},
   "outputs": [
    {
     "name": "stdout",
     "output_type": "stream",
     "text": [
      "uppercasestrings_series:\n",
      " 0      TECLADO\n",
      "1        MOUSE\n",
      "2       LAPTOP\n",
      "3    IMPRESORA\n",
      "dtype: object\n"
     ]
    }
   ],
   "source": [
    "uppercase_strings=strings_series.apply(str.upper)\n",
    "print(\"uppercasestrings_series:\\n\", uppercase_strings)"
   ]
  }
 ],
 "metadata": {
  "kernelspec": {
   "display_name": "Python 3 (ipykernel)",
   "language": "python",
   "name": "python3"
  },
  "language_info": {
   "codemirror_mode": {
    "name": "ipython",
    "version": 3
   },
   "file_extension": ".py",
   "mimetype": "text/x-python",
   "name": "python",
   "nbconvert_exporter": "python",
   "pygments_lexer": "ipython3",
   "version": "3.11.5"
  }
 },
 "nbformat": 4,
 "nbformat_minor": 5
}
