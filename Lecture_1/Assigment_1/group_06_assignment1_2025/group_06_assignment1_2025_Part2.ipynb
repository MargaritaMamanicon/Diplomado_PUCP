{
 "cells": [
  {
   "cell_type": "markdown",
   "id": "15b8b1a8",
   "metadata": {},
   "source": [
    "# Assignment 1 – Part 2: Data Types and Data Structures"
   ]
  },
  {
   "cell_type": "code",
   "execution_count": 18,
   "id": "6489b655",
   "metadata": {},
   "outputs": [
    {
     "name": "stdout",
     "output_type": "stream",
     "text": [
      "<class 'int'>\n",
      "<class 'float'>\n",
      "<class 'str'>\n",
      "<class 'bool'>\n"
     ]
    }
   ],
   "source": [
    "# P6\n",
    "\n",
    "# Variables de distintos tipos\n",
    "x_int = 10\n",
    "x_float = 3.14\n",
    "x_str = \"Hola Python\"\n",
    "x_bool = True\n",
    "\n",
    "print(type(x_int))\n",
    "print(type(x_float))\n",
    "print(type(x_str))\n",
    "print(type(x_bool))"
   ]
  },
  {
   "cell_type": "code",
   "execution_count": 19,
   "id": "1d3a1ef4",
   "metadata": {},
   "outputs": [
    {
     "name": "stdout",
     "output_type": "stream",
     "text": [
      "Primer elemento: cadena de texto\n",
      "Último elemento: ['Bad Bunny', 'Shakira']\n",
      "Lista con nuevo elemento: ['cadena de texto', False, 42, 7.5, ['Bad Bunny', 'Shakira'], 'Nuevo elemento']\n",
      "Lista sin el booleano: ['cadena de texto', 42, 7.5, ['Bad Bunny', 'Shakira'], 'Nuevo elemento']\n"
     ]
    }
   ],
   "source": [
    "# P7\n",
    "\n",
    "# Lista con varios elementos\n",
    "my_list = [\n",
    "    \"cadena de texto\",\n",
    "    False,\n",
    "    42,\n",
    "    7.5,\n",
    "    [\"Bad Bunny\", \"Shakira\"]\n",
    "]\n",
    "\n",
    "# Acceder al primer y último elemento\n",
    "print(\"Primer elemento:\", my_list[0])\n",
    "print(\"Último elemento:\", my_list[-1])\n",
    "\n",
    "# Agregar un nuevo string\n",
    "my_list.append(\"Nuevo elemento\")\n",
    "print(\"Lista con nuevo elemento:\", my_list)\n",
    "\n",
    "# Eliminar el booleano\n",
    "my_list.remove(False)\n",
    "print(\"Lista sin el booleano:\", my_list)"
   ]
  },
  {
   "cell_type": "code",
   "execution_count": 20,
   "id": "8daa32e8",
   "metadata": {},
   "outputs": [
    {
     "name": "stdout",
     "output_type": "stream",
     "text": [
      "Mi tupla: ('Python', True, (1, 2, 3))\n",
      "Error al modificar la tupla: 'tuple' object does not support item assignment\n"
     ]
    }
   ],
   "source": [
    "# P8\n",
    "\n",
    "# Definición de tupla\n",
    "my_tuple = (\n",
    "    \"Python\",\n",
    "    True,\n",
    "    (1, 2, 3)\n",
    ")\n",
    "\n",
    "print(\"Mi tupla:\", my_tuple)\n",
    "\n",
    "# Explicación: una tupla es inmutable (no se puede cambiar después de creada).\n",
    "# Intentar modificarla dará error:\n",
    "try:\n",
    "    my_tuple[0] = \"Java\"\n",
    "except TypeError as e:\n",
    "    print(\"Error al modificar la tupla:\", e)"
   ]
  },
  {
   "cell_type": "code",
   "execution_count": 22,
   "id": "fcb97b77",
   "metadata": {},
   "outputs": [
    {
     "data": {
      "text/plain": [
       "['The movie Inception belongs to the Sci-Fi genre and was released in 2010.',\n",
       " 'The movie Parasite belongs to the Drama genre and was released in 2019.',\n",
       " 'The movie Whiplash belongs to the Drama genre and was released in 2014.']"
      ]
     },
     "execution_count": 22,
     "metadata": {},
     "output_type": "execute_result"
    }
   ],
   "source": [
    "# P9\n",
    "\n",
    "# Función movie_summary\n",
    "def movie_summary(movies):\n",
    "    summaries = []\n",
    "    for title, info in movies.items():\n",
    "        summaries.append(\"The movie {title} belongs to the {info['genre']} genre and was released in {info['year']}.\")\n",
    "    return summaries\n",
    "\n",
    "movies = {\n",
    "  \"Inception\": {\"year\": 2010, \"genre\": \"Sci-Fi\"},\n",
    "  \"Parasite\": {\"year\": 2019, \"genre\": \"Drama\"},\n",
    "  \"Whiplash\": {\"year\": 2014, \"genre\": \"Drama\"}\n",
    "}\n",
    "\n",
    "movie_summary(movies)"
   ]
  },
  {
   "cell_type": "code",
   "execution_count": 23,
   "id": "26d28346",
   "metadata": {},
   "outputs": [
    {
     "name": "stdout",
     "output_type": "stream",
     "text": [
      "Matriz:\n",
      " [[52 42 43 14]\n",
      " [82  6 79 41]\n",
      " [42 23 31 41]\n",
      " [65 85  4 30]]\n",
      "Media por columna: [60.25 39.   39.25 31.5 ]\n",
      "Suma diagonal: 119\n"
     ]
    }
   ],
   "source": [
    "# P10\n",
    "\n",
    "# Numpy: matriz 4x4 con enteros aleatorios\n",
    "import numpy as np\n",
    "\n",
    "matrix = np.random.randint(1, 101, size=(4, 4))\n",
    "print(\"Matriz:\\n\", matrix)\n",
    "\n",
    "# Media por columna\n",
    "print(\"Media por columna:\", matrix.mean(axis=0))\n",
    "\n",
    "# Suma de la diagonal principal\n",
    "print(\"Suma diagonal:\", np.trace(matrix))"
   ]
  }
 ],
 "metadata": {
  "kernelspec": {
   "display_name": "Python 3 (ipykernel)",
   "language": "python",
   "name": "python3"
  },
  "language_info": {
   "codemirror_mode": {
    "name": "ipython",
    "version": 3
   },
   "file_extension": ".py",
   "mimetype": "text/x-python",
   "name": "python",
   "nbconvert_exporter": "python",
   "pygments_lexer": "ipython3",
   "version": "3.11.5"
  }
 },
 "nbformat": 4,
 "nbformat_minor": 5
}
