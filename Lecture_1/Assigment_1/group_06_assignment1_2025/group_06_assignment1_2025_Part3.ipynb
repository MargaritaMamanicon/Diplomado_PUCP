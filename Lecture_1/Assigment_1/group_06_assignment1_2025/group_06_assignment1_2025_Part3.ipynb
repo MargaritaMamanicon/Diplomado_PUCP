{
 "cells": [
  {
   "cell_type": "markdown",
   "id": "16e8628a",
   "metadata": {},
   "source": [
    "# Assignment 1 – Part 3: Pandas series"
   ]
  },
  {
   "cell_type": "code",
   "execution_count": 24,
   "id": "9d02061c",
   "metadata": {},
   "outputs": [
    {
     "name": "stdout",
     "output_type": "stream",
     "text": [
      "Ana        15\n",
      "Jorge      17\n",
      "Valeria    20\n",
      "Luis       11\n",
      "María      13\n",
      "Pedro      18\n",
      "Lucía      19\n",
      "dtype: int64\n"
     ]
    }
   ],
   "source": [
    "# P11\n",
    "\n",
    "import pandas as pd\n",
    "\n",
    "grades = [15, 17, 20, 11, 13, 18, 19]\n",
    "students = [\"Ana\", \"Jorge\", \"Valeria\", \"Luis\", \"María\", \"Pedro\", \"Lucía\"]\n",
    "\n",
    "grades_series = pd.Series(grades, index=students)\n",
    "print(grades_series)"
   ]
  },
  {
   "cell_type": "code",
   "execution_count": 25,
   "id": "c28995cb",
   "metadata": {},
   "outputs": [
    {
     "name": "stdout",
     "output_type": "stream",
     "text": [
      "Promedio: 16.142857142857142\n",
      "Mayor nota: Valeria\n",
      "Menor nota: Luis\n"
     ]
    }
   ],
   "source": [
    "# P12\n",
    "\n",
    "# Promedio de notas\n",
    "print(\"Promedio:\", grades_series.mean())\n",
    "\n",
    "# Estudiante con nota más alta\n",
    "print(\"Mayor nota:\", grades_series.idxmax())\n",
    "\n",
    "# Estudiante con nota más baja\n",
    "print(\"Menor nota:\", grades_series.idxmin())\n"
   ]
  },
  {
   "cell_type": "code",
   "execution_count": 26,
   "id": "98e0132f",
   "metadata": {},
   "outputs": [
    {
     "name": "stdout",
     "output_type": "stream",
     "text": [
      "Todas las capitales:\n",
      " Peru                     Lima\n",
      "Argentina        Buenos Aires\n",
      "Mexico       Ciudad de Mexico\n",
      "Chile                Santiago\n",
      "dtype: object\n",
      "Capitales con más de 6 letras:\n",
      " Argentina        Buenos Aires\n",
      "Mexico       Ciudad de Mexico\n",
      "Chile                Santiago\n",
      "dtype: object\n"
     ]
    }
   ],
   "source": [
    "# P13\n",
    "\n",
    "# Serie de países y capitales\n",
    "countries = {\n",
    "    \"Peru\": \"Lima\",\n",
    "    \"Argentina\": \"Buenos Aires\",\n",
    "    \"Mexico\": \"Ciudad de Mexico\",\n",
    "    \"Chile\": \"Santiago\"\n",
    "}\n",
    "\n",
    "capitals_series = pd.Series(countries)\n",
    "print(\"Todas las capitales:\\n\", capitals_series)\n",
    "\n",
    "# Filtrar capitales con más de 6 letras\n",
    "print(\"Capitales con más de 6 letras:\\n\", capitals_series[capitals_series.str.len() > 6])\n"
   ]
  },
  {
   "cell_type": "code",
   "execution_count": 27,
   "id": "1e930418",
   "metadata": {},
   "outputs": [
    {
     "name": "stdout",
     "output_type": "stream",
     "text": [
      "0      PYTHON\n",
      "1         GIT\n",
      "2      GITHUB\n",
      "3    ANACONDA\n",
      "dtype: object\n"
     ]
    }
   ],
   "source": [
    "# P14\n",
    "\n",
    "# Serie con strings y conversión a mayúsculas\n",
    "text_series = pd.Series([\"python\", \"git\", \"github\", \"anaconda\"])\n",
    "print(text_series.apply(str.upper))\n"
   ]
  }
 ],
 "metadata": {
  "kernelspec": {
   "display_name": "Python 3 (ipykernel)",
   "language": "python",
   "name": "python3"
  },
  "language_info": {
   "codemirror_mode": {
    "name": "ipython",
    "version": 3
   },
   "file_extension": ".py",
   "mimetype": "text/x-python",
   "name": "python",
   "nbconvert_exporter": "python",
   "pygments_lexer": "ipython3",
   "version": "3.11.5"
  }
 },
 "nbformat": 4,
 "nbformat_minor": 5
}
