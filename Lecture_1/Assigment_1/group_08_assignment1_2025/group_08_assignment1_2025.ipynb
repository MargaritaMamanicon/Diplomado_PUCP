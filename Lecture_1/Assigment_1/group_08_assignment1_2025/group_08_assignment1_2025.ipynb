{
 "cells": [
  {
   "cell_type": "markdown",
   "id": "438d79e4",
   "metadata": {},
   "source": [
    "# Part 2"
   ]
  },
  {
   "cell_type": "code",
   "execution_count": null,
   "id": "7cd632ea",
   "metadata": {},
   "outputs": [
    {
     "name": "stdout",
     "output_type": "stream",
     "text": [
      "<class 'int'>\n",
      "<class 'float'>\n",
      "<class 'str'>\n",
      "<class 'bool'>\n"
     ]
    }
   ],
   "source": [
    "# Pregunta 6. \n",
    "\n",
    "int_var = 5\n",
    "float_var = 5.5\n",
    "string_var = \"Entropía\"\n",
    "bool_var = True\n",
    "\n",
    "print(type(int_var))\n",
    "print(type(float_var))\n",
    "print(type(string_var))\n",
    "print(type(bool_var))\n",
    "\t\t\t\n"
   ]
  },
  {
   "cell_type": "code",
   "execution_count": 2,
   "id": "eba19c40",
   "metadata": {},
   "outputs": [
    {
     "name": "stdout",
     "output_type": "stream",
     "text": [
      "Batman ['Mike Oldfield', 'Kendrick Lamar']\n",
      "['Batman', True, 5, 5.6, ['Mike Oldfield', 'Kendrick Lamar'], 'Superman']\n",
      "['Batman', 5, 5.6, ['Mike Oldfield', 'Kendrick Lamar'], 'Superman']\n"
     ]
    }
   ],
   "source": [
    "# 7.\n",
    "\n",
    "my_list = [\"Batman\", True, 5, 5.6, [\"Mike Oldfield\", \"Kendrick Lamar\"]]\n",
    "\n",
    "print(my_list[0], my_list[-1])\n",
    "\n",
    "\n",
    "my_list.append(\"Superman\")\n",
    "print(my_list)\n",
    "\n",
    "\n",
    "my_list.remove(True)\n",
    "print(my_list)"
   ]
  },
  {
   "cell_type": "code",
   "execution_count": 10,
   "id": "8f4c8c86",
   "metadata": {},
   "outputs": [
    {
     "data": {
      "text/plain": [
       "('Flash', False, (6, 6.5, 7))"
      ]
     },
     "execution_count": null,
     "metadata": {},
     "output_type": "execute_result"
    }
   ],
   "source": [
    "# 8.\n",
    "\n",
    "my_tuple = (\"Flash\", False, (6, 6.5, 7))\n",
    "\n",
    "my_tuple\n",
    "\n",
    "# A tuple is immutable because it cannot be changed once is created, that means that you cannot add, delete or change any of its elements.\n"
   ]
  },
  {
   "cell_type": "code",
   "execution_count": 11,
   "id": "ad3d5b7e",
   "metadata": {},
   "outputs": [
    {
     "ename": "AttributeError",
     "evalue": "'tuple' object has no attribute 'append'",
     "output_type": "error",
     "traceback": [
      "\u001b[0;31m---------------------------------------------------------------------------\u001b[0m\n",
      "\u001b[0;31mAttributeError\u001b[0m                            Traceback (most recent call last)\n",
      "Cell \u001b[0;32mIn[11], line 3\u001b[0m\n",
      "\u001b[1;32m      1\u001b[0m \u001b[38;5;66;03m# trying to modify a tuple to prove it's immutable\u001b[39;00m\n",
      "\u001b[0;32m----> 3\u001b[0m \u001b[43mmy_tuple\u001b[49m\u001b[38;5;241;43m.\u001b[39;49m\u001b[43mappend\u001b[49m(\u001b[38;5;124m\"\u001b[39m\u001b[38;5;124mRust is better than C\u001b[39m\u001b[38;5;124m\"\u001b[39m)\n",
      "\n",
      "\u001b[0;31mAttributeError\u001b[0m: 'tuple' object has no attribute 'append'"
     ]
    }
   ],
   "source": [
    "# trying to modify a tuple to prove it's immutable\n",
    "\n",
    "my_tuple.append(\"Rust is better than C\")"
   ]
  },
  {
   "cell_type": "code",
   "execution_count": null,
   "id": "d4242784",
   "metadata": {},
   "outputs": [],
   "source": [
    "# 9. \n",
    "\n",
    "\n",
    "movies = {\n",
    "    \"Dune\": {\"year\": 2021, \"genre\": \"Sci-Fi\"},\n",
    "    \"Blade Runner 2049\": {\"year\": 2017, \"genre\": \"Sci-Fi\"},\n",
    "    \"Alien\": {\"year\": 1979, \"genre\": \"Sci-Fi\"}\n",
    "}\n",
    "\n",
    "\"\"\"\n",
    "we created a function that takes the year and genre from a movie dictionary then gives as result a short sentence. \n",
    "\n",
    "\"\"\"\n",
    "\n",
    "def movie_summary(movies):\n",
    "    \n",
    "    summaries = []\n",
    "    \n",
    "    for title, details in movies.items():\n",
    "        year = details[\"year\"]\n",
    "        genre = details[\"genre\"]\n",
    "        sentence = f\"The movie {title} belongs to the {genre} genre and was released in {year}.\"\n",
    "        summaries.append(sentence)\n",
    "    \n",
    "    return summaries\n",
    "\n",
    "result = movie_summary(movies)\n",
    "\n",
    "\n",
    "for summary in result:\n",
    "    print(summary)"
   ]
  },
  {
   "cell_type": "code",
   "execution_count": null,
   "id": "ee7f3eeb",
   "metadata": {},
   "outputs": [
    {
     "name": "stdout",
     "output_type": "stream",
     "text": [
      "Matriz 4x4:\n",
      " [[100   8  69  13]\n",
      " [ 28  96  98   5]\n",
      " [ 69  80  60  54]\n",
      " [ 81  96  70  64]]\n",
      "\n",
      "Media por columna: [69.5  70.   74.25 34.  ]\n",
      "\n",
      "Suma de la diagonal principal: 320\n"
     ]
    }
   ],
   "source": [
    "# 10.\n",
    "\n",
    "import numpy as np\n",
    "\n",
    "matrix = np.random.randint(1, 101, size=(4, 4))\n",
    "print(\"Matriz 4x4:\\n\", matrix)\n",
    "\n",
    "mean_per_column = np.mean(matrix, axis=0)\n",
    "print(\"\\nMedia por columna:\", mean_per_column)\n",
    "\n",
    "main_diagonal_sum = np.trace(matrix)\n",
    "print(\"\\nSuma de la diagonal principal:\", main_diagonal_sum)"
   ]
  },
  {
   "cell_type": "markdown",
   "id": "1dc95e82",
   "metadata": {},
   "source": [
    "# Part 3"
   ]
  },
  {
   "cell_type": "code",
   "execution_count": 37,
   "id": "1035d88d",
   "metadata": {},
   "outputs": [
    {
     "name": "stdout",
     "output_type": "stream",
     "text": [
      "Ana        15\n",
      "Jorge      17\n",
      "Valeria    20\n",
      "Luis       11\n",
      "María      13\n",
      "Carlos     18\n",
      "Sofía      19\n",
      "dtype: int64\n"
     ]
    }
   ],
   "source": [
    "# 11. \n",
    "\n",
    "import pandas as pd\n",
    "\n",
    "grades = [15, 17, 20, 11, 13, 18, 19]\n",
    "\n",
    "names = [\"Ana\", \"Jorge\", \"Valeria\", \"Luis\", \"María\", \"Carlos\",\"Sofía\"]\n",
    "\n",
    "df = pd.Series(grades, index = names)\n",
    "\n",
    "print(df)"
   ]
  },
  {
   "cell_type": "code",
   "execution_count": 38,
   "id": "6b09ea75",
   "metadata": {},
   "outputs": [
    {
     "name": "stdout",
     "output_type": "stream",
     "text": [
      "The grade average is: 16.142857142857142\n",
      "The student with highest grade is: Valeria\n",
      "The student with the lowest grade is Luis\n"
     ]
    }
   ],
   "source": [
    "# 12.\n",
    "\n",
    "avg = df.mean()\n",
    "\n",
    "print(f\"The grade average is: {avg}\")\n",
    "\n",
    "h_grade = df.idxmax()\n",
    "\n",
    "print(f\"The student with highest grade is: {h_grade}\")\n",
    "\n",
    "l_grade = df.idxmin()\n",
    "\n",
    "print(f\"The student with the lowest grade is {l_grade}\")\n"
   ]
  },
  {
   "cell_type": "code",
   "execution_count": 47,
   "id": "4c8a5851",
   "metadata": {},
   "outputs": [
    {
     "name": "stdout",
     "output_type": "stream",
     "text": [
      "Argentina    Buenos Aires\n",
      "Brazil           Brasilia\n",
      "Chile            Santiago\n",
      "Venezuela         Caracas\n",
      "Paraguay         Asuncion\n",
      "Uruguay        Montevideo\n",
      "dtype: object\n"
     ]
    }
   ],
   "source": [
    "# 13.\n",
    "\n",
    "# we created a list of south american countries and their capitals\n",
    "\n",
    "data = {\n",
    "    \"Peru\": \"Lima\",\n",
    "    \"Argentina\": \"Buenos Aires\",\n",
    "    \"Brazil\": \"Brasilia\",\n",
    "    \"Chile\": \"Santiago\",\n",
    "    \"Colombia\": \"Bogotá\",\n",
    "    \"Venezuela\": \"Caracas\",\n",
    "    \"Ecuador\": \"Quito\",\n",
    "    \"Paraguay\": \"Asuncion\",\n",
    "    \"Uruguay\": \"Montevideo\",\n",
    "    \"Bolivia\": \"La Paz\"\n",
    "\n",
    "}\n",
    "\n",
    "countries = pd.Series(data)\n",
    "\n",
    "six_len = countries[countries.str.len() > 6]\n",
    "\n",
    "print(six_len)"
   ]
  },
  {
   "cell_type": "code",
   "execution_count": 42,
   "id": "1a124038",
   "metadata": {},
   "outputs": [
    {
     "data": {
      "text/plain": [
       "0      FERRARI\n",
       "1       PORSHE\n",
       "2    MASERATTI\n",
       "3          BMW\n",
       "dtype: object"
      ]
     },
     "execution_count": null,
     "metadata": {},
     "output_type": "execute_result"
    }
   ],
   "source": [
    "# 14.\n",
    "\n",
    "brand = [\"ferrari\", \"porshe\", \"maseratti\", \"bmw\"]\n",
    "\n",
    "brand = pd.Series(brand)\n",
    "\n",
    "brand.apply(str.upper)"
   ]
  }
 ],
 "metadata": {
  "language_info": {
   "name": "python"
  }
 },
 "nbformat": 4,
 "nbformat_minor": 5
}
