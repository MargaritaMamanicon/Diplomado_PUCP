{
 "cells": [
  {
   "cell_type": "code",
   "execution_count": 2,
   "id": "62091f1b-cd71-4c14-bf24-a1f0befac092",
   "metadata": {},
   "outputs": [],
   "source": [
    "# Part 2 – Data Types and Data Structures\n",
    "## Grupo 12"
   ]
  },
  {
   "cell_type": "code",
   "execution_count": 10,
   "id": "a4099aee-0e61-4ff9-9da0-e4ef6bf843d7",
   "metadata": {},
   "outputs": [],
   "source": [
    "# 6 Declarando variables\n",
    "grupo12_entero = 12          # int\n",
    "grupo12_flotante = 3.14       # float\n",
    "grupo12_string = \"Somos el grupo 12\" # string\n",
    "grupo12_booleano = True      # boolean"
   ]
  },
  {
   "cell_type": "code",
   "execution_count": 11,
   "id": "65dd4d3b-0b35-4ae6-9c53-ed976cc6d531",
   "metadata": {},
   "outputs": [
    {
     "name": "stdout",
     "output_type": "stream",
     "text": [
      "<class 'int'>\n",
      "<class 'float'>\n",
      "<class 'str'>\n",
      "<class 'bool'>\n"
     ]
    }
   ],
   "source": [
    "# Print para verificar el tipo de cada variable\n",
    "print(type(grupo12_entero))\n",
    "print(type(grupo12_flotante))\n",
    "print(type(grupo12_string))\n",
    "print(type(grupo12_booleano))"
   ]
  },
  {
   "cell_type": "code",
   "execution_count": 12,
   "id": "e4441300-5476-4410-8b8c-291bc99ca517",
   "metadata": {},
   "outputs": [
    {
     "data": {
      "text/plain": [
       "['Hola', True, 42, 3.14, ['Kendrick Lamar', 'Frankie Ruiz']]"
      ]
     },
     "execution_count": 12,
     "metadata": {},
     "output_type": "execute_result"
    }
   ],
   "source": [
    "# 7 Creando una lista\n",
    "grupo12_lista = [\n",
    "    \"Hola\",                     # string\n",
    "    True,                       # boolean\n",
    "    42,                         # int\n",
    "    3.14,                       # float\n",
    "    [\"Kendrick Lamar\", \"Frankie Ruiz\"]   # lista con 2 strings\n",
    "]\n",
    "\n",
    "grupo12_lista\n"
   ]
  },
  {
   "cell_type": "code",
   "execution_count": 14,
   "id": "73d0e012-1140-4f49-9337-40106619bf01",
   "metadata": {},
   "outputs": [
    {
     "name": "stdout",
     "output_type": "stream",
     "text": [
      "Primer elemento: Hola\n",
      "Último elemento: ['Kendrick Lamar', 'Frankie Ruiz']\n"
     ]
    }
   ],
   "source": [
    "print(\"Primer elemento:\", grupo12_lista[0])   # índice 0\n",
    "print(\"Último elemento:\", grupo12_lista[-1]) # índice -1"
   ]
  },
  {
   "cell_type": "code",
   "execution_count": 22,
   "id": "ec45e867-19b8-46fe-9627-31752a64de01",
   "metadata": {},
   "outputs": [
    {
     "data": {
      "text/plain": [
       "'Hola'"
      ]
     },
     "execution_count": 22,
     "metadata": {},
     "output_type": "execute_result"
    }
   ],
   "source": [
    "grupo12_lista[0] # accediendo al primer elemento de la lista"
   ]
  },
  {
   "cell_type": "code",
   "execution_count": 23,
   "id": "0ec9f7ef-4044-4976-a89b-f9e17f2a59bd",
   "metadata": {},
   "outputs": [
    {
     "data": {
      "text/plain": [
       "['Kendrick Lamar', 'Frankie Ruiz']"
      ]
     },
     "execution_count": 23,
     "metadata": {},
     "output_type": "execute_result"
    }
   ],
   "source": [
    "grupo12_lista[4] # accediendo al último elemento de la lista"
   ]
  },
  {
   "cell_type": "code",
   "execution_count": 25,
   "id": "5eb1b745-29f0-427e-9b9c-6273b3492080",
   "metadata": {},
   "outputs": [
    {
     "data": {
      "text/plain": [
       "['Hola', True, 42, 3.14, ['Kendrick Lamar', 'Frankie Ruiz'], 'Nuevo string']"
      ]
     },
     "execution_count": 25,
     "metadata": {},
     "output_type": "execute_result"
    }
   ],
   "source": [
    "grupo12_lista.append(\"Nuevo string\") #añadiendo nuevo string\n",
    "grupo12_lista"
   ]
  },
  {
   "cell_type": "code",
   "execution_count": 29,
   "id": "f45cbe74-e2a8-4851-8e89-54b2ab992a42",
   "metadata": {},
   "outputs": [
    {
     "ename": "ValueError",
     "evalue": "list.remove(x): x not in list",
     "output_type": "error",
     "traceback": [
      "\u001b[1;31m---------------------------------------------------------------------------\u001b[0m",
      "\u001b[1;31mValueError\u001b[0m                                Traceback (most recent call last)",
      "Cell \u001b[1;32mIn[29], line 1\u001b[0m\n\u001b[1;32m----> 1\u001b[0m grupo12_lista\u001b[38;5;241m.\u001b[39mremove(\u001b[38;5;28;01mTrue\u001b[39;00m)  \u001b[38;5;66;03m# quitando el booleano\u001b[39;00m\n\u001b[0;32m      2\u001b[0m grupo12_lista\n",
      "\u001b[1;31mValueError\u001b[0m: list.remove(x): x not in list"
     ]
    }
   ],
   "source": [
    "grupo12_lista.remove(True)  # quitando el booleano"
   ]
  },
  {
   "cell_type": "code",
   "execution_count": 30,
   "id": "957718fa-b04b-4b22-988e-c5764cabd7a9",
   "metadata": {},
   "outputs": [
    {
     "data": {
      "text/plain": [
       "['Hola', 42, 3.14, ['Kendrick Lamar', 'Frankie Ruiz'], 'Nuevo string']"
      ]
     },
     "execution_count": 30,
     "metadata": {},
     "output_type": "execute_result"
    }
   ],
   "source": [
    "grupo12_lista"
   ]
  },
  {
   "cell_type": "code",
   "execution_count": 31,
   "id": "2a83fccd-dc69-46cd-b03d-1ec56cfa47bd",
   "metadata": {},
   "outputs": [
    {
     "data": {
      "text/plain": [
       "('Hola', True, (10, 20, 30))"
      ]
     },
     "execution_count": 31,
     "metadata": {},
     "output_type": "execute_result"
    }
   ],
   "source": [
    "# 8 Definiendo una tupla con un string, un booleano y otra tupla con tres números\n",
    "grupo12_tupla = (\"Hola\", True, (10, 20, 30))\n",
    "\n",
    "grupo12_tupla"
   ]
  },
  {
   "cell_type": "code",
   "execution_count": 33,
   "id": "a3770dfb-2e48-49fe-b45b-eb06026cde43",
   "metadata": {},
   "outputs": [
    {
     "ename": "AttributeError",
     "evalue": "'tuple' object has no attribute 'remove'",
     "output_type": "error",
     "traceback": [
      "\u001b[1;31m---------------------------------------------------------------------------\u001b[0m",
      "\u001b[1;31mAttributeError\u001b[0m                            Traceback (most recent call last)",
      "Cell \u001b[1;32mIn[33], line 5\u001b[0m\n\u001b[0;32m      1\u001b[0m \u001b[38;5;66;03m# Las tuplas son inmutables porque no se pueden modificar una vez creadas. \u001b[39;00m\n\u001b[0;32m      2\u001b[0m \u001b[38;5;66;03m# No se pueden eliminar, añadir o modificar elementos. \u001b[39;00m\n\u001b[0;32m      3\u001b[0m \u001b[38;5;66;03m# Pueden usarse como contenedores más seguros que las listas.\u001b[39;00m\n\u001b[1;32m----> 5\u001b[0m grupo12_tupla\u001b[38;5;241m.\u001b[39mremove(\u001b[38;5;124m\"\u001b[39m\u001b[38;5;124mHola\u001b[39m\u001b[38;5;124m\"\u001b[39m) \u001b[38;5;66;03m# probando que las tuplas son inmodificables\u001b[39;00m\n\u001b[0;32m      6\u001b[0m grupo12_tupla\n",
      "\u001b[1;31mAttributeError\u001b[0m: 'tuple' object has no attribute 'remove'"
     ]
    }
   ],
   "source": [
    "# Las tuplas son inmutables porque no se pueden modificar una vez creadas. \n",
    "# No se pueden eliminar, añadir o modificar elementos. \n",
    "# Pueden usarse como contenedores más seguros que las listas.\n",
    "\n",
    "grupo12_tupla.append(\"Nuevo string\") # probando que las tuplas son inmodificables\n",
    "grupo12_tupla"
   ]
  }
 ],
 "metadata": {
  "kernelspec": {
   "display_name": "Python [conda env:base] *",
   "language": "python",
   "name": "conda-base-py"
  },
  "language_info": {
   "codemirror_mode": {
    "name": "ipython",
    "version": 3
   },
   "file_extension": ".py",
   "mimetype": "text/x-python",
   "name": "python",
   "nbconvert_exporter": "python",
   "pygments_lexer": "ipython3",
   "version": "3.11.5"
  }
 },
 "nbformat": 4,
 "nbformat_minor": 5
}
