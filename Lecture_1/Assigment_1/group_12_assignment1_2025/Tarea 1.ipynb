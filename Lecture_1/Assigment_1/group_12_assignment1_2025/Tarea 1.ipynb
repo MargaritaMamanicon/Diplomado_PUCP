{
 "cells": [
  {
   "cell_type": "code",
   "execution_count": null,
   "id": "39d378ec",
   "metadata": {},
   "outputs": [],
   "source": [
    "# 13. Create a Series from a dictionary of countries and their capitals.\n",
    "# Filter and display only those countries whose capital has more than 6 letters."
   ]
  },
  {
   "cell_type": "code",
   "execution_count": 15,
   "id": "b4ee0c40",
   "metadata": {},
   "outputs": [],
   "source": [
    "import pandas as pd\n",
    "\n",
    "# Diccionario de países y capitales\n",
    "countries = {\n",
    "    \"Perú\": \"Lima\",\n",
    "    \"Argentina\": \"Buenos Aires\",\n",
    "    \"Chile\": \"Santiago\",\n",
    "    \"Colombia\": \"Bogotá\",\n",
    "    \"México\": \"Ciudad de México\",\n",
    "    \"Brazil\": \"Brasília\",\n",
    "    \"Ecuador\": \"Quito\",\n",
    "    \"Bolivia\": \"La Paz\",\n",
    "    \"Paraguay\": \"Asunción\",\n",
    "    \"Uruguay\": \"Montevideo\"\n",
    "}\n"
   ]
  },
  {
   "cell_type": "code",
   "execution_count": 16,
   "id": "639eee32",
   "metadata": {},
   "outputs": [
    {
     "name": "stdout",
     "output_type": "stream",
     "text": [
      "\n",
      "Países sudamericanos con capitales de más de 6 letras:\n",
      "Argentina        Buenos Aires\n",
      "Chile                Santiago\n",
      "México       Ciudad de México\n",
      "Brazil               Brasília\n",
      "Paraguay             Asunción\n",
      "Uruguay            Montevideo\n",
      "dtype: object\n"
     ]
    }
   ],
   "source": [
    "# Crear una Series\n",
    "series = pd.Series(countries)\n",
    "\n",
    "# Filtrar solo las capitales con más de 6 letras\n",
    "Cap_6_letras = series[series.str.len() > 6]\n",
    "\n",
    "print(\"\\nPaíses sudamericanos con capitales de más de 6 letras:\")\n",
    "print(Cap_6_letras)"
   ]
  },
  {
   "cell_type": "code",
   "execution_count": null,
   "id": "237cedf1",
   "metadata": {},
   "outputs": [],
   "source": [
    "#14. Create a Series containing several strings and convert all its elements \n",
    "# to uppercase using the .apply(str.upper) method."
   ]
  },
  {
   "cell_type": "code",
   "execution_count": 13,
   "id": "82c0f88b",
   "metadata": {},
   "outputs": [
    {
     "name": "stdout",
     "output_type": "stream",
     "text": [
      "Series de cadenas de texto:\n",
      "0        trabajo\n",
      "1       comisión\n",
      "2        reporte\n",
      "3        informe\n",
      "4       viáticos\n",
      "5    alojamiento\n",
      "6        gestión\n",
      "dtype: object\n",
      "\n",
      "Series en mayúsculas:\n",
      "0        TRABAJO\n",
      "1       COMISIÓN\n",
      "2        REPORTE\n",
      "3        INFORME\n",
      "4       VIÁTICOS\n",
      "5    ALOJAMIENTO\n",
      "6        GESTIÓN\n",
      "dtype: object\n"
     ]
    }
   ],
   "source": [
    "import pandas as pd\n",
    "\n",
    "# Crear una Series con cadenas de texto\n",
    "series = pd.Series([\"trabajo\", \"comisión\", \"reporte\", \"informe\", \"viáticos\", \"alojamiento\", \"gestión\"])\n",
    "\n",
    "print(\"Series de cadenas de texto:\")\n",
    "print(series)\n",
    "\n",
    "# Convertir todos los elementos a mayúsculas usando .apply(str.upper)\n",
    "series_mayus = series.apply(str.upper)\n",
    "\n",
    "print(\"\\nSeries en mayúsculas:\")\n",
    "print(series_mayus)"
   ]
  }
 ],
 "metadata": {
  "kernelspec": {
   "display_name": "Python 3 (ipykernel)",
   "language": "python",
   "name": "python3"
  },
  "language_info": {
   "codemirror_mode": {
    "name": "ipython",
    "version": 3
   },
   "file_extension": ".py",
   "mimetype": "text/x-python",
   "name": "python",
   "nbconvert_exporter": "python",
   "pygments_lexer": "ipython3",
   "version": "3.9.12"
  }
 },
 "nbformat": 4,
 "nbformat_minor": 5
}
