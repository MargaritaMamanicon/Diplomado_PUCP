{
 "cells": [
  {
   "cell_type": "markdown",
   "id": "c342f0ba",
   "metadata": {},
   "source": [
    "# 2025_assigment_3 #1831"
   ]
  },
  {
   "cell_type": "markdown",
   "id": "019cd427",
   "metadata": {},
   "source": [
    "## Part 1: Loops"
   ]
  },
  {
   "cell_type": "markdown",
   "id": "b2fb765e",
   "metadata": {},
   "source": [
    "### 1. Pass Statement: Write a for loop that iterates through numbers from 1 to 10."
   ]
  },
  {
   "cell_type": "code",
   "execution_count": 11,
   "id": "4337f34b",
   "metadata": {},
   "outputs": [
    {
     "name": "stdout",
     "output_type": "stream",
     "text": [
      "1\n",
      "3\n",
      "5\n",
      "7\n",
      "9\n"
     ]
    }
   ],
   "source": [
    "for number in range(11):\n",
    "    if number % 2 == 0:  \n",
    "        pass  \n",
    "    else:\n",
    "        print(number)  "
   ]
  },
  {
   "cell_type": "markdown",
   "id": "59ebf470",
   "metadata": {},
   "source": [
    "*Re-question: What would happen if you remove the pass statement?*"
   ]
  },
  {
   "cell_type": "code",
   "execution_count": 12,
   "id": "bd343201",
   "metadata": {},
   "outputs": [
    {
     "ename": "IndentationError",
     "evalue": "expected an indented block after 'if' statement on line 2 (1806280919.py, line 3)",
     "output_type": "error",
     "traceback": [
      "\u001b[1;36m  Cell \u001b[1;32mIn[12], line 3\u001b[1;36m\u001b[0m\n\u001b[1;33m    else:\u001b[0m\n\u001b[1;37m    ^\u001b[0m\n\u001b[1;31mIndentationError\u001b[0m\u001b[1;31m:\u001b[0m expected an indented block after 'if' statement on line 2\n"
     ]
    }
   ],
   "source": [
    "for number in range(10):\n",
    "    if number % 2 == 0:    \n",
    "    else:\n",
    "        print(number)  "
   ]
  },
  {
   "cell_type": "markdown",
   "id": "da30ddeb",
   "metadata": {},
   "source": [
    "*Si se elimina \"pass\", el código no se ejecuta debido a que no hay identación. Pero además, el past está indicando que no debería hacerse nada con los números pares.*"
   ]
  },
  {
   "cell_type": "markdown",
   "id": "f4ce6975",
   "metadata": {},
   "source": [
    "### 2. Continue Statement"
   ]
  },
  {
   "cell_type": "markdown",
   "id": "d9560caf",
   "metadata": {},
   "source": [
    "*Using continue*"
   ]
  },
  {
   "cell_type": "code",
   "execution_count": 15,
   "id": "0e8bd44c",
   "metadata": {},
   "outputs": [],
   "source": [
    "word = \"pythonloops\""
   ]
  },
  {
   "cell_type": "code",
   "execution_count": 16,
   "id": "913b9adc",
   "metadata": {},
   "outputs": [
    {
     "name": "stdout",
     "output_type": "stream",
     "text": [
      "p\n",
      "y\n",
      "t\n",
      "h\n",
      "n\n",
      "l\n",
      "p\n",
      "s\n"
     ]
    }
   ],
   "source": [
    "for letra in word:\n",
    "    if letra == \"o\":    \n",
    "        continue        \n",
    "    print(letra) "
   ]
  },
  {
   "cell_type": "markdown",
   "id": "1b023511",
   "metadata": {},
   "source": [
    "*Re-question: How would you achieve the same result without using continue?*"
   ]
  },
  {
   "cell_type": "code",
   "execution_count": 18,
   "id": "23a2b4fb",
   "metadata": {},
   "outputs": [
    {
     "name": "stdout",
     "output_type": "stream",
     "text": [
      "p\n",
      "y\n",
      "t\n",
      "h\n",
      "n\n",
      "l\n",
      "p\n",
      "s\n"
     ]
    }
   ],
   "source": [
    "for letra in word:\n",
    "    if letra != \"o\":    # Solo imprimir si NO es \"o\"\n",
    "        print(letra)"
   ]
  },
  {
   "cell_type": "markdown",
   "id": "dca3301d",
   "metadata": {},
   "source": [
    "### 3. Break Statement\n"
   ]
  },
  {
   "cell_type": "code",
   "execution_count": 19,
   "id": "cdd55f36",
   "metadata": {},
   "outputs": [
    {
     "name": "stdout",
     "output_type": "stream",
     "text": [
      "Ingresa un número: 8\n",
      "Número positivo: 8.0\n",
      "Ingresa un número: 10\n",
      "Número positivo: 10.0\n",
      "Ingresa un número: -8\n",
      "Número negativo detectado. Saliendo...\n"
     ]
    }
   ],
   "source": [
    "while True:  # Bucle infinito\n",
    "    numero = float(input(\"Ingresa un número: \"))\n",
    "    \n",
    "    if numero < 0:  # Si el número es negativo\n",
    "        print(\"Número negativo detectado. Saliendo...\")\n",
    "        break       # Romper el bucle\n",
    "    \n",
    "    print(f\"Número positivo: {numero}\")"
   ]
  },
  {
   "cell_type": "markdown",
   "id": "a27e8a9c",
   "metadata": {},
   "source": [
    "*Re-question: How can you modify the loop so it ignores negative numbers instead of breaking?*\n",
    "    We can use \"continue\" and complete with program."
   ]
  },
  {
   "cell_type": "code",
   "execution_count": null,
   "id": "1045c804",
   "metadata": {},
   "outputs": [
    {
     "name": "stdout",
     "output_type": "stream",
     "text": [
      "Ingresa un número: 23\n",
      "Número positivo: 23.0\n",
      "Ingresa un número: 50\n",
      "Número positivo: 50.0\n",
      "Ingresa un número: -1\n",
      "Número negativo ignorado. Continúa...\n",
      "Ingresa un número: 30\n",
      "Número positivo: 30.0\n"
     ]
    }
   ],
   "source": [
    "while True:\n",
    "    numero = float(input(\"Ingresa un número: \"))\n",
    "    \n",
    "    if numero < 0:  # Si el número es negativo\n",
    "        print(\"Número negativo ignorado. Continúa...\")\n",
    "        continue    # Saltar a la siguiente iteración\n",
    "    \n",
    "    print(f\"Número positivo: {numero}\")"
   ]
  },
  {
   "cell_type": "markdown",
   "id": "1d94f5e1",
   "metadata": {},
   "source": [
    "### 4.Try-Except Block:"
   ]
  },
  {
   "cell_type": "markdown",
   "id": "69bcb33a",
   "metadata": {},
   "source": [
    "*Write a loop that asks the user to input a number and divides 100 by that number. Use a try-except block to handle the case when the user inputs 0 or a non-numeric value.*"
   ]
  },
  {
   "cell_type": "code",
   "execution_count": 4,
   "id": "0fff9767",
   "metadata": {},
   "outputs": [
    {
     "name": "stdout",
     "output_type": "stream",
     "text": [
      "Ingresa un número: 0\n",
      "Error: No se puede dividir entre cero.\n",
      "\n",
      "==================================================\n",
      "\n"
     ]
    }
   ],
   "source": [
    "try:\n",
    "    numero = float(input(\"Ingresa un número: \"))\n",
    "    resultado = 100 / numero\n",
    "    print(f\"100 ÷ {numero} = {resultado}\")\n",
    "except ValueError:\n",
    "    print(\"Error: Debes ingresar un número válido.\")\n",
    "except ZeroDivisionError:\n",
    "    print(\"Error: No se puede dividir entre cero.\")\n",
    "\n",
    "print(\"\\n\" + \"=\"*50 + \"\\n\")"
   ]
  },
  {
   "cell_type": "markdown",
   "id": "7df46716",
   "metadata": {},
   "source": [
    "*Hasta que sea valido:*"
   ]
  },
  {
   "cell_type": "code",
   "execution_count": 7,
   "id": "d2a1ebb7",
   "metadata": {},
   "outputs": [
    {
     "name": "stdout",
     "output_type": "stream",
     "text": [
      "Ingresa un número: 0\n",
      "Error: No puedes dividir entre cero. Intenta again.\n",
      "Ingresa un número: +\n",
      "Error: Debes ingresar un número, no texto.\n",
      "Ingresa un número: -8\n",
      " 100 / -8.0 = -12.5\n"
     ]
    }
   ],
   "source": [
    "while True:\n",
    "    try:\n",
    "        numero = float(input(\"Ingresa un número: \"))\n",
    "        \n",
    "        if numero == 0:\n",
    "            print(\"Error: No puedes dividir entre cero. Intenta again.\")\n",
    "            continue  \n",
    "        \n",
    "        # Calcular y mostrar resultado\n",
    "        resultado = 100 / numero\n",
    "        print(f\" 100 / {numero} = {resultado}\")\n",
    "        break  \n",
    "        \n",
    "    except ValueError:\n",
    "        print(\"Error: Debes ingresar un número, no texto.\")"
   ]
  },
  {
   "cell_type": "markdown",
   "id": "8dc79f78",
   "metadata": {},
   "source": [
    "## 5. While Loop Structure"
   ]
  },
  {
   "cell_type": "markdown",
   "id": "c9c2c456",
   "metadata": {},
   "source": [
    "*Write a while loop that calculates the factorial of a given number n.*\n",
    " *While:*"
   ]
  },
  {
   "cell_type": "code",
   "execution_count": 9,
   "id": "ca369fbe",
   "metadata": {},
   "outputs": [
    {
     "name": "stdout",
     "output_type": "stream",
     "text": [
      "Ingresa un número para calcular su factorial: 5\n",
      "\n",
      "Calculando 5! con WHILE loop:\n",
      "Paso 1: 1! = 1\n",
      "Paso 2: 2! = 2\n",
      "Paso 3: 3! = 6\n",
      "Paso 4: 4! = 24\n",
      "Paso 5: 5! = 120\n",
      " Resultado final: 5! = 120\n"
     ]
    }
   ],
   "source": [
    "n = int(input(\"Ingresa un número para calcular su factorial: \"))\n",
    "factorial = 1\n",
    "i = 1\n",
    "\n",
    "print(f\"\\nCalculando {n}! con WHILE loop:\")\n",
    "while i <= n:\n",
    "    factorial *= i\n",
    "    print(f\"Paso {i}: {i}! = {factorial}\")\n",
    "    i += 1\n",
    "\n",
    "print(f\" Resultado final: {n}! = {factorial}\")"
   ]
  },
  {
   "cell_type": "markdown",
   "id": "e4e92be7",
   "metadata": {},
   "source": [
    "*Re-question: How would you implement the same factorial calculation using a for loop instead?*"
   ]
  },
  {
   "cell_type": "code",
   "execution_count": 10,
   "id": "61a36569",
   "metadata": {},
   "outputs": [
    {
     "name": "stdout",
     "output_type": "stream",
     "text": [
      "Ingresa un número para calcular su factorial: 8\n",
      "\n",
      "Calculando 8! con FOR loop:\n",
      "Paso 1: 1! = 1\n",
      "Paso 2: 2! = 2\n",
      "Paso 3: 3! = 6\n",
      "Paso 4: 4! = 24\n",
      "Paso 5: 5! = 120\n",
      "Paso 6: 6! = 720\n",
      "Paso 7: 7! = 5040\n",
      "Paso 8: 8! = 40320\n",
      " Resultado final: 8! = 40320\n"
     ]
    }
   ],
   "source": [
    "n = int(input(\"Ingresa un número para calcular su factorial: \"))\n",
    "factorial = 1\n",
    "\n",
    "print(f\"\\nCalculando {n}! con FOR loop:\")\n",
    "for i in range(1, n + 1):\n",
    "    factorial *= i\n",
    "    print(f\"Paso {i}: {i}! = {factorial}\")\n",
    "\n",
    "print(f\" Resultado final: {n}! = {factorial}\")"
   ]
  },
  {
   "cell_type": "code",
   "execution_count": null,
   "id": "e9407660",
   "metadata": {},
   "outputs": [],
   "source": []
  }
 ],
 "metadata": {
  "kernelspec": {
   "display_name": "Python 3 (ipykernel)",
   "language": "python",
   "name": "python3"
  },
  "language_info": {
   "codemirror_mode": {
    "name": "ipython",
    "version": 3
   },
   "file_extension": ".py",
   "mimetype": "text/x-python",
   "name": "python",
   "nbconvert_exporter": "python",
   "pygments_lexer": "ipython3",
   "version": "3.11.5"
  }
 },
 "nbformat": 4,
 "nbformat_minor": 5
}
