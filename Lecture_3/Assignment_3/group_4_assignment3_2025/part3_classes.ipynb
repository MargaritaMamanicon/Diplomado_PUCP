{
 "cells": [
  {
   "cell_type": "markdown",
   "id": "e34585cf",
   "metadata": {},
   "source": [
    "# Part 3: Classes"
   ]
  },
  {
   "cell_type": "markdown",
   "id": "5f9262c7",
   "metadata": {},
   "source": [
    "## 9. Class with attributes and methods"
   ]
  },
  {
   "cell_type": "code",
   "execution_count": null,
   "id": "ee195bb5",
   "metadata": {},
   "outputs": [],
   "source": [
    "# Define the Car class with the requested attributes: brand, model, and year\n",
    "class Car:\n",
    "    def __init__(self, brand, model, year):\n",
    "        self.brand = brand   # brand attribute\n",
    "        self.model = model   # model attribute\n",
    "        self.year = year     # year attribute\n",
    "\n",
    "    # Define the display_info method to show the information in the requested format\n",
    "    def display_info(self):\n",
    "        print(f\"Car: {self.year} {self.brand} {self.model}\")\n",
    "\n",
    "\n",
    "# Create two objects of the Car class (as requested in the question)\n",
    "car1 = Car(\"Ford\", \"Mustang Convertible\", 1967)\n",
    "car2 = Car(\"Chevrolet\", \"Camaro SS\", 1969)\n",
    "\n",
    "# Call the display_info method for each object\n",
    "car1.display_info()\n",
    "car2.display_info()"
   ]
  },
  {
   "cell_type": "markdown",
   "id": "18210eda",
   "metadata": {},
   "source": [
    "## 10. Using __init__ and self"
   ]
  },
  {
   "cell_type": "code",
   "execution_count": null,
   "id": "2029a3be",
   "metadata": {},
   "outputs": [],
   "source": [
    "# Attributes and methods\n",
    "class Student:\n",
    "    # Constructor: initializes name, age, and grade\n",
    "    def __init__(self, name, age, grade):\n",
    "        self.name = name\n",
    "        self.age = age\n",
    "        self.grade = grade\n",
    "\n",
    "    # Method to check if the student passed (>=11 is passing)\n",
    "    def is_passed(self):\n",
    "        return \"Passed\" if self.grade >= 11 else \"Failed\"\n",
    "\n",
    "    # Method to display student's information\n",
    "    def display_info(self):\n",
    "        print(f\"Name: {self.name}, Age: {self.age}, Grade: {self.grade}, \"\n",
    "              f\"Result: {self.is_passed()}\")\n",
    "\n",
    "\n",
    "# Create objects of the Student class\n",
    "s1 = Student(\"Jakeline\", 22, 15)\n",
    "s2 = Student(\"Santiago\", 23, 20)\n",
    "s3 = Student(\"Karen\", 21, 18)\n",
    "s4 = Student(\"Carlitos\", 22, 5)\n",
    "\n",
    "# Display their information\n",
    "s1.display_info()\n",
    "s2.display_info()\n",
    "s3.display_info()\n",
    "s4.display_info()"
   ]
  },
  {
   "cell_type": "markdown",
   "id": "3f4f8a5d",
   "metadata": {},
   "source": [
    "### Re-question: Add class attribute `school`"
   ]
  },
  {
   "cell_type": "code",
   "execution_count": null,
   "id": "e6bf28a4",
   "metadata": {},
   "outputs": [],
   "source": [
    "class Student:\n",
    "    school = \"PUCP\"  # class attribute\n",
    "\n",
    "    # Constructor with same instance attributes\n",
    "    def __init__(self, name, age, grade):\n",
    "        self.name = name\n",
    "        self.age = age\n",
    "        self.grade = grade\n",
    "\n",
    "    def is_passed(self):\n",
    "        return \"Passed\" if self.grade >= 11 else \"Failed\"\n",
    "\n",
    "    # Updated display_info to include the school\n",
    "    def display_info(self):\n",
    "        print(f\"Name: {self.name}, Age: {self.age}, Grade: {self.grade}, \"\n",
    "              f\"Result: {self.is_passed()}, School: {Student.school}\")\n",
    "\n",
    "\n",
    "# Create objects again and display updated info\n",
    "s1 = Student(\"Jakeline\", 22, 15)\n",
    "s2 = Student(\"Santiago\", 23, 20)\n",
    "s3 = Student(\"Karen\", 21, 18)\n",
    "s4 = Student(\"Carlitos\", 22, 5)\n",
    "\n",
    "s1.display_info()\n",
    "s2.display_info()\n",
    "s3.display_info()\n",
    "s4.display_info()"
   ]
  }
 ],
 "metadata": {},
 "nbformat": 4,
 "nbformat_minor": 5
}
