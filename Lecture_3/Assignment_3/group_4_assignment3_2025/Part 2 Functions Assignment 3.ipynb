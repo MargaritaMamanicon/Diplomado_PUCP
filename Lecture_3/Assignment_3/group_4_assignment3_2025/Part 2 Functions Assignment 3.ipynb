{
 "cells": [
  {
   "cell_type": "code",
   "execution_count": 11,
   "id": "c3ab4aff",
   "metadata": {},
   "outputs": [],
   "source": [
    "import numpy as np"
   ]
  },
  {
   "cell_type": "code",
   "execution_count": 5,
   "id": "b2302616",
   "metadata": {},
   "outputs": [],
   "source": [
    "list = [1,2,3,4,5,6,7,8,9] "
   ]
  },
  {
   "cell_type": "code",
   "execution_count": 7,
   "id": "2d83ad4f",
   "metadata": {},
   "outputs": [],
   "source": [
    "list2 = [5,2,623,6,3,5,6,7,3]"
   ]
  },
  {
   "cell_type": "code",
   "execution_count": 13,
   "id": "026969ba",
   "metadata": {},
   "outputs": [],
   "source": [
    "#Function with multiple returns\n",
    "def analyze_numbers(lst):\n",
    "    maximum = max(lst)\n",
    "    minimum = min(lst)\n",
    "    average = np.mean(lst)\n",
    "    return maximum, minimum, average"
   ]
  },
  {
   "cell_type": "code",
   "execution_count": 14,
   "id": "10b35b2d",
   "metadata": {},
   "outputs": [
    {
     "data": {
      "text/plain": [
       "(623, 2, 73.33333333333333)"
      ]
     },
     "execution_count": 14,
     "metadata": {},
     "output_type": "execute_result"
    }
   ],
   "source": [
    "analyze_numbers(list2)"
   ]
  },
  {
   "cell_type": "code",
   "execution_count": 16,
   "id": "d7e0b7bb",
   "metadata": {},
   "outputs": [
    {
     "name": "stdout",
     "output_type": "stream",
     "text": [
      "623\n",
      "2\n",
      "73.33333333333333\n"
     ]
    }
   ],
   "source": [
    "# How would you call this function and unpack the results into three variables?\n",
    "max_val, min_val, avg_val = analyze_numbers(list2)\n",
    "print(max_val)\n",
    "print(min_val)\n",
    "print(avg_val)"
   ]
  },
  {
   "cell_type": "code",
   "execution_count": null,
   "id": "1a16b2cc",
   "metadata": {},
   "outputs": [],
   "source": [
    "#How would you call this function and unpack the results into three variables?"
   ]
  },
  {
   "cell_type": "code",
   "execution_count": 47,
   "id": "529fa9aa",
   "metadata": {},
   "outputs": [],
   "source": [
    "#Function with Defaul Parameters\n",
    "def greet(name, message = \"Hello\"):\n",
    "    print(message, name)"
   ]
  },
  {
   "cell_type": "code",
   "execution_count": 44,
   "id": "93d58371",
   "metadata": {},
   "outputs": [
    {
     "name": "stdout",
     "output_type": "stream",
     "text": [
      "Hi Santiago\n"
     ]
    }
   ],
   "source": [
    "greet(\"Santiago\",\"Hi\")"
   ]
  },
  {
   "cell_type": "code",
   "execution_count": 45,
   "id": "b4453751",
   "metadata": {},
   "outputs": [
    {
     "name": "stdout",
     "output_type": "stream",
     "text": [
      "Hello Santiago\n"
     ]
    }
   ],
   "source": [
    "greet(\"Santiago\")"
   ]
  },
  {
   "cell_type": "code",
   "execution_count": 17,
   "id": "b5ba0107",
   "metadata": {},
   "outputs": [],
   "source": [
    "#How does Python decide which value to use for message when it is not provided?\n",
    "#El mensaje default de la función es \"Hello\", por lo que si no se pone otro mensaje el default es \"Hello\""
   ]
  },
  {
   "cell_type": "code",
   "execution_count": 25,
   "id": "ccfd1ec3",
   "metadata": {},
   "outputs": [],
   "source": [
    "def multiply(a: int, b: int):\n",
    "    return a*b"
   ]
  },
  {
   "cell_type": "code",
   "execution_count": 27,
   "id": "a19589a9",
   "metadata": {},
   "outputs": [
    {
     "data": {
      "text/plain": [
       "6"
      ]
     },
     "execution_count": 27,
     "metadata": {},
     "output_type": "execute_result"
    }
   ],
   "source": [
    "multiply(2,3)"
   ]
  },
  {
   "cell_type": "code",
   "execution_count": 34,
   "id": "0851066d",
   "metadata": {},
   "outputs": [
    {
     "ename": "TypeError",
     "evalue": "can't multiply sequence by non-int of type 'str'",
     "output_type": "error",
     "traceback": [
      "\u001b[1;31m---------------------------------------------------------------------------\u001b[0m",
      "\u001b[1;31mTypeError\u001b[0m                                 Traceback (most recent call last)",
      "Cell \u001b[1;32mIn[34], line 1\u001b[0m\n\u001b[1;32m----> 1\u001b[0m multiply(\u001b[38;5;124m\"\u001b[39m\u001b[38;5;124mhola\u001b[39m\u001b[38;5;124m\"\u001b[39m,\u001b[38;5;124m\"\u001b[39m\u001b[38;5;124mchau\u001b[39m\u001b[38;5;124m\"\u001b[39m)\n",
      "Cell \u001b[1;32mIn[25], line 2\u001b[0m, in \u001b[0;36mmultiply\u001b[1;34m(a, b)\u001b[0m\n\u001b[0;32m      1\u001b[0m \u001b[38;5;28;01mdef\u001b[39;00m \u001b[38;5;21mmultiply\u001b[39m(a: \u001b[38;5;28mint\u001b[39m, b: \u001b[38;5;28mint\u001b[39m):\n\u001b[1;32m----> 2\u001b[0m     \u001b[38;5;28;01mreturn\u001b[39;00m a\u001b[38;5;241m*\u001b[39mb\n",
      "\u001b[1;31mTypeError\u001b[0m: can't multiply sequence by non-int of type 'str'"
     ]
    }
   ],
   "source": [
    "multiply(\"hola\",\"chau\")"
   ]
  },
  {
   "cell_type": "code",
   "execution_count": 32,
   "id": "fa5496b0",
   "metadata": {},
   "outputs": [
    {
     "data": {
      "text/plain": [
       "'holaholahola'"
      ]
     },
     "execution_count": 32,
     "metadata": {},
     "output_type": "execute_result"
    }
   ],
   "source": [
    "multiply(\"hola\",3)"
   ]
  },
  {
   "cell_type": "code",
   "execution_count": 33,
   "id": "bd890fa3",
   "metadata": {},
   "outputs": [
    {
     "data": {
      "text/plain": [
       "'holaholahola'"
      ]
     },
     "execution_count": 33,
     "metadata": {},
     "output_type": "execute_result"
    }
   ],
   "source": [
    "multiply(3,\"hola\")"
   ]
  }
 ],
 "metadata": {
  "kernelspec": {
   "display_name": "Python 3 (ipykernel)",
   "language": "python",
   "name": "python3"
  },
  "language_info": {
   "codemirror_mode": {
    "name": "ipython",
    "version": 3
   },
   "file_extension": ".py",
   "mimetype": "text/x-python",
   "name": "python",
   "nbconvert_exporter": "python",
   "pygments_lexer": "ipython3",
   "version": "3.11.5"
  }
 },
 "nbformat": 4,
 "nbformat_minor": 5
}
