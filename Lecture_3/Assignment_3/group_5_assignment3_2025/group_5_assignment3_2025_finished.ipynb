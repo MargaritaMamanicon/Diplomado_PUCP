{
 "cells": [
  {
   "cell_type": "markdown",
   "id": "fe2853f2-ca12-4f65-b9ed-96c209705681",
   "metadata": {},
   "source": [
    "# Assignment 3\n",
    "\n",
    "Integrantes:\n",
    "- Lesly León (20166498)\n",
    "- Susan Montalvo (20024577)\n",
    "- Vivian \n",
    "- Esteban\n",
    "\n",
    "Fecha de entrega: 11/9/2025"
   ]
  },
  {
   "cell_type": "markdown",
   "id": "9d2cd138-fa87-4220-8d79-55a8abc51b38",
   "metadata": {},
   "source": [
    "## Parte 1: Loops"
   ]
  },
  {
   "cell_type": "markdown",
   "id": "9a851b85-bef8-4aea-bb90-49de7cf2b51e",
   "metadata": {},
   "source": [
    "1. Write a for loop that iterates through numbers from 1 to 10."
   ]
  },
  {
   "cell_type": "markdown",
   "id": "db0a966f-e238-4879-aa0a-a217a4c2a1da",
   "metadata": {},
   "source": [
    "a) Use the pass statement when the number is even, and print only the odd numbers."
   ]
  },
  {
   "cell_type": "code",
   "execution_count": 22,
   "id": "35cd2ca4-2e32-4ea1-9e8e-32ebedb01dc4",
   "metadata": {},
   "outputs": [
    {
     "name": "stdout",
     "output_type": "stream",
     "text": [
      "1\n",
      "3\n",
      "5\n",
      "7\n",
      "9\n"
     ]
    }
   ],
   "source": [
    "for num_imp in range(1, 11):\n",
    "    if num_imp % 2 == 0:  \n",
    "        pass           \n",
    "    else:\n",
    "        print(num_imp)     "
   ]
  },
  {
   "cell_type": "markdown",
   "id": "d5cc298a-4cd1-4c9f-b2af-4a56ebaf37b0",
   "metadata": {},
   "source": [
    "b) Re-question: What would happen if you remove the pass statement? \n",
    "A SyntaxError arises in this case because the if block is empty."
   ]
  },
  {
   "cell_type": "markdown",
   "id": "0efff5da-d8f9-4991-a0b4-cee2726f5b57",
   "metadata": {},
   "source": [
    "2. Create a loop that goes through the string \"pythonloops\"."
   ]
  },
  {
   "cell_type": "markdown",
   "id": "d0f08acd-4604-4ad3-bcf7-95ec4e0754fe",
   "metadata": {},
   "source": [
    "a) Skip the letters \"o\" using the continue statement and print the remaining letters."
   ]
  },
  {
   "cell_type": "code",
   "execution_count": 29,
   "id": "d8aff167-0739-4812-bec4-e78d32e9ef8e",
   "metadata": {},
   "outputs": [
    {
     "name": "stdout",
     "output_type": "stream",
     "text": [
      "p\n",
      "y\n",
      "t\n",
      "h\n",
      "n\n",
      "l\n",
      "p\n",
      "s\n"
     ]
    }
   ],
   "source": [
    "for letra in \"pythonloops\":\n",
    "    if letra == \"o\":\n",
    "        continue    \n",
    "    print(letra)"
   ]
  },
  {
   "cell_type": "markdown",
   "id": "d4a63ece-42a8-4434-b1fd-9f1295e4beaf",
   "metadata": {},
   "source": [
    "b) Re-question: How would you achieve the same result without using continue?"
   ]
  },
  {
   "cell_type": "code",
   "execution_count": 31,
   "id": "6bc9c6d4-fae5-41f8-a0b5-6dbdff3ad219",
   "metadata": {},
   "outputs": [
    {
     "name": "stdout",
     "output_type": "stream",
     "text": [
      "p\n",
      "y\n",
      "t\n",
      "h\n",
      "n\n",
      "l\n",
      "p\n",
      "s\n"
     ]
    }
   ],
   "source": [
    "for letra in \"pythonloops\":\n",
    "    if letra != \"o\":\n",
    "        print(letra)"
   ]
  },
  {
   "cell_type": "markdown",
   "id": "89b68aa4-41e7-4afc-b2ad-9404759893ff",
   "metadata": {},
   "source": [
    "3. Write a while loop that keeps asking the user to input numbers."
   ]
  },
  {
   "cell_type": "code",
   "execution_count": 33,
   "id": "f11b442e-74d1-414e-9ec5-fdb2f7abd907",
   "metadata": {},
   "outputs": [
    {
     "name": "stdin",
     "output_type": "stream",
     "text": [
      "Enter a number:  10\n"
     ]
    },
    {
     "name": "stdout",
     "output_type": "stream",
     "text": [
      "You entered: 10\n"
     ]
    },
    {
     "name": "stdin",
     "output_type": "stream",
     "text": [
      "Enter a number:  -10\n"
     ]
    }
   ],
   "source": [
    "while True:\n",
    "    num = int(input(\"Enter a number: \"))\n",
    "    if num < 0:  \n",
    "        break\n",
    "    print(f\"You entered: {num}\")"
   ]
  },
  {
   "cell_type": "markdown",
   "id": "34be84df-0d99-4186-a6ca-36f00df01a22",
   "metadata": {},
   "source": [
    "Re-question: How can you modify the loop so it ignores negative numbers instead of breaking?"
   ]
  },
  {
   "cell_type": "code",
   "execution_count": null,
   "id": "9d441925-c423-46d4-8eb3-a865cca260c2",
   "metadata": {},
   "outputs": [],
   "source": [
    "while True:\n",
    "    num = int(input(\"Enter a number: \"))\n",
    "    if num < 0:   \n",
    "        continue\n",
    "    print(f\"You entered: {num}\")"
   ]
  },
  {
   "cell_type": "markdown",
   "id": "b25d48d3",
   "metadata": {},
   "source": [
    "Write a loop that asks the user to input a number and divides 100 by that number."
   ]
  },
  {
   "cell_type": "code",
   "execution_count": null,
   "id": "add690cd",
   "metadata": {},
   "outputs": [
    {
     "name": "stdout",
     "output_type": "stream",
     "text": [
      "Enter a number: 100\n",
      "100 / 100.0 = 1.0\n"
     ]
    }
   ],
   "source": [
    "while True:\n",
    "    number = float(input(\"Enter a number: \"))\n",
    "    result = 100 / number\n",
    "    print(f\"100 / {number} = {result}\")"
   ]
  },
  {
   "cell_type": "markdown",
   "id": "79a37c78",
   "metadata": {},
   "source": [
    "Use a try-except block to handle the case when the user inputs 0 or a non-numeric value."
   ]
  },
  {
   "cell_type": "code",
   "execution_count": null,
   "id": "5980fb76",
   "metadata": {},
   "outputs": [],
   "source": [
    "while True:\n",
    "    try:\n",
    "        user_input = input(\"Enter a number (or 'quit' to exit): \")\n",
    "        \n",
    "        if user_input.lower() == 'quit':\n",
    "            print(\"Goodbye!\")\n",
    "            break\n",
    "        \n",
    "        number = float(user_input)\n",
    "        result = 100 / number\n",
    "        print(f\"100 divided by {number} equals {result}\")\n",
    "        \n",
    "    except ValueError:\n",
    "        print(\"Error: Please enter a valid number!\")\n",
    "    except ZeroDivisionError:\n",
    "        print(\"Error: Cannot divide by zero!\")\n",
    "    except KeyboardInterrupt:\n",
    "        print(\"\\nGoodbye!\")\n",
    "        break"
   ]
  },
  {
   "cell_type": "markdown",
   "id": "ae427381",
   "metadata": {},
   "source": [
    "Write a while loop that calculates the factorial of a given number 8"
   ]
  },
  {
   "cell_type": "code",
   "execution_count": null,
   "id": "ba38f78a",
   "metadata": {},
   "outputs": [],
   "source": [
    "def factorial_while_loop(8):\n",
    "    if 8 < 0:\n",
    "        raise ValueError(\"Factorial is not defined for negative numbers\")\n",
    "    if 8 == 0 or n == 1:\n",
    "        return 1\n",
    "    \n",
    "    result = 1\n",
    "    counter = 1\n",
    "    \n",
    "    while counter <= 8:\n",
    "        result *= counter\n",
    "        counter += 1\n",
    "    \n",
    "    return result"
   ]
  },
  {
   "cell_type": "code",
   "execution_count": null,
   "id": "11ccc4ce",
   "metadata": {},
   "outputs": [],
   "source": [
    "Print each intermediate step of the factorial calculation."
   ]
  },
  {
   "cell_type": "code",
   "execution_count": null,
   "id": "879dc32b",
   "metadata": {},
   "outputs": [],
   "source": [
    "def factorial_while_loop_countdown(8):\n",
    "\n",
    "    if 8 < 0:\n",
    "        raise ValueError(\"Factorial is not defined for negative numbers\")\n",
    "    if 8 == 0 or 8 == 1:\n",
    "        return 1\n",
    "    \n",
    "    result = 1\n",
    "    \n",
    "    while 8 > 1:\n",
    "        result *= 8\n",
    "        8 -= 1\n",
    "    \n",
    "    return result"
   ]
  },
  {
   "cell_type": "markdown",
   "id": "594236f0-4546-4f87-822d-3f0524e62b03",
   "metadata": {},
   "source": [
    "# Assignment 3 — Parte 2 (Funciones)\n",
    "**Autora:** Vivi\n",
    "\n",
    "En esta parte resolveré los ejercicios 6, 7 y 8 relacionados con funciones en Python."
   ]
  },
  {
   "cell_type": "markdown",
   "id": "dea5baa3-348e-4873-bfa7-7eef8ab4a1b4",
   "metadata": {},
   "source": [
    "## 6. Function with Multiple Returns\n",
    "Escribe una función `analyze_numbers(lst)` que reciba una lista de números y retorne:\n",
    "- El valor máximo\n",
    "- El valor mínimo\n",
    "- El promedio\n",
    "\n",
    "**Re-question:** ¿Cómo llamarías a esta función y desempaquetarías los 3 resultados en tres variables?"
   ]
  },
  {
   "cell_type": "code",
   "execution_count": 30,
   "id": "7f97cdd9-0602-46c6-8a05-1b708279a850",
   "metadata": {},
   "outputs": [],
   "source": [
    "# Implementación\n",
    "def analyze_numbers(lst):\n",
    "    \"\"\"\n",
    "    Recibe una lista de números y devuelve (maximo, minimo, promedio).\n",
    "    Lanza ValueError si la lista está vacía.\n",
    "    \"\"\"\n",
    "    if not lst:\n",
    "        raise ValueError(\"La lista no puede estar vacía\")\n",
    "    max_val = max(lst)\n",
    "    min_val = min(lst)\n",
    "    avg_val = sum(lst) / len(lst)\n",
    "    return max_val, min_val, avg_val"
   ]
  },
  {
   "cell_type": "code",
   "execution_count": 31,
   "id": "a621716b-abe1-48e4-99e6-38cbaf45f4c6",
   "metadata": {},
   "outputs": [
    {
     "name": "stdout",
     "output_type": "stream",
     "text": [
      "max: 56 min: -9 avg: 21.5\n"
     ]
    }
   ],
   "source": [
    "# Pruebas dinámicas\n",
    "datos = [8, 36, 16, 22, 56, -9]\n",
    "mx, mn, avg = analyze_numbers(datos)\n",
    "print(\"max:\", mx, \"min:\", mn, \"avg:\", avg)\n",
    "\n",
    "assert (mx, mn) == (max(datos), min(datos))\n",
    "assert round(avg, 3) == round(sum(datos)/len(datos), 3)"
   ]
  },
  {
   "cell_type": "markdown",
   "id": "44b880e9-ec2f-4684-b6b5-bc81e67a6cc2",
   "metadata": {},
   "source": [
    "**¿Cómo llamarías a esta función y desempaquetarías los 3 resultados en tres variables?**\n",
    "\n",
    "Para llamar a la función `analyze_numbers` y desempaquetar los tres resultados\n",
    "(máximo, mínimo y promedio) en variables separadas, se usa asignación múltiple:\n",
    "\n",
    "```python\n",
    "mx, mn, avg = analyze_numbers(datos)"
   ]
  },
  {
   "cell_type": "markdown",
   "id": "a8404c2d-fa56-422d-83b9-6a4b33bf200a",
   "metadata": {},
   "source": [
    "## 7. Función con parámetros por defecto (greet)\n",
    "\n",
    "Crea una función greet (name, message=\"Hello\") que imprima un saludo.\n",
    "\n",
    "- Llamar a la función con y sin el messageparámetro.\n",
    "\n",
    "**Re-pregunta:** ¿Cómo decide Python qué valor utilizar messagecuando no se proporciona?"
   ]
  },
  {
   "cell_type": "code",
   "execution_count": 20,
   "id": "f0e2191e-d2b8-4206-9f34-8ba5705bcdba",
   "metadata": {},
   "outputs": [],
   "source": [
    "def greet(name: str, message: str = \"Hello\") -> None:\n",
    "    \"\"\"Imprime un saludo en la forma '<message>, <name>!'.\"\"\"\n",
    "    print(f\"{message}, {name}!\")\n",
    "\n",
    "\n",
    "# (Opcional) Versión que devuelve el texto para probar con assert\n",
    "def greet_text(name: str, message: str = \"Hello\") -> str:\n",
    "    return f\"{message}, {name}!\""
   ]
  },
  {
   "cell_type": "code",
   "execution_count": 21,
   "id": "b4be9a04-54a6-427b-85da-0b221db0182b",
   "metadata": {},
   "outputs": [
    {
     "name": "stdout",
     "output_type": "stream",
     "text": [
      "Hello, Vivi!\n",
      "¡Buenos días, Vivi!\n",
      "Hola, Vivi!\n",
      "Welcome, Team 5!\n"
     ]
    }
   ],
   "source": [
    "# Usando el valor por defecto de 'message'\n",
    "greet(\"Vivi\")                          # -> Hello, Vivi!\n",
    "\n",
    "# Sobrescribiendo el valor por defecto\n",
    "greet(\"Vivi\", \"¡Buenos días\")          # -> ¡Buenos días, Vivi!\n",
    "greet(name=\"Vivi\", message=\"Hola\")     # -> Hola, Vivi!\n",
    "greet(message=\"Welcome\", name=\"Team 5\")# -> Welcome, Team 5\n",
    "\n",
    "# Pruebas automáticas (si se usa greet_text)\n",
    "assert greet_text(\"Ana\") == \"Hello, Ana!\"\n",
    "assert greet_text(\"Ana\", \"Hola\") == \"Hola, Ana!\""
   ]
  },
  {
   "cell_type": "markdown",
   "id": "60d2d022-51f8-4dca-a708-73dd168a62c2",
   "metadata": {},
   "source": [
    "**¿Cómo decide Python el valor de message si no lo doy?**\n",
    "\n",
    "- Si no mandas message, usa el valor por defecto de la función.\n",
    "Ejemplo: def greet(name, message=\"Hello\") → greet(\"Vivi\") imprime “Hello, Vivi!”.\n",
    "- Si mandas message, reemplaza al defecto. Ej: greet(\"Vivi\", \"Hola\") → “Hola, Vivi!”.\n",
    "\n",
    "**Ojo:** los valores por defecto se fijan una sola vez al definir la función.\n",
    "Por eso evita usar cosas mutables (listas, diccionarios) como valor por defecto. Con \"Hello\" no hay problema porque es inmutable."
   ]
  },
  {
   "cell_type": "markdown",
   "id": "13f1b04f-8b9a-40b8-8dc8-d1abd1183906",
   "metadata": {},
   "source": [
    "## 8. Función con sugerencias de tipo\n",
    "\n",
    "- Escriba una función multiply(a: int, b: int) -> intque devuelva el producto de dos números enteros.\n",
    "- Pruebe la función con números enteros y cadenas.\n",
    "\n",
    "**Re-pregunta:** ¿Qué sucede si pasas cadenas y por qué?"
   ]
  },
  {
   "cell_type": "code",
   "execution_count": 22,
   "id": "7b6e4b39-816f-4a8f-854c-436e90d71f50",
   "metadata": {},
   "outputs": [],
   "source": [
    "def multiply(a: int, b: int) -> int:\n",
    "    \"\"\"Devuelve el producto de dos enteros.\"\"\"\n",
    "    return a * b"
   ]
  },
  {
   "cell_type": "code",
   "execution_count": 32,
   "id": "bd54f3a3-58e5-42e8-a7cc-626069713836",
   "metadata": {},
   "outputs": [
    {
     "name": "stdout",
     "output_type": "stream",
     "text": [
      "24\n",
      "pypypypypypypypypypypypy\n"
     ]
    }
   ],
   "source": [
    "# Con enteros funciona bien\n",
    "print(multiply(12, 2))    # 24\n",
    "\n",
    "# Aunque los hints dicen int, Python permite otras cosas:\n",
    "print(multiply(\"py\", 12))   # 'pypypy' (string repetido)"
   ]
  },
  {
   "cell_type": "code",
   "execution_count": 29,
   "id": "349ede90-58f3-46a1-89b6-6ac55c0a52cc",
   "metadata": {},
   "outputs": [
    {
     "name": "stdout",
     "output_type": "stream",
     "text": [
      "TypeError: can't multiply sequence by non-int of type 'str'\n"
     ]
    }
   ],
   "source": [
    "try:\n",
    "    print(multiply(\"py\", \"12\"))  # Esto sí da error\n",
    "except TypeError as e:\n",
    "    print(\"TypeError:\", e)"
   ]
  },
  {
   "cell_type": "markdown",
   "id": "7f6aa030-d0aa-4f0b-8334-68e6dfcfad77",
   "metadata": {},
   "source": [
    "**¿Qué sucede si paso strings?**\n",
    "Los type hints en Python son sugerencias, no reglas obligatorias en tiempo de ejecución.\n",
    "\n",
    "- \"py\" * 12 funciona → repite la cadena.\n",
    "- \"py\" * \"12\" lanza TypeError.\n",
    "\n",
    "Si realmente quiero forzar que solo se usen enteros, debo validar dentro de la función con isinstance o usar herramientas como mypy."
   ]
  },
  {
   "cell_type": "markdown",
   "id": "22a3805c-f55e-4f5c-a88c-7bed9e97bbb3",
   "metadata": {},
   "source": [
    "# Part 3: Classes"
   ]
  },
  {
   "cell_type": "markdown",
   "id": "8c8f7a24-b15a-4111-b938-a67778301190",
   "metadata": {},
   "source": [
    "## 9. Class with Attributes and Methods"
   ]
  },
  {
   "cell_type": "markdown",
   "id": "429a58b6-38fa-45d9-b0c1-0bcfb925341e",
   "metadata": {},
   "source": [
    "### Define a class Car with attributes brand, model, and year.\n",
    "### Add a method display_info() that prints the car’s details."
   ]
  },
  {
   "cell_type": "code",
   "execution_count": 3,
   "id": "4885a5fb-e648-4cf1-b105-bb606847eb4b",
   "metadata": {},
   "outputs": [],
   "source": [
    "class Car:\n",
    "    def __init__(self, brand: str, model: str, year: int):\n",
    "        self.brand = brand\n",
    "        self.model = model\n",
    "        self.year = year\n",
    "\n",
    "    def display_info(self):\n",
    "        print(f\"Car -> Year: {self.year} | Brand: {self.brand} | Model: {self.model}\")"
   ]
  },
  {
   "cell_type": "markdown",
   "id": "5b632f34-3e86-4322-9ece-5e5bcb7797b8",
   "metadata": {},
   "source": [
    "### Re-question: Create two car objects and call the method for each one."
   ]
  },
  {
   "cell_type": "code",
   "execution_count": 4,
   "id": "771475f6-27c5-4fe3-8766-285716e17044",
   "metadata": {},
   "outputs": [
    {
     "name": "stdout",
     "output_type": "stream",
     "text": [
      "Car -> Year: 2020 | Brand: Toyota | Model: Corolla\n",
      "Car -> Year: 2018 | Brand: Honda | Model: Civic\n"
     ]
    }
   ],
   "source": [
    "car1 = Car(\"Toyota\", \"Corolla\", 2020)\n",
    "car2 = Car(\"Honda\", \"Civic\", 2018)\n",
    "\n",
    "car1.display_info()\n",
    "car2.display_info()"
   ]
  },
  {
   "cell_type": "markdown",
   "id": "b41e6554-558e-4fed-8184-74e413ff10d3",
   "metadata": {},
   "source": [
    "### 10. Using __init__ and self"
   ]
  },
  {
   "cell_type": "markdown",
   "id": "f25ce60d-767d-4211-aa2d-5845a39957ad",
   "metadata": {},
   "source": [
    "### Create a class Student with attributes name, age, and grade.\n",
    "### Add a method is_passed() that returns \"Passed\" if grade ≥ 11, otherwise \"Failed\"."
   ]
  },
  {
   "cell_type": "code",
   "execution_count": 7,
   "id": "82b4e826-01ae-408a-a428-66a69813e6b3",
   "metadata": {},
   "outputs": [],
   "source": [
    "class Student:\n",
    "    school = \"PUCP\"   \n",
    "\n",
    "    def __init__(self, name: str, age: int, grade: float):\n",
    "        self.name = name\n",
    "        self.age = age\n",
    "        self.grade = grade\n",
    "\n",
    "    def is_passed(self):\n",
    "        return \"Passed\" if self.grade >= 11 else \"Failed\"\n",
    "\n",
    "    def display_profile(self):\n",
    "        print(f\"Student -> Name: {self.name} | Age: {self.age} | \"\n",
    "              f\"Grade: {self.grade} | School: {Student.school}\")"
   ]
  },
  {
   "cell_type": "markdown",
   "id": "d3896c8e-5820-4f63-a90e-4915b9c0c949",
   "metadata": {},
   "source": [
    "### Re-question: How would you modify the class to add a class attribute school = \"PUCP\" and display it for all students?"
   ]
  },
  {
   "cell_type": "code",
   "execution_count": 8,
   "id": "8a3b3aab-611a-48c0-aa78-a9e407291924",
   "metadata": {},
   "outputs": [
    {
     "name": "stdout",
     "output_type": "stream",
     "text": [
      "María => Passed\n",
      "Luis => Failed\n",
      "Student -> Name: María | Age: 20 | Grade: 15.0 | School: PUCP\n",
      "Student -> Name: Luis | Age: 22 | Grade: 10.5 | School: PUCP\n",
      "School (class attribute): PUCP\n"
     ]
    }
   ],
   "source": [
    "stu1 = Student(\"María\", 20, 15.0)\n",
    "stu2 = Student(\"Luis\", 22, 10.5)\n",
    "\n",
    "print(stu1.name, \"=>\", stu1.is_passed())  \n",
    "print(stu2.name, \"=>\", stu2.is_passed())  \n",
    "stu1.display_profile()\n",
    "stu2.display_profile()\n",
    "\n",
    "print(\"School (class attribute):\", Student.school)"
   ]
  }
 ],
 "metadata": {},
 "nbformat": 4,
 "nbformat_minor": 5
}
