{
 "cells": [
  {
   "cell_type": "markdown",
   "id": "22a3805c-f55e-4f5c-a88c-7bed9e97bbb3",
   "metadata": {},
   "source": [
    "# Part 3: Classes"
   ]
  },
  {
   "cell_type": "markdown",
   "id": "8c8f7a24-b15a-4111-b938-a67778301190",
   "metadata": {},
   "source": [
    "## 9. Class with Attributes and Methods"
   ]
  },
  {
   "cell_type": "markdown",
   "id": "429a58b6-38fa-45d9-b0c1-0bcfb925341e",
   "metadata": {},
   "source": [
    "### Define a class Car with attributes brand, model, and year.\n",
    "### Add a method display_info() that prints the car’s details."
   ]
  },
  {
   "cell_type": "code",
   "execution_count": 3,
   "id": "4885a5fb-e648-4cf1-b105-bb606847eb4b",
   "metadata": {},
   "outputs": [],
   "source": [
    "class Car:\n",
    "    def __init__(self, brand: str, model: str, year: int):\n",
    "        self.brand = brand\n",
    "        self.model = model\n",
    "        self.year = year\n",
    "\n",
    "    def display_info(self):\n",
    "        print(f\"Car -> Year: {self.year} | Brand: {self.brand} | Model: {self.model}\")"
   ]
  },
  {
   "cell_type": "markdown",
   "id": "5b632f34-3e86-4322-9ece-5e5bcb7797b8",
   "metadata": {},
   "source": [
    "### Re-question: Create two car objects and call the method for each one."
   ]
  },
  {
   "cell_type": "code",
   "execution_count": 4,
   "id": "771475f6-27c5-4fe3-8766-285716e17044",
   "metadata": {},
   "outputs": [
    {
     "name": "stdout",
     "output_type": "stream",
     "text": [
      "Car -> Year: 2020 | Brand: Toyota | Model: Corolla\n",
      "Car -> Year: 2018 | Brand: Honda | Model: Civic\n"
     ]
    }
   ],
   "source": [
    "car1 = Car(\"Toyota\", \"Corolla\", 2020)\n",
    "car2 = Car(\"Honda\", \"Civic\", 2018)\n",
    "\n",
    "car1.display_info()\n",
    "car2.display_info()"
   ]
  },
  {
   "cell_type": "markdown",
   "id": "b41e6554-558e-4fed-8184-74e413ff10d3",
   "metadata": {},
   "source": [
    "### 10. Using __init__ and self"
   ]
  },
  {
   "cell_type": "markdown",
   "id": "f25ce60d-767d-4211-aa2d-5845a39957ad",
   "metadata": {},
   "source": [
    "### Create a class Student with attributes name, age, and grade.\n",
    "### Add a method is_passed() that returns \"Passed\" if grade ≥ 11, otherwise \"Failed\"."
   ]
  },
  {
   "cell_type": "code",
   "execution_count": 7,
   "id": "82b4e826-01ae-408a-a428-66a69813e6b3",
   "metadata": {},
   "outputs": [],
   "source": [
    "class Student:\n",
    "    school = \"PUCP\"   \n",
    "\n",
    "    def __init__(self, name: str, age: int, grade: float):\n",
    "        self.name = name\n",
    "        self.age = age\n",
    "        self.grade = grade\n",
    "\n",
    "    def is_passed(self):\n",
    "        return \"Passed\" if self.grade >= 11 else \"Failed\"\n",
    "\n",
    "    def display_profile(self):\n",
    "        print(f\"Student -> Name: {self.name} | Age: {self.age} | \"\n",
    "              f\"Grade: {self.grade} | School: {Student.school}\")"
   ]
  },
  {
   "cell_type": "markdown",
   "id": "d3896c8e-5820-4f63-a90e-4915b9c0c949",
   "metadata": {},
   "source": [
    "### Re-question: How would you modify the class to add a class attribute school = \"PUCP\" and display it for all students?"
   ]
  },
  {
   "cell_type": "code",
   "execution_count": 8,
   "id": "8a3b3aab-611a-48c0-aa78-a9e407291924",
   "metadata": {},
   "outputs": [
    {
     "name": "stdout",
     "output_type": "stream",
     "text": [
      "María => Passed\n",
      "Luis => Failed\n",
      "Student -> Name: María | Age: 20 | Grade: 15.0 | School: PUCP\n",
      "Student -> Name: Luis | Age: 22 | Grade: 10.5 | School: PUCP\n",
      "School (class attribute): PUCP\n"
     ]
    }
   ],
   "source": [
    "stu1 = Student(\"María\", 20, 15.0)\n",
    "stu2 = Student(\"Luis\", 22, 10.5)\n",
    "\n",
    "print(stu1.name, \"=>\", stu1.is_passed())  \n",
    "print(stu2.name, \"=>\", stu2.is_passed())  \n",
    "stu1.display_profile()\n",
    "stu2.display_profile()\n",
    "\n",
    "print(\"School (class attribute):\", Student.school)"
   ]
  }
 ],
 "metadata": {
  "kernelspec": {
   "display_name": "Python [conda env:base] *",
   "language": "python",
   "name": "conda-base-py"
  },
  "language_info": {
   "codemirror_mode": {
    "name": "ipython",
    "version": 3
   },
   "file_extension": ".py",
   "mimetype": "text/x-python",
   "name": "python",
   "nbconvert_exporter": "python",
   "pygments_lexer": "ipython3",
   "version": "3.13.5"
  }
 },
 "nbformat": 4,
 "nbformat_minor": 5
}
