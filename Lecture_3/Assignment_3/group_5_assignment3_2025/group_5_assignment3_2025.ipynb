{
 "cells": [
  {
   "cell_type": "markdown",
   "id": "fe2853f2-ca12-4f65-b9ed-96c209705681",
   "metadata": {},
   "source": [
    "# Assignment 3\n",
    "\n",
    "Integrantes:\n",
    "- Lesly León (20166498)\n",
    "- Susan Montalvo (20024577)\n",
    "- Vivian \n",
    "- Esteban\n",
    "\n",
    "Fecha de entrega: 11/9/2025"
   ]
  },
  {
   "cell_type": "markdown",
   "id": "9d2cd138-fa87-4220-8d79-55a8abc51b38",
   "metadata": {},
   "source": [
    "## Parte 1: Loops"
   ]
  },
  {
   "cell_type": "markdown",
   "id": "9a851b85-bef8-4aea-bb90-49de7cf2b51e",
   "metadata": {},
   "source": [
    "1. Write a for loop that iterates through numbers from 1 to 10."
   ]
  },
  {
   "cell_type": "markdown",
   "id": "db0a966f-e238-4879-aa0a-a217a4c2a1da",
   "metadata": {},
   "source": [
    "a) Use the pass statement when the number is even, and print only the odd numbers."
   ]
  },
  {
   "cell_type": "code",
   "execution_count": 22,
   "id": "35cd2ca4-2e32-4ea1-9e8e-32ebedb01dc4",
   "metadata": {},
   "outputs": [
    {
     "name": "stdout",
     "output_type": "stream",
     "text": [
      "1\n",
      "3\n",
      "5\n",
      "7\n",
      "9\n"
     ]
    }
   ],
   "source": [
    "for num_imp in range(1, 11):\n",
    "    if num_imp % 2 == 0:  \n",
    "        pass           \n",
    "    else:\n",
    "        print(num_imp)     "
   ]
  },
  {
   "cell_type": "markdown",
   "id": "d5cc298a-4cd1-4c9f-b2af-4a56ebaf37b0",
   "metadata": {},
   "source": [
    "b) Re-question: What would happen if you remove the pass statement? \n",
    "A SyntaxError arises in this case because the if block is empty."
   ]
  },
  {
   "cell_type": "markdown",
   "id": "0efff5da-d8f9-4991-a0b4-cee2726f5b57",
   "metadata": {},
   "source": [
    "2. Create a loop that goes through the string \"pythonloops\"."
   ]
  },
  {
   "cell_type": "markdown",
   "id": "d0f08acd-4604-4ad3-bcf7-95ec4e0754fe",
   "metadata": {},
   "source": [
    "a) Skip the letters \"o\" using the continue statement and print the remaining letters."
   ]
  },
  {
   "cell_type": "code",
   "execution_count": 29,
   "id": "d8aff167-0739-4812-bec4-e78d32e9ef8e",
   "metadata": {},
   "outputs": [
    {
     "name": "stdout",
     "output_type": "stream",
     "text": [
      "p\n",
      "y\n",
      "t\n",
      "h\n",
      "n\n",
      "l\n",
      "p\n",
      "s\n"
     ]
    }
   ],
   "source": [
    "for letra in \"pythonloops\":\n",
    "    if letra == \"o\":\n",
    "        continue    \n",
    "    print(letra)"
   ]
  },
  {
   "cell_type": "markdown",
   "id": "d4a63ece-42a8-4434-b1fd-9f1295e4beaf",
   "metadata": {},
   "source": [
    "b) Re-question: How would you achieve the same result without using continue?"
   ]
  },
  {
   "cell_type": "code",
   "execution_count": 31,
   "id": "6bc9c6d4-fae5-41f8-a0b5-6dbdff3ad219",
   "metadata": {},
   "outputs": [
    {
     "name": "stdout",
     "output_type": "stream",
     "text": [
      "p\n",
      "y\n",
      "t\n",
      "h\n",
      "n\n",
      "l\n",
      "p\n",
      "s\n"
     ]
    }
   ],
   "source": [
    "for letra in \"pythonloops\":\n",
    "    if letra != \"o\":\n",
    "        print(letra)"
   ]
  },
  {
   "cell_type": "markdown",
   "id": "89b68aa4-41e7-4afc-b2ad-9404759893ff",
   "metadata": {},
   "source": [
    "3. Write a while loop that keeps asking the user to input numbers."
   ]
  },
  {
   "cell_type": "code",
   "execution_count": 33,
   "id": "f11b442e-74d1-414e-9ec5-fdb2f7abd907",
   "metadata": {},
   "outputs": [
    {
     "name": "stdin",
     "output_type": "stream",
     "text": [
      "Enter a number:  10\n"
     ]
    },
    {
     "name": "stdout",
     "output_type": "stream",
     "text": [
      "You entered: 10\n"
     ]
    },
    {
     "name": "stdin",
     "output_type": "stream",
     "text": [
      "Enter a number:  -10\n"
     ]
    }
   ],
   "source": [
    "while True:\n",
    "    num = int(input(\"Enter a number: \"))\n",
    "    if num < 0:  \n",
    "        break\n",
    "    print(f\"You entered: {num}\")"
   ]
  },
  {
   "cell_type": "markdown",
   "id": "34be84df-0d99-4186-a6ca-36f00df01a22",
   "metadata": {},
   "source": [
    "Re-question: How can you modify the loop so it ignores negative numbers instead of breaking?"
   ]
  },
  {
   "cell_type": "code",
   "execution_count": null,
   "id": "9d441925-c423-46d4-8eb3-a865cca260c2",
   "metadata": {},
   "outputs": [],
   "source": [
    "while True:\n",
    "    num = int(input(\"Enter a number: \"))\n",
    "    if num < 0:   \n",
    "        continue\n",
    "    print(f\"You entered: {num}\")"
   ]
  },
  {
   "cell_type": "markdown",
   "id": "b25d48d3",
   "metadata": {},
   "source": [
    "Write a loop that asks the user to input a number and divides 100 by that number."
   ]
  },
  {
   "cell_type": "code",
   "execution_count": null,
   "id": "add690cd",
   "metadata": {},
   "outputs": [
    {
     "name": "stdout",
     "output_type": "stream",
     "text": [
      "Enter a number: 100\n",
      "100 / 100.0 = 1.0\n"
     ]
    }
   ],
   "source": [
    "while True:\n",
    "    number = float(input(\"Enter a number: \"))\n",
    "    result = 100 / number\n",
    "    print(f\"100 / {number} = {result}\")"
   ]
  },
  {
   "cell_type": "markdown",
   "id": "79a37c78",
   "metadata": {},
   "source": [
    "Use a try-except block to handle the case when the user inputs 0 or a non-numeric value."
   ]
  },
  {
   "cell_type": "code",
   "execution_count": null,
   "id": "5980fb76",
   "metadata": {},
   "outputs": [],
   "source": [
    "while True:\n",
    "    try:\n",
    "        user_input = input(\"Enter a number (or 'quit' to exit): \")\n",
    "        \n",
    "        if user_input.lower() == 'quit':\n",
    "            print(\"Goodbye!\")\n",
    "            break\n",
    "        \n",
    "        number = float(user_input)\n",
    "        result = 100 / number\n",
    "        print(f\"100 divided by {number} equals {result}\")\n",
    "        \n",
    "    except ValueError:\n",
    "        print(\"Error: Please enter a valid number!\")\n",
    "    except ZeroDivisionError:\n",
    "        print(\"Error: Cannot divide by zero!\")\n",
    "    except KeyboardInterrupt:\n",
    "        print(\"\\nGoodbye!\")\n",
    "        break"
   ]
  },
  {
   "cell_type": "markdown",
   "id": "ae427381",
   "metadata": {},
   "source": [
    "Write a while loop that calculates the factorial of a given number 8"
   ]
  },
  {
   "cell_type": "code",
   "execution_count": null,
   "id": "ba38f78a",
   "metadata": {},
   "outputs": [],
   "source": [
    "def factorial_while_loop(8):\n",
    "    if 8 < 0:\n",
    "        raise ValueError(\"Factorial is not defined for negative numbers\")\n",
    "    if 8 == 0 or n == 1:\n",
    "        return 1\n",
    "    \n",
    "    result = 1\n",
    "    counter = 1\n",
    "    \n",
    "    while counter <= 8:\n",
    "        result *= counter\n",
    "        counter += 1\n",
    "    \n",
    "    return result"
   ]
  },
  {
   "cell_type": "code",
   "execution_count": null,
   "id": "11ccc4ce",
   "metadata": {},
   "outputs": [],
   "source": [
    "Print each intermediate step of the factorial calculation."
   ]
  },
  {
   "cell_type": "code",
   "execution_count": null,
   "id": "879dc32b",
   "metadata": {},
   "outputs": [],
   "source": [
    "def factorial_while_loop_countdown(8):\n",
    "\n",
    "    if 8 < 0:\n",
    "        raise ValueError(\"Factorial is not defined for negative numbers\")\n",
    "    if 8 == 0 or 8 == 1:\n",
    "        return 1\n",
    "    \n",
    "    result = 1\n",
    "    \n",
    "    while 8 > 1:\n",
    "        result *= 8\n",
    "        8 -= 1\n",
    "    \n",
    "    return result"
   ]
  }
 ],
 "metadata": {
  "kernelspec": {
   "display_name": "Python 3 (ipykernel)",
   "language": "python",
   "name": "python3"
  },
  "language_info": {
   "codemirror_mode": {
    "name": "ipython",
    "version": 3
   },
   "file_extension": ".py",
   "mimetype": "text/x-python",
   "name": "python",
   "nbconvert_exporter": "python",
   "pygments_lexer": "ipython3",
   "version": "3.11.5"
  }
 },
 "nbformat": 4,
 "nbformat_minor": 5
}
