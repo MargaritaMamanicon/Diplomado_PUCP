{
 "cells": [
  {
   "cell_type": "markdown",
   "id": "f7d5801b-d7d7-4c2c-9e62-55524e8a41d9",
   "metadata": {},
   "source": [
    "# Assignment 3 – Parte 2 (Grupo 5)\n",
    "\n",
    "**Autora:** Vivi\n",
    "**Fecha:** 09/09/2025  \n",
    "**Relacionado con:** Issue #1831  \n",
    "\n",
    "---\n",
    "\n",
    "### Objetivo\n",
    "Desarrollar la Parte 2 del Assignment 3 según las indicaciones del curso.\n"
   ]
  }
 ],
 "metadata": {
  "kernelspec": {
   "display_name": "Python (envvivi)",
   "language": "python",
   "name": "envvivi"
  },
  "language_info": {
   "codemirror_mode": {
    "name": "ipython",
    "version": 3
   },
   "file_extension": ".py",
   "mimetype": "text/x-python",
   "name": "python",
   "nbconvert_exporter": "python",
   "pygments_lexer": "ipython3",
   "version": "3.13.5"
  }
 },
 "nbformat": 4,
 "nbformat_minor": 5
}
