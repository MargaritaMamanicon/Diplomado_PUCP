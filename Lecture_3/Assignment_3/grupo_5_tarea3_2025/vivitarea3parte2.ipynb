{
 "cells": [
  {
   "cell_type": "markdown",
   "id": "594236f0-4546-4f87-822d-3f0524e62b03",
   "metadata": {},
   "source": [
    "# Assignment 3 — Parte 2 (Funciones)\n",
    "**Autora:** Vivi\n",
    "\n",
    "En esta parte resolveré los ejercicios 6, 7 y 8 relacionados con funciones en Python."
   ]
  },
  {
   "cell_type": "markdown",
   "id": "dea5baa3-348e-4873-bfa7-7eef8ab4a1b4",
   "metadata": {},
   "source": [
    "## 6. Function with Multiple Returns\n",
    "Escribe una función `analyze_numbers(lst)` que reciba una lista de números y retorne:\n",
    "- El valor máximo\n",
    "- El valor mínimo\n",
    "- El promedio\n",
    "\n",
    "**Re-question:** ¿Cómo llamarías a esta función y desempaquetarías los 3 resultados en tres variables?"
   ]
  },
  {
   "cell_type": "code",
   "execution_count": 30,
   "id": "7f97cdd9-0602-46c6-8a05-1b708279a850",
   "metadata": {},
   "outputs": [],
   "source": [
    "# Implementación\n",
    "def analyze_numbers(lst):\n",
    "    \"\"\"\n",
    "    Recibe una lista de números y devuelve (maximo, minimo, promedio).\n",
    "    Lanza ValueError si la lista está vacía.\n",
    "    \"\"\"\n",
    "    if not lst:\n",
    "        raise ValueError(\"La lista no puede estar vacía\")\n",
    "    max_val = max(lst)\n",
    "    min_val = min(lst)\n",
    "    avg_val = sum(lst) / len(lst)\n",
    "    return max_val, min_val, avg_val"
   ]
  },
  {
   "cell_type": "code",
   "execution_count": 31,
   "id": "a621716b-abe1-48e4-99e6-38cbaf45f4c6",
   "metadata": {},
   "outputs": [
    {
     "name": "stdout",
     "output_type": "stream",
     "text": [
      "max: 56 min: -9 avg: 21.5\n"
     ]
    }
   ],
   "source": [
    "# Pruebas dinámicas\n",
    "datos = [8, 36, 16, 22, 56, -9]\n",
    "mx, mn, avg = analyze_numbers(datos)\n",
    "print(\"max:\", mx, \"min:\", mn, \"avg:\", avg)\n",
    "\n",
    "assert (mx, mn) == (max(datos), min(datos))\n",
    "assert round(avg, 3) == round(sum(datos)/len(datos), 3)"
   ]
  },
  {
   "cell_type": "markdown",
   "id": "44b880e9-ec2f-4684-b6b5-bc81e67a6cc2",
   "metadata": {},
   "source": [
    "**¿Cómo llamarías a esta función y desempaquetarías los 3 resultados en tres variables?**\n",
    "\n",
    "Para llamar a la función `analyze_numbers` y desempaquetar los tres resultados\n",
    "(máximo, mínimo y promedio) en variables separadas, se usa asignación múltiple:\n",
    "\n",
    "```python\n",
    "mx, mn, avg = analyze_numbers(datos)"
   ]
  },
  {
   "cell_type": "markdown",
   "id": "a8404c2d-fa56-422d-83b9-6a4b33bf200a",
   "metadata": {},
   "source": [
    "## 7. Función con parámetros por defecto (greet)\n",
    "\n",
    "Crea una función greet (name, message=\"Hello\") que imprima un saludo.\n",
    "\n",
    "- Llamar a la función con y sin el messageparámetro.\n",
    "\n",
    "**Re-pregunta:** ¿Cómo decide Python qué valor utilizar messagecuando no se proporciona?"
   ]
  },
  {
   "cell_type": "code",
   "execution_count": 20,
   "id": "f0e2191e-d2b8-4206-9f34-8ba5705bcdba",
   "metadata": {},
   "outputs": [],
   "source": [
    "def greet(name: str, message: str = \"Hello\") -> None:\n",
    "    \"\"\"Imprime un saludo en la forma '<message>, <name>!'.\"\"\"\n",
    "    print(f\"{message}, {name}!\")\n",
    "\n",
    "\n",
    "# (Opcional) Versión que devuelve el texto para probar con assert\n",
    "def greet_text(name: str, message: str = \"Hello\") -> str:\n",
    "    return f\"{message}, {name}!\""
   ]
  },
  {
   "cell_type": "code",
   "execution_count": 21,
   "id": "b4be9a04-54a6-427b-85da-0b221db0182b",
   "metadata": {},
   "outputs": [
    {
     "name": "stdout",
     "output_type": "stream",
     "text": [
      "Hello, Vivi!\n",
      "¡Buenos días, Vivi!\n",
      "Hola, Vivi!\n",
      "Welcome, Team 5!\n"
     ]
    }
   ],
   "source": [
    "# Usando el valor por defecto de 'message'\n",
    "greet(\"Vivi\")                          # -> Hello, Vivi!\n",
    "\n",
    "# Sobrescribiendo el valor por defecto\n",
    "greet(\"Vivi\", \"¡Buenos días\")          # -> ¡Buenos días, Vivi!\n",
    "greet(name=\"Vivi\", message=\"Hola\")     # -> Hola, Vivi!\n",
    "greet(message=\"Welcome\", name=\"Team 5\")# -> Welcome, Team 5\n",
    "\n",
    "# Pruebas automáticas (si se usa greet_text)\n",
    "assert greet_text(\"Ana\") == \"Hello, Ana!\"\n",
    "assert greet_text(\"Ana\", \"Hola\") == \"Hola, Ana!\""
   ]
  },
  {
   "cell_type": "markdown",
   "id": "60d2d022-51f8-4dca-a708-73dd168a62c2",
   "metadata": {},
   "source": [
    "**¿Cómo decide Python el valor de message si no lo doy?**\n",
    "\n",
    "- Si no mandas message, usa el valor por defecto de la función.\n",
    "Ejemplo: def greet(name, message=\"Hello\") → greet(\"Vivi\") imprime “Hello, Vivi!”.\n",
    "- Si mandas message, reemplaza al defecto. Ej: greet(\"Vivi\", \"Hola\") → “Hola, Vivi!”.\n",
    "\n",
    "**Ojo:** los valores por defecto se fijan una sola vez al definir la función.\n",
    "Por eso evita usar cosas mutables (listas, diccionarios) como valor por defecto. Con \"Hello\" no hay problema porque es inmutable."
   ]
  },
  {
   "cell_type": "markdown",
   "id": "13f1b04f-8b9a-40b8-8dc8-d1abd1183906",
   "metadata": {},
   "source": [
    "## 8. Función con sugerencias de tipo\n",
    "\n",
    "- Escriba una función multiply(a: int, b: int) -> intque devuelva el producto de dos números enteros.\n",
    "- Pruebe la función con números enteros y cadenas.\n",
    "\n",
    "**Re-pregunta:** ¿Qué sucede si pasas cadenas y por qué?"
   ]
  },
  {
   "cell_type": "code",
   "execution_count": 22,
   "id": "7b6e4b39-816f-4a8f-854c-436e90d71f50",
   "metadata": {},
   "outputs": [],
   "source": [
    "def multiply(a: int, b: int) -> int:\n",
    "    \"\"\"Devuelve el producto de dos enteros.\"\"\"\n",
    "    return a * b"
   ]
  },
  {
   "cell_type": "code",
   "execution_count": 32,
   "id": "bd54f3a3-58e5-42e8-a7cc-626069713836",
   "metadata": {},
   "outputs": [
    {
     "name": "stdout",
     "output_type": "stream",
     "text": [
      "24\n",
      "pypypypypypypypypypypypy\n"
     ]
    }
   ],
   "source": [
    "# Con enteros funciona bien\n",
    "print(multiply(12, 2))    # 24\n",
    "\n",
    "# Aunque los hints dicen int, Python permite otras cosas:\n",
    "print(multiply(\"py\", 12))   # 'pypypy' (string repetido)"
   ]
  },
  {
   "cell_type": "code",
   "execution_count": 29,
   "id": "349ede90-58f3-46a1-89b6-6ac55c0a52cc",
   "metadata": {},
   "outputs": [
    {
     "name": "stdout",
     "output_type": "stream",
     "text": [
      "TypeError: can't multiply sequence by non-int of type 'str'\n"
     ]
    }
   ],
   "source": [
    "try:\n",
    "    print(multiply(\"py\", \"12\"))  # Esto sí da error\n",
    "except TypeError as e:\n",
    "    print(\"TypeError:\", e)"
   ]
  },
  {
   "cell_type": "markdown",
   "id": "7f6aa030-d0aa-4f0b-8334-68e6dfcfad77",
   "metadata": {},
   "source": [
    "**¿Qué sucede si paso strings?**\n",
    "Los type hints en Python son sugerencias, no reglas obligatorias en tiempo de ejecución.\n",
    "\n",
    "- \"py\" * 12 funciona → repite la cadena.\n",
    "- \"py\" * \"12\" lanza TypeError.\n",
    "\n",
    "Si realmente quiero forzar que solo se usen enteros, debo validar dentro de la función con isinstance o usar herramientas como mypy."
   ]
  }
 ],
 "metadata": {
  "kernelspec": {
   "display_name": "Python (envvivi)",
   "language": "python",
   "name": "envvivi"
  },
  "language_info": {
   "codemirror_mode": {
    "name": "ipython",
    "version": 3
   },
   "file_extension": ".py",
   "mimetype": "text/x-python",
   "name": "python",
   "nbconvert_exporter": "python",
   "pygments_lexer": "ipython3",
   "version": "3.13.5"
  }
 },
 "nbformat": 4,
 "nbformat_minor": 5
}
