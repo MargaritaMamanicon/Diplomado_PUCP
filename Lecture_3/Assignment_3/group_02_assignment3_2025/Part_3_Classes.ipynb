
{
 "cells": [
  {
   "cell_type": "markdown",
   "id": "7c0d1f73",
   "metadata": {},
   "source": [
    "# Part 3: Classes\n",
    "Ejercicios de Python sobre clases, atributos y métodos"
   ]
  },
  {
   "cell_type": "markdown",
   "id": "17cee8f1",
   "metadata": {},
   "source": [
    "## Ejercicio 9: Class with Attributes and Methods\n",
    "Define una clase `Car` con atributos `brand`, `model`, y `year`. Añade un método `display_info()` que imprima los detalles del auto."
   ]
  },
  {
   "cell_type": "code",
   "execution_count": null,
   "id": "c4feff86",
   "metadata": {},
   "outputs": [],
   "source": [
    "class Car:\n",
    "    def __init__(self, brand, model, year):\n",
    "        self.brand = brand\n",
    "        self.model = model\n",
    "        self.year = year\n",
    "\n",
    "    def display_info(self):\n",
    "        print(f\"Car: {self.brand} {self.model}, Year: {self.year}\")\n",
    "\n",
    "\n",
    "# Crear dos objetos de Car\n",
    "car1 = Car(\"Toyota\", \"Corolla\", 2020)\n",
    "car2 = Car(\"Honda\", \"Civic\", 2022)\n",
    "\n",
    "# Mostrar información de cada auto\n",
    "car1.display_info()\n",
    "car2.display_info()"
   ]
  },
  {
   "cell_type": "markdown",
   "id": "6700ad05",
   "metadata": {},
   "source": [
    "## Ejercicio 10: Using __init__ and self\n",
    "Crea una clase `Student` con atributos `name`, `age`, y `grade`. Añade un atributo de clase `school = \"PUCP\"`, un método `is_passed()` que devuelva `'Passed'` si `grade >= 11`, caso contrario `'Failed'`. Muestra la información con un método `display_info()`."
   ]
  },
  {
   "cell_type": "code",
   "execution_count": null,
   "id": "92c3e2b8",
   "metadata": {},
   "outputs": [],
   "source": [
    "class Student:\n",
    "    # Atributo de clase\n",
    "    school = \"PUCP\"\n",
    "\n",
    "    def __init__(self, name, age, grade):\n",
    "        self.name = name\n",
    "        self.age = age\n",
    "        self.grade = grade\n",
    "\n",
    "    def is_passed(self):\n",
    "        if self.grade >= 11:\n",
    "            return \"Passed\"\n",
    "        else:\n",
    "            return \"Failed\"\n",
    "\n",
    "    def display_info(self):\n",
    "        print(f'The student named {self.name}, who is {self.age} years old, '\n",
    "              f'got {self.grade} in the last exam. Thus, {self.name} {self.is_passed()} '\n",
    "              f'the course. School: {Student.school}')\n",
    "\n",
    "\n",
    "# Crear objetos de Student\n",
    "student1 = Student(\"Ana\", 15, 14)\n",
    "student2 = Student(\"Luis\", 16, 9)\n",
    "\n",
    "# Mostrar la información de los estudiantes\n",
    "student1.display_info()\n",
    "student2.display_info()"
   ]
  }
 ],
 "metadata": {},
 "nbformat": 4,
 "nbformat_minor": 5
}
