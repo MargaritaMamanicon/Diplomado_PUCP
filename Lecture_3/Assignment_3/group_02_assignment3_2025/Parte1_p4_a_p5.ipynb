{
 "cells": [
  {
   "cell_type": "markdown",
   "id": "77c778e3",
   "metadata": {},
   "source": [
    "## Part 1: Loops"
   ]
  },
  {
   "cell_type": "markdown",
   "id": "2f914ef5",
   "metadata": {},
   "source": [
    "### Pregunta 4 y 5"
   ]
  },
  {
   "cell_type": "code",
   "execution_count": 1,
   "id": "92f12a32",
   "metadata": {},
   "outputs": [],
   "source": [
    "# 4. Try-Except Block\n",
    "def division_exercise():\n",
    "    numero = input(\"Ingresa un número para dividir 100: \")\n",
    "    try:\n",
    "        divisor = float(numero)\n",
    "        resultado = 100 / divisor\n",
    "        print(f\"100 / {divisor} = {resultado}\")\n",
    "    \n",
    "    except ZeroDivisionError:\n",
    "        print(\"Error: No se puede dividir por cero\")\n",
    "        \n",
    "    except ValueError:\n",
    "        print(\"Error: Debes ingresar un número válido\")"
   ]
  },
  {
   "cell_type": "code",
   "execution_count": 2,
   "id": "c83eb6cd",
   "metadata": {},
   "outputs": [],
   "source": [
    "# Versión mejorada que sigue pidiendo hasta obtener entrada válida\n",
    "def division_exercise_mejorado():\n",
    "    print(\"Versión mejorada - sigue pidiendo hasta entrada válida:\")\n",
    "    while True:\n",
    "        numero = input(\"Ingresa un número para dividir 100 (o 'quit' para salir): \")\n",
    "        if numero.lower() == 'quit':\n",
    "            break\n",
    "        try:\n",
    "            divisor = float(numero)\n",
    "            if divisor == 0:\n",
    "                print(\"Error: No se puede dividir por cero. Intenta de nuevo.\")\n",
    "                continue\n",
    "            resultado = 100 / divisor\n",
    "            print(f\"100 / {divisor} = {resultado}\")\n",
    "            break  # Salir después de un cálculo exitoso\n",
    "        except ValueError:\n",
    "            print(\"Error: Debes ingresar un número válido. Intenta de nuevo.\")"
   ]
  },
  {
   "cell_type": "code",
   "execution_count": null,
   "id": "20640a56",
   "metadata": {},
   "outputs": [],
   "source": [
    "# 5. While Loop Structure - Factorial\n",
    "def factorial_while(n):\n",
    "    if n < 0:\n",
    "        return \"El factorial no está definido para números negativos\"\n",
    "    \n",
    "    print(f\"Calculando factorial de {n}:\")\n",
    "    factorial = 1\n",
    "    contador = 1\n",
    "    \n",
    "    if n == 0:\n",
    "        print(\"0! = 1 (por definición)\")\n",
    "        return 1\n",
    "    \n",
    "    while contador <= n:\n",
    "        factorial *= contador\n",
    "        print(f\"Paso {contador}: {factorial} (multiplicando por {contador})\")\n",
    "        contador += 1\n",
    "    \n",
    "    print(f\"Resultado final: {n}! = {factorial}\")\n",
    "    return factorial\n",
    "\n",
    "# Versión con for loop\n",
    "def factorial_for(n):\n",
    "    if n < 0:\n",
    "        return \"El factorial no está definido para números negativos\"\n",
    "    \n",
    "    print(f\"\\nCalculando factorial de {n} con for loop:\")\n",
    "    factorial = 1\n",
    "    \n",
    "    if n == 0:\n",
    "        print(\"0! = 1 (por definición)\")\n",
    "        return 1\n",
    "    \n",
    "    for i in range(1, n + 1):\n",
    "        factorial *= i\n",
    "        print(f\"Paso {i}: {factorial} (multiplicando por {i})\")\n",
    "    \n",
    "    print(f\"Resultado final: {n}! = {factorial}\")\n",
    "    return factorial\n",
    "\n",
    "# Ejemplo de uso\n",
    "print(\"Ejemplo con n = 5:\")\n",
    "factorial_while(5)\n",
    "factorial_for(5)\n",
    "\n",
    "print(\"- ejercicio_break()\")\n",
    "print(\"- ejercicio_break_modificado()\")\n",
    "print(\"- division_exercise()\")\n",
    "print(\"- division_exercise_mejorado()\")\n",
    "print(\"- factorial_while(n)\")\n",
    "print(\"- factorial_for(n)\")"
   ]
  }
 ],
 "metadata": {
  "kernelspec": {
   "display_name": "Python 3 (ipykernel)",
   "language": "python",
   "name": "python3"
  },
  "language_info": {
   "codemirror_mode": {
    "name": "ipython",
    "version": 3
   },
   "file_extension": ".py",
   "mimetype": "text/x-python",
   "name": "python",
   "nbconvert_exporter": "python",
   "pygments_lexer": "ipython3",
   "version": "3.11.5"
  }
 },
 "nbformat": 4,
 "nbformat_minor": 5
}
