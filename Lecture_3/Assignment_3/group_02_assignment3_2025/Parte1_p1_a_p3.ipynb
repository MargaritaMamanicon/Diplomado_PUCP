{
 "cells": [
  {
   "cell_type": "markdown",
   "id": "77c778e3",
   "metadata": {},
   "source": [
    "## Part 1: Loops"
   ]
  },
  {
   "cell_type": "markdown",
   "id": "2f914ef5",
   "metadata": {},
   "source": [
    "### 1. Pass Statement"
   ]
  },
  {
   "cell_type": "code",
   "execution_count": 8,
   "id": "063a4beb",
   "metadata": {},
   "outputs": [
    {
     "name": "stdout",
     "output_type": "stream",
     "text": [
      "1\n",
      "3\n",
      "5\n",
      "7\n",
      "9\n"
     ]
    }
   ],
   "source": [
    "# Recorremos los números del 1 al 10\n",
    "for n in range(1, 11):\n",
    "    # Si el número es par (n % 2 == 0) no hacemos nada\n",
    "    if n % 2 == 0:\n",
    "        pass # 'pass' sirve como marcador: no hace nada pero evita error de sintaxis\n",
    "    else:\n",
    "        # Si el número no es par (es impar), lo imprimimos\n",
    "        print(n)"
   ]
  },
  {
   "cell_type": "markdown",
   "id": "9df90d42",
   "metadata": {},
   "source": [
    "Si retiramos **pass**. ¿qué sucede?"
   ]
  },
  {
   "cell_type": "code",
   "execution_count": 7,
   "id": "ee4beee2",
   "metadata": {},
   "outputs": [
    {
     "ename": "IndentationError",
     "evalue": "expected an indented block after 'if' statement on line 4 (127364753.py, line 5)",
     "output_type": "error",
     "traceback": [
      "\u001b[1;36m  Cell \u001b[1;32mIn[7], line 5\u001b[1;36m\u001b[0m\n\u001b[1;33m    else:\u001b[0m\n\u001b[1;37m    ^\u001b[0m\n\u001b[1;31mIndentationError\u001b[0m\u001b[1;31m:\u001b[0m expected an indented block after 'if' statement on line 4\n"
     ]
    }
   ],
   "source": [
    "# Recorremos los números del 1 al 10\n",
    "for n in range(1, 11):\n",
    "    # Si el número es par (n % 2 == 0) no hacemos nada\n",
    "    if n % 2 == 0:\n",
    "    else:\n",
    "        # Si el número no es par (es impar), lo imprimimos\n",
    "        print(n)"
   ]
  },
  {
   "cell_type": "markdown",
   "id": "458cb13c",
   "metadata": {},
   "source": [
    "Si eliminamos la línea **pass** pero dejamos el if sin contenido, no se compila el código y lanzará un error en tiempo de compilación:  \n",
    "*\"IndentationError: expected an indented block after 'if' statement on line 2\"*  \n",
    "Esto sucede porque la sintaxis de Python exige un bloque (una o más sentencias) después de if: — pass es la forma explícita de decir \"aquí no hago nada, pero la sintaxis está completa\"."
   ]
  },
  {
   "cell_type": "markdown",
   "id": "e1f17b5d",
   "metadata": {},
   "source": [
    "### 2. Continue Statement"
   ]
  },
  {
   "cell_type": "code",
   "execution_count": 1,
   "id": "f866acca",
   "metadata": {},
   "outputs": [
    {
     "name": "stdout",
     "output_type": "stream",
     "text": [
      "p\n",
      "y\n",
      "t\n",
      "h\n",
      "n\n",
      "l\n",
      "p\n",
      "s\n"
     ]
    }
   ],
   "source": [
    "# Recorremos cada letra en la palabra\n",
    "for letra in \"pythonloops\":\n",
    "    # Si la letra es 'o', saltamos esta iteración\n",
    "    if letra == \"o\":\n",
    "        continue  # vuelve al inicio del bucle sin ejecutar lo que sigue\n",
    "    # Imprimimos todas las demás letras\n",
    "    print(letra)"
   ]
  },
  {
   "cell_type": "markdown",
   "id": "91be2149",
   "metadata": {},
   "source": [
    "#### Misma solución SIN *continue*"
   ]
  },
  {
   "cell_type": "code",
   "execution_count": 5,
   "id": "bb9cb7e6",
   "metadata": {},
   "outputs": [
    {
     "name": "stdout",
     "output_type": "stream",
     "text": [
      "p\n",
      "y\n",
      "t\n",
      "h\n",
      "n\n",
      "l\n",
      "p\n",
      "s\n"
     ]
    }
   ],
   "source": [
    "# Recorremos cada letra en la palabra\n",
    "for letra in \"pythonloops\":\n",
    "    # Imprimimos solo si la letra no es 'o'\n",
    "    if letra != \"o\":\n",
    "        print(letra)"
   ]
  },
  {
   "cell_type": "markdown",
   "id": "467c07c9",
   "metadata": {},
   "source": [
    "Aquí no saltamos explícitamente la iteración, sino que imprimimos solo cuando la condición se cumple."
   ]
  },
  {
   "cell_type": "markdown",
   "id": "18b42585",
   "metadata": {},
   "source": [
    "### 3. Break Statement"
   ]
  },
  {
   "cell_type": "code",
   "execution_count": 1,
   "id": "afd4788d",
   "metadata": {},
   "outputs": [
    {
     "name": "stdout",
     "output_type": "stream",
     "text": [
      "Ingresa un número (se detiene con un negativo): 5\n",
      "Ingresaste: 5\n",
      "Ingresa un número (se detiene con un negativo): -5\n",
      "Número negativo detectado. El bucle se detiene.\n"
     ]
    }
   ],
   "source": [
    "# Mientras sea verdad (loop infinito controlado manualmente)\n",
    "while True:\n",
    "    # Pedimos un número al usuario\n",
    "    num = int(input(\"Ingresa un número (se detiene con un negativo): \"))\n",
    "    \n",
    "    # Si el número es negativo, rompemos el ciclo\n",
    "    if num < 0:\n",
    "        print(\"Número negativo detectado. El bucle se detiene.\")\n",
    "        break\n",
    "    \n",
    "    # Si no es negativo, lo imprimimos\n",
    "    print(\"Ingresaste:\", num)"
   ]
  },
  {
   "cell_type": "markdown",
   "id": "7f0f7fd4",
   "metadata": {},
   "source": [
    "#### ¿Cómo ignorar negativos en vez de romper el bucle?"
   ]
  },
  {
   "cell_type": "code",
   "execution_count": 2,
   "id": "41f681f7",
   "metadata": {},
   "outputs": [
    {
     "name": "stdout",
     "output_type": "stream",
     "text": [
      "Ingresa un número (0 para salir, negativos se ignoran): -5\n",
      "Número negativo ignorado.\n",
      "Ingresa un número (0 para salir, negativos se ignoran): 5\n",
      "Ingresaste: 5\n",
      "Ingresa un número (0 para salir, negativos se ignoran): 0\n",
      "El bucle ha terminado.\n"
     ]
    }
   ],
   "source": [
    "while True:\n",
    "    num = int(input(\"Ingresa un número (0 para salir, negativos se ignoran): \"))\n",
    "    \n",
    "    # Si es 0, detenemos el bucle\n",
    "    if num == 0:\n",
    "        print(\"El bucle ha terminado.\")\n",
    "        break\n",
    "    \n",
    "    # Si es negativo, lo ignoramos y pedimos otro\n",
    "    if num < 0:\n",
    "        print(\"Número negativo ignorado.\")\n",
    "        continue\n",
    "    \n",
    "    # Si es positivo, lo mostramos\n",
    "    print(\"Ingresaste:\", num)"
   ]
  },
  {
   "cell_type": "code",
   "execution_count": null,
   "id": "92f12a32",
   "metadata": {},
   "outputs": [],
   "source": []
  }
 ],
 "metadata": {
  "kernelspec": {
   "display_name": "Python 3 (ipykernel)",
   "language": "python",
   "name": "python3"
  },
  "language_info": {
   "codemirror_mode": {
    "name": "ipython",
    "version": 3
   },
   "file_extension": ".py",
   "mimetype": "text/x-python",
   "name": "python",
   "nbconvert_exporter": "python",
   "pygments_lexer": "ipython3",
   "version": "3.11.5"
  }
 },
 "nbformat": 4,
 "nbformat_minor": 5
}
