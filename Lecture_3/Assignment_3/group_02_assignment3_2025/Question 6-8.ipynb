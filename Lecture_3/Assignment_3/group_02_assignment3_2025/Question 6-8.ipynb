{
 "cells": [
  {
   "cell_type": "markdown",
   "id": "f4d37a02",
   "metadata": {},
   "source": [
    "# Tarea: Functions\n"
   ]
  },
  {
   "cell_type": "code",
   "execution_count": 1,
   "id": "d77d29e5",
   "metadata": {},
   "outputs": [],
   "source": [
    "import numpy as np"
   ]
  },
  {
   "cell_type": "markdown",
   "id": "36a8fe11",
   "metadata": {},
   "source": [
    "## 6. Function with Multiple Returns\n",
    "\n",
    "Write a function analyze_numbers(lst) that takes a list of numbers and returns:\n",
    "\n",
    ". The maximum value\n",
    "\n",
    ". The minimum value\n",
    "\n",
    ". The average value"
   ]
  },
  {
   "cell_type": "code",
   "execution_count": 15,
   "id": "ffae18c3",
   "metadata": {},
   "outputs": [],
   "source": [
    "def analyze_numbers(lst):\n",
    "    maximum = max(lst)\n",
    "    minimum = min(lst)\n",
    "    average = sum(lst) / len(lst)\n",
    "    return maximum, minimum, average"
   ]
  },
  {
   "cell_type": "code",
   "execution_count": 16,
   "id": "fbfc29d5",
   "metadata": {},
   "outputs": [
    {
     "data": {
      "text/plain": [
       "(30, 21, 24.4)"
      ]
     },
     "execution_count": 16,
     "metadata": {},
     "output_type": "execute_result"
    }
   ],
   "source": [
    "# Example\n",
    "\n",
    "nums = [24, 30, 25, 21, 22]\n",
    "\n",
    "result = analyze_numbers(nums)\n",
    "result #En este caso, el primer valor es el mayor número, el segundo el menor y el tercero el promedio"
   ]
  },
  {
   "cell_type": "code",
   "execution_count": 17,
   "id": "6cb6c270",
   "metadata": {},
   "outputs": [
    {
     "name": "stdout",
     "output_type": "stream",
     "text": [
      "Maximum: 30\n",
      "Minimum: 21\n",
      "Average: 24.4\n"
     ]
    }
   ],
   "source": [
    "print(\"Maximum:\", result[0])\n",
    "print(\"Minimum:\", result[1])\n",
    "print(\"Average:\", result[2])"
   ]
  },
  {
   "cell_type": "markdown",
   "id": "055b8c3a",
   "metadata": {},
   "source": [
    "Re-question: How would you call this function and unpack the results into three variables?"
   ]
  },
  {
   "cell_type": "markdown",
   "id": "ea92a1d8",
   "metadata": {},
   "source": [
    "You would call the function by passing in a list of numbers, and then use multiple assignment to unpack its three return values into separate variables. For example, if you write:"
   ]
  },
  {
   "cell_type": "code",
   "execution_count": 18,
   "id": "e45b6c88",
   "metadata": {},
   "outputs": [],
   "source": [
    "max_val, min_val, avg_val = analyze_numbers(nums)\n",
    "\n",
    "#then max_val will store the maximum value, min_val the minimum value, and avg_val the average."
   ]
  },
  {
   "cell_type": "code",
   "execution_count": 19,
   "id": "9fad7bb7",
   "metadata": {},
   "outputs": [
    {
     "name": "stdout",
     "output_type": "stream",
     "text": [
      "Maximum: 30\n",
      "Minimum: 21\n",
      "Average: 24.4\n"
     ]
    }
   ],
   "source": [
    "print(\"Maximum:\",max_val)\n",
    "print(\"Minimum:\",min_val)\n",
    "print(\"Average:\",avg_val)"
   ]
  },
  {
   "cell_type": "markdown",
   "id": "927a72fa",
   "metadata": {},
   "source": [
    "##  7. Function with Default Parameters\n",
    "\n",
    "Create a function greet(name, message=\"Hello\") that prints a greeting.\n",
    "\n",
    "Call the function with and without the message parameter."
   ]
  },
  {
   "cell_type": "code",
   "execution_count": 20,
   "id": "6b513be2",
   "metadata": {},
   "outputs": [],
   "source": [
    "def greet(name, message=\"Hello\"):\n",
    "    print(f\"{message}, {name}!\")"
   ]
  },
  {
   "cell_type": "code",
   "execution_count": 21,
   "id": "2ca59093",
   "metadata": {},
   "outputs": [
    {
     "name": "stdout",
     "output_type": "stream",
     "text": [
      "Hello, Arianna!\n",
      "Guten Morgen, Arianna!\n"
     ]
    }
   ],
   "source": [
    "# Using the default message\n",
    "greet(\"Arianna\")\n",
    "\n",
    "# Providing a custom message\n",
    "greet(\"Arianna\", \"Guten Morgen\") "
   ]
  },
  {
   "cell_type": "markdown",
   "id": "286b6bbf",
   "metadata": {},
   "source": [
    "Re-question: How does Python decide which value to use for message when it is not provided?"
   ]
  },
  {
   "cell_type": "markdown",
   "id": "e350a338",
   "metadata": {},
   "source": [
    "Answer: Python uses the default value you set in the function definition. If you don’t provide a value for the parameter, Python automatically fills it with that default. If you do provide one, it uses the value you gave instead."
   ]
  },
  {
   "cell_type": "markdown",
   "id": "6d787cf4",
   "metadata": {},
   "source": [
    "## 8. Function with Type Hints\n",
    "\n",
    "Write a function multiply(a: int, b: int) -> int that returns the product of two integers.\n",
    "\n",
    "Test the function with both integers and strings."
   ]
  },
  {
   "cell_type": "code",
   "execution_count": 23,
   "id": "953ff0c1",
   "metadata": {},
   "outputs": [],
   "source": [
    "def multiply(a: int, b: int) -> int:\n",
    "    return a * b"
   ]
  },
  {
   "cell_type": "code",
   "execution_count": 26,
   "id": "4c621bbe",
   "metadata": {},
   "outputs": [
    {
     "data": {
      "text/plain": [
       "54"
      ]
     },
     "execution_count": 26,
     "metadata": {},
     "output_type": "execute_result"
    }
   ],
   "source": [
    "# Test with integers\n",
    "\n",
    "multiply(9, 6)"
   ]
  },
  {
   "cell_type": "code",
   "execution_count": 27,
   "id": "b3175a07",
   "metadata": {},
   "outputs": [
    {
     "data": {
      "text/plain": [
       "'HolaHola'"
      ]
     },
     "execution_count": 27,
     "metadata": {},
     "output_type": "execute_result"
    }
   ],
   "source": [
    "# Test with an integer and a string\n",
    "\n",
    "multiply(\"Hola\", 2 )"
   ]
  },
  {
   "cell_type": "markdown",
   "id": "d2b572de",
   "metadata": {},
   "source": [
    "Re-question: What happens if you pass strings, and why?"
   ]
  },
  {
   "cell_type": "code",
   "execution_count": 30,
   "id": "1aaedc1c",
   "metadata": {},
   "outputs": [
    {
     "ename": "TypeError",
     "evalue": "can't multiply sequence by non-int of type 'str'",
     "output_type": "error",
     "traceback": [
      "\u001b[0;31m---------------------------------------------------------------------------\u001b[0m",
      "\u001b[0;31mTypeError\u001b[0m                                 Traceback (most recent call last)",
      "\u001b[0;32m/var/folders/6l/n6xmrbpn0gz37vr1pmqw650r0000gn/T/ipykernel_74837/3027148290.py\u001b[0m in \u001b[0;36m<module>\u001b[0;34m\u001b[0m\n\u001b[1;32m      1\u001b[0m \u001b[0;31m# If you pass strings, a mistake happens\u001b[0m\u001b[0;34m\u001b[0m\u001b[0;34m\u001b[0m\u001b[0m\n\u001b[1;32m      2\u001b[0m \u001b[0;34m\u001b[0m\u001b[0m\n\u001b[0;32m----> 3\u001b[0;31m \u001b[0mmultiply\u001b[0m\u001b[0;34m(\u001b[0m\u001b[0;34m\"Equipo\"\u001b[0m\u001b[0;34m,\u001b[0m \u001b[0;34m\"Dos\"\u001b[0m\u001b[0;34m)\u001b[0m\u001b[0;34m\u001b[0m\u001b[0;34m\u001b[0m\u001b[0m\n\u001b[0m",
      "\u001b[0;32m/var/folders/6l/n6xmrbpn0gz37vr1pmqw650r0000gn/T/ipykernel_74837/3449566633.py\u001b[0m in \u001b[0;36mmultiply\u001b[0;34m(a, b)\u001b[0m\n\u001b[1;32m      1\u001b[0m \u001b[0;32mdef\u001b[0m \u001b[0mmultiply\u001b[0m\u001b[0;34m(\u001b[0m\u001b[0ma\u001b[0m\u001b[0;34m:\u001b[0m \u001b[0mint\u001b[0m\u001b[0;34m,\u001b[0m \u001b[0mb\u001b[0m\u001b[0;34m:\u001b[0m \u001b[0mint\u001b[0m\u001b[0;34m)\u001b[0m \u001b[0;34m->\u001b[0m \u001b[0mint\u001b[0m\u001b[0;34m:\u001b[0m\u001b[0;34m\u001b[0m\u001b[0;34m\u001b[0m\u001b[0m\n\u001b[0;32m----> 2\u001b[0;31m     \u001b[0;32mreturn\u001b[0m \u001b[0ma\u001b[0m \u001b[0;34m*\u001b[0m \u001b[0mb\u001b[0m\u001b[0;34m\u001b[0m\u001b[0;34m\u001b[0m\u001b[0m\n\u001b[0m",
      "\u001b[0;31mTypeError\u001b[0m: can't multiply sequence by non-int of type 'str'"
     ]
    }
   ],
   "source": [
    "# If you pass strings, a mistake happens\n",
    "\n",
    "multiply(\"Equipo\", \"Dos\")"
   ]
  },
  {
   "cell_type": "markdown",
   "id": "f1ef1858",
   "metadata": {},
   "source": [
    "Why? \n",
    "\n",
    "Because Python only allows multiplying a string by an integer to repeat it, but multiplying one string by another has no defined meaning, so it raises a TypeError."
   ]
  }
 ],
 "metadata": {
  "kernelspec": {
   "display_name": "Python 3 (ipykernel)",
   "language": "python",
   "name": "python3"
  },
  "language_info": {
   "codemirror_mode": {
    "name": "ipython",
    "version": 3
   },
   "file_extension": ".py",
   "mimetype": "text/x-python",
   "name": "python",
   "nbconvert_exporter": "python",
   "pygments_lexer": "ipython3",
   "version": "3.9.7"
  }
 },
 "nbformat": 4,
 "nbformat_minor": 5
}
