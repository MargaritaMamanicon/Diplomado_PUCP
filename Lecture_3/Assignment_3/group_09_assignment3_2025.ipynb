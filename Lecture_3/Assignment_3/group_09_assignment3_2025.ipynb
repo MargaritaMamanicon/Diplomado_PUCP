{
 "cells": [
  {
   "cell_type": "code",
   "execution_count": null,
   "id": "60c9761b-073a-429e-82e7-4aee1d811d99",
   "metadata": {},
   "outputs": [],
   "source": [
    "# Group 09\n",
    "# Pecho, Rossana\n",
    "# Rodas, Ulises\n",
    "# Villacorta, Bruno\n",
    "# Villena, Pedro"
   ]
  },
  {
   "cell_type": "code",
   "execution_count": null,
   "id": "9e3038c9-19af-4302-84ae-3bc1718adb4e",
   "metadata": {},
   "outputs": [],
   "source": [
    "#1. Pass Statement Pedro\n",
    "#Write a for loop that iterates through numbers from 1 to 10.\n",
    "\n",
    "#Use the pass statement when the number is even, and print only the odd numbers.\n",
    "#Re-question: What would happen if you remove the pass statement?"
   ]
  },
  {
   "cell_type": "code",
   "execution_count": 17,
   "id": "1e5e57dc-6a42-4a28-b659-34246aa452ab",
   "metadata": {},
   "outputs": [
    {
     "name": "stdout",
     "output_type": "stream",
     "text": [
      "p\n",
      "y\n",
      "t\n",
      "h\n",
      "n\n",
      "l\n",
      "p\n",
      "s\n"
     ]
    }
   ],
   "source": [
    "#2. Continue Statement Rossana\n",
    "#Create a loop that goes through the string \"pythonloops\".\n",
    "#Skip the letters \"o\" using the continue statement and print the remaining letters.\n",
    "string = \"pythonloops\"\n",
    "for letter in string:\n",
    "    if letter == \"o\":\n",
    "        continue\n",
    "    print(letter)"
   ]
  },
  {
   "cell_type": "code",
   "execution_count": 27,
   "id": "07e1ae59-e35a-405b-bdca-06b686f95316",
   "metadata": {},
   "outputs": [
    {
     "ename": "IndentationError",
     "evalue": "expected an indented block after 'if' statement on line 4 (1018899719.py, line 5)",
     "output_type": "error",
     "traceback": [
      "\u001b[1;36m  Cell \u001b[1;32mIn[27], line 5\u001b[1;36m\u001b[0m\n\u001b[1;33m    print(letter)\u001b[0m\n\u001b[1;37m    ^\u001b[0m\n\u001b[1;31mIndentationError\u001b[0m\u001b[1;31m:\u001b[0m expected an indented block after 'if' statement on line 4\n"
     ]
    }
   ],
   "source": [
    "#Re-question: How would you achieve the same result without using continue?\n",
    "string = \"pythonloops\"\n",
    "for letter in string:\n",
    "    if letter == \"o\":\n",
    "    print(letter)\n",
    "#it gives an error. \"Continue\" helps keeping in the loop avoiding (or jumping) the \"o\" til it ends. That's why py give us a message error \n",
    "#thinking that we've made a mistake and we were trying to print just \"o\" instead."
   ]
  },
  {
   "cell_type": "code",
   "execution_count": null,
   "id": "0953b4a2-fb37-4549-b830-608836ae7559",
   "metadata": {},
   "outputs": [],
   "source": [
    "#3. Break Statement Ulises\n",
    "#Write a while loop that keeps asking the user to input numbers.\n",
    "\n",
    "#Break the loop if the user enters a negative number.\n",
    "#Re-question: How can you modify the loop so it ignores negative numbers instead of breaking?"
   ]
  },
  {
   "cell_type": "code",
   "execution_count": null,
   "id": "74e6e9ce-bbd3-41e9-894e-ee740fa1b338",
   "metadata": {},
   "outputs": [],
   "source": [
    "#4. Try-Except Block Bruno\n",
    "#Write a loop that asks the user to input a number and divides 100 by that number.\n",
    "\n",
    "#Use a try-except block to handle the case when the user inputs 0 or a non-numeric value.\n",
    "#Re-question: How would you improve the code to keep asking until a valid input is provided?"
   ]
  },
  {
   "cell_type": "code",
   "execution_count": 37,
   "id": "0bfc60e3-fc98-453d-bb20-29b9e4654375",
   "metadata": {},
   "outputs": [
    {
     "name": "stdout",
     "output_type": "stream",
     "text": [
      "1 : 1\n",
      "2 : 2\n",
      "3 : 6\n",
      "4 : 24\n",
      "5 : 120\n",
      "Final factorial of 5 = 120\n"
     ]
    }
   ],
   "source": [
    "#5. While Loop Structure Rossana\n",
    "#Write a while loop that calculates the factorial of a given number n.\n",
    "#Print each intermediate step of the factorial calculation.\n",
    "n = 5\n",
    "factorial = 1\n",
    "i = 1\n",
    "\n",
    "while i <= n:\n",
    "    factorial = factorial * i\n",
    "    print(i, \":\", factorial) \n",
    "    i = i + 1\n",
    "\n",
    "print(\"Final factorial of\", n, \"=\", factorial)"
   ]
  },
  {
   "cell_type": "code",
   "execution_count": 35,
   "id": "c28f1b53-4022-4fe4-a9e7-bc4f17c405b2",
   "metadata": {},
   "outputs": [
    {
     "name": "stdout",
     "output_type": "stream",
     "text": [
      "1 : 1\n",
      "2 : 2\n",
      "3 : 6\n",
      "4 : 24\n",
      "5 : 120\n",
      "Final factorial of 5 = 120\n"
     ]
    }
   ],
   "source": [
    "#Re-question: How would you implement the same factorial calculation using a for loop instead?\n",
    "n = 5\n",
    "factorial = 1\n",
    "\n",
    "for i in range(1, n+1):\n",
    "    factorial = factorial * i\n",
    "    print(i, \":\", factorial) \n",
    "\n",
    "print(\"Final factorial of\", n, \"=\", factorial)"
   ]
  },
  {
   "cell_type": "code",
   "execution_count": null,
   "id": "7b539ec3-ff65-4f44-ba35-a5f5820f3904",
   "metadata": {},
   "outputs": [],
   "source": [
    "#Part 2: Functions Ulises\n",
    "#6. Function with Multiple Returns\n",
    "#Write a function analyze_numbers(lst) that takes a list of numbers and returns:\n",
    "\n",
    "#The maximum value\n",
    "\n",
    "#The minimum value\n",
    "\n",
    "#The average value\n",
    "\n",
    "#Re-question: How would you call this function and unpack the results into three variables?"
   ]
  },
  {
   "cell_type": "code",
   "execution_count": null,
   "id": "75da02bf-c0a6-477b-912c-2c0e6cc3ee10",
   "metadata": {},
   "outputs": [],
   "source": [
    "#7. Function with Default Parameters Bruno\n",
    "#Create a function greet(name, message=\"Hello\") that prints a greeting.\n",
    "\n",
    "#Call the function with and without the message parameter.\n",
    "#Re-question: How does Python decide which value to use for message when it is not provided?"
   ]
  },
  {
   "cell_type": "code",
   "execution_count": null,
   "id": "14181fa1-9493-4c4b-95d6-37cee2a9012c",
   "metadata": {},
   "outputs": [],
   "source": [
    "#8. Function with Type Hints Pedro\n",
    "#Write a function multiply(a: int, b: int) -> int that returns the product of two integers.\n",
    "\n",
    "#Test the function with both integers and strings.\n",
    "#Re-question: What happens if you pass strings, and why?"
   ]
  },
  {
   "cell_type": "code",
   "execution_count": null,
   "id": "b7c178b0-72d8-40cb-99cc-9c59259ef3bd",
   "metadata": {},
   "outputs": [],
   "source": [
    "#Part 3: Classes Ulises\n",
    "#9. Class with Attributes and Methods\n",
    "#Define a class Car with attributes brand, model, and year.\n",
    "\n",
    "#Add a method display_info() that prints the car’s details.\n",
    "#Re-question: Create two car objects and call the method for each one."
   ]
  },
  {
   "cell_type": "code",
   "execution_count": null,
   "id": "3c157536-5a47-4a1e-88ce-1b64da52ba5e",
   "metadata": {},
   "outputs": [],
   "source": [
    "#10. Using __init__ and self Bruno\n",
    "#Create a class Student with attributes name, age, and grade.\n",
    "\n",
    "#Use the __init__ method to initialize these attributes.\n",
    "#Add a method is_passed() that returns \"Passed\" if grade ≥ 11, otherwise \"Failed\".\n",
    "#Re-question: How would you modify the class to add a class attribute school = \"PUCP\" and display it for all students?"
   ]
  }
 ],
 "metadata": {
  "kernelspec": {
   "display_name": "Python 3 (ipykernel)",
   "language": "python",
   "name": "python3"
  },
  "language_info": {
   "codemirror_mode": {
    "name": "ipython",
    "version": 3
   },
   "file_extension": ".py",
   "mimetype": "text/x-python",
   "name": "python",
   "nbconvert_exporter": "python",
   "pygments_lexer": "ipython3",
   "version": "3.12.7"
  }
 },
 "nbformat": 4,
 "nbformat_minor": 5
}
