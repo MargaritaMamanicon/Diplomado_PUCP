{
 "cells": [
  {
   "cell_type": "code",
   "execution_count": null,
   "id": "60c9761b-073a-429e-82e7-4aee1d811d99",
   "metadata": {},
   "outputs": [],
   "source": [
    "# Group 09\n",
    "# Pecho, Rossana\n",
    "# Rodas, Ulises\n",
    "# Villacorta, Bruno\n",
    "# Villena, Pedro"
   ]
  },
  {
   "cell_type": "code",
   "execution_count": 9,
   "id": "9e3038c9-19af-4302-84ae-3bc1718adb4e",
   "metadata": {},
   "outputs": [
    {
     "name": "stdout",
     "output_type": "stream",
     "text": [
      "1\n",
      "3\n",
      "5\n",
      "7\n",
      "9\n"
     ]
    }
   ],
   "source": [
    "#1. Pass Statement Pedro\n",
    "#Write a for loop that iterates through numbers from 1 to 10.\n",
    "#Use the pass statement when the number is even, and print only the odd numbers.\n",
    "\n",
    "for num in range(1, 11):\n",
    "    if num % 2 == 0:\n",
    "        pass      \n",
    "    else:\n",
    "        print(num)"
   ]
  },
  {
   "cell_type": "code",
   "execution_count": 10,
   "id": "5ffc5748-2ccf-4128-adb1-0e89e9510a8c",
   "metadata": {},
   "outputs": [
    {
     "ename": "IndentationError",
     "evalue": "expected an indented block after 'if' statement on line 3 (4063393090.py, line 4)",
     "output_type": "error",
     "traceback": [
      "\u001b[1;36m  Cell \u001b[1;32mIn[10], line 4\u001b[1;36m\u001b[0m\n\u001b[1;33m    else:\u001b[0m\n\u001b[1;37m    ^\u001b[0m\n\u001b[1;31mIndentationError\u001b[0m\u001b[1;31m:\u001b[0m expected an indented block after 'if' statement on line 3\n"
     ]
    }
   ],
   "source": [
    "#Re-question: What would happen if you remove the pass statement?\n",
    "for num in range(1, 11):\n",
    "    if num % 2 == 0:  \n",
    "    else:\n",
    "        print(num)\n",
    "\n",
    "# Si se remueve el pass, al no haber condición en caso no se cumpla la validación, arroja error"
   ]
  },
  {
   "cell_type": "code",
   "execution_count": 17,
   "id": "1e5e57dc-6a42-4a28-b659-34246aa452ab",
   "metadata": {},
   "outputs": [
    {
     "name": "stdout",
     "output_type": "stream",
     "text": [
      "p\n",
      "y\n",
      "t\n",
      "h\n",
      "n\n",
      "l\n",
      "p\n",
      "s\n"
     ]
    }
   ],
   "source": [
    "#2. Continue Statement Rossana\n",
    "#Create a loop that goes through the string \"pythonloops\".\n",
    "#Skip the letters \"o\" using the continue statement and print the remaining letters.\n",
    "string = \"pythonloops\"\n",
    "for letter in string:\n",
    "    if letter == \"o\":\n",
    "        continue\n",
    "    print(letter)"
   ]
  },
  {
   "cell_type": "code",
   "execution_count": 27,
   "id": "07e1ae59-e35a-405b-bdca-06b686f95316",
   "metadata": {},
   "outputs": [
    {
     "ename": "IndentationError",
     "evalue": "expected an indented block after 'if' statement on line 4 (1018899719.py, line 5)",
     "output_type": "error",
     "traceback": [
      "\u001b[1;36m  Cell \u001b[1;32mIn[27], line 5\u001b[1;36m\u001b[0m\n\u001b[1;33m    print(letter)\u001b[0m\n\u001b[1;37m    ^\u001b[0m\n\u001b[1;31mIndentationError\u001b[0m\u001b[1;31m:\u001b[0m expected an indented block after 'if' statement on line 4\n"
     ]
    }
   ],
   "source": [
    "#Re-question: How would you achieve the same result without using continue?\n",
    "string = \"pythonloops\"\n",
    "for letter in string:\n",
    "    if letter == \"o\":\n",
    "    print(letter)\n",
    "#it gives an error. \"Continue\" helps keeping in the loop avoiding (or jumping) the \"o\" til it ends. That's why py give us a message error \n",
    "#thinking that we've made a mistake and we were trying to print just \"o\" instead."
   ]
  },
  {
   "cell_type": "code",
   "execution_count": 10,
   "id": "0953b4a2-fb37-4549-b830-608836ae7559",
   "metadata": {},
   "outputs": [
    {
     "name": "stdin",
     "output_type": "stream",
     "text": [
      "Por favor, introduce un número:  2\n"
     ]
    },
    {
     "name": "stdout",
     "output_type": "stream",
     "text": [
      "Has introducido el número: 2.0\n"
     ]
    },
    {
     "name": "stdin",
     "output_type": "stream",
     "text": [
      "Por favor, introduce un número:  4\n"
     ]
    },
    {
     "name": "stdout",
     "output_type": "stream",
     "text": [
      "Has introducido el número: 4.0\n"
     ]
    },
    {
     "name": "stdin",
     "output_type": "stream",
     "text": [
      "Por favor, introduce un número:  6.4\n"
     ]
    },
    {
     "name": "stdout",
     "output_type": "stream",
     "text": [
      "Has introducido el número: 6.4\n"
     ]
    },
    {
     "name": "stdin",
     "output_type": "stream",
     "text": [
      "Por favor, introduce un número:  -25\n"
     ]
    },
    {
     "name": "stdout",
     "output_type": "stream",
     "text": [
      "Se ha introducido un número negativo. El programa ha terminado.\n"
     ]
    }
   ],
   "source": [
    "#3. Break Statement Ulises\n",
    "#Write a while loop that keeps asking the user to input numbers\n",
    "#Break the loop if the user enters a negative number\n",
    "while True:\n",
    "    numero = float(input(\"Por favor, introduce un número: \")) #Se convierte a formato float porque por defecto siempre el input da str\n",
    "    \n",
    "    if numero < 0:\n",
    "        print(\"Se ha introducido un número negativo. El programa ha terminado.\")\n",
    "        break  # Interrumpe el bucle\n",
    "    \n",
    "    print(f\"Has introducido el número: {numero}\")"
   ]
  },
  {
   "cell_type": "code",
   "execution_count": null,
   "id": "beeb4a24-a6c5-4c66-8bf4-e3bc5ef649ec",
   "metadata": {},
   "outputs": [
    {
     "name": "stdin",
     "output_type": "stream",
     "text": [
      "Por favor, introduce un número:  36\n"
     ]
    },
    {
     "name": "stdout",
     "output_type": "stream",
     "text": [
      "Has introducido el número: 36.0\n"
     ]
    },
    {
     "name": "stdin",
     "output_type": "stream",
     "text": [
      "Por favor, introduce un número:  81\n"
     ]
    },
    {
     "name": "stdout",
     "output_type": "stream",
     "text": [
      "Has introducido el número: 81.0\n"
     ]
    },
    {
     "name": "stdin",
     "output_type": "stream",
     "text": [
      "Por favor, introduce un número:  -49\n"
     ]
    },
    {
     "name": "stdout",
     "output_type": "stream",
     "text": [
      "Número negativo ignorado. Intenta otra vez.\n"
     ]
    },
    {
     "name": "stdin",
     "output_type": "stream",
     "text": [
      "Por favor, introduce un número:  64\n"
     ]
    },
    {
     "name": "stdout",
     "output_type": "stream",
     "text": [
      "Has introducido el número: 64.0\n"
     ]
    }
   ],
   "source": [
    "#Re-question: How can you modify the loop so it ignores negative numbers instead of breaking?\n",
    "#Agrego una línea al código\n",
    "while True:\n",
    "    numero = float(input(\"Por favor, introduce un número: \")) #Se convierte a formato float porque por defecto siempre el input da str\n",
    "\n",
    "    if numero < 0:\n",
    "        print(\"Número negativo ignorado. Intenta otra vez.\")\n",
    "        continue  #Agregado: Salto el resto del bucle y vuelve a pedir un número\n",
    "    \n",
    "    print(f\"Has introducido el número: {numero}\")"
   ]
  },
  {
   "cell_type": "code",
   "execution_count": null,
   "id": "74e6e9ce-bbd3-41e9-894e-ee740fa1b338",
   "metadata": {},
   "outputs": [],
   "source": [
    "#4. Try-Except Block Bruno\n",
    "#Write a loop that asks the user to input a number and divides 100 by that number.\n",
    "\n",
    "while True:\n",
    "    try:\n",
    "        raw = input(\"Enter a number: \")\n",
    "        n = float(raw)\n",
    "        result = 100 / n  # si n == 0, esto lanzará ZeroDivisionError\n",
    "    except ValueError:\n",
    "        print(\"Invalid input: please enter a numeric value.\")\n",
    "        continue\n",
    "    except ZeroDivisionError:\n",
    "        print(\"Math says no: you can't divide by zero. Try again.\")\n",
    "        continue\n",
    "    else:\n",
    "        print(f\"100 / {n} = {result}\")\n",
    "        break\n",
    "\n",
    "\n",
    "#Re-question: How would you improve the code to keep asking until a valid input is provided?\n",
    "\n",
    "\n",
    "def pedir_numero_no_cero(prompt=\"Ingresa un número distinto de 0: \"):\n",
    "    while True:\n",
    "        try:\n",
    "            texto = input(prompt).strip()\n",
    "            n = float(texto)\n",
    "            if n == 0:\n",
    "                print(\"0 no vale. Intenta con otro número.\")\n",
    "                continue\n",
    "            return n\n",
    "        except ValueError:\n",
    "            print(\"Entrada inválida: escribe un número (usa punto decimal si aplica).\")\n",
    "        except KeyboardInterrupt:\n",
    "            print(\"\\nOperación cancelada por el usuario.\")\n",
    "            raise  # Propaga para salir del programa si se desea\n",
    "\n",
    "def main():\n",
    "    try:\n",
    "        n = pedir_numero_no_cero()\n",
    "        resultado = 100 / n\n",
    "        print(f\"100 / {n} = {resultado}\")\n",
    "    except KeyboardInterrupt:\n",
    "        pass  # Salida silenciosa si el usuario presiona Ctrl+C\n"
   ]
  },
  {
   "cell_type": "code",
   "execution_count": 37,
   "id": "0bfc60e3-fc98-453d-bb20-29b9e4654375",
   "metadata": {},
   "outputs": [
    {
     "name": "stdout",
     "output_type": "stream",
     "text": [
      "1 : 1\n",
      "2 : 2\n",
      "3 : 6\n",
      "4 : 24\n",
      "5 : 120\n",
      "Final factorial of 5 = 120\n"
     ]
    }
   ],
   "source": [
    "#5. While Loop Structure Rossana\n",
    "#Write a while loop that calculates the factorial of a given number n.\n",
    "#Print each intermediate step of the factorial calculation.\n",
    "n = 5\n",
    "factorial = 1\n",
    "i = 1\n",
    "\n",
    "while i <= n:\n",
    "    factorial = factorial * i\n",
    "    print(i, \":\", factorial) \n",
    "    i = i + 1\n",
    "\n",
    "print(\"Final factorial of\", n, \"=\", factorial)"
   ]
  },
  {
   "cell_type": "code",
   "execution_count": 35,
   "id": "c28f1b53-4022-4fe4-a9e7-bc4f17c405b2",
   "metadata": {},
   "outputs": [
    {
     "name": "stdout",
     "output_type": "stream",
     "text": [
      "1 : 1\n",
      "2 : 2\n",
      "3 : 6\n",
      "4 : 24\n",
      "5 : 120\n",
      "Final factorial of 5 = 120\n"
     ]
    }
   ],
   "source": [
    "#Re-question: How would you implement the same factorial calculation using a for loop instead?\n",
    "n = 5\n",
    "factorial = 1\n",
    "\n",
    "for i in range(1, n+1):\n",
    "    factorial = factorial * i\n",
    "    print(i, \":\", factorial) \n",
    "\n",
    "print(\"Final factorial of\", n, \"=\", factorial)"
   ]
  },
  {
   "cell_type": "code",
   "execution_count": 2,
   "id": "7b539ec3-ff65-4f44-ba35-a5f5820f3904",
   "metadata": {},
   "outputs": [
    {
     "data": {
      "text/plain": [
       "(15, 3, 8.2)"
      ]
     },
     "execution_count": 2,
     "metadata": {},
     "output_type": "execute_result"
    }
   ],
   "source": [
    "#Part 2: Functions Ulises\n",
    "#6. Function with Multiple Returns\n",
    "#Write a function analyze_numbers(lst) that takes a list of numbers and returns: #the maximum, the minimum and the average value\n",
    "def analyze_numbers(lst):\n",
    "    max_val = max(lst)\n",
    "    min_val = min(lst)\n",
    "    promedio_val = sum(lst) / len(lst)\n",
    "    return max_val, min_val, promedio_val \n",
    "\n",
    "# Ejemplo\n",
    "analyze_numbers([5, 10, 3, 8, 15]) #Solo devuelve los resultados"
   ]
  },
  {
   "cell_type": "code",
   "execution_count": 3,
   "id": "fa7f9c8a-3b9b-4bb7-9356-7e8cb5e5596f",
   "metadata": {},
   "outputs": [
    {
     "name": "stdout",
     "output_type": "stream",
     "text": [
      "La lista analizada es: [15, 20, 35, 42, 58, 65]\n",
      "El valor máximo es: 65\n",
      "El valor mínimo es: 15\n",
      "El valor promedio es: 39.166666666666664\n"
     ]
    }
   ],
   "source": [
    "#Re-question: How would you call this function and unpack the results into three variables?\n",
    "#1. Define la lista de números en formato tupla\n",
    "datos = [15, 20, 35, 42, 58, 65]\n",
    "\n",
    "#2. Llama a la función y asigna los resultados a tres variables\n",
    "max_val, min_val, promedio_val = analyze_numbers(datos) #Ahora son variables con las que podemos trabajar\n",
    "\n",
    "print(f\"La lista analizada es: {datos}\")\n",
    "print(f\"El valor máximo es: {max_val}\")\n",
    "print(f\"El valor mínimo es: {min_val}\")\n",
    "print(f\"El valor promedio es: {promedio_val}\")"
   ]
  },
  {
   "cell_type": "code",
   "execution_count": 4,
   "id": "5cca7917-d100-4b24-b0ae-ab29b931350b",
   "metadata": {},
   "outputs": [
    {
     "data": {
      "text/plain": [
       "(65, 15, 39.166666666666664)"
      ]
     },
     "execution_count": 4,
     "metadata": {},
     "output_type": "execute_result"
    }
   ],
   "source": [
    "#Comprobamos que sean variables\n",
    "max_val, min_val, promedio_val"
   ]
  },
  {
   "cell_type": "code",
   "execution_count": null,
   "id": "75da02bf-c0a6-477b-912c-2c0e6cc3ee10",
   "metadata": {},
   "outputs": [],
   "source": [
    "#7. Function with Default Parameters Bruno\n",
    "#Create a function greet(name, message=\"Hello\") that prints a greeting.\n",
    "\n",
    "#Call the function with and without the message parameter.\n",
    "\n",
    "def greet(name, message=\"Hello\"):\n",
    "    print(f\"{message}, {name}!\")\n",
    "\n",
    "\n",
    "\n",
    "#Re-question: How does Python decide which value to use for message when it is not provided?\n",
    "\n",
    "def greet(name, message=\"Hello\"):\n",
    "    \"\"\"Print a greeting; `message` has a default.\"\"\"\n",
    "    print(f\"{message}, {name}!\")\n",
    "\n",
    "# How does Python decide `message` when it's not provided?\n",
    "# 1) It binds positional args first, then keyword args.\n",
    "# 2) If `message` isn't passed, Python uses the DEFAULT set at definition time\n",
    "#    (stored in greet.__defaults__ and evaluated once).\n",
    "print(\"Saved default:\", greet.__defaults__)  # ('Hello',)\n"
   ]
  },
  {
   "cell_type": "code",
   "execution_count": 12,
   "id": "14181fa1-9493-4c4b-95d6-37cee2a9012c",
   "metadata": {},
   "outputs": [
    {
     "name": "stdout",
     "output_type": "stream",
     "text": [
      "260\n",
      "-450\n"
     ]
    },
    {
     "ename": "TypeError",
     "evalue": "can't multiply sequence by non-int of type 'str'",
     "output_type": "error",
     "traceback": [
      "\u001b[1;31m---------------------------------------------------------------------------\u001b[0m",
      "\u001b[1;31mTypeError\u001b[0m                                 Traceback (most recent call last)",
      "Cell \u001b[1;32mIn[12], line 14\u001b[0m\n\u001b[0;32m     11\u001b[0m \u001b[38;5;28mprint\u001b[39m(multiply(\u001b[38;5;241m90\u001b[39m, \u001b[38;5;241m-\u001b[39m\u001b[38;5;241m5\u001b[39m))\n\u001b[0;32m     13\u001b[0m \u001b[38;5;66;03m# Test with string\u001b[39;00m\n\u001b[1;32m---> 14\u001b[0m \u001b[38;5;28mprint\u001b[39m(multiply(\u001b[38;5;124m\"\u001b[39m\u001b[38;5;124mPedro\u001b[39m\u001b[38;5;124m\"\u001b[39m, \u001b[38;5;124m\"\u001b[39m\u001b[38;5;124mHola\u001b[39m\u001b[38;5;124m\"\u001b[39m))\n",
      "Cell \u001b[1;32mIn[12], line 5\u001b[0m, in \u001b[0;36mmultiply\u001b[1;34m(a, b)\u001b[0m\n\u001b[0;32m      4\u001b[0m \u001b[38;5;28;01mdef\u001b[39;00m\u001b[38;5;250m \u001b[39m\u001b[38;5;21mmultiply\u001b[39m(a: \u001b[38;5;28mint\u001b[39m, b: \u001b[38;5;28mint\u001b[39m) \u001b[38;5;241m-\u001b[39m\u001b[38;5;241m>\u001b[39m \u001b[38;5;28mint\u001b[39m:\n\u001b[1;32m----> 5\u001b[0m     \u001b[38;5;28;01mreturn\u001b[39;00m a \u001b[38;5;241m*\u001b[39m b\n",
      "\u001b[1;31mTypeError\u001b[0m: can't multiply sequence by non-int of type 'str'"
     ]
    }
   ],
   "source": [
    "#8. Function with Type Hints Pedro\n",
    "#Write a function multiply(a: int, b: int) -> int that returns the product of two integers.\n",
    "\n",
    "def multiply(a: int, b: int) -> int:\n",
    "    return a * b\n",
    "    \n",
    "#Test the function with both integers and strings.\n",
    "\n",
    "# Test with integers\n",
    "print(multiply(10, 26))\n",
    "print(multiply(90, -5))\n",
    "\n",
    "# Test with string\n",
    "print(multiply(\"Pedro\", \"Hola\"))  \n",
    "\n",
    "#Re-question: What happens if you pass strings, and why?\n",
    "# Sale un error de tipo, debido a que los parámetros que se definieron son enteros, y se está indicando una cadena de texto."
   ]
  },
  {
   "cell_type": "code",
   "execution_count": 5,
   "id": "b7c178b0-72d8-40cb-99cc-9c59259ef3bd",
   "metadata": {},
   "outputs": [],
   "source": [
    "#Part 3: Classes Ulises\n",
    "#9. Class with Attributes and Methods\n",
    "#Define a class Car with attributes brand, model, and year.\n",
    "class Car:\n",
    "    def __init__(self, brand, model, year):\n",
    "        self.brand = brand\n",
    "        self.model = model\n",
    "        self.year = year\n",
    "\n",
    "    def display_info(self):\n",
    "        print(f\"Marca: {self.brand}. Modelo: {self.model}. Año: {self.year}\") #No arroja resultado aún"
   ]
  },
  {
   "cell_type": "code",
   "execution_count": 8,
   "id": "b60b605a-6e8f-4203-8154-dc862d43f355",
   "metadata": {},
   "outputs": [
    {
     "name": "stdout",
     "output_type": "stream",
     "text": [
      "Marca: DFSK. Modelo: Glory. Año: 2022\n",
      "Marca: Tesla. Modelo: Model Y. Año: 2025\n"
     ]
    }
   ],
   "source": [
    "#Re-question: Create two car objects and call the method for each one.\n",
    "#Ejemplo:\n",
    "mi_suv1 = Car(\"DFSK\", \"Glory\", 2022)\n",
    "mi_suv2 = Car(\"Tesla\", \"Model Y\", 2025)\n",
    "\n",
    "mi_suv1.display_info() # Salida\n",
    "mi_suv2.display_info() #Salida"
   ]
  },
  {
   "cell_type": "code",
   "execution_count": null,
   "id": "3c157536-5a47-4a1e-88ce-1b64da52ba5e",
   "metadata": {},
   "outputs": [],
   "source": [
    "#10. Using __init__ and self Bruno\n",
    "#Create a class Student with attributes name, age, and grade.\n",
    "\n",
    "#Use the __init__ method to initialize these attributes.\n",
    "#Add a method is_passed() that returns \"Passed\" if grade ≥ 11, otherwise \"Failed\".\n",
    "\n",
    "\n",
    "class Student:\n",
    "    def __init__(self, name: str, age: int, grade: float):\n",
    "        self.name = name\n",
    "        self.age = age\n",
    "        self.grade = grade\n",
    "\n",
    "    def is_passed(self) -> str:\n",
    "        return \"Passed\" if self.grade >= 11 else \"Failed\"\n",
    "\n",
    "\n",
    "\n",
    "#Re-question: How would you modify the class to add a class attribute school = \"PUCP\" and display it for all students?\n",
    "\n",
    "\n",
    "\n",
    "class Student:\n",
    "    school = \"PUCP\"  # class attribute shared by all instances\n",
    "\n",
    "    def __init__(self, name: str, age: int, grade: float):\n",
    "        self.name = name\n",
    "        self.age = age\n",
    "        self.grade = grade\n",
    "\n",
    "    def is_passed(self) -> str:\n",
    "        return \"Passed\" if self.grade >= 11 else \"Failed\"\n",
    "\n",
    "    def summary(self) -> str:\n",
    "        return f\"{self.name} ({self.age}) — {self.is_passed()} — School: {self.school}\"\n"
   ]
  }
 ],
 "metadata": {
  "kernelspec": {
   "display_name": "Python [conda env:base] *",
   "language": "python",
   "name": "conda-base-py"
  },
  "language_info": {
   "codemirror_mode": {
    "name": "ipython",
    "version": 3
   },
   "file_extension": ".py",
   "mimetype": "text/x-python",
   "name": "python",
   "nbconvert_exporter": "python",
   "pygments_lexer": "ipython3",
   "version": "3.12.4"
  }
 },
 "nbformat": 4,
 "nbformat_minor": 5
}
