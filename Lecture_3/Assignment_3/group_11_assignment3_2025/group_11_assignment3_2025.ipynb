{
 "cells": [
  {
   "cell_type": "markdown",
   "id": "bc508e60",
   "metadata": {},
   "source": [
    "# Part 1: Loops"
   ]
  },
  {
   "cell_type": "markdown",
   "id": "204c3211",
   "metadata": {},
   "source": [
    "1. Pass Statement\n",
    "\n",
    "Write a for loop that iterates through numbers from 1 to 10.\n",
    "\n",
    "\n",
    "\n",
    "  Use the pass statement when the number is even, and print only the odd numbers.\n",
    "\n",
    "  Re-question: What would happen if you remove the pass statement?\n"
   ]
  },
  {
   "cell_type": "code",
   "execution_count": 1,
   "id": "fe6b5cdb",
   "metadata": {},
   "outputs": [
    {
     "name": "stdout",
     "output_type": "stream",
     "text": [
      "1\n",
      "3\n",
      "5\n",
      "7\n",
      "9\n",
      "\n",
      "==================================================\n",
      "What happens without the pass statement:\n",
      "1\n",
      "3\n",
      "5\n",
      "7\n",
      "9\n",
      "\n",
      "==============================\n",
      "Without pass (syntactically correct):\n",
      "1\n",
      "3\n",
      "5\n",
      "7\n",
      "9\n",
      "\n",
      "==============================\n",
      "This would cause a SyntaxError:\n",
      "# Commented out to avoid error\n",
      "\n",
      "# for i in range(1, 11):\n",
      "#     if i % 2 == 0:  # This would cause SyntaxError\n",
      "#         # No statement here - empty block not allowed\n",
      "#     else:\n",
      "#         print(i)\n",
      "\n"
     ]
    }
   ],
   "source": [
    "# For loop with pass statement - prints only odd numbers\n",
    "for i in range(1, 11):\n",
    "    if i % 2 == 0:  # Check if number is even\n",
    "        pass  # Do nothing for even numbers\n",
    "    else:\n",
    "        print(i)  # Print odd numbers\n",
    "\n",
    "print(\"\\n\" + \"=\"*50)\n",
    "print(\"What happens without the pass statement:\")\n",
    "\n",
    "# Same loop without pass statement\n",
    "for i in range(1, 11):\n",
    "    if i % 2 == 0:  # Check if number is even\n",
    "        # No pass statement here - but this still works fine\n",
    "        pass  # This line will be removed in the next example\n",
    "    else:\n",
    "        print(i)  # Print odd numbers\n",
    "\n",
    "print(\"\\n\" + \"=\"*30)\n",
    "print(\"Without pass (syntactically correct):\")\n",
    "\n",
    "# Loop without pass - still works because we have other statements\n",
    "for i in range(1, 11):\n",
    "    if i % 2 == 0:  # Check if number is even\n",
    "        continue  # Skip to next iteration (alternative to pass)\n",
    "    print(i)  # Print odd numbers\n",
    "\n",
    "print(\"\\n\" + \"=\"*30)\n",
    "print(\"This would cause a SyntaxError:\")\n",
    "print(\"# Commented out to avoid error\")\n",
    "print(\"\"\"\n",
    "# for i in range(1, 11):\n",
    "#     if i % 2 == 0:  # This would cause SyntaxError\n",
    "#         # No statement here - empty block not allowed\n",
    "#     else:\n",
    "#         print(i)\n",
    "\"\"\")"
   ]
  },
  {
   "cell_type": "markdown",
   "id": "34c0a85d",
   "metadata": {},
   "source": [
    "2. Continue Statement\n",
    "\n",
    "Create a loop that goes through the string \"pythonloops\".\n",
    "\n",
    "\n",
    "Skip the letters \"o\" using the continue statement and print the remaining letters.\n",
    "\n",
    "Re-question: How would you achieve the same result without using continue?"
   ]
  },
  {
   "cell_type": "code",
   "execution_count": 2,
   "id": "25f57a71",
   "metadata": {},
   "outputs": [
    {
     "name": "stdout",
     "output_type": "stream",
     "text": [
      "Original string: pythonloops\n",
      "\n",
      "Using continue statement:\n",
      "pythnlps\n",
      "==================================================\n",
      "Alternative methods without using continue:\n",
      "\n",
      "Method 1 - Using if condition:\n",
      "pythnlps\n",
      "\n",
      "Method 2 - Using list comprehension:\n",
      "pythnlps\n",
      "\n",
      "Method 3 - Using filter:\n",
      "pythnlps\n",
      "\n",
      "Method 4 - Using string replace:\n",
      "pythnlps\n",
      "\n",
      "Method 5 - Manual string building:\n",
      "pythnlps\n",
      "\n",
      "==================================================\n",
      "Comparison of all methods:\n",
      "Method 1: continue + print\n",
      "Method 2: if condition\n",
      "Method 3: list comprehension\n",
      "Method 4: filter function\n",
      "Method 5: string replace\n",
      "Method 6: manual building\n"
     ]
    }
   ],
   "source": [
    "# Loop with continue statement - skip letter \"o\"\n",
    "text = \"pythonloops\"\n",
    "print(\"Original string:\", text)\n",
    "print(\"\\nUsing continue statement:\")\n",
    "\n",
    "for letter in text:\n",
    "    if letter == \"o\":\n",
    "        continue  # Skip the rest of the loop iteration for \"o\"\n",
    "    print(letter, end=\"\")\n",
    "\n",
    "print(\"\\n\" + \"=\"*50)\n",
    "print(\"Alternative methods without using continue:\")\n",
    "\n",
    "# Method 1: Using if-else condition\n",
    "print(\"\\nMethod 1 - Using if condition:\")\n",
    "for letter in text:\n",
    "    if letter != \"o\":  # Only print if NOT \"o\"\n",
    "        print(letter, end=\"\")\n",
    "\n",
    "# Method 2: Using list comprehension and join\n",
    "print(\"\\n\\nMethod 2 - Using list comprehension:\")\n",
    "result = ''.join([letter for letter in text if letter != \"o\"])\n",
    "print(result)\n",
    "\n",
    "# Method 3: Using filter function\n",
    "print(\"\\nMethod 3 - Using filter:\")\n",
    "result = ''.join(filter(lambda x: x != \"o\", text))\n",
    "print(result)\n",
    "\n",
    "# Method 4: Using string replace method\n",
    "print(\"\\nMethod 4 - Using string replace:\")\n",
    "result = text.replace(\"o\", \"\")\n",
    "print(result)\n",
    "\n",
    "# Method 5: Manual string building\n",
    "print(\"\\nMethod 5 - Manual string building:\")\n",
    "result = \"\"\n",
    "for letter in text:\n",
    "    if letter != \"o\":\n",
    "        result += letter\n",
    "print(result)\n",
    "\n",
    "print(\"\\n\" + \"=\"*50)\n",
    "print(\"Comparison of all methods:\")\n",
    "methods = [\n",
    "    \"continue + print\",\n",
    "    \"if condition\",\n",
    "    \"list comprehension\", \n",
    "    \"filter function\",\n",
    "    \"string replace\",\n",
    "    \"manual building\"\n",
    "]\n",
    "\n",
    "for i, method in enumerate(methods, 1):\n",
    "    print(f\"Method {i}: {method}\")"
   ]
  },
  {
   "cell_type": "markdown",
   "id": "2b4960e1-494d-4534-ab2c-59eebe57228d",
   "metadata": {},
   "source": [
    "3. Break Statement\n",
    "\n",
    "Write a while loop that keeps asking the user to input numbers.\n",
    "\n",
    "Break the loop if the user enters a negative number.\n",
    "Re-question: How can you modify the loop so it ignores negative numbers instead of breaking?\n"
   ]
  },
  {
   "cell_type": "code",
   "execution_count": 1,
   "id": "d965630f-b672-4787-9e90-2e98ee9a44d1",
   "metadata": {},
   "outputs": [
    {
     "name": "stdin",
     "output_type": "stream",
     "text": [
      "Ingresa un número:  5\n"
     ]
    },
    {
     "name": "stdout",
     "output_type": "stream",
     "text": [
      "Ingresaste: 5\n"
     ]
    },
    {
     "name": "stdin",
     "output_type": "stream",
     "text": [
      "Ingresa un número:  6\n"
     ]
    },
    {
     "name": "stdout",
     "output_type": "stream",
     "text": [
      "Ingresaste: 6\n"
     ]
    },
    {
     "name": "stdin",
     "output_type": "stream",
     "text": [
      "Ingresa un número:  2\n"
     ]
    },
    {
     "name": "stdout",
     "output_type": "stream",
     "text": [
      "Ingresaste: 2\n"
     ]
    },
    {
     "name": "stdin",
     "output_type": "stream",
     "text": [
      "Ingresa un número:  -3\n"
     ]
    },
    {
     "name": "stdout",
     "output_type": "stream",
     "text": [
      "Número negativo detectado. Fin del programa.\n"
     ]
    }
   ],
   "source": [
    "# en primer lugar, se va a crear el bucle con while. \n",
    "# para esto utilizaremos la función break.\n",
    "while True:\n",
    "    num = int(input(\"Ingresa un número: \"))\n",
    "    if num < 0:\n",
    "        print(\"Número negativo detectado. Fin del programa.\")\n",
    "        break\n",
    "    print(f\"Ingresaste: {num}\")\n"
   ]
  },
  {
   "cell_type": "code",
   "execution_count": 3,
   "id": "9f7e6c08-91fa-4a8e-9379-8ca6c7feca41",
   "metadata": {},
   "outputs": [
    {
     "name": "stdin",
     "output_type": "stream",
     "text": [
      "Ingresa un número:  5\n"
     ]
    },
    {
     "name": "stdout",
     "output_type": "stream",
     "text": [
      "Ingresaste: 5\n"
     ]
    },
    {
     "name": "stdin",
     "output_type": "stream",
     "text": [
      "Ingresa un número:  6\n"
     ]
    },
    {
     "name": "stdout",
     "output_type": "stream",
     "text": [
      "Ingresaste: 6\n"
     ]
    },
    {
     "name": "stdin",
     "output_type": "stream",
     "text": [
      "Ingresa un número:  7\n"
     ]
    },
    {
     "name": "stdout",
     "output_type": "stream",
     "text": [
      "Ingresaste: 7\n"
     ]
    },
    {
     "name": "stdin",
     "output_type": "stream",
     "text": [
      "Ingresa un número:  -1\n"
     ]
    },
    {
     "name": "stdout",
     "output_type": "stream",
     "text": [
      "Número negativo ignorado, intenta de nuevo.\n"
     ]
    },
    {
     "name": "stdin",
     "output_type": "stream",
     "text": [
      "Ingresa un número:  0\n"
     ]
    },
    {
     "name": "stdout",
     "output_type": "stream",
     "text": [
      "Ingresaste: 0\n"
     ]
    },
    {
     "name": "stdin",
     "output_type": "stream",
     "text": [
      "Ingresa un número:  -3\n"
     ]
    },
    {
     "name": "stdout",
     "output_type": "stream",
     "text": [
      "Número negativo ignorado, intenta de nuevo.\n"
     ]
    },
    {
     "name": "stdin",
     "output_type": "stream",
     "text": [
      "Ingresa un número:  \"break\"\n"
     ]
    },
    {
     "ename": "ValueError",
     "evalue": "invalid literal for int() with base 10: '\"break\"'",
     "output_type": "error",
     "traceback": [
      "\u001b[1;31m---------------------------------------------------------------------------\u001b[0m",
      "\u001b[1;31mValueError\u001b[0m                                Traceback (most recent call last)",
      "Cell \u001b[1;32mIn[3], line 3\u001b[0m\n\u001b[0;32m      1\u001b[0m \u001b[38;5;66;03m# ahora se atiende la segunda pregunta. Que el bucle while ignore el número negativo y continue. \u001b[39;00m\n\u001b[0;32m      2\u001b[0m \u001b[38;5;28;01mwhile\u001b[39;00m \u001b[38;5;28;01mTrue\u001b[39;00m:\n\u001b[1;32m----> 3\u001b[0m     num \u001b[38;5;241m=\u001b[39m \u001b[38;5;28mint\u001b[39m(\u001b[38;5;28minput\u001b[39m(\u001b[38;5;124m\"\u001b[39m\u001b[38;5;124mIngresa un número: \u001b[39m\u001b[38;5;124m\"\u001b[39m))\n\u001b[0;32m      4\u001b[0m     \u001b[38;5;28;01mif\u001b[39;00m num \u001b[38;5;241m<\u001b[39m \u001b[38;5;241m0\u001b[39m:\n\u001b[0;32m      5\u001b[0m         \u001b[38;5;28mprint\u001b[39m(\u001b[38;5;124m\"\u001b[39m\u001b[38;5;124mNúmero negativo ignorado, intenta de nuevo.\u001b[39m\u001b[38;5;124m\"\u001b[39m)\n",
      "\u001b[1;31mValueError\u001b[0m: invalid literal for int() with base 10: '\"break\"'"
     ]
    }
   ],
   "source": [
    "# ahora se atiende la segunda pregunta. Que el bucle while ignore el número negativo y continue. \n",
    "# para esto utilizaremos la función continue\n",
    "while True:\n",
    "    num = int(input(\"Ingresa un número: \"))\n",
    "    if num < 0:\n",
    "        print(\"Número negativo ignorado, intenta de nuevo.\")\n",
    "        continue\n",
    "    print(f\"Ingresaste: {num}\")"
   ]
  },
  {
   "cell_type": "markdown",
   "id": "3947138d-79be-4910-9a40-ff8a4ca25972",
   "metadata": {},
   "source": [
    "4. Try-Except Block\n",
    "\n",
    "Write a loop that asks the user to input a number and divides 100 by that number.\n",
    "\n",
    "- Use a try-except block to handle the case when the user inputs 0 or a non-numeric value.\n",
    "- Re-question: How would you improve the code to keep asking until a valid input is provided?"
   ]
  },
  {
   "cell_type": "code",
   "execution_count": 6,
   "id": "8f78b083-3eb2-4536-9ac0-9f3738121fc8",
   "metadata": {},
   "outputs": [
    {
     "name": "stdin",
     "output_type": "stream",
     "text": [
      "Ingresa un número:  break\n"
     ]
    },
    {
     "name": "stdout",
     "output_type": "stream",
     "text": [
      "❌ Entrada inválida. Por favor ingresa un número.\n"
     ]
    },
    {
     "name": "stdin",
     "output_type": "stream",
     "text": [
      "Ingresa un número:  4\n"
     ]
    },
    {
     "name": "stdout",
     "output_type": "stream",
     "text": [
      "100 dividido entre 4 es 25.0\n"
     ]
    }
   ],
   "source": [
    "# vamos a utilizar un bucle con while y la función try\n",
    "while True:\n",
    "    try:\n",
    "        num = int(input(\"Ingresa un número: \"))\n",
    "        resultado = 100 / num\n",
    "        print(f\"100 dividido entre {num} es {resultado}\")\n",
    "        break  # termina el bucle si no hay error\n",
    "    except ZeroDivisionError:\n",
    "        print(\"❌ No puedes dividir entre 0. Intenta de nuevo.\")\n",
    "    except ValueError:\n",
    "        print(\"❌ Entrada inválida. Por favor ingresa un número.\")\n"
   ]
  },
  {
   "cell_type": "code",
   "execution_count": 8,
   "id": "d0f9f624-adb1-4d92-a4c5-2266b62f0a68",
   "metadata": {},
   "outputs": [
    {
     "name": "stdin",
     "output_type": "stream",
     "text": [
      "Ingresa un número distinto de 0:  0\n"
     ]
    },
    {
     "name": "stdout",
     "output_type": "stream",
     "text": [
      "❌ No se puede dividir entre 0. Intenta otra vez.\n"
     ]
    },
    {
     "name": "stdin",
     "output_type": "stream",
     "text": [
      "Ingresa un número distinto de 0:  2\n"
     ]
    },
    {
     "name": "stdout",
     "output_type": "stream",
     "text": [
      "✅ 100 dividido entre 2 es 50.0\n"
     ]
    }
   ],
   "source": [
    "# respecto a la re-pregunta sobre como mejorar para que siga preguntando hasta que tener un input valido\n",
    "while True:\n",
    "    try:\n",
    "        num = int(input(\"Ingresa un número distinto de 0: \"))\n",
    "        resultado = 100 / num\n",
    "    except ValueError:\n",
    "        print(\"❌ Eso no es un número. Intenta otra vez.\")\n",
    "        continue\n",
    "    except ZeroDivisionError:\n",
    "        print(\"❌ No se puede dividir entre 0. Intenta otra vez.\")\n",
    "        continue\n",
    "    else:\n",
    "        print(f\"✅ 100 dividido entre {num} es {resultado}\")\n",
    "        break\n"
   ]
  },
  {
   "cell_type": "markdown",
   "id": "b9abc87b-0e72-41ac-b461-4c4fb4216e84",
   "metadata": {},
   "source": [
    "5. While Loop Structure\n",
    "\n",
    "Write a while loop that calculates the factorial of a given number n.\n",
    "\n",
    "Print each intermediate step of the factorial calculation.\n",
    "Re-question: How would you implement the same factorial calculation using a for loop instead?"
   ]
  },
  {
   "cell_type": "code",
   "execution_count": 10,
   "id": "cde60162-627b-4e21-ba95-d4f1711e1f2e",
   "metadata": {},
   "outputs": [
    {
     "name": "stdin",
     "output_type": "stream",
     "text": [
      "Ingresa un número para calcular su factorial:  4\n"
     ]
    },
    {
     "name": "stdout",
     "output_type": "stream",
     "text": [
      "Paso 1: factorial = 1\n",
      "Paso 2: factorial = 2\n",
      "Paso 3: factorial = 6\n",
      "Paso 4: factorial = 24\n",
      "\n",
      "El factorial de 4 es 24\n"
     ]
    }
   ],
   "source": [
    "# vamos a usar la función while\n",
    "n = int(input(\"Ingresa un número para calcular su factorial: \"))\n",
    "\n",
    "factorial = 1\n",
    "i = 1\n",
    "\n",
    "while i <= n:\n",
    "    factorial *= i\n",
    "    print(f\"Paso {i}: factorial = {factorial}\")\n",
    "    i += 1\n",
    "\n",
    "print(f\"\\nEl factorial de {n} es {factorial}\")\n"
   ]
  },
  {
   "cell_type": "code",
   "execution_count": 11,
   "id": "90ead8f7-c5f1-42f7-a1e1-aec421021b60",
   "metadata": {},
   "outputs": [
    {
     "name": "stdin",
     "output_type": "stream",
     "text": [
      "Ingresa un número para calcular su factorial:  5\n"
     ]
    },
    {
     "name": "stdout",
     "output_type": "stream",
     "text": [
      "Paso 1: factorial = 1\n",
      "Paso 2: factorial = 2\n",
      "Paso 3: factorial = 6\n",
      "Paso 4: factorial = 24\n",
      "Paso 5: factorial = 120\n",
      "\n",
      "El factorial de 5 es 120\n"
     ]
    }
   ],
   "source": [
    "# ahora se realiza lo mismo con el bucle for\n",
    "n = int(input(\"Ingresa un número para calcular su factorial: \"))\n",
    "\n",
    "factorial = 1\n",
    "\n",
    "for i in range(1, n + 1):\n",
    "    factorial *= i\n",
    "    print(f\"Paso {i}: factorial = {factorial}\")\n",
    "\n",
    "print(f\"\\nEl factorial de {n} es {factorial}\")\n"
   ]
  },
  {
   "cell_type": "markdown",
   "id": "74c46ec8-7f2c-4648-8b02-2143df91cb34",
   "metadata": {},
   "source": [
    "## Part 2: Functions"
   ]
  },
  {
   "cell_type": "markdown",
   "id": "47db1578",
   "metadata": {},
   "source": [
    "6. Function with Multiple Returns\n",
    "Write a function analyze_numbers(lst) that takes a list of numbers and returns:\n",
    "\n",
    "The maximum value\n",
    "\n",
    "The minimum value\n",
    "\n",
    "The average value\n",
    "\n",
    "Re-question: How would you call this function and unpack the results into three variables?\n",
    "\n"
   ]
  },
  {
   "cell_type": "code",
   "execution_count": 1,
   "id": "fc8b7eaf",
   "metadata": {},
   "outputs": [
    {
     "name": "stdout",
     "output_type": "stream",
     "text": [
      "Máximo: 9, Mínimo: 1, Promedio: 4.67\n"
     ]
    }
   ],
   "source": [
    "def analyze_numbers(lst):\n",
    "    \"\"\"Toma una lista de números y devuelve máximo, mínimo y promedio\"\"\"\n",
    "    if not lst:\n",
    "        return None, None, None\n",
    "    \n",
    "    max_val = max(lst)\n",
    "    min_val = min(lst)\n",
    "    avg_val = sum(lst) / len(lst)\n",
    "    \n",
    "    return max_val, min_val, avg_val\n",
    "\n",
    "# Cómo llamar y desempaquetar:\n",
    "numeros = [5, 2, 8, 1, 9, 3]\n",
    "maximo, minimo, promedio = analyze_numbers(numeros)\n",
    "print(f\"Máximo: {maximo}, Mínimo: {minimo}, Promedio: {promedio:.2f}\")"
   ]
  },
  {
   "cell_type": "markdown",
   "id": "a845ae4a",
   "metadata": {},
   "source": [
    "The function returns a tuple containing three values: (max_value, min_value, average_value)\n",
    "When we write maximum, minimum, average = analyze_numbers(numbers), Python automatically:\n",
    "    Calls the function with the numbers list\n",
    "    Receives the returned tuple of three values\n",
    "    Unpacks the tuple and assigns each value to the corresponding variable in order\n",
    "    The first value goes to maximum, second to minimum, and third to average\n",
    "This is called \"tuple unpacking\" or \"multiple assignment\" in Python, and it works because the number of variables on the left matches the number of values in the returned tuple.\n",
    "\n"
   ]
  },
  {
   "cell_type": "markdown",
   "id": "cf947a60",
   "metadata": {},
   "source": [
    "7. Function with Default Parameters\n",
    "Create a function greet(name, message=\"Hello\") that prints a greeting.\n",
    "\n",
    "Call the function with and without the message parameter.\n",
    "Re-question: How does Python decide which value to use for message when it is not provided?"
   ]
  },
  {
   "cell_type": "code",
   "execution_count": 11,
   "id": "00f86a8c",
   "metadata": {},
   "outputs": [
    {
     "name": "stdout",
     "output_type": "stream",
     "text": [
      "Hello, Karlo!\n",
      "Good morning, Karlo!\n"
     ]
    }
   ],
   "source": [
    "def greet(name, message=\"Hello\"):\n",
    "    \"\"\"Prints a greeting with the given name and message\"\"\"\n",
    "    print(f\"{message}, {name}!\")\n",
    "\n",
    "# Calling the function without the message parameter\n",
    "greet(\"Karlo\")  # Uses default message: \"Hello, Karlo!\"\n",
    "\n",
    "# Calling the function with the message parameter\n",
    "greet(\"Karlo\",\"Good morning\")  # Uses provided message: \"Good morning, Bob!\""
   ]
  },
  {
   "cell_type": "markdown",
   "id": "357b6050",
   "metadata": {},
   "source": [
    "Python uses the default value for the message parameter when no argument is provided for that parameter during the function call. The function definition specifies the default value (\"Hello\" in this case), and Python automatically uses this default when the parameter is omitted in the function call."
   ]
  },
  {
   "cell_type": "markdown",
   "id": "53bd93c7",
   "metadata": {},
   "source": [
    "8. Function with Type Hints\n",
    "Write a function multiply(a: int, b: int) -> int that returns the product of two integers.\n",
    "\n",
    "Test the function with both integers and strings.\n",
    "Re-question: What happens if you pass strings, and why?\n"
   ]
  },
  {
   "cell_type": "code",
   "execution_count": 12,
   "id": "6b559f79",
   "metadata": {},
   "outputs": [
    {
     "name": "stdout",
     "output_type": "stream",
     "text": [
      "5 * 3 = 15\n",
      "Error with strings: can't multiply sequence by non-int of type 'str'\n"
     ]
    }
   ],
   "source": [
    "def multiply(a: int, b: int) -> int:\n",
    "    \"\"\"Returns the product of two integers\"\"\"\n",
    "    return a * b\n",
    "\n",
    "# Testing with integers (works as expected)\n",
    "result1 = multiply(5, 3)\n",
    "print(f\"5 * 3 = {result1}\")  # Output: 5 * 3 = 15\n",
    "\n",
    "# Testing with strings (will cause an error)\n",
    "try:\n",
    "    result2 = multiply(\"hello\", \"world\")\n",
    "    print(f\"String multiplication: {result2}\")\n",
    "except TypeError as e:\n",
    "    print(f\"Error with strings: {e}\")  # Output: Error with strings: can't multiply sequence by non-int of type 'str'"
   ]
  },
  {
   "cell_type": "markdown",
   "id": "90abd62b",
   "metadata": {},
   "source": [
    "If you pass strings to this function, Python will raise a TypeError because the multiplication operator (*) behaves differently for strings and integers. For strings, multiplication is only defined between a string and an integer (e.g., \"hello\" * 3 = \"hellohellohello\"), but not between two strings. Since both parameters are strings in this case, Python doesn't know how to multiply two strings together, resulting in a TypeError.\n"
   ]
  },
  {
   "cell_type": "markdown",
   "id": "589a0fb0-6479-4d59-9fe6-5e287ddc6a33",
   "metadata": {},
   "source": [
    "## Part 3: Classes"
   ]
  },
  {
   "cell_type": "markdown",
   "id": "c310f77e-b95b-4276-b1c9-2d4d890b4e87",
   "metadata": {},
   "source": [
    "9. Class with Attributes and Methods\n",
    "Define a class Car with attributes brand, model, and year.\n",
    "\n",
    "Add a method display_info() that prints the car’s details.\n",
    "Re-question: Create two car objects and call the method for each one."
   ]
  },
  {
   "cell_type": "code",
   "execution_count": 2,
   "id": "f7352958-aec5-45de-af01-510a11ef9134",
   "metadata": {},
   "outputs": [
    {
     "name": "stdout",
     "output_type": "stream",
     "text": [
      "Creando car objects...\n",
      "\\Mostrar información de cada auto:\n",
      "Deralles del auto: Brand: Toyota, Model: Corolla, Year: 2022\n",
      "Deralles del auto: Brand: Honda, Model: Civic, Year: 2023\n"
     ]
    }
   ],
   "source": [
    "# 1. Define the Car class\n",
    "class Car:\n",
    "    \"\"\"\n",
    "    A class to represent a car with brand, model, and year attributes.\n",
    "    \"\"\"\n",
    "    \n",
    "    # The __init__ method is the constructor for the class.\n",
    "    # It is called whenever a new object of this class is created.\n",
    "    def __init__(self, brand, model, year):\n",
    "        \"\"\"\n",
    "        Initializes the Car object with brand, model, and year.\n",
    "        \n",
    "        Args:\n",
    "            brand (str): The brand of the car (e.g., \"Toyota\").\n",
    "            model (str): The model of the car (e.g., \"Corolla\").\n",
    "            year (int): The manufacturing year of the car (e.g., 2022).\n",
    "        \"\"\"\n",
    "        self.brand = brand\n",
    "        self.model = model\n",
    "        self.year = year\n",
    "\n",
    "    # A method to display the car's information.\n",
    "    def display_info(self):\n",
    "        \"\"\"\n",
    "        Prints the details of the car in a formatted string.\n",
    "        \"\"\"\n",
    "        print(f\"Deralles del auto: Brand: {self.brand}, Model: {self.model}, Year: {self.year}\")\n",
    "\n",
    "\n",
    "# 2. Create two car objects (instances of the Car class)\n",
    "print(\"Creando car objects...\")\n",
    "car1 = Car(\"Toyota\", \"Corolla\", 2022)\n",
    "car2 = Car(\"Honda\", \"Civic\", 2023)\n",
    "\n",
    "# 3. Call the display_info() method for each car object\n",
    "print(\"\\Mostrar información de cada auto:\")\n",
    "car1.display_info()\n",
    "car2.display_info()"
   ]
  },
  {
   "cell_type": "markdown",
   "id": "a007bf81-61a5-444b-9de9-52889dac1ac8",
   "metadata": {},
   "source": [
    "10. Using __init__ and self\n",
    "\n",
    "Create a class Student with attributes name, age, and grade.\n",
    "\n",
    "Use the __init__ method to initialize these attributes.\n",
    "Add a method is_passed() that returns \"Passed\" if grade ≥ 11, otherwise \"Failed\".\n",
    "Re-question: How would you modify the class to add a class attribute school = \"PUCP\" and display it for all students?"
   ]
  },
  {
   "cell_type": "code",
   "execution_count": 3,
   "id": "43690f42-66f3-4d81-8f18-cbb6b7fbf560",
   "metadata": {},
   "outputs": [
    {
     "name": "stdout",
     "output_type": "stream",
     "text": [
      "Displaying student details:\n",
      "Student: Ana Torres, Age: 19, Grade: 15, School: PUCP\n",
      "Student: Luis Gomez, Age: 20, Grade: 10, School: PUCP\n",
      "\n",
      "Checking passing status:\n",
      "- Ana Torres: Passed\n",
      "- Luis Gomez: Failed\n",
      "\n",
      "All students are from: PUCP\n"
     ]
    }
   ],
   "source": [
    "# 1. Define the Student class\n",
    "class Student:\n",
    "    \"\"\"\n",
    "    A class to represent a student with name, age, and grade attributes.\n",
    "    Includes a class attribute for the school name.\n",
    "    \"\"\"\n",
    "    \n",
    "    # Class attribute: This is shared by all instances (objects) of the class.\n",
    "    school = \"PUCP\"\n",
    "\n",
    "    # The __init__ method is the constructor.\n",
    "    def __init__(self, name, age, grade):\n",
    "        \"\"\"\n",
    "        Initializes the Student object with instance-specific attributes.\n",
    "        \n",
    "        Args:\n",
    "            name (str): The student's name.\n",
    "            age (int): The student's age.\n",
    "            grade (int): The student's grade.\n",
    "        \"\"\"\n",
    "        # Instance attributes: These are unique to each instance.\n",
    "        self.name = name\n",
    "        self.age = age\n",
    "        self.grade = grade\n",
    "\n",
    "    def is_passed(self):\n",
    "        \"\"\"\n",
    "        Checks if the student's grade is sufficient to pass.\n",
    "        \n",
    "        Returns:\n",
    "            str: \"Passed\" if grade is 11 or higher, otherwise \"Failed\".\n",
    "        \"\"\"\n",
    "        if self.grade >= 11:\n",
    "            return \"Passed\"\n",
    "        else:\n",
    "            return \"Failed\"\n",
    "            \n",
    "    def display_student_info(self):\n",
    "        \"\"\"\n",
    "        Displays the student's full details, including the school name.\n",
    "        \"\"\"\n",
    "        # We access the class attribute using self.school or Student.school\n",
    "        print(f\"Student: {self.name}, Age: {self.age}, Grade: {self.grade}, School: {self.school}\")\n",
    "\n",
    "\n",
    "# Create two student objects\n",
    "student1 = Student(\"Ana Torres\", 19, 15)\n",
    "student2 = Student(\"Luis Gomez\", 20, 10)\n",
    "\n",
    "# Display the information for each student\n",
    "print(\"Displaying student details:\")\n",
    "student1.display_student_info()\n",
    "student2.display_student_info()\n",
    "\n",
    "# Check and print the passing status for each student\n",
    "print(\"\\nChecking passing status:\")\n",
    "print(f\"- {student1.name}: {student1.is_passed()}\")\n",
    "print(f\"- {student2.name}: {student2.is_passed()}\")\n",
    "\n",
    "# You can also access the class attribute directly from the class\n",
    "print(f\"\\nAll students are from: {Student.school}\")"
   ]
  }
 ],
 "metadata": {
  "kernelspec": {
   "display_name": "Python 3 (ipykernel)",
   "language": "python",
   "name": "python3"
  },
  "language_info": {
   "codemirror_mode": {
    "name": "ipython",
    "version": 3
   },
   "file_extension": ".py",
   "mimetype": "text/x-python",
   "name": "python",
   "nbconvert_exporter": "python",
   "pygments_lexer": "ipython3",
   "version": "3.11.5"
  }
 },
 "nbformat": 4,
 "nbformat_minor": 5
}
