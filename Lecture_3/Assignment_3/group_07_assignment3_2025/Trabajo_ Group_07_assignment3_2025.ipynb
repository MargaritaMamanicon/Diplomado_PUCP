{
 "cells": [
  {
   "cell_type": "markdown",
   "id": "77e07e51",
   "metadata": {},
   "source": [
    "# Trabajo3"
   ]
  },
  {
   "cell_type": "code",
   "execution_count": null,
   "id": "68f54045-b560-43b0-ac08-f6b9a1d592f4",
   "metadata": {},
   "outputs": [],
   "source": []
  },
  {
   "cell_type": "code",
   "execution_count": null,
   "id": "4cae2c90-82a7-4a3e-8f54-7fe63eabc63c",
   "metadata": {},
   "outputs": [],
   "source": []
  },
  {
   "cell_type": "code",
   "execution_count": null,
   "id": "d1875188-0c73-422e-8478-2496c7592df8",
   "metadata": {},
   "outputs": [],
   "source": []
  },
  {
   "cell_type": "code",
   "execution_count": null,
   "id": "d60e0eec-cc2b-4259-8905-fcd570710912",
   "metadata": {},
   "outputs": [],
   "source": []
  },
  {
   "cell_type": "code",
   "execution_count": null,
   "id": "6c3392fd-cb1f-4682-8b83-30407d8abbd6",
   "metadata": {},
   "outputs": [],
   "source": []
  },
  {
   "cell_type": "code",
   "execution_count": null,
   "id": "0d4551e4-c478-4e5b-97d6-39f37488938b",
   "metadata": {},
   "outputs": [],
   "source": []
  },
  {
   "cell_type": "markdown",
   "id": "2939c4e5-b22b-4afc-a45a-887703e102cf",
   "metadata": {},
   "source": [
    "### Pregunta 4\n",
    "Write a loop that asks the user to input a number and divides 100 by that number.\n",
    "Use a try-except block to handle the case when the user inputs 0 or a non-numeric value.\n",
    "Re-question: How would you improve the code to keep asking until a valid input is provided?"
   ]
  },
  {
   "cell_type": "code",
   "execution_count": 1,
   "id": "08536026-b789-452e-a65f-f1501b2add30",
   "metadata": {},
   "outputs": [
    {
     "name": "stdin",
     "output_type": "stream",
     "text": [
      "Dime un número: 11\n"
     ]
    },
    {
     "name": "stdout",
     "output_type": "stream",
     "text": [
      "El resultado es =  9.090909090909092\n"
     ]
    }
   ],
   "source": [
    "#Se intenta con un número\n",
    "for i in range(1):\n",
    "    try:\n",
    "        numero = float(input(\"Dime un número:\"))\n",
    "        print( \"El resultado es = \", 100/numero)\n",
    "    except ZeroDivisionError:\n",
    "        print (\"No se puede dividir entre 0 :(\")\n",
    "    except ValueError:\n",
    "        print (\"Has ingresado un valor no válido\")"
   ]
  },
  {
   "cell_type": "code",
   "execution_count": 2,
   "id": "b08ba394-f488-48c1-bcb7-8268f54411f2",
   "metadata": {},
   "outputs": [
    {
     "name": "stdin",
     "output_type": "stream",
     "text": [
      "Dime un número: hola!\n"
     ]
    },
    {
     "name": "stdout",
     "output_type": "stream",
     "text": [
      "Has ingresado un valor no válido\n"
     ]
    }
   ],
   "source": [
    "#Se intenta con texto/string\n",
    "for i in range(1):\n",
    "    try:\n",
    "        numero = float(input(\"Dime un número:\"))\n",
    "        print( \"El resultado es = \", 100/numero)\n",
    "    except ZeroDivisionError:\n",
    "        print (\"No se puede dividir entre 0 :(\")\n",
    "    except ValueError:\n",
    "        print (\"Has ingresado un valor no válido\")"
   ]
  },
  {
   "cell_type": "code",
   "execution_count": 3,
   "id": "dcfb163d-f993-4542-b518-b7c3a56968f1",
   "metadata": {},
   "outputs": [
    {
     "name": "stdin",
     "output_type": "stream",
     "text": [
      "Dime un número: 0\n"
     ]
    },
    {
     "name": "stdout",
     "output_type": "stream",
     "text": [
      "No se puede dividir entre 0 :(\n"
     ]
    }
   ],
   "source": [
    "#Se intenta con el 0 \n",
    "for i in range(1):\n",
    "    try:\n",
    "        numero = float(input(\"Dime un número:\"))\n",
    "        print( \"El resultado es = \", 100/numero)\n",
    "    except ZeroDivisionError:\n",
    "        print (\"No se puede dividir entre 0 :(\")\n",
    "    except ValueError:\n",
    "        print (\"Has ingresado un valor no válido\")"
   ]
  },
  {
   "cell_type": "markdown",
   "id": "a4b7a106-095d-42e5-9d7a-fdb6621856d3",
   "metadata": {},
   "source": [
    "#### *Repregunta*: Para que se mantenga preguntando por el número hasta que un dato válido ha sido introducido, debemos usar la función de while que es un loop en bucle."
   ]
  },
  {
   "cell_type": "code",
   "execution_count": 5,
   "id": "942b1dbe-37d8-40fa-9410-7414517b56e4",
   "metadata": {},
   "outputs": [
    {
     "name": "stdin",
     "output_type": "stream",
     "text": [
      "Dime un número:  hola grupo 7\n"
     ]
    },
    {
     "name": "stdout",
     "output_type": "stream",
     "text": [
      "Debes ingresar un número válido, intenta de nuevo.\n"
     ]
    },
    {
     "name": "stdin",
     "output_type": "stream",
     "text": [
      "Dime un número:  7\n"
     ]
    },
    {
     "name": "stdout",
     "output_type": "stream",
     "text": [
      "El resultado es = 14.285714285714286\n"
     ]
    }
   ],
   "source": [
    "while True:             \n",
    "    try:\n",
    "        numero = float(input(\"Dime un número: \"))\n",
    "        print(\"El resultado es =\", 100/numero)\n",
    "        break         \n",
    "    except ZeroDivisionError:\n",
    "        print(\"No se puede dividir entre 0, intenta de nuevo.\")\n",
    "    except ValueError:\n",
    "        print(\"Debes ingresar un número válido, intenta de nuevo.\")"
   ]
  },
  {
   "cell_type": "markdown",
   "id": "ffcc3157-ff96-488a-bcd6-d686bd5d7f4a",
   "metadata": {},
   "source": [
    "### Pregunta 5\n",
    "Write a while loop that calculates the factorial of a given number n.\n",
    "Print each intermediate step of the factorial calculation.\n",
    "Re-question: How would you implement the same factorial calculation using a for loop instead?"
   ]
  },
  {
   "cell_type": "code",
   "execution_count": 6,
   "id": "0dfae744-85ce-431b-afae-87c0a82d2ef7",
   "metadata": {},
   "outputs": [
    {
     "name": "stdout",
     "output_type": "stream",
     "text": [
      "El resultado en 1 vuelta de 3 es =  1\n",
      "El resultado en 2 vuelta de 3 es =  2\n",
      "El resultado en 3 vuelta de 3 es =  6\n"
     ]
    }
   ],
   "source": [
    "#se elige un número al azar\n",
    "number = 3\n",
    "#como el factorial es una multiplicación de los números previos al elegido, se tiene que hacer un loop que guarde el resultado anterior de multplicación\n",
    "i = 1 \n",
    "resultado = 1\n",
    "\n",
    "while i <= number:\n",
    "    resultado = resultado * i\n",
    "    print (\"El resultado en\", i, \"vuelta de\", number,  \"es = \", resultado)\n",
    "    i = i+1\n",
    "    \n"
   ]
  },
  {
   "cell_type": "markdown",
   "id": "c2f537c5-dee8-43f8-98e7-5856b24250a4",
   "metadata": {},
   "source": [
    "#### *Repregunta:* Para implementar el mismo cálculo con resultados intermedios en loop usaríamos un rango de datos. "
   ]
  },
  {
   "cell_type": "code",
   "execution_count": 7,
   "id": "ca60a945-8619-4de9-bb25-400d56fdbae8",
   "metadata": {},
   "outputs": [
    {
     "name": "stdout",
     "output_type": "stream",
     "text": [
      "El resultado en 1 es de 1\n",
      "El resultado en 2 es de 2\n",
      "El resultado en 3 es de 6\n"
     ]
    }
   ],
   "source": [
    "#al escoger el mismo número\n",
    "number = 3\n",
    "\n",
    "resultado = 1\n",
    "for i in range(1, 4): \n",
    "    resultado = resultado * i\n",
    "    print(\"El resultado en\", i, \"es de\", resultado)"
   ]
  },
  {
   "cell_type": "markdown",
   "id": "e2f78501-2377-4dda-94e0-4445a064858c",
   "metadata": {},
   "source": [
    "### Pregunta 6\n",
    "Write a function analyze_numbers(lst) that takes a list of numbers and returns:\n",
    "\n",
    "* The maximum value\n",
    "\n",
    "* The minimum value\n",
    "\n",
    "* The average value\n",
    "\n",
    "Re-question: How would you call this function and unpack the results into three variables?"
   ]
  },
  {
   "cell_type": "code",
   "execution_count": 8,
   "id": "0097b43a-a3a6-4245-ac6c-5c1d57b2ea24",
   "metadata": {},
   "outputs": [],
   "source": [
    "def analyze_numbers (lst):\n",
    "    val_min = min(lst)\n",
    "    val_max = max (lst)\n",
    "    mean = sum(lst) / len(lst)    \n",
    "    return val_min, val_max, mean"
   ]
  },
  {
   "cell_type": "code",
   "execution_count": 9,
   "id": "899663dd-23d2-4df7-8401-8a667a329532",
   "metadata": {},
   "outputs": [
    {
     "data": {
      "text/plain": [
       "(8, 40, 20.0)"
      ]
     },
     "execution_count": 9,
     "metadata": {},
     "output_type": "execute_result"
    }
   ],
   "source": [
    "#En un caso de ejemplo:\n",
    "analyze_numbers([10,40,8,22])"
   ]
  },
  {
   "cell_type": "markdown",
   "id": "c5a0e1d4-2937-4972-832b-7d815cfc1f8b",
   "metadata": {},
   "source": [
    "#### *Repregunta*: Si quisiera hacer un unpack de resultados en tres variables, llamo las funciones que creé dentro de analyze numbers. De esta manera lo tengo más ordenado a diferencia del primer intento."
   ]
  },
  {
   "cell_type": "code",
   "execution_count": 10,
   "id": "0c01e74c-63a2-4516-85c4-b84f04764ea6",
   "metadata": {},
   "outputs": [
    {
     "name": "stdout",
     "output_type": "stream",
     "text": [
      "El valor mínimo es 2\n",
      "El valor máximo es 49\n",
      "El Promedio es 22.75\n"
     ]
    }
   ],
   "source": [
    "#Si quisiera unpack de resultados en tres variables\n",
    "val_min, val_max, mean = analyze_numbers([32,49,2, 8])\n",
    "print (\"El valor mínimo es\", val_min)\n",
    "print (\"El valor máximo es\", val_max)\n",
    "print (\"El Promedio es\", mean)"
   ]
  }
 ],
 "metadata": {
  "kernelspec": {
   "display_name": "Python [conda env:base] *",
   "language": "python",
   "name": "conda-base-py"
  },
  "language_info": {
   "codemirror_mode": {
    "name": "ipython",
    "version": 3
   },
   "file_extension": ".py",
   "mimetype": "text/x-python",
   "name": "python",
   "nbconvert_exporter": "python",
   "pygments_lexer": "ipython3",
   "version": "3.11.5"
  }
 },
 "nbformat": 4,
 "nbformat_minor": 5
}
