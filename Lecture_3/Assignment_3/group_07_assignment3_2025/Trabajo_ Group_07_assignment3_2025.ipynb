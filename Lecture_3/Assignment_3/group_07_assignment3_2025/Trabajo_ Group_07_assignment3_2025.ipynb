{
 "cells": [
  {
   "cell_type": "markdown",
   "id": "77e07e51",
   "metadata": {},
   "source": [
    "#Trabajo3"
   ]
  }
 ],
 "metadata": {
  "language_info": {
   "name": "python"
  }
 },
 "nbformat": 4,
 "nbformat_minor": 5
}
