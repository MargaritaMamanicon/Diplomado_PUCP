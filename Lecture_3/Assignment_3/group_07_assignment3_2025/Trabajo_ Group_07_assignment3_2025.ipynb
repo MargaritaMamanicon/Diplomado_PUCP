{
 "cells": [
  {
   "cell_type": "markdown",
   "id": "77e07e51",
   "metadata": {},
   "source": [
    "# Trabajo3"
   ]
  },
  {
   "cell_type": "markdown",
   "id": "03516e3d-70f2-4465-80a7-774767bd7cf7",
   "metadata": {},
   "source": [
    "### 1. Pass Statement"
   ]
  },
  {
   "cell_type": "code",
   "execution_count": 2,
   "id": "4cae2c90-82a7-4a3e-8f54-7fe63eabc63c",
   "metadata": {},
   "outputs": [
    {
     "name": "stdout",
     "output_type": "stream",
     "text": [
      "1\n",
      "3\n",
      "5\n",
      "7\n",
      "9\n"
     ]
    }
   ],
   "source": [
    "for num in range(1, 11):\n",
    "    if num % 2 == 0:\n",
    "        pass  # no hacer nada si es par\n",
    "    else:\n",
    "        print(num)"
   ]
  },
  {
   "cell_type": "markdown",
   "id": "98589377-ab07-4734-a4ec-2879071108d6",
   "metadata": {},
   "source": [
    "#### ¿Qué pasaría si eliminas la sentencia pass?\n",
    "Si eliminas pass, el código aún funcionaría igual si no hay ningún otro código dentro del if.\n",
    "pass es una instrucción vacía que evita errores de sintaxis cuando se necesita un bloque pero no se desea ejecutar nada."
   ]
  },
  {
   "cell_type": "code",
   "execution_count": 3,
   "id": "d60e0eec-cc2b-4259-8905-fcd570710912",
   "metadata": {},
   "outputs": [
    {
     "name": "stdout",
     "output_type": "stream",
     "text": [
      "1\n",
      "3\n",
      "5\n",
      "7\n",
      "9\n"
     ]
    }
   ],
   "source": [
    "for num in range(1, 11):\n",
    "    if num % 2 == 0:\n",
    "        # pass is not required if nothing follows\n",
    "        continue  # or just leave it empty\n",
    "    print(num)"
   ]
  },
  {
   "cell_type": "markdown",
   "id": "1ebf3f9c-c1a7-4dd4-a2f6-5243e4ecbb11",
   "metadata": {},
   "source": [
    "### 2. Continue Statement"
   ]
  },
  {
   "cell_type": "code",
   "execution_count": 4,
   "id": "0d4551e4-c478-4e5b-97d6-39f37488938b",
   "metadata": {},
   "outputs": [
    {
     "name": "stdout",
     "output_type": "stream",
     "text": [
      "p\n",
      "y\n",
      "t\n",
      "h\n",
      "n\n",
      "l\n",
      "p\n",
      "s\n"
     ]
    }
   ],
   "source": [
    "for char in \"pythonloops\":\n",
    "    if char == \"o\":\n",
    "        continue\n",
    "    print(char)"
   ]
  },
  {
   "cell_type": "markdown",
   "id": "fb7371ac-45a5-43f1-94da-5b3213e78c0c",
   "metadata": {},
   "source": [
    "#### ¿Cómo lograrías el mismo resultado sin usar continue?\n",
    "Puedes invertir la lógica del if y usar una condición if directamente:"
   ]
  },
  {
   "cell_type": "code",
   "execution_count": 5,
   "id": "5d754561-f775-440f-8420-a576deb037fb",
   "metadata": {},
   "outputs": [
    {
     "name": "stdout",
     "output_type": "stream",
     "text": [
      "p\n",
      "y\n",
      "t\n",
      "h\n",
      "n\n",
      "l\n",
      "p\n",
      "s\n"
     ]
    }
   ],
   "source": [
    "for char in \"pythonloops\":\n",
    "    if char != \"o\":\n",
    "        print(char)"
   ]
  },
  {
   "cell_type": "markdown",
   "id": "7c889b08-a33b-490c-9db0-5a0c14301a7d",
   "metadata": {},
   "source": [
    "#### Break Statement"
   ]
  },
  {
   "cell_type": "code",
   "execution_count": 7,
   "id": "29dce377-586c-47bb-869d-a2e2b51bae4a",
   "metadata": {},
   "outputs": [
    {
     "name": "stdin",
     "output_type": "stream",
     "text": [
      "Ingresa un número (número negativo para salir):  -8\n"
     ]
    },
    {
     "name": "stdout",
     "output_type": "stream",
     "text": [
      "Número negativo detectado. Saliendo del bucle.\n"
     ]
    }
   ],
   "source": [
    "while True:\n",
    "    num = int(input(\"Ingresa un número (número negativo para salir): \"))\n",
    "    if num < 0:\n",
    "        print(\"Número negativo detectado. Saliendo del bucle.\")\n",
    "        break\n",
    "    print(f\"Ingresaste: {num}\")"
   ]
  },
  {
   "cell_type": "markdown",
   "id": "ba671407-0549-45be-ad71-4eb917969517",
   "metadata": {},
   "source": [
    "#### ¿Cómo puedes modificar el bucle para que ignore los números negativos en lugar de romperse?\n",
    "Puedes usar continue para simplemente ignorar los negativos sin terminar el bucle:"
   ]
  },
  {
   "cell_type": "code",
   "execution_count": 9,
   "id": "5aca33f3-38d6-4afc-a33e-56c1c39686a0",
   "metadata": {},
   "outputs": [
    {
     "name": "stdin",
     "output_type": "stream",
     "text": [
      "Ingresa un número (999 para salir):  999\n"
     ]
    },
    {
     "name": "stdout",
     "output_type": "stream",
     "text": [
      "Salida solicitada con 999.\n",
      "\n",
      "Fuera del bucle.\n"
     ]
    }
   ],
   "source": [
    "while True:\n",
    "    num = int(input(\"Ingresa un número (999 para salir): \"))\n",
    "\n",
    "    if num == 999:\n",
    "        # Salida manual del bucle\n",
    "        print(\"Salida solicitada con 999.\\n\")\n",
    "        break\n",
    "\n",
    "    if num < 0:\n",
    "        # Comentario: número negativo ignorado\n",
    "        print(\"Número negativo ignorado.\\n\")\n",
    "        continue\n",
    "\n",
    "    elif num == 3:\n",
    "        #num = num + 1\n",
    "        print(f\"Este número es {num} (caso especial)\\n\")\n",
    "\n",
    "    else:\n",
    "        #num = num + 2\n",
    "        print(\"Número diferente\\n\")\n",
    "\n",
    "    print(\"Número ingresado: \" + str(num), \"\\n\")\n",
    "\n",
    "print(\"Fuera del bucle.\")"
   ]
  },
  {
   "cell_type": "markdown",
   "id": "2939c4e5-b22b-4afc-a45a-887703e102cf",
   "metadata": {},
   "source": [
    "### Pregunta 4\n",
    "Write a loop that asks the user to input a number and divides 100 by that number.\n",
    "Use a try-except block to handle the case when the user inputs 0 or a non-numeric value.\n",
    "Re-question: How would you improve the code to keep asking until a valid input is provided?"
   ]
  },
  {
   "cell_type": "code",
   "execution_count": 10,
   "id": "08536026-b789-452e-a65f-f1501b2add30",
   "metadata": {},
   "outputs": [
    {
     "name": "stdin",
     "output_type": "stream",
     "text": [
      "Dime un número: 10\n"
     ]
    },
    {
     "name": "stdout",
     "output_type": "stream",
     "text": [
      "El resultado es =  10.0\n"
     ]
    }
   ],
   "source": [
    "#Se intenta con un número\n",
    "for i in range(1):\n",
    "    try:\n",
    "        numero = float(input(\"Dime un número:\"))\n",
    "        print( \"El resultado es = \", 100/numero)\n",
    "    except ZeroDivisionError:\n",
    "        print (\"No se puede dividir entre 0 :(\")\n",
    "    except ValueError:\n",
    "        print (\"Has ingresado un valor no válido\")"
   ]
  },
  {
   "cell_type": "code",
   "execution_count": 11,
   "id": "b08ba394-f488-48c1-bcb7-8268f54411f2",
   "metadata": {},
   "outputs": [
    {
     "name": "stdin",
     "output_type": "stream",
     "text": [
      "Dime un número: hola\n"
     ]
    },
    {
     "name": "stdout",
     "output_type": "stream",
     "text": [
      "Has ingresado un valor no válido\n"
     ]
    }
   ],
   "source": [
    "#Se intenta con texto/string\n",
    "for i in range(1):\n",
    "    try:\n",
    "        numero = float(input(\"Dime un número:\"))\n",
    "        print( \"El resultado es = \", 100/numero)\n",
    "    except ZeroDivisionError:\n",
    "        print (\"No se puede dividir entre 0 :(\")\n",
    "    except ValueError:\n",
    "        print (\"Has ingresado un valor no válido\")"
   ]
  },
  {
   "cell_type": "code",
   "execution_count": 12,
   "id": "dcfb163d-f993-4542-b518-b7c3a56968f1",
   "metadata": {},
   "outputs": [
    {
     "name": "stdin",
     "output_type": "stream",
     "text": [
      "Dime un número: 0\n"
     ]
    },
    {
     "name": "stdout",
     "output_type": "stream",
     "text": [
      "No se puede dividir entre 0 :(\n"
     ]
    }
   ],
   "source": [
    "#Se intenta con el 0 \n",
    "for i in range(1):\n",
    "    try:\n",
    "        numero = float(input(\"Dime un número:\"))\n",
    "        print( \"El resultado es = \", 100/numero)\n",
    "    except ZeroDivisionError:\n",
    "        print (\"No se puede dividir entre 0 :(\")\n",
    "    except ValueError:\n",
    "        print (\"Has ingresado un valor no válido\")"
   ]
  },
  {
   "cell_type": "markdown",
   "id": "a4b7a106-095d-42e5-9d7a-fdb6621856d3",
   "metadata": {},
   "source": [
    "#### *Repregunta*: Para que se mantenga preguntando por el número hasta que un dato válido ha sido introducido, debemos usar la función de while que es un loop en bucle."
   ]
  },
  {
   "cell_type": "code",
   "execution_count": 13,
   "id": "942b1dbe-37d8-40fa-9410-7414517b56e4",
   "metadata": {},
   "outputs": [
    {
     "name": "stdin",
     "output_type": "stream",
     "text": [
      "Dime un número:  hola grupo 7 \n"
     ]
    },
    {
     "name": "stdout",
     "output_type": "stream",
     "text": [
      "Debes ingresar un número válido, intenta de nuevo.\n"
     ]
    },
    {
     "name": "stdin",
     "output_type": "stream",
     "text": [
      "Dime un número:  7\n"
     ]
    },
    {
     "name": "stdout",
     "output_type": "stream",
     "text": [
      "El resultado es = 14.285714285714286\n"
     ]
    }
   ],
   "source": [
    "while True:             \n",
    "    try:\n",
    "        numero = float(input(\"Dime un número: \"))\n",
    "        print(\"El resultado es =\", 100/numero)\n",
    "        break         \n",
    "    except ZeroDivisionError:\n",
    "        print(\"No se puede dividir entre 0, intenta de nuevo.\")\n",
    "    except ValueError:\n",
    "        print(\"Debes ingresar un número válido, intenta de nuevo.\")"
   ]
  },
  {
   "cell_type": "markdown",
   "id": "ffcc3157-ff96-488a-bcd6-d686bd5d7f4a",
   "metadata": {},
   "source": [
    "### Pregunta 5\n",
    "Write a while loop that calculates the factorial of a given number n.\n",
    "Print each intermediate step of the factorial calculation.\n",
    "Re-question: How would you implement the same factorial calculation using a for loop instead?"
   ]
  },
  {
   "cell_type": "code",
   "execution_count": 5,
   "id": "0dfae744-85ce-431b-afae-87c0a82d2ef7",
   "metadata": {},
   "outputs": [
    {
     "name": "stdout",
     "output_type": "stream",
     "text": [
      "El resultado en 1 vuelta de 3 es =  1\n",
      "El resultado en 2 vuelta de 3 es =  2\n",
      "El resultado en 3 vuelta de 3 es =  6\n"
     ]
    }
   ],
   "source": [
    "#se elige un número al azar\n",
    "number = 3\n",
    "#como el factorial es una multiplicación de los números previos al elegido, se tiene que hacer un loop que guarde el resultado anterior de multplicación\n",
    "i = 1 \n",
    "resultado = 1\n",
    "\n",
    "while i <= number:\n",
    "    resultado = resultado * i\n",
    "    print (\"El resultado en\", i, \"vuelta de\", number,  \"es = \", resultado)\n",
    "    i = i+1\n",
    "    \n"
   ]
  },
  {
   "cell_type": "markdown",
   "id": "c2f537c5-dee8-43f8-98e7-5856b24250a4",
   "metadata": {},
   "source": [
    "#### *Repregunta:* Para implementar el mismo cálculo con resultados intermedios en loop usaríamos un rango de datos. "
   ]
  },
  {
   "cell_type": "code",
   "execution_count": 6,
   "id": "ca60a945-8619-4de9-bb25-400d56fdbae8",
   "metadata": {},
   "outputs": [
    {
     "name": "stdout",
     "output_type": "stream",
     "text": [
      "El resultado en 1 es de 1\n",
      "El resultado en 2 es de 2\n",
      "El resultado en 3 es de 6\n"
     ]
    }
   ],
   "source": [
    "#al escoger el mismo número\n",
    "number = 3\n",
    "\n",
    "resultado = 1\n",
    "for i in range(1, 4): \n",
    "    resultado = resultado * i\n",
    "    print(\"El resultado en\", i, \"es de\", resultado)"
   ]
  },
  {
   "cell_type": "markdown",
   "id": "e2f78501-2377-4dda-94e0-4445a064858c",
   "metadata": {},
   "source": [
    "### Pregunta 6\n",
    "Write a function analyze_numbers(lst) that takes a list of numbers and returns:\n",
    "\n",
    "* The maximum value\n",
    "\n",
    "* The minimum value\n",
    "\n",
    "* The average value\n",
    "\n",
    "Re-question: How would you call this function and unpack the results into three variables?"
   ]
  },
  {
   "cell_type": "code",
   "execution_count": 7,
   "id": "0097b43a-a3a6-4245-ac6c-5c1d57b2ea24",
   "metadata": {},
   "outputs": [],
   "source": [
    "def analyze_numbers (lst):\n",
    "    val_min = min(lst)\n",
    "    val_max = max (lst)\n",
    "    mean = sum(lst) / len(lst)    \n",
    "    return val_min, val_max, mean"
   ]
  },
  {
   "cell_type": "code",
   "execution_count": 8,
   "id": "899663dd-23d2-4df7-8401-8a667a329532",
   "metadata": {},
   "outputs": [
    {
     "data": {
      "text/plain": [
       "(8, 40, 20.0)"
      ]
     },
     "execution_count": 8,
     "metadata": {},
     "output_type": "execute_result"
    }
   ],
   "source": [
    "#En un caso de ejemplo:\n",
    "analyze_numbers([10,40,8,22])"
   ]
  },
  {
   "cell_type": "markdown",
   "id": "c5a0e1d4-2937-4972-832b-7d815cfc1f8b",
   "metadata": {},
   "source": [
    "#### *Repregunta*: Si quisiera hacer un unpack de resultados en tres variables, llamo las funciones que creé dentro de analyze numbers. De esta manera lo tengo más ordenado a diferencia del primer intento."
   ]
  },
  {
   "cell_type": "code",
   "execution_count": 9,
   "id": "0c01e74c-63a2-4516-85c4-b84f04764ea6",
   "metadata": {},
   "outputs": [
    {
     "name": "stdout",
     "output_type": "stream",
     "text": [
      "El valor mínimo es 2\n",
      "El valor máximo es 49\n",
      "El Promedio es 22.75\n"
     ]
    }
   ],
   "source": [
    "#Si quisiera unpack de resultados en tres variables\n",
    "val_min, val_max, mean = analyze_numbers([32,49,2, 8])\n",
    "print (\"El valor mínimo es\", val_min)\n",
    "print (\"El valor máximo es\", val_max)\n",
    "print (\"El Promedio es\", mean)"
   ]
  },
  {
   "cell_type": "markdown",
   "id": "7509fe28",
   "metadata": {},
   "source": [
    "### Pregunta 7 \n",
    "Function with Default Parameters\n",
    "\n",
    "\" Create a function greet(name, message=\"Hello\") that prints a greeting.\""
   ]
  },
  {
   "cell_type": "code",
   "execution_count": 10,
   "id": "9558276a",
   "metadata": {},
   "outputs": [
    {
     "name": "stdout",
     "output_type": "stream",
     "text": [
      "Good morning, Azucena!\n",
      "Hello, Azucena!\n"
     ]
    }
   ],
   "source": [
    "def greet(name, message=\"Hello\"):\n",
    "    print(f\"{message}, {name}!\")\n",
    "\n",
    "# Call the function with and without the message parameter.\n",
    "greet(\"Azucena\",\"Good morning\")\n",
    "\n",
    "# Llamada sin el parámetro 'message'\n",
    "greet(\"Azucena\")"
   ]
  },
  {
   "cell_type": "markdown",
   "id": "cc9bae2c",
   "metadata": {},
   "source": [
    "*Re-question: How does Python decide which value to use for message when it is not provided?*\n",
    "Al no brindar a Python un argumento especifico see usa el valor por defecto, en este caso Hello. \n",
    "Si coloco alguna palabra como \"Good morning\" se sobreescribe en el orden que se estableció previamente. "
   ]
  },
  {
   "cell_type": "markdown",
   "id": "35ef0685",
   "metadata": {},
   "source": [
    "### Pregunta 8\n",
    "Write a function multiply(a: int, b: int) -> int that returns the product of two integers."
   ]
  },
  {
   "cell_type": "code",
   "execution_count": 11,
   "id": "57a073ff",
   "metadata": {},
   "outputs": [
    {
     "name": "stdout",
     "output_type": "stream",
     "text": [
      "10\n",
      "7900\n"
     ]
    }
   ],
   "source": [
    "#Test the function with both integers and strings.\n",
    "def multiply(a: int, b: int) -> int:\n",
    "    return a * b\n",
    "\n",
    "#Probamos el resultado de una multiplicación\n",
    "print(multiply (2,5))\n",
    "print(multiply (1580,5))"
   ]
  },
  {
   "cell_type": "code",
   "execution_count": 12,
   "id": "6100a253",
   "metadata": {},
   "outputs": [
    {
     "name": "stdout",
     "output_type": "stream",
     "text": [
      "hellohello\n",
      "hellohellohellohellohello\n"
     ]
    }
   ],
   "source": [
    "#Re-question: What happens if you pass strings, and why?\n",
    "#Realizamos la prueba\n",
    "print(multiply (2,\"hello\"))\n",
    "print(multiply (\"hello\",5))\n",
    "#print(multiply (\"hi\",\"hi\")) "
   ]
  },
  {
   "cell_type": "markdown",
   "id": "50cdc172",
   "metadata": {},
   "source": [
    "Al realizar las pruebas, tenemos 2 casos:\n",
    "a. Las 2 primeras opciones de multiplicación de un número entero \"n\" veces con \"hello\" termina en resultando en lo siguiente: Si n=2 se repiten \"hellohello\"\n",
    "\n",
    "b. En el segundo caso cuando se quiso multiplicar \"hi\" con \"hi\" el codigo nos arroja error porque la operación no esta definida apareciendo \"TypeError\" y para continuar con nuestras operaciones le colocamos el # antes del código."
   ]
  },
  {
   "cell_type": "markdown",
   "id": "d2a661c9",
   "metadata": {},
   "source": [
    "## Parte 3: Clases\n",
    "### 9. Clase con atributos y métodos\n",
    "Define una clase Carcon los atributos brand, model, y year.\n",
    "\n",
    "* Añade un método display_info()que imprima los detalles del vehículo.\n",
    "* Re-pregunta: Crea dos objetos de automóvil y llama al método para cada uno."
   ]
  },
  {
   "cell_type": "code",
   "execution_count": 1,
   "id": "3f96edc1",
   "metadata": {},
   "outputs": [],
   "source": [
    "# Creo mis atributos y método para carro\n",
    "class Car:\n",
    "    def __init__(self, brand: str, model: str, year: int):\n",
    "        self.brand = brand\n",
    "        self.model = model\n",
    "        self.year = year\n",
    "\n",
    "    def display_info(self):\n",
    "        print(\"Marca:\", self.brand, \",\", \"Modelo:\", self.model, \",\", \"Año:\", self.year)\n"
   ]
  },
  {
   "cell_type": "code",
   "execution_count": 2,
   "id": "a508bcaf",
   "metadata": {},
   "outputs": [
    {
     "name": "stdout",
     "output_type": "stream",
     "text": [
      "Marca: Toyota , Modelo: Corolla , Año: 2021\n",
      "Marca: Ford , Modelo: Mustang , Año: 1969\n"
     ]
    }
   ],
   "source": [
    "# Creo mis objetos\n",
    "car1 = Car(\"Toyota\", \"Corolla\", 2021)\n",
    "car2 = Car(\"Ford\", \"Mustang\", 1969)\n",
    "\n",
    "car1.display_info()\n",
    "car2.display_info()\n",
    "\n"
   ]
  },
  {
   "cell_type": "markdown",
   "id": "0932f87d",
   "metadata": {},
   "source": [
    "## 10. Uso __init__yself\n",
    "### Crea una clase Studentcon los atributos name, age, y grade.\n",
    "\n",
    "Utilice el __init__método para inicializar estos atributos.\n",
    "\n",
    "* Agregue un método is_passed()que devuelva \"Passed\"si la calificación es ≥ 11, de lo contrario \"Failed\".\n",
    "* Re-pregunta: ¿Cómo modificarías la clase para agregar un atributo de clase school = \"PUCP\"y mostrarlo para todos los estudiantes?"
   ]
  },
  {
   "cell_type": "code",
   "execution_count": 3,
   "id": "d8d2b8c7",
   "metadata": {},
   "outputs": [],
   "source": [
    "# Creo la clase student con los atributos: name, age, grade\n",
    "class Student:\n",
    "    def __init__(self, name, age, grade):\n",
    "        self.name = name          # asignamos atributos\n",
    "        self.age = age\n",
    "        self.grade = grade\n",
    "\n",
    "    def is_passed(self):\n",
    "        return \"Passed\" if self.grade >= 11 else \"Failed\"\n"
   ]
  },
  {
   "cell_type": "code",
   "execution_count": 4,
   "id": "6a7648ed",
   "metadata": {},
   "outputs": [
    {
     "name": "stdout",
     "output_type": "stream",
     "text": [
      "Lizeth Passed\n",
      "Cesar Failed\n"
     ]
    }
   ],
   "source": [
    "# Objetos\n",
    "s1 = Student(\"Lizeth\", 20, 18.5)\n",
    "s2 = Student(\"Cesar\", 19, 9.8)\n",
    "\n",
    "print(s1.name, s1.is_passed())  # Lizeth Passed\n",
    "print(s2.name, s2.is_passed())  # Cesar Failed\n"
   ]
  },
  {
   "cell_type": "code",
   "execution_count": null,
   "id": "43c06722",
   "metadata": {},
   "outputs": [],
   "source": [
    "# Repregunta  ¿Cómo modificarías la clase para agregar un atributo de clase school = \"PUCP\"y mostrarlo para todos los estudiantes?.\n",
    "class Student:\n",
    "    school = \"PUCP\"   # atributo de clase compartido\n",
    "    def __init__(self, name, age, grade): \n",
    "        self.name = name          # asignamos atributos\n",
    "        self.age = age\n",
    "        self.grade = grade\n",
    "\n",
    "    def is_passed(self):\n",
    "        return \"Passed\" if self.grade >= 11 else \"Failed\""
   ]
  },
  {
   "cell_type": "code",
   "execution_count": 7,
   "id": "f9d89c41",
   "metadata": {},
   "outputs": [
    {
     "name": "stdout",
     "output_type": "stream",
     "text": [
      "PUCP Lizeth Passed\n",
      "PUCP Cesar Failed\n"
     ]
    }
   ],
   "source": [
    "# Objetos\n",
    "s1 = Student(\"Lizeth\", 20, 18.5)\n",
    "s2 = Student(\"Cesar\", 19, 9.8)\n",
    "\n",
    "print(Student.school, s1.name, s1.is_passed())  # PUCP Lizeth Passed\n",
    "print(Student.school, s2.name, s2.is_passed())  # PUCP Cesar Passed"
   ]
  }
 ],
 "metadata": {
  "kernelspec": {
   "display_name": "Python [conda env:base] *",
   "language": "python",
   "name": "conda-base-py"
  },
  "language_info": {
   "codemirror_mode": {
    "name": "ipython",
    "version": 3
   },
   "file_extension": ".py",
   "mimetype": "text/x-python",
   "name": "python",
   "nbconvert_exporter": "python",
   "pygments_lexer": "ipython3",
   "version": "3.11.5"
  }
 },
 "nbformat": 4,
 "nbformat_minor": 5
}
