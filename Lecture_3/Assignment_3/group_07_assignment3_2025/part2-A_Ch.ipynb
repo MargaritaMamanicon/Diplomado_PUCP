{
 "cells": [
  {
   "cell_type": "markdown",
   "id": "d4ab151d-4891-4349-94fd-f2c4e8d84ab0",
   "metadata": {},
   "source": [
    "## Pregunta 4\n",
    "Write a loop that asks the user to input a number and divides 100 by that number.\n",
    "Use a try-except block to handle the case when the user inputs 0 or a non-numeric value.\n",
    "Re-question: How would you improve the code to keep asking until a valid input is provided?"
   ]
  },
  {
   "cell_type": "code",
   "execution_count": null,
   "id": "d5a4d023-d129-4718-a29a-f24b5253e2b0",
   "metadata": {},
   "outputs": [],
   "source": []
  },
  {
   "cell_type": "code",
   "execution_count": null,
   "id": "923a4c8b-42af-49df-b29d-9d2cc9b57508",
   "metadata": {},
   "outputs": [],
   "source": []
  },
  {
   "cell_type": "markdown",
   "id": "2b49194f-1c2b-401f-9777-1b27a1e810c8",
   "metadata": {},
   "source": [
    "## Pregunta 5\n",
    "Write a while loop that calculates the factorial of a given number n.\n",
    "Print each intermediate step of the factorial calculation.\n",
    "Re-question: How would you implement the same factorial calculation using a for loop instead?"
   ]
  },
  {
   "cell_type": "code",
   "execution_count": null,
   "id": "da7c4f9e-1a42-4939-a0a4-3d7615655157",
   "metadata": {},
   "outputs": [],
   "source": []
  },
  {
   "cell_type": "code",
   "execution_count": null,
   "id": "ea59e1dd-4993-407a-a975-74980a450cb9",
   "metadata": {},
   "outputs": [],
   "source": []
  },
  {
   "cell_type": "code",
   "execution_count": null,
   "id": "586fe3d6-d2e0-43ab-afde-8964cbdd797a",
   "metadata": {},
   "outputs": [],
   "source": []
  },
  {
   "cell_type": "markdown",
   "id": "7e547d13-ef46-4b08-a52a-aacd4fea2da6",
   "metadata": {},
   "source": [
    "## Pregunta 6\n",
    "Write a function analyze_numbers(lst) that takes a list of numbers and returns:\n",
    "\n",
    "* The maximum value\n",
    "\n",
    "* The minimum value\n",
    "\n",
    "* The average value\n",
    "\n",
    "Re-question: How would you call this function and unpack the results into three variables?"
   ]
  }
 ],
 "metadata": {
  "kernelspec": {
   "display_name": "Python [conda env:base] *",
   "language": "python",
   "name": "conda-base-py"
  },
  "language_info": {
   "codemirror_mode": {
    "name": "ipython",
    "version": 3
   },
   "file_extension": ".py",
   "mimetype": "text/x-python",
   "name": "python",
   "nbconvert_exporter": "python",
   "pygments_lexer": "ipython3",
   "version": "3.11.5"
  }
 },
 "nbformat": 4,
 "nbformat_minor": 5
}
