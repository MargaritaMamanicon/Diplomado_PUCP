{
 "cells": [
  {
   "cell_type": "markdown",
   "id": "d4ab151d-4891-4349-94fd-f2c4e8d84ab0",
   "metadata": {},
   "source": [
    "## Pregunta 4\n",
    "Write a loop that asks the user to input a number and divides 100 by that number.\n",
    "Use a try-except block to handle the case when the user inputs 0 or a non-numeric value.\n",
    "Re-question: How would you improve the code to keep asking until a valid input is provided?"
   ]
  },
  {
   "cell_type": "code",
   "execution_count": 1,
   "id": "a697a623-e4b8-4a79-86ce-8af2134fffbb",
   "metadata": {},
   "outputs": [
    {
     "name": "stdin",
     "output_type": "stream",
     "text": [
      "Dime un número: 11\n"
     ]
    },
    {
     "name": "stdout",
     "output_type": "stream",
     "text": [
      "El resultado es =  9.090909090909092\n"
     ]
    }
   ],
   "source": [
    "#Se intenta con un número\n",
    "for i in range(1):\n",
    "    try:\n",
    "        numero = float(input(\"Dime un número:\"))\n",
    "        print( \"El resultado es = \", 100/numero)\n",
    "    except ZeroDivisionError:\n",
    "        print (\"No se puede dividir entre 0 :(\")\n",
    "    except ValueError:\n",
    "        print (\"Has ingresado un valor no válido\")"
   ]
  },
  {
   "cell_type": "code",
   "execution_count": 2,
   "id": "8712eb02-a402-46c7-8e3d-29d3d0ee2182",
   "metadata": {},
   "outputs": [
    {
     "name": "stdin",
     "output_type": "stream",
     "text": [
      "Dime un número: hola!\n"
     ]
    },
    {
     "name": "stdout",
     "output_type": "stream",
     "text": [
      "Has ingresado un valor no válido\n"
     ]
    }
   ],
   "source": [
    "#Se intenta con texto/string\n",
    "for i in range(1):\n",
    "    try:\n",
    "        numero = float(input(\"Dime un número:\"))\n",
    "        print( \"El resultado es = \", 100/numero)\n",
    "    except ZeroDivisionError:\n",
    "        print (\"No se puede dividir entre 0 :(\")\n",
    "    except ValueError:\n",
    "        print (\"Has ingresado un valor no válido\")"
   ]
  },
  {
   "cell_type": "code",
   "execution_count": 3,
   "id": "5faa90f9-372a-4521-9ab4-f78cfda5db01",
   "metadata": {},
   "outputs": [
    {
     "name": "stdin",
     "output_type": "stream",
     "text": [
      "Dime un número: 0\n"
     ]
    },
    {
     "name": "stdout",
     "output_type": "stream",
     "text": [
      "No se puede dividir entre 0 :(\n"
     ]
    }
   ],
   "source": [
    "#Se intenta con el 0 \n",
    "for i in range(1):\n",
    "    try:\n",
    "        numero = float(input(\"Dime un número:\"))\n",
    "        print( \"El resultado es = \", 100/numero)\n",
    "    except ZeroDivisionError:\n",
    "        print (\"No se puede dividir entre 0 :(\")\n",
    "    except ValueError:\n",
    "        print (\"Has ingresado un valor no válido\")"
   ]
  },
  {
   "cell_type": "markdown",
   "id": "722476c6-efca-439b-9189-351239206fda",
   "metadata": {},
   "source": [
    "*Repregunta*: Para que se mantenga preguntando por el número hasta que un dato válido ha sido introducido, debemos usar la función de while que es un loop en bucle."
   ]
  },
  {
   "cell_type": "code",
   "execution_count": 6,
   "id": "df492e98-aac3-4bb4-8516-c06cf163827c",
   "metadata": {},
   "outputs": [
    {
     "name": "stdin",
     "output_type": "stream",
     "text": [
      "Dime un número:  hola grupo 7\n"
     ]
    },
    {
     "name": "stdout",
     "output_type": "stream",
     "text": [
      "Debes ingresar un número válido, intenta de nuevo.\n"
     ]
    },
    {
     "name": "stdin",
     "output_type": "stream",
     "text": [
      "Dime un número:  7\n"
     ]
    },
    {
     "name": "stdout",
     "output_type": "stream",
     "text": [
      "El resultado es = 14.285714285714286\n"
     ]
    }
   ],
   "source": [
    "while True:             \n",
    "    try:\n",
    "        numero = float(input(\"Dime un número: \"))\n",
    "        print(\"El resultado es =\", 100/numero)\n",
    "        break         \n",
    "    except ZeroDivisionError:\n",
    "        print(\"No se puede dividir entre 0, intenta de nuevo.\")\n",
    "    except ValueError:\n",
    "        print(\"Debes ingresar un número válido, intenta de nuevo.\")"
   ]
  },
  {
   "cell_type": "markdown",
   "id": "2b49194f-1c2b-401f-9777-1b27a1e810c8",
   "metadata": {},
   "source": [
    "## Pregunta 5\n",
    "Write a while loop that calculates the factorial of a given number n.\n",
    "Print each intermediate step of the factorial calculation.\n",
    "Re-question: How would you implement the same factorial calculation using a for loop instead?"
   ]
  },
  {
   "cell_type": "code",
   "execution_count": 18,
   "id": "da7c4f9e-1a42-4939-a0a4-3d7615655157",
   "metadata": {},
   "outputs": [
    {
     "name": "stdout",
     "output_type": "stream",
     "text": [
      "El resultado en 1 vuelta de 3 es =  1\n",
      "El resultado en 2 vuelta de 3 es =  2\n",
      "El resultado en 3 vuelta de 3 es =  6\n"
     ]
    }
   ],
   "source": [
    "#se elige un número al azar\n",
    "number = 3\n",
    "#como el factorial es una multiplicación de los números previos al elegido, se tiene que hacer un loop que guarde el resultado anterior de multplicación\n",
    "i = 1 \n",
    "resultado = 1\n",
    "\n",
    "while i <= number:\n",
    "    resultado = resultado * i\n",
    "    print (\"El resultado en\", i, \"vuelta de\", number,  \"es = \", resultado)\n",
    "    i = i+1\n",
    "    \n"
   ]
  },
  {
   "cell_type": "markdown",
   "id": "4248d8cc-e4da-42d6-970e-60731691b608",
   "metadata": {},
   "source": [
    "*Repregunta:* Para implementar el mismo cálculo con resultados intermedios en loop usaríamos un rango de datos. "
   ]
  },
  {
   "cell_type": "code",
   "execution_count": 34,
   "id": "ff0cb94a-fa41-4812-a4f8-62aa38922760",
   "metadata": {},
   "outputs": [
    {
     "name": "stdout",
     "output_type": "stream",
     "text": [
      "El resultado en 1 es de 1\n",
      "El resultado en 2 es de 2\n",
      "El resultado en 3 es de 6\n"
     ]
    }
   ],
   "source": [
    "#al escoger el mismo número\n",
    "number = 3\n",
    "\n",
    "resultado = 1\n",
    "for i in range(1, 4): \n",
    "    resultado = resultado * i\n",
    "    print(\"El resultado en\", i, \"es de\", resultado)"
   ]
  },
  {
   "cell_type": "markdown",
   "id": "7e547d13-ef46-4b08-a52a-aacd4fea2da6",
   "metadata": {},
   "source": [
    "## Pregunta 6\n",
    "Write a function analyze_numbers(lst) that takes a list of numbers and returns:\n",
    "\n",
    "* The maximum value\n",
    "\n",
    "* The minimum value\n",
    "\n",
    "* The average value\n",
    "\n",
    "Re-question: How would you call this function and unpack the results into three variables?"
   ]
  },
  {
   "cell_type": "code",
   "execution_count": 41,
   "id": "8684947d-c238-4c05-a159-895db2ef0a24",
   "metadata": {},
   "outputs": [],
   "source": [
    "def analyze_numbers (lst):\n",
    "    val_min = min(lst)\n",
    "    val_max = max (lst)\n",
    "    mean = sum(lst) / len(lst)    \n",
    "    return val_min, val_max, mean"
   ]
  },
  {
   "cell_type": "code",
   "execution_count": 46,
   "id": "3b0fb68d-6e46-47a6-a3da-84fa11cd4e12",
   "metadata": {},
   "outputs": [
    {
     "data": {
      "text/plain": [
       "(8, 40, 20.0)"
      ]
     },
     "execution_count": 46,
     "metadata": {},
     "output_type": "execute_result"
    }
   ],
   "source": [
    "#En un caso de ejemplo:\n",
    "analyze_numbers([10,40,8,22])"
   ]
  },
  {
   "cell_type": "markdown",
   "id": "e0e8b931-2671-4f4a-b835-7dfee578b1e5",
   "metadata": {},
   "source": [
    "Si quisiera hacer un unpack de resultados en tres variables, llamo las funciones que creé dentro de analyze numbers. De esta manera lo tengo más ordenado a diferencia del primer intento."
   ]
  },
  {
   "cell_type": "code",
   "execution_count": 48,
   "id": "496da8cb-7c23-4c56-b96f-725b878e8f3e",
   "metadata": {},
   "outputs": [
    {
     "name": "stdout",
     "output_type": "stream",
     "text": [
      "El valor mínimo es 2\n",
      "El valor máximo es 49\n",
      "El Promedio es 22.75\n"
     ]
    }
   ],
   "source": [
    "#Si quisiera unpack de resultados en tres variables\n",
    "val_min, val_max, mean = analyze_numbers([32,49,2, 8])\n",
    "print (\"El valor mínimo es\", val_min)\n",
    "print (\"El valor máximo es\", val_max)\n",
    "print (\"El Promedio es\", mean)"
   ]
  }
 ],
 "metadata": {
  "kernelspec": {
   "display_name": "Python [conda env:base] *",
   "language": "python",
   "name": "conda-base-py"
  },
  "language_info": {
   "codemirror_mode": {
    "name": "ipython",
    "version": 3
   },
   "file_extension": ".py",
   "mimetype": "text/x-python",
   "name": "python",
   "nbconvert_exporter": "python",
   "pygments_lexer": "ipython3",
   "version": "3.11.5"
  }
 },
 "nbformat": 4,
 "nbformat_minor": 5
}
