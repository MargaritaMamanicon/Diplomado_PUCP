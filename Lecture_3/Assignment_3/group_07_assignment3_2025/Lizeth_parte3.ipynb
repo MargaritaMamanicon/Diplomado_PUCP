{
 "cells": [
  {
   "cell_type": "markdown",
   "id": "aa65490c",
   "metadata": {},
   "source": [
    "## Parte 3: Clases\n",
    "### 9. Clase con atributos y métodos\n",
    "Define una clase Carcon los atributos brand, model, y year.\n",
    "\n",
    "* Añade un método display_info()que imprima los detalles del vehículo.\n",
    "* Re-pregunta: Crea dos objetos de automóvil y llama al método para cada uno."
   ]
  },
  {
   "cell_type": "code",
   "execution_count": 7,
   "id": "4a890206",
   "metadata": {},
   "outputs": [],
   "source": [
    "# Creo mis atributos y método para carro\n",
    "class Car:\n",
    "    def __init__(self, brand: str, model: str, year: int):\n",
    "        self.brand = brand\n",
    "        self.model = model\n",
    "        self.year = year\n",
    "\n",
    "    def display_info(self):\n",
    "        print(\"Marca:\", self.brand, \",\", \"Modelo:\", self.model, \",\", \"Año:\", self.year)\n"
   ]
  },
  {
   "cell_type": "code",
   "execution_count": 8,
   "id": "542ac8fb",
   "metadata": {},
   "outputs": [
    {
     "name": "stdout",
     "output_type": "stream",
     "text": [
      "Marca: Toyota , Modelo: Corolla , Año: 2021\n",
      "Marca: Ford , Modelo: Mustang , Año: 1969\n"
     ]
    }
   ],
   "source": [
    "# Creo mis objetos\n",
    "car1 = Car(\"Toyota\", \"Corolla\", 2021)\n",
    "car2 = Car(\"Ford\", \"Mustang\", 1969)\n",
    "\n",
    "car1.display_info()\n",
    "car2.display_info()\n",
    "\n"
   ]
  },
  {
   "cell_type": "markdown",
   "id": "7528283d",
   "metadata": {},
   "source": [
    "## 10. Uso __init__yself\n",
    "### Crea una clase Studentcon los atributos name, age, y grade.\n",
    "\n",
    "Utilice el __init__método para inicializar estos atributos.\n",
    "\n",
    "* Agregue un método is_passed()que devuelva \"Passed\"si la calificación es ≥ 11, de lo contrario \"Failed\".\n",
    "* Re-pregunta: ¿Cómo modificarías la clase para agregar un atributo de clase school = \"PUCP\"y mostrarlo para todos los estudiantes?"
   ]
  },
  {
   "cell_type": "code",
   "execution_count": 14,
   "id": "e3235242",
   "metadata": {},
   "outputs": [],
   "source": [
    "# Creo la clase student con los atributos: name, age, grade\n",
    "class Student:\n",
    "    def __init__(self, name, age, grade):\n",
    "        self.name = name          # asignamos atributos\n",
    "        self.age = age\n",
    "        self.grade = grade\n",
    "\n",
    "    def is_passed(self):\n",
    "        return \"Passed\" if self.grade >= 11 else \"Failed\"\n"
   ]
  },
  {
   "cell_type": "code",
   "execution_count": 15,
   "id": "7e75c050",
   "metadata": {},
   "outputs": [
    {
     "name": "stdout",
     "output_type": "stream",
     "text": [
      "Lizeth Passed\n",
      "Cesar Failed\n"
     ]
    }
   ],
   "source": [
    "# Objetos\n",
    "s1 = Student(\"Lizeth\", 20, 18.5)\n",
    "s2 = Student(\"Cesar\", 19, 9.8)\n",
    "\n",
    "print(s1.name, s1.is_passed())  # Lizeth Passed\n",
    "print(s2.name, s2.is_passed())  # Cesar Failed\n"
   ]
  },
  {
   "cell_type": "code",
   "execution_count": 28,
   "id": "814ef35e",
   "metadata": {},
   "outputs": [],
   "source": [
    "# Repregunta\n",
    "class Student:\n",
    "    school = \"PUCP\"   # atributo de clase compartido\n",
    "    def __init__(self, name, age, grade): \n",
    "        self.name = name          # asignamos atributos\n",
    "        self.age = age\n",
    "        self.grade = grade\n",
    "\n",
    "    def is_passed(self):\n",
    "        return \"Passed\" if self.grade >= 11 else \"Failed\""
   ]
  },
  {
   "cell_type": "code",
   "execution_count": null,
   "id": "002db540",
   "metadata": {},
   "outputs": [
    {
     "name": "stdout",
     "output_type": "stream",
     "text": [
      "PUCP Lizeth Passed\n",
      "PUCP Cesar Failed\n"
     ]
    }
   ],
   "source": [
    "# Objetos: s1 y s2\n",
    "s1 = Student(\"Lizeth\", 20, 18.5)\n",
    "s2 = Student(\"Cesar\", 19, 9.8)\n",
    "\n",
    "print(Student.school, s1.name, s1.is_passed())  # PUCP Lizeth Passed\n",
    "print(Student.school, s2.name, s2.is_passed())  # PUCP Cesar Passed"
   ]
  }
 ],
 "metadata": {
  "kernelspec": {
   "display_name": "base",
   "language": "python",
   "name": "python3"
  },
  "language_info": {
   "codemirror_mode": {
    "name": "ipython",
    "version": 3
   },
   "file_extension": ".py",
   "mimetype": "text/x-python",
   "name": "python",
   "nbconvert_exporter": "python",
   "pygments_lexer": "ipython3",
   "version": "3.12.7"
  }
 },
 "nbformat": 4,
 "nbformat_minor": 5
}
