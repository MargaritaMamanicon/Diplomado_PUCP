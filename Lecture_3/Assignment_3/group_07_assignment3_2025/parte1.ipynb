{
 "cells": [
  {
   "cell_type": "markdown",
   "id": "4d0d5c88-caa3-4040-b4c6-43c815afefeb",
   "metadata": {},
   "source": [
    "### 1. Pass Statement"
   ]
  },
  {
   "cell_type": "code",
   "execution_count": 78,
   "id": "a1598337-87e0-4b76-b23e-7875095b0ea5",
   "metadata": {},
   "outputs": [
    {
     "name": "stdout",
     "output_type": "stream",
     "text": [
      "1\n",
      "3\n",
      "5\n",
      "7\n",
      "9\n"
     ]
    }
   ],
   "source": [
    "for num in range(1, 11):\n",
    "    if num % 2 == 0:\n",
    "        pass  # no hacer nada si es par\n",
    "    else:\n",
    "        print(num)"
   ]
  },
  {
   "cell_type": "markdown",
   "id": "6edd70a1-2053-476b-ab88-b48f5c31d5e7",
   "metadata": {},
   "source": [
    "#### ¿Qué pasaría si eliminas la sentencia pass?\n",
    "Si eliminas pass, el código aún funcionaría igual si no hay ningún otro código dentro del if.\n",
    "pass es una instrucción vacía que evita errores de sintaxis cuando se necesita un bloque pero no se desea ejecutar nada."
   ]
  },
  {
   "cell_type": "code",
   "execution_count": 80,
   "id": "7e75a0c5-424f-4796-8444-d0c5dcfc3e6e",
   "metadata": {},
   "outputs": [
    {
     "name": "stdout",
     "output_type": "stream",
     "text": [
      "1\n",
      "3\n",
      "5\n",
      "7\n",
      "9\n"
     ]
    }
   ],
   "source": [
    "for num in range(1, 11):\n",
    "    if num % 2 == 0:\n",
    "        # pass is not required if nothing follows\n",
    "        continue  # or just leave it empty\n",
    "    print(num)"
   ]
  },
  {
   "cell_type": "markdown",
   "id": "13a8be31-fd7a-4cca-936f-d73a65675326",
   "metadata": {},
   "source": [
    "### 2. Continue Statement"
   ]
  },
  {
   "cell_type": "code",
   "execution_count": 82,
   "id": "9bd9db46-7bcb-4bdb-9c43-239a2c16fa91",
   "metadata": {},
   "outputs": [
    {
     "name": "stdout",
     "output_type": "stream",
     "text": [
      "p\n",
      "y\n",
      "t\n",
      "h\n",
      "n\n",
      "l\n",
      "p\n",
      "s\n"
     ]
    }
   ],
   "source": [
    "for char in \"pythonloops\":\n",
    "    if char == \"o\":\n",
    "        continue\n",
    "    print(char)"
   ]
  },
  {
   "cell_type": "markdown",
   "id": "023482d0-c912-4010-97a7-0513931c4a4c",
   "metadata": {},
   "source": [
    "#### ¿Cómo lograrías el mismo resultado sin usar continue?\n",
    "Puedes invertir la lógica del if y usar una condición if directamente:"
   ]
  },
  {
   "cell_type": "code",
   "execution_count": 84,
   "id": "1e17925a-5bab-48a0-82fc-6be774c24d74",
   "metadata": {},
   "outputs": [
    {
     "name": "stdout",
     "output_type": "stream",
     "text": [
      "p\n",
      "y\n",
      "t\n",
      "h\n",
      "n\n",
      "l\n",
      "p\n",
      "s\n"
     ]
    }
   ],
   "source": [
    "for char in \"pythonloops\":\n",
    "    if char != \"o\":\n",
    "        print(char)"
   ]
  },
  {
   "cell_type": "markdown",
   "id": "ce182fb7",
   "metadata": {},
   "source": [
    "#### Break Statement"
   ]
  },
  {
   "cell_type": "code",
   "execution_count": 86,
   "id": "6dbc59cd-2d7b-449e-bee8-4e53d85ec121",
   "metadata": {},
   "outputs": [
    {
     "name": "stdout",
     "output_type": "stream",
     "text": [
      "Ingresa un número (número negativo para salir):  -8\n"
     ]
    },
    {
     "name": "stdout",
     "output_type": "stream",
     "text": [
      "Número negativo detectado. Saliendo del bucle.\n"
     ]
    }
   ],
   "source": [
    "while True:\n",
    "    num = int(input(\"Ingresa un número (número negativo para salir): \"))\n",
    "    if num < 0:\n",
    "        print(\"Número negativo detectado. Saliendo del bucle.\")\n",
    "        break\n",
    "    print(f\"Ingresaste: {num}\")"
   ]
  },
  {
   "cell_type": "markdown",
   "id": "718ce736-b674-48a3-96dd-0e4c433b3058",
   "metadata": {},
   "source": [
    "#### ¿Cómo puedes modificar el bucle para que ignore los números negativos en lugar de romperse?\n",
    "Puedes usar continue para simplemente ignorar los negativos sin terminar el bucle:"
   ]
  },
  {
   "cell_type": "code",
   "execution_count": 97,
   "id": "214f773d-fff3-4aec-86bf-2c50beb65264",
   "metadata": {},
   "outputs": [
    {
     "name": "stdout",
     "output_type": "stream",
     "text": [
      "Ingresa un número (999 para salir):  999\n"
     ]
    },
    {
     "name": "stdout",
     "output_type": "stream",
     "text": [
      "Salida solicitada con 999.\n",
      "\n",
      "Fuera del bucle.\n"
     ]
    }
   ],
   "source": [
    "while True:\n",
    "    num = int(input(\"Ingresa un número (999 para salir): \"))\n",
    "\n",
    "    if num == 999:\n",
    "        # Salida manual del bucle\n",
    "        print(\"Salida solicitada con 999.\\n\")\n",
    "        break\n",
    "\n",
    "    if num < 0:\n",
    "        # Comentario: número negativo ignorado\n",
    "        print(\"Número negativo ignorado.\\n\")\n",
    "        continue\n",
    "\n",
    "    elif num == 3:\n",
    "        #num = num + 1\n",
    "        print(f\"Este número es {num} (caso especial)\\n\")\n",
    "\n",
    "    else:\n",
    "        #num = num + 2\n",
    "        print(\"Número diferente\\n\")\n",
    "\n",
    "    print(\"Número ingresado: \" + str(num), \"\\n\")\n",
    "\n",
    "print(\"Fuera del bucle.\")"
   ]
  },
  {
   "cell_type": "code",
   "execution_count": null,
   "id": "2540af1f-42be-4003-840c-82ea8ec3f1d3",
   "metadata": {},
   "outputs": [],
   "source": []
  }
 ],
 "metadata": {
  "kernelspec": {
   "display_name": "Python [conda env:base] *",
   "language": "python",
   "name": "conda-base-py"
  },
  "language_info": {
   "codemirror_mode": {
    "name": "ipython",
    "version": 3
   },
   "file_extension": ".py",
   "mimetype": "text/x-python",
   "name": "python",
   "nbconvert_exporter": "python",
   "pygments_lexer": "ipython3",
   "version": "3.12.7"
  }
 },
 "nbformat": 4,
 "nbformat_minor": 5
}
