{
 "cells": [
  {
   "cell_type": "markdown",
   "id": "7d0847c7-7c86-4864-ad29-2cd7b670ddd9",
   "metadata": {},
   "source": [
    "# Part 1: Loops"
   ]
  },
  {
   "cell_type": "markdown",
   "id": "d7abb9dd-4231-48d4-aaae-0af9558971e7",
   "metadata": {},
   "source": [
    "## 1. Pass statement"
   ]
  },
  {
   "cell_type": "code",
   "execution_count": 8,
   "id": "7b50cc21-e7cb-46f5-8875-2eb9805da813",
   "metadata": {},
   "outputs": [
    {
     "name": "stdout",
     "output_type": "stream",
     "text": [
      "1\n",
      "3\n",
      "5\n",
      "7\n",
      "9\n"
     ]
    }
   ],
   "source": [
    "for i in range(1, 11):\n",
    "    if i % 2 == 0:  \n",
    "        pass\n",
    "    else:\n",
    "        print(i)"
   ]
  },
  {
   "cell_type": "markdown",
   "id": "0993be39-6f58-4489-aedc-93fb938c0812",
   "metadata": {},
   "source": [
    "#### Re-questions"
   ]
  },
  {
   "cell_type": "markdown",
   "id": "b9c3022e-d151-4808-99df-03705c2bb962",
   "metadata": {},
   "source": [
    "Si quitas pass, el código igual funciona. Cuando el número sea par, el ciclo simplemente no hará nada y pasará a la siguiente iteración."
   ]
  },
  {
   "cell_type": "markdown",
   "id": "a849fd3e-2ab1-483e-863a-75172cb0cf08",
   "metadata": {},
   "source": [
    "## 2. Continue statement"
   ]
  },
  {
   "cell_type": "code",
   "execution_count": 9,
   "id": "dce015db-f363-4a31-970a-206722068f81",
   "metadata": {},
   "outputs": [
    {
     "name": "stdout",
     "output_type": "stream",
     "text": [
      "p\n",
      "y\n",
      "t\n",
      "h\n",
      "n\n",
      "l\n",
      "p\n",
      "s\n"
     ]
    }
   ],
   "source": [
    "text = \"pythonloops\"\n",
    "\n",
    "for char in text:\n",
    "    if char == \"o\":\n",
    "        continue\n",
    "    print(char)\n"
   ]
  },
  {
   "cell_type": "markdown",
   "id": "ff3fe2d8-c270-4b06-84c6-19923cbdee26",
   "metadata": {},
   "source": [
    "#### Re-question"
   ]
  },
  {
   "cell_type": "code",
   "execution_count": null,
   "id": "66f3bb11-ddc7-4108-96d1-bfd3a321caa8",
   "metadata": {},
   "outputs": [],
   "source": [
    "text = \"pythonloops\"\n",
    "\n",
    "for char in text:\n",
    "    if char != \"o\":  \n",
    "        print(char)"
   ]
  },
  {
   "cell_type": "markdown",
   "id": "0ec8e27c-6bab-4554-99d1-7e7048dedc09",
   "metadata": {},
   "source": [
    "Hacemos lo contrario y evadimos el continue, indicándole que solo sea cuando no es \"o\". "
   ]
  },
  {
   "cell_type": "code",
   "execution_count": null,
   "id": "d90417ae-a208-47f9-a53a-d584f81f508d",
   "metadata": {},
   "outputs": [],
   "source": []
  }
 ],
 "metadata": {
  "kernelspec": {
   "display_name": "Python [conda env:base] *",
   "language": "python",
   "name": "conda-base-py"
  },
  "language_info": {
   "codemirror_mode": {
    "name": "ipython",
    "version": 3
   },
   "file_extension": ".py",
   "mimetype": "text/x-python",
   "name": "python",
   "nbconvert_exporter": "python",
   "pygments_lexer": "ipython3",
   "version": "3.11.5"
  }
 },
 "nbformat": 4,
 "nbformat_minor": 5
}
