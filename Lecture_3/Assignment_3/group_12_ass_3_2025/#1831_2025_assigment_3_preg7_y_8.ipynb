{
 "cells": [
  {
   "cell_type": "code",
   "execution_count": 17,
   "id": "87bca3ca",
   "metadata": {},
   "outputs": [],
   "source": [
    "#7. Create a function greet(name, message=\"Hello\") that prints a greeting.\n",
    "\n",
    "def greet(name, message=\"Hello\"):\n",
    "    print(f\"{message}, {name}\")"
   ]
  },
  {
   "cell_type": "code",
   "execution_count": 10,
   "id": "f0275e79",
   "metadata": {},
   "outputs": [
    {
     "name": "stdout",
     "output_type": "stream",
     "text": [
      "Hello, Ivan!\n",
      "Hello, Piero!\n"
     ]
    }
   ],
   "source": [
    "# 7.1. Call the function with and without the message parameter.\n",
    "# without the message parameter\n",
    "greet(\"Ivan\")\n",
    "greet(\"Piero\")"
   ]
  },
  {
   "cell_type": "code",
   "execution_count": 15,
   "id": "74823c4f",
   "metadata": {},
   "outputs": [
    {
     "name": "stdout",
     "output_type": "stream",
     "text": [
      "Hello, Ivan\n",
      "Hello, Piero\n"
     ]
    }
   ],
   "source": [
    "# with the message parameter\n",
    "greet(\"Ivan\", \"Hello\")\n",
    "greet(\"Piero\", message=\"Hello\")"
   ]
  },
  {
   "cell_type": "code",
   "execution_count": 18,
   "id": "4537086e",
   "metadata": {},
   "outputs": [
    {
     "name": "stdout",
     "output_type": "stream",
     "text": [
      "Good morning, María Paula\n",
      "Good morning, Amanda\n"
     ]
    }
   ],
   "source": [
    "# additional: changing the content of message\n",
    "greet(\"María Paula\", \"Good morning\")\n",
    "greet(\"Amanda\", message=\"Good morning\")"
   ]
  },
  {
   "cell_type": "code",
   "execution_count": null,
   "id": "8142ded7",
   "metadata": {},
   "outputs": [],
   "source": [
    "# 7.2. Re-question: How does Python decide which value to use for message when it is not provided?\n",
    "Se observa que si solo usas el nombre de una persona dentro de la función, esta te arroja por defecto el contenido establecido para message. Por ejemplo, al correr 'greet(\"Ivan\")', te arroja automática la palabra \"Hello\" en el print.\n",
    "Si usas el parámetro message e incluyes la expresión establecida, obviamente esto te arroja dicha expresión más el nombre. Pero si a message la asignas un valor distinto al establecido en la función original, el nuevo valor reemplaza al original. Por ello, en 'greet(\"Amanda\", message=\"Good morning\")', el print no es \"Hello, Amanda\", sino \"Good morning, Amanda\""
   ]
  },
  {
   "cell_type": "code",
   "execution_count": 19,
   "id": "d5e5192d",
   "metadata": {},
   "outputs": [],
   "source": [
    "# 8. Write a function multiply(a: int, b: int) -> int that returns the product of two integers.\n",
    "def multiply(a: int, b: int) -> int:\n",
    "    return a * b"
   ]
  },
  {
   "cell_type": "code",
   "execution_count": 22,
   "id": "874c087e",
   "metadata": {},
   "outputs": [
    {
     "name": "stdout",
     "output_type": "stream",
     "text": [
      "24\n",
      "-40\n"
     ]
    }
   ],
   "source": [
    "# 8.1. Test the function with both integers and strings.\n",
    "# wih integers\n",
    "print(multiply(3, 8))\n",
    "print(multiply(10, -4))      "
   ]
  },
  {
   "cell_type": "code",
   "execution_count": 25,
   "id": "757cbdae",
   "metadata": {},
   "outputs": [
    {
     "name": "stdout",
     "output_type": "stream",
     "text": [
      "cuatrocuatrocuatro\n",
      "unounounounounounounounounounounouno\n"
     ]
    },
    {
     "ename": "TypeError",
     "evalue": "can't multiply sequence by non-int of type 'str'",
     "output_type": "error",
     "traceback": [
      "\u001b[1;31m---------------------------------------------------------------------------\u001b[0m",
      "\u001b[1;31mTypeError\u001b[0m                                 Traceback (most recent call last)",
      "Input \u001b[1;32mIn [25]\u001b[0m, in \u001b[0;36m<cell line: 4>\u001b[1;34m()\u001b[0m\n\u001b[0;32m      2\u001b[0m \u001b[38;5;28mprint\u001b[39m(multiply(\u001b[38;5;124m\"\u001b[39m\u001b[38;5;124mcuatro\u001b[39m\u001b[38;5;124m\"\u001b[39m, \u001b[38;5;241m3\u001b[39m))\n\u001b[0;32m      3\u001b[0m \u001b[38;5;28mprint\u001b[39m(multiply(\u001b[38;5;241m12\u001b[39m, \u001b[38;5;124m\"\u001b[39m\u001b[38;5;124muno\u001b[39m\u001b[38;5;124m\"\u001b[39m))\n\u001b[1;32m----> 4\u001b[0m \u001b[38;5;28mprint\u001b[39m(\u001b[43mmultiply\u001b[49m\u001b[43m(\u001b[49m\u001b[38;5;124;43m\"\u001b[39;49m\u001b[38;5;124;43mseis\u001b[39;49m\u001b[38;5;124;43m\"\u001b[39;49m\u001b[43m,\u001b[49m\u001b[43m \u001b[49m\u001b[38;5;124;43m\"\u001b[39;49m\u001b[38;5;124;43mdos\u001b[39;49m\u001b[38;5;124;43m\"\u001b[39;49m\u001b[43m)\u001b[49m)\n",
      "Input \u001b[1;32mIn [19]\u001b[0m, in \u001b[0;36mmultiply\u001b[1;34m(a, b)\u001b[0m\n\u001b[0;32m      2\u001b[0m \u001b[38;5;28;01mdef\u001b[39;00m \u001b[38;5;21mmultiply\u001b[39m(a: \u001b[38;5;28mint\u001b[39m, b: \u001b[38;5;28mint\u001b[39m) \u001b[38;5;241m-\u001b[39m\u001b[38;5;241m>\u001b[39m \u001b[38;5;28mint\u001b[39m:\n\u001b[1;32m----> 3\u001b[0m     \u001b[38;5;28;01mreturn\u001b[39;00m \u001b[43ma\u001b[49m\u001b[43m \u001b[49m\u001b[38;5;241;43m*\u001b[39;49m\u001b[43m \u001b[49m\u001b[43mb\u001b[49m\n",
      "\u001b[1;31mTypeError\u001b[0m: can't multiply sequence by non-int of type 'str'"
     ]
    }
   ],
   "source": [
    "# wih strings\n",
    "print(multiply(\"cuatro\", 3))\n",
    "print(multiply(12, \"uno\"))\n",
    "print(multiply(\"seis\", \"dos\"))"
   ]
  },
  {
   "cell_type": "code",
   "execution_count": null,
   "id": "2a3c36a3",
   "metadata": {},
   "outputs": [],
   "source": [
    "# 8.2. Re-question: What happens if you pass strings, and why?\n",
    "Si multiplicas un integer con un string, el string se repite X veces, siendo X el número que tiene el integer; nótese que en este caso no se cumple que el producto del código sea un integer, que es lo que estipula la función. Esto parece deberse a que un criterio del operador asterisco (*) es hacer repetición de strings cuando le pasas texto, mientras que cuando le pasas números hace multiplicación.\n",
    "Si multiplicas dos string, te aparece un error que menciona que no se puede hacer la multiplicación. Y es que, siguiendo lo señalado antes, si les das dos strgins al operador no hay nada que permita hacer repetición o multiplicación.\n",
    "Hay que advertir que cuando se creó la función, se dijo a Python que a y b eran integers, pero esto es más un principio que una regla determinada, dado que el operador no convierte los strings en números, sino que opera con los criterios que ya tiene establecidos."
   ]
  }
 ],
 "metadata": {
  "kernelspec": {
   "display_name": "Python 3 (ipykernel)",
   "language": "python",
   "name": "python3"
  },
  "language_info": {
   "codemirror_mode": {
    "name": "ipython",
    "version": 3
   },
   "file_extension": ".py",
   "mimetype": "text/x-python",
   "name": "python",
   "nbconvert_exporter": "python",
   "pygments_lexer": "ipython3",
   "version": "3.9.12"
  }
 },
 "nbformat": 4,
 "nbformat_minor": 5
}
