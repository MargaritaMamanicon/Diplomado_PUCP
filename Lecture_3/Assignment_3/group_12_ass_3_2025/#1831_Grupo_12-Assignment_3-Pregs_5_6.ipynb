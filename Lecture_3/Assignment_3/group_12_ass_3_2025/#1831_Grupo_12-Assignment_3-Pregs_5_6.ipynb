{
 "cells": [
  {
   "cell_type": "code",
   "execution_count": null,
   "id": "0529601c-fb48-4f16-be01-5b9cbd1c91f5",
   "metadata": {},
   "outputs": [],
   "source": [
    "### Pregunta 5: While Loop Structure"
   ]
  },
  {
   "cell_type": "code",
   "execution_count": 2,
   "id": "9835dd81-c736-43dd-944b-923f880a06bd",
   "metadata": {},
   "outputs": [
    {
     "name": "stdout",
     "output_type": "stream",
     "text": [
      "Step 1: 1\n",
      "Step 2: 2\n",
      "Step 3: 6\n",
      "Step 4: 24\n",
      "Step 5: 120\n",
      "Step 6: 720\n",
      "Step 7: 5040\n",
      "\n",
      "El factorial de 7 es 5040\n"
     ]
    }
   ],
   "source": [
    "n = 7  # número de ejemplo para calcular el factorial\n",
    "factorial = 1\n",
    "i = 1\n",
    "\n",
    "while i <= n:\n",
    "    factorial *= i\n",
    "    print(f\"Step {i}: {factorial}\")  # muestra el producto de cada multiplicación\n",
    "    i += 1\n",
    "\n",
    "print(f\"\\nEl factorial de {n} es {factorial}\")\n"
   ]
  },
  {
   "cell_type": "code",
   "execution_count": 11,
   "id": "3204ddfc-cb3e-4636-9532-97c84e669625",
   "metadata": {},
   "outputs": [
    {
     "name": "stdout",
     "output_type": "stream",
     "text": [
      "Step 1: 1\n",
      "Step 2: 2\n",
      "Step 3: 6\n",
      "Step 4: 24\n",
      "Step 5: 120\n",
      "Step 6: 720\n",
      "Step 7: 5040\n",
      "\n",
      "El factorial de 7 es 5040\n"
     ]
    }
   ],
   "source": [
    "# Repregunta: ahora con un for loop\n",
    "\n",
    "n = 7\n",
    "factorial = 1\n",
    "\n",
    "for i in range(1, n + 1): # ponemos acá el for\n",
    "    factorial *= i\n",
    "    print(f\"Step {i}: {factorial}\")\n",
    "\n",
    "print(f\"\\nEl factorial de {n} es {factorial}\")"
   ]
  },
  {
   "cell_type": "code",
   "execution_count": null,
   "id": "66a430f8-0a4d-41eb-9468-e69a8828ab57",
   "metadata": {},
   "outputs": [],
   "source": [
    "## PARTE 2 FUNCTIONS"
   ]
  },
  {
   "cell_type": "code",
   "execution_count": 20,
   "id": "ae1f0065-409d-446c-a8ba-2cbad3b706d0",
   "metadata": {},
   "outputs": [],
   "source": [
    "## Pregunta 6: Function with Multiple Returns\n",
    "\n",
    "def analyze_numbers(lst): # se crea la función analyze_numbers\n",
    "    maximum = max(lst)\n",
    "    minimum = min(lst)\n",
    "    average = sum(lst) / len(lst)\n",
    "    return maximum, minimum, average\n"
   ]
  },
  {
   "cell_type": "code",
   "execution_count": 21,
   "id": "cf04de55-84e8-46b0-861c-cbe88e2a286e",
   "metadata": {},
   "outputs": [
    {
     "name": "stdout",
     "output_type": "stream",
     "text": [
      "Maximum: 27\n",
      "Minimum: 2\n",
      "Average: 13.2\n"
     ]
    }
   ],
   "source": [
    "# Repregunta: llamar la función y que otorgue los resultados en tres variables\n",
    "numbers = [15, 2, 27, 3, 19] # lista de ejemplo\n",
    "\n",
    "max_val, min_val, avg_val = analyze_numbers(numbers)\n",
    "\n",
    "print(\"Maximum:\", max_val)\n",
    "print(\"Minimum:\", min_val)\n",
    "print(\"Average:\", avg_val)"
   ]
  }
 ],
 "metadata": {
  "kernelspec": {
   "display_name": "Python [conda env:base] *",
   "language": "python",
   "name": "conda-base-py"
  },
  "language_info": {
   "codemirror_mode": {
    "name": "ipython",
    "version": 3
   },
   "file_extension": ".py",
   "mimetype": "text/x-python",
   "name": "python",
   "nbconvert_exporter": "python",
   "pygments_lexer": "ipython3",
   "version": "3.11.5"
  }
 },
 "nbformat": 4,
 "nbformat_minor": 5
}
