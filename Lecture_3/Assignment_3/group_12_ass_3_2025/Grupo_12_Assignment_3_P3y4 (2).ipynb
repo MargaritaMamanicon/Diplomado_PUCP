{
 "cells": [
  {
   "cell_type": "markdown",
   "id": "2180acdc",
   "metadata": {},
   "source": [
    "### 3) Break statement\n"
   ]
  },
  {
   "cell_type": "markdown",
   "id": "ddb75f27",
   "metadata": {},
   "source": [
    "### Amanda Apaza (Pregunta 3 y 4)"
   ]
  },
  {
   "cell_type": "code",
   "execution_count": 2,
   "id": "784b2b7c",
   "metadata": {},
   "outputs": [
    {
     "name": "stdout",
     "output_type": "stream",
     "text": [
      "Ingresa un número (negativo para salir): 5\n",
      "Recibido: 5.0\n",
      "Ingresa un número (negativo para salir): -10\n",
      "Se ingresó un negativo. Fin del bucle.\n",
      "Números capturados: [5.0]\n"
     ]
    }
   ],
   "source": [
    "capturados = []\n",
    "\n",
    "while True:\n",
    "    s = input(\"Ingresa un número (negativo para salir): \")\n",
    "    try:\n",
    "        x = float(s)\n",
    "    except ValueError:\n",
    "        print(\"Ingresa un valor numérico.\")\n",
    "        continue\n",
    "\n",
    "    if x < 0:\n",
    "        print(\"Se ingresó un negativo. Fin del bucle.\")\n",
    "        break\n",
    "\n",
    "    capturados.append(x)\n",
    "    print(f\"Recibido: {x}\")\n",
    "\n",
    "print(\"Números capturados:\", capturados)\n"
   ]
  },
  {
   "cell_type": "code",
   "execution_count": null,
   "id": "d71148a7",
   "metadata": {},
   "outputs": [],
   "source": []
  },
  {
   "cell_type": "markdown",
   "id": "b80fa8f7",
   "metadata": {},
   "source": [
    "Re-pregunta: ¿Cómo modificarlo para que ignore los negativos en vez de romper?\n"
   ]
  },
  {
   "cell_type": "code",
   "execution_count": 9,
   "id": "a12d48e8",
   "metadata": {},
   "outputs": [
    {
     "name": "stdout",
     "output_type": "stream",
     "text": [
      "Ingresa un número (o 'q' para salir): 56\n",
      "Recibido: 56.0\n",
      "Ingresa un número (o 'q' para salir): q\n",
      "Números capturados: [56.0]\n"
     ]
    }
   ],
   "source": [
    "# Ignorar negativos y salir con 'q'\n",
    "capturados = []\n",
    "\n",
    "while True:\n",
    "    s = input(\"Ingresa un número (o 'q' para salir): \")\n",
    "    if s.lower() in (\"q\", \"quit\", \"exit\"):\n",
    "        break\n",
    "    try:\n",
    "        x = float(s)\n",
    "    except ValueError:\n",
    "        print(\"Ingresa un valor numérico.\")\n",
    "        continue\n",
    "\n",
    "    if x < 0:\n",
    "        print(\"Negativo ignorado.\")\n",
    "        continue\n",
    "\n",
    "    capturados.append(x)\n",
    "    print(f\"Recibido: {x}\")\n",
    "\n",
    "print(\"Números capturados:\", capturados)\n"
   ]
  },
  {
   "cell_type": "code",
   "execution_count": null,
   "id": "1c1b77e6",
   "metadata": {},
   "outputs": [],
   "source": []
  },
  {
   "cell_type": "markdown",
   "id": "3b9ad39b",
   "metadata": {},
   "source": [
    "### 4) Try–Except Block"
   ]
  },
  {
   "cell_type": "code",
   "execution_count": 6,
   "id": "9de387a5",
   "metadata": {},
   "outputs": [
    {
     "name": "stdout",
     "output_type": "stream",
     "text": [
      "Divisor de 100: 50\n",
      "100 / 50.0 = 2.0\n"
     ]
    }
   ],
   "source": [
    "# 4) Try–Except (versión simple)\n",
    "s = input(\"Divisor de 100: \")\n",
    "try:\n",
    "    n = float(s)\n",
    "    print(f\"100 / {n} = {100 / n}\")\n",
    "except ValueError:\n",
    "    print(\"Debes ingresar un número.\")\n",
    "except ZeroDivisionError:\n",
    "    print(\"No se puede dividir entre 0.\")\n"
   ]
  },
  {
   "cell_type": "code",
   "execution_count": null,
   "id": "6dcef3a2",
   "metadata": {},
   "outputs": [],
   "source": []
  },
  {
   "cell_type": "code",
   "execution_count": null,
   "id": "a31d11af",
   "metadata": {},
   "outputs": [],
   "source": [
    "### Re-pregunta: ¿Cómo mejorarlo para que siga preguntando hasta que el input sea válido?"
   ]
  },
  {
   "cell_type": "code",
   "execution_count": 8,
   "id": "e76c5600",
   "metadata": {},
   "outputs": [
    {
     "name": "stdout",
     "output_type": "stream",
     "text": [
      "Divisor de 100 (distinto de 0): 100\n",
      "100 / 100.0 = 1.0\n"
     ]
    }
   ],
   "source": [
    "# 4) Try–Except (seguir preguntando hasta ser válido)\n",
    "while True:\n",
    "    s = input(\"Divisor de 100 (distinto de 0): \")\n",
    "    try:\n",
    "        n = float(s)\n",
    "        resultado = 100 / n   # lanza ZeroDivisionError si n == 0\n",
    "        print(f\"100 / {n} = {resultado}\")\n",
    "        break\n",
    "    except ValueError:\n",
    "        print(\" No numérico. Intenta de nuevo.\")\n",
    "    except ZeroDivisionError:\n",
    "        print(\" No se puede dividir entre 0. Intenta de nuevo.\")\n"
   ]
  },
  {
   "cell_type": "code",
   "execution_count": null,
   "id": "e28e8b9f",
   "metadata": {},
   "outputs": [],
   "source": []
  }
 ],
 "metadata": {
  "kernelspec": {
   "display_name": "Python 3 (ipykernel)",
   "language": "python",
   "name": "python3"
  },
  "language_info": {
   "codemirror_mode": {
    "name": "ipython",
    "version": 3
   },
   "file_extension": ".py",
   "mimetype": "text/x-python",
   "name": "python",
   "nbconvert_exporter": "python",
   "pygments_lexer": "ipython3",
   "version": "3.11.5"
  }
 },
 "nbformat": 4,
 "nbformat_minor": 5
}
