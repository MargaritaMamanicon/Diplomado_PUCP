{
 "cells": [
  {
   "cell_type": "code",
   "execution_count": 2,
   "id": "e5d856ec-3dfe-4c8e-a2bb-8a5999b9237a",
   "metadata": {},
   "outputs": [
    {
     "name": "stdout",
     "output_type": "stream",
     "text": [
      "Marca: Toyota, Modelo: Corolla, Año: 2020\n",
      "Marca: Honda, Modelo: Civic, Año: 2022\n"
     ]
    }
   ],
   "source": [
    "#Pregunta 9:\n",
    "class Car:\n",
    "    def __init__(self, brand, model, year):\n",
    "        self.brand = brand\n",
    "        self.model = model\n",
    "        self.year = year\n",
    "\n",
    "    def display_info(self):\n",
    "        print(f\"Marca: {self.brand}, Modelo: {self.model}, Año: {self.year}\")\n",
    "\n",
    "# Creamos dos objetos al azar\n",
    "car1 = Car(\"Toyota\", \"Corolla\", 2020)\n",
    "car2 = Car(\"Honda\", \"Civic\", 2022)\n",
    "\n",
    "# Usamos el método\n",
    "car1.display_info()\n",
    "car2.display_info()"
   ]
  },
  {
   "cell_type": "code",
   "execution_count": 3,
   "id": "a14d115c-c970-4c1f-afc7-12e08c97816d",
   "metadata": {},
   "outputs": [
    {
     "name": "stdout",
     "output_type": "stream",
     "text": [
      "Ana Passed\n",
      "Luis Failed\n"
     ]
    }
   ],
   "source": [
    "#Pregunta 10: usamos _init_ y self\n",
    "\n",
    "class Student:\n",
    "    def __init__(self, name, age, grade):\n",
    "        self.name = name\n",
    "        self.age = age\n",
    "        self.grade = grade\n",
    "\n",
    "    def is_passed(self):\n",
    "        if self.grade >= 11:\n",
    "            return \"Passed\"\n",
    "        else:\n",
    "            return \"Failed\"\n",
    "\n",
    "# Ejemplo\n",
    "student1 = Student(\"Ana\", 20, 15)\n",
    "student2 = Student(\"Luis\", 19, 9)\n",
    "\n",
    "print(student1.name, student1.is_passed())\n",
    "print(student2.name, student2.is_passed())"
   ]
  },
  {
   "cell_type": "code",
   "execution_count": null,
   "id": "fb7ebc1e-f520-4a5d-9745-2b98c4a02ebc",
   "metadata": {},
   "outputs": [],
   "source": []
  }
 ],
 "metadata": {
  "kernelspec": {
   "display_name": "Python [conda env:base] *",
   "language": "python",
   "name": "conda-base-py"
  },
  "language_info": {
   "codemirror_mode": {
    "name": "ipython",
    "version": 3
   },
   "file_extension": ".py",
   "mimetype": "text/x-python",
   "name": "python",
   "nbconvert_exporter": "python",
   "pygments_lexer": "ipython3",
   "version": "3.11.4"
  }
 },
 "nbformat": 4,
 "nbformat_minor": 5
}
