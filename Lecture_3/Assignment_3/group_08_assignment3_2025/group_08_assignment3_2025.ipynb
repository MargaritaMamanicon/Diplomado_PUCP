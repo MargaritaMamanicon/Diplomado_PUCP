{
 "cells": [
  {
   "cell_type": "markdown",
   "id": "77e0715f",
   "metadata": {},
   "source": [
    "# Group Members:\n",
    "Wilman Pacheco\n",
    "\n",
    "Margarita Mamani Condori\n",
    "\n",
    "Luis Guillermo Contreras\n",
    "\n",
    "Diego Almenara Espino"
   ]
  },
  {
   "cell_type": "markdown",
   "id": "6c514675",
   "metadata": {},
   "source": [
    "# Part 1: Loops"
   ]
  },
  {
   "cell_type": "markdown",
   "id": "5a612d0f",
   "metadata": {},
   "source": [
    "### 1. Pass Statement\n",
    "\n",
    "- Write a for loop that iterates through numbers from 1 to 10.\n",
    "\n"
   ]
  },
  {
   "cell_type": "code",
   "execution_count": 1,
   "id": "cbab0735",
   "metadata": {},
   "outputs": [
    {
     "name": "stdout",
     "output_type": "stream",
     "text": [
      "1\n",
      "2\n",
      "3\n",
      "4\n",
      "5\n",
      "6\n",
      "7\n",
      "8\n",
      "9\n",
      "10\n"
     ]
    }
   ],
   "source": [
    "for i in range(1, 11):\n",
    "    print(i)"
   ]
  },
  {
   "cell_type": "markdown",
   "id": "f083a8a7",
   "metadata": {},
   "source": [
    "- Use the pass statement when the number is even, and print only the odd numbers."
   ]
  },
  {
   "cell_type": "code",
   "execution_count": 2,
   "id": "b8ac8780",
   "metadata": {},
   "outputs": [
    {
     "name": "stdout",
     "output_type": "stream",
     "text": [
      "1\n",
      "3\n",
      "5\n",
      "7\n",
      "9\n"
     ]
    }
   ],
   "source": [
    "for i in range(1,11):\n",
    "    if i % 2 == 0:\n",
    "        pass\n",
    "    else:\n",
    "        print(i)"
   ]
  },
  {
   "cell_type": "markdown",
   "id": "673d2cc8",
   "metadata": {},
   "source": [
    "- Re-question: What would happen if you remove the pass statement?"
   ]
  },
  {
   "cell_type": "code",
   "execution_count": 3,
   "id": "52dff228",
   "metadata": {},
   "outputs": [
    {
     "ename": "IndentationError",
     "evalue": "expected an indented block after 'if' statement on line 2 (436367389.py, line 3)",
     "output_type": "error",
     "traceback": [
      "\u001b[0;36m  Cell \u001b[0;32mIn[3], line 3\u001b[0;36m\u001b[0m\n",
      "\u001b[0;31m    else:\u001b[0m\n",
      "\u001b[0m    ^\u001b[0m\n",
      "\u001b[0;31mIndentationError\u001b[0m\u001b[0;31m:\u001b[0m expected an indented block after 'if' statement on line 2\n"
     ]
    }
   ],
   "source": [
    "for i in range(1,11):\n",
    "    if i % 2 == 0:\n",
    "    else:\n",
    "        print(i)"
   ]
  },
  {
   "cell_type": "markdown",
   "id": "144bd583",
   "metadata": {},
   "source": [
    "As we can see if we remove the **pass** statement the conditional *if* will get an error."
   ]
  },
  {
   "cell_type": "markdown",
   "id": "7df1c5c3",
   "metadata": {},
   "source": [
    "### 2. Continue Statement"
   ]
  },
  {
   "cell_type": "markdown",
   "id": "4c710d67",
   "metadata": {},
   "source": [
    "Create a loop that goes through the string \"pythonloops\".\n",
    "\n",
    "- Skip the letters \"o\" using the continue statement and print the remaining letters.\n"
   ]
  },
  {
   "cell_type": "code",
   "execution_count": 4,
   "id": "aaabe017",
   "metadata": {},
   "outputs": [
    {
     "name": "stdout",
     "output_type": "stream",
     "text": [
      "p\n",
      "y\n",
      "t\n",
      "h\n",
      "n\n",
      "l\n",
      "p\n",
      "s\n"
     ]
    }
   ],
   "source": [
    "x = \"pythonloops\"\n",
    "\n",
    "for i in x:\n",
    "    if i == \"o\":\n",
    "        continue\n",
    "    else:\n",
    "        print(i)\n",
    "\n"
   ]
  },
  {
   "cell_type": "markdown",
   "id": "8a3ad44f",
   "metadata": {},
   "source": [
    "- Re-question: How would you achieve the same result without using continue?"
   ]
  },
  {
   "cell_type": "code",
   "execution_count": 5,
   "id": "1e653fcf",
   "metadata": {},
   "outputs": [
    {
     "name": "stdout",
     "output_type": "stream",
     "text": [
      "p\n",
      "y\n",
      "t\n",
      "h\n",
      "n\n",
      "l\n",
      "p\n",
      "s\n"
     ]
    }
   ],
   "source": [
    "x = \"pythonloops\"\n",
    "\n",
    "for i in x:\n",
    "    if i == \"o\":\n",
    "        pass\n",
    "    else:\n",
    "        print(i)\n"
   ]
  },
  {
   "cell_type": "markdown",
   "id": "d60a5201",
   "metadata": {},
   "source": [
    "### 3. Break Statement"
   ]
  },
  {
   "cell_type": "markdown",
   "id": "ea4346d9",
   "metadata": {},
   "source": [
    "Write a while loop that keeps asking the user to input numbers.\n",
    "\n",
    "- Break the loop if the user enters a negative number."
   ]
  },
  {
   "cell_type": "code",
   "execution_count": 1,
   "id": "52433499",
   "metadata": {},
   "outputs": [
    {
     "name": "stdout",
     "output_type": "stream",
     "text": [
      "Congrats 3 is a positive number\n",
      "The number -5 is NOT positive\n"
     ]
    }
   ],
   "source": [
    "while True:\n",
    "    a = int(input(\"Write only a positive a number:\" ))\n",
    "    if a < 0:\n",
    "        print(f\"The number {a} is NOT positive\")\n",
    "        break\n",
    "    else:\n",
    "        print(f\"Congrats {a} is a positive number\")\n"
   ]
  },
  {
   "cell_type": "markdown",
   "id": "ae19d6ff",
   "metadata": {},
   "source": [
    "- Re-question: How can you modify the loop so it ignores negative numbers instead of breaking?"
   ]
  },
  {
   "cell_type": "code",
   "execution_count": 2,
   "id": "42c21e49",
   "metadata": {},
   "outputs": [
    {
     "name": "stdout",
     "output_type": "stream",
     "text": [
      "Congrats 2 is a positive number\n"
     ]
    },
    {
     "ename": "KeyboardInterrupt",
     "evalue": "Interrupted by user",
     "output_type": "error",
     "traceback": [
      "\u001b[0;31m---------------------------------------------------------------------------\u001b[0m\n",
      "\u001b[0;31mKeyboardInterrupt\u001b[0m                         Traceback (most recent call last)\n",
      "Cell \u001b[0;32mIn[2], line 2\u001b[0m\n",
      "\u001b[1;32m      1\u001b[0m \u001b[38;5;28;01mwhile\u001b[39;00m \u001b[38;5;28;01mTrue\u001b[39;00m:\n",
      "\u001b[0;32m----> 2\u001b[0m     a \u001b[38;5;241m=\u001b[39m \u001b[38;5;28mint\u001b[39m(\u001b[38;5;28;43minput\u001b[39;49m\u001b[43m(\u001b[49m\u001b[38;5;124;43m\"\u001b[39;49m\u001b[38;5;124;43mWrite only a positive a number:\u001b[39;49m\u001b[38;5;124;43m\"\u001b[39;49m\u001b[43m \u001b[49m\u001b[43m)\u001b[49m)\n",
      "\u001b[1;32m      3\u001b[0m     \u001b[38;5;28;01mif\u001b[39;00m a \u001b[38;5;241m<\u001b[39m \u001b[38;5;241m0\u001b[39m:\n",
      "\u001b[1;32m      4\u001b[0m         \u001b[38;5;28;01mpass\u001b[39;00m\n",
      "\n",
      "File \u001b[0;32m/Applications/Positron.app/Contents/Resources/app/extensions/positron-python/python_files/lib/ipykernel/py3/ipykernel/kernelbase.py:1282\u001b[0m, in \u001b[0;36mKernel.raw_input\u001b[0;34m(self, prompt)\u001b[0m\n",
      "\u001b[1;32m   1280\u001b[0m     msg \u001b[38;5;241m=\u001b[39m \u001b[38;5;124m\"\u001b[39m\u001b[38;5;124mraw_input was called, but this frontend does not support input requests.\u001b[39m\u001b[38;5;124m\"\u001b[39m\n",
      "\u001b[1;32m   1281\u001b[0m     \u001b[38;5;28;01mraise\u001b[39;00m StdinNotImplementedError(msg)\n",
      "\u001b[0;32m-> 1282\u001b[0m \u001b[38;5;28;01mreturn\u001b[39;00m \u001b[38;5;28;43mself\u001b[39;49m\u001b[38;5;241;43m.\u001b[39;49m\u001b[43m_input_request\u001b[49m\u001b[43m(\u001b[49m\n",
      "\u001b[1;32m   1283\u001b[0m \u001b[43m    \u001b[49m\u001b[38;5;28;43mstr\u001b[39;49m\u001b[43m(\u001b[49m\u001b[43mprompt\u001b[49m\u001b[43m)\u001b[49m\u001b[43m,\u001b[49m\n",
      "\u001b[1;32m   1284\u001b[0m \u001b[43m    \u001b[49m\u001b[38;5;28;43mself\u001b[39;49m\u001b[38;5;241;43m.\u001b[39;49m\u001b[43m_parent_ident\u001b[49m\u001b[43m[\u001b[49m\u001b[38;5;124;43m\"\u001b[39;49m\u001b[38;5;124;43mshell\u001b[39;49m\u001b[38;5;124;43m\"\u001b[39;49m\u001b[43m]\u001b[49m\u001b[43m,\u001b[49m\n",
      "\u001b[1;32m   1285\u001b[0m \u001b[43m    \u001b[49m\u001b[38;5;28;43mself\u001b[39;49m\u001b[38;5;241;43m.\u001b[39;49m\u001b[43mget_parent\u001b[49m\u001b[43m(\u001b[49m\u001b[38;5;124;43m\"\u001b[39;49m\u001b[38;5;124;43mshell\u001b[39;49m\u001b[38;5;124;43m\"\u001b[39;49m\u001b[43m)\u001b[49m\u001b[43m,\u001b[49m\n",
      "\u001b[1;32m   1286\u001b[0m \u001b[43m    \u001b[49m\u001b[43mpassword\u001b[49m\u001b[38;5;241;43m=\u001b[39;49m\u001b[38;5;28;43;01mFalse\u001b[39;49;00m\u001b[43m,\u001b[49m\n",
      "\u001b[1;32m   1287\u001b[0m \u001b[43m\u001b[49m\u001b[43m)\u001b[49m\n",
      "\n",
      "File \u001b[0;32m/Applications/Positron.app/Contents/Resources/app/extensions/positron-python/python_files/lib/ipykernel/py3/ipykernel/kernelbase.py:1325\u001b[0m, in \u001b[0;36mKernel._input_request\u001b[0;34m(self, prompt, ident, parent, password)\u001b[0m\n",
      "\u001b[1;32m   1322\u001b[0m \u001b[38;5;28;01mexcept\u001b[39;00m \u001b[38;5;167;01mKeyboardInterrupt\u001b[39;00m:\n",
      "\u001b[1;32m   1323\u001b[0m     \u001b[38;5;66;03m# re-raise KeyboardInterrupt, to truncate traceback\u001b[39;00m\n",
      "\u001b[1;32m   1324\u001b[0m     msg \u001b[38;5;241m=\u001b[39m \u001b[38;5;124m\"\u001b[39m\u001b[38;5;124mInterrupted by user\u001b[39m\u001b[38;5;124m\"\u001b[39m\n",
      "\u001b[0;32m-> 1325\u001b[0m     \u001b[38;5;28;01mraise\u001b[39;00m \u001b[38;5;167;01mKeyboardInterrupt\u001b[39;00m(msg) \u001b[38;5;28;01mfrom\u001b[39;00m\u001b[38;5;250m \u001b[39m\u001b[38;5;28;01mNone\u001b[39;00m\n",
      "\u001b[1;32m   1326\u001b[0m \u001b[38;5;28;01mexcept\u001b[39;00m \u001b[38;5;167;01mException\u001b[39;00m:\n",
      "\u001b[1;32m   1327\u001b[0m     \u001b[38;5;28mself\u001b[39m\u001b[38;5;241m.\u001b[39mlog\u001b[38;5;241m.\u001b[39mwarning(\u001b[38;5;124m\"\u001b[39m\u001b[38;5;124mInvalid Message:\u001b[39m\u001b[38;5;124m\"\u001b[39m, exc_info\u001b[38;5;241m=\u001b[39m\u001b[38;5;28;01mTrue\u001b[39;00m)\n",
      "\n",
      "\u001b[0;31mKeyboardInterrupt\u001b[0m: Interrupted by user"
     ]
    }
   ],
   "source": [
    "while True:\n",
    "    a = int(input(\"Write only a positive a number:\" ))\n",
    "    if a < 0:\n",
    "        pass\n",
    "    else:\n",
    "        print(f\"Congrats {a} is a positive number\")"
   ]
  },
  {
   "cell_type": "markdown",
   "id": "ed73e350",
   "metadata": {},
   "source": [
    "### 4. Try-Except Block"
   ]
  },
  {
   "cell_type": "markdown",
   "id": "11410167",
   "metadata": {},
   "source": [
    "Write a loop that asks the user to input a number and divides 100 by that number.\n",
    "\n",
    "- Use a try-except block to handle the case when the user inputs 0 or a non-numeric value.\n",
    "\n"
   ]
  },
  {
   "cell_type": "code",
   "execution_count": 3,
   "id": "cfa04f6b",
   "metadata": {},
   "outputs": [
    {
     "name": "stdout",
     "output_type": "stream",
     "text": [
      "33.333333333333336\n",
      "2.0\n",
      "You can only write a number\n",
      "You cannot divide by 0\n"
     ]
    },
    {
     "ename": "KeyboardInterrupt",
     "evalue": "Interrupted by user",
     "output_type": "error",
     "traceback": [
      "\u001b[0;31m---------------------------------------------------------------------------\u001b[0m\n",
      "\u001b[0;31mKeyboardInterrupt\u001b[0m                         Traceback (most recent call last)\n",
      "Cell \u001b[0;32mIn[3], line 3\u001b[0m\n",
      "\u001b[1;32m      1\u001b[0m \u001b[38;5;28;01mwhile\u001b[39;00m \u001b[38;5;28;01mTrue\u001b[39;00m:\n",
      "\u001b[1;32m      2\u001b[0m     \u001b[38;5;28;01mtry\u001b[39;00m:\n",
      "\u001b[0;32m----> 3\u001b[0m         b \u001b[38;5;241m=\u001b[39m \u001b[38;5;28mint\u001b[39m(\u001b[38;5;28;43minput\u001b[39;49m\u001b[43m(\u001b[49m\u001b[38;5;124;43m\"\u001b[39;49m\u001b[38;5;124;43mWrite a number:\u001b[39;49m\u001b[38;5;124;43m\"\u001b[39;49m\u001b[43m \u001b[49m\u001b[43m)\u001b[49m)\n",
      "\u001b[1;32m      4\u001b[0m         c \u001b[38;5;241m=\u001b[39m \u001b[38;5;241m100\u001b[39m \u001b[38;5;241m/\u001b[39m b\n",
      "\u001b[1;32m      5\u001b[0m         \u001b[38;5;28mprint\u001b[39m(c)\n",
      "\n",
      "File \u001b[0;32m/Applications/Positron.app/Contents/Resources/app/extensions/positron-python/python_files/lib/ipykernel/py3/ipykernel/kernelbase.py:1282\u001b[0m, in \u001b[0;36mKernel.raw_input\u001b[0;34m(self, prompt)\u001b[0m\n",
      "\u001b[1;32m   1280\u001b[0m     msg \u001b[38;5;241m=\u001b[39m \u001b[38;5;124m\"\u001b[39m\u001b[38;5;124mraw_input was called, but this frontend does not support input requests.\u001b[39m\u001b[38;5;124m\"\u001b[39m\n",
      "\u001b[1;32m   1281\u001b[0m     \u001b[38;5;28;01mraise\u001b[39;00m StdinNotImplementedError(msg)\n",
      "\u001b[0;32m-> 1282\u001b[0m \u001b[38;5;28;01mreturn\u001b[39;00m \u001b[38;5;28;43mself\u001b[39;49m\u001b[38;5;241;43m.\u001b[39;49m\u001b[43m_input_request\u001b[49m\u001b[43m(\u001b[49m\n",
      "\u001b[1;32m   1283\u001b[0m \u001b[43m    \u001b[49m\u001b[38;5;28;43mstr\u001b[39;49m\u001b[43m(\u001b[49m\u001b[43mprompt\u001b[49m\u001b[43m)\u001b[49m\u001b[43m,\u001b[49m\n",
      "\u001b[1;32m   1284\u001b[0m \u001b[43m    \u001b[49m\u001b[38;5;28;43mself\u001b[39;49m\u001b[38;5;241;43m.\u001b[39;49m\u001b[43m_parent_ident\u001b[49m\u001b[43m[\u001b[49m\u001b[38;5;124;43m\"\u001b[39;49m\u001b[38;5;124;43mshell\u001b[39;49m\u001b[38;5;124;43m\"\u001b[39;49m\u001b[43m]\u001b[49m\u001b[43m,\u001b[49m\n",
      "\u001b[1;32m   1285\u001b[0m \u001b[43m    \u001b[49m\u001b[38;5;28;43mself\u001b[39;49m\u001b[38;5;241;43m.\u001b[39;49m\u001b[43mget_parent\u001b[49m\u001b[43m(\u001b[49m\u001b[38;5;124;43m\"\u001b[39;49m\u001b[38;5;124;43mshell\u001b[39;49m\u001b[38;5;124;43m\"\u001b[39;49m\u001b[43m)\u001b[49m\u001b[43m,\u001b[49m\n",
      "\u001b[1;32m   1286\u001b[0m \u001b[43m    \u001b[49m\u001b[43mpassword\u001b[49m\u001b[38;5;241;43m=\u001b[39;49m\u001b[38;5;28;43;01mFalse\u001b[39;49;00m\u001b[43m,\u001b[49m\n",
      "\u001b[1;32m   1287\u001b[0m \u001b[43m\u001b[49m\u001b[43m)\u001b[49m\n",
      "\n",
      "File \u001b[0;32m/Applications/Positron.app/Contents/Resources/app/extensions/positron-python/python_files/lib/ipykernel/py3/ipykernel/kernelbase.py:1325\u001b[0m, in \u001b[0;36mKernel._input_request\u001b[0;34m(self, prompt, ident, parent, password)\u001b[0m\n",
      "\u001b[1;32m   1322\u001b[0m \u001b[38;5;28;01mexcept\u001b[39;00m \u001b[38;5;167;01mKeyboardInterrupt\u001b[39;00m:\n",
      "\u001b[1;32m   1323\u001b[0m     \u001b[38;5;66;03m# re-raise KeyboardInterrupt, to truncate traceback\u001b[39;00m\n",
      "\u001b[1;32m   1324\u001b[0m     msg \u001b[38;5;241m=\u001b[39m \u001b[38;5;124m\"\u001b[39m\u001b[38;5;124mInterrupted by user\u001b[39m\u001b[38;5;124m\"\u001b[39m\n",
      "\u001b[0;32m-> 1325\u001b[0m     \u001b[38;5;28;01mraise\u001b[39;00m \u001b[38;5;167;01mKeyboardInterrupt\u001b[39;00m(msg) \u001b[38;5;28;01mfrom\u001b[39;00m\u001b[38;5;250m \u001b[39m\u001b[38;5;28;01mNone\u001b[39;00m\n",
      "\u001b[1;32m   1326\u001b[0m \u001b[38;5;28;01mexcept\u001b[39;00m \u001b[38;5;167;01mException\u001b[39;00m:\n",
      "\u001b[1;32m   1327\u001b[0m     \u001b[38;5;28mself\u001b[39m\u001b[38;5;241m.\u001b[39mlog\u001b[38;5;241m.\u001b[39mwarning(\u001b[38;5;124m\"\u001b[39m\u001b[38;5;124mInvalid Message:\u001b[39m\u001b[38;5;124m\"\u001b[39m, exc_info\u001b[38;5;241m=\u001b[39m\u001b[38;5;28;01mTrue\u001b[39;00m)\n",
      "\n",
      "\u001b[0;31mKeyboardInterrupt\u001b[0m: Interrupted by user"
     ]
    }
   ],
   "source": [
    "while True:\n",
    "    try:\n",
    "        b = int(input(\"Write a number:\" ))\n",
    "        c = 100 / b\n",
    "        print(c)\n",
    "    except ValueError:\n",
    "        print(\"You can only write a number\")\n",
    "    except ZeroDivisionError:\n",
    "        print(\"You cannot divide by 0\")\n",
    "    \n",
    "\n"
   ]
  },
  {
   "cell_type": "markdown",
   "id": "09ef078e",
   "metadata": {},
   "source": [
    "- Re-question: How would you improve the code to keep asking until a valid input is provided?"
   ]
  },
  {
   "cell_type": "code",
   "execution_count": 5,
   "id": "cb7b1340",
   "metadata": {},
   "outputs": [
    {
     "name": "stdout",
     "output_type": "stream",
     "text": [
      "You cannot divide by 0\n",
      "10.0\n"
     ]
    }
   ],
   "source": [
    "while True:\n",
    "    try:\n",
    "        b = int(input(\"Write a number:\" ))\n",
    "        c = 100 / b\n",
    "        print(c)\n",
    "        break\n",
    "    except ValueError:\n",
    "        print(\"You can only write a number\")\n",
    "    except ZeroDivisionError:\n",
    "        print(\"You cannot divide by 0\")\n",
    "    "
   ]
  },
  {
   "cell_type": "markdown",
   "id": "9f8382f1",
   "metadata": {},
   "source": [
    "### 5. While Loop Structure\n",
    "\n",
    "Write a while loop that calculates the factorial of a given number n.\n",
    "\n",
    "- Print each intermediate step of the factorial calculation.\n",
    "\n"
   ]
  },
  {
   "cell_type": "code",
   "execution_count": 6,
   "id": "b897ab64",
   "metadata": {},
   "outputs": [
    {
     "name": "stdout",
     "output_type": "stream",
     "text": [
      "From 1 to 1 | Result: 1\n",
      "From 1 to 2 | Result: 2\n",
      "From 1 to 3 | Result: 6\n",
      "From 1 to 4 | Result: 24\n",
      "From 1 to 5 | Result: 120\n"
     ]
    }
   ],
   "source": [
    "num = int(input(\"Write a number:\"))\n",
    "\n",
    "cont = 1\n",
    "\n",
    "oc = 1\n",
    "while cont <= num:\n",
    "    \n",
    "    oc = oc * cont\n",
    "\n",
    "    print(f\"From 1 to {cont} | Result: {oc}\")\n",
    "\n",
    "    cont += 1\n"
   ]
  },
  {
   "cell_type": "markdown",
   "id": "57fbd598",
   "metadata": {},
   "source": [
    "\n",
    "- Re-question: How would you implement the same factorial calculation using a for loop instead?"
   ]
  },
  {
   "cell_type": "code",
   "execution_count": 7,
   "id": "8ec8696b",
   "metadata": {},
   "outputs": [
    {
     "name": "stdout",
     "output_type": "stream",
     "text": [
      "From 1 to 1 | Result: 1 \n",
      "From 1 to 2 | Result: 2 \n",
      "From 1 to 3 | Result: 6 \n",
      "From 1 to 4 | Result: 24 \n",
      "From 1 to 5 | Result: 120 \n"
     ]
    }
   ],
   "source": [
    "number = int(input(\"Write a number: \"))\n",
    "output = 1\n",
    "\n",
    "for i in range(1, number + 1):\n",
    "    output = output * i\n",
    "    print(f\"From 1 to {i} | Result: {output} \")"
   ]
  },
  {
   "cell_type": "markdown",
   "id": "5173d453",
   "metadata": {},
   "source": [
    "# Part 2: Functions"
   ]
  },
  {
   "cell_type": "markdown",
   "id": "bbf1fa8d",
   "metadata": {},
   "source": [
    "### 6. Function with Multiple Returns\n",
    "\n",
    "Write a function analyze_numbers(lst) that takes a list of numbers and returns:\n",
    "\n",
    "The maximum value\n",
    "\n",
    "The minimum value\n",
    "\n",
    "The average value\n",
    "\n"
   ]
  },
  {
   "cell_type": "code",
   "execution_count": 8,
   "id": "ab914727",
   "metadata": {},
   "outputs": [
    {
     "data": {
      "text/plain": [
       "(5, 1, 3.0)"
      ]
     },
     "execution_count": null,
     "metadata": {},
     "output_type": "execute_result"
    }
   ],
   "source": [
    "num_list = [1,2,3,4,5]\n",
    "\n",
    "def analyze_number(lst):\n",
    "\n",
    "    maximun = max(lst)\n",
    "    minimun = min(lst)\n",
    "    average = sum(lst)/len(lst)\n",
    "\n",
    "    return maximun, minimun, average\n",
    "\n",
    "analyze_number(num_list)"
   ]
  },
  {
   "cell_type": "markdown",
   "id": "dd3b7866",
   "metadata": {},
   "source": [
    "- Re-question: How would you call this function and unpack the results into three variables?"
   ]
  },
  {
   "cell_type": "code",
   "execution_count": 9,
   "id": "597dca9e",
   "metadata": {},
   "outputs": [
    {
     "name": "stdout",
     "output_type": "stream",
     "text": [
      "5\n",
      "1\n",
      "3.0\n"
     ]
    }
   ],
   "source": [
    "max_val, min_val, avr_val = analyze_number(num_list)\n",
    "\n",
    "print(max_val)\n",
    "print(min_val)\n",
    "print(avr_val)"
   ]
  },
  {
   "cell_type": "markdown",
   "id": "5379a2f6",
   "metadata": {},
   "source": [
    "### 7. Function with Default Parameters\n",
    "\n",
    "Create a function greet(name, message=\"Hello\") that prints a greeting.\n",
    "\n",
    "- Call the function with and without the message parameter.\n"
   ]
  },
  {
   "cell_type": "code",
   "execution_count": 10,
   "id": "304b449f",
   "metadata": {},
   "outputs": [
    {
     "name": "stdout",
     "output_type": "stream",
     "text": [
      "Hello Ricardo\n",
      "Hello Ricardo\n"
     ]
    }
   ],
   "source": [
    "def greet(name, message = \"Hello\"):\n",
    "    print(message + \" \" + name)\n",
    "\n",
    "greet(\"Ricardo\", message = \"Hello\")\n",
    "greet(\"Ricardo\")\n"
   ]
  },
  {
   "cell_type": "markdown",
   "id": "c9de48bb",
   "metadata": {},
   "source": [
    "- Re-question: How does Python decide which value to use for message when it is not provided?"
   ]
  },
  {
   "cell_type": "markdown",
   "id": "5e724b97",
   "metadata": {},
   "source": [
    "Python uses the default parameter that already was set in the function"
   ]
  },
  {
   "cell_type": "markdown",
   "id": "c3d16f26",
   "metadata": {},
   "source": [
    "### 8. Function with Type Hints\n",
    "Write a function multiply(a: int, b: int) -> int that returns the product of two integers.\n",
    "\n",
    "- Test the function with both integers and strings.\n"
   ]
  },
  {
   "cell_type": "code",
   "execution_count": 11,
   "id": "5372fede",
   "metadata": {},
   "outputs": [],
   "source": [
    "def multiply(a: int, b: int) -> int:\n",
    "    r = a * b\n",
    "    return r"
   ]
  },
  {
   "cell_type": "code",
   "execution_count": 12,
   "id": "c9d20ba0",
   "metadata": {},
   "outputs": [
    {
     "data": {
      "text/plain": [
       "15"
      ]
     },
     "execution_count": null,
     "metadata": {},
     "output_type": "execute_result"
    }
   ],
   "source": [
    "#  test with intefers\n",
    "multiply(3, 5)"
   ]
  },
  {
   "cell_type": "code",
   "execution_count": 13,
   "id": "15ddd886",
   "metadata": {},
   "outputs": [
    {
     "ename": "TypeError",
     "evalue": "can't multiply sequence by non-int of type 'str'",
     "output_type": "error",
     "traceback": [
      "\u001b[0;31m---------------------------------------------------------------------------\u001b[0m\n",
      "\u001b[0;31mTypeError\u001b[0m                                 Traceback (most recent call last)\n",
      "Cell \u001b[0;32mIn[13], line 2\u001b[0m\n",
      "\u001b[1;32m      1\u001b[0m \u001b[38;5;66;03m# test with str\u001b[39;00m\n",
      "\u001b[0;32m----> 2\u001b[0m \u001b[43mmultiply\u001b[49m\u001b[43m(\u001b[49m\u001b[43ma\u001b[49m\u001b[43m \u001b[49m\u001b[38;5;241;43m=\u001b[39;49m\u001b[43m \u001b[49m\u001b[38;5;124;43m\"\u001b[39;49m\u001b[38;5;124;43mthree\u001b[39;49m\u001b[38;5;124;43m\"\u001b[39;49m\u001b[43m,\u001b[49m\u001b[43m \u001b[49m\u001b[43mb\u001b[49m\u001b[43m \u001b[49m\u001b[38;5;241;43m=\u001b[39;49m\u001b[43m \u001b[49m\u001b[38;5;124;43m\"\u001b[39;49m\u001b[38;5;124;43mfive\u001b[39;49m\u001b[38;5;124;43m\"\u001b[39;49m\u001b[43m)\u001b[49m\n",
      "\n",
      "Cell \u001b[0;32mIn[11], line 2\u001b[0m, in \u001b[0;36mmultiply\u001b[0;34m(a, b)\u001b[0m\n",
      "\u001b[1;32m      1\u001b[0m \u001b[38;5;28;01mdef\u001b[39;00m\u001b[38;5;250m \u001b[39m\u001b[38;5;21mmultiply\u001b[39m(a: \u001b[38;5;28mint\u001b[39m, b: \u001b[38;5;28mint\u001b[39m) \u001b[38;5;241m-\u001b[39m\u001b[38;5;241m>\u001b[39m \u001b[38;5;28mint\u001b[39m:\n",
      "\u001b[0;32m----> 2\u001b[0m     r \u001b[38;5;241m=\u001b[39m \u001b[43ma\u001b[49m\u001b[43m \u001b[49m\u001b[38;5;241;43m*\u001b[39;49m\u001b[43m \u001b[49m\u001b[43mb\u001b[49m\n",
      "\u001b[1;32m      3\u001b[0m     \u001b[38;5;28;01mreturn\u001b[39;00m r\n",
      "\n",
      "\u001b[0;31mTypeError\u001b[0m: can't multiply sequence by non-int of type 'str'"
     ]
    }
   ],
   "source": [
    "# test with str\n",
    "multiply(a = \"three\", b = \"five\")"
   ]
  },
  {
   "cell_type": "markdown",
   "id": "92a5be3c",
   "metadata": {},
   "source": [
    "- Re-question: What happens if you pass strings, and why?"
   ]
  },
  {
   "cell_type": "markdown",
   "id": "06d44285",
   "metadata": {},
   "source": [
    "When you pass a string you'll get an error because you cant get the product of two strings"
   ]
  },
  {
   "cell_type": "markdown",
   "id": "1c1164cb",
   "metadata": {},
   "source": [
    "# Part 3: Classes"
   ]
  },
  {
   "cell_type": "markdown",
   "id": "7f22a367",
   "metadata": {},
   "source": [
    "### 9. Class with Attributes and Methods\n",
    "Define a class Car with attributes brand, model, and year.\n",
    "\n",
    "- Add a method display_info() that prints the car’s details.\n"
   ]
  },
  {
   "cell_type": "code",
   "execution_count": 14,
   "id": "b6478ce1",
   "metadata": {},
   "outputs": [
    {
     "name": "stdout",
     "output_type": "stream",
     "text": [
      "Nissan is the car's brand, Skyline GTR is the model and is from the 2000.\n"
     ]
    }
   ],
   "source": [
    "class Car:\n",
    "    def __init__(self, brand, model, year):\n",
    "        self.brand = brand\n",
    "        self.model = model\n",
    "        self.year = year\n",
    "    \n",
    "    def display_info(self):\n",
    "        print(f\"{self.brand} is the car's brand, {self.model} is the model and is from the {self.year}.\")\n",
    "\n",
    "\n",
    "car_1 = Car(\"Nissan\", \"Skyline GTR\", 2000)\n",
    "car_1.display_info()"
   ]
  },
  {
   "cell_type": "markdown",
   "id": "ffd44645",
   "metadata": {},
   "source": [
    "- Re-question: Create two car objects and call the method for each one."
   ]
  },
  {
   "cell_type": "code",
   "execution_count": 15,
   "id": "c5b9aa61",
   "metadata": {},
   "outputs": [
    {
     "name": "stdout",
     "output_type": "stream",
     "text": [
      "Toyota is the car's brand, Supra MK4 is the model and is from the 1993.\n",
      "Porshe is the car's brand, 911 is the model and is from the 1990.\n"
     ]
    }
   ],
   "source": [
    "car_2 = Car(\"Toyota\", \"Supra MK4\", 1993)\n",
    "car_3 = Car(\"Porshe\", \"911\", 1990)\n",
    "\n",
    "car_2.display_info()\n",
    "car_3.display_info()\n"
   ]
  },
  {
   "cell_type": "markdown",
   "id": "21ef83b9",
   "metadata": {},
   "source": [
    "### 10. Using __init__ and self\n",
    "Create a class Student with attributes name, age, and grade.\n",
    "\n",
    "- Use the __init__ method to initialize these attributes.\n",
    "- Add a method is_passed() that returns \"Passed\" if grade ≥ 11, otherwise \"Failed\".\n",
    "\n"
   ]
  },
  {
   "cell_type": "code",
   "execution_count": 16,
   "id": "aa16c2a3",
   "metadata": {},
   "outputs": [
    {
     "name": "stdout",
     "output_type": "stream",
     "text": [
      "Passed\n"
     ]
    }
   ],
   "source": [
    "class Student:\n",
    "    def __init__(self, name, age, grade):\n",
    "        self.name = name\n",
    "        self.age = age\n",
    "        self.grade = grade\n",
    "    \n",
    "    def is_passed(self):\n",
    "        if self.grade >= 11:\n",
    "            print(\"Passed\")\n",
    "        else:\n",
    "            print(\"Failed\")\n",
    "\n",
    "\n",
    "student_1 = Student(\"Tom\", 20, 18)\n",
    "student_1.is_passed()"
   ]
  },
  {
   "cell_type": "markdown",
   "id": "21c25fa3",
   "metadata": {},
   "source": [
    "- Re-question: How would you modify the class to add a class attribute school = \"PUCP\" and display it for all students?"
   ]
  },
  {
   "cell_type": "code",
   "execution_count": 17,
   "id": "8c37d910",
   "metadata": {},
   "outputs": [
    {
     "name": "stdout",
     "output_type": "stream",
     "text": [
      "PUCP\n"
     ]
    }
   ],
   "source": [
    "class Student:\n",
    "    def __init__(self, name, age, grade, school = \"PUCP\"):\n",
    "        self.name = name\n",
    "        self.age = age\n",
    "        self.grade = grade\n",
    "        self.school = school\n",
    "    \n",
    "    def is_passed(self):\n",
    "        if self.grade >= 11:\n",
    "            print(\"Passed\")\n",
    "        else:\n",
    "            print(\"Failed\")\n",
    "\n",
    "\n",
    "student_1 = Student(\"Tom\", 20, 18)\n",
    "print(student_1. school)"
   ]
  }
 ],
 "metadata": {
  "language_info": {
   "name": "python"
  }
 },
 "nbformat": 4,
 "nbformat_minor": 5
}
