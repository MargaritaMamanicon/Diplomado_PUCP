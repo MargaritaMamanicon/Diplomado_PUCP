{
 "cells": [
  {
   "cell_type": "code",
   "execution_count": null,
   "id": "78e7e63d",
   "metadata": {},
   "outputs": [],
   "source": [
    "# GROUP 10"
   ]
  },
  {
   "cell_type": "code",
   "execution_count": 6,
   "id": "1ab11d92",
   "metadata": {},
   "outputs": [],
   "source": [
    "### Part 1:Loops\n",
    "## Question 1. Pass Statement\n",
    "## Write a for loop that iterates through numbers from 1 to 10.\n",
    "\n",
    "## Use the pass statement when the number is even, and print only the odd numbers.\n",
    "## Re-question: What would happen if you remove the pass statement?"
   ]
  },
  {
   "cell_type": "code",
   "execution_count": null,
   "id": "98aa7e68",
   "metadata": {},
   "outputs": [],
   "source": []
  },
  {
   "cell_type": "code",
   "execution_count": 67,
   "id": "91ffcdc7-5ec3-4b46-a35a-03c089b4fd38",
   "metadata": {},
   "outputs": [
    {
     "name": "stdout",
     "output_type": "stream",
     "text": [
      "1\n",
      "3\n",
      "5\n",
      "7\n",
      "9\n"
     ]
    }
   ],
   "source": [
    "for i in range(1, 11):   # recorre del 1 al 10\n",
    "    if i % 2 == 0:       # si es par\n",
    "        pass             # no hace nada\n",
    "    else:                # si es impar\n",
    "        print(i)\n"
   ]
  },
  {
   "cell_type": "code",
   "execution_count": null,
   "id": "7975bb99-d207-471c-a8b4-33c8aa0a5b4d",
   "metadata": {},
   "outputs": [],
   "source": [
    "## Re-question: What would happen if you remove the pass statement?"
   ]
  },
  {
   "cell_type": "code",
   "execution_count": 69,
   "id": "cca82893-eade-4dd2-b2a9-4109fb60bca4",
   "metadata": {},
   "outputs": [
    {
     "ename": "IndentationError",
     "evalue": "expected an indented block after 'if' statement on line 2 (3911380441.py, line 4)",
     "output_type": "error",
     "traceback": [
      "\u001b[1;36m  Cell \u001b[1;32mIn[69], line 4\u001b[1;36m\u001b[0m\n\u001b[1;33m    else:\u001b[0m\n\u001b[1;37m    ^\u001b[0m\n\u001b[1;31mIndentationError\u001b[0m\u001b[1;31m:\u001b[0m expected an indented block after 'if' statement on line 2\n"
     ]
    }
   ],
   "source": [
    "for i in range(1, 11):\n",
    "    if i % 2 == 0:\n",
    "        # nada aquí\n",
    "    else:\n",
    "        print(i)\n"
   ]
  },
  {
   "cell_type": "code",
   "execution_count": 10,
   "id": "a3309ddd-ce7e-4337-b5ac-35d9fada4e3e",
   "metadata": {},
   "outputs": [],
   "source": [
    "## Esto generaría un error de sintaxis (IndentationError o SyntaxError), porque en Python no puedes dejar un bloque if vacío.\n",
    "\n",
    "## Por eso se usa pass: para que el bloque sea válido aunque no haga nada"
   ]
  },
  {
   "cell_type": "code",
   "execution_count": 11,
   "id": "62688a76-5bff-4347-8722-027297da7e26",
   "metadata": {},
   "outputs": [],
   "source": [
    "##2. Continue Statement\n",
    "\n",
    "## Create a loop that goes through the string \"pythonloops\".\n",
    "## Skip the letters \"o\" using the continue statement and print the remaining letters.\n"
   ]
  },
  {
   "cell_type": "code",
   "execution_count": 70,
   "id": "2ce96789-22fe-4949-91ef-58ac362ae4c4",
   "metadata": {},
   "outputs": [
    {
     "name": "stdout",
     "output_type": "stream",
     "text": [
      "p\n",
      "y\n",
      "t\n",
      "h\n",
      "n\n",
      "l\n",
      "p\n",
      "s\n"
     ]
    }
   ],
   "source": [
    "for letra in \"pythonloops\":\n",
    "    if letra == \"o\":    # cuando encuentra una \"o\"\n",
    "        continue        # salta esa iteración\n",
    "    print(letra)\n"
   ]
  },
  {
   "cell_type": "code",
   "execution_count": null,
   "id": "edb18026",
   "metadata": {},
   "outputs": [],
   "source": [
    "## Re-question: How would you achieve the same result without using continue?"
   ]
  },
  {
   "cell_type": "code",
   "execution_count": 71,
   "id": "8e12b90c-6f52-444a-bf6b-b73a42ea7a80",
   "metadata": {},
   "outputs": [
    {
     "name": "stdout",
     "output_type": "stream",
     "text": [
      "p\n",
      "y\n",
      "t\n",
      "h\n",
      "n\n",
      "l\n",
      "p\n",
      "s\n"
     ]
    }
   ],
   "source": [
    "## En lugar de usar continue, se puede controlar con un if normal\n",
    "for letra in \"pythonloops\":\n",
    "    if letra != \"o\":    # solo imprime si la letra NO es \"o\"\n",
    "        print(letra)\n"
   ]
  },
  {
   "cell_type": "markdown",
   "id": "6c1d8169",
   "metadata": {},
   "source": [
    "3. Break Statement\n"
   ]
  },
  {
   "cell_type": "code",
   "execution_count": 15,
   "id": "ec9ae2a1-6314-4769-b5a2-eeca0c954a3c",
   "metadata": {},
   "outputs": [],
   "source": [
    "## Write a while loop that keeps asking the user to input numbers.\n",
    "## Break the loop if the user enters a negative number.\n",
    "## Re-question: How can you modify the loop so it ignores negative numbers instead of breaking?"
   ]
  },
  {
   "cell_type": "code",
   "execution_count": 72,
   "id": "5cc17591-a25c-4196-8bb8-4be004447cf1",
   "metadata": {},
   "outputs": [
    {
     "name": "stdout",
     "output_type": "stream",
     "text": [
      "Ingresa un número: 5\n",
      "Ingresaste: 5\n",
      "Ingresa un número: -5\n",
      "Número negativo detectado. Fin del programa.\n"
     ]
    }
   ],
   "source": [
    "while True:  # bucle infinito hasta que se rompa\n",
    "    num = int(input(\"Ingresa un número: \"))\n",
    "    if num < 0:        # condición de interrupción\n",
    "        print(\"Número negativo detectado. Fin del programa.\")\n",
    "        break\n",
    "    else:\n",
    "        print(\"Ingresaste:\", num)\n"
   ]
  },
  {
   "cell_type": "code",
   "execution_count": null,
   "id": "a31afaff-12c4-436e-a57b-9e0d91934eb5",
   "metadata": {},
   "outputs": [],
   "source": []
  },
  {
   "cell_type": "code",
   "execution_count": null,
   "id": "c8a8c0c2-6d78-4be0-824f-0c60aeda0ee0",
   "metadata": {},
   "outputs": [],
   "source": [
    "## Re-question: How can you modify the loop so it ignores negative numbers instead of breaking?"
   ]
  },
  {
   "cell_type": "code",
   "execution_count": null,
   "id": "afe85c45-9308-4218-9270-ef30fa3df51d",
   "metadata": {},
   "outputs": [],
   "source": [
    "while True:\n",
    "    s = input(\"Ingresa un número o 'q' para salir: \").strip().lower()\n",
    "    if s == 'q':         # condición de salida\n",
    "        print(\"Fin del programa.\")\n",
    "        break\n",
    "\n",
    "    try:\n",
    "        num = int(s)\n",
    "    except ValueError:\n",
    "        print(\"Ingresa un ENTERO válido o 'q' para salir.\")\n",
    "        continue\n",
    "\n",
    "    if num < 0:\n",
    "        print(\"Número negativo, ignorado.\")\n",
    "        continue\n",
    "\n",
    "    print(\"Ingresaste:\", num)\n"
   ]
  },
  {
   "cell_type": "markdown",
   "id": "a6c02ab2",
   "metadata": {},
   "source": [
    "4. Try-Except Block - Write a loop that asks the user to input a number and divides 100 by that number. (Hecho por Georgina)\n",
    "* Use a try-except block to handle the case when the user inputs 0 or a non-numeric value.\n",
    "* Re-question: How would you improve the code to keep asking until a valid input is provided?"
   ]
  },
  {
   "cell_type": "code",
   "execution_count": null,
   "id": "543d6f5a",
   "metadata": {},
   "outputs": [],
   "source": []
  },
  {
   "cell_type": "markdown",
   "id": "9dc24fac",
   "metadata": {},
   "source": [
    "4. Bloque Try-Except - Escribe un bucle que pida al usuario que introduzca un número y divida 100 por ese número. (Hecho por Georgina)\n",
    "   * Usa un bloque try-except para manejar el caso cuando el usuario introduce 0 o un valor no numérico.\n",
    "   * Re-pregunta: ¿Cómo mejorarías el código para seguir preguntando hasta que se proporcione una entrada válida?"
   ]
  },
  {
   "cell_type": "code",
   "execution_count": null,
   "id": "0540f868",
   "metadata": {},
   "outputs": [],
   "source": []
  },
  {
   "cell_type": "code",
   "execution_count": null,
   "id": "7f44fa91-0a32-47fa-a9f9-63999d6b6f18",
   "metadata": {},
   "outputs": [],
   "source": [
    "while True:\n",
    "    try:\n",
    "        num = int(input(\"Introduce un número: \"))\n",
    "        resultado = 100 / num\n",
    "        print(f\"100 dividido por {num} es {resultado}\")\n",
    "        break  # Salir del bucle si todo va bien\n",
    "    except ZeroDivisionError:\n",
    "        print(\"Error: No se puede dividir entre cero. Intenta de nuevo.\")\n",
    "    except ValueError:\n",
    "        print(\"Error: Eso no es un número válido. Intenta de nuevo.\")"
   ]
  },
  {
   "cell_type": "markdown",
   "id": "f941d738",
   "metadata": {},
   "source": [
    "5. While Loop Structure - Write a while loop that calculates the factorial of a given number n. (Hecho por Georgina)\n",
    "\n",
    "* Print each intermediate step of the factorial calculation.\n",
    "* Re-question: How would you implement the same factorial calculation using a for loop instead?"
   ]
  },
  {
   "cell_type": "code",
   "execution_count": null,
   "id": "6067523a",
   "metadata": {},
   "outputs": [],
   "source": [
    "n = int(input(\"Enter a number: \"))\n",
    "factorial = 1\n",
    "\n",
    "for i in range(1, n + 1):\n",
    "    factorial *= i\n",
    "    print(f\"Step {i}: factorial = {factorial}\")\n",
    "\n",
    "print(f\"Factorial of {n} is {factorial}\")"
   ]
  },
  {
   "cell_type": "code",
   "execution_count": null,
   "id": "3ca54bba",
   "metadata": {},
   "outputs": [],
   "source": []
  },
  {
   "cell_type": "code",
   "execution_count": null,
   "id": "d4e60d75",
   "metadata": {},
   "outputs": [],
   "source": [
    "### Part 2:Functions"
   ]
  },
  {
   "cell_type": "code",
   "execution_count": null,
   "id": "95753671-e13e-455a-933a-75768b236f50",
   "metadata": {},
   "outputs": [],
   "source": [
    "# 6 Función con múltiples retornos"
   ]
  },
  {
   "cell_type": "code",
   "execution_count": 1,
   "id": "466ee2d4",
   "metadata": {},
   "outputs": [],
   "source": []
  },
  {
   "cell_type": "code",
   "execution_count": 12,
   "id": "fb6b015f",
   "metadata": {},
   "outputs": [
    {
     "name": "stdout",
     "output_type": "stream",
     "text": [
      "5\n"
     ]
    }
   ],
   "source": [
    "# 6.1 Valor máximo\n",
    "def analyze_numbers(lst):\n",
    "    return max(lst)\n",
    "print (analyze_numbers([1,2,3,4,5]))"
   ]
  },
  {
   "cell_type": "code",
   "execution_count": 13,
   "id": "cb39cf9e",
   "metadata": {},
   "outputs": [
    {
     "name": "stdout",
     "output_type": "stream",
     "text": [
      "1\n"
     ]
    }
   ],
   "source": [
    "# 6.2 Valor mínimo\n",
    "def analyze_numbers(lst):\n",
    "    return min(lst)\n",
    "print (analyze_numbers([1,2,3,4,5]))"
   ]
  },
  {
   "cell_type": "code",
   "execution_count": 21,
   "id": "cd11b2d1",
   "metadata": {},
   "outputs": [
    {
     "name": "stdout",
     "output_type": "stream",
     "text": [
      "3.0\n"
     ]
    }
   ],
   "source": [
    "# 6.3 Valor promedio\n",
    "def analyze_numbers(lst):\n",
    "    return sum(lst)/len(lst)\n",
    "print (analyze_numbers([1,2,3,4,5]))"
   ]
  },
  {
   "cell_type": "code",
   "execution_count": 32,
   "id": "029881d0",
   "metadata": {},
   "outputs": [
    {
     "name": "stdout",
     "output_type": "stream",
     "text": [
      "5 1 3.0\n"
     ]
    }
   ],
   "source": [
    "# 6.4 Re-question: How would you call this function and unpack the results into three variables?\n",
    "def analyze_numbers(lst):\n",
    "    return max(lst), min(lst), sum(lst)/len(lst)\n",
    "\n",
    "maximo, minimo, promedio = analyze_numbers([1,2,3,4,5])\n",
    "print(maximo, minimo, promedio)"
   ]
  },
  {
   "cell_type": "code",
   "execution_count": null,
   "id": "df1fe0d6",
   "metadata": {},
   "outputs": [],
   "source": [
    "# 7. Function with Default Parameters"
   ]
  },
  {
   "cell_type": "code",
   "execution_count": 42,
   "id": "b088e9db",
   "metadata": {},
   "outputs": [
    {
     "name": "stdout",
     "output_type": "stream",
     "text": [
      "Hi, Daniel!\n"
     ]
    }
   ],
   "source": [
    "# 7.1.a con parámetro\n",
    "def greet(name, message=\"Hello\"):\n",
    "    print(f\"{message}, {name}!\")\n",
    "          \n",
    "greet(\"Daniel\",\"Hi\")"
   ]
  },
  {
   "cell_type": "code",
   "execution_count": null,
   "id": "e3886d25",
   "metadata": {},
   "outputs": [],
   "source": [
    "# 7.1.b. sin parámetro"
   ]
  },
  {
   "cell_type": "code",
   "execution_count": 43,
   "id": "e8f39032",
   "metadata": {},
   "outputs": [
    {
     "name": "stdout",
     "output_type": "stream",
     "text": [
      "Hello, Daniel!\n"
     ]
    }
   ],
   "source": [
    "def greet(name, message=\"Hello\"):\n",
    "    print(f\"{message}, {name}!\")\n",
    "          \n",
    "greet(\"Daniel\")"
   ]
  },
  {
   "cell_type": "code",
   "execution_count": null,
   "id": "b337649a",
   "metadata": {},
   "outputs": [],
   "source": []
  },
  {
   "cell_type": "code",
   "execution_count": 46,
   "id": "79aae675",
   "metadata": {},
   "outputs": [
    {
     "data": {
      "text/plain": [
       "' Python decide usar el valor por defecto que se ha asignado en la función, que en este caso es \"Hello\". Si python no encuentra un mensaje que se le haya aplicado, escogerá por defecto el mensaje que se le asignó  en la función.'"
      ]
     },
     "execution_count": 46,
     "metadata": {},
     "output_type": "execute_result"
    }
   ],
   "source": [
    "# 7.2. Como se puede ver en los códigos anteriores, se ha llamado a la función con y sin parámetro.\n",
    "\"\"\" Python decide usar el valor por defecto que se ha asignado en la función; en este caso es \"Hello\". Si python no encuentra un mensaje que se le haya aplicado, escogerá por defecto el mensaje que se le asignó  en la función.\"\"\""
   ]
  },
  {
   "cell_type": "code",
   "execution_count": null,
   "id": "8bc82f77",
   "metadata": {},
   "outputs": [],
   "source": [
    "# 8. Function with Type Hints"
   ]
  },
  {
   "cell_type": "code",
   "execution_count": 53,
   "id": "5c135c68",
   "metadata": {},
   "outputs": [
    {
     "name": "stdout",
     "output_type": "stream",
     "text": [
      "30\n"
     ]
    }
   ],
   "source": [
    "def multiply(a: int, b: int) -> int:\n",
    "    return a*b\n",
    "print(multiply(5,6)) #ejemplo"
   ]
  },
  {
   "cell_type": "code",
   "execution_count": 56,
   "id": "9c34e33e",
   "metadata": {},
   "outputs": [
    {
     "name": "stdout",
     "output_type": "stream",
     "text": [
      "20\n"
     ]
    }
   ],
   "source": [
    "# 8.1. Test the function with both integers and strings.\n",
    "\n",
    "# Integer and integer\n",
    "def multiply(a: int, b: int) -> int:\n",
    "    return a*b\n",
    "print(multiply(2,10)) #se obtiene la multiplicación\n"
   ]
  },
  {
   "cell_type": "code",
   "execution_count": null,
   "id": "81a99384",
   "metadata": {},
   "outputs": [],
   "source": [
    "# string and integer"
   ]
  },
  {
   "cell_type": "code",
   "execution_count": 61,
   "id": "e299ea0d",
   "metadata": {},
   "outputs": [
    {
     "name": "stdout",
     "output_type": "stream",
     "text": [
      "hihi\n"
     ]
    }
   ],
   "source": [
    "def multiply(a: int, b: int) -> int:\n",
    "    return a*b\n",
    "print(multiply(\"hi\",2)) # se duplica y se anida el valor de \"hi\""
   ]
  },
  {
   "cell_type": "code",
   "execution_count": 60,
   "id": "93e11a1d",
   "metadata": {},
   "outputs": [
    {
     "name": "stdout",
     "output_type": "stream",
     "text": [
      "hihi\n"
     ]
    }
   ],
   "source": [
    "# integer and string\n",
    "def multiply(a: int, b: int) -> int:\n",
    "    return a*b\n",
    "print(multiply(2,\"hi\")) # se duplica y se anida el valor de \"hi\""
   ]
  },
  {
   "cell_type": "code",
   "execution_count": null,
   "id": "1a17b8bb",
   "metadata": {},
   "outputs": [],
   "source": [
    "# string and string"
   ]
  },
  {
   "cell_type": "code",
   "execution_count": 62,
   "id": "0b2d5e19",
   "metadata": {},
   "outputs": [
    {
     "ename": "TypeError",
     "evalue": "can't multiply sequence by non-int of type 'str'",
     "output_type": "error",
     "traceback": [
      "\u001b[1;31m---------------------------------------------------------------------------\u001b[0m",
      "\u001b[1;31mTypeError\u001b[0m                                 Traceback (most recent call last)",
      "Cell \u001b[1;32mIn[62], line 3\u001b[0m\n\u001b[0;32m      1\u001b[0m \u001b[38;5;28;01mdef\u001b[39;00m \u001b[38;5;21mmultiply\u001b[39m(a: \u001b[38;5;28mint\u001b[39m, b: \u001b[38;5;28mint\u001b[39m) \u001b[38;5;241m-\u001b[39m\u001b[38;5;241m>\u001b[39m \u001b[38;5;28mint\u001b[39m:\n\u001b[0;32m      2\u001b[0m     \u001b[38;5;28;01mreturn\u001b[39;00m a\u001b[38;5;241m*\u001b[39mb\n\u001b[1;32m----> 3\u001b[0m \u001b[38;5;28mprint\u001b[39m(multiply(\u001b[38;5;124m\"\u001b[39m\u001b[38;5;124m2\u001b[39m\u001b[38;5;124m\"\u001b[39m,\u001b[38;5;124m\"\u001b[39m\u001b[38;5;124mhi\u001b[39m\u001b[38;5;124m\"\u001b[39m))\n",
      "Cell \u001b[1;32mIn[62], line 2\u001b[0m, in \u001b[0;36mmultiply\u001b[1;34m(a, b)\u001b[0m\n\u001b[0;32m      1\u001b[0m \u001b[38;5;28;01mdef\u001b[39;00m \u001b[38;5;21mmultiply\u001b[39m(a: \u001b[38;5;28mint\u001b[39m, b: \u001b[38;5;28mint\u001b[39m) \u001b[38;5;241m-\u001b[39m\u001b[38;5;241m>\u001b[39m \u001b[38;5;28mint\u001b[39m:\n\u001b[1;32m----> 2\u001b[0m     \u001b[38;5;28;01mreturn\u001b[39;00m a\u001b[38;5;241m*\u001b[39mb\n",
      "\u001b[1;31mTypeError\u001b[0m: can't multiply sequence by non-int of type 'str'"
     ]
    }
   ],
   "source": [
    "def multiply(a: int, b: int) -> int:\n",
    "    return a*b\n",
    "print(multiply(\"2\",\"hi\")) #salta error, porque se está tratando de multiplicar dos strings."
   ]
  },
  {
   "cell_type": "code",
   "execution_count": 65,
   "id": "a75fca1d",
   "metadata": {},
   "outputs": [
    {
     "ename": "SyntaxError",
     "evalue": "unterminated string literal (detected at line 6) (3850664173.py, line 6)",
     "output_type": "error",
     "traceback": [
      "\u001b[1;36m  Cell \u001b[1;32mIn[65], line 6\u001b[1;36m\u001b[0m\n\u001b[1;33m    print (\"Si se trata de multiplicar dos valores strings salta error, n/\u001b[0m\n\u001b[1;37m           ^\u001b[0m\n\u001b[1;31mSyntaxError\u001b[0m\u001b[1;31m:\u001b[0m unterminated string literal (detected at line 6)\n"
     ]
    }
   ],
   "source": [
    "# 8.2 Re-question: What happens if you pass strings, and why?\n",
    "\n",
    "    # Manteniendo los dos valores como int:\n",
    "def multiply(a: int, b: int) -> int:\n",
    "    return a*b\n",
    "print(multiply(\"hi\",\"stop\"))"
   ]
  },
  {
   "cell_type": "code",
   "execution_count": 66,
   "id": "8b9b02ef",
   "metadata": {},
   "outputs": [
    {
     "ename": "TypeError",
     "evalue": "can't multiply sequence by non-int of type 'str'",
     "output_type": "error",
     "traceback": [
      "\u001b[1;31m---------------------------------------------------------------------------\u001b[0m",
      "\u001b[1;31mTypeError\u001b[0m                                 Traceback (most recent call last)",
      "Cell \u001b[1;32mIn[66], line 3\u001b[0m\n\u001b[0;32m      1\u001b[0m \u001b[38;5;28;01mdef\u001b[39;00m \u001b[38;5;21mmultiply\u001b[39m(a: \u001b[38;5;28mstr\u001b[39m, b: \u001b[38;5;28mstr\u001b[39m) \u001b[38;5;241m-\u001b[39m\u001b[38;5;241m>\u001b[39m \u001b[38;5;28mstr\u001b[39m:\n\u001b[0;32m      2\u001b[0m     \u001b[38;5;28;01mreturn\u001b[39;00m a\u001b[38;5;241m*\u001b[39mb\n\u001b[1;32m----> 3\u001b[0m \u001b[38;5;28mprint\u001b[39m(multiply(\u001b[38;5;124m\"\u001b[39m\u001b[38;5;124mhi\u001b[39m\u001b[38;5;124m\"\u001b[39m,\u001b[38;5;124m\"\u001b[39m\u001b[38;5;124mstop\u001b[39m\u001b[38;5;124m\"\u001b[39m))\n",
      "Cell \u001b[1;32mIn[66], line 2\u001b[0m, in \u001b[0;36mmultiply\u001b[1;34m(a, b)\u001b[0m\n\u001b[0;32m      1\u001b[0m \u001b[38;5;28;01mdef\u001b[39;00m \u001b[38;5;21mmultiply\u001b[39m(a: \u001b[38;5;28mstr\u001b[39m, b: \u001b[38;5;28mstr\u001b[39m) \u001b[38;5;241m-\u001b[39m\u001b[38;5;241m>\u001b[39m \u001b[38;5;28mstr\u001b[39m:\n\u001b[1;32m----> 2\u001b[0m     \u001b[38;5;28;01mreturn\u001b[39;00m a\u001b[38;5;241m*\u001b[39mb\n",
      "\u001b[1;31mTypeError\u001b[0m: can't multiply sequence by non-int of type 'str'"
     ]
    }
   ],
   "source": [
    "    # Reemplazando int por str en a y b:\n",
    "def multiply(a: str, b: str) -> str:\n",
    "    return a*b\n",
    "print(multiply(\"hi\",\"stop\"))"
   ]
  },
  {
   "cell_type": "code",
   "execution_count": null,
   "id": "3e5f69c8",
   "metadata": {},
   "outputs": [],
   "source": [
    "print (\"Si se trata de multiplicar dos valores strings salta error, porque los strings solo se pueden multiplicar con un valor de integer,n\\\n",
    "como se ha mostrado en los dos chunks anteriores. Para que se repita el string indicada por la cantidad de veces señalada en el integer, n\\\n",
    "se tiene que multiplicar el integer con el string, como se ha mostrado en los códigos previos.\")"
   ]
  },
  {
   "cell_type": "code",
   "execution_count": null,
   "id": "5b6aa043",
   "metadata": {},
   "outputs": [],
   "source": []
  },
  {
   "cell_type": "code",
   "execution_count": null,
   "id": "fa7ae91e",
   "metadata": {},
   "outputs": [],
   "source": []
  },
  {
   "cell_type": "code",
   "execution_count": 2,
   "id": "7460d535",
   "metadata": {},
   "outputs": [
    {
     "data": {
      "text/plain": [
       "[1, 2, 3, 4, 5]"
      ]
     },
     "execution_count": 2,
     "metadata": {},
     "output_type": "execute_result"
    }
   ],
   "source": []
  },
  {
   "cell_type": "code",
   "execution_count": null,
   "id": "c9fbcd68",
   "metadata": {},
   "outputs": [],
   "source": [
    "### Part 3: Classes"
   ]
  },
  {
   "cell_type": "code",
   "execution_count": 1,
   "id": "7858f4b1",
   "metadata": {},
   "outputs": [],
   "source": [
    "#9. Class with Attributes and Methods\n",
    "## Define a class Car with attributes brand, model, and year. Add a method display_info() that prints the car’s details."
   ]
  },
  {
   "cell_type": "code",
   "execution_count": 2,
   "id": "279ed8fb",
   "metadata": {},
   "outputs": [],
   "source": [
    "# Creo la class Car, incluyendo el método \"display_info()\"\n",
    "class Car:\n",
    "    def __init__(self, brand, model, year):\n",
    "        self.brand = brand\n",
    "        self.model = model\n",
    "        self.year = year\n",
    "    def display_info(self):\n",
    "        print(f\"Car: {self.brand} {self.model}, Year: {self.year}\")"
   ]
  },
  {
   "cell_type": "code",
   "execution_count": 3,
   "id": "027219d5",
   "metadata": {},
   "outputs": [],
   "source": [
    "# Creo dos objetos:\n",
    "car1 = Car(\"Volkswagen\", \"Beetle\", 1975)\n",
    "car2 = Car(\"Honda\", \"Civic\", 2018)"
   ]
  },
  {
   "cell_type": "code",
   "execution_count": 4,
   "id": "a8913238",
   "metadata": {},
   "outputs": [
    {
     "name": "stdout",
     "output_type": "stream",
     "text": [
      "Car: Volkswagen Beetle, Year: 1975\n",
      "Car: Honda Civic, Year: 2018\n"
     ]
    }
   ],
   "source": [
    "# Llamo al método display_info() para cada objeto:\n",
    "car1.display_info()\n",
    "car2.display_info()"
   ]
  },
  {
   "cell_type": "code",
   "execution_count": 5,
   "id": "91ff53f1",
   "metadata": {},
   "outputs": [],
   "source": [
    "# 10. Using __init__ and self\n",
    "## Create a class Student with attributes name, age, and grade. Use the __init__ method to initialize these attributes.\n",
    "## Add a method is_passed() that returns \"Passed\" if grade ≥ 11, otherwise \"Failed\"."
   ]
  },
  {
   "cell_type": "code",
   "execution_count": 6,
   "id": "320c4d8e",
   "metadata": {},
   "outputs": [],
   "source": [
    "# Creamos la class Estudiante: \n",
    "class Estudiante:\n",
    "    def __init__(self, name, age, grade):\n",
    "        self.name = name\n",
    "        self.age = age\n",
    "        self.grade = grade\n",
    "    \n",
    "    # Añadimos un método para verificar si aprobó\n",
    "    def is_passed(self):\n",
    "        if self.grade >= 11:\n",
    "            return \"Aprobó\"\n",
    "        else:\n",
    "            return \"Jaló\"\n",
    "     \n",
    "    def display_info(self):\n",
    "        print(f\"Name: {self.name}, Age: {self.age}, Grade: {self.grade}, Status: {self.is_passed()}\")"
   ]
  },
  {
   "cell_type": "code",
   "execution_count": 7,
   "id": "56b2a5ed",
   "metadata": {},
   "outputs": [],
   "source": [
    "# Crearemor 2 objetos para probar\n",
    "Estudiante1 = Estudiante(\"Luis\", 20, 15)\n",
    "Estudiante2 = Estudiante(\"Ana\", 19, 9)"
   ]
  },
  {
   "cell_type": "code",
   "execution_count": 8,
   "id": "62814e3b",
   "metadata": {},
   "outputs": [
    {
     "name": "stdout",
     "output_type": "stream",
     "text": [
      "Name: Luis, Age: 20, Grade: 15, Status: Aprobó\n"
     ]
    }
   ],
   "source": [
    "# Probamos con Estudiante1\n",
    "Estudiante1.display_info()"
   ]
  },
  {
   "cell_type": "code",
   "execution_count": 9,
   "id": "00cd5d5e",
   "metadata": {},
   "outputs": [
    {
     "name": "stdout",
     "output_type": "stream",
     "text": [
      "Name: Ana, Age: 19, Grade: 9, Status: Jaló\n"
     ]
    }
   ],
   "source": [
    "# Probamos con estudiante 2:\n",
    "Estudiante2.display_info()"
   ]
  },
  {
   "cell_type": "code",
   "execution_count": 10,
   "id": "bf9223b4",
   "metadata": {},
   "outputs": [],
   "source": [
    "## Re-question: How would you modify the class to add a class attribute school = \"PUCP\" and display it for all students?"
   ]
  },
  {
   "cell_type": "code",
   "execution_count": 11,
   "id": "f2058ce7",
   "metadata": {},
   "outputs": [],
   "source": [
    "# Un atributo de clase es aquel que es compartido por todas las instancias. En este caso, será school. Para ello, redefinimos la class"
   ]
  },
  {
   "cell_type": "code",
   "execution_count": 16,
   "id": "2acd1a3d",
   "metadata": {},
   "outputs": [],
   "source": [
    "class Estudiante:\n",
    "    school = \"PUCP\"\n",
    "    def __init__(self, name, age, grade):\n",
    "        self.name = name\n",
    "        self.age = age\n",
    "        self.grade = grade\n",
    "     \n",
    "    def is_passed(self):\n",
    "        if self.grade >= 11:\n",
    "            return \"Aprobó\"\n",
    "        else:\n",
    "            return \"Jaló\"\n",
    "    def display_info(self):\n",
    "        print(f\"Name: {self.name}, Age: {self.age}, Grade: {self.grade}, Status: {self.is_passed()}, School: {Estudiante.school}\")"
   ]
  },
  {
   "cell_type": "code",
   "execution_count": 17,
   "id": "4db1d5b4",
   "metadata": {},
   "outputs": [],
   "source": [
    "# Probamos nuevamente:\n",
    "Estudiante3 = Estudiante(\"Fátima\", 24, 17)\n",
    "Estudiante4 = Estudiante(\"Jorge\", 25, 5)"
   ]
  },
  {
   "cell_type": "code",
   "execution_count": 18,
   "id": "ba718491",
   "metadata": {},
   "outputs": [],
   "source": [
    "# Probamos con Estudiante3 y Estudiante4"
   ]
  },
  {
   "cell_type": "code",
   "execution_count": 19,
   "id": "e070a6f0",
   "metadata": {},
   "outputs": [
    {
     "name": "stdout",
     "output_type": "stream",
     "text": [
      "Name: Fátima, Age: 24, Grade: 17, Status: Aprobó, School: PUCP\n",
      "Name: Jorge, Age: 25, Grade: 5, Status: Jaló, School: PUCP\n"
     ]
    }
   ],
   "source": [
    "Estudiante3.display_info()\n",
    "Estudiante4.display_info()"
   ]
  },
  {
   "cell_type": "code",
   "execution_count": null,
   "id": "a26f370d",
   "metadata": {},
   "outputs": [],
   "source": []
  }
 ],
 "metadata": {
  "kernelspec": {
   "display_name": "Python 3 (ipykernel)",
   "language": "python",
   "name": "python3"
  },
  "language_info": {
   "codemirror_mode": {
    "name": "ipython",
    "version": 3
   },
   "file_extension": ".py",
   "mimetype": "text/x-python",
   "name": "python",
   "nbconvert_exporter": "python",
   "pygments_lexer": "ipython3",
   "version": "3.11.4"
  }
 },
 "nbformat": 4,
 "nbformat_minor": 5
}
