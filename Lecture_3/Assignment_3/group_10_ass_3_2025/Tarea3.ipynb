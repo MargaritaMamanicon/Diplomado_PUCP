{
 "cells": [
  {
   "cell_type": "code",
   "execution_count": null,
   "id": "47d8ecf1",
   "metadata": {},
   "outputs": [],
   "source": [
    "### Part 1:"
   ]
  },
  {
   "cell_type": "code",
   "execution_count": null,
   "id": "1ab11d92",
   "metadata": {},
   "outputs": [],
   "source": []
  },
  {
   "cell_type": "code",
   "execution_count": null,
   "id": "f2cfa0dd",
   "metadata": {},
   "outputs": [],
   "source": [
    "### Part 2:"
   ]
  },
  {
   "cell_type": "code",
   "execution_count": null,
   "id": "466ee2d4",
   "metadata": {},
   "outputs": [],
   "source": []
  },
  {
   "cell_type": "code",
   "execution_count": null,
   "id": "c9fbcd68",
   "metadata": {},
   "outputs": [],
   "source": [
    "### Part 3: Classes"
   ]
  },
  {
   "cell_type": "code",
   "execution_count": 1,
   "id": "7858f4b1",
   "metadata": {},
   "outputs": [],
   "source": [
    "#9. Class with Attributes and Methods\n",
    "## Define a class Car with attributes brand, model, and year. Add a method display_info() that prints the car’s details."
   ]
  },
  {
   "cell_type": "code",
   "execution_count": 2,
   "id": "279ed8fb",
   "metadata": {},
   "outputs": [],
   "source": [
    "# Creo la class Car, incluyendo el método \"display_info()\"\n",
    "class Car:\n",
    "    def __init__(self, brand, model, year):\n",
    "        self.brand = brand\n",
    "        self.model = model\n",
    "        self.year = year\n",
    "    def display_info(self):\n",
    "        print(f\"Car: {self.brand} {self.model}, Year: {self.year}\")"
   ]
  },
  {
   "cell_type": "code",
   "execution_count": 3,
   "id": "027219d5",
   "metadata": {},
   "outputs": [],
   "source": [
    "# Creo dos objetos:\n",
    "car1 = Car(\"Volkswagen\", \"Beetle\", 1975)\n",
    "car2 = Car(\"Honda\", \"Civic\", 2018)"
   ]
  },
  {
   "cell_type": "code",
   "execution_count": 4,
   "id": "a8913238",
   "metadata": {},
   "outputs": [
    {
     "name": "stdout",
     "output_type": "stream",
     "text": [
      "Car: Volkswagen Beetle, Year: 1975\n",
      "Car: Honda Civic, Year: 2018\n"
     ]
    }
   ],
   "source": [
    "# Llamo al método display_info() para cada objeto:\n",
    "car1.display_info()\n",
    "car2.display_info()"
   ]
  },
  {
   "cell_type": "code",
   "execution_count": 5,
   "id": "91ff53f1",
   "metadata": {},
   "outputs": [],
   "source": [
    "# 10. Using __init__ and self\n",
    "## Create a class Student with attributes name, age, and grade. Use the __init__ method to initialize these attributes.\n",
    "## Add a method is_passed() that returns \"Passed\" if grade ≥ 11, otherwise \"Failed\"."
   ]
  },
  {
   "cell_type": "code",
   "execution_count": 6,
   "id": "320c4d8e",
   "metadata": {},
   "outputs": [],
   "source": [
    "# Creamos la class Estudiante: \n",
    "class Estudiante:\n",
    "    def __init__(self, name, age, grade):\n",
    "        self.name = name\n",
    "        self.age = age\n",
    "        self.grade = grade\n",
    "    \n",
    "    # Añadimos un método para verificar si aprobó\n",
    "    def is_passed(self):\n",
    "        if self.grade >= 11:\n",
    "            return \"Aprobó\"\n",
    "        else:\n",
    "            return \"Jaló\"\n",
    "     \n",
    "    def display_info(self):\n",
    "        print(f\"Name: {self.name}, Age: {self.age}, Grade: {self.grade}, Status: {self.is_passed()}\")"
   ]
  },
  {
   "cell_type": "code",
   "execution_count": 7,
   "id": "56b2a5ed",
   "metadata": {},
   "outputs": [],
   "source": [
    "# Crearemor 2 objetos para probar\n",
    "Estudiante1 = Estudiante(\"Luis\", 20, 15)\n",
    "Estudiante2 = Estudiante(\"Ana\", 19, 9)"
   ]
  },
  {
   "cell_type": "code",
   "execution_count": 8,
   "id": "62814e3b",
   "metadata": {},
   "outputs": [
    {
     "name": "stdout",
     "output_type": "stream",
     "text": [
      "Name: Luis, Age: 20, Grade: 15, Status: Aprobó\n"
     ]
    }
   ],
   "source": [
    "# Probamos con Estudiante1\n",
    "Estudiante1.display_info()"
   ]
  },
  {
   "cell_type": "code",
   "execution_count": 9,
   "id": "00cd5d5e",
   "metadata": {},
   "outputs": [
    {
     "name": "stdout",
     "output_type": "stream",
     "text": [
      "Name: Ana, Age: 19, Grade: 9, Status: Jaló\n"
     ]
    }
   ],
   "source": [
    "# Probamos con estudiante 2:\n",
    "Estudiante2.display_info()"
   ]
  },
  {
   "cell_type": "code",
   "execution_count": 10,
   "id": "bf9223b4",
   "metadata": {},
   "outputs": [],
   "source": [
    "## Re-question: How would you modify the class to add a class attribute school = \"PUCP\" and display it for all students?"
   ]
  },
  {
   "cell_type": "code",
   "execution_count": 11,
   "id": "f2058ce7",
   "metadata": {},
   "outputs": [],
   "source": [
    "# Un atributo de clase es aquel que es compartido por todas las instancias. En este caso, será school. Para ello, redefinimos la class"
   ]
  },
  {
   "cell_type": "code",
   "execution_count": 16,
   "id": "2acd1a3d",
   "metadata": {},
   "outputs": [],
   "source": [
    "class Estudiante:\n",
    "    school = \"PUCP\"\n",
    "    def __init__(self, name, age, grade):\n",
    "        self.name = name\n",
    "        self.age = age\n",
    "        self.grade = grade\n",
    "     \n",
    "    def is_passed(self):\n",
    "        if self.grade >= 11:\n",
    "            return \"Aprobó\"\n",
    "        else:\n",
    "            return \"Jaló\"\n",
    "    def display_info(self):\n",
    "        print(f\"Name: {self.name}, Age: {self.age}, Grade: {self.grade}, Status: {self.is_passed()}, School: {Estudiante.school}\")"
   ]
  },
  {
   "cell_type": "code",
   "execution_count": 17,
   "id": "4db1d5b4",
   "metadata": {},
   "outputs": [],
   "source": [
    "# Probamos nuevamente:\n",
    "Estudiante3 = Estudiante(\"Fátima\", 24, 17)\n",
    "Estudiante4 = Estudiante(\"Jorge\", 25, 5)"
   ]
  },
  {
   "cell_type": "code",
   "execution_count": 18,
   "id": "ba718491",
   "metadata": {},
   "outputs": [],
   "source": [
    "# Probamos con Estudiante3 y Estudiante4"
   ]
  },
  {
   "cell_type": "code",
   "execution_count": 19,
   "id": "e070a6f0",
   "metadata": {},
   "outputs": [
    {
     "name": "stdout",
     "output_type": "stream",
     "text": [
      "Name: Fátima, Age: 24, Grade: 17, Status: Aprobó, School: PUCP\n",
      "Name: Jorge, Age: 25, Grade: 5, Status: Jaló, School: PUCP\n"
     ]
    }
   ],
   "source": [
    "Estudiante3.display_info()\n",
    "Estudiante4.display_info()"
   ]
  },
  {
   "cell_type": "code",
   "execution_count": null,
   "id": "a26f370d",
   "metadata": {},
   "outputs": [],
   "source": []
  }
 ],
 "metadata": {
  "kernelspec": {
   "display_name": "Python 3 (ipykernel)",
   "language": "python",
   "name": "python3"
  },
  "language_info": {
   "codemirror_mode": {
    "name": "ipython",
    "version": 3
   },
   "file_extension": ".py",
   "mimetype": "text/x-python",
   "name": "python",
   "nbconvert_exporter": "python",
   "pygments_lexer": "ipython3",
   "version": "3.11.5"
  }
 },
 "nbformat": 4,
 "nbformat_minor": 5
}
