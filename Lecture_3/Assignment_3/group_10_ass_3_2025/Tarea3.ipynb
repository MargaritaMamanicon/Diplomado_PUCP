{
 "cells": [
  {
   "cell_type": "code",
   "execution_count": 6,
   "id": "1ab11d92",
   "metadata": {},
   "outputs": [],
   "source": [
    "### Part 1:Loops\n",
    "## Question 1. Pass Statement\n",
    "## Write a for loop that iterates through numbers from 1 to 10.\n",
    "\n",
    "## Use the pass statement when the number is even, and print only the odd numbers.\n",
    "## Re-question: What would happen if you remove the pass statement?"
   ]
  },
  {
   "cell_type": "code",
   "execution_count": 7,
   "id": "91ffcdc7-5ec3-4b46-a35a-03c089b4fd38",
   "metadata": {},
   "outputs": [
    {
     "name": "stdout",
     "output_type": "stream",
     "text": [
      "1\n",
      "3\n",
      "5\n",
      "7\n",
      "9\n"
     ]
    }
   ],
   "source": [
    "for i in range(1, 11):   # recorre del 1 al 10\n",
    "    if i % 2 == 0:       # si es par\n",
    "        pass             # no hace nada\n",
    "    else:                # si es impar\n",
    "        print(i)\n"
   ]
  },
  {
   "cell_type": "code",
   "execution_count": null,
   "id": "7975bb99-d207-471c-a8b4-33c8aa0a5b4d",
   "metadata": {},
   "outputs": [],
   "source": [
    "## Re-question: What would happen if you remove the pass statement?"
   ]
  },
  {
   "cell_type": "code",
   "execution_count": 8,
   "id": "cca82893-eade-4dd2-b2a9-4109fb60bca4",
   "metadata": {},
   "outputs": [
    {
     "ename": "IndentationError",
     "evalue": "expected an indented block after 'if' statement on line 2 (1903739685.py, line 4)",
     "output_type": "error",
     "traceback": [
      "  \u001b[36mCell\u001b[39m\u001b[36m \u001b[39m\u001b[32mIn[8]\u001b[39m\u001b[32m, line 4\u001b[39m\n\u001b[31m    \u001b[39m\u001b[31melse:\u001b[39m\n    ^\n\u001b[31mIndentationError\u001b[39m\u001b[31m:\u001b[39m expected an indented block after 'if' statement on line 2\n"
     ]
    }
   ],
   "source": [
    "for i in range(1, 11):\n",
    "    if i % 2 == 0:\n",
    "        # nada aquí\n",
    "    else:\n",
    "        print(i)\n"
   ]
  },
  {
   "cell_type": "code",
   "execution_count": 10,
   "id": "a3309ddd-ce7e-4337-b5ac-35d9fada4e3e",
   "metadata": {},
   "outputs": [],
   "source": [
    "## Esto generaría un error de sintaxis (IndentationError o SyntaxError), porque en Python no puedes dejar un bloque if vacío.\n",
    "\n",
    "## Por eso se usa pass: para que el bloque sea válido aunque no haga nada\"\""
   ]
  },
  {
   "cell_type": "code",
   "execution_count": 11,
   "id": "62688a76-5bff-4347-8722-027297da7e26",
   "metadata": {},
   "outputs": [],
   "source": [
    "##2. Continue Statement\n",
    "##Create a loop that goes through the string \"pythonloops\".\n",
    "##Skip the letters \"o\" using the continue statement and print the remaining letters.\n",
    "##Re-question: How would you achieve the same result without using continue?"
   ]
  },
  {
   "cell_type": "code",
   "execution_count": null,
   "id": "2ce96789-22fe-4949-91ef-58ac362ae4c4",
   "metadata": {},
   "outputs": [],
   "source": [
    "for letra in \"pythonloops\":\n",
    "    if letra == \"o\":    # cuando encuentra una \"o\"\n",
    "        continue        # salta esa iteración\n",
    "    print(letra)\n"
   ]
  },
  {
   "cell_type": "code",
   "execution_count": null,
   "id": "32c2043f-2862-488b-8da2-fff53a3403bd",
   "metadata": {},
   "outputs": [],
   "source": []
  },
  {
   "cell_type": "code",
   "execution_count": null,
   "id": "041e4c92-2064-4e8a-8f1c-d3889026e253",
   "metadata": {},
   "outputs": [],
   "source": [
    "## Question 2Pass Statement\n",
    "## Write a for loop that iterates through numbers from 1 to 10.\n",
    "## Use the pass statement when the number is even, and print only the odd numbers.\n",
    "## Re-question: What would happen if you remove the pass statement?"
   ]
  },
  {
   "cell_type": "code",
   "execution_count": 12,
   "id": "d8a5af76-12e8-465e-93b3-392bf604ef14",
   "metadata": {},
   "outputs": [
    {
     "name": "stdout",
     "output_type": "stream",
     "text": [
      "p\n",
      "y\n",
      "t\n",
      "h\n",
      "n\n",
      "l\n",
      "p\n",
      "s\n"
     ]
    }
   ],
   "source": [
    "for letra in \"pythonloops\":\n",
    "    if letra == \"o\":    # cuando encuentra una \"o\"\n",
    "        continue        # salta esa iteración\n",
    "    print(letra)\n"
   ]
  },
  {
   "cell_type": "code",
   "execution_count": 13,
   "id": "832be596-bf0c-4aa3-8815-2af9de9d199a",
   "metadata": {},
   "outputs": [],
   "source": [
    "## Re-question: What would happen if you remove the pass statement?"
   ]
  },
  {
   "cell_type": "code",
   "execution_count": 14,
   "id": "8e12b90c-6f52-444a-bf6b-b73a42ea7a80",
   "metadata": {},
   "outputs": [
    {
     "name": "stdout",
     "output_type": "stream",
     "text": [
      "p\n",
      "y\n",
      "t\n",
      "h\n",
      "n\n",
      "l\n",
      "p\n",
      "s\n"
     ]
    }
   ],
   "source": [
    "## En lugar de usar continue, se puede controlar con un if normal\n",
    "for letra in \"pythonloops\":\n",
    "    if letra != \"o\":    # solo imprime si la letra NO es \"o\"\n",
    "        print(letra)\n"
   ]
  },
  {
   "cell_type": "code",
   "execution_count": 15,
   "id": "ec9ae2a1-6314-4769-b5a2-eeca0c954a3c",
   "metadata": {},
   "outputs": [],
   "source": [
    "## Question 3 Break Statement\n",
    "## Write a while loop that keeps asking the user to input numbers.\n",
    "## Break the loop if the user enters a negative number.\n",
    "## Re-question: How can you modify the loop so it ignores negative numbers instead of breaking?"
   ]
  },
  {
   "cell_type": "code",
   "execution_count": 16,
   "id": "5cc17591-a25c-4196-8bb8-4be004447cf1",
   "metadata": {},
   "outputs": [
    {
     "name": "stdin",
     "output_type": "stream",
     "text": [
      "Ingresa un número:  5\n"
     ]
    },
    {
     "name": "stdout",
     "output_type": "stream",
     "text": [
      "Ingresaste: 5\n"
     ]
    },
    {
     "name": "stdin",
     "output_type": "stream",
     "text": [
      "Ingresa un número:  -8\n"
     ]
    },
    {
     "name": "stdout",
     "output_type": "stream",
     "text": [
      "Número negativo detectado. Fin del programa.\n"
     ]
    }
   ],
   "source": [
    "while True:  # bucle infinito hasta que se rompa\n",
    "    num = int(input(\"Ingresa un número: \"))\n",
    "    if num < 0:        # condición de interrupción\n",
    "        print(\"Número negativo detectado. Fin del programa.\")\n",
    "        break\n",
    "    else:\n",
    "        print(\"Ingresaste:\", num)\n"
   ]
  },
  {
   "cell_type": "code",
   "execution_count": null,
   "id": "a31afaff-12c4-436e-a57b-9e0d91934eb5",
   "metadata": {},
   "outputs": [],
   "source": []
  },
  {
   "cell_type": "code",
   "execution_count": null,
   "id": "c8a8c0c2-6d78-4be0-824f-0c60aeda0ee0",
   "metadata": {},
   "outputs": [],
   "source": [
    "## Re-question: How can you modify the loop so it ignores negative numbers instead of breaking?"
   ]
  },
  {
   "cell_type": "code",
   "execution_count": 19,
   "id": "afe85c45-9308-4218-9270-ef30fa3df51d",
   "metadata": {},
   "outputs": [
    {
     "name": "stdin",
     "output_type": "stream",
     "text": [
      "Ingresa un número o 'q' para salir:  5\n"
     ]
    },
    {
     "name": "stdout",
     "output_type": "stream",
     "text": [
      "Ingresaste: 5\n"
     ]
    },
    {
     "name": "stdin",
     "output_type": "stream",
     "text": [
      "Ingresa un número o 'q' para salir:  'q'\n"
     ]
    },
    {
     "name": "stdout",
     "output_type": "stream",
     "text": [
      "Ingresa un ENTERO válido o 'q' para salir.\n"
     ]
    },
    {
     "name": "stdin",
     "output_type": "stream",
     "text": [
      "Ingresa un número o 'q' para salir:  q\n"
     ]
    },
    {
     "name": "stdout",
     "output_type": "stream",
     "text": [
      "Fin del programa.\n"
     ]
    }
   ],
   "source": [
    "while True:\n",
    "    s = input(\"Ingresa un número o 'q' para salir: \").strip().lower()\n",
    "    if s == 'q':         # condición de salida\n",
    "        print(\"Fin del programa.\")\n",
    "        break\n",
    "\n",
    "    try:\n",
    "        num = int(s)\n",
    "    except ValueError:\n",
    "        print(\"Ingresa un ENTERO válido o 'q' para salir.\")\n",
    "        continue\n",
    "\n",
    "    if num < 0:\n",
    "        print(\"Número negativo, ignorado.\")\n",
    "        continue\n",
    "\n",
    "    print(\"Ingresaste:\", num)\n"
   ]
  },
  {
   "cell_type": "code",
   "execution_count": null,
   "id": "c78f63a3-18b0-48a4-9e49-5066cd624ee8",
   "metadata": {},
   "outputs": [],
   "source": []
  },
  {
   "cell_type": "code",
   "execution_count": null,
   "id": "e9a65a76-879d-402e-b09d-1b76f3723eda",
   "metadata": {},
   "outputs": [],
   "source": []
  },
  {
   "cell_type": "code",
   "execution_count": null,
   "id": "7f44fa91-0a32-47fa-a9f9-63999d6b6f18",
   "metadata": {},
   "outputs": [],
   "source": []
  },
  {
   "cell_type": "code",
   "execution_count": null,
   "id": "f2cfa0dd",
   "metadata": {},
   "outputs": [],
   "source": [
    "### Part 2:Functions"
   ]
  },
  {
   "cell_type": "code",
   "execution_count": null,
   "id": "95753671-e13e-455a-933a-75768b236f50",
   "metadata": {},
   "outputs": [],
   "source": []
  },
  {
   "cell_type": "code",
   "execution_count": null,
   "id": "466ee2d4",
   "metadata": {},
   "outputs": [],
   "source": []
  },
  {
   "cell_type": "code",
   "execution_count": null,
   "id": "c9fbcd68",
   "metadata": {},
   "outputs": [],
   "source": [
    "### Part 3: Classes"
   ]
  },
  {
   "cell_type": "code",
   "execution_count": 1,
   "id": "7858f4b1",
   "metadata": {},
   "outputs": [],
   "source": [
    "#9. Class with Attributes and Methods\n",
    "## Define a class Car with attributes brand, model, and year. Add a method display_info() that prints the car’s details."
   ]
  },
  {
   "cell_type": "code",
   "execution_count": 2,
   "id": "279ed8fb",
   "metadata": {},
   "outputs": [],
   "source": [
    "# Creo la class Car, incluyendo el método \"display_info()\"\n",
    "class Car:\n",
    "    def __init__(self, brand, model, year):\n",
    "        self.brand = brand\n",
    "        self.model = model\n",
    "        self.year = year\n",
    "    def display_info(self):\n",
    "        print(f\"Car: {self.brand} {self.model}, Year: {self.year}\")"
   ]
  },
  {
   "cell_type": "code",
   "execution_count": 3,
   "id": "027219d5",
   "metadata": {},
   "outputs": [],
   "source": [
    "# Creo dos objetos:\n",
    "car1 = Car(\"Volkswagen\", \"Beetle\", 1975)\n",
    "car2 = Car(\"Honda\", \"Civic\", 2018)"
   ]
  },
  {
   "cell_type": "code",
   "execution_count": 4,
   "id": "a8913238",
   "metadata": {},
   "outputs": [
    {
     "name": "stdout",
     "output_type": "stream",
     "text": [
      "Car: Volkswagen Beetle, Year: 1975\n",
      "Car: Honda Civic, Year: 2018\n"
     ]
    }
   ],
   "source": [
    "# Llamo al método display_info() para cada objeto:\n",
    "car1.display_info()\n",
    "car2.display_info()"
   ]
  },
  {
   "cell_type": "code",
   "execution_count": 5,
   "id": "91ff53f1",
   "metadata": {},
   "outputs": [],
   "source": [
    "# 10. Using __init__ and self\n",
    "## Create a class Student with attributes name, age, and grade. Use the __init__ method to initialize these attributes.\n",
    "## Add a method is_passed() that returns \"Passed\" if grade ≥ 11, otherwise \"Failed\"."
   ]
  },
  {
   "cell_type": "code",
   "execution_count": 6,
   "id": "320c4d8e",
   "metadata": {},
   "outputs": [],
   "source": [
    "# Creamos la class Estudiante: \n",
    "class Estudiante:\n",
    "    def __init__(self, name, age, grade):\n",
    "        self.name = name\n",
    "        self.age = age\n",
    "        self.grade = grade\n",
    "    \n",
    "    # Añadimos un método para verificar si aprobó\n",
    "    def is_passed(self):\n",
    "        if self.grade >= 11:\n",
    "            return \"Aprobó\"\n",
    "        else:\n",
    "            return \"Jaló\"\n",
    "     \n",
    "    def display_info(self):\n",
    "        print(f\"Name: {self.name}, Age: {self.age}, Grade: {self.grade}, Status: {self.is_passed()}\")"
   ]
  },
  {
   "cell_type": "code",
   "execution_count": 7,
   "id": "56b2a5ed",
   "metadata": {},
   "outputs": [],
   "source": [
    "# Crearemor 2 objetos para probar\n",
    "Estudiante1 = Estudiante(\"Luis\", 20, 15)\n",
    "Estudiante2 = Estudiante(\"Ana\", 19, 9)"
   ]
  },
  {
   "cell_type": "code",
   "execution_count": 8,
   "id": "62814e3b",
   "metadata": {},
   "outputs": [
    {
     "name": "stdout",
     "output_type": "stream",
     "text": [
      "Name: Luis, Age: 20, Grade: 15, Status: Aprobó\n"
     ]
    }
   ],
   "source": [
    "# Probamos con Estudiante1\n",
    "Estudiante1.display_info()"
   ]
  },
  {
   "cell_type": "code",
   "execution_count": 9,
   "id": "00cd5d5e",
   "metadata": {},
   "outputs": [
    {
     "name": "stdout",
     "output_type": "stream",
     "text": [
      "Name: Ana, Age: 19, Grade: 9, Status: Jaló\n"
     ]
    }
   ],
   "source": [
    "# Probamos con estudiante 2:\n",
    "Estudiante2.display_info()"
   ]
  },
  {
   "cell_type": "code",
   "execution_count": 10,
   "id": "bf9223b4",
   "metadata": {},
   "outputs": [],
   "source": [
    "## Re-question: How would you modify the class to add a class attribute school = \"PUCP\" and display it for all students?"
   ]
  },
  {
   "cell_type": "code",
   "execution_count": 11,
   "id": "f2058ce7",
   "metadata": {},
   "outputs": [],
   "source": [
    "# Un atributo de clase es aquel que es compartido por todas las instancias. En este caso, será school. Para ello, redefinimos la class"
   ]
  },
  {
   "cell_type": "code",
   "execution_count": 16,
   "id": "2acd1a3d",
   "metadata": {},
   "outputs": [],
   "source": [
    "class Estudiante:\n",
    "    school = \"PUCP\"\n",
    "    def __init__(self, name, age, grade):\n",
    "        self.name = name\n",
    "        self.age = age\n",
    "        self.grade = grade\n",
    "     \n",
    "    def is_passed(self):\n",
    "        if self.grade >= 11:\n",
    "            return \"Aprobó\"\n",
    "        else:\n",
    "            return \"Jaló\"\n",
    "    def display_info(self):\n",
    "        print(f\"Name: {self.name}, Age: {self.age}, Grade: {self.grade}, Status: {self.is_passed()}, School: {Estudiante.school}\")"
   ]
  },
  {
   "cell_type": "code",
   "execution_count": 17,
   "id": "4db1d5b4",
   "metadata": {},
   "outputs": [],
   "source": [
    "# Probamos nuevamente:\n",
    "Estudiante3 = Estudiante(\"Fátima\", 24, 17)\n",
    "Estudiante4 = Estudiante(\"Jorge\", 25, 5)"
   ]
  },
  {
   "cell_type": "code",
   "execution_count": 18,
   "id": "ba718491",
   "metadata": {},
   "outputs": [],
   "source": [
    "# Probamos con Estudiante3 y Estudiante4"
   ]
  },
  {
   "cell_type": "code",
   "execution_count": 19,
   "id": "e070a6f0",
   "metadata": {},
   "outputs": [
    {
     "name": "stdout",
     "output_type": "stream",
     "text": [
      "Name: Fátima, Age: 24, Grade: 17, Status: Aprobó, School: PUCP\n",
      "Name: Jorge, Age: 25, Grade: 5, Status: Jaló, School: PUCP\n"
     ]
    }
   ],
   "source": [
    "Estudiante3.display_info()\n",
    "Estudiante4.display_info()"
   ]
  },
  {
   "cell_type": "code",
   "execution_count": null,
   "id": "a26f370d",
   "metadata": {},
   "outputs": [],
   "source": []
  }
 ],
 "metadata": {
  "kernelspec": {
   "display_name": "Python 3 (ipykernel)",
   "language": "python",
   "name": "python3"
  },
  "language_info": {
   "codemirror_mode": {
    "name": "ipython",
    "version": 3
   },
   "file_extension": ".py",
   "mimetype": "text/x-python",
   "name": "python",
   "nbconvert_exporter": "python",
   "pygments_lexer": "ipython3",
   "version": "3.11.13"
  }
 },
 "nbformat": 4,
 "nbformat_minor": 5
}
