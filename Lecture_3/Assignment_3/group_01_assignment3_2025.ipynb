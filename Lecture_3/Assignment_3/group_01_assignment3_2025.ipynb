{
 "cells": [
  {
   "cell_type": "markdown",
   "id": "515e2e14-02d0-4668-bb19-3d73bd1fb326",
   "metadata": {},
   "source": [
    "## Part 1: Loops  \n",
    "\n",
    "### 1. Pass Statement  \n",
    "Write a `for` loop that iterates through numbers from 1 to 10.  \n",
    "- Use the `pass` statement when the number is even, and print only the odd numbers.  \n",
    "- Re-question: What would happen if you remove the `pass` statement?  \n"
   ]
  },
  {
   "cell_type": "code",
   "execution_count": null,
   "id": "701a1716-8225-4e1c-87f6-0e8d27804f34",
   "metadata": {},
   "outputs": [],
   "source": []
  },
  {
   "cell_type": "markdown",
   "id": "1da61a74-f959-4cf2-a0c6-e3a960ea2917",
   "metadata": {},
   "source": [
    "---\n",
    "\n",
    "### 2. Continue Statement  \n",
    "Create a loop that goes through the string `\"pythonloops\"`.  \n",
    "- Skip the letters `\"o\"` using the `continue` statement and print the remaining letters.  \n",
    "- Re-question: How would you achieve the same result without using `continue`?  \n"
   ]
  },
  {
   "cell_type": "code",
   "execution_count": null,
   "id": "d91f7a98-0e36-4e51-acdd-7e9a9dc27353",
   "metadata": {},
   "outputs": [],
   "source": []
  },
  {
   "cell_type": "markdown",
   "id": "61ef430c-9780-4542-aae5-0cc56ab51c4f",
   "metadata": {},
   "source": [
    "---\n",
    "\n",
    "### 3. Break Statement  \n",
    "Write a `while` loop that keeps asking the user to input numbers.  \n",
    "- Break the loop if the user enters a negative number.  \n",
    "- Re-question: How can you modify the loop so it ignores negative numbers instead of breaking?  \n",
    "\n"
   ]
  },
  {
   "cell_type": "code",
   "execution_count": null,
   "id": "b8fa7857-f996-4bac-9aa2-9c4238d89866",
   "metadata": {},
   "outputs": [],
   "source": []
  },
  {
   "cell_type": "markdown",
   "id": "14df342e-dd20-4597-aa65-f8941372bc3a",
   "metadata": {},
   "source": [
    "---\n",
    "\n",
    "### 4. Try-Except Block  \n",
    "Write a loop that asks the user to input a number and divides 100 by that number.  \n",
    "- Use a `try-except` block to handle the case when the user inputs **0** or a **non-numeric value**.  \n",
    "- Re-question: How would you improve the code to keep asking until a valid input is provided?  \n",
    "\n"
   ]
  },
  {
   "cell_type": "code",
   "execution_count": null,
   "id": "42d22b46-f202-4b24-a002-804948c431dc",
   "metadata": {},
   "outputs": [],
   "source": []
  },
  {
   "cell_type": "markdown",
   "id": "ed4980ba-bddf-43fb-b304-eb03cca80c52",
   "metadata": {},
   "source": [
    "---\n",
    "\n",
    "### 5. While Loop Structure  \n",
    "Write a `while` loop that calculates the factorial of a given number `n`.  \n",
    "- Print each intermediate step of the factorial calculation.  \n",
    "- Re-question: How would you implement the same factorial calculation using a `for` loop instead?  \n",
    "\n"
   ]
  },
  {
   "cell_type": "code",
   "execution_count": null,
   "id": "fceb91b4-87d8-4fa6-b40e-82162eee295e",
   "metadata": {},
   "outputs": [],
   "source": []
  },
  {
   "cell_type": "markdown",
   "id": "ec38e517-1fce-4738-96c7-b2cbb768c924",
   "metadata": {},
   "source": [
    "---\n",
    "\n",
    "## Part 2: Functions  \n",
    "\n",
    "### 6. Function with Multiple Returns  \n",
    "Write a function `analyze_numbers(lst)` that takes a list of numbers and returns:  \n",
    "- The maximum value  \n",
    "- The minimum value  \n",
    "- The average value  \n",
    "\n",
    "- Re-question: How would you call this function and unpack the results into three variables?  \n"
   ]
  },
  {
   "cell_type": "code",
   "execution_count": null,
   "id": "876111eb-152a-4dbe-9c18-862f3bd37c1d",
   "metadata": {},
   "outputs": [],
   "source": []
  },
  {
   "cell_type": "markdown",
   "id": "554127c8-d2f8-462e-9e7f-799835281fbe",
   "metadata": {},
   "source": [
    "---\n",
    "\n",
    "### 7. Function with Default Parameters  \n",
    "Create a function `greet(name, message=\"Hello\")` that prints a greeting.  \n",
    "- Call the function with and without the `message` parameter.  \n",
    "- Re-question: How does Python decide which value to use for `message` when it is not provided?  \n",
    "\n"
   ]
  },
  {
   "cell_type": "code",
   "execution_count": null,
   "id": "e7d7baa8-bba4-4af8-9aca-33232054fa40",
   "metadata": {},
   "outputs": [],
   "source": []
  },
  {
   "cell_type": "markdown",
   "id": "b6eefc22-31c1-4a05-84f5-71a8d23d63be",
   "metadata": {},
   "source": [
    "---\n",
    "\n",
    "### 8. Function with Type Hints  \n",
    "Write a function `multiply(a: int, b: int) -> int` that returns the product of two integers.  \n",
    "- Test the function with both integers and strings.  \n",
    "- Re-question: What happens if you pass strings, and why?  \n"
   ]
  },
  {
   "cell_type": "code",
   "execution_count": null,
   "id": "4ed12cf9-7f2c-48e5-b237-ca4278b539c9",
   "metadata": {},
   "outputs": [],
   "source": []
  },
  {
   "cell_type": "markdown",
   "id": "9beddd85-7af8-450c-8ba9-c0b41ed9a92a",
   "metadata": {},
   "source": [
    "---\n",
    "\n",
    "## Part 3: Classes  \n",
    "\n",
    "### 9. Class with Attributes and Methods  \n",
    "Define a class `Car` with attributes `brand`, `model`, and `year`.  \n",
    "- Add a method `display_info()` that prints the car’s details.  \n",
    "- Re-question: Create two car objects and call the method for each one.  \n"
   ]
  },
  {
   "cell_type": "code",
   "execution_count": null,
   "id": "f5145e77-6efa-4a00-8aa5-d010a3536291",
   "metadata": {},
   "outputs": [],
   "source": []
  },
  {
   "cell_type": "markdown",
   "id": "f723b0bf-c9ad-410c-a95a-0d4d0479840f",
   "metadata": {},
   "source": [
    "---\n",
    "\n",
    "### 10. Using `__init__` and `self`  \n",
    "Create a class `Student` with attributes `name`, `age`, and `grade`.  \n",
    "- Use the `__init__` method to initialize these attributes.  \n",
    "- Add a method `is_passed()` that returns `\"Passed\"` if grade ≥ 11, otherwise `\"Failed\"`.  \n",
    "- Re-question: How would you modify the class to add a class attribute `school = \"PUCP\"` and display it for all students?  "
   ]
  },
  {
   "cell_type": "code",
   "execution_count": null,
   "id": "eb1d3e2b-d327-4e40-9267-fac280dc9f6f",
   "metadata": {},
   "outputs": [],
   "source": []
  }
 ],
 "metadata": {
  "kernelspec": {
   "display_name": "Python [conda env:base] *",
   "language": "python",
   "name": "conda-base-py"
  },
  "language_info": {
   "codemirror_mode": {
    "name": "ipython",
    "version": 3
   },
   "file_extension": ".py",
   "mimetype": "text/x-python",
   "name": "python",
   "nbconvert_exporter": "python",
   "pygments_lexer": "ipython3",
   "version": "3.11.5"
  }
 },
 "nbformat": 4,
 "nbformat_minor": 5
}
