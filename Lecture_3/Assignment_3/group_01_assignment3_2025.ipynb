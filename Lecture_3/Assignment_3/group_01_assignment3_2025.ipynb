{
 "cells": [
  {
   "cell_type": "markdown",
   "id": "515e2e14-02d0-4668-bb19-3d73bd1fb326",
   "metadata": {},
   "source": [
    "## Part 1: Loops  \n",
    "\n",
    "### 1. Pass Statement  \n",
    "Write a `for` loop that iterates through numbers from 1 to 10.  \n",
    "- Use the `pass` statement when the number is even, and print only the odd numbers.  \n",
    "- Re-question: What would happen if you remove the `pass` statement?  \n"
   ]
  },
  {
   "cell_type": "code",
   "execution_count": 13,
   "id": "701a1716-8225-4e1c-87f6-0e8d27804f34",
   "metadata": {},
   "outputs": [
    {
     "name": "stdout",
     "output_type": "stream",
     "text": [
      "1\n",
      "3\n",
      "5\n",
      "7\n",
      "9\n"
     ]
    }
   ],
   "source": [
    "# Use the pass statement when the number is even, and print only the odd numbers.\n",
    "for n in range(1, 11):\n",
    "    if n % 2 == 0:\n",
    "        pass          # si es par, no hago nada\n",
    "    else:\n",
    "        print(n)      # solo imprime los impares"
   ]
  },
  {
   "cell_type": "code",
   "execution_count": 8,
   "id": "2823cd57-ba81-49b7-b1ad-9dee559dd280",
   "metadata": {},
   "outputs": [
    {
     "name": "stdout",
     "output_type": "stream",
     "text": [
      "2\n",
      "4\n",
      "6\n",
      "8\n",
      "10\n"
     ]
    }
   ],
   "source": [
    "# What would happen if you remove the pass statement? \n",
    "for n in range(1, 11):\n",
    "    if n % 2 == 0:\n",
    "        print(n)  "
   ]
  },
  {
   "cell_type": "code",
   "execution_count": 4,
   "id": "5a4252f3-940a-4fd9-a3e8-bcd9c1ef9d38",
   "metadata": {},
   "outputs": [
    {
     "name": "stdout",
     "output_type": "stream",
     "text": [
      "1\n",
      "3\n",
      "5\n",
      "7\n",
      "9\n"
     ]
    }
   ],
   "source": [
    "# corrected version - Opción A\n",
    "for n in range(1, 11):\n",
    "    if n % 2 != 0:\n",
    "        print(n)"
   ]
  },
  {
   "cell_type": "code",
   "execution_count": 5,
   "id": "600f4583-d098-4120-b8d6-196f3299b561",
   "metadata": {},
   "outputs": [
    {
     "name": "stdout",
     "output_type": "stream",
     "text": [
      "1\n",
      "3\n",
      "5\n",
      "7\n",
      "9\n"
     ]
    }
   ],
   "source": [
    "# corrected version - Opción B\n",
    "for n in range(1, 11):\n",
    "    if n % 2 == 0:\n",
    "        continue\n",
    "    print(n)"
   ]
  },
  {
   "cell_type": "markdown",
   "id": "1da61a74-f959-4cf2-a0c6-e3a960ea2917",
   "metadata": {},
   "source": [
    "---\n",
    "\n",
    "### 2. Continue Statement  \n",
    "Create a loop that goes through the string `\"pythonloops\"`.  \n",
    "- Skip the letters `\"o\"` using the `continue` statement and print the remaining letters.  \n",
    "- Re-question: How would you achieve the same result without using `continue`?  \n"
   ]
  },
  {
   "cell_type": "code",
   "execution_count": 9,
   "id": "d91f7a98-0e36-4e51-acdd-7e9a9dc27353",
   "metadata": {},
   "outputs": [
    {
     "name": "stdout",
     "output_type": "stream",
     "text": [
      "p\n",
      "y\n",
      "t\n",
      "h\n",
      "n\n",
      "l\n",
      "p\n",
      "s\n"
     ]
    }
   ],
   "source": [
    "#Skip the letters \"o\" using the continue statement and print the remaining letters.\n",
    "s = \"pythonloops\"\n",
    "for ch in s:\n",
    "    if ch == \"o\":\n",
    "        continue   # salta a la siguiente iteración\n",
    "    print(ch)"
   ]
  },
  {
   "cell_type": "code",
   "execution_count": 12,
   "id": "149ad975-4e98-44b0-a762-a4b5016927ea",
   "metadata": {},
   "outputs": [
    {
     "name": "stdout",
     "output_type": "stream",
     "text": [
      "p\n",
      "y\n",
      "t\n",
      "h\n",
      "n\n",
      "l\n",
      "p\n",
      "s\n"
     ]
    }
   ],
   "source": [
    "#How would you achieve the same result without using continue?\n",
    "s = \"pythonloops\"\n",
    "for ch in s:\n",
    "    if ch != \"o\":   # solo imprimimos si no es \"o\"\n",
    "        print(ch)"
   ]
  },
  {
   "cell_type": "markdown",
   "id": "61ef430c-9780-4542-aae5-0cc56ab51c4f",
   "metadata": {},
   "source": [
    "---\n",
    "\n",
    "### 3. Break Statement  \n",
    "Write a `while` loop that keeps asking the user to input numbers.  \n",
    "- Break the loop if the user enters a negative number.  \n",
    "- Re-question: How can you modify the loop so it ignores negative numbers instead of breaking?  \n",
    "\n"
   ]
  },
  {
   "cell_type": "code",
   "execution_count": 18,
   "id": "b8fa7857-f996-4bac-9aa2-9c4238d89866",
   "metadata": {},
   "outputs": [
    {
     "name": "stdout",
     "output_type": "stream",
     "text": [
      "Ingresa un número:  1\n"
     ]
    },
    {
     "name": "stdout",
     "output_type": "stream",
     "text": [
      "Ingresaste: 1\n"
     ]
    },
    {
     "name": "stdout",
     "output_type": "stream",
     "text": [
      "Ingresa un número:  2\n"
     ]
    },
    {
     "name": "stdout",
     "output_type": "stream",
     "text": [
      "Ingresaste: 2\n"
     ]
    },
    {
     "name": "stdout",
     "output_type": "stream",
     "text": [
      "Ingresa un número:  -1\n"
     ]
    },
    {
     "name": "stdout",
     "output_type": "stream",
     "text": [
      "Fin del programa.\n"
     ]
    }
   ],
   "source": [
    "# Break the loop if the user enters a negative number.\n",
    "while True:\n",
    "    n = int(input(\"Ingresa un número: \"))\n",
    "    if n < 0:\n",
    "        break           # rompe el bucle si es negativo\n",
    "    print(f\"Ingresaste: {n}\")\n",
    "\n",
    "print(\"Fin del programa.\")"
   ]
  },
  {
   "cell_type": "code",
   "execution_count": 32,
   "id": "92885df4-ee3b-4550-a16c-845d88c8a847",
   "metadata": {},
   "outputs": [
    {
     "name": "stdout",
     "output_type": "stream",
     "text": [
      "Ingresa un número:  1\n"
     ]
    },
    {
     "name": "stdout",
     "output_type": "stream",
     "text": [
      "Ingresaste: 1\n"
     ]
    },
    {
     "name": "stdout",
     "output_type": "stream",
     "text": [
      "Ingresa un número:  -1\n",
      "Ingresa un número:  0\n"
     ]
    }
   ],
   "source": [
    "# How can you modify the loop so it ignores negative numbers instead of breaking? - Opción A\n",
    "while True:\n",
    "    n = int(input(\"Ingresa un número: \"))\n",
    "    if n < 0:\n",
    "        continue  # Ignora los números negativos y vuelve a pedir un número\n",
    "    if n == 0:\n",
    "        break     # Termina el bucle si el número es 0\n",
    "    print(f\"Ingresaste: {n}\")"
   ]
  },
  {
   "cell_type": "markdown",
   "id": "14df342e-dd20-4597-aa65-f8941372bc3a",
   "metadata": {},
   "source": [
    "---\n",
    "\n",
    "### 4. Try-Except Block  \n",
    "Write a loop that asks the user to input a number and divides 100 by that number.  \n",
    "- Use a `try-except` block to handle the case when the user inputs **0** or a **non-numeric value**.  \n",
    "- Re-question: How would you improve the code to keep asking until a valid input is provided?  \n",
    "\n"
   ]
  },
  {
   "cell_type": "code",
   "execution_count": 25,
   "id": "42d22b46-f202-4b24-a002-804948c431dc",
   "metadata": {},
   "outputs": [
    {
     "name": "stdout",
     "output_type": "stream",
     "text": [
      "Ingresa un número (o 'salir'):  1\n"
     ]
    },
    {
     "name": "stdout",
     "output_type": "stream",
     "text": [
      "100 / 1.0 = 100.0\n"
     ]
    },
    {
     "name": "stdout",
     "output_type": "stream",
     "text": [
      "Ingresa un número (o 'salir'):  0\n"
     ]
    },
    {
     "name": "stdout",
     "output_type": "stream",
     "text": [
      "Error: no se puede dividir entre 0.\n"
     ]
    },
    {
     "name": "stdout",
     "output_type": "stream",
     "text": [
      "Ingresa un número (o 'salir'):  -1\n"
     ]
    },
    {
     "name": "stdout",
     "output_type": "stream",
     "text": [
      "100 / -1.0 = -100.0\n"
     ]
    },
    {
     "name": "stdout",
     "output_type": "stream",
     "text": [
      "Ingresa un número (o 'salir'):  100\n"
     ]
    },
    {
     "name": "stdout",
     "output_type": "stream",
     "text": [
      "100 / 100.0 = 1.0\n"
     ]
    },
    {
     "name": "stdout",
     "output_type": "stream",
     "text": [
      "Ingresa un número (o 'salir'):  101\n"
     ]
    },
    {
     "name": "stdout",
     "output_type": "stream",
     "text": [
      "100 / 101.0 = 0.9900990099009901\n"
     ]
    },
    {
     "name": "stdout",
     "output_type": "stream",
     "text": [
      "Ingresa un número (o 'salir'):  a\n"
     ]
    },
    {
     "name": "stdout",
     "output_type": "stream",
     "text": [
      "Error: ingresa un valor numérico válido.\n"
     ]
    },
    {
     "name": "stdout",
     "output_type": "stream",
     "text": [
      "Ingresa un número (o 'salir'):  salir\n"
     ]
    },
    {
     "name": "stdout",
     "output_type": "stream",
     "text": [
      "Fin.\n"
     ]
    }
   ],
   "source": [
    "# Use a try-except block to handle the case when the user inputs 0 or a non-numeric value.\n",
    "while True:\n",
    "    s = input(\"Ingresa un número (o 'salir'): \").strip().lower()\n",
    "    if s == \"salir\":\n",
    "        print(\"Fin.\")\n",
    "        break\n",
    "    try:\n",
    "        n = float(s)\n",
    "        print(f\"100 / {n} = {100 / n}\")\n",
    "    except ZeroDivisionError:\n",
    "        print(\"Error: no se puede dividir entre 0.\")\n",
    "    except ValueError:\n",
    "        print(\"Error: ingresa un valor numérico válido.\")"
   ]
  },
  {
   "cell_type": "code",
   "execution_count": 33,
   "id": "7f118f1a-63ea-4efd-937d-0ca05bbc0bab",
   "metadata": {},
   "outputs": [
    {
     "name": "stdout",
     "output_type": "stream",
     "text": [
      "Ingresa un número distinto de 0:  0\n"
     ]
    },
    {
     "name": "stdout",
     "output_type": "stream",
     "text": [
      "Entrada inválida (no numérico o 0). Intenta nuevamente.\n"
     ]
    },
    {
     "name": "stdout",
     "output_type": "stream",
     "text": [
      "Ingresa un número distinto de 0:  20\n"
     ]
    },
    {
     "name": "stdout",
     "output_type": "stream",
     "text": [
      "100 / 20.0 = 5.0\n"
     ]
    }
   ],
   "source": [
    "# How would you improve the code to keep asking until a valid input is provided?\n",
    "while True:\n",
    "    s = input(\"Ingresa un número distinto de 0: \").strip()\n",
    "    try:\n",
    "        n = float(s)\n",
    "        if n == 0:\n",
    "            raise ZeroDivisionError\n",
    "        break  # válido: salimos del bucle de validación\n",
    "    except (ValueError, ZeroDivisionError):\n",
    "        print(\"Entrada inválida (no numérico o 0). Intenta nuevamente.\")\n",
    "\n",
    "# Cálculo seguro\n",
    "print(f\"100 / {n} = {100 / n}\")"
   ]
  },
  {
   "cell_type": "markdown",
   "id": "ed4980ba-bddf-43fb-b304-eb03cca80c52",
   "metadata": {},
   "source": [
    "---\n",
    "\n",
    "### 5. While Loop Structure  \n",
    "Write a `while` loop that calculates the factorial of a given number `n`.  \n",
    "- Print each intermediate step of the factorial calculation.  \n",
    "- Re-question: How would you implement the same factorial calculation using a `for` loop instead?  \n",
    "\n"
   ]
  },
  {
   "cell_type": "code",
   "execution_count": 6,
   "id": "fceb91b4-87d8-4fa6-b40e-82162eee295e",
   "metadata": {},
   "outputs": [
    {
     "name": "stdout",
     "output_type": "stream",
     "text": [
      "Paso 1: 1\n",
      "Paso 2: 2\n",
      "Paso 3: 6\n",
      "Paso 4: 24\n",
      "Paso 5: 120\n",
      "Paso 6: 720\n",
      "Paso 7: 5040\n",
      "Paso 8: 40320\n",
      "\n",
      "El factorial de 8 es: 40320\n"
     ]
    }
   ],
   "source": [
    "# Factorial con while loop\n",
    "n = 8\n",
    "resultado = 1\n",
    "i = 1\n",
    "\n",
    "while i <= n:\n",
    "    resultado *= i\n",
    "    print(f\"Paso {i}: {resultado}\")  # imprime el valor acumulado en cada paso\n",
    "    i += 1\n",
    "\n",
    "print(f\"\\nEl factorial de {n} es: {resultado}\")\n"
   ]
  },
  {
   "cell_type": "code",
   "execution_count": 7,
   "id": "f8cd983b-b20b-4f85-96e4-2bc7c3609147",
   "metadata": {},
   "outputs": [
    {
     "name": "stdout",
     "output_type": "stream",
     "text": [
      "Paso 1: 1\n",
      "Paso 2: 2\n",
      "Paso 3: 6\n",
      "Paso 4: 24\n",
      "Paso 5: 120\n",
      "Paso 6: 720\n",
      "Paso 7: 5040\n",
      "Paso 8: 40320\n",
      "\n",
      "El factorial de 8 es: 40320\n"
     ]
    }
   ],
   "source": [
    "# Factorial con for loop\n",
    "n = 8\n",
    "resultado = 1\n",
    "\n",
    "for i in range(1, n+1):\n",
    "    resultado *= i\n",
    "    print(f\"Paso {i}: {resultado}\")\n",
    "\n",
    "print(f\"\\nEl factorial de {n} es: {resultado}\")\n"
   ]
  },
  {
   "cell_type": "code",
   "execution_count": null,
   "id": "5a7a9930-9534-404b-ada4-3e7f9ca9bfbb",
   "metadata": {},
   "outputs": [],
   "source": []
  },
  {
   "cell_type": "markdown",
   "id": "ec38e517-1fce-4738-96c7-b2cbb768c924",
   "metadata": {},
   "source": [
    "---\n",
    "\n",
    "## Part 2: Functions  \n",
    "\n",
    "### 6. Function with Multiple Returns  \n",
    "Write a function `analyze_numbers(lst)` that takes a list of numbers and returns:  \n",
    "- The maximum value  \n",
    "- The minimum value  \n",
    "- The average value  \n",
    "\n",
    "- Re-question: How would you call this function and unpack the results into three variables?  \n"
   ]
  },
  {
   "cell_type": "code",
   "execution_count": 10,
   "id": "876111eb-152a-4dbe-9c18-862f3bd37c1d",
   "metadata": {},
   "outputs": [
    {
     "name": "stdout",
     "output_type": "stream",
     "text": [
      "Máximo: 67\n",
      "Mínimo: 10\n",
      "Promedio: 32.5\n"
     ]
    }
   ],
   "source": [
    "def analyze_numbers(lst):\n",
    "    max_val = max(lst)       # máximo\n",
    "    min_val = min(lst)       # mínimo\n",
    "    avg_val = sum(lst) / len(lst)  # promedio\n",
    "    return max_val, min_val, avg_val\n",
    "\n",
    "numeros = [10, 28, 20, 67, 15, 55]\n",
    "\n",
    "maximo, minimo, promedio = analyze_numbers(numeros)\n",
    "\n",
    "print(\"Máximo:\", maximo)\n",
    "print(\"Mínimo:\", minimo)\n",
    "print(\"Promedio:\", promedio)\n"
   ]
  },
  {
   "cell_type": "code",
   "execution_count": null,
   "id": "e3b01661-72c4-445e-889d-04d5f1184b42",
   "metadata": {},
   "outputs": [],
   "source": []
  },
  {
   "cell_type": "code",
   "execution_count": null,
   "id": "f6ba3076-dab9-4e71-bfe7-28e5b17eb3b7",
   "metadata": {},
   "outputs": [],
   "source": []
  },
  {
   "cell_type": "markdown",
   "id": "554127c8-d2f8-462e-9e7f-799835281fbe",
   "metadata": {},
   "source": [
    "---\n",
    "\n",
    "### 7. Function with Default Parameters  \n",
    "Create a function `greet(name, message=\"Hello\")` that prints a greeting.  \n",
    "- Call the function with and without the `message` parameter.  \n",
    "- Re-question: How does Python decide which value to use for `message` when it is not provided?  \n",
    "\n"
   ]
  },
  {
   "cell_type": "code",
   "execution_count": 5,
   "id": "e7d7baa8-bba4-4af8-9aca-33232054fa40",
   "metadata": {},
   "outputs": [
    {
     "name": "stdout",
     "output_type": "stream",
     "text": [
      "Buenos días, Nadia!\n",
      "Hello, Grabiel!\n"
     ]
    }
   ],
   "source": [
    "def greet(name, message=\"Hello\"):\n",
    "    print(f\"{message}, {name}!\")\n",
    "\n",
    "# Con el parámetro message (se sobreescribe el valor por defecto)\n",
    "greet(\"Nadia\", \"Buenos días\")\n",
    "\n",
    "# Sin el parámetro message (usa el valor por defecto \"Hello\")\n",
    "greet(\"Grabiel\")\n"
   ]
  },
  {
   "cell_type": "code",
   "execution_count": null,
   "id": "f11f079f-192c-4cd4-9318-b23760119bd7",
   "metadata": {},
   "outputs": [],
   "source": []
  },
  {
   "cell_type": "code",
   "execution_count": null,
   "id": "2701c395-c138-40a6-8566-53e9209cc904",
   "metadata": {},
   "outputs": [],
   "source": []
  },
  {
   "cell_type": "markdown",
   "id": "b6eefc22-31c1-4a05-84f5-71a8d23d63be",
   "metadata": {},
   "source": [
    "---\n",
    "\n",
    "### 8. Function with Type Hints  \n",
    "Write a function `multiply(a: int, b: int) -> int` that returns the product of two integers.  \n",
    "- Test the function with both integers and strings.  \n",
    "- Re-question: What happens if you pass strings, and why?  \n"
   ]
  },
  {
   "cell_type": "code",
   "execution_count": 22,
   "id": "4ed12cf9-7f2c-48e5-b237-ca4278b539c9",
   "metadata": {},
   "outputs": [
    {
     "name": "stdout",
     "output_type": "stream",
     "text": [
      "45\n",
      "Hola MundoHola Mundo\n"
     ]
    }
   ],
   "source": [
    "def multiply(a: int, b: int) -> int:\n",
    "    return a * b\n",
    "\n",
    "print(multiply(5,9))\n",
    "\n",
    "# What happens if you pass string, and why?\n",
    "print(multiply('Hola Mundo',2))"
   ]
  },
  {
   "cell_type": "markdown",
   "id": "fe5c7a0c",
   "metadata": {},
   "source": [
    "- Type Hints, son solo sugerencias que sirven para la legibiilidad del código, no aplica de forma estricta."
   ]
  },
  {
   "cell_type": "markdown",
   "id": "9beddd85-7af8-450c-8ba9-c0b41ed9a92a",
   "metadata": {},
   "source": [
    "---\n",
    "\n",
    "## Part 3: Classes  \n",
    "\n",
    "### 9. Class with Attributes and Methods  \n",
    "Define a class `Car` with attributes `brand`, `model`, and `year`.  \n",
    "- Add a method `display_info()` that prints the car’s details.  \n",
    "- Re-question: Create two car objects and call the method for each one.  \n"
   ]
  },
  {
   "cell_type": "code",
   "execution_count": 7,
   "id": "f5145e77-6efa-4a00-8aa5-d010a3536291",
   "metadata": {},
   "outputs": [],
   "source": [
    "class Car:\n",
    "    def __init__(self, brand, model, year):\n",
    "        self.brand = brand\n",
    "        self.model = model\n",
    "        self.year = year\n",
    "    \n",
    "    def display_info(self):\n",
    "        print(f'Car information, brand: {self.brand}, model: {self.model}, year: {self.year}')\n",
    "        "
   ]
  },
  {
   "cell_type": "code",
   "execution_count": 8,
   "id": "67301f45",
   "metadata": {},
   "outputs": [
    {
     "name": "stdout",
     "output_type": "stream",
     "text": [
      "Car information, brand: Kia, model: Rio, year: 2025\n",
      "Car information, brand: Hyundai, model: Elantra, year: 2024\n"
     ]
    }
   ],
   "source": [
    "car1 = Car('Kia', 'Rio', 2025)\n",
    "car2 = Car('Hyundai', 'Elantra', 2024)\n",
    "\n",
    "car1.display_info()\n",
    "car2.display_info()"
   ]
  },
  {
   "cell_type": "markdown",
   "id": "f723b0bf-c9ad-410c-a95a-0d4d0479840f",
   "metadata": {},
   "source": [
    "---\n",
    "\n",
    "### 10. Using `__init__` and `self`  \n",
    "Create a class `Student` with attributes `name`, `age`, and `grade`.  \n",
    "- Use the `__init__` method to initialize these attributes.  \n",
    "- Add a method `is_passed()` that returns `\"Passed\"` if grade ≥ 11, otherwise `\"Failed\"`.  \n",
    "- Re-question: How would you modify the class to add a class attribute `school = \"PUCP\"` and display it for all students?  "
   ]
  },
  {
   "cell_type": "code",
   "execution_count": 16,
   "id": "eb1d3e2b-d327-4e40-9267-fac280dc9f6f",
   "metadata": {},
   "outputs": [],
   "source": [
    "class Student:\n",
    "    def __init__(self,name, age, grade):\n",
    "        self.name = name\n",
    "        self.age = age\n",
    "        self.grade = grade\n",
    "    \n",
    "    def is_passed(self):\n",
    "        if self.grade >= 11:\n",
    "            return(\"Passed\")\n",
    "        else:\n",
    "            return(\"Failed\")  \n",
    "        "
   ]
  },
  {
   "cell_type": "code",
   "execution_count": 17,
   "id": "83aa4985",
   "metadata": {},
   "outputs": [
    {
     "name": "stdout",
     "output_type": "stream",
     "text": [
      "Jorge - Passed\n",
      "Max - Failed\n"
     ]
    }
   ],
   "source": [
    "student1 = Student(\"Jorge\", 18, 15)\n",
    "student2 = Student(\"Max\", 17, 9)\n",
    "\n",
    "print(student1.name, \"-\", student1.is_passed()) \n",
    "print(student2.name, \"-\", student2.is_passed())"
   ]
  },
  {
   "cell_type": "code",
   "execution_count": 18,
   "id": "e7fa0d24",
   "metadata": {},
   "outputs": [],
   "source": [
    "class Student:\n",
    "    #class atrtribute\n",
    "    school = 'PUCP'\n",
    "    \n",
    "    def __init__(self,name, age, grade):\n",
    "        self.name = name\n",
    "        self.age = age\n",
    "        self.grade = grade\n",
    "    \n",
    "    def is_passed(self):\n",
    "        if self.grade >= 11:\n",
    "            return(\"Passed\")\n",
    "        else:\n",
    "            return(\"Failed\")\n",
    "    \n",
    "    def display_info(self):\n",
    "        print(f'Student information, name: {self.name}, age: {self.age}, grade: {self.grade} - {self.is_passed()}, school : {Student.school}')"
   ]
  },
  {
   "cell_type": "code",
   "execution_count": 19,
   "id": "6374058b",
   "metadata": {},
   "outputs": [
    {
     "name": "stdout",
     "output_type": "stream",
     "text": [
      "Student information, name: Jorge, age: 18, grade: 15 - Passed, school : PUCP\n",
      "Student information, name: Max, age: 17, grade: 9 - Failed, school : PUCP\n"
     ]
    }
   ],
   "source": [
    "student1 = Student(\"Jorge\", 18, 15)\n",
    "student2 = Student(\"Max\", 17, 9)\n",
    "\n",
    "student1.display_info()\n",
    "student2.display_info()"
   ]
  }
 ],
 "metadata": {
  "kernelspec": {
   "display_name": "Python [conda env:base] *",
   "language": "python",
   "name": "conda-base-py"
  },
  "language_info": {
   "codemirror_mode": {
    "name": "ipython",
    "version": 3
   },
   "file_extension": ".py",
   "mimetype": "text/x-python",
   "name": "python",
   "nbconvert_exporter": "python",
   "pygments_lexer": "ipython3",
   "version": "3.11.5"
  }
 },
 "nbformat": 4,
 "nbformat_minor": 5
}
