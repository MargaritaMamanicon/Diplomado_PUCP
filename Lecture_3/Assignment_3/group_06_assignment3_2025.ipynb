{
 "cells": [
  {
   "cell_type": "markdown",
   "id": "d46b5349",
   "metadata": {},
   "source": [
    "# Assignment 3 - Part 2: Functions"
   ]
  },
  {
   "cell_type": "markdown",
   "id": "33df195b",
   "metadata": {},
   "source": [
    "## 6. Function with Multiple Returns\n",
    "\n",
    "\n",
    "**Re-question**: How would you call this function and unpack the results into three variables?\n",
    "**Answer**: max_val, min_val, avg_val = analyze_numbers(numbers)"
   ]
  },
  {
   "cell_type": "code",
   "execution_count": 1,
   "id": "50b77952",
   "metadata": {
    "execution": {
     "iopub.execute_input": "2025-09-10T03:36:07.903295Z",
     "iopub.status.busy": "2025-09-10T03:36:07.902989Z",
     "iopub.status.idle": "2025-09-10T03:36:07.910385Z",
     "shell.execute_reply": "2025-09-10T03:36:07.909892Z"
    }
   },
   "outputs": [
    {
     "name": "stdout",
     "output_type": "stream",
     "text": [
      "Maximum: 20\n",
      "Minimum: 3\n",
      "Average: 9.0\n"
     ]
    }
   ],
   "source": [
    "def analyze_numbers(lst):\n",
    "    maximum = max(lst)\n",
    "    minimum = min(lst)\n",
    "    average = sum(lst) / len(lst)\n",
    "    return maximum, minimum, average\n",
    "\n",
    "# Example\n",
    "numbers = [10, 5, 20, 3, 7]\n",
    "max_val, min_val, avg_val = analyze_numbers(numbers)\n",
    "\n",
    "print(\"Maximum:\", max_val)\n",
    "print(\"Minimum:\", min_val)\n",
    "print(\"Average:\", avg_val)"
   ]
  },
  {
   "cell_type": "markdown",
   "id": "862b1a27",
   "metadata": {},
   "source": [
    "## 7. Function with Default Parameters\n",
    "\n",
    "\n",
    "**Re-question**: How does Python decide which value to use for `message` when it is not provided?\n",
    "**Answer**: The default value is \"Hello\" when a message parameter is not provided."
   ]
  },
  {
   "cell_type": "code",
   "execution_count": 2,
   "id": "3a1ce2a3",
   "metadata": {
    "execution": {
     "iopub.execute_input": "2025-09-10T03:36:07.913247Z",
     "iopub.status.busy": "2025-09-10T03:36:07.913002Z",
     "iopub.status.idle": "2025-09-10T03:36:07.916772Z",
     "shell.execute_reply": "2025-09-10T03:36:07.916213Z"
    }
   },
   "outputs": [
    {
     "name": "stdout",
     "output_type": "stream",
     "text": [
      "Hello, Sarita!\n",
      "Buenos días, Sarita!\n"
     ]
    }
   ],
   "source": [
    "def greet(name, message=\"Hello\"):\n",
    "    print(f\"{message}, {name}!\")\n",
    "\n",
    "# Calling with and without the message parameter\n",
    "greet(\"Sarita\")                 # Uses default value \"Hello\"\n",
    "greet(\"Sarita\", \"Buenos días\")  # Uses the provided value"
   ]
  },
  {
   "cell_type": "markdown",
   "id": "91f8b5fd",
   "metadata": {},
   "source": [
    "## 8. Function with Type Hints\n",
    "\n",
    "\n",
    "**Re-question**: What happens if you pass strings, and why?\n",
    "**Answer**:if you pass strings it would give you an error unless is mixed with an integer as below."
   ]
  },
  {
   "cell_type": "code",
   "execution_count": 3,
   "id": "841c3a7e",
   "metadata": {
    "execution": {
     "iopub.execute_input": "2025-09-10T03:36:07.920593Z",
     "iopub.status.busy": "2025-09-10T03:36:07.920321Z",
     "iopub.status.idle": "2025-09-10T03:36:07.924564Z",
     "shell.execute_reply": "2025-09-10T03:36:07.923994Z"
    }
   },
   "outputs": [
    {
     "name": "stdout",
     "output_type": "stream",
     "text": [
      "12\n",
      "hihihi\n"
     ]
    }
   ],
   "source": [
    "def multiply(a: int, b: int) -> int:\n",
    "    return a * b\n",
    "\n",
    "# Test with integers\n",
    "print(multiply(3, 4))   # 12\n",
    "\n",
    "# Test with strings\n",
    "print(multiply(\"hi\", 3))   # \"hihihi\"\n",
    "\n",
    "# This will raise an error:\n",
    "# print(multiply(\"hi\", \"bye\"))"
   ]
  }
 ],
 "metadata": {
  "kernelspec": {
   "display_name": "Python 3 (ipykernel)",
   "language": "python",
   "name": "python3"
  },
  "language_info": {
   "codemirror_mode": {
    "name": "ipython",
    "version": 3
   },
   "file_extension": ".py",
   "mimetype": "text/x-python",
   "name": "python",
   "nbconvert_exporter": "python",
   "pygments_lexer": "ipython3",
   "version": "3.11.5"
  }
 },
 "nbformat": 4,
 "nbformat_minor": 5
}
