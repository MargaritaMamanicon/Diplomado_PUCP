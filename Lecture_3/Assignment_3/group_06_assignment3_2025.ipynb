{
 "cells": [
  {
   "cell_type": "markdown",
   "id": "d46b5349",
   "metadata": {},
   "source": [
    "# Assignment 3 - Grupo 6"
   ]
  },
  {
   "cell_type": "markdown",
   "id": "eae267d5",
   "metadata": {},
   "source": [
    "# Part 1"
   ]
  },
  {
   "cell_type": "markdown",
   "id": "85abc6f2",
   "metadata": {},
   "source": [
    "## 1. Pass Statement\n",
    "Write a for loop that iterates through numbers from 1 to 10. Use the pass statement when the number is even, and print only the odd numbers.\n",
    "\n",
    "Re-question: What would happen if you remove the pass statement?"
   ]
  },
  {
   "cell_type": "code",
   "execution_count": 1,
   "id": "9a531213",
   "metadata": {},
   "outputs": [
    {
     "name": "stdout",
     "output_type": "stream",
     "text": [
      "1\n",
      "3\n",
      "5\n",
      "7\n",
      "9\n"
     ]
    }
   ],
   "source": [
    "for num in range(1, 11):\n",
    "    if num % 2 == 0:\n",
    "        pass  # Even numbers: do nothing\n",
    "    else:\n",
    "        print(num)"
   ]
  },
  {
   "cell_type": "markdown",
   "id": "62e5bcf8",
   "metadata": {},
   "source": [
    "## 2. Continue Statement\n",
    "Create a loop that goes through the string \"pythonloops\". Skip the letters \"o\" using the continue statement and print the remaining letters.\n",
    "\n",
    "Re-question: How would you achieve the same result without using continue?"
   ]
  },
  {
   "cell_type": "code",
   "execution_count": 2,
   "id": "cd34bae9",
   "metadata": {},
   "outputs": [
    {
     "name": "stdout",
     "output_type": "stream",
     "text": [
      "p\n",
      "y\n",
      "t\n",
      "h\n",
      "n\n",
      "l\n",
      "p\n",
      "s\n",
      "p\n",
      "y\n",
      "t\n",
      "h\n",
      "n\n",
      "l\n",
      "p\n",
      "s\n"
     ]
    }
   ],
   "source": [
    "for letter in \"pythonloops\":\n",
    "    if letter == \"o\":\n",
    "        continue\n",
    "    print(letter)\n",
    "\n",
    "# Re-question: if negativo:\n",
    "for letter in \"pythonloops\":\n",
    "    if letter != \"o\":\n",
    "        print(letter)"
   ]
  },
  {
   "cell_type": "markdown",
   "id": "69f88206",
   "metadata": {},
   "source": [
    "## 3. Break Statement\n",
    "Write a while loop that keeps asking the user to input numbers. Break the loop if the user enters a negative number.\n",
    "\n",
    "Re-question: How can you modify the loop so it ignores negative numbers instead of breaking?"
   ]
  },
  {
   "cell_type": "code",
   "execution_count": 7,
   "id": "3b4f8bff",
   "metadata": {},
   "outputs": [
    {
     "name": "stdout",
     "output_type": "stream",
     "text": [
      "You entered: 5.0\n",
      "Negative number ignored.\n",
      "Negative number ignored.\n"
     ]
    }
   ],
   "source": [
    "while True:\n",
    "    num = float(input(\"Enter a number (negative to stop): \"))\n",
    "    if num < 0:\n",
    "        break\n",
    "    print(f\"You entered: {num}\")\n",
    "\n",
    "# Re-question:\n",
    "while True:\n",
    "    num = float(input(\"Enter a number (negative to ignore, 999 to stop): \"))\n",
    "    if num == 999:\n",
    "        break\n",
    "    if num < 0:\n",
    "        print(\"Negative number ignored.\")\n",
    "        continue\n",
    "    print(f\"You entered: {num}\")"
   ]
  },
  {
   "cell_type": "markdown",
   "id": "c8938d07",
   "metadata": {},
   "source": [
    "## 4.  Try-Except Block\n",
    "Write a loop that asks the user to input a number and divides 100 by that number. Use a try-except block to handle the case when the user inputs 0 or a non-numeric value.\n",
    "\n",
    "Re-question: How would you improve the code to keep asking until a valid input is provided?"
   ]
  },
  {
   "cell_type": "code",
   "execution_count": 8,
   "id": "d89738bc",
   "metadata": {},
   "outputs": [
    {
     "name": "stdout",
     "output_type": "stream",
     "text": [
      "100 / 1500.0 = 0.06666666666666667\n",
      "100 / 1400.0 = 0.07142857142857142\n"
     ]
    }
   ],
   "source": [
    "while True:\n",
    "    try:\n",
    "        x = float(input(\"Enter a number to divide 100 by: \"))\n",
    "        result = 100 / x\n",
    "        print(f\"100 / {x} = {result}\")\n",
    "        break\n",
    "    except ZeroDivisionError:\n",
    "        print(\"Cannot divide by zero.\")\n",
    "    except ValueError:\n",
    "        print(\"Invalid input, please enter a number.\")\n",
    "\n",
    "# Re-question\n",
    "while True:\n",
    "    try:\n",
    "        x = float(input(\"Enter a number to divide 100 by: \"))\n",
    "        result = 100 / x\n",
    "        print(f\"100 / {x} = {result}\")\n",
    "        break  # solo sale si la división fue exitosa\n",
    "    except ZeroDivisionError:\n",
    "        print(\"Cannot divide by zero, try again.\")\n",
    "    except ValueError:\n",
    "        print(\"Invalid input, please enter a number.\")"
   ]
  },
  {
   "cell_type": "markdown",
   "id": "f74b4d0b",
   "metadata": {},
   "source": [
    "## 5.  While Loop Structure\n",
    "Write a while loop that calculates the factorial of a given number n. Print each intermediate step of the factorial calculation.\n",
    "\n",
    "Re-question: How would you implement the same factorial calculation using a for loop instead?"
   ]
  },
  {
   "cell_type": "code",
   "execution_count": 9,
   "id": "5e54c055",
   "metadata": {},
   "outputs": [
    {
     "name": "stdout",
     "output_type": "stream",
     "text": [
      "Step 1: 1\n",
      "Step 2: 2\n",
      "Step 3: 6\n",
      "Step 4: 24\n",
      "Step 5: 120\n",
      "Factorial of 5 is 120\n",
      "Step 1: 1\n",
      "Step 2: 2\n",
      "Step 3: 6\n",
      "Step 4: 24\n",
      "Step 5: 120\n",
      "Factorial of 5 is 120\n"
     ]
    }
   ],
   "source": [
    "n = int(input(\"Enter a number to calculate factorial: \"))\n",
    "fact = 1\n",
    "i = 1\n",
    "while i <= n:\n",
    "    fact *= i\n",
    "    print(f\"Step {i}: {fact}\")\n",
    "    i += 1\n",
    "print(f\"Factorial of {n} is {fact}\")\n",
    "\n",
    "# Re-question:\n",
    "fact = 1\n",
    "for i in range(1, n+1):\n",
    "    fact *= i\n",
    "    print(f\"Step {i}: {fact}\")\n",
    "print(f\"Factorial of {n} is {fact}\")"
   ]
  },
  {
   "cell_type": "markdown",
   "id": "3913d9e1",
   "metadata": {},
   "source": [
    "# Part 2"
   ]
  },
  {
   "cell_type": "markdown",
   "id": "33df195b",
   "metadata": {},
   "source": [
    "## 6. Function with Multiple Returns\n",
    "\n",
    "\n",
    "**Re-question**: How would you call this function and unpack the results into three variables?\n",
    "**Answer**: max_val, min_val, avg_val = analyze_numbers(numbers)"
   ]
  },
  {
   "cell_type": "code",
   "execution_count": null,
   "id": "50b77952",
   "metadata": {
    "execution": {
     "iopub.execute_input": "2025-09-10T03:36:07.903295Z",
     "iopub.status.busy": "2025-09-10T03:36:07.902989Z",
     "iopub.status.idle": "2025-09-10T03:36:07.910385Z",
     "shell.execute_reply": "2025-09-10T03:36:07.909892Z"
    }
   },
   "outputs": [
    {
     "name": "stdout",
     "output_type": "stream",
     "text": [
      "Maximum: 20\n",
      "Minimum: 3\n",
      "Average: 9.0\n"
     ]
    }
   ],
   "source": [
    "def analyze_numbers(lst):\n",
    "    maximum = max(lst)\n",
    "    minimum = min(lst)\n",
    "    average = sum(lst) / len(lst)\n",
    "    return maximum, minimum, average\n",
    "\n",
    "# Example\n",
    "numbers = [10, 5, 20, 3, 7]\n",
    "max_val, min_val, avg_val = analyze_numbers(numbers)\n",
    "\n",
    "print(\"Maximum:\", max_val)\n",
    "print(\"Minimum:\", min_val)\n",
    "print(\"Average:\", avg_val)"
   ]
  },
  {
   "cell_type": "markdown",
   "id": "862b1a27",
   "metadata": {},
   "source": [
    "## 7. Function with Default Parameters\n",
    "\n",
    "\n",
    "**Re-question**: How does Python decide which value to use for `message` when it is not provided?\n",
    "**Answer**: The default value is \"Hello\" when a message parameter is not provided."
   ]
  },
  {
   "cell_type": "code",
   "execution_count": null,
   "id": "3a1ce2a3",
   "metadata": {
    "execution": {
     "iopub.execute_input": "2025-09-10T03:36:07.913247Z",
     "iopub.status.busy": "2025-09-10T03:36:07.913002Z",
     "iopub.status.idle": "2025-09-10T03:36:07.916772Z",
     "shell.execute_reply": "2025-09-10T03:36:07.916213Z"
    }
   },
   "outputs": [
    {
     "name": "stdout",
     "output_type": "stream",
     "text": [
      "Hello, Sarita!\n",
      "Buenos días, Sarita!\n"
     ]
    }
   ],
   "source": [
    "def greet(name, message=\"Hello\"):\n",
    "    print(f\"{message}, {name}!\")\n",
    "\n",
    "# Calling with and without the message parameter\n",
    "greet(\"Sarita\")                 # Uses default value \"Hello\"\n",
    "greet(\"Sarita\", \"Buenos días\")  # Uses the provided value"
   ]
  },
  {
   "cell_type": "markdown",
   "id": "91f8b5fd",
   "metadata": {},
   "source": [
    "## 8. Function with Type Hints\n",
    "\n",
    "\n",
    "**Re-question**: What happens if you pass strings, and why?\n",
    "**Answer**:if you pass strings it would give you an error unless is mixed with an integer as below."
   ]
  },
  {
   "cell_type": "code",
   "execution_count": null,
   "id": "841c3a7e",
   "metadata": {
    "execution": {
     "iopub.execute_input": "2025-09-10T03:36:07.920593Z",
     "iopub.status.busy": "2025-09-10T03:36:07.920321Z",
     "iopub.status.idle": "2025-09-10T03:36:07.924564Z",
     "shell.execute_reply": "2025-09-10T03:36:07.923994Z"
    }
   },
   "outputs": [
    {
     "name": "stdout",
     "output_type": "stream",
     "text": [
      "12\n",
      "hihihi\n"
     ]
    }
   ],
   "source": [
    "def multiply(a: int, b: int) -> int:\n",
    "    return a * b\n",
    "\n",
    "# Test with integers\n",
    "print(multiply(3, 4))   # 12\n",
    "\n",
    "# Test with strings\n",
    "print(multiply(\"hi\", 3))   # \"hihihi\"\n",
    "\n",
    "# This will raise an error:\n",
    "# print(multiply(\"hi\", \"bye\"))"
   ]
  },
  {
   "cell_type": "markdown",
   "id": "a1f2d38b",
   "metadata": {},
   "source": [
    "# Part 3"
   ]
  },
  {
   "cell_type": "markdown",
   "id": "cf79dc3b",
   "metadata": {},
   "source": [
    "## 9. Class with Attributes and Methods\n",
    "Define a class Car with attributes brand, model, and year. Add a method display_info() that prints the car’s details.\n",
    "\n",
    "Re-question: Create two car objects and call the method for each one."
   ]
  },
  {
   "cell_type": "code",
   "execution_count": 2,
   "id": "f21d76ce",
   "metadata": {},
   "outputs": [
    {
     "name": "stdout",
     "output_type": "stream",
     "text": [
      "Brand: Toyota, Model: Corolla, Year: 2020\n",
      "Brand: Nissan, Model: Sentra, Year: 2022\n"
     ]
    }
   ],
   "source": [
    "class Car:\n",
    "    def __init__(self, brand, model, year):\n",
    "        self.brand = brand\n",
    "        self.model = model\n",
    "        self.year = year\n",
    "\n",
    "    def display_info(self):\n",
    "        print(f\"Brand: {self.brand}, Model: {self.model}, Year: {self.year}\")\n",
    "\n",
    "# Re-question: Crear dos objetos y llamar el método\n",
    "car1 = Car(\"Toyota\", \"Corolla\", 2020)\n",
    "car2 = Car(\"Nissan\", \"Sentra\", 2022)\n",
    "\n",
    "car1.display_info()\n",
    "car2.display_info()"
   ]
  },
  {
   "cell_type": "markdown",
   "id": "b012c0e5",
   "metadata": {},
   "source": [
    "##  10. Using __init__ and self\n",
    "Create a class Student with attributes name, age, and grade. Use the __init__ method to initialize these attributes. Add a method is_passed() that returns \"Passed\" if grade ≥ 11, otherwise \"Failed\".\n",
    "\n",
    "Re-question: How would you modify the class to add a class attribute school = \"PUCP\" and display it for all students?"
   ]
  },
  {
   "cell_type": "code",
   "execution_count": 3,
   "id": "3f146837",
   "metadata": {},
   "outputs": [
    {
     "name": "stdout",
     "output_type": "stream",
     "text": [
      "Passed\n",
      "Failed\n",
      "Name: Ana, Age: 19, Grade: 13, School: PUCP\n",
      "Name: Luis, Age: 20, Grade: 9, School: PUCP\n"
     ]
    }
   ],
   "source": [
    "class Student:\n",
    "    school = \"PUCP\"  # Grado sería el ciclo académico\n",
    "\n",
    "    def __init__(self, name, age, grade):\n",
    "        self.name = name\n",
    "        self.age = age\n",
    "        self.grade = grade\n",
    "\n",
    "    def is_passed(self):\n",
    "        return \"Passed\" if self.grade >= 11 else \"Failed\"\n",
    "\n",
    "    def display_info(self):\n",
    "        print(f\"Name: {self.name}, Age: {self.age}, Grade: {self.grade}, School: {Student.school}\")\n",
    "\n",
    "# Crear y mostrar estudiantes\n",
    "student1 = Student(\"Ana\", 19, 13)\n",
    "student2 = Student(\"Luis\", 20, 9)\n",
    "\n",
    "print(student1.is_passed())\n",
    "print(student2.is_passed())\n",
    "\n",
    "student1.display_info()\n",
    "student2.display_info()"
   ]
  }
 ],
 "metadata": {
  "kernelspec": {
   "display_name": "Python 3",
   "language": "python",
   "name": "python3"
  },
  "language_info": {
   "codemirror_mode": {
    "name": "ipython",
    "version": 3
   },
   "file_extension": ".py",
   "mimetype": "text/x-python",
   "name": "python",
   "nbconvert_exporter": "python",
   "pygments_lexer": "ipython3",
   "version": "3.11.9"
  }
 },
 "nbformat": 4,
 "nbformat_minor": 5
}
