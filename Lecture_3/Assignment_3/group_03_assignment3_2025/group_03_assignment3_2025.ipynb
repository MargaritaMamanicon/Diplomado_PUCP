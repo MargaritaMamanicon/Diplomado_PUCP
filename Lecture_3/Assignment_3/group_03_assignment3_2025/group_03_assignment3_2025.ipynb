{
 "cells": [
  {
   "cell_type": "code",
   "execution_count": null,
   "id": "d2775ce0-c396-4dfe-b120-9db3c896ee0a",
   "metadata": {},
   "outputs": [],
   "source": [
    "Assignment 3\n",
    "Armando Pezo\n",
    "Freddy Zuta\n",
    "Valeria Ruiz\n",
    "Alfredo Espinoza"
   ]
  },
  {
   "cell_type": "markdown",
   "id": "e66b5393",
   "metadata": {},
   "source": [
    "# 1. Recorre los números del 1 al 10, usa pass con los pares e imprime los impares"
   ]
  },
  {
   "cell_type": "code",
   "execution_count": 1,
   "id": "7708eaa7",
   "metadata": {},
   "outputs": [
    {
     "name": "stdout",
     "output_type": "stream",
     "text": [
      "1\n",
      "3\n",
      "5\n",
      "7\n",
      "9\n"
     ]
    }
   ],
   "source": [
    "for i in range(1, 11):\n",
    "    if i % 2 == 0:  # si es par\n",
    "        pass        # no hace nada\n",
    "    else:\n",
    "        print(i)    # imprime los impares"
   ]
  },
  {
   "cell_type": "markdown",
   "id": "dcc55e9d",
   "metadata": {},
   "source": [
    "Requestion: ¿Qué pasa si quitamos pass?\n",
    "No pasa nada, el pass solo actúa como \"relleno\". El código funcionaría igual si simplemente no pones nada en el if."
   ]
  },
  {
   "cell_type": "markdown",
   "id": "dafa53e8",
   "metadata": {},
   "source": [
    "# 2. Continue Statement, Enunciado: Recorre \"pythonloops\" y salta la letra \"o\"."
   ]
  },
  {
   "cell_type": "code",
   "execution_count": 2,
   "id": "43e25f0a",
   "metadata": {},
   "outputs": [
    {
     "name": "stdout",
     "output_type": "stream",
     "text": [
      "p\n",
      "y\n",
      "t\n",
      "h\n",
      "n\n",
      "l\n",
      "p\n",
      "s\n"
     ]
    }
   ],
   "source": [
    "for letra in \"pythonloops\":\n",
    "    if letra == \"o\":\n",
    "        continue   # salta la letra 'o'\n",
    "    print(letra)"
   ]
  },
  {
   "cell_type": "markdown",
   "id": "38d56429",
   "metadata": {},
   "source": [
    "Re-question: ¿Cómo hacerlo sin continue?\n",
    "Se puede lograr usando un if inverso:"
   ]
  },
  {
   "cell_type": "code",
   "execution_count": 3,
   "id": "7c0db975",
   "metadata": {},
   "outputs": [
    {
     "name": "stdout",
     "output_type": "stream",
     "text": [
      "p\n",
      "y\n",
      "t\n",
      "h\n",
      "n\n",
      "l\n",
      "p\n",
      "s\n"
     ]
    }
   ],
   "source": [
    "for letra in \"pythonloops\":\n",
    "    if letra != \"o\":\n",
    "        print(letra)"
   ]
  },
  {
   "cell_type": "markdown",
   "id": "3d53c6e8",
   "metadata": {},
   "source": [
    "# 3. Break Statement,  Enunciado: Crea un while que pida números y se rompe si es negativo."
   ]
  },
  {
   "cell_type": "code",
   "execution_count": 4,
   "id": "e88ae783",
   "metadata": {},
   "outputs": [
    {
     "name": "stdin",
     "output_type": "stream",
     "text": [
      "Ingrese un número:  1\n"
     ]
    },
    {
     "name": "stdout",
     "output_type": "stream",
     "text": [
      "Número ingresado: 1\n"
     ]
    },
    {
     "name": "stdin",
     "output_type": "stream",
     "text": [
      "Ingrese un número:  -1\n"
     ]
    },
    {
     "name": "stdout",
     "output_type": "stream",
     "text": [
      "Se encontró un número negativo. Fin del programa.\n"
     ]
    }
   ],
   "source": [
    "while True:\n",
    "    num = int(input(\"Ingrese un número: \"))\n",
    "    if num < 0:\n",
    "        print(\"Se encontró un número negativo. Fin del programa.\")\n",
    "        break\n",
    "    print(f\"Número ingresado: {num}\")"
   ]
  },
  {
   "cell_type": "markdown",
   "id": "4be4f00a",
   "metadata": {},
   "source": [
    "Re-question: ¿Cómo ignorar negativos en lugar de romper?\n",
    "    Usamos continue para saltarlos"
   ]
  },
  {
   "cell_type": "code",
   "execution_count": 5,
   "id": "0429e4b0",
   "metadata": {},
   "outputs": [
    {
     "name": "stdin",
     "output_type": "stream",
     "text": [
      "Ingrese un número:  1\n"
     ]
    },
    {
     "name": "stdout",
     "output_type": "stream",
     "text": [
      "Número ingresado: 1\n"
     ]
    },
    {
     "name": "stdin",
     "output_type": "stream",
     "text": [
      "Ingrese un número:  0\n"
     ]
    },
    {
     "name": "stdout",
     "output_type": "stream",
     "text": [
      "Número ingresado: 0\n"
     ]
    },
    {
     "name": "stdin",
     "output_type": "stream",
     "text": [
      "Ingrese un número:  -1\n"
     ]
    },
    {
     "name": "stdout",
     "output_type": "stream",
     "text": [
      "Número negativo ignorado.\n"
     ]
    },
    {
     "ename": "KeyboardInterrupt",
     "evalue": "Interrupted by user",
     "output_type": "error",
     "traceback": [
      "\u001b[1;31m---------------------------------------------------------------------------\u001b[0m",
      "\u001b[1;31mKeyboardInterrupt\u001b[0m                         Traceback (most recent call last)",
      "Cell \u001b[1;32mIn[5], line 2\u001b[0m\n\u001b[0;32m      1\u001b[0m \u001b[38;5;28;01mwhile\u001b[39;00m \u001b[38;5;28;01mTrue\u001b[39;00m:\n\u001b[1;32m----> 2\u001b[0m     num \u001b[38;5;241m=\u001b[39m \u001b[38;5;28mint\u001b[39m(\u001b[38;5;28minput\u001b[39m(\u001b[38;5;124m\"\u001b[39m\u001b[38;5;124mIngrese un número: \u001b[39m\u001b[38;5;124m\"\u001b[39m))\n\u001b[0;32m      3\u001b[0m     \u001b[38;5;28;01mif\u001b[39;00m num \u001b[38;5;241m<\u001b[39m \u001b[38;5;241m0\u001b[39m:\n\u001b[0;32m      4\u001b[0m         \u001b[38;5;28mprint\u001b[39m(\u001b[38;5;124m\"\u001b[39m\u001b[38;5;124mNúmero negativo ignorado.\u001b[39m\u001b[38;5;124m\"\u001b[39m)\n",
      "File \u001b[1;32m~\\anaconda3\\Lib\\site-packages\\ipykernel\\kernelbase.py:1282\u001b[0m, in \u001b[0;36mKernel.raw_input\u001b[1;34m(self, prompt)\u001b[0m\n\u001b[0;32m   1280\u001b[0m     msg \u001b[38;5;241m=\u001b[39m \u001b[38;5;124m\"\u001b[39m\u001b[38;5;124mraw_input was called, but this frontend does not support input requests.\u001b[39m\u001b[38;5;124m\"\u001b[39m\n\u001b[0;32m   1281\u001b[0m     \u001b[38;5;28;01mraise\u001b[39;00m StdinNotImplementedError(msg)\n\u001b[1;32m-> 1282\u001b[0m \u001b[38;5;28;01mreturn\u001b[39;00m \u001b[38;5;28mself\u001b[39m\u001b[38;5;241m.\u001b[39m_input_request(\n\u001b[0;32m   1283\u001b[0m     \u001b[38;5;28mstr\u001b[39m(prompt),\n\u001b[0;32m   1284\u001b[0m     \u001b[38;5;28mself\u001b[39m\u001b[38;5;241m.\u001b[39m_parent_ident[\u001b[38;5;124m\"\u001b[39m\u001b[38;5;124mshell\u001b[39m\u001b[38;5;124m\"\u001b[39m],\n\u001b[0;32m   1285\u001b[0m     \u001b[38;5;28mself\u001b[39m\u001b[38;5;241m.\u001b[39mget_parent(\u001b[38;5;124m\"\u001b[39m\u001b[38;5;124mshell\u001b[39m\u001b[38;5;124m\"\u001b[39m),\n\u001b[0;32m   1286\u001b[0m     password\u001b[38;5;241m=\u001b[39m\u001b[38;5;28;01mFalse\u001b[39;00m,\n\u001b[0;32m   1287\u001b[0m )\n",
      "File \u001b[1;32m~\\anaconda3\\Lib\\site-packages\\ipykernel\\kernelbase.py:1325\u001b[0m, in \u001b[0;36mKernel._input_request\u001b[1;34m(self, prompt, ident, parent, password)\u001b[0m\n\u001b[0;32m   1322\u001b[0m \u001b[38;5;28;01mexcept\u001b[39;00m \u001b[38;5;167;01mKeyboardInterrupt\u001b[39;00m:\n\u001b[0;32m   1323\u001b[0m     \u001b[38;5;66;03m# re-raise KeyboardInterrupt, to truncate traceback\u001b[39;00m\n\u001b[0;32m   1324\u001b[0m     msg \u001b[38;5;241m=\u001b[39m \u001b[38;5;124m\"\u001b[39m\u001b[38;5;124mInterrupted by user\u001b[39m\u001b[38;5;124m\"\u001b[39m\n\u001b[1;32m-> 1325\u001b[0m     \u001b[38;5;28;01mraise\u001b[39;00m \u001b[38;5;167;01mKeyboardInterrupt\u001b[39;00m(msg) \u001b[38;5;28;01mfrom\u001b[39;00m\u001b[38;5;250m \u001b[39m\u001b[38;5;28;01mNone\u001b[39;00m\n\u001b[0;32m   1326\u001b[0m \u001b[38;5;28;01mexcept\u001b[39;00m \u001b[38;5;167;01mException\u001b[39;00m:\n\u001b[0;32m   1327\u001b[0m     \u001b[38;5;28mself\u001b[39m\u001b[38;5;241m.\u001b[39mlog\u001b[38;5;241m.\u001b[39mwarning(\u001b[38;5;124m\"\u001b[39m\u001b[38;5;124mInvalid Message:\u001b[39m\u001b[38;5;124m\"\u001b[39m, exc_info\u001b[38;5;241m=\u001b[39m\u001b[38;5;28;01mTrue\u001b[39;00m)\n",
      "\u001b[1;31mKeyboardInterrupt\u001b[0m: Interrupted by user"
     ]
    }
   ],
   "source": [
    "while True:\n",
    "    num = int(input(\"Ingrese un número: \"))\n",
    "    if num < 0:\n",
    "        print(\"Número negativo ignorado.\")\n",
    "        continue   # vuelve al inicio sin romper\n",
    "    print(f\"Número ingresado: {num}\")"
   ]
  },
  {
   "cell_type": "markdown",
   "id": "503970a2",
   "metadata": {},
   "source": [
    "# 4. Try-Except Block"
   ]
  },
  {
   "cell_type": "code",
   "execution_count": null,
   "id": "74a77b3b",
   "metadata": {},
   "outputs": [],
   "source": [
    "\n",
    "while True:\n",
    "    try:\n",
    "        num = input(\"Ingrese un número para dividir 100: \")\n",
    "        num = float(num)  # convertir a número (puede dar error si es texto)\n",
    "        result = 100 / num\n",
    "        print(f\"100 dividido entre {num} es {result}\")\n",
    "        break  # salimos si todo sale bien\n",
    "    except ZeroDivisionError:\n",
    "        print(\"❌ No se puede dividir entre 0. Intente nuevamente.\")\n",
    "    except ValueError:\n",
    "        print(\"❌ Entrada inválida. Ingrese un número válido.\")\n"
   ]
  },
  {
   "cell_type": "markdown",
   "id": "9551ab51",
   "metadata": {},
   "source": [
    "# 5. While Loop Structure (Factorial con pasos)"
   ]
  },
  {
   "cell_type": "code",
   "execution_count": null,
   "id": "1100527b",
   "metadata": {},
   "outputs": [],
   "source": [
    "\n",
    "n = int(input(\"Ingrese un número para calcular su factorial: \"))\n",
    "factorial = 1\n",
    "contador = 1\n",
    "\n",
    "while contador <= n:\n",
    "    factorial *= contador\n",
    "    print(f\"Paso {contador}: factorial = {factorial}\")\n",
    "    contador += 1\n",
    "\n",
    "print(f\"El factorial de {n} es {factorial}\")\n"
   ]
  },
  {
   "cell_type": "code",
   "execution_count": null,
   "id": "1a353aad",
   "metadata": {},
   "outputs": [],
   "source": [
    "\n",
    "n = int(input(\"Ingrese un número para calcular su factorial (for): \"))\n",
    "factorial = 1\n",
    "\n",
    "for i in range(1, n + 1):\n",
    "    factorial *= i\n",
    "    print(f\"Paso {i}: factorial = {factorial}\")\n",
    "\n",
    "print(f\"El factorial de {n} es {factorial}\")\n"
   ]
  },
  {
   "cell_type": "markdown",
   "id": "cd452a03-c4cb-49a0-a048-8a6dd4b5cb97",
   "metadata": {},
   "source": [
    "## Part 2: Functions"
   ]
  },
  {
   "cell_type": "markdown",
   "id": "a09a7994-c4ce-4e6e-b7f3-d540227f6df8",
   "metadata": {},
   "source": [
    "6. Function with Multiple Returns\n",
    "Write a function analyze_numbers(lst) that takes a list of numbers and returns:\n",
    "\n",
    "The maximum value\n",
    "\n",
    "The minimum value\n",
    "\n",
    "The average value\n",
    "\n",
    "Re-question: How would you call this function and unpack the results into three variables?"
   ]
  },
  {
   "cell_type": "code",
   "execution_count": 6,
   "id": "649419c1-21b8-40da-9d28-379d639251df",
   "metadata": {},
   "outputs": [],
   "source": [
    "def analyze_numbers(lst):\n",
    "    maxi = max(lst)\n",
    "    mini = min(lst)\n",
    "    avg = sum(lst) / len(lst)\n",
    "    return maxi, mini, avg"
   ]
  },
  {
   "cell_type": "code",
   "execution_count": 7,
   "id": "1ad02e3f-9cda-4a70-95d7-60d86e2ffcab",
   "metadata": {},
   "outputs": [],
   "source": [
    "numlist = [10, 20, 30, 40, 50]"
   ]
  },
  {
   "cell_type": "code",
   "execution_count": 8,
   "id": "3fecbcbb-3ca9-49b1-a044-44db83e960e0",
   "metadata": {},
   "outputs": [
    {
     "data": {
      "text/plain": [
       "(50, 10, 30.0)"
      ]
     },
     "execution_count": 8,
     "metadata": {},
     "output_type": "execute_result"
    }
   ],
   "source": [
    "analyze_numbers(numlist)"
   ]
  },
  {
   "cell_type": "markdown",
   "id": "733f0f2d-4d20-4b1c-900d-4623d6217bd3",
   "metadata": {},
   "source": [
    "Re-question"
   ]
  },
  {
   "cell_type": "code",
   "execution_count": 9,
   "id": "4e3a8eeb-b766-415b-bea5-80771eac6f23",
   "metadata": {},
   "outputs": [
    {
     "name": "stdout",
     "output_type": "stream",
     "text": [
      "The maximum value is  50\n",
      "The minimum value is  10\n",
      "The average value is  30.0\n"
     ]
    }
   ],
   "source": [
    "maxi_val, mini_val, avg_val = analyze_numbers(numlist)\n",
    "\n",
    "print(\"The maximum value is \", maxi_val)\n",
    "print(\"The minimum value is \", mini_val)\n",
    "print(\"The average value is \", avg_val)"
   ]
  },
  {
   "cell_type": "markdown",
   "id": "aa2fcfe1-5fb8-429f-853c-976c19f27dfb",
   "metadata": {},
   "source": [
    "7. Function with Default Parameters\n",
    "Create a function greet(name, message=\"Hello\") that prints a greeting.\n",
    "\n",
    "Call the function with and without the message parameter.\n",
    "Re-question: How does Python decide which value to use for message when it is not provided?"
   ]
  },
  {
   "cell_type": "code",
   "execution_count": 10,
   "id": "eccb4884-3b3d-4202-b3cd-e2c1bec6a156",
   "metadata": {},
   "outputs": [],
   "source": [
    "def greet(name, message=\"Hello\"):\n",
    "    print(message, name)"
   ]
  },
  {
   "cell_type": "code",
   "execution_count": 11,
   "id": "559fef51-c595-48c2-9513-7518f3747676",
   "metadata": {},
   "outputs": [
    {
     "name": "stdout",
     "output_type": "stream",
     "text": [
      "I don't greet you,  Pablo\n"
     ]
    }
   ],
   "source": [
    "greet(name=\"Pablo\", message=\"I don't greet you, \")"
   ]
  },
  {
   "cell_type": "code",
   "execution_count": 12,
   "id": "841e3371-1d4b-4698-af76-a98df8f76806",
   "metadata": {},
   "outputs": [
    {
     "name": "stdout",
     "output_type": "stream",
     "text": [
      "Hello Mario\n"
     ]
    }
   ],
   "source": [
    "greet(name=\"Mario\")"
   ]
  },
  {
   "cell_type": "markdown",
   "id": "c07bb8fe-9c0b-4f72-872a-83568391d423",
   "metadata": {},
   "source": [
    "Re-question: If a value for the parameter message is not provided when calling the function, then Python will use the default value established in the function. If a value is provided when calling the function, Python will use the provided value."
   ]
  },
  {
   "cell_type": "markdown",
   "id": "ff3ae240-29b0-491e-95d8-1019a3893a56",
   "metadata": {},
   "source": [
    "8. Function with Type Hints\n",
    "Write a function multiply(a: int, b: int) -> int that returns the product of two integers.\n",
    "\n",
    "Test the function with both integers and strings.\n",
    "Re-question: What happens if you pass strings, and why?"
   ]
  },
  {
   "cell_type": "code",
   "execution_count": 13,
   "id": "993dd8ea-911f-44e2-8f17-765d1c7bc829",
   "metadata": {},
   "outputs": [],
   "source": [
    "def multiply(a: int, b: int) -> int:\n",
    "    return a*b"
   ]
  },
  {
   "cell_type": "code",
   "execution_count": 14,
   "id": "79538cfd-f6f7-4207-8cca-0a78eb350d62",
   "metadata": {},
   "outputs": [
    {
     "data": {
      "text/plain": [
       "20"
      ]
     },
     "execution_count": 14,
     "metadata": {},
     "output_type": "execute_result"
    }
   ],
   "source": [
    "multiply(10,2)"
   ]
  },
  {
   "cell_type": "code",
   "execution_count": 15,
   "id": "05d59270-e2d5-4f48-8f01-00c649d56c41",
   "metadata": {},
   "outputs": [
    {
     "data": {
      "text/plain": [
       "'DiezDiez'"
      ]
     },
     "execution_count": 15,
     "metadata": {},
     "output_type": "execute_result"
    }
   ],
   "source": [
    "multiply(\"Diez\",2)"
   ]
  },
  {
   "cell_type": "code",
   "execution_count": 16,
   "id": "56cd5488-f1ef-4d5b-b38e-06096410260b",
   "metadata": {},
   "outputs": [
    {
     "ename": "TypeError",
     "evalue": "can't multiply sequence by non-int of type 'str'",
     "output_type": "error",
     "traceback": [
      "\u001b[1;31m---------------------------------------------------------------------------\u001b[0m",
      "\u001b[1;31mTypeError\u001b[0m                                 Traceback (most recent call last)",
      "Cell \u001b[1;32mIn[16], line 1\u001b[0m\n\u001b[1;32m----> 1\u001b[0m multiply(\u001b[38;5;124m\"\u001b[39m\u001b[38;5;124mDiez\u001b[39m\u001b[38;5;124m\"\u001b[39m,\u001b[38;5;124m\"\u001b[39m\u001b[38;5;124mDos\u001b[39m\u001b[38;5;124m\"\u001b[39m)\n",
      "Cell \u001b[1;32mIn[13], line 2\u001b[0m, in \u001b[0;36mmultiply\u001b[1;34m(a, b)\u001b[0m\n\u001b[0;32m      1\u001b[0m \u001b[38;5;28;01mdef\u001b[39;00m\u001b[38;5;250m \u001b[39m\u001b[38;5;21mmultiply\u001b[39m(a: \u001b[38;5;28mint\u001b[39m, b: \u001b[38;5;28mint\u001b[39m) \u001b[38;5;241m-\u001b[39m\u001b[38;5;241m>\u001b[39m \u001b[38;5;28mint\u001b[39m:\n\u001b[1;32m----> 2\u001b[0m     \u001b[38;5;28;01mreturn\u001b[39;00m a\u001b[38;5;241m*\u001b[39mb\n",
      "\u001b[1;31mTypeError\u001b[0m: can't multiply sequence by non-int of type 'str'"
     ]
    }
   ],
   "source": [
    "multiply(\"Diez\",\"Dos\")"
   ]
  },
  {
   "cell_type": "markdown",
   "id": "172c7b2a-a155-4883-9ede-74f84ac43446",
   "metadata": {},
   "source": [
    "Re-question: If strings are used as arguments, then:\n",
    "If one argument is a string and the other and integer, the Python will multiply the string by the number of times the integer indicates. If both arguments are strings, Python will generate an error, as two strings cannot be multiplied."
   ]
  },
  {
   "cell_type": "markdown",
   "id": "cf7c22a1-6c46-4354-a31d-6e101668b3c7",
   "metadata": {},
   "source": [
    "# Part 3: Classes"
   ]
  },
  {
   "cell_type": "markdown",
   "id": "84cf00c7-d57c-4c4d-8542-4f8cdbe17b10",
   "metadata": {},
   "source": [
    "This part was done by Valeria Ruiz. Due to issues with Github, she could not add the code, so I (Alfredo Espinoza) added it."
   ]
  },
  {
   "cell_type": "markdown",
   "id": "9c4ff101-0c52-4ff3-8944-348df102705d",
   "metadata": {},
   "source": [
    "## Ejercicio 9: Clase Car"
   ]
  },
  {
   "cell_type": "code",
   "execution_count": 1,
   "id": "97fa080f-7ce7-4c07-96dd-5f54f328873d",
   "metadata": {},
   "outputs": [],
   "source": [
    "class Car:\n",
    "    def __init__(self, brand, model, year):\n",
    "        self.brand = brand\n",
    "        self.model = model\n",
    "        self.year = year\n",
    "\n",
    "    def display_info(self):\n",
    "        print(f\"Car: {self.brand} {self.model}, Year: {self.year}\")"
   ]
  },
  {
   "cell_type": "markdown",
   "id": "1ddbb962-c533-4eca-bdac-6722f2327e86",
   "metadata": {},
   "source": [
    "### Ejemplo"
   ]
  },
  {
   "cell_type": "code",
   "execution_count": 2,
   "id": "c3b7ea90-67d2-4bf8-aa52-7e8d56381cd8",
   "metadata": {},
   "outputs": [],
   "source": [
    "car1 = Car(\"Toyota\", \"Corolla\", 2020)\n",
    "car2 = Car(\"Honda\", \"Civic\", 2022)"
   ]
  },
  {
   "cell_type": "code",
   "execution_count": 3,
   "id": "50889ede-f3c2-4be2-92a1-73e7e151dec1",
   "metadata": {},
   "outputs": [
    {
     "name": "stdout",
     "output_type": "stream",
     "text": [
      "Car: Toyota Corolla, Year: 2020\n",
      "Car: Honda Civic, Year: 2022\n"
     ]
    }
   ],
   "source": [
    "car1.display_info()\n",
    "car2.display_info()"
   ]
  },
  {
   "cell_type": "markdown",
   "id": "f8ea29cb-baf2-497c-8b8f-b054f38f108c",
   "metadata": {},
   "source": [
    "## Ejercicio 10: Clase Student"
   ]
  },
  {
   "cell_type": "code",
   "execution_count": 4,
   "id": "108aceea-78b8-45b3-a350-58455b939f5f",
   "metadata": {},
   "outputs": [],
   "source": [
    "class Student:\n",
    "    # atributo de clase\n",
    "    school = \"PUCP\"\n",
    "\n",
    "    def __init__(self, name, age, grade):\n",
    "        self.name = name\n",
    "        self.age = age\n",
    "        self.grade = grade\n",
    "\n",
    "    def is_passed(self):\n",
    "        if self.grade >= 11:\n",
    "            return \"Passed\"\n",
    "        else:\n",
    "            return \"Failed\"\n",
    "\n",
    "    def display_info(self):\n",
    "        print(f\"Student: {self.name}, Age: {self.age}, Grade: {self.grade}, School: {Student.school}\")"
   ]
  },
  {
   "cell_type": "markdown",
   "id": "9685748d-e9ed-4833-a4d2-663424edbea9",
   "metadata": {},
   "source": [
    "### Ejemplo"
   ]
  },
  {
   "cell_type": "code",
   "execution_count": 5,
   "id": "5141db24-706e-4e46-a0ba-b3ded2c5c3e2",
   "metadata": {},
   "outputs": [],
   "source": [
    "student1 = Student(\"Ana\", 20, 15)\n",
    "student2 = Student(\"Luis\", 19, 9)"
   ]
  },
  {
   "cell_type": "code",
   "execution_count": 6,
   "id": "8e12edd9-8ff2-44b0-9244-66ea97623a17",
   "metadata": {},
   "outputs": [
    {
     "name": "stdout",
     "output_type": "stream",
     "text": [
      "Passed\n",
      "Failed\n"
     ]
    }
   ],
   "source": [
    "print(student1.is_passed())  # Passed\n",
    "print(student2.is_passed())  # Failed"
   ]
  },
  {
   "cell_type": "code",
   "execution_count": 7,
   "id": "88b55f27-16c0-4660-b610-c1b90e62c6e4",
   "metadata": {},
   "outputs": [
    {
     "name": "stdout",
     "output_type": "stream",
     "text": [
      "Student: Ana, Age: 20, Grade: 15, School: PUCP\n",
      "Student: Luis, Age: 19, Grade: 9, School: PUCP\n"
     ]
    }
   ],
   "source": [
    "student1.display_info()\n",
    "student2.display_info()"
   ]
  }
 ],
 "metadata": {
  "kernelspec": {
   "display_name": "Python [conda env:base] *",
   "language": "python",
   "name": "conda-base-py"
  },
  "language_info": {
   "codemirror_mode": {
    "name": "ipython",
    "version": 3
   },
   "file_extension": ".py",
   "mimetype": "text/x-python",
   "name": "python",
   "nbconvert_exporter": "python",
   "pygments_lexer": "ipython3",
   "version": "3.13.5"
  }
 },
 "nbformat": 4,
 "nbformat_minor": 5
}
