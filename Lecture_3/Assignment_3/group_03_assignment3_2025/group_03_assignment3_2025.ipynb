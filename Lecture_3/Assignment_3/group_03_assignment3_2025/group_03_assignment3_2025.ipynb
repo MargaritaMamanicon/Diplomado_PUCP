{
 "cells": [
  {
   "cell_type": "markdown",
   "id": "e66b5393",
   "metadata": {},
   "source": [
    "# 1. Recorre los números del 1 al 10, usa pass con los pares e imprime los impares"
   ]
  },
  {
   "cell_type": "code",
   "execution_count": 1,
   "id": "7708eaa7",
   "metadata": {},
   "outputs": [
    {
     "name": "stdout",
     "output_type": "stream",
     "text": [
      "1\n",
      "3\n",
      "5\n",
      "7\n",
      "9\n"
     ]
    }
   ],
   "source": [
    "for i in range(1, 11):\n",
    "    if i % 2 == 0:  # si es par\n",
    "        pass        # no hace nada\n",
    "    else:\n",
    "        print(i)    # imprime los impares"
   ]
  },
  {
   "cell_type": "markdown",
   "id": "dcc55e9d",
   "metadata": {},
   "source": [
    "Requestion: ¿Qué pasa si quitamos pass?\n",
    "No pasa nada, el pass solo actúa como \"relleno\". El código funcionaría igual si simplemente no pones nada en el if."
   ]
  },
  {
   "cell_type": "markdown",
   "id": "dafa53e8",
   "metadata": {},
   "source": [
    "# 2. Continue Statement, Enunciado: Recorre \"pythonloops\" y salta la letra \"o\"."
   ]
  },
  {
   "cell_type": "code",
   "execution_count": 2,
   "id": "43e25f0a",
   "metadata": {},
   "outputs": [
    {
     "name": "stdout",
     "output_type": "stream",
     "text": [
      "p\n",
      "y\n",
      "t\n",
      "h\n",
      "n\n",
      "l\n",
      "p\n",
      "s\n"
     ]
    }
   ],
   "source": [
    "for letra in \"pythonloops\":\n",
    "    if letra == \"o\":\n",
    "        continue   # salta la letra 'o'\n",
    "    print(letra)"
   ]
  },
  {
   "cell_type": "markdown",
   "id": "38d56429",
   "metadata": {},
   "source": [
    "Re-question: ¿Cómo hacerlo sin continue?\n",
    "Se puede lograr usando un if inverso:"
   ]
  },
  {
   "cell_type": "code",
   "execution_count": 4,
   "id": "7c0db975",
   "metadata": {},
   "outputs": [
    {
     "name": "stdout",
     "output_type": "stream",
     "text": [
      "p\n",
      "y\n",
      "t\n",
      "h\n",
      "n\n",
      "l\n",
      "p\n",
      "s\n"
     ]
    }
   ],
   "source": [
    "for letra in \"pythonloops\":\n",
    "    if letra != \"o\":\n",
    "        print(letra)"
   ]
  },
  {
   "cell_type": "markdown",
   "id": "3d53c6e8",
   "metadata": {},
   "source": [
    "# 3. Break Statement,  Enunciado: Crea un while que pida números y se rompe si es negativo."
   ]
  },
  {
   "cell_type": "code",
   "execution_count": 3,
   "id": "e88ae783",
   "metadata": {},
   "outputs": [
    {
     "name": "stdout",
     "output_type": "stream",
     "text": [
      "Ingrese un número: 5\n",
      "Número ingresado: 5\n",
      "Ingrese un número: 2\n",
      "Número ingresado: 2\n",
      "Ingrese un número: 3\n",
      "Número ingresado: 3\n",
      "Ingrese un número: 0\n",
      "Número ingresado: 0\n",
      "Ingrese un número: -5\n",
      "Se encontró un número negativo. Fin del programa.\n"
     ]
    }
   ],
   "source": [
    "while True:\n",
    "    num = int(input(\"Ingrese un número: \"))\n",
    "    if num < 0:\n",
    "        print(\"Se encontró un número negativo. Fin del programa.\")\n",
    "        break\n",
    "    print(f\"Número ingresado: {num}\")"
   ]
  },
  {
   "cell_type": "markdown",
   "id": "4be4f00a",
   "metadata": {},
   "source": [
    "Re-question: ¿Cómo ignorar negativos en lugar de romper?\n",
    "    Usamos continue para saltarlos"
   ]
  },
  {
   "cell_type": "code",
   "execution_count": null,
   "id": "0429e4b0",
   "metadata": {},
   "outputs": [],
   "source": [
    "while True:\n",
    "    num = int(input(\"Ingrese un número: \"))\n",
    "    if num < 0:\n",
    "        print(\"Número negativo ignorado.\")\n",
    "        continue   # vuelve al inicio sin romper\n",
    "    print(f\"Número ingresado: {num}\")"
   ]
  },
  {
   "cell_type": "markdown",
   "id": "503970a2",
   "metadata": {},
   "source": [
    "# 4. Try-Except Block"
   ]
  },
  {
   "cell_type": "code",
   "execution_count": 1,
   "id": "74a77b3b",
   "metadata": {},
   "outputs": [
    {
     "name": "stdout",
     "output_type": "stream",
     "text": [
      "Ingrese un número para dividir 100: 5\n",
      "100 dividido entre 5.0 es 20.0\n"
     ]
    }
   ],
   "source": [
    "\n",
    "while True:\n",
    "    try:\n",
    "        num = input(\"Ingrese un número para dividir 100: \")\n",
    "        num = float(num)  # convertir a número (puede dar error si es texto)\n",
    "        result = 100 / num\n",
    "        print(f\"100 dividido entre {num} es {result}\")\n",
    "        break  # salimos si todo sale bien\n",
    "    except ZeroDivisionError:\n",
    "        print(\"❌ No se puede dividir entre 0. Intente nuevamente.\")\n",
    "    except ValueError:\n",
    "        print(\"❌ Entrada inválida. Ingrese un número válido.\")\n"
   ]
  },
  {
   "cell_type": "markdown",
   "id": "9551ab51",
   "metadata": {},
   "source": [
    "# 5. While Loop Structure (Factorial con pasos)"
   ]
  },
  {
   "cell_type": "code",
   "execution_count": 2,
   "id": "1100527b",
   "metadata": {},
   "outputs": [
    {
     "name": "stdout",
     "output_type": "stream",
     "text": [
      "Ingrese un número para calcular su factorial: 33\n",
      "Paso 1: factorial = 1\n",
      "Paso 2: factorial = 2\n",
      "Paso 3: factorial = 6\n",
      "Paso 4: factorial = 24\n",
      "Paso 5: factorial = 120\n",
      "Paso 6: factorial = 720\n",
      "Paso 7: factorial = 5040\n",
      "Paso 8: factorial = 40320\n",
      "Paso 9: factorial = 362880\n",
      "Paso 10: factorial = 3628800\n",
      "Paso 11: factorial = 39916800\n",
      "Paso 12: factorial = 479001600\n",
      "Paso 13: factorial = 6227020800\n",
      "Paso 14: factorial = 87178291200\n",
      "Paso 15: factorial = 1307674368000\n",
      "Paso 16: factorial = 20922789888000\n",
      "Paso 17: factorial = 355687428096000\n",
      "Paso 18: factorial = 6402373705728000\n",
      "Paso 19: factorial = 121645100408832000\n",
      "Paso 20: factorial = 2432902008176640000\n",
      "Paso 21: factorial = 51090942171709440000\n",
      "Paso 22: factorial = 1124000727777607680000\n",
      "Paso 23: factorial = 25852016738884976640000\n",
      "Paso 24: factorial = 620448401733239439360000\n",
      "Paso 25: factorial = 15511210043330985984000000\n",
      "Paso 26: factorial = 403291461126605635584000000\n",
      "Paso 27: factorial = 10888869450418352160768000000\n",
      "Paso 28: factorial = 304888344611713860501504000000\n",
      "Paso 29: factorial = 8841761993739701954543616000000\n",
      "Paso 30: factorial = 265252859812191058636308480000000\n",
      "Paso 31: factorial = 8222838654177922817725562880000000\n",
      "Paso 32: factorial = 263130836933693530167218012160000000\n",
      "Paso 33: factorial = 8683317618811886495518194401280000000\n",
      "El factorial de 33 es 8683317618811886495518194401280000000\n"
     ]
    }
   ],
   "source": [
    "\n",
    "n = int(input(\"Ingrese un número para calcular su factorial: \"))\n",
    "factorial = 1\n",
    "contador = 1\n",
    "\n",
    "while contador <= n:\n",
    "    factorial *= contador\n",
    "    print(f\"Paso {contador}: factorial = {factorial}\")\n",
    "    contador += 1\n",
    "\n",
    "print(f\"El factorial de {n} es {factorial}\")\n"
   ]
  },
  {
   "cell_type": "code",
   "execution_count": 3,
   "id": "1a353aad",
   "metadata": {},
   "outputs": [
    {
     "name": "stdout",
     "output_type": "stream",
     "text": [
      "Ingrese un número para calcular su factorial (for): 2\n",
      "Paso 1: factorial = 1\n",
      "Paso 2: factorial = 2\n",
      "El factorial de 2 es 2\n"
     ]
    }
   ],
   "source": [
    "\n",
    "n = int(input(\"Ingrese un número para calcular su factorial (for): \"))\n",
    "factorial = 1\n",
    "\n",
    "for i in range(1, n + 1):\n",
    "    factorial *= i\n",
    "    print(f\"Paso {i}: factorial = {factorial}\")\n",
    "\n",
    "print(f\"El factorial de {n} es {factorial}\")\n"
   ]
  },
  {
   "cell_type": "code",
   "execution_count": null,
   "id": "a18ea31a",
   "metadata": {},
   "outputs": [],
   "source": []
  }
 ],
 "metadata": {
  "kernelspec": {
   "display_name": "Python 3 (ipykernel)",
   "language": "python",
   "name": "python3"
  },
  "language_info": {
   "codemirror_mode": {
    "name": "ipython",
    "version": 3
   },
   "file_extension": ".py",
   "mimetype": "text/x-python",
   "name": "python",
   "nbconvert_exporter": "python",
   "pygments_lexer": "ipython3",
   "version": "3.11.5"
  }
 },
 "nbformat": 4,
 "nbformat_minor": 5
}
