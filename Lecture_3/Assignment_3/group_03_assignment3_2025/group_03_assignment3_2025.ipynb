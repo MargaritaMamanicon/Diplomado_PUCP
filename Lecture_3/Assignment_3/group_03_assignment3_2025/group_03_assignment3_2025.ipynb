{
 "cells": [
  {
   "cell_type": "markdown",
   "id": "e66b5393",
   "metadata": {},
   "source": [
    "# 1. Recorre los números del 1 al 10, usa pass con los pares e imprime los impares"
   ]
  },
  {
   "cell_type": "code",
   "execution_count": 1,
   "id": "7708eaa7",
   "metadata": {},
   "outputs": [
    {
     "name": "stdout",
     "output_type": "stream",
     "text": [
      "1\n",
      "3\n",
      "5\n",
      "7\n",
      "9\n"
     ]
    }
   ],
   "source": [
    "for i in range(1, 11):\n",
    "    if i % 2 == 0:  # si es par\n",
    "        pass        # no hace nada\n",
    "    else:\n",
    "        print(i)    # imprime los impares"
   ]
  },
  {
   "cell_type": "markdown",
   "id": "dcc55e9d",
   "metadata": {},
   "source": [
    "Requestion: ¿Qué pasa si quitamos pass?\n",
    "No pasa nada, el pass solo actúa como \"relleno\". El código funcionaría igual si simplemente no pones nada en el if."
   ]
  },
  {
   "cell_type": "markdown",
   "id": "dafa53e8",
   "metadata": {},
   "source": [
    "# 2. Continue Statement, Enunciado: Recorre \"pythonloops\" y salta la letra \"o\"."
   ]
  },
  {
   "cell_type": "code",
   "execution_count": 2,
   "id": "43e25f0a",
   "metadata": {},
   "outputs": [
    {
     "name": "stdout",
     "output_type": "stream",
     "text": [
      "p\n",
      "y\n",
      "t\n",
      "h\n",
      "n\n",
      "l\n",
      "p\n",
      "s\n"
     ]
    }
   ],
   "source": [
    "for letra in \"pythonloops\":\n",
    "    if letra == \"o\":\n",
    "        continue   # salta la letra 'o'\n",
    "    print(letra)"
   ]
  },
  {
   "cell_type": "markdown",
   "id": "38d56429",
   "metadata": {},
   "source": [
    "Re-question: ¿Cómo hacerlo sin continue?\n",
    "Se puede lograr usando un if inverso:"
   ]
  },
  {
   "cell_type": "code",
   "execution_count": 4,
   "id": "7c0db975",
   "metadata": {},
   "outputs": [
    {
     "name": "stdout",
     "output_type": "stream",
     "text": [
      "p\n",
      "y\n",
      "t\n",
      "h\n",
      "n\n",
      "l\n",
      "p\n",
      "s\n"
     ]
    }
   ],
   "source": [
    "for letra in \"pythonloops\":\n",
    "    if letra != \"o\":\n",
    "        print(letra)"
   ]
  },
  {
   "cell_type": "markdown",
   "id": "3d53c6e8",
   "metadata": {},
   "source": [
    "# 3. Break Statement,  Enunciado: Crea un while que pida números y se rompe si es negativo."
   ]
  },
  {
   "cell_type": "code",
   "execution_count": 3,
   "id": "e88ae783",
   "metadata": {},
   "outputs": [
    {
     "name": "stdout",
     "output_type": "stream",
     "text": [
      "Ingrese un número: 5\n",
      "Número ingresado: 5\n",
      "Ingrese un número: 2\n",
      "Número ingresado: 2\n",
      "Ingrese un número: 3\n",
      "Número ingresado: 3\n",
      "Ingrese un número: 0\n",
      "Número ingresado: 0\n",
      "Ingrese un número: -5\n",
      "Se encontró un número negativo. Fin del programa.\n"
     ]
    }
   ],
   "source": [
    "while True:\n",
    "    num = int(input(\"Ingrese un número: \"))\n",
    "    if num < 0:\n",
    "        print(\"Se encontró un número negativo. Fin del programa.\")\n",
    "        break\n",
    "    print(f\"Número ingresado: {num}\")"
   ]
  },
  {
   "cell_type": "markdown",
   "id": "4be4f00a",
   "metadata": {},
   "source": [
    "Re-question: ¿Cómo ignorar negativos en lugar de romper?\n",
    "    Usamos continue para saltarlos"
   ]
  },
  {
   "cell_type": "code",
   "execution_count": null,
   "id": "569ca269",
   "metadata": {},
   "outputs": [],
   "source": [
    "while True:\n",
    "    num = int(input(\"Ingrese un número: \"))\n",
    "    if num < 0:\n",
    "        print(\"Número negativo ignorado.\")\n",
    "        continue   # vuelve al inicio sin romper\n",
    "    print(f\"Número ingresado: {num}\")"
   ]
  },
  {
   "cell_type": "markdown",
   "id": "e08479b4",
   "metadata": {},
   "source": [
    "# 4. Try-Except Block"
   ]
  },
  {
   "cell_type": "code",
   "execution_count": 1,
   "id": "b5e1cbcd",
   "metadata": {},
   "outputs": [
    {
     "name": "stdout",
     "output_type": "stream",
     "text": [
      "Ingrese un número para dividir 100: 5\n",
      "100 dividido entre 5.0 es 20.0\n"
     ]
    }
   ],
   "source": [
    "\n",
    "while True:\n",
    "    try:\n",
    "        num = input(\"Ingrese un número para dividir 100: \")\n",
    "        num = float(num)  # convertir a número (puede dar error si es texto)\n",
    "        result = 100 / num\n",
    "        print(f\"100 dividido entre {num} es {result}\")\n",
    "        break  # salimos si todo sale bien\n",
    "    except ZeroDivisionError:\n",
    "        print(\"❌ No se puede dividir entre 0. Intente nuevamente.\")\n",
    "    except ValueError:\n",
    "        print(\"❌ Entrada inválida. Ingrese un número válido.\")\n"
   ]
  },
  {
   "cell_type": "code",
   "execution_count": null,
   "id": "d0eb47c1",
   "metadata": {},
   "outputs": [],
   "source": []
  }
 ],
 "metadata": {
  "kernelspec": {
   "display_name": "Python 3 (ipykernel)",
   "language": "python",
   "name": "python3"
  },
  "language_info": {
   "codemirror_mode": {
    "name": "ipython",
    "version": 3
   },
   "file_extension": ".py",
   "mimetype": "text/x-python",
   "name": "python",
   "nbconvert_exporter": "python",
   "pygments_lexer": "ipython3",
   "version": "3.11.5"
  }
 },
 "nbformat": 4,
 "nbformat_minor": 5
}
