{
 "cells": [
  {
   "cell_type": "markdown",
   "metadata": {},
   "source": [
    "# This is Diplomado 2025 - PUCP\n",
    "## Python\n",
    "This is a course in python\n",
    "* Alex\n",
    "* Maria"
   ]
  },
  {
   "cell_type": "code",
   "execution_count": 1,
   "metadata": {},
   "outputs": [
    {
     "data": {
      "text/plain": [
       "225"
      ]
     },
     "execution_count": 1,
     "metadata": {},
     "output_type": "execute_result"
    }
   ],
   "source": [
    "15*15"
   ]
  },
  {
   "cell_type": "code",
   "execution_count": 2,
   "metadata": {},
   "outputs": [
    {
     "name": "stdout",
     "output_type": "stream",
     "text": [
      "alex\n"
     ]
    }
   ],
   "source": [
    "print(\"alex\")"
   ]
  },
  {
   "cell_type": "markdown",
   "metadata": {},
   "source": [
    "# This is python\n",
    "## This is Diplomado\n",
    "#### This is PUCP\n",
    "HI THIS IS MY COURS.S.S.S.S."
   ]
  },
  {
   "cell_type": "markdown",
   "metadata": {},
   "source": [
    "# This is the second lecture\n",
    "## This is the second lecture\n",
    "#### This is the second lecture"
   ]
  },
  {
   "cell_type": "markdown",
   "metadata": {},
   "source": [
    "This is the second lecture!"
   ]
  },
  {
   "cell_type": "markdown",
   "metadata": {},
   "source": [
    "# Titulo 1\n",
    "## Subtitulo 1 \n",
    "### Sub3 "
   ]
  },
  {
   "cell_type": "markdown",
   "metadata": {},
   "source": [
    "# Introduction to Python: Tuples, Lists, Dictionaries, Arrays"
   ]
  },
  {
   "cell_type": "markdown",
   "metadata": {},
   "source": [
    "## Variables\n",
    "Containers for store data values. This variable has a label or name. This variable is an object in memory."
   ]
  },
  {
   "cell_type": "markdown",
   "metadata": {},
   "source": [
    "### Python Types\n",
    "\n",
    "There are three key python types: int, float, string and boolean.\n",
    "Los objetos creados se quedan en la memoria de python."
   ]
  },
  {
   "cell_type": "code",
   "execution_count": 14,
   "metadata": {},
   "outputs": [],
   "source": [
    "a = 50 "
   ]
  },
  {
   "cell_type": "raw",
   "metadata": {},
   "source": [
    "Todo elemento con x.xx se agrega como flotantes. si quiero que sea considerado como un entero debo colocar solo el numero. "
   ]
  },
  {
   "cell_type": "code",
   "execution_count": 15,
   "metadata": {},
   "outputs": [],
   "source": [
    "b = 30.0"
   ]
  },
  {
   "cell_type": "code",
   "execution_count": 17,
   "metadata": {},
   "outputs": [
    {
     "data": {
      "text/plain": [
       "50"
      ]
     },
     "execution_count": 17,
     "metadata": {},
     "output_type": "execute_result"
    }
   ],
   "source": [
    "a"
   ]
  },
  {
   "cell_type": "code",
   "execution_count": 18,
   "metadata": {},
   "outputs": [
    {
     "data": {
      "text/plain": [
       "30.0"
      ]
     },
     "execution_count": 18,
     "metadata": {},
     "output_type": "execute_result"
    }
   ],
   "source": [
    "b"
   ]
  },
  {
   "cell_type": "code",
   "execution_count": 19,
   "metadata": {},
   "outputs": [
    {
     "name": "stdout",
     "output_type": "stream",
     "text": [
      "50\n"
     ]
    }
   ],
   "source": [
    "print(a)"
   ]
  },
  {
   "cell_type": "code",
   "execution_count": 20,
   "metadata": {},
   "outputs": [
    {
     "data": {
      "text/plain": [
       "int"
      ]
     },
     "execution_count": 20,
     "metadata": {},
     "output_type": "execute_result"
    }
   ],
   "source": [
    "type(a)"
   ]
  },
  {
   "cell_type": "code",
   "execution_count": 21,
   "metadata": {},
   "outputs": [
    {
     "data": {
      "text/plain": [
       "int"
      ]
     },
     "execution_count": 21,
     "metadata": {},
     "output_type": "execute_result"
    }
   ],
   "source": [
    "b = 30\n",
    "type(b)"
   ]
  },
  {
   "cell_type": "code",
   "execution_count": 9,
   "metadata": {},
   "outputs": [
    {
     "data": {
      "text/plain": [
       "float"
      ]
     },
     "execution_count": 9,
     "metadata": {},
     "output_type": "execute_result"
    }
   ],
   "source": [
    "c = 30.3\n",
    "type(c)"
   ]
  },
  {
   "cell_type": "code",
   "execution_count": 10,
   "metadata": {},
   "outputs": [
    {
     "data": {
      "text/plain": [
       "str"
      ]
     },
     "execution_count": 10,
     "metadata": {},
     "output_type": "execute_result"
    }
   ],
   "source": [
    "d = \"30\"\n",
    "type(d)"
   ]
  },
  {
   "cell_type": "code",
   "execution_count": 184,
   "metadata": {},
   "outputs": [
    {
     "data": {
      "text/plain": [
       "bool"
      ]
     },
     "execution_count": 184,
     "metadata": {},
     "output_type": "execute_result"
    }
   ],
   "source": [
    "a = False\n",
    "type(a)"
   ]
  },
  {
   "cell_type": "markdown",
   "metadata": {},
   "source": [
    "### [String](https://www.w3schools.com/python/python_ref_string.asp)\n",
    "A string is a sequence of characters."
   ]
  },
  {
   "cell_type": "code",
   "execution_count": 13,
   "metadata": {},
   "outputs": [
    {
     "name": "stdout",
     "output_type": "stream",
     "text": [
      "hello15%\n"
     ]
    }
   ],
   "source": [
    "my_string = 'hello15%'\n",
    "print(my_string)"
   ]
  },
  {
   "cell_type": "code",
   "execution_count": 15,
   "metadata": {},
   "outputs": [
    {
     "name": "stdout",
     "output_type": "stream",
     "text": [
      " \"\"Hello\"\" \n"
     ]
    }
   ],
   "source": [
    "# defining strings in Python\n",
    "# all of the following are equivalent\n",
    "my_string = ' \"\"Hello\"\" '\n",
    "print(my_string)"
   ]
  },
  {
   "cell_type": "code",
   "execution_count": 16,
   "metadata": {},
   "outputs": [
    {
     "name": "stdout",
     "output_type": "stream",
     "text": [
      "Hello%15#$ \n",
      "\n"
     ]
    }
   ],
   "source": [
    "my_string = \"Hello%15#$\"\n",
    "print(my_string , \"\\n\")"
   ]
  },
  {
   "cell_type": "code",
   "execution_count": 18,
   "metadata": {},
   "outputs": [
    {
     "name": "stdout",
     "output_type": "stream",
     "text": [
      " Hello$%&15  \n",
      "\n"
     ]
    }
   ],
   "source": [
    "my_string = ''' Hello$%&15 '''\n",
    "print(my_string , \"\\n\")"
   ]
  },
  {
   "cell_type": "code",
   "execution_count": 29,
   "metadata": {},
   "outputs": [
    {
     "data": {
      "text/plain": [
       "'afrania'"
      ]
     },
     "execution_count": 29,
     "metadata": {},
     "output_type": "execute_result"
    }
   ],
   "source": [
    "name = \"afrania\"\n",
    "name"
   ]
  },
  {
   "cell_type": "code",
   "execution_count": 28,
   "metadata": {},
   "outputs": [
    {
     "name": "stdout",
     "output_type": "stream",
     "text": [
      " la casa rosada \"SBA\" \n"
     ]
    }
   ],
   "source": [
    "address_rest = ''' la casa rosada \"SBA\" ''' \n",
    "print(address_rest)"
   ]
  },
  {
   "cell_type": "code",
   "execution_count": 33,
   "metadata": {},
   "outputs": [
    {
     "name": "stdout",
     "output_type": "stream",
     "text": [
      " Hello, welcome to \n",
      "                the world of Python \n"
     ]
    }
   ],
   "source": [
    "my_string = \"\"\" Hello, welcome to \n",
    "                the world of Python \"\"\"\n",
    "print(my_string)"
   ]
  },
  {
   "cell_type": "code",
   "execution_count": 30,
   "metadata": {},
   "outputs": [
    {
     "name": "stdout",
     "output_type": "stream",
     "text": [
      " Hello, welcome to\n",
      "the world of Python \n"
     ]
    }
   ],
   "source": [
    "# triple quotes string can extend multiple lines\n",
    "my_string = \"\"\" Hello, welcome to\n",
    "the world of Python \"\"\"\n",
    "print(my_string)"
   ]
  },
  {
   "cell_type": "code",
   "execution_count": 39,
   "metadata": {},
   "outputs": [
    {
     "name": "stdout",
     "output_type": "stream",
     "text": [
      "  Hello, welcome to\n",
      "           the world of \"Python\" \n"
     ]
    }
   ],
   "source": [
    "# triple quotes string can extend multiple lines\n",
    "my_string = '''  Hello, welcome to\n",
    "           the world of \"Python\" '''\n",
    "print(my_string)"
   ]
  },
  {
   "cell_type": "code",
   "execution_count": 35,
   "metadata": {},
   "outputs": [
    {
     "data": {
      "text/plain": [
       "48"
      ]
     },
     "execution_count": 35,
     "metadata": {},
     "output_type": "execute_result"
    }
   ],
   "source": [
    "len(my_string)"
   ]
  },
  {
   "cell_type": "code",
   "execution_count": 43,
   "metadata": {},
   "outputs": [],
   "source": [
    "# import re\n",
    "# re.sub(' +', ' ', 'The     quick brown    fox')"
   ]
  },
  {
   "cell_type": "code",
   "execution_count": 44,
   "metadata": {},
   "outputs": [
    {
     "data": {
      "text/plain": [
       "11"
      ]
     },
     "execution_count": 44,
     "metadata": {},
     "output_type": "execute_result"
    }
   ],
   "source": [
    "name = \"Jose Felipe\"\n",
    "len(name)"
   ]
  },
  {
   "cell_type": "code",
   "execution_count": null,
   "metadata": {},
   "outputs": [],
   "source": []
  },
  {
   "cell_type": "code",
   "execution_count": 45,
   "metadata": {},
   "outputs": [
    {
     "data": {
      "text/plain": [
       "'jose gomez             &          empresa manugfacutra'"
      ]
     },
     "execution_count": 45,
     "metadata": {},
     "output_type": "execute_result"
    }
   ],
   "source": [
    "\"jose gomez             &          empresa manugfacutra\""
   ]
  },
  {
   "cell_type": "code",
   "execution_count": 47,
   "metadata": {},
   "outputs": [
    {
     "name": "stdout",
     "output_type": "stream",
     "text": [
      "the name of the student is Raul\n"
     ]
    }
   ],
   "source": [
    "print(\"the name of the student is Raul\")"
   ]
  },
  {
   "cell_type": "code",
   "execution_count": 48,
   "metadata": {},
   "outputs": [
    {
     "name": "stdout",
     "output_type": "stream",
     "text": [
      "pregunta de heidi Introduction to Python Luciana pregunta\n"
     ]
    }
   ],
   "source": [
    "# Accessing string characters in Python\n",
    "## Indexing\n",
    "str_2 = 'Introduction to Python'\n",
    "\n",
    "print( \"pregunta de heidi\" , str_2 , \"Luciana pregunta\" )"
   ]
  },
  {
   "cell_type": "code",
   "execution_count": 49,
   "metadata": {},
   "outputs": [
    {
     "name": "stdout",
     "output_type": "stream",
     "text": [
      "The name of the course is python\n"
     ]
    }
   ],
   "source": [
    "str_1 = \"The name\"\n",
    "str_2 = \"of the course\"\n",
    "str_3 = \"is python\"\n",
    "print(str_1, str_2, str_3)"
   ]
  },
  {
   "cell_type": "code",
   "execution_count": 51,
   "metadata": {},
   "outputs": [
    {
     "data": {
      "text/plain": [
       "'The nameof the courseis python'"
      ]
     },
     "execution_count": 51,
     "metadata": {},
     "output_type": "execute_result"
    }
   ],
   "source": [
    "course_name = str_1 + str_2 + str_3\n",
    "course_name"
   ]
  },
  {
   "cell_type": "code",
   "execution_count": 57,
   "metadata": {},
   "outputs": [
    {
     "name": "stdout",
     "output_type": "stream",
     "text": [
      "pregunta de heidiIntroduction to PythonLuciana pregunta\n"
     ]
    }
   ],
   "source": [
    "# Accessing string characters in Python\n",
    "## Indexing\n",
    "str = 'Introduction to Python'\n",
    "print( \"pregunta de heidi\" + str + \"Luciana pregunta\" )"
   ]
  },
  {
   "cell_type": "code",
   "execution_count": 54,
   "metadata": {},
   "outputs": [
    {
     "data": {
      "text/plain": [
       "'C:/Users/Alexander/Dropbox/Pakistan_ID_DIME/Data/Data_requests/data_1'"
      ]
     },
     "execution_count": 54,
     "metadata": {},
     "output_type": "execute_result"
    }
   ],
   "source": [
    "dir = \"C:/Users/Alexander/Dropbox/Pakistan_ID_DIME/Data/Data_requests/\"\n",
    "dir + \"data_1\""
   ]
  },
  {
   "cell_type": "code",
   "execution_count": 55,
   "metadata": {},
   "outputs": [
    {
     "data": {
      "text/plain": [
       "'C:/Users/Alexander/Dropbox/Pakistan_ID_DIME/Data/Data_requests/data_2'"
      ]
     },
     "execution_count": 55,
     "metadata": {},
     "output_type": "execute_result"
    }
   ],
   "source": [
    "dir + \"data_2\""
   ]
  },
  {
   "cell_type": "code",
   "execution_count": 56,
   "metadata": {},
   "outputs": [],
   "source": [
    "# C:/Users/Alexander/Dropbox/Pakistan ID DIME/Data/Data requests/data_1\n",
    "# C:/Users/Alexander/Dropbox/Pakistan ID DIME/Data/Data requests/data_2\n",
    "# C:/Users/Alexander/Dropbox/Pakistan ID DIME/Data/Data requests/data_3    "
   ]
  },
  {
   "cell_type": "code",
   "execution_count": 59,
   "metadata": {},
   "outputs": [
    {
     "data": {
      "text/plain": [
       "'Introduction to Python'"
      ]
     },
     "execution_count": 59,
     "metadata": {},
     "output_type": "execute_result"
    }
   ],
   "source": [
    "str = \"Introduction to Python\"\n",
    "str"
   ]
  },
  {
   "cell_type": "code",
   "execution_count": 64,
   "metadata": {},
   "outputs": [
    {
     "data": {
      "text/plain": [
       "'o'"
      ]
     },
     "execution_count": 64,
     "metadata": {},
     "output_type": "execute_result"
    }
   ],
   "source": [
    "str[10]"
   ]
  },
  {
   "cell_type": "code",
   "execution_count": 195,
   "metadata": {},
   "outputs": [
    {
     "data": {
      "text/plain": [
       "'I'"
      ]
     },
     "execution_count": 195,
     "metadata": {},
     "output_type": "execute_result"
    }
   ],
   "source": [
    "str[0]"
   ]
  },
  {
   "cell_type": "code",
   "execution_count": 65,
   "metadata": {},
   "outputs": [
    {
     "name": "stdout",
     "output_type": "stream",
     "text": [
      "str[0] =  I\n"
     ]
    }
   ],
   "source": [
    "#first character\n",
    "print('str[0] = ', str[0])"
   ]
  },
  {
   "cell_type": "code",
   "execution_count": 197,
   "metadata": {},
   "outputs": [],
   "source": [
    "str = 'Introduction to Python'"
   ]
  },
  {
   "cell_type": "code",
   "execution_count": 68,
   "metadata": {},
   "outputs": [
    {
     "data": {
      "text/plain": [
       "'o'"
      ]
     },
     "execution_count": 68,
     "metadata": {},
     "output_type": "execute_result"
    }
   ],
   "source": [
    "str[-2]"
   ]
  },
  {
   "cell_type": "code",
   "execution_count": 69,
   "metadata": {},
   "outputs": [
    {
     "data": {
      "text/plain": [
       "'P'"
      ]
     },
     "execution_count": 69,
     "metadata": {},
     "output_type": "execute_result"
    }
   ],
   "source": [
    "str[-6]"
   ]
  },
  {
   "cell_type": "code",
   "execution_count": 198,
   "metadata": {},
   "outputs": [
    {
     "name": "stdout",
     "output_type": "stream",
     "text": [
      "o\n"
     ]
    }
   ],
   "source": [
    "#last character\n",
    "print(str[-2])"
   ]
  },
  {
   "cell_type": "code",
   "execution_count": 71,
   "metadata": {},
   "outputs": [],
   "source": [
    "str = 'Introduction to Python'"
   ]
  },
  {
   "cell_type": "code",
   "execution_count": 72,
   "metadata": {},
   "outputs": [
    {
     "name": "stdout",
     "output_type": "stream",
     "text": [
      "ntro\n"
     ]
    }
   ],
   "source": [
    "#slicing 2nd to 5th character\n",
    "print(str[1:5])"
   ]
  },
  {
   "cell_type": "code",
   "execution_count": 73,
   "metadata": {},
   "outputs": [
    {
     "name": "stdout",
     "output_type": "stream",
     "text": [
      "duction to Pyth\n"
     ]
    }
   ],
   "source": [
    "#slicing 6th to 2nd last character\n",
    "print(str[5:-2])"
   ]
  },
  {
   "cell_type": "markdown",
   "metadata": {},
   "source": [
    "### [Bool](https://www.w3schools.com/python/python_booleans.asp)\n",
    "\n",
    "The Python Boolean type is one of Python’s built-in data types. It’s used to represent the truth value of an expression. For example, the expression 1 <= 2 is True, while the expression 0 == 1 is False. "
   ]
  },
  {
   "cell_type": "code",
   "execution_count": 75,
   "metadata": {},
   "outputs": [
    {
     "name": "stdout",
     "output_type": "stream",
     "text": [
      "True\n"
     ]
    }
   ],
   "source": [
    "response = print(10 > 9)\n",
    "response"
   ]
  },
  {
   "cell_type": "code",
   "execution_count": 76,
   "metadata": {},
   "outputs": [
    {
     "name": "stdout",
     "output_type": "stream",
     "text": [
      "False\n"
     ]
    }
   ],
   "source": [
    "print(10 == 9)"
   ]
  },
  {
   "cell_type": "code",
   "execution_count": 77,
   "metadata": {
    "scrolled": true
   },
   "outputs": [
    {
     "name": "stdout",
     "output_type": "stream",
     "text": [
      "False\n"
     ]
    }
   ],
   "source": [
    "print(10 < 9)"
   ]
  },
  {
   "cell_type": "code",
   "execution_count": 86,
   "metadata": {},
   "outputs": [
    {
     "data": {
      "text/plain": [
       "'alexander'"
      ]
     },
     "execution_count": 86,
     "metadata": {},
     "output_type": "execute_result"
    }
   ],
   "source": [
    "name = \"alexander\"\n",
    "name"
   ]
  },
  {
   "cell_type": "code",
   "execution_count": 89,
   "metadata": {},
   "outputs": [
    {
     "data": {
      "text/plain": [
       "True"
      ]
     },
     "execution_count": 89,
     "metadata": {},
     "output_type": "execute_result"
    }
   ],
   "source": [
    "True == 1"
   ]
  },
  {
   "cell_type": "code",
   "execution_count": 83,
   "metadata": {},
   "outputs": [
    {
     "data": {
      "text/plain": [
       "True"
      ]
     },
     "execution_count": 83,
     "metadata": {},
     "output_type": "execute_result"
    }
   ],
   "source": [
    "True == 1"
   ]
  },
  {
   "cell_type": "code",
   "execution_count": 79,
   "metadata": {},
   "outputs": [
    {
     "data": {
      "text/plain": [
       "True"
      ]
     },
     "execution_count": 79,
     "metadata": {},
     "output_type": "execute_result"
    }
   ],
   "source": [
    "False == 0"
   ]
  },
  {
   "cell_type": "code",
   "execution_count": 80,
   "metadata": {},
   "outputs": [
    {
     "data": {
      "text/plain": [
       "False"
      ]
     },
     "execution_count": 80,
     "metadata": {},
     "output_type": "execute_result"
    }
   ],
   "source": [
    "False == 1"
   ]
  },
  {
   "cell_type": "code",
   "execution_count": 84,
   "metadata": {},
   "outputs": [
    {
     "data": {
      "text/plain": [
       "1.0"
      ]
     },
     "execution_count": 84,
     "metadata": {},
     "output_type": "execute_result"
    }
   ],
   "source": [
    "True + (False / True)"
   ]
  },
  {
   "cell_type": "markdown",
   "metadata": {},
   "source": [
    "## [Tuple](https://www.datacamp.com/community/tutorials/python-tuples-tutorial?utm_source=adwords_ppc&utm_medium=cpc&utm_campaignid=1455363063&utm_adgroupid=65083631748&utm_device=c&utm_keyword=&utm_matchtype=b&utm_network=g&utm_adpostion=&utm_creative=278443377092&utm_targetid=dsa-429603003980&utm_loc_interest_ms=&utm_loc_physical_ms=9060932&gclid=CjwKCAiAvriMBhAuEiwA8Cs5lSzvIp9Hmu0C0HearAmYt_xmqCwjL-nbi0j1e-WlDcBcm2owtmfvGBoCjhEQAvD_BwE)\n",
    "It is an ordered and unchangeable Python container. We cannot change, add or remove items after the tuple has been created. Tuple items are ordered, unchangeable, and allow duplicate values."
   ]
  },
  {
   "cell_type": "code",
   "execution_count": 92,
   "metadata": {},
   "outputs": [
    {
     "data": {
      "text/plain": [
       "(1, 2, 5, 9, 10, 10)"
      ]
     },
     "execution_count": 92,
     "metadata": {},
     "output_type": "execute_result"
    }
   ],
   "source": [
    "# tuple1 = (1, 2, 5, 9, 10, 10)\n",
    "# tuple1"
   ]
  },
  {
   "cell_type": "code",
   "execution_count": 4,
   "metadata": {},
   "outputs": [
    {
     "data": {
      "text/plain": [
       "'d'"
      ]
     },
     "execution_count": 4,
     "metadata": {},
     "output_type": "execute_result"
    }
   ],
   "source": [
    "# name_st = \"Adriana Sierra\"\n",
    "# name_st[1]"
   ]
  },
  {
   "cell_type": "code",
   "execution_count": 8,
   "metadata": {},
   "outputs": [],
   "source": [
    "tuple_0 = (1, 10.5, \"alex\", True, False)"
   ]
  },
  {
   "cell_type": "code",
   "execution_count": 9,
   "metadata": {},
   "outputs": [
    {
     "data": {
      "text/plain": [
       "True"
      ]
     },
     "execution_count": 9,
     "metadata": {},
     "output_type": "execute_result"
    }
   ],
   "source": [
    "tuple_0[3]"
   ]
  },
  {
   "cell_type": "code",
   "execution_count": null,
   "metadata": {},
   "outputs": [],
   "source": [
    "# (25, 10.5, \"alex\", True, False)"
   ]
  },
  {
   "cell_type": "code",
   "execution_count": 7,
   "metadata": {},
   "outputs": [
    {
     "ename": "TypeError",
     "evalue": "'tuple' object does not support item assignment",
     "output_type": "error",
     "traceback": [
      "\u001b[1;31m---------------------------------------------------------------------------\u001b[0m",
      "\u001b[1;31mTypeError\u001b[0m                                 Traceback (most recent call last)",
      "\u001b[1;32mC:\\Users\\ALEXAN~1\\AppData\\Local\\Temp/ipykernel_15348/2824640292.py\u001b[0m in \u001b[0;36m<module>\u001b[1;34m\u001b[0m\n\u001b[1;32m----> 1\u001b[1;33m \u001b[0mtuple_0\u001b[0m\u001b[1;33m[\u001b[0m\u001b[1;36m0\u001b[0m\u001b[1;33m]\u001b[0m \u001b[1;33m=\u001b[0m \u001b[1;36m25\u001b[0m\u001b[1;33m\u001b[0m\u001b[1;33m\u001b[0m\u001b[0m\n\u001b[0m",
      "\u001b[1;31mTypeError\u001b[0m: 'tuple' object does not support item assignment"
     ]
    }
   ],
   "source": [
    "# tuple_0[0] = 25"
   ]
  },
  {
   "cell_type": "code",
   "execution_count": 96,
   "metadata": {},
   "outputs": [
    {
     "data": {
      "text/plain": [
       "5"
      ]
     },
     "execution_count": 96,
     "metadata": {},
     "output_type": "execute_result"
    }
   ],
   "source": [
    "tuple1 = (1, 3, 3, 5, 10)\n",
    "tuple1[3]"
   ]
  },
  {
   "cell_type": "code",
   "execution_count": 97,
   "metadata": {},
   "outputs": [
    {
     "ename": "TypeError",
     "evalue": "'tuple' object does not support item assignment",
     "output_type": "error",
     "traceback": [
      "\u001b[1;31m---------------------------------------------------------------------------\u001b[0m",
      "\u001b[1;31mTypeError\u001b[0m                                 Traceback (most recent call last)",
      "\u001b[1;32mC:\\Users\\ALEXAN~1\\AppData\\Local\\Temp/ipykernel_2148/4138596957.py\u001b[0m in \u001b[0;36m<module>\u001b[1;34m\u001b[0m\n\u001b[1;32m----> 1\u001b[1;33m \u001b[0mtuple1\u001b[0m\u001b[1;33m[\u001b[0m\u001b[1;36m0\u001b[0m\u001b[1;33m]\u001b[0m \u001b[1;33m=\u001b[0m \u001b[1;36m15\u001b[0m\u001b[1;33m\u001b[0m\u001b[1;33m\u001b[0m\u001b[0m\n\u001b[0m",
      "\u001b[1;31mTypeError\u001b[0m: 'tuple' object does not support item assignment"
     ]
    }
   ],
   "source": [
    "tuple1[0] = 15"
   ]
  },
  {
   "cell_type": "markdown",
   "metadata": {},
   "source": [
    "| Method \t| Definition \t|\n",
    "|---\t|---\t|\n",
    "| count() | Returns the number of times <br> a specified value occurs in a tuple \t|\n",
    "| index() |\tSearches the tuple for a specified value <br> and returns the position of where it was found \t|\n"
   ]
  },
  {
   "cell_type": "code",
   "execution_count": 12,
   "metadata": {},
   "outputs": [],
   "source": [
    "tuple1 = (1, 3, 3, 5, 10, 5, 5)"
   ]
  },
  {
   "cell_type": "code",
   "execution_count": 16,
   "metadata": {},
   "outputs": [
    {
     "data": {
      "text/plain": [
       "1"
      ]
     },
     "execution_count": 16,
     "metadata": {},
     "output_type": "execute_result"
    }
   ],
   "source": [
    "tuple1.count(10)"
   ]
  },
  {
   "cell_type": "code",
   "execution_count": 14,
   "metadata": {},
   "outputs": [
    {
     "data": {
      "text/plain": [
       "2"
      ]
     },
     "execution_count": 14,
     "metadata": {},
     "output_type": "execute_result"
    }
   ],
   "source": [
    "tuple1.count(3)"
   ]
  },
  {
   "cell_type": "code",
   "execution_count": 106,
   "metadata": {},
   "outputs": [
    {
     "data": {
      "text/plain": [
       "3"
      ]
     },
     "execution_count": 106,
     "metadata": {},
     "output_type": "execute_result"
    }
   ],
   "source": [
    "# count\n",
    "#print( tuple1 )\n",
    "tuple1.count( 5 )"
   ]
  },
  {
   "cell_type": "code",
   "execution_count": 17,
   "metadata": {},
   "outputs": [
    {
     "name": "stdout",
     "output_type": "stream",
     "text": [
      "(1, 3, 3, 5, 10, 5, 5)\n"
     ]
    },
    {
     "data": {
      "text/plain": [
       "1"
      ]
     },
     "execution_count": 17,
     "metadata": {},
     "output_type": "execute_result"
    }
   ],
   "source": [
    "# index\n",
    "print( tuple1 )\n",
    "tuple1.index( 3 )"
   ]
  },
  {
   "cell_type": "code",
   "execution_count": 108,
   "metadata": {},
   "outputs": [
    {
     "data": {
      "text/plain": [
       "1"
      ]
     },
     "execution_count": 108,
     "metadata": {},
     "output_type": "execute_result"
    }
   ],
   "source": [
    "tuple1.index( 3 )"
   ]
  },
  {
   "cell_type": "markdown",
   "metadata": {},
   "source": [
    "| Function \t| Definition \t|\n",
    "| --- \t| --- \t|\n",
    "| type(tuple) \t| It returns the class type of an object. \t|\n",
    "| max(tuple) \t| It returns an item from the tuple with max value. \t|\n",
    "| min(tuple) \t| It returns an item from the tuple with min value. \t|\n",
    "| len(tuple) \t| It gives the total length of the tuple. \t|\n",
    "| tuple( list ) \t| Converts a list into a tuple. \t|"
   ]
  },
  {
   "cell_type": "code",
   "execution_count": 51,
   "metadata": {
    "scrolled": true
   },
   "outputs": [
    {
     "name": "stdout",
     "output_type": "stream",
     "text": [
      "<class 'tuple'>\n",
      "39\n",
      "1\n",
      "6\n"
     ]
    }
   ],
   "source": [
    "tuple_p3 = (1, 8, 18, 28, 39, 8)\n",
    "print( type(tuple_p3) )\n",
    "print( max(tuple_p3) )\n",
    "print( min(tuple_p3) )\n",
    "print( len(tuple_p3) )"
   ]
  },
  {
   "cell_type": "code",
   "execution_count": 53,
   "metadata": {},
   "outputs": [],
   "source": [
    "# tuple_p3.sort()"
   ]
  },
  {
   "cell_type": "code",
   "execution_count": 25,
   "metadata": {},
   "outputs": [
    {
     "data": {
      "text/plain": [
       "1"
      ]
     },
     "execution_count": 25,
     "metadata": {},
     "output_type": "execute_result"
    }
   ],
   "source": [
    "tuple_p3.index(8)"
   ]
  },
  {
   "cell_type": "code",
   "execution_count": 110,
   "metadata": {},
   "outputs": [
    {
     "name": "stdout",
     "output_type": "stream",
     "text": [
      "(1, 3, 3, 5, 10, (5, 6, 7))\n"
     ]
    }
   ],
   "source": [
    "tuple1 = ( 1, 3, 3, 5, 10, (5, 6, 7) )\n",
    "print(tuple1)"
   ]
  },
  {
   "cell_type": "code",
   "execution_count": 111,
   "metadata": {},
   "outputs": [
    {
     "data": {
      "text/plain": [
       "('alex', 5, True)"
      ]
     },
     "execution_count": 111,
     "metadata": {},
     "output_type": "execute_result"
    }
   ],
   "source": [
    "tuple1 = (\"alex\", 5, True)\n",
    "tuple1"
   ]
  },
  {
   "cell_type": "code",
   "execution_count": 113,
   "metadata": {},
   "outputs": [
    {
     "data": {
      "text/plain": [
       "4"
      ]
     },
     "execution_count": 113,
     "metadata": {},
     "output_type": "execute_result"
    }
   ],
   "source": [
    "len(tuple1[0])"
   ]
  },
  {
   "cell_type": "code",
   "execution_count": 117,
   "metadata": {},
   "outputs": [],
   "source": [
    "tuple1 = ( 1, 2, 3, 4, 5, 10 )"
   ]
  },
  {
   "cell_type": "code",
   "execution_count": 118,
   "metadata": {},
   "outputs": [
    {
     "name": "stdout",
     "output_type": "stream",
     "text": [
      "10\n"
     ]
    }
   ],
   "source": [
    "# Max value\n",
    "print( max(tuple1) )"
   ]
  },
  {
   "cell_type": "code",
   "execution_count": 119,
   "metadata": {},
   "outputs": [
    {
     "name": "stdout",
     "output_type": "stream",
     "text": [
      "1\n"
     ]
    }
   ],
   "source": [
    "print( min(tuple1) )"
   ]
  },
  {
   "cell_type": "code",
   "execution_count": 120,
   "metadata": {},
   "outputs": [
    {
     "name": "stdout",
     "output_type": "stream",
     "text": [
      "6\n"
     ]
    }
   ],
   "source": [
    "# Length\n",
    "print( len(tuple1) )"
   ]
  },
  {
   "cell_type": "code",
   "execution_count": null,
   "metadata": {},
   "outputs": [],
   "source": [
    "# # Min value\n",
    "# print( min(tuple1) )"
   ]
  },
  {
   "cell_type": "code",
   "execution_count": null,
   "metadata": {},
   "outputs": [],
   "source": [
    "# a = [2 , 3, 4]\n",
    "# print( type( a ) )"
   ]
  },
  {
   "cell_type": "code",
   "execution_count": null,
   "metadata": {},
   "outputs": [],
   "source": [
    "# b = tuple(a)\n",
    "# print( type( b ) )\n",
    "# print( b )"
   ]
  },
  {
   "cell_type": "code",
   "execution_count": null,
   "metadata": {},
   "outputs": [],
   "source": [
    "# c = list(b)\n",
    "# c"
   ]
  },
  {
   "cell_type": "markdown",
   "metadata": {},
   "source": [
    "## [Lists](https://www.freecodecamp.org/news/lists-in-python-comprehensive-guide/)\n",
    "It is an ordered and mutable Python container. Its itmes are orderd, changeable, and allow duplicate values and different type of objects. Finally, every item has index because lists have a defined order."
   ]
  },
  {
   "cell_type": "markdown",
   "metadata": {},
   "source": [
    "| Method \t| Definition \t|\n",
    "|---\t|---\t|\n",
    "| sort() \t| Sorts the list in ascending order. \t|\n",
    "| append() \t| Adds a single element to a list. <br> This element will be located at the end of the list. \t|\n",
    "| extend() \t| Adds multiple elements to a list. \t|\n",
    "| index() \t| Returns the first appearance of the specified value. \t|\n"
   ]
  },
  {
   "cell_type": "code",
   "execution_count": 43,
   "metadata": {},
   "outputs": [],
   "source": [
    "sort(stud_list)"
   ]
  },
  {
   "cell_type": "code",
   "execution_count": 44,
   "metadata": {},
   "outputs": [],
   "source": [
    "stud_list."
   ]
  },
  {
   "cell_type": "code",
   "execution_count": 58,
   "metadata": {},
   "outputs": [
    {
     "name": "stdout",
     "output_type": "stream",
     "text": [
      "['manuel', 'julian', 'jenny', 'roy']\n"
     ]
    }
   ],
   "source": [
    "stud_list_str = [\"manuel\", \"julian\", \"jenny\", \"roy\"]\n",
    "print(stud_list_str)"
   ]
  },
  {
   "cell_type": "code",
   "execution_count": 59,
   "metadata": {},
   "outputs": [
    {
     "name": "stdout",
     "output_type": "stream",
     "text": [
      "['jenny', 'julian', 'manuel', 'roy']\n"
     ]
    }
   ],
   "source": [
    "stud_list_str.sort()\n",
    "print(stud_list_str)"
   ]
  },
  {
   "cell_type": "code",
   "execution_count": 64,
   "metadata": {},
   "outputs": [
    {
     "name": "stdout",
     "output_type": "stream",
     "text": [
      "[30, 45, 28, 32]\n",
      "[28, 30, 32, 45]\n"
     ]
    }
   ],
   "source": [
    "stud_list_age = [30, 45, 28, 32]\n",
    "print(stud_list_age)\n",
    "stud_list_age.sort()\n",
    "print(stud_list_age)"
   ]
  },
  {
   "cell_type": "code",
   "execution_count": 40,
   "metadata": {},
   "outputs": [
    {
     "data": {
      "text/plain": [
       "'Soto'"
      ]
     },
     "execution_count": 40,
     "metadata": {},
     "output_type": "execute_result"
    }
   ],
   "source": [
    "person_1 = [\"manuel\", 30, True, 5.4, \"Soto\"]\n",
    "person_1[-1]"
   ]
  },
  {
   "cell_type": "code",
   "execution_count": 121,
   "metadata": {},
   "outputs": [
    {
     "data": {
      "text/plain": [
       "[18, 1.36, 'alex', False]"
      ]
     },
     "execution_count": 121,
     "metadata": {},
     "output_type": "execute_result"
    }
   ],
   "source": [
    "a_0 = [18, 1.36, \"alex\", False]\n",
    "a_0 "
   ]
  },
  {
   "cell_type": "code",
   "execution_count": 122,
   "metadata": {},
   "outputs": [
    {
     "name": "stdout",
     "output_type": "stream",
     "text": [
      "<class 'list'>\n"
     ]
    }
   ],
   "source": [
    "# We use brackets to create a list\n",
    "a = [ 18, 20 , 30, \"alex\" ]\n",
    "\n",
    "print( type( a ) )"
   ]
  },
  {
   "cell_type": "code",
   "execution_count": 126,
   "metadata": {},
   "outputs": [
    {
     "data": {
      "text/plain": [
       "'alex'"
      ]
     },
     "execution_count": 126,
     "metadata": {},
     "output_type": "execute_result"
    }
   ],
   "source": [
    "a[-1]"
   ]
  },
  {
   "cell_type": "code",
   "execution_count": 123,
   "metadata": {},
   "outputs": [
    {
     "name": "stdout",
     "output_type": "stream",
     "text": [
      "alex\n"
     ]
    }
   ],
   "source": [
    "print(  a[-1] )"
   ]
  },
  {
   "cell_type": "code",
   "execution_count": 127,
   "metadata": {},
   "outputs": [
    {
     "ename": "AttributeError",
     "evalue": "'int' object has no attribute 'copy'",
     "output_type": "error",
     "traceback": [
      "\u001b[1;31m---------------------------------------------------------------------------\u001b[0m",
      "\u001b[1;31mAttributeError\u001b[0m                            Traceback (most recent call last)",
      "\u001b[1;32mC:\\Users\\ALEXAN~1\\AppData\\Local\\Temp/ipykernel_2148/2297836262.py\u001b[0m in \u001b[0;36m<module>\u001b[1;34m\u001b[0m\n\u001b[0;32m      1\u001b[0m \u001b[0mb_sort\u001b[0m \u001b[1;33m=\u001b[0m \u001b[0mb\u001b[0m\u001b[1;33m\u001b[0m\u001b[1;33m\u001b[0m\u001b[0m\n\u001b[1;32m----> 2\u001b[1;33m \u001b[0mb_sort2\u001b[0m \u001b[1;33m=\u001b[0m \u001b[0mb\u001b[0m\u001b[1;33m.\u001b[0m\u001b[0mcopy\u001b[0m\u001b[1;33m(\u001b[0m\u001b[1;33m)\u001b[0m\u001b[1;33m\u001b[0m\u001b[1;33m\u001b[0m\u001b[0m\n\u001b[0m",
      "\u001b[1;31mAttributeError\u001b[0m: 'int' object has no attribute 'copy'"
     ]
    }
   ],
   "source": [
    "# b_sort = b\n",
    "# b_sort2 = b.copy()"
   ]
  },
  {
   "cell_type": "code",
   "execution_count": null,
   "metadata": {},
   "outputs": [],
   "source": [
    "# id(b_sort)"
   ]
  },
  {
   "cell_type": "code",
   "execution_count": null,
   "metadata": {},
   "outputs": [],
   "source": [
    "# id(b_sort2)"
   ]
  },
  {
   "cell_type": "code",
   "execution_count": 129,
   "metadata": {
    "scrolled": true
   },
   "outputs": [
    {
     "data": {
      "text/plain": [
       "[3, 13, 2, 56, 76, 16]"
      ]
     },
     "execution_count": 129,
     "metadata": {},
     "output_type": "execute_result"
    }
   ],
   "source": [
    "b = [ 3, 13, 2, 56, 76, 16]\n",
    "b"
   ]
  },
  {
   "cell_type": "code",
   "execution_count": 130,
   "metadata": {},
   "outputs": [
    {
     "data": {
      "text/plain": [
       "[3, 13, 2, 56, 76, 16]"
      ]
     },
     "execution_count": 130,
     "metadata": {},
     "output_type": "execute_result"
    }
   ],
   "source": [
    "b_sort = b.copy()\n",
    "b_sort"
   ]
  },
  {
   "cell_type": "code",
   "execution_count": 131,
   "metadata": {},
   "outputs": [],
   "source": [
    "# b = [ 3, 13, 2, 56, 76, 16]\n",
    "# b_sort = b.copy()\n",
    "# b"
   ]
  },
  {
   "cell_type": "code",
   "execution_count": 134,
   "metadata": {},
   "outputs": [
    {
     "data": {
      "text/plain": [
       "[2, 3, 13, 16, 56, 76]"
      ]
     },
     "execution_count": 134,
     "metadata": {},
     "output_type": "execute_result"
    }
   ],
   "source": [
    "b_sort.sort()\n",
    "b_sort"
   ]
  },
  {
   "cell_type": "code",
   "execution_count": 140,
   "metadata": {},
   "outputs": [
    {
     "data": {
      "text/plain": [
       "[15, 20, 16, 5, 8]"
      ]
     },
     "execution_count": 140,
     "metadata": {},
     "output_type": "execute_result"
    }
   ],
   "source": [
    "grades= [15, 20, 16, 5, 8 ]\n",
    "grades"
   ]
  },
  {
   "cell_type": "code",
   "execution_count": 143,
   "metadata": {},
   "outputs": [
    {
     "data": {
      "text/plain": [
       "[5, 8, 15, 16, 20]"
      ]
     },
     "execution_count": 143,
     "metadata": {},
     "output_type": "execute_result"
    }
   ],
   "source": [
    "grades.sort()\n",
    "grades"
   ]
  },
  {
   "cell_type": "code",
   "execution_count": null,
   "metadata": {},
   "outputs": [],
   "source": [
    "print(b)"
   ]
  },
  {
   "cell_type": "code",
   "execution_count": null,
   "metadata": {},
   "outputs": [],
   "source": [
    "print(b_sort)"
   ]
  },
  {
   "cell_type": "code",
   "execution_count": null,
   "metadata": {},
   "outputs": [],
   "source": [
    "b_sort = b\n",
    "b_sort"
   ]
  },
  {
   "cell_type": "code",
   "execution_count": 65,
   "metadata": {},
   "outputs": [
    {
     "data": {
      "text/plain": [
       "[3, 13, 2, 56, 76, 16]"
      ]
     },
     "execution_count": 65,
     "metadata": {},
     "output_type": "execute_result"
    }
   ],
   "source": [
    "b = [ 3, 13, 2, 56, 76, 16]\n",
    "b"
   ]
  },
  {
   "cell_type": "code",
   "execution_count": 81,
   "metadata": {},
   "outputs": [
    {
     "data": {
      "text/plain": [
       "[3, 13, 2, 56, 76, 16, 80]"
      ]
     },
     "execution_count": 81,
     "metadata": {},
     "output_type": "execute_result"
    }
   ],
   "source": [
    "b = [ 3, 13, 2, 56, 76, 16]\n",
    "b.append( 80 )\n",
    "b"
   ]
  },
  {
   "cell_type": "code",
   "execution_count": 78,
   "metadata": {},
   "outputs": [
    {
     "data": {
      "text/plain": [
       "[19, 25, 76]"
      ]
     },
     "execution_count": 78,
     "metadata": {},
     "output_type": "execute_result"
    }
   ],
   "source": [
    "a = [ 19, 25, 76 ]\n",
    "a"
   ]
  },
  {
   "cell_type": "code",
   "execution_count": 79,
   "metadata": {},
   "outputs": [],
   "source": [
    "a.extend(b)"
   ]
  },
  {
   "cell_type": "code",
   "execution_count": 80,
   "metadata": {},
   "outputs": [
    {
     "data": {
      "text/plain": [
       "[19, 25, 76, 3, 13, 2, 56, 76, 16, 'Armando']"
      ]
     },
     "execution_count": 80,
     "metadata": {},
     "output_type": "execute_result"
    }
   ],
   "source": [
    "a"
   ]
  },
  {
   "cell_type": "code",
   "execution_count": 148,
   "metadata": {},
   "outputs": [],
   "source": [
    "a.extend( b )"
   ]
  },
  {
   "cell_type": "code",
   "execution_count": 149,
   "metadata": {},
   "outputs": [
    {
     "data": {
      "text/plain": [
       "[19, 25, 76, 3, 13, 2, 56, 76, 16, 87]"
      ]
     },
     "execution_count": 149,
     "metadata": {},
     "output_type": "execute_result"
    }
   ],
   "source": [
    "a"
   ]
  },
  {
   "cell_type": "code",
   "execution_count": 154,
   "metadata": {},
   "outputs": [
    {
     "name": "stdout",
     "output_type": "stream",
     "text": [
      "2\n"
     ]
    }
   ],
   "source": [
    "print(a.index(76))"
   ]
  },
  {
   "cell_type": "code",
   "execution_count": 150,
   "metadata": {},
   "outputs": [],
   "source": [
    "b = [ 3, 13, 2, 56, 76, 16]\n",
    "a = [ 19, 25, 76 ] "
   ]
  },
  {
   "cell_type": "code",
   "execution_count": 151,
   "metadata": {},
   "outputs": [
    {
     "data": {
      "text/plain": [
       "[3, 13, 2, 56, 76, 16, 19, 25, 76]"
      ]
     },
     "execution_count": 151,
     "metadata": {},
     "output_type": "execute_result"
    }
   ],
   "source": [
    "b.extend( a )\n",
    "b"
   ]
  },
  {
   "cell_type": "code",
   "execution_count": 153,
   "metadata": {},
   "outputs": [
    {
     "name": "stdout",
     "output_type": "stream",
     "text": [
      "4\n"
     ]
    }
   ],
   "source": [
    "# Python uses 0-based indexing\n",
    "print( b.index( 76 ) )"
   ]
  },
  {
   "cell_type": "markdown",
   "metadata": {},
   "source": [
    "| Function \t| Definition \t|\n",
    "| --- \t| --- \t|\n",
    "| type(list) \t| It returns the class type of an object. \t|\n",
    "| max(list) \t| It returns an item from the list with max value. \t|\n",
    "| min(list) \t| It returns an item from the list with min value. \t|\n",
    "| len(list) \t| It gives the total length of the list. \t|\n",
    "| list(seq) \t| Converts a tuple into a list. \t|"
   ]
  },
  {
   "cell_type": "code",
   "execution_count": 92,
   "metadata": {},
   "outputs": [
    {
     "data": {
      "text/plain": [
       "[3, 13, 2, 56, 76, 16, 80]"
      ]
     },
     "execution_count": 92,
     "metadata": {},
     "output_type": "execute_result"
    }
   ],
   "source": [
    "b"
   ]
  },
  {
   "cell_type": "code",
   "execution_count": 90,
   "metadata": {},
   "outputs": [
    {
     "name": "stdout",
     "output_type": "stream",
     "text": [
      "80\n",
      "2\n",
      "7\n"
     ]
    }
   ],
   "source": [
    "print(max(b))\n",
    "print(min(b))\n",
    "print(len(b))"
   ]
  },
  {
   "cell_type": "code",
   "execution_count": 86,
   "metadata": {},
   "outputs": [
    {
     "name": "stdout",
     "output_type": "stream",
     "text": [
      "80\n",
      "2\n",
      "7\n"
     ]
    }
   ],
   "source": [
    "print( max(b) )\n",
    "print( min(b) )\n",
    "print( len(b) )"
   ]
  },
  {
   "cell_type": "code",
   "execution_count": 155,
   "metadata": {},
   "outputs": [
    {
     "name": "stdout",
     "output_type": "stream",
     "text": [
      "[3, 13, 2, 56, 76, 16, 19, 25, 76]\n",
      "<class 'list'>\n"
     ]
    }
   ],
   "source": [
    "# type of object\n",
    "print( b )\n",
    "print( type( b ) )"
   ]
  },
  {
   "cell_type": "code",
   "execution_count": 158,
   "metadata": {},
   "outputs": [
    {
     "name": "stdout",
     "output_type": "stream",
     "text": [
      "[3, 13, 2, 56, 76, 16, 19, 25, 76]\n",
      "76\n"
     ]
    }
   ],
   "source": [
    "# max\n",
    "print( b )\n",
    "print( max( b ) )"
   ]
  },
  {
   "cell_type": "code",
   "execution_count": 159,
   "metadata": {},
   "outputs": [
    {
     "name": "stdout",
     "output_type": "stream",
     "text": [
      "[3, 13, 2, 56, 76, 16, 19, 25, 76]\n",
      "2\n"
     ]
    }
   ],
   "source": [
    "# min\n",
    "print( b )\n",
    "print( min( b ) )"
   ]
  },
  {
   "cell_type": "code",
   "execution_count": 160,
   "metadata": {},
   "outputs": [
    {
     "name": "stdout",
     "output_type": "stream",
     "text": [
      "[3, 13, 2, 56, 76, 16, 19, 25, 76]\n",
      "9\n"
     ]
    }
   ],
   "source": [
    "# length of a list\n",
    "print( b )\n",
    "print( len( b ) )"
   ]
  },
  {
   "cell_type": "code",
   "execution_count": null,
   "metadata": {},
   "outputs": [],
   "source": [
    "# # length of a list\n",
    "# a = ( 4 , 6 )\n",
    "# print( a )\n",
    "# print( type( a ) )"
   ]
  },
  {
   "cell_type": "code",
   "execution_count": null,
   "metadata": {},
   "outputs": [],
   "source": [
    "# c = list( a )\n",
    "# print( c )\n",
    "# print( type( c ) )"
   ]
  },
  {
   "cell_type": "code",
   "execution_count": null,
   "metadata": {},
   "outputs": [],
   "source": [
    "# id(c)"
   ]
  },
  {
   "cell_type": "code",
   "execution_count": null,
   "metadata": {},
   "outputs": [],
   "source": [
    "# id(a)"
   ]
  },
  {
   "cell_type": "markdown",
   "metadata": {},
   "source": [
    "## [Dictionaries](https://realpython.com/python-dicts/)\n",
    "\n",
    "It is a ordered (Python >= 3.7) and mutable Python container. It does not allow duplicate key. They must be unique."
   ]
  },
  {
   "cell_type": "markdown",
   "metadata": {},
   "source": [
    "| Method \t| Definition \t|\n",
    "| --- \t| --- \t|\n",
    "|clear()|\tRemoves all the elements from the dictionary|\n",
    "|copy() |\tReturns a copy of the dictionary|\n",
    "|fromkeys() |\tReturns a dictionary with the specified keys and value|\n",
    "|get() |\tReturns the value of the specified key|\n",
    "|items() |\tReturns a list containing a tuple for each key value pair|\n",
    "|keys() | Returns a list containing the dictionary's keys|\n",
    "|pop() | Removes the element with the specified key|\n",
    "|popitem() | Removes the last inserted key-value pair|\n",
    "|setdefault() | Returns the value of the specified key. <br> If the key does not exist: insert the key, with the specified value|\n",
    "|update() |\tUpdates the dictionary with the specified key-value pairs |\n",
    "|values() | Returns a list of all the values in the dictionary|"
   ]
  },
  {
   "cell_type": "code",
   "execution_count": 105,
   "metadata": {},
   "outputs": [],
   "source": [
    "# samuel = { \"Samuel\", \"Rivero\", 25 }\n",
    "# samuel.keys()"
   ]
  },
  {
   "cell_type": "code",
   "execution_count": 104,
   "metadata": {},
   "outputs": [
    {
     "data": {
      "text/plain": [
       "{'name': 'Samuel',\n",
       " 'lastname': 'Rivero',\n",
       " 'age': 25,\n",
       " 'birth_place': 'chimbote',\n",
       " 'male': True}"
      ]
     },
     "execution_count": 104,
     "metadata": {},
     "output_type": "execute_result"
    }
   ],
   "source": [
    "samuel = { \"name\":\"Samuel\", \"lastname\": \"Rivero\", \"age\":25, \"birth_place\":\"chimbote\", \"male\":True }\n",
    "samuel"
   ]
  },
  {
   "cell_type": "code",
   "execution_count": 108,
   "metadata": {},
   "outputs": [
    {
     "data": {
      "text/plain": [
       "dict_keys(['name', 'lastname', 'age', 'birth_place', 'male'])"
      ]
     },
     "execution_count": 108,
     "metadata": {},
     "output_type": "execute_result"
    }
   ],
   "source": [
    "samuel.keys()"
   ]
  },
  {
   "cell_type": "code",
   "execution_count": 112,
   "metadata": {},
   "outputs": [
    {
     "data": {
      "text/plain": [
       "'chimbote'"
      ]
     },
     "execution_count": 112,
     "metadata": {},
     "output_type": "execute_result"
    }
   ],
   "source": [
    "samuel[\"birth_place\"]"
   ]
  },
  {
   "cell_type": "code",
   "execution_count": 11,
   "metadata": {},
   "outputs": [
    {
     "data": {
      "text/plain": [
       "{'lastname': 'Quispe', 'age': 28, 'birth_place': 'SJL', 'male': True}"
      ]
     },
     "execution_count": 11,
     "metadata": {},
     "output_type": "execute_result"
    }
   ],
   "source": [
    "alexander = { 'lastname': \"Quispe,\", 'age': 28, 'birth_place': \"SJL\", 'male' : True}\n",
    "maria = { 'lastname': \"rojas\", 'age': 27, 'birth_place': \"SMP\", 'male' : False}\n",
    "\n",
    "alexander"
   ]
  },
  {
   "cell_type": "code",
   "execution_count": 30,
   "metadata": {},
   "outputs": [],
   "source": [
    "lastanme = [\"Quispe\", \"Rojas\", \"Rodriguez\"]\n",
    "ages = [28, 29, 30]"
   ]
  },
  {
   "cell_type": "code",
   "execution_count": 39,
   "metadata": {},
   "outputs": [
    {
     "data": {
      "text/plain": [
       "['Quispe', 'Rojas', 'Rodriguez']"
      ]
     },
     "execution_count": 39,
     "metadata": {},
     "output_type": "execute_result"
    }
   ],
   "source": [
    "list_1 = { \"lastname\" : [\"Quispe\", \"Rojas\", \"Rodriguez\"],\n",
    "          \"ages\":[28, 29, 30], \"birth_place\": \"SJL\", 'male' : True}\n",
    "list_1[\"lastname\"]"
   ]
  },
  {
   "cell_type": "code",
   "execution_count": 12,
   "metadata": {},
   "outputs": [
    {
     "data": {
      "text/plain": [
       "True"
      ]
     },
     "execution_count": 12,
     "metadata": {},
     "output_type": "execute_result"
    }
   ],
   "source": [
    "alexander[\"male\"]"
   ]
  },
  {
   "cell_type": "code",
   "execution_count": 124,
   "metadata": {},
   "outputs": [],
   "source": [
    "# dictionary containing the population of the 5 largest german cities\n",
    "population = {'Berlin': 3748148, 'Hamburg': 1822445, \n",
    "              'Munich': 1471508, 'Cologne': 1085664, \n",
    "              'Frankfurt': 753056 }"
   ]
  },
  {
   "cell_type": "code",
   "execution_count": 125,
   "metadata": {},
   "outputs": [
    {
     "name": "stdout",
     "output_type": "stream",
     "text": [
      "{'Berlin': 3748148, 'Hamburg': 1822445, 'Munich': 1471508, 'Cologne': 1085664, 'Frankfurt': 753056}\n"
     ]
    },
    {
     "data": {
      "text/plain": [
       "dict"
      ]
     },
     "execution_count": 125,
     "metadata": {},
     "output_type": "execute_result"
    }
   ],
   "source": [
    "# clear\n",
    "print( population )\n",
    "type( population )"
   ]
  },
  {
   "cell_type": "code",
   "execution_count": 126,
   "metadata": {},
   "outputs": [
    {
     "name": "stdout",
     "output_type": "stream",
     "text": [
      "this is pre clear :  {'Berlin': 3748148, 'Hamburg': 1822445, 'Munich': 1471508, 'Cologne': 1085664, 'Frankfurt': 753056}\n",
      "this is after clear :  {}\n"
     ]
    }
   ],
   "source": [
    "print(\"this is pre clear : \", population)\n",
    "population.clear()\n",
    "print(\"this is after clear : \", population)"
   ]
  },
  {
   "cell_type": "code",
   "execution_count": 118,
   "metadata": {},
   "outputs": [
    {
     "name": "stdout",
     "output_type": "stream",
     "text": [
      "{}\n"
     ]
    }
   ],
   "source": [
    "print(population)"
   ]
  },
  {
   "cell_type": "code",
   "execution_count": null,
   "metadata": {},
   "outputs": [],
   "source": [
    "population.clear()\n",
    "print( population )"
   ]
  },
  {
   "cell_type": "code",
   "execution_count": 137,
   "metadata": {},
   "outputs": [
    {
     "data": {
      "text/plain": [
       "{'Berlin': 3748148,\n",
       " 'Hamburg': 1822445,\n",
       " 'Munich': 1471508,\n",
       " 'Cologne': 1085664,\n",
       " 'Frankfurt': 753056}"
      ]
     },
     "execution_count": 137,
     "metadata": {},
     "output_type": "execute_result"
    }
   ],
   "source": [
    "population = {'Berlin': 3748148, 'Hamburg': 1822445, \n",
    "              'Munich': 1471508, 'Cologne': 1085664, \n",
    "              'Frankfurt': 753056}\n",
    "population"
   ]
  },
  {
   "cell_type": "code",
   "execution_count": 131,
   "metadata": {},
   "outputs": [
    {
     "data": {
      "text/plain": [
       "{'Berlin': 3748148,\n",
       " 'Hamburg': 1822445,\n",
       " 'Munich': 1471508,\n",
       " 'Cologne': 1085664,\n",
       " 'Frankfurt': 753056}"
      ]
     },
     "execution_count": 131,
     "metadata": {},
     "output_type": "execute_result"
    }
   ],
   "source": [
    "pop_2 = population.copy()\n",
    "pop_2"
   ]
  },
  {
   "cell_type": "code",
   "execution_count": 138,
   "metadata": {},
   "outputs": [],
   "source": [
    "# population.clear()\n",
    "# population"
   ]
  },
  {
   "cell_type": "code",
   "execution_count": 139,
   "metadata": {},
   "outputs": [
    {
     "data": {
      "text/plain": [
       "3748148"
      ]
     },
     "execution_count": 139,
     "metadata": {},
     "output_type": "execute_result"
    }
   ],
   "source": [
    "population[\"Berlin\"]"
   ]
  },
  {
   "cell_type": "code",
   "execution_count": 141,
   "metadata": {},
   "outputs": [
    {
     "data": {
      "text/plain": [
       "3748148"
      ]
     },
     "execution_count": 141,
     "metadata": {},
     "output_type": "execute_result"
    }
   ],
   "source": [
    "# Get information from key\n",
    "population.get('Berlin')"
   ]
  },
  {
   "cell_type": "code",
   "execution_count": 143,
   "metadata": {},
   "outputs": [
    {
     "data": {
      "text/plain": [
       "{'Berlin': 3748148,\n",
       " 'Hamburg': 1822445,\n",
       " 'Munich': 1471508,\n",
       " 'Cologne': 1085664,\n",
       " 'Frankfurt': 753056}"
      ]
     },
     "execution_count": 143,
     "metadata": {},
     "output_type": "execute_result"
    }
   ],
   "source": [
    "population"
   ]
  },
  {
   "cell_type": "code",
   "execution_count": 142,
   "metadata": {},
   "outputs": [
    {
     "data": {
      "text/plain": [
       "dict_items([('Berlin', 3748148), ('Hamburg', 1822445), ('Munich', 1471508), ('Cologne', 1085664), ('Frankfurt', 753056)])"
      ]
     },
     "execution_count": 142,
     "metadata": {},
     "output_type": "execute_result"
    }
   ],
   "source": [
    "# Get information from key\n",
    "population.items()"
   ]
  },
  {
   "cell_type": "code",
   "execution_count": 144,
   "metadata": {},
   "outputs": [
    {
     "data": {
      "text/plain": [
       "dict_keys(['Berlin', 'Hamburg', 'Munich', 'Cologne', 'Frankfurt'])"
      ]
     },
     "execution_count": 144,
     "metadata": {},
     "output_type": "execute_result"
    }
   ],
   "source": [
    "population.keys()"
   ]
  },
  {
   "cell_type": "code",
   "execution_count": 145,
   "metadata": {},
   "outputs": [
    {
     "data": {
      "text/plain": [
       "753056"
      ]
     },
     "execution_count": 145,
     "metadata": {},
     "output_type": "execute_result"
    }
   ],
   "source": [
    "population.pop(\"Frankfurt\")"
   ]
  },
  {
   "cell_type": "code",
   "execution_count": 147,
   "metadata": {},
   "outputs": [
    {
     "data": {
      "text/plain": [
       "1822445"
      ]
     },
     "execution_count": 147,
     "metadata": {},
     "output_type": "execute_result"
    }
   ],
   "source": [
    "population.pop(\"Hamburg\")"
   ]
  },
  {
   "cell_type": "code",
   "execution_count": 148,
   "metadata": {},
   "outputs": [
    {
     "data": {
      "text/plain": [
       "{'Berlin': 3748148, 'Munich': 1471508, 'Cologne': 1085664}"
      ]
     },
     "execution_count": 148,
     "metadata": {},
     "output_type": "execute_result"
    }
   ],
   "source": [
    "population"
   ]
  },
  {
   "cell_type": "code",
   "execution_count": 151,
   "metadata": {},
   "outputs": [
    {
     "name": "stdout",
     "output_type": "stream",
     "text": [
      "{'munich': 'Alianz Arena', 'dormundt': 'SIP', 'ulm': 'VFLULM', 'shalke': 'GAZPROM'}\n",
      "{'dormundt': 'SIP', 'ulm': 'VFLULM', 'shalke': 'GAZPROM'}\n"
     ]
    }
   ],
   "source": [
    "stadiums = { \"munich\":\"Alianz Arena\",\"dormundt\": \"SIP\", \"ulm\": \"VFLULM\", \"shalke\": \"GAZPROM\"}\n",
    "print(stadiums)\n",
    "stadiums.pop(\"munich\")\n",
    "print(stadiums)"
   ]
  },
  {
   "cell_type": "code",
   "execution_count": 67,
   "metadata": {},
   "outputs": [
    {
     "data": {
      "text/plain": [
       "dict"
      ]
     },
     "execution_count": 67,
     "metadata": {},
     "output_type": "execute_result"
    }
   ],
   "source": [
    "population.update( {\"stadiums\": stadiums} )\n",
    "type(population[\"stadiums\"])"
   ]
  },
  {
   "cell_type": "code",
   "execution_count": 68,
   "metadata": {},
   "outputs": [
    {
     "data": {
      "text/plain": [
       "{'Berlin': 3748148,\n",
       " 'Hamburg': 1822445,\n",
       " 'Munich': 1471508,\n",
       " 'Cologne': 1085664,\n",
       " 'stadiums': {'munich': 'Alianz Arena',\n",
       "  'dormundt': 'SIP',\n",
       "  'ulm': 'VFLULM',\n",
       "  'shalke': 'GAZPROM'}}"
      ]
     },
     "execution_count": 68,
     "metadata": {},
     "output_type": "execute_result"
    }
   ],
   "source": [
    "population"
   ]
  },
  {
   "cell_type": "code",
   "execution_count": null,
   "metadata": {},
   "outputs": [],
   "source": [
    "# Drop a key\n",
    "print( population )\n",
    "population.pop( 'Hamburg' )\n",
    "print( population )"
   ]
  },
  {
   "cell_type": "code",
   "execution_count": null,
   "metadata": {},
   "outputs": [],
   "source": [
    "population"
   ]
  },
  {
   "cell_type": "code",
   "execution_count": null,
   "metadata": {},
   "outputs": [],
   "source": [
    "# Drop an item\n",
    "population.popitem( )\n",
    "print( population )"
   ]
  },
  {
   "cell_type": "code",
   "execution_count": null,
   "metadata": {},
   "outputs": [],
   "source": [
    "population"
   ]
  },
  {
   "cell_type": "code",
   "execution_count": null,
   "metadata": {},
   "outputs": [],
   "source": []
  },
  {
   "cell_type": "code",
   "execution_count": 69,
   "metadata": {},
   "outputs": [
    {
     "data": {
      "text/plain": [
       "{'Berlin': 3748148,\n",
       " 'Hamburg': 1822445,\n",
       " 'Munich': 1471508,\n",
       " 'Cologne': 1085664,\n",
       " 'stadiums': {'munich': 'Alianz Arena',\n",
       "  'dormundt': 'SIP',\n",
       "  'ulm': 'VFLULM',\n",
       "  'shalke': 'GAZPROM'},\n",
       " 'Bonn': 327258,\n",
       " 'Ulm': 100000}"
      ]
     },
     "execution_count": 69,
     "metadata": {},
     "output_type": "execute_result"
    }
   ],
   "source": [
    "population.update( { \"Bonn\" :  327258 } )\n",
    "population.update( { \"Ulm\" : 100000  } )\n",
    "population"
   ]
  },
  {
   "cell_type": "code",
   "execution_count": 70,
   "metadata": {},
   "outputs": [
    {
     "name": "stdout",
     "output_type": "stream",
     "text": [
      "{'Berlin': 3748148, 'Hamburg': 1822445, 'Munich': 1471508, 'Cologne': 1085664, 'stadiums': {'munich': 'Alianz Arena', 'dormundt': 'SIP', 'ulm': 'VFLULM', 'shalke': 'GAZPROM'}, 'Bonn': 327258, 'Ulm': 100000}\n",
      "{'Berlin': 3748148, 'Hamburg': 1822445, 'Munich': 1471508, 'Cologne': 1085664, 'stadiums': {'munich': 'Alianz Arena', 'dormundt': 'SIP', 'ulm': 'VFLULM', 'shalke': 'GAZPROM'}, 'Bonn': {'population': 100, 'km2': 500, 'president': 'Anzony'}, 'Ulm': 100000}\n"
     ]
    }
   ],
   "source": [
    "# Add new items\n",
    "print( population )\n",
    "population.update( { \"Bonn\" :  {\"population\":100 , \"km2\" : 500, \"president\" : \"Anzony\"} } )\n",
    "print( population )"
   ]
  },
  {
   "cell_type": "code",
   "execution_count": 71,
   "metadata": {},
   "outputs": [
    {
     "data": {
      "text/plain": [
       "dict_keys(['Berlin', 'Hamburg', 'Munich', 'Cologne', 'stadiums', 'Bonn', 'Ulm'])"
      ]
     },
     "execution_count": 71,
     "metadata": {},
     "output_type": "execute_result"
    }
   ],
   "source": [
    "population.keys()"
   ]
  },
  {
   "cell_type": "code",
   "execution_count": 74,
   "metadata": {},
   "outputs": [
    {
     "data": {
      "text/plain": [
       "dict_values([3748148, 1822445, 1471508, 1085664, {'munich': 'Alianz Arena', 'dormundt': 'SIP', 'ulm': 'VFLULM', 'shalke': 'GAZPROM'}, {'population': 100, 'km2': 500, 'president': 'Anzony'}, 100000])"
      ]
     },
     "execution_count": 74,
     "metadata": {},
     "output_type": "execute_result"
    }
   ],
   "source": [
    "# Get all values from all keys\n",
    "population.values()"
   ]
  },
  {
   "cell_type": "code",
   "execution_count": 78,
   "metadata": {},
   "outputs": [
    {
     "data": {
      "text/plain": [
       "'GAZPROM'"
      ]
     },
     "execution_count": 78,
     "metadata": {},
     "output_type": "execute_result"
    }
   ],
   "source": [
    "population[\"stadiums\"].get(\"shalke\")"
   ]
  },
  {
   "cell_type": "markdown",
   "metadata": {},
   "source": [
    "#### From lists to dictionaries"
   ]
  },
  {
   "cell_type": "code",
   "execution_count": 152,
   "metadata": {},
   "outputs": [],
   "source": [
    "# postal_code"
   ]
  },
  {
   "cell_type": "code",
   "execution_count": 153,
   "metadata": {},
   "outputs": [],
   "source": [
    "# list_2 = list(set(postal_code))"
   ]
  },
  {
   "cell_type": "code",
   "execution_count": 158,
   "metadata": {},
   "outputs": [
    {
     "data": {
      "text/plain": [
       "15003"
      ]
     },
     "execution_count": 158,
     "metadata": {},
     "output_type": "execute_result"
    }
   ],
   "source": [
    "cities_postal = {\"Fray Martin\":15001, 'Santa Rosa de Puquio':15003}\n",
    "cities_postal[\"Santa Rosa de Puquio\"]"
   ]
  },
  {
   "cell_type": "code",
   "execution_count": 160,
   "metadata": {},
   "outputs": [],
   "source": [
    "# keys\n",
    "cities = ['Fray Martin','Santa Rosa de Puquio','Cuchicorral','Santiago de Punchauca',\n",
    "          'La Cruz (11 Amigos)','Cerro Cañon','Cabaña Suche','San Lorenzo',\n",
    "          'Jose Carlos Mariategui','Pascal','La Esperanza','Fundo Pancha Paula','Olfa',\n",
    "          'Rio Seco','Paraiso','El Rosario','Cerro Puquio','La Campana','Las Animas',\n",
    "          'Vetancio','Roma Alta','San Jose','San Pedro de Carabayllo','Huacoy',\n",
    "          'Fundo Pampa Libre','Ex Fundo Santa Ines','Reposo','Carmelito','Santa Elena',\n",
    "          'Don Luis','Santa Ines Parcela','Asociacion Santa Ines','Roma Baja',\n",
    "          'Residencial Santa Lucia','San Francisco','Santa Margarita - Molinos',\n",
    "          'Sipan Peru','Fundo Cuadros','Bello Horizonte','El Hueco','Ex Fundo Mariategui',\n",
    "          'Naranjito','Vista Hermosa','El Sabroso de Jose Carlos Mariategui','Granja Carabayllo',\n",
    "          'Agropecuario Valle el Chillon','Camino Real','Copacabana','El Trebol','Tablada la Virgen',\n",
    "          'San Fernando de Carabayllo','San Fernando de Copacabana','La Manzana','Chacra Grande',\n",
    "          'Torres de Copacabana','San Pedro de Carabayllo','San Lorenzo','Chaclacayo','Chorrillos',\n",
    "          'Cieneguilla','Lindero','Pichicato','San Isidro','San Vicente','Piedra Liza',\n",
    "          'Santa Rosa de Chontay (Chontay)','La Libertad','El Agustino','Independencia',\n",
    "          'Jesus Maria','La Molina','La Victoria','Lince','Las Palmeras','Chosica','Lurin',\n",
    "          'Los Almacigos','Rinconada del Puruhuay','Fundo Santa Genoveva','Los Maderos','Casco Viejo',\n",
    "          'Vista Alegre','Buena Vista Alta','Lomas Pucara','Fundo la Querencia','Magdalena del Mar','Pueblo Libre','Miraflores','Pachacamac','Puente Manchay','Tambo Inga','Pampa Flores','Manchay Alto Lote B','Invasion Cementerio','Manchay Bajo','Santa Rosa de Mal Paso','Cardal','Jatosisa','Tomina','Pucusana','Honda','Quipa','Los Pelicanos','Playa Puerto Bello','Ñaves','Granja Santa Elena','Alvatroz II','Poseidon - Lobo Varado','Playa Minka Mar','Playa Acantilado','Puente Piedra','Punta Hermosa','Capilla Lucumo','Cucuya','Pampapacta','Avicola San Cirilo de Loma Negra - 03','Avicola San Cirilo de Loma Negra - 02','Avicola San Cirilo de Loma Negra - 01','Pampa Mamay','Cerro Botija','Agricultores y Ganaderos','Pampa Malanche Avicola Puma','Punta Negra','Chancheria','Rimac','San Bartolo','Plantel 41','Granja 4','Granja 5','Granja 07','Granja 44','Granja 47','Santa Maria I','Las Torres Santa Fe','San Francisco de Borja','San Isidro','San Juan de Lurigancho','Ciudad de Dios','San Luis','Barrio Obrero Industrial','San Miguel','Santa Anita - los Ficus','Santa Maria del Mar','Don Bruno','Santa Rosa','Santiago de Surco','Surquillo','Villa el Salvador','Villa Maria del Triunfo', 'Pueblo libre']\n",
    "# values\n",
    "postal_code = [15001,15003,15004,15006,15018,15019,15046,15072,15079,15081,15082,15083,15088,15123,15004,15011,15012,15019,15022,15023,15026,15476,15479,15483,15487,15491,15494,15498,15047,15049,15063,15082,15083,15121,15122,15313,15316,15318,15319,15320,15321,15324,15320,15320,15320,15320,15320,15320,15121,15320,15320,15121,15320,15320,15121,15121,15122,15122,15121,15121,15121,15320,15320,15320,15320,15320,15320,15121,15121,15121,15320,15121,15319,15121,15121,15121,15320,15320,15121,15121,15121,15121,15320,15320,15320,15122,15122,15122,15122,15122,15122,15122,15122,15121,15121,15122,15122,15121,15121,15122,15122,15121,15122,15122,15122,15472,15476,15054,15056,15057,15058,15063,15064,15066,15067,15593,15594,15593,15593,15593,15593,15593,15593,15593,15311,15312,15313,15314,15316,15324,15326,15327,15328,15332,15003,15004,15006,15007,15008,15009,15011,15018,15022,15311,15328,15331,15332,15333,15046, 15001]"
   ]
  },
  {
   "cell_type": "code",
   "execution_count": 187,
   "metadata": {},
   "outputs": [
    {
     "data": {
      "text/plain": [
       "150"
      ]
     },
     "execution_count": 187,
     "metadata": {},
     "output_type": "execute_result"
    }
   ],
   "source": [
    "len(cities)"
   ]
  },
  {
   "cell_type": "code",
   "execution_count": 162,
   "metadata": {},
   "outputs": [
    {
     "data": {
      "text/plain": [
       "150"
      ]
     },
     "execution_count": 162,
     "metadata": {},
     "output_type": "execute_result"
    }
   ],
   "source": [
    "len(postal_code)"
   ]
  },
  {
   "cell_type": "code",
   "execution_count": 180,
   "metadata": {},
   "outputs": [],
   "source": [
    "# list()"
   ]
  },
  {
   "cell_type": "code",
   "execution_count": 198,
   "metadata": {},
   "outputs": [
    {
     "ename": "TypeError",
     "evalue": "'tuple' object does not support item assignment",
     "output_type": "error",
     "traceback": [
      "\u001b[1;31m---------------------------------------------------------------------------\u001b[0m",
      "\u001b[1;31mTypeError\u001b[0m                                 Traceback (most recent call last)",
      "\u001b[1;32mC:\\Users\\ALEXAN~1\\AppData\\Local\\Temp/ipykernel_15348/805750339.py\u001b[0m in \u001b[0;36m<module>\u001b[1;34m\u001b[0m\n\u001b[0;32m      1\u001b[0m \u001b[0mlist_cities\u001b[0m \u001b[1;33m=\u001b[0m  \u001b[0mlist\u001b[0m\u001b[1;33m(\u001b[0m\u001b[0mzip\u001b[0m\u001b[1;33m(\u001b[0m\u001b[0mcities\u001b[0m\u001b[1;33m,\u001b[0m \u001b[0mpostal_code\u001b[0m\u001b[1;33m)\u001b[0m\u001b[1;33m)\u001b[0m\u001b[1;33m\u001b[0m\u001b[1;33m\u001b[0m\u001b[0m\n\u001b[0;32m      2\u001b[0m \u001b[0mfr_mar\u001b[0m \u001b[1;33m=\u001b[0m  \u001b[0mlist_cities\u001b[0m\u001b[1;33m[\u001b[0m\u001b[1;36m0\u001b[0m\u001b[1;33m]\u001b[0m\u001b[1;33m\u001b[0m\u001b[1;33m\u001b[0m\u001b[0m\n\u001b[1;32m----> 3\u001b[1;33m \u001b[0mfr_mar\u001b[0m\u001b[1;33m[\u001b[0m\u001b[1;36m0\u001b[0m\u001b[1;33m]\u001b[0m \u001b[1;33m=\u001b[0m \u001b[1;34m\"Callao\"\u001b[0m\u001b[1;33m\u001b[0m\u001b[1;33m\u001b[0m\u001b[0m\n\u001b[0m",
      "\u001b[1;31mTypeError\u001b[0m: 'tuple' object does not support item assignment"
     ]
    }
   ],
   "source": [
    "list_cities =  list(zip(cities, postal_code))\n",
    "fr_mar =  list_cities[0]\n",
    "fr_mar[0] = \"Callao\""
   ]
  },
  {
   "cell_type": "code",
   "execution_count": 194,
   "metadata": {},
   "outputs": [
    {
     "data": {
      "text/plain": [
       "['Mauricio',\n",
       " ('Santa Rosa de Puquio', 15003),\n",
       " ('Cuchicorral', 15004),\n",
       " ('Santiago de Punchauca', 15006),\n",
       " ('La Cruz (11 Amigos)', 15018),\n",
       " ('Cerro Cañon', 15019),\n",
       " ('Cabaña Suche', 15046),\n",
       " ('San Lorenzo', 15072),\n",
       " ('Jose Carlos Mariategui', 15079),\n",
       " ('Pascal', 15081),\n",
       " ('La Esperanza', 15082),\n",
       " ('Fundo Pancha Paula', 15083),\n",
       " ('Olfa', 15088),\n",
       " ('Rio Seco', 15123),\n",
       " ('Paraiso', 15004),\n",
       " ('El Rosario', 15011),\n",
       " ('Cerro Puquio', 15012),\n",
       " ('La Campana', 15019),\n",
       " ('Las Animas', 15022),\n",
       " ('Vetancio', 15023),\n",
       " ('Roma Alta', 15026),\n",
       " ('San Jose', 15476),\n",
       " ('San Pedro de Carabayllo', 15479),\n",
       " ('Huacoy', 15483),\n",
       " ('Fundo Pampa Libre', 15487),\n",
       " ('Ex Fundo Santa Ines', 15491),\n",
       " ('Reposo', 15494),\n",
       " ('Carmelito', 15498),\n",
       " ('Santa Elena', 15047),\n",
       " ('Don Luis', 15049),\n",
       " ('Santa Ines Parcela', 15063),\n",
       " ('Asociacion Santa Ines', 15082),\n",
       " ('Roma Baja', 15083),\n",
       " ('Residencial Santa Lucia', 15121),\n",
       " ('San Francisco', 15122),\n",
       " ('Santa Margarita - Molinos', 15313),\n",
       " ('Sipan Peru', 15316),\n",
       " ('Fundo Cuadros', 15318),\n",
       " ('Bello Horizonte', 15319),\n",
       " ('El Hueco', 15320),\n",
       " ('Ex Fundo Mariategui', 15321),\n",
       " ('Naranjito', 15324),\n",
       " ('Vista Hermosa', 15320),\n",
       " ('El Sabroso de Jose Carlos Mariategui', 15320),\n",
       " ('Granja Carabayllo', 15320),\n",
       " ('Agropecuario Valle el Chillon', 15320),\n",
       " ('Camino Real', 15320),\n",
       " ('Copacabana', 15320),\n",
       " ('El Trebol', 15121),\n",
       " ('Tablada la Virgen', 15320),\n",
       " ('San Fernando de Carabayllo', 15320),\n",
       " ('San Fernando de Copacabana', 15121),\n",
       " ('La Manzana', 15320),\n",
       " ('Chacra Grande', 15320),\n",
       " ('Torres de Copacabana', 15121),\n",
       " ('San Pedro de Carabayllo', 15121),\n",
       " ('San Lorenzo', 15122),\n",
       " ('Chaclacayo', 15122),\n",
       " ('Chorrillos', 15121),\n",
       " ('Cieneguilla', 15121),\n",
       " ('Lindero', 15121),\n",
       " ('Pichicato', 15320),\n",
       " ('San Isidro', 15320),\n",
       " ('San Vicente', 15320),\n",
       " ('Piedra Liza', 15320),\n",
       " ('Santa Rosa de Chontay (Chontay)', 15320),\n",
       " ('La Libertad', 15320),\n",
       " ('El Agustino', 15121),\n",
       " ('Independencia', 15121),\n",
       " ('Jesus Maria', 15121),\n",
       " ('La Molina', 15320),\n",
       " ('La Victoria', 15121),\n",
       " ('Lince', 15319),\n",
       " ('Las Palmeras', 15121),\n",
       " ('Chosica', 15121),\n",
       " ('Lurin', 15121),\n",
       " ('Los Almacigos', 15320),\n",
       " ('Rinconada del Puruhuay', 15320),\n",
       " ('Fundo Santa Genoveva', 15121),\n",
       " ('Los Maderos', 15121),\n",
       " ('Casco Viejo', 15121),\n",
       " ('Vista Alegre', 15121),\n",
       " ('Buena Vista Alta', 15320),\n",
       " ('Lomas Pucara', 15320),\n",
       " ('Fundo la Querencia', 15320),\n",
       " ('Magdalena del Mar', 15122),\n",
       " ('Pueblo Libre', 15122),\n",
       " ('Miraflores', 15122),\n",
       " ('Pachacamac', 15122),\n",
       " ('Puente Manchay', 15122),\n",
       " ('Tambo Inga', 15122),\n",
       " ('Pampa Flores', 15122),\n",
       " ('Manchay Alto Lote B', 15122),\n",
       " ('Invasion Cementerio', 15121),\n",
       " ('Manchay Bajo', 15121),\n",
       " ('Santa Rosa de Mal Paso', 15122),\n",
       " ('Cardal', 15122),\n",
       " ('Jatosisa', 15121),\n",
       " ('Tomina', 15121),\n",
       " ('Pucusana', 15122),\n",
       " ('Honda', 15122),\n",
       " ('Quipa', 15121),\n",
       " ('Los Pelicanos', 15122),\n",
       " ('Playa Puerto Bello', 15122),\n",
       " ('Ñaves', 15122),\n",
       " ('Granja Santa Elena', 15472),\n",
       " ('Alvatroz II', 15476),\n",
       " ('Poseidon - Lobo Varado', 15054),\n",
       " ('Playa Minka Mar', 15056),\n",
       " ('Playa Acantilado', 15057),\n",
       " ('Puente Piedra', 15058),\n",
       " ('Punta Hermosa', 15063),\n",
       " ('Capilla Lucumo', 15064),\n",
       " ('Cucuya', 15066),\n",
       " ('Pampapacta', 15067),\n",
       " ('Avicola San Cirilo de Loma Negra - 03', 15593),\n",
       " ('Avicola San Cirilo de Loma Negra - 02', 15594),\n",
       " ('Avicola San Cirilo de Loma Negra - 01', 15593),\n",
       " ('Pampa Mamay', 15593),\n",
       " ('Cerro Botija', 15593),\n",
       " ('Agricultores y Ganaderos', 15593),\n",
       " ('Pampa Malanche Avicola Puma', 15593),\n",
       " ('Punta Negra', 15593),\n",
       " ('Chancheria', 15593),\n",
       " ('Rimac', 15311),\n",
       " ('San Bartolo', 15312),\n",
       " ('Plantel 41', 15313),\n",
       " ('Granja 4', 15314),\n",
       " ('Granja 5', 15316),\n",
       " ('Granja 07', 15324),\n",
       " ('Granja 44', 15326),\n",
       " ('Granja 47', 15327),\n",
       " ('Santa Maria I', 15328),\n",
       " ('Las Torres Santa Fe', 15332),\n",
       " ('San Francisco de Borja', 15003),\n",
       " ('San Isidro', 15004),\n",
       " ('San Juan de Lurigancho', 15006),\n",
       " ('Ciudad de Dios', 15007),\n",
       " ('San Luis', 15008),\n",
       " ('Barrio Obrero Industrial', 15009),\n",
       " ('San Miguel', 15011),\n",
       " ('Santa Anita - los Ficus', 15018),\n",
       " ('Santa Maria del Mar', 15022),\n",
       " ('Don Bruno', 15311),\n",
       " ('Santa Rosa', 15328),\n",
       " ('Santiago de Surco', 15331),\n",
       " ('Surquillo', 15332),\n",
       " ('Villa el Salvador', 15333),\n",
       " ('Villa Maria del Triunfo', 15046),\n",
       " ('Pueblo libre', 15001)]"
      ]
     },
     "execution_count": 194,
     "metadata": {},
     "output_type": "execute_result"
    }
   ],
   "source": [
    "list_cities[0] = \"Mauricio\"\n",
    "list_cities"
   ]
  },
  {
   "cell_type": "code",
   "execution_count": 182,
   "metadata": {},
   "outputs": [
    {
     "data": {
      "text/plain": [
       "[('Fray Martin', 15001),\n",
       " ('Santa Rosa de Puquio', 15003),\n",
       " ('Cuchicorral', 15004),\n",
       " ('Santiago de Punchauca', 15006),\n",
       " ('La Cruz (11 Amigos)', 15018),\n",
       " ('Cerro Cañon', 15019),\n",
       " ('Cabaña Suche', 15046),\n",
       " ('San Lorenzo', 15072),\n",
       " ('Jose Carlos Mariategui', 15079),\n",
       " ('Pascal', 15081),\n",
       " ('La Esperanza', 15082),\n",
       " ('Fundo Pancha Paula', 15083),\n",
       " ('Olfa', 15088),\n",
       " ('Rio Seco', 15123),\n",
       " ('Paraiso', 15004),\n",
       " ('El Rosario', 15011),\n",
       " ('Cerro Puquio', 15012),\n",
       " ('La Campana', 15019),\n",
       " ('Las Animas', 15022),\n",
       " ('Vetancio', 15023),\n",
       " ('Roma Alta', 15026),\n",
       " ('San Jose', 15476),\n",
       " ('San Pedro de Carabayllo', 15479),\n",
       " ('Huacoy', 15483),\n",
       " ('Fundo Pampa Libre', 15487),\n",
       " ('Ex Fundo Santa Ines', 15491),\n",
       " ('Reposo', 15494),\n",
       " ('Carmelito', 15498),\n",
       " ('Santa Elena', 15047),\n",
       " ('Don Luis', 15049),\n",
       " ('Santa Ines Parcela', 15063),\n",
       " ('Asociacion Santa Ines', 15082),\n",
       " ('Roma Baja', 15083),\n",
       " ('Residencial Santa Lucia', 15121),\n",
       " ('San Francisco', 15122),\n",
       " ('Santa Margarita - Molinos', 15313),\n",
       " ('Sipan Peru', 15316),\n",
       " ('Fundo Cuadros', 15318),\n",
       " ('Bello Horizonte', 15319),\n",
       " ('El Hueco', 15320),\n",
       " ('Ex Fundo Mariategui', 15321),\n",
       " ('Naranjito', 15324),\n",
       " ('Vista Hermosa', 15320),\n",
       " ('El Sabroso de Jose Carlos Mariategui', 15320),\n",
       " ('Granja Carabayllo', 15320),\n",
       " ('Agropecuario Valle el Chillon', 15320),\n",
       " ('Camino Real', 15320),\n",
       " ('Copacabana', 15320),\n",
       " ('El Trebol', 15121),\n",
       " ('Tablada la Virgen', 15320),\n",
       " ('San Fernando de Carabayllo', 15320),\n",
       " ('San Fernando de Copacabana', 15121),\n",
       " ('La Manzana', 15320),\n",
       " ('Chacra Grande', 15320),\n",
       " ('Torres de Copacabana', 15121),\n",
       " ('San Pedro de Carabayllo', 15121),\n",
       " ('San Lorenzo', 15122),\n",
       " ('Chaclacayo', 15122),\n",
       " ('Chorrillos', 15121),\n",
       " ('Cieneguilla', 15121),\n",
       " ('Lindero', 15121),\n",
       " ('Pichicato', 15320),\n",
       " ('San Isidro', 15320),\n",
       " ('San Vicente', 15320),\n",
       " ('Piedra Liza', 15320),\n",
       " ('Santa Rosa de Chontay (Chontay)', 15320),\n",
       " ('La Libertad', 15320),\n",
       " ('El Agustino', 15121),\n",
       " ('Independencia', 15121),\n",
       " ('Jesus Maria', 15121),\n",
       " ('La Molina', 15320),\n",
       " ('La Victoria', 15121),\n",
       " ('Lince', 15319),\n",
       " ('Las Palmeras', 15121),\n",
       " ('Chosica', 15121),\n",
       " ('Lurin', 15121),\n",
       " ('Los Almacigos', 15320),\n",
       " ('Rinconada del Puruhuay', 15320),\n",
       " ('Fundo Santa Genoveva', 15121),\n",
       " ('Los Maderos', 15121),\n",
       " ('Casco Viejo', 15121),\n",
       " ('Vista Alegre', 15121),\n",
       " ('Buena Vista Alta', 15320),\n",
       " ('Lomas Pucara', 15320),\n",
       " ('Fundo la Querencia', 15320),\n",
       " ('Magdalena del Mar', 15122),\n",
       " ('Pueblo Libre', 15122),\n",
       " ('Miraflores', 15122),\n",
       " ('Pachacamac', 15122),\n",
       " ('Puente Manchay', 15122),\n",
       " ('Tambo Inga', 15122),\n",
       " ('Pampa Flores', 15122),\n",
       " ('Manchay Alto Lote B', 15122),\n",
       " ('Invasion Cementerio', 15121),\n",
       " ('Manchay Bajo', 15121),\n",
       " ('Santa Rosa de Mal Paso', 15122),\n",
       " ('Cardal', 15122),\n",
       " ('Jatosisa', 15121),\n",
       " ('Tomina', 15121),\n",
       " ('Pucusana', 15122),\n",
       " ('Honda', 15122),\n",
       " ('Quipa', 15121),\n",
       " ('Los Pelicanos', 15122),\n",
       " ('Playa Puerto Bello', 15122),\n",
       " ('Ñaves', 15122),\n",
       " ('Granja Santa Elena', 15472),\n",
       " ('Alvatroz II', 15476),\n",
       " ('Poseidon - Lobo Varado', 15054),\n",
       " ('Playa Minka Mar', 15056),\n",
       " ('Playa Acantilado', 15057),\n",
       " ('Puente Piedra', 15058),\n",
       " ('Punta Hermosa', 15063),\n",
       " ('Capilla Lucumo', 15064),\n",
       " ('Cucuya', 15066),\n",
       " ('Pampapacta', 15067),\n",
       " ('Avicola San Cirilo de Loma Negra - 03', 15593),\n",
       " ('Avicola San Cirilo de Loma Negra - 02', 15594),\n",
       " ('Avicola San Cirilo de Loma Negra - 01', 15593),\n",
       " ('Pampa Mamay', 15593),\n",
       " ('Cerro Botija', 15593),\n",
       " ('Agricultores y Ganaderos', 15593),\n",
       " ('Pampa Malanche Avicola Puma', 15593),\n",
       " ('Punta Negra', 15593),\n",
       " ('Chancheria', 15593),\n",
       " ('Rimac', 15311),\n",
       " ('San Bartolo', 15312),\n",
       " ('Plantel 41', 15313),\n",
       " ('Granja 4', 15314),\n",
       " ('Granja 5', 15316),\n",
       " ('Granja 07', 15324),\n",
       " ('Granja 44', 15326),\n",
       " ('Granja 47', 15327),\n",
       " ('Santa Maria I', 15328),\n",
       " ('Las Torres Santa Fe', 15332),\n",
       " ('San Francisco de Borja', 15003),\n",
       " ('San Isidro', 15004),\n",
       " ('San Juan de Lurigancho', 15006),\n",
       " ('Ciudad de Dios', 15007),\n",
       " ('San Luis', 15008),\n",
       " ('Barrio Obrero Industrial', 15009),\n",
       " ('San Miguel', 15011),\n",
       " ('Santa Anita - los Ficus', 15018),\n",
       " ('Santa Maria del Mar', 15022),\n",
       " ('Don Bruno', 15311),\n",
       " ('Santa Rosa', 15328),\n",
       " ('Santiago de Surco', 15331),\n",
       " ('Surquillo', 15332),\n",
       " ('Villa el Salvador', 15333),\n",
       " ('Villa Maria del Triunfo', 15046),\n",
       " ('Pueblo libre', 15001)]"
      ]
     },
     "execution_count": 182,
     "metadata": {},
     "output_type": "execute_result"
    }
   ],
   "source": [
    "list(zip( cities , postal_code ))"
   ]
  },
  {
   "cell_type": "code",
   "execution_count": 183,
   "metadata": {},
   "outputs": [
    {
     "data": {
      "text/plain": [
       "{'Fray Martin': 15001,\n",
       " 'Santa Rosa de Puquio': 15003,\n",
       " 'Cuchicorral': 15004,\n",
       " 'Santiago de Punchauca': 15006,\n",
       " 'La Cruz (11 Amigos)': 15018,\n",
       " 'Cerro Cañon': 15019,\n",
       " 'Cabaña Suche': 15046,\n",
       " 'San Lorenzo': 15122,\n",
       " 'Jose Carlos Mariategui': 15079,\n",
       " 'Pascal': 15081,\n",
       " 'La Esperanza': 15082,\n",
       " 'Fundo Pancha Paula': 15083,\n",
       " 'Olfa': 15088,\n",
       " 'Rio Seco': 15123,\n",
       " 'Paraiso': 15004,\n",
       " 'El Rosario': 15011,\n",
       " 'Cerro Puquio': 15012,\n",
       " 'La Campana': 15019,\n",
       " 'Las Animas': 15022,\n",
       " 'Vetancio': 15023,\n",
       " 'Roma Alta': 15026,\n",
       " 'San Jose': 15476,\n",
       " 'San Pedro de Carabayllo': 15121,\n",
       " 'Huacoy': 15483,\n",
       " 'Fundo Pampa Libre': 15487,\n",
       " 'Ex Fundo Santa Ines': 15491,\n",
       " 'Reposo': 15494,\n",
       " 'Carmelito': 15498,\n",
       " 'Santa Elena': 15047,\n",
       " 'Don Luis': 15049,\n",
       " 'Santa Ines Parcela': 15063,\n",
       " 'Asociacion Santa Ines': 15082,\n",
       " 'Roma Baja': 15083,\n",
       " 'Residencial Santa Lucia': 15121,\n",
       " 'San Francisco': 15122,\n",
       " 'Santa Margarita - Molinos': 15313,\n",
       " 'Sipan Peru': 15316,\n",
       " 'Fundo Cuadros': 15318,\n",
       " 'Bello Horizonte': 15319,\n",
       " 'El Hueco': 15320,\n",
       " 'Ex Fundo Mariategui': 15321,\n",
       " 'Naranjito': 15324,\n",
       " 'Vista Hermosa': 15320,\n",
       " 'El Sabroso de Jose Carlos Mariategui': 15320,\n",
       " 'Granja Carabayllo': 15320,\n",
       " 'Agropecuario Valle el Chillon': 15320,\n",
       " 'Camino Real': 15320,\n",
       " 'Copacabana': 15320,\n",
       " 'El Trebol': 15121,\n",
       " 'Tablada la Virgen': 15320,\n",
       " 'San Fernando de Carabayllo': 15320,\n",
       " 'San Fernando de Copacabana': 15121,\n",
       " 'La Manzana': 15320,\n",
       " 'Chacra Grande': 15320,\n",
       " 'Torres de Copacabana': 15121,\n",
       " 'Chaclacayo': 15122,\n",
       " 'Chorrillos': 15121,\n",
       " 'Cieneguilla': 15121,\n",
       " 'Lindero': 15121,\n",
       " 'Pichicato': 15320,\n",
       " 'San Isidro': 15004,\n",
       " 'San Vicente': 15320,\n",
       " 'Piedra Liza': 15320,\n",
       " 'Santa Rosa de Chontay (Chontay)': 15320,\n",
       " 'La Libertad': 15320,\n",
       " 'El Agustino': 15121,\n",
       " 'Independencia': 15121,\n",
       " 'Jesus Maria': 15121,\n",
       " 'La Molina': 15320,\n",
       " 'La Victoria': 15121,\n",
       " 'Lince': 15319,\n",
       " 'Las Palmeras': 15121,\n",
       " 'Chosica': 15121,\n",
       " 'Lurin': 15121,\n",
       " 'Los Almacigos': 15320,\n",
       " 'Rinconada del Puruhuay': 15320,\n",
       " 'Fundo Santa Genoveva': 15121,\n",
       " 'Los Maderos': 15121,\n",
       " 'Casco Viejo': 15121,\n",
       " 'Vista Alegre': 15121,\n",
       " 'Buena Vista Alta': 15320,\n",
       " 'Lomas Pucara': 15320,\n",
       " 'Fundo la Querencia': 15320,\n",
       " 'Magdalena del Mar': 15122,\n",
       " 'Pueblo Libre': 15122,\n",
       " 'Miraflores': 15122,\n",
       " 'Pachacamac': 15122,\n",
       " 'Puente Manchay': 15122,\n",
       " 'Tambo Inga': 15122,\n",
       " 'Pampa Flores': 15122,\n",
       " 'Manchay Alto Lote B': 15122,\n",
       " 'Invasion Cementerio': 15121,\n",
       " 'Manchay Bajo': 15121,\n",
       " 'Santa Rosa de Mal Paso': 15122,\n",
       " 'Cardal': 15122,\n",
       " 'Jatosisa': 15121,\n",
       " 'Tomina': 15121,\n",
       " 'Pucusana': 15122,\n",
       " 'Honda': 15122,\n",
       " 'Quipa': 15121,\n",
       " 'Los Pelicanos': 15122,\n",
       " 'Playa Puerto Bello': 15122,\n",
       " 'Ñaves': 15122,\n",
       " 'Granja Santa Elena': 15472,\n",
       " 'Alvatroz II': 15476,\n",
       " 'Poseidon - Lobo Varado': 15054,\n",
       " 'Playa Minka Mar': 15056,\n",
       " 'Playa Acantilado': 15057,\n",
       " 'Puente Piedra': 15058,\n",
       " 'Punta Hermosa': 15063,\n",
       " 'Capilla Lucumo': 15064,\n",
       " 'Cucuya': 15066,\n",
       " 'Pampapacta': 15067,\n",
       " 'Avicola San Cirilo de Loma Negra - 03': 15593,\n",
       " 'Avicola San Cirilo de Loma Negra - 02': 15594,\n",
       " 'Avicola San Cirilo de Loma Negra - 01': 15593,\n",
       " 'Pampa Mamay': 15593,\n",
       " 'Cerro Botija': 15593,\n",
       " 'Agricultores y Ganaderos': 15593,\n",
       " 'Pampa Malanche Avicola Puma': 15593,\n",
       " 'Punta Negra': 15593,\n",
       " 'Chancheria': 15593,\n",
       " 'Rimac': 15311,\n",
       " 'San Bartolo': 15312,\n",
       " 'Plantel 41': 15313,\n",
       " 'Granja 4': 15314,\n",
       " 'Granja 5': 15316,\n",
       " 'Granja 07': 15324,\n",
       " 'Granja 44': 15326,\n",
       " 'Granja 47': 15327,\n",
       " 'Santa Maria I': 15328,\n",
       " 'Las Torres Santa Fe': 15332,\n",
       " 'San Francisco de Borja': 15003,\n",
       " 'San Juan de Lurigancho': 15006,\n",
       " 'Ciudad de Dios': 15007,\n",
       " 'San Luis': 15008,\n",
       " 'Barrio Obrero Industrial': 15009,\n",
       " 'San Miguel': 15011,\n",
       " 'Santa Anita - los Ficus': 15018,\n",
       " 'Santa Maria del Mar': 15022,\n",
       " 'Don Bruno': 15311,\n",
       " 'Santa Rosa': 15328,\n",
       " 'Santiago de Surco': 15331,\n",
       " 'Surquillo': 15332,\n",
       " 'Villa el Salvador': 15333,\n",
       " 'Villa Maria del Triunfo': 15046,\n",
       " 'Pueblo libre': 15001}"
      ]
     },
     "execution_count": 183,
     "metadata": {},
     "output_type": "execute_result"
    }
   ],
   "source": [
    "cities_postal = dict(zip( cities , postal_code ))\n",
    "cities_postal"
   ]
  },
  {
   "cell_type": "code",
   "execution_count": 184,
   "metadata": {},
   "outputs": [
    {
     "data": {
      "text/plain": [
       "15320"
      ]
     },
     "execution_count": 184,
     "metadata": {},
     "output_type": "execute_result"
    }
   ],
   "source": [
    "cities_postal[\"Camino Real\"]"
   ]
  },
  {
   "cell_type": "code",
   "execution_count": 185,
   "metadata": {},
   "outputs": [],
   "source": [
    "# Return a dictionarie\n",
    "ct_pc = dict( zip( cities , postal_code ) )"
   ]
  },
  {
   "cell_type": "code",
   "execution_count": 199,
   "metadata": {},
   "outputs": [
    {
     "data": {
      "text/plain": [
       "{'Fray Martin': 15001,\n",
       " 'Santa Rosa de Puquio': 15003,\n",
       " 'Cuchicorral': 15004,\n",
       " 'Santiago de Punchauca': 15006,\n",
       " 'La Cruz (11 Amigos)': 15018,\n",
       " 'Cerro Cañon': 15019,\n",
       " 'Cabaña Suche': 15046,\n",
       " 'San Lorenzo': 15122,\n",
       " 'Jose Carlos Mariategui': 15079,\n",
       " 'Pascal': 15081,\n",
       " 'La Esperanza': 15082,\n",
       " 'Fundo Pancha Paula': 15083,\n",
       " 'Olfa': 15088,\n",
       " 'Rio Seco': 15123,\n",
       " 'Paraiso': 15004,\n",
       " 'El Rosario': 15011,\n",
       " 'Cerro Puquio': 15012,\n",
       " 'La Campana': 15019,\n",
       " 'Las Animas': 15022,\n",
       " 'Vetancio': 15023,\n",
       " 'Roma Alta': 15026,\n",
       " 'San Jose': 15476,\n",
       " 'San Pedro de Carabayllo': 15121,\n",
       " 'Huacoy': 15483,\n",
       " 'Fundo Pampa Libre': 15487,\n",
       " 'Ex Fundo Santa Ines': 15491,\n",
       " 'Reposo': 15494,\n",
       " 'Carmelito': 15498,\n",
       " 'Santa Elena': 15047,\n",
       " 'Don Luis': 15049,\n",
       " 'Santa Ines Parcela': 15063,\n",
       " 'Asociacion Santa Ines': 15082,\n",
       " 'Roma Baja': 15083,\n",
       " 'Residencial Santa Lucia': 15121,\n",
       " 'San Francisco': 15122,\n",
       " 'Santa Margarita - Molinos': 15313,\n",
       " 'Sipan Peru': 15316,\n",
       " 'Fundo Cuadros': 15318,\n",
       " 'Bello Horizonte': 15319,\n",
       " 'El Hueco': 15320,\n",
       " 'Ex Fundo Mariategui': 15321,\n",
       " 'Naranjito': 15324,\n",
       " 'Vista Hermosa': 15320,\n",
       " 'El Sabroso de Jose Carlos Mariategui': 15320,\n",
       " 'Granja Carabayllo': 15320,\n",
       " 'Agropecuario Valle el Chillon': 15320,\n",
       " 'Camino Real': 15320,\n",
       " 'Copacabana': 15320,\n",
       " 'El Trebol': 15121,\n",
       " 'Tablada la Virgen': 15320,\n",
       " 'San Fernando de Carabayllo': 15320,\n",
       " 'San Fernando de Copacabana': 15121,\n",
       " 'La Manzana': 15320,\n",
       " 'Chacra Grande': 15320,\n",
       " 'Torres de Copacabana': 15121,\n",
       " 'Chaclacayo': 15122,\n",
       " 'Chorrillos': 15121,\n",
       " 'Cieneguilla': 15121,\n",
       " 'Lindero': 15121,\n",
       " 'Pichicato': 15320,\n",
       " 'San Isidro': 15004,\n",
       " 'San Vicente': 15320,\n",
       " 'Piedra Liza': 15320,\n",
       " 'Santa Rosa de Chontay (Chontay)': 15320,\n",
       " 'La Libertad': 15320,\n",
       " 'El Agustino': 15121,\n",
       " 'Independencia': 15121,\n",
       " 'Jesus Maria': 15121,\n",
       " 'La Molina': 15320,\n",
       " 'La Victoria': 15121,\n",
       " 'Lince': 15319,\n",
       " 'Las Palmeras': 15121,\n",
       " 'Chosica': 15121,\n",
       " 'Lurin': 15121,\n",
       " 'Los Almacigos': 15320,\n",
       " 'Rinconada del Puruhuay': 15320,\n",
       " 'Fundo Santa Genoveva': 15121,\n",
       " 'Los Maderos': 15121,\n",
       " 'Casco Viejo': 15121,\n",
       " 'Vista Alegre': 15121,\n",
       " 'Buena Vista Alta': 15320,\n",
       " 'Lomas Pucara': 15320,\n",
       " 'Fundo la Querencia': 15320,\n",
       " 'Magdalena del Mar': 15122,\n",
       " 'Pueblo Libre': 15122,\n",
       " 'Miraflores': 15122,\n",
       " 'Pachacamac': 15122,\n",
       " 'Puente Manchay': 15122,\n",
       " 'Tambo Inga': 15122,\n",
       " 'Pampa Flores': 15122,\n",
       " 'Manchay Alto Lote B': 15122,\n",
       " 'Invasion Cementerio': 15121,\n",
       " 'Manchay Bajo': 15121,\n",
       " 'Santa Rosa de Mal Paso': 15122,\n",
       " 'Cardal': 15122,\n",
       " 'Jatosisa': 15121,\n",
       " 'Tomina': 15121,\n",
       " 'Pucusana': 15122,\n",
       " 'Honda': 15122,\n",
       " 'Quipa': 15121,\n",
       " 'Los Pelicanos': 15122,\n",
       " 'Playa Puerto Bello': 15122,\n",
       " 'Ñaves': 15122,\n",
       " 'Granja Santa Elena': 15472,\n",
       " 'Alvatroz II': 15476,\n",
       " 'Poseidon - Lobo Varado': 15054,\n",
       " 'Playa Minka Mar': 15056,\n",
       " 'Playa Acantilado': 15057,\n",
       " 'Puente Piedra': 15058,\n",
       " 'Punta Hermosa': 15063,\n",
       " 'Capilla Lucumo': 15064,\n",
       " 'Cucuya': 15066,\n",
       " 'Pampapacta': 15067,\n",
       " 'Avicola San Cirilo de Loma Negra - 03': 15593,\n",
       " 'Avicola San Cirilo de Loma Negra - 02': 15594,\n",
       " 'Avicola San Cirilo de Loma Negra - 01': 15593,\n",
       " 'Pampa Mamay': 15593,\n",
       " 'Cerro Botija': 15593,\n",
       " 'Agricultores y Ganaderos': 15593,\n",
       " 'Pampa Malanche Avicola Puma': 15593,\n",
       " 'Punta Negra': 15593,\n",
       " 'Chancheria': 15593,\n",
       " 'Rimac': 15311,\n",
       " 'San Bartolo': 15312,\n",
       " 'Plantel 41': 15313,\n",
       " 'Granja 4': 15314,\n",
       " 'Granja 5': 15316,\n",
       " 'Granja 07': 15324,\n",
       " 'Granja 44': 15326,\n",
       " 'Granja 47': 15327,\n",
       " 'Santa Maria I': 15328,\n",
       " 'Las Torres Santa Fe': 15332,\n",
       " 'San Francisco de Borja': 15003,\n",
       " 'San Juan de Lurigancho': 15006,\n",
       " 'Ciudad de Dios': 15007,\n",
       " 'San Luis': 15008,\n",
       " 'Barrio Obrero Industrial': 15009,\n",
       " 'San Miguel': 15011,\n",
       " 'Santa Anita - los Ficus': 15018,\n",
       " 'Santa Maria del Mar': 15022,\n",
       " 'Don Bruno': 15311,\n",
       " 'Santa Rosa': 15328,\n",
       " 'Santiago de Surco': 15331,\n",
       " 'Surquillo': 15332,\n",
       " 'Villa el Salvador': 15333,\n",
       " 'Villa Maria del Triunfo': 15046,\n",
       " 'Pueblo libre': 15001}"
      ]
     },
     "execution_count": 199,
     "metadata": {},
     "output_type": "execute_result"
    }
   ],
   "source": [
    "ct_pc"
   ]
  },
  {
   "cell_type": "code",
   "execution_count": 200,
   "metadata": {},
   "outputs": [],
   "source": [
    "ct_pc[\"Fray Martin\"] = 2000"
   ]
  },
  {
   "cell_type": "code",
   "execution_count": 201,
   "metadata": {},
   "outputs": [
    {
     "data": {
      "text/plain": [
       "{'Fray Martin': 2000,\n",
       " 'Santa Rosa de Puquio': 15003,\n",
       " 'Cuchicorral': 15004,\n",
       " 'Santiago de Punchauca': 15006,\n",
       " 'La Cruz (11 Amigos)': 15018,\n",
       " 'Cerro Cañon': 15019,\n",
       " 'Cabaña Suche': 15046,\n",
       " 'San Lorenzo': 15122,\n",
       " 'Jose Carlos Mariategui': 15079,\n",
       " 'Pascal': 15081,\n",
       " 'La Esperanza': 15082,\n",
       " 'Fundo Pancha Paula': 15083,\n",
       " 'Olfa': 15088,\n",
       " 'Rio Seco': 15123,\n",
       " 'Paraiso': 15004,\n",
       " 'El Rosario': 15011,\n",
       " 'Cerro Puquio': 15012,\n",
       " 'La Campana': 15019,\n",
       " 'Las Animas': 15022,\n",
       " 'Vetancio': 15023,\n",
       " 'Roma Alta': 15026,\n",
       " 'San Jose': 15476,\n",
       " 'San Pedro de Carabayllo': 15121,\n",
       " 'Huacoy': 15483,\n",
       " 'Fundo Pampa Libre': 15487,\n",
       " 'Ex Fundo Santa Ines': 15491,\n",
       " 'Reposo': 15494,\n",
       " 'Carmelito': 15498,\n",
       " 'Santa Elena': 15047,\n",
       " 'Don Luis': 15049,\n",
       " 'Santa Ines Parcela': 15063,\n",
       " 'Asociacion Santa Ines': 15082,\n",
       " 'Roma Baja': 15083,\n",
       " 'Residencial Santa Lucia': 15121,\n",
       " 'San Francisco': 15122,\n",
       " 'Santa Margarita - Molinos': 15313,\n",
       " 'Sipan Peru': 15316,\n",
       " 'Fundo Cuadros': 15318,\n",
       " 'Bello Horizonte': 15319,\n",
       " 'El Hueco': 15320,\n",
       " 'Ex Fundo Mariategui': 15321,\n",
       " 'Naranjito': 15324,\n",
       " 'Vista Hermosa': 15320,\n",
       " 'El Sabroso de Jose Carlos Mariategui': 15320,\n",
       " 'Granja Carabayllo': 15320,\n",
       " 'Agropecuario Valle el Chillon': 15320,\n",
       " 'Camino Real': 15320,\n",
       " 'Copacabana': 15320,\n",
       " 'El Trebol': 15121,\n",
       " 'Tablada la Virgen': 15320,\n",
       " 'San Fernando de Carabayllo': 15320,\n",
       " 'San Fernando de Copacabana': 15121,\n",
       " 'La Manzana': 15320,\n",
       " 'Chacra Grande': 15320,\n",
       " 'Torres de Copacabana': 15121,\n",
       " 'Chaclacayo': 15122,\n",
       " 'Chorrillos': 15121,\n",
       " 'Cieneguilla': 15121,\n",
       " 'Lindero': 15121,\n",
       " 'Pichicato': 15320,\n",
       " 'San Isidro': 15004,\n",
       " 'San Vicente': 15320,\n",
       " 'Piedra Liza': 15320,\n",
       " 'Santa Rosa de Chontay (Chontay)': 15320,\n",
       " 'La Libertad': 15320,\n",
       " 'El Agustino': 15121,\n",
       " 'Independencia': 15121,\n",
       " 'Jesus Maria': 15121,\n",
       " 'La Molina': 15320,\n",
       " 'La Victoria': 15121,\n",
       " 'Lince': 15319,\n",
       " 'Las Palmeras': 15121,\n",
       " 'Chosica': 15121,\n",
       " 'Lurin': 15121,\n",
       " 'Los Almacigos': 15320,\n",
       " 'Rinconada del Puruhuay': 15320,\n",
       " 'Fundo Santa Genoveva': 15121,\n",
       " 'Los Maderos': 15121,\n",
       " 'Casco Viejo': 15121,\n",
       " 'Vista Alegre': 15121,\n",
       " 'Buena Vista Alta': 15320,\n",
       " 'Lomas Pucara': 15320,\n",
       " 'Fundo la Querencia': 15320,\n",
       " 'Magdalena del Mar': 15122,\n",
       " 'Pueblo Libre': 15122,\n",
       " 'Miraflores': 15122,\n",
       " 'Pachacamac': 15122,\n",
       " 'Puente Manchay': 15122,\n",
       " 'Tambo Inga': 15122,\n",
       " 'Pampa Flores': 15122,\n",
       " 'Manchay Alto Lote B': 15122,\n",
       " 'Invasion Cementerio': 15121,\n",
       " 'Manchay Bajo': 15121,\n",
       " 'Santa Rosa de Mal Paso': 15122,\n",
       " 'Cardal': 15122,\n",
       " 'Jatosisa': 15121,\n",
       " 'Tomina': 15121,\n",
       " 'Pucusana': 15122,\n",
       " 'Honda': 15122,\n",
       " 'Quipa': 15121,\n",
       " 'Los Pelicanos': 15122,\n",
       " 'Playa Puerto Bello': 15122,\n",
       " 'Ñaves': 15122,\n",
       " 'Granja Santa Elena': 15472,\n",
       " 'Alvatroz II': 15476,\n",
       " 'Poseidon - Lobo Varado': 15054,\n",
       " 'Playa Minka Mar': 15056,\n",
       " 'Playa Acantilado': 15057,\n",
       " 'Puente Piedra': 15058,\n",
       " 'Punta Hermosa': 15063,\n",
       " 'Capilla Lucumo': 15064,\n",
       " 'Cucuya': 15066,\n",
       " 'Pampapacta': 15067,\n",
       " 'Avicola San Cirilo de Loma Negra - 03': 15593,\n",
       " 'Avicola San Cirilo de Loma Negra - 02': 15594,\n",
       " 'Avicola San Cirilo de Loma Negra - 01': 15593,\n",
       " 'Pampa Mamay': 15593,\n",
       " 'Cerro Botija': 15593,\n",
       " 'Agricultores y Ganaderos': 15593,\n",
       " 'Pampa Malanche Avicola Puma': 15593,\n",
       " 'Punta Negra': 15593,\n",
       " 'Chancheria': 15593,\n",
       " 'Rimac': 15311,\n",
       " 'San Bartolo': 15312,\n",
       " 'Plantel 41': 15313,\n",
       " 'Granja 4': 15314,\n",
       " 'Granja 5': 15316,\n",
       " 'Granja 07': 15324,\n",
       " 'Granja 44': 15326,\n",
       " 'Granja 47': 15327,\n",
       " 'Santa Maria I': 15328,\n",
       " 'Las Torres Santa Fe': 15332,\n",
       " 'San Francisco de Borja': 15003,\n",
       " 'San Juan de Lurigancho': 15006,\n",
       " 'Ciudad de Dios': 15007,\n",
       " 'San Luis': 15008,\n",
       " 'Barrio Obrero Industrial': 15009,\n",
       " 'San Miguel': 15011,\n",
       " 'Santa Anita - los Ficus': 15018,\n",
       " 'Santa Maria del Mar': 15022,\n",
       " 'Don Bruno': 15311,\n",
       " 'Santa Rosa': 15328,\n",
       " 'Santiago de Surco': 15331,\n",
       " 'Surquillo': 15332,\n",
       " 'Villa el Salvador': 15333,\n",
       " 'Villa Maria del Triunfo': 15046,\n",
       " 'Pueblo libre': 15001}"
      ]
     },
     "execution_count": 201,
     "metadata": {},
     "output_type": "execute_result"
    }
   ],
   "source": [
    "ct_pc"
   ]
  },
  {
   "cell_type": "markdown",
   "metadata": {},
   "source": [
    "### Excersises\n",
    "1. Write a Python script to check whether Lima is a key of ct_pc.\n",
    "2. Write a Python script to join two Python dictionaries.\n",
    "3. Write a Python script to add a key to a dictionary."
   ]
  },
  {
   "cell_type": "markdown",
   "metadata": {},
   "source": [
    "## [Numpy](https://numpy.org/doc/stable/user/numpy-for-matlab-users.html)\n",
    "Numpy is the core library for scientific computing in Python. It provides a high-performance multidimensional array object, and tools for working with these arrays. If you are already familiar with MATLAB, you might find this tutorial useful to get started with Numpy."
   ]
  },
  {
   "cell_type": "markdown",
   "metadata": {},
   "source": [
    "### Arrays\n",
    "A numpy array is a grid of values, all of the same type, and is indexed by a tuple of nonnegative integers. The number of dimensions is the rank of the array; the shape of an array is a tuple of integers giving the size of the array along each dimension."
   ]
  },
  {
   "cell_type": "code",
   "execution_count": 3,
   "metadata": {},
   "outputs": [],
   "source": [
    "import numpy as np"
   ]
  },
  {
   "cell_type": "code",
   "execution_count": 211,
   "metadata": {},
   "outputs": [],
   "source": [
    "# [1, 2, 3, 4, 5]"
   ]
  },
  {
   "cell_type": "code",
   "execution_count": 212,
   "metadata": {},
   "outputs": [],
   "source": [
    "a = np.array( [1, 2, 3, 4, 5] )"
   ]
  },
  {
   "cell_type": "code",
   "execution_count": 214,
   "metadata": {},
   "outputs": [
    {
     "data": {
      "text/plain": [
       "array([1, 2, 3, 4, 5])"
      ]
     },
     "execution_count": 214,
     "metadata": {},
     "output_type": "execute_result"
    }
   ],
   "source": [
    "a"
   ]
  },
  {
   "cell_type": "code",
   "execution_count": 207,
   "metadata": {},
   "outputs": [
    {
     "name": "stdout",
     "output_type": "stream",
     "text": [
      "[1 2 3 4 5]\n"
     ]
    }
   ],
   "source": [
    "# 1D array\n",
    "a = np.array( [1, 2, 3, 4, 5] )\n",
    "print(a)"
   ]
  },
  {
   "cell_type": "code",
   "execution_count": 243,
   "metadata": {},
   "outputs": [
    {
     "name": "stdout",
     "output_type": "stream",
     "text": [
      "[[ 1  2  3  5]\n",
      " [ 4  5  6 10]\n",
      " [ 4  5  6 10]]\n"
     ]
    }
   ],
   "source": [
    "# 2D array\n",
    "M = np.array( [ [1, 2, 3, 5], [4, 5, 6, 10], [4, 5, 6, 10] ] )\n",
    "\n",
    "print(M)"
   ]
  },
  {
   "cell_type": "code",
   "execution_count": 245,
   "metadata": {},
   "outputs": [
    {
     "data": {
      "text/plain": [
       "(2, 3)"
      ]
     },
     "execution_count": 245,
     "metadata": {},
     "output_type": "execute_result"
    }
   ],
   "source": [
    "X = np.array( [ [1, 2, 3], [4, 5, 7] ] )\n",
    "X.shape"
   ]
  },
  {
   "cell_type": "markdown",
   "metadata": {},
   "source": [
    "|Function|\tDescription|\n",
    "| --- |--- |\n",
    "|np.array(a) |\tCreate -dimensional np array from sequence a|\n",
    "|np.linspace(a,b,N) |\tCreate 1D np array with N equally spaced values <br> from a to b (inclusively)|\n",
    "|np.arange(a,b,step) |\tCreate 1D np array with values from a to b (exclusively) <br> incremented by step|\n",
    "|np.zeros(N)\t| Create 1D np array of zeros of length |\n",
    "|np.zeros((n,m)) |\tCreate 2D np array of zeros with  rows and  columns|\n",
    "|np.ones(N) |\tCreate 1D np array of ones of length |\n",
    "|np.ones((n,m))|\tCreate 2D np array of ones with  rows and  columns|\n",
    "|np.eye(N)\t| Create 2D np array with  rows and  columns  <br> with ones on the diagonal  (ie. the identity matrix of size )|\n",
    "|np.concatenate( )|Join a sequence of arrays along an existing axis|\n",
    "|np.hstack( )|Stack arrays in sequence horizontally(column wise)|\n",
    "|np.vstack( )|Stack arrays in sequence vertically(row wise)|\n",
    "|np.column_stack( )|Stack 1-D arrays as columns into a 2-D array|\n",
    "|np.random.normal() | Draw random samples from a normal (Gaussian) distribution. |\n",
    "|np.linalg.inv() | Compute the (multiplicative) inverse of a matrix. |\n",
    "|np.dot() / @  | Matrix Multiplication. |"
   ]
  },
  {
   "cell_type": "code",
   "execution_count": 220,
   "metadata": {},
   "outputs": [
    {
     "name": "stdout",
     "output_type": "stream",
     "text": [
      "[  0.  10.  20.  30.  40.  50.  60.  70.  80.  90. 100.]\n"
     ]
    }
   ],
   "source": [
    "# Create a 1D NumPy array with 11 equally spaced values from 0 to 1:\n",
    "x = np.linspace( 0, 100, 11 )\n",
    "print(x)"
   ]
  },
  {
   "cell_type": "code",
   "execution_count": 224,
   "metadata": {},
   "outputs": [
    {
     "name": "stdout",
     "output_type": "stream",
     "text": [
      "[ 0  1  2  3  4  5  6  7  8  9 10 11 12 13 14 15 16 17 18 19]\n"
     ]
    }
   ],
   "source": [
    "# Create a 1D NumPy array with values from 0 to 20 (exclusively) incremented by 5:\n",
    "y = np.arange( 0, 20, 1 )\n",
    "print(y)"
   ]
  },
  {
   "cell_type": "code",
   "execution_count": 226,
   "metadata": {},
   "outputs": [
    {
     "name": "stdout",
     "output_type": "stream",
     "text": [
      "[0. 0. 0. 0. 0. 0. 0. 0. 0. 0.]\n"
     ]
    }
   ],
   "source": [
    "# Create a 1D NumPy array of zeros of length 5:\n",
    "z = np.zeros(10)\n",
    "print(z)"
   ]
  },
  {
   "cell_type": "code",
   "execution_count": 50,
   "metadata": {},
   "outputs": [
    {
     "name": "stdout",
     "output_type": "stream",
     "text": [
      "[[0. 0. 0. 0. 0. 0. 0. 0. 0. 0.]\n",
      " [0. 0. 0. 0. 0. 0. 0. 0. 0. 0.]\n",
      " [0. 0. 0. 0. 0. 0. 0. 0. 0. 0.]\n",
      " [0. 0. 0. 0. 0. 0. 0. 0. 0. 0.]\n",
      " [0. 0. 0. 0. 0. 0. 0. 0. 0. 0.]]\n"
     ]
    }
   ],
   "source": [
    "# Create a 2D NumPy array of zeros of shape ( 5, 10 ) :\n",
    "M = np.zeros( (5, 10) )\n",
    "print(M)"
   ]
  },
  {
   "cell_type": "code",
   "execution_count": 236,
   "metadata": {},
   "outputs": [
    {
     "data": {
      "text/plain": [
       "(5, 10)"
      ]
     },
     "execution_count": 236,
     "metadata": {},
     "output_type": "execute_result"
    }
   ],
   "source": [
    "M.shape"
   ]
  },
  {
   "cell_type": "code",
   "execution_count": 230,
   "metadata": {},
   "outputs": [
    {
     "name": "stdout",
     "output_type": "stream",
     "text": [
      "[1. 1. 1. 1. 1. 1. 1. 1. 1. 1.]\n"
     ]
    }
   ],
   "source": [
    "# Create a 1D NumPy array of ones of length 7:\n",
    "w = np.ones(10)\n",
    "print(w)"
   ]
  },
  {
   "cell_type": "code",
   "execution_count": 231,
   "metadata": {},
   "outputs": [
    {
     "name": "stdout",
     "output_type": "stream",
     "text": [
      "[[1. 1. 1. 1. 1.]\n",
      " [1. 1. 1. 1. 1.]\n",
      " [1. 1. 1. 1. 1.]\n",
      " [1. 1. 1. 1. 1.]\n",
      " [1. 1. 1. 1. 1.]]\n"
     ]
    }
   ],
   "source": [
    "# Create a 2D NumPy array of ones with 35ows and 25 columns:\n",
    "N = np.ones( (5, 5) )\n",
    "print(N)"
   ]
  },
  {
   "cell_type": "code",
   "execution_count": 234,
   "metadata": {},
   "outputs": [
    {
     "data": {
      "text/plain": [
       "array([[1., 0., 0., 0., 0., 0., 0., 0., 0., 0.],\n",
       "       [0., 1., 0., 0., 0., 0., 0., 0., 0., 0.],\n",
       "       [0., 0., 1., 0., 0., 0., 0., 0., 0., 0.],\n",
       "       [0., 0., 0., 1., 0., 0., 0., 0., 0., 0.],\n",
       "       [0., 0., 0., 0., 1., 0., 0., 0., 0., 0.],\n",
       "       [0., 0., 0., 0., 0., 1., 0., 0., 0., 0.],\n",
       "       [0., 0., 0., 0., 0., 0., 1., 0., 0., 0.],\n",
       "       [0., 0., 0., 0., 0., 0., 0., 1., 0., 0.],\n",
       "       [0., 0., 0., 0., 0., 0., 0., 0., 1., 0.],\n",
       "       [0., 0., 0., 0., 0., 0., 0., 0., 0., 1.]])"
      ]
     },
     "execution_count": 234,
     "metadata": {},
     "output_type": "execute_result"
    }
   ],
   "source": [
    "np.eye(10)"
   ]
  },
  {
   "cell_type": "code",
   "execution_count": 235,
   "metadata": {},
   "outputs": [
    {
     "name": "stdout",
     "output_type": "stream",
     "text": [
      "[[1. 0. 0. 0. 0. 0. 0. 0. 0. 0.]\n",
      " [0. 1. 0. 0. 0. 0. 0. 0. 0. 0.]\n",
      " [0. 0. 1. 0. 0. 0. 0. 0. 0. 0.]\n",
      " [0. 0. 0. 1. 0. 0. 0. 0. 0. 0.]\n",
      " [0. 0. 0. 0. 1. 0. 0. 0. 0. 0.]\n",
      " [0. 0. 0. 0. 0. 1. 0. 0. 0. 0.]\n",
      " [0. 0. 0. 0. 0. 0. 1. 0. 0. 0.]\n",
      " [0. 0. 0. 0. 0. 0. 0. 1. 0. 0.]\n",
      " [0. 0. 0. 0. 0. 0. 0. 0. 1. 0.]\n",
      " [0. 0. 0. 0. 0. 0. 0. 0. 0. 1.]]\n"
     ]
    }
   ],
   "source": [
    "# Create the identity matrix of size 10:\n",
    "I = np.eye(10)\n",
    "print(I)"
   ]
  },
  {
   "cell_type": "code",
   "execution_count": 250,
   "metadata": {},
   "outputs": [
    {
     "name": "stdout",
     "output_type": "stream",
     "text": [
      "(10, 10)\n",
      "100\n"
     ]
    }
   ],
   "source": [
    "print(I.shape)\n",
    "print(I.size)"
   ]
  },
  {
   "cell_type": "code",
   "execution_count": 114,
   "metadata": {},
   "outputs": [
    {
     "name": "stdout",
     "output_type": "stream",
     "text": [
      "(10, 10)\n"
     ]
    }
   ],
   "source": [
    "# Shape\n",
    "print( I.shape )"
   ]
  },
  {
   "cell_type": "code",
   "execution_count": 116,
   "metadata": {},
   "outputs": [
    {
     "name": "stdout",
     "output_type": "stream",
     "text": [
      "100\n"
     ]
    }
   ],
   "source": [
    "# Size\n",
    "print(I.size)"
   ]
  },
  {
   "cell_type": "code",
   "execution_count": 87,
   "metadata": {},
   "outputs": [
    {
     "data": {
      "text/plain": [
       "array([[5, 6],\n",
       "       [7, 8]])"
      ]
     },
     "execution_count": 87,
     "metadata": {},
     "output_type": "execute_result"
    }
   ],
   "source": [
    "# Concateante\n",
    "g = np.array([[5,6],[7,8]])\n",
    "g"
   ]
  },
  {
   "cell_type": "code",
   "execution_count": 73,
   "metadata": {},
   "outputs": [
    {
     "data": {
      "text/plain": [
       "array([[1, 2]])"
      ]
     },
     "execution_count": 73,
     "metadata": {},
     "output_type": "execute_result"
    }
   ],
   "source": [
    "h = np.array([[1,2]])\n",
    "h"
   ]
  },
  {
   "cell_type": "code",
   "execution_count": 254,
   "metadata": {},
   "outputs": [
    {
     "name": "stdout",
     "output_type": "stream",
     "text": [
      "[[5 6]\n",
      " [7 8]] \n",
      "\n",
      "[[1 2]] \n",
      "\n"
     ]
    }
   ],
   "source": [
    "print(g, \"\\n\")\n",
    "print(h , \"\\n\")"
   ]
  },
  {
   "cell_type": "code",
   "execution_count": 257,
   "metadata": {},
   "outputs": [
    {
     "data": {
      "text/plain": [
       "(2, 2)"
      ]
     },
     "execution_count": 257,
     "metadata": {},
     "output_type": "execute_result"
    }
   ],
   "source": [
    "g.shape"
   ]
  },
  {
   "cell_type": "code",
   "execution_count": 258,
   "metadata": {},
   "outputs": [
    {
     "data": {
      "text/plain": [
       "(1, 2)"
      ]
     },
     "execution_count": 258,
     "metadata": {},
     "output_type": "execute_result"
    }
   ],
   "source": [
    "h.shape"
   ]
  },
  {
   "cell_type": "code",
   "execution_count": 262,
   "metadata": {},
   "outputs": [
    {
     "data": {
      "text/plain": [
       "array([[5, 6],\n",
       "       [7, 8],\n",
       "       [1, 2]])"
      ]
     },
     "execution_count": 262,
     "metadata": {},
     "output_type": "execute_result"
    }
   ],
   "source": [
    "g_h_0 = np.concatenate( (g, h), axis = 0)\n",
    "g_h_0"
   ]
  },
  {
   "cell_type": "code",
   "execution_count": 83,
   "metadata": {},
   "outputs": [],
   "source": [
    "h_resh =  h.reshape(2, 1)"
   ]
  },
  {
   "cell_type": "code",
   "execution_count": 89,
   "metadata": {},
   "outputs": [
    {
     "data": {
      "text/plain": [
       "array([[5, 6, 1],\n",
       "       [7, 8, 2]])"
      ]
     },
     "execution_count": 89,
     "metadata": {},
     "output_type": "execute_result"
    }
   ],
   "source": [
    "g_h_1 = np.concatenate( (g, h_resh), axis = 1)\n",
    "g_h_1"
   ]
  },
  {
   "cell_type": "code",
   "execution_count": 266,
   "metadata": {},
   "outputs": [],
   "source": [
    "wage_1 = np.array( [[10,12],[7,8]] )\n",
    "wage_2 = np.array( [[12,15]] )"
   ]
  },
  {
   "cell_type": "code",
   "execution_count": 267,
   "metadata": {},
   "outputs": [
    {
     "data": {
      "text/plain": [
       "(2, 2)"
      ]
     },
     "execution_count": 267,
     "metadata": {},
     "output_type": "execute_result"
    }
   ],
   "source": [
    "wage_1.shape"
   ]
  },
  {
   "cell_type": "code",
   "execution_count": 268,
   "metadata": {},
   "outputs": [
    {
     "data": {
      "text/plain": [
       "(1, 2)"
      ]
     },
     "execution_count": 268,
     "metadata": {},
     "output_type": "execute_result"
    }
   ],
   "source": [
    "wage_2.shape"
   ]
  },
  {
   "cell_type": "code",
   "execution_count": 269,
   "metadata": {},
   "outputs": [
    {
     "data": {
      "text/plain": [
       "array([[10, 12],\n",
       "       [ 7,  8],\n",
       "       [12, 15]])"
      ]
     },
     "execution_count": 269,
     "metadata": {},
     "output_type": "execute_result"
    }
   ],
   "source": [
    "wages_0 = np.concatenate( (wage_1, wage_2) , axis=0)\n",
    "wages_0"
   ]
  },
  {
   "cell_type": "code",
   "execution_count": 273,
   "metadata": {},
   "outputs": [
    {
     "data": {
      "text/plain": [
       "array([[12],\n",
       "       [15]])"
      ]
     },
     "execution_count": 273,
     "metadata": {},
     "output_type": "execute_result"
    }
   ],
   "source": [
    "wage_2_re =  wage_2.reshape(2, 1)\n",
    "wage_2_re"
   ]
  },
  {
   "cell_type": "code",
   "execution_count": 274,
   "metadata": {},
   "outputs": [
    {
     "data": {
      "text/plain": [
       "array([[10, 12, 12],\n",
       "       [ 7,  8, 15]])"
      ]
     },
     "execution_count": 274,
     "metadata": {},
     "output_type": "execute_result"
    }
   ],
   "source": [
    "wages_1 = np.concatenate( (wage_1, wage_2_re) , axis=1)\n",
    "wages_1"
   ]
  },
  {
   "cell_type": "code",
   "execution_count": 128,
   "metadata": {},
   "outputs": [
    {
     "data": {
      "text/plain": [
       "array([[1],\n",
       "       [2]])"
      ]
     },
     "execution_count": 128,
     "metadata": {},
     "output_type": "execute_result"
    }
   ],
   "source": [
    "h_2 = h.reshape(2, 1)\n",
    "h_2"
   ]
  },
  {
   "cell_type": "code",
   "execution_count": null,
   "metadata": {},
   "outputs": [],
   "source": []
  },
  {
   "cell_type": "code",
   "execution_count": 130,
   "metadata": {},
   "outputs": [
    {
     "data": {
      "text/plain": [
       "array([[5, 6],\n",
       "       [7, 8]])"
      ]
     },
     "execution_count": 130,
     "metadata": {},
     "output_type": "execute_result"
    }
   ],
   "source": [
    "g"
   ]
  },
  {
   "cell_type": "code",
   "execution_count": 131,
   "metadata": {},
   "outputs": [
    {
     "data": {
      "text/plain": [
       "array([[5, 6, 1],\n",
       "       [7, 8, 2]])"
      ]
     },
     "execution_count": 131,
     "metadata": {},
     "output_type": "execute_result"
    }
   ],
   "source": [
    "g_h = np.concatenate((g, h_2), axis = 1)\n",
    "g_h"
   ]
  },
  {
   "cell_type": "code",
   "execution_count": null,
   "metadata": {},
   "outputs": [],
   "source": [
    "h_2 = h.reshape(2, 1)\n",
    "h_2"
   ]
  },
  {
   "cell_type": "code",
   "execution_count": 132,
   "metadata": {},
   "outputs": [
    {
     "data": {
      "text/plain": [
       "array([[5, 6, 1],\n",
       "       [7, 8, 2]])"
      ]
     },
     "execution_count": 132,
     "metadata": {},
     "output_type": "execute_result"
    }
   ],
   "source": [
    "jesus = np.hstack((g,h_2))\n",
    "jesus"
   ]
  },
  {
   "cell_type": "code",
   "execution_count": 133,
   "metadata": {},
   "outputs": [],
   "source": [
    "# vstack \n",
    "x = np.array([1,1,1])\n",
    "y = np.array([2,2,2])\n",
    "z = np.array([3,3,3])"
   ]
  },
  {
   "cell_type": "code",
   "execution_count": 136,
   "metadata": {},
   "outputs": [
    {
     "data": {
      "text/plain": [
       "array([3, 3, 3])"
      ]
     },
     "execution_count": 136,
     "metadata": {},
     "output_type": "execute_result"
    }
   ],
   "source": []
  },
  {
   "cell_type": "code",
   "execution_count": 137,
   "metadata": {},
   "outputs": [
    {
     "data": {
      "text/plain": [
       "array([[1, 1, 1],\n",
       "       [2, 2, 2],\n",
       "       [3, 3, 3]])"
      ]
     },
     "execution_count": 137,
     "metadata": {},
     "output_type": "execute_result"
    }
   ],
   "source": [
    "vstacked = np.vstack( (x, y, z) )\n",
    "vstacked"
   ]
  },
  {
   "cell_type": "code",
   "execution_count": 138,
   "metadata": {},
   "outputs": [
    {
     "name": "stdout",
     "output_type": "stream",
     "text": [
      "[[1 1 1]\n",
      " [2 2 2]\n",
      " [3 3 3]]\n"
     ]
    }
   ],
   "source": [
    "vstacked = np.vstack((x,y,z))\n",
    "print(vstacked)"
   ]
  },
  {
   "cell_type": "code",
   "execution_count": 139,
   "metadata": {},
   "outputs": [
    {
     "name": "stdout",
     "output_type": "stream",
     "text": [
      "[1 1 1 2 2 2 3 3 3]\n"
     ]
    }
   ],
   "source": [
    "# hstack \n",
    "hstacked = np.hstack((x,y,z))\n",
    "print(hstacked)"
   ]
  },
  {
   "cell_type": "markdown",
   "metadata": {},
   "source": [
    "### OLS with Numpy"
   ]
  },
  {
   "cell_type": "code",
   "execution_count": null,
   "metadata": {},
   "outputs": [],
   "source": [
    "x0.reshape(-1, 1).shape"
   ]
  },
  {
   "cell_type": "code",
   "execution_count": 7,
   "metadata": {},
   "outputs": [
    {
     "data": {
      "text/plain": [
       "(200, 2)"
      ]
     },
     "execution_count": 7,
     "metadata": {},
     "output_type": "execute_result"
    }
   ],
   "source": [
    "# X data generation\n",
    "n_data = 200\n",
    "x1 = np.linspace(200, 500, n_data)\n",
    "x0 = np.ones(n_data)\n",
    "X = np.hstack(( x0.reshape(-1, 1 ) , x1.reshape(-1, 1 ) ))\n",
    "X.shape"
   ]
  },
  {
   "cell_type": "code",
   "execution_count": 13,
   "metadata": {},
   "outputs": [
    {
     "data": {
      "text/plain": [
       "(2, 1)"
      ]
     },
     "execution_count": 13,
     "metadata": {},
     "output_type": "execute_result"
    }
   ],
   "source": [
    "# select parameters\n",
    "beta = np.array([5, -2]).reshape(-1, 1 )\n",
    "beta.shape"
   ]
  },
  {
   "cell_type": "code",
   "execution_count": 15,
   "metadata": {},
   "outputs": [
    {
     "data": {
      "text/plain": [
       "(200, 1)"
      ]
     },
     "execution_count": 15,
     "metadata": {},
     "output_type": "execute_result"
    }
   ],
   "source": [
    "# y ture\n",
    "y_true = X @ beta\n",
    "y_true.shape"
   ]
  },
  {
   "cell_type": "code",
   "execution_count": 17,
   "metadata": {},
   "outputs": [
    {
     "data": {
      "text/plain": [
       "array([[-395.        ],\n",
       "       [-398.01507538],\n",
       "       [-401.03015075],\n",
       "       [-404.04522613],\n",
       "       [-407.06030151],\n",
       "       [-410.07537688],\n",
       "       [-413.09045226],\n",
       "       [-416.10552764],\n",
       "       [-419.12060302],\n",
       "       [-422.13567839],\n",
       "       [-425.15075377],\n",
       "       [-428.16582915],\n",
       "       [-431.18090452],\n",
       "       [-434.1959799 ],\n",
       "       [-437.21105528],\n",
       "       [-440.22613065],\n",
       "       [-443.24120603],\n",
       "       [-446.25628141],\n",
       "       [-449.27135678],\n",
       "       [-452.28643216],\n",
       "       [-455.30150754],\n",
       "       [-458.31658291],\n",
       "       [-461.33165829],\n",
       "       [-464.34673367],\n",
       "       [-467.36180905],\n",
       "       [-470.37688442],\n",
       "       [-473.3919598 ],\n",
       "       [-476.40703518],\n",
       "       [-479.42211055],\n",
       "       [-482.43718593],\n",
       "       [-485.45226131],\n",
       "       [-488.46733668],\n",
       "       [-491.48241206],\n",
       "       [-494.49748744],\n",
       "       [-497.51256281],\n",
       "       [-500.52763819],\n",
       "       [-503.54271357],\n",
       "       [-506.55778894],\n",
       "       [-509.57286432],\n",
       "       [-512.5879397 ],\n",
       "       [-515.60301508],\n",
       "       [-518.61809045],\n",
       "       [-521.63316583],\n",
       "       [-524.64824121],\n",
       "       [-527.66331658],\n",
       "       [-530.67839196],\n",
       "       [-533.69346734],\n",
       "       [-536.70854271],\n",
       "       [-539.72361809],\n",
       "       [-542.73869347],\n",
       "       [-545.75376884],\n",
       "       [-548.76884422],\n",
       "       [-551.7839196 ],\n",
       "       [-554.79899497],\n",
       "       [-557.81407035],\n",
       "       [-560.82914573],\n",
       "       [-563.84422111],\n",
       "       [-566.85929648],\n",
       "       [-569.87437186],\n",
       "       [-572.88944724],\n",
       "       [-575.90452261],\n",
       "       [-578.91959799],\n",
       "       [-581.93467337],\n",
       "       [-584.94974874],\n",
       "       [-587.96482412],\n",
       "       [-590.9798995 ],\n",
       "       [-593.99497487],\n",
       "       [-597.01005025],\n",
       "       [-600.02512563],\n",
       "       [-603.04020101],\n",
       "       [-606.05527638],\n",
       "       [-609.07035176],\n",
       "       [-612.08542714],\n",
       "       [-615.10050251],\n",
       "       [-618.11557789],\n",
       "       [-621.13065327],\n",
       "       [-624.14572864],\n",
       "       [-627.16080402],\n",
       "       [-630.1758794 ],\n",
       "       [-633.19095477],\n",
       "       [-636.20603015],\n",
       "       [-639.22110553],\n",
       "       [-642.2361809 ],\n",
       "       [-645.25125628],\n",
       "       [-648.26633166],\n",
       "       [-651.28140704],\n",
       "       [-654.29648241],\n",
       "       [-657.31155779],\n",
       "       [-660.32663317],\n",
       "       [-663.34170854],\n",
       "       [-666.35678392],\n",
       "       [-669.3718593 ],\n",
       "       [-672.38693467],\n",
       "       [-675.40201005],\n",
       "       [-678.41708543],\n",
       "       [-681.4321608 ],\n",
       "       [-684.44723618],\n",
       "       [-687.46231156],\n",
       "       [-690.47738693],\n",
       "       [-693.49246231],\n",
       "       [-696.50753769],\n",
       "       [-699.52261307],\n",
       "       [-702.53768844],\n",
       "       [-705.55276382],\n",
       "       [-708.5678392 ],\n",
       "       [-711.58291457],\n",
       "       [-714.59798995],\n",
       "       [-717.61306533],\n",
       "       [-720.6281407 ],\n",
       "       [-723.64321608],\n",
       "       [-726.65829146],\n",
       "       [-729.67336683],\n",
       "       [-732.68844221],\n",
       "       [-735.70351759],\n",
       "       [-738.71859296],\n",
       "       [-741.73366834],\n",
       "       [-744.74874372],\n",
       "       [-747.7638191 ],\n",
       "       [-750.77889447],\n",
       "       [-753.79396985],\n",
       "       [-756.80904523],\n",
       "       [-759.8241206 ],\n",
       "       [-762.83919598],\n",
       "       [-765.85427136],\n",
       "       [-768.86934673],\n",
       "       [-771.88442211],\n",
       "       [-774.89949749],\n",
       "       [-777.91457286],\n",
       "       [-780.92964824],\n",
       "       [-783.94472362],\n",
       "       [-786.95979899],\n",
       "       [-789.97487437],\n",
       "       [-792.98994975],\n",
       "       [-796.00502513],\n",
       "       [-799.0201005 ],\n",
       "       [-802.03517588],\n",
       "       [-805.05025126],\n",
       "       [-808.06532663],\n",
       "       [-811.08040201],\n",
       "       [-814.09547739],\n",
       "       [-817.11055276],\n",
       "       [-820.12562814],\n",
       "       [-823.14070352],\n",
       "       [-826.15577889],\n",
       "       [-829.17085427],\n",
       "       [-832.18592965],\n",
       "       [-835.20100503],\n",
       "       [-838.2160804 ],\n",
       "       [-841.23115578],\n",
       "       [-844.24623116],\n",
       "       [-847.26130653],\n",
       "       [-850.27638191],\n",
       "       [-853.29145729],\n",
       "       [-856.30653266],\n",
       "       [-859.32160804],\n",
       "       [-862.33668342],\n",
       "       [-865.35175879],\n",
       "       [-868.36683417],\n",
       "       [-871.38190955],\n",
       "       [-874.39698492],\n",
       "       [-877.4120603 ],\n",
       "       [-880.42713568],\n",
       "       [-883.44221106],\n",
       "       [-886.45728643],\n",
       "       [-889.47236181],\n",
       "       [-892.48743719],\n",
       "       [-895.50251256],\n",
       "       [-898.51758794],\n",
       "       [-901.53266332],\n",
       "       [-904.54773869],\n",
       "       [-907.56281407],\n",
       "       [-910.57788945],\n",
       "       [-913.59296482],\n",
       "       [-916.6080402 ],\n",
       "       [-919.62311558],\n",
       "       [-922.63819095],\n",
       "       [-925.65326633],\n",
       "       [-928.66834171],\n",
       "       [-931.68341709],\n",
       "       [-934.69849246],\n",
       "       [-937.71356784],\n",
       "       [-940.72864322],\n",
       "       [-943.74371859],\n",
       "       [-946.75879397],\n",
       "       [-949.77386935],\n",
       "       [-952.78894472],\n",
       "       [-955.8040201 ],\n",
       "       [-958.81909548],\n",
       "       [-961.83417085],\n",
       "       [-964.84924623],\n",
       "       [-967.86432161],\n",
       "       [-970.87939698],\n",
       "       [-973.89447236],\n",
       "       [-976.90954774],\n",
       "       [-979.92462312],\n",
       "       [-982.93969849],\n",
       "       [-985.95477387],\n",
       "       [-988.96984925],\n",
       "       [-991.98492462],\n",
       "       [-995.        ]])"
      ]
     },
     "execution_count": 17,
     "metadata": {},
     "output_type": "execute_result"
    }
   ],
   "source": [
    "y_true"
   ]
  },
  {
   "cell_type": "code",
   "execution_count": 19,
   "metadata": {},
   "outputs": [
    {
     "data": {
      "text/plain": [
       "array([[ -414.77904229],\n",
       "       [ -386.05584623],\n",
       "       [ -367.46392143],\n",
       "       [ -390.43117127],\n",
       "       [ -419.01615457],\n",
       "       [ -450.67814089],\n",
       "       [ -412.14596577],\n",
       "       [ -429.36356834],\n",
       "       [ -479.94493967],\n",
       "       [ -434.69209214],\n",
       "       [ -417.47284044],\n",
       "       [ -446.85250825],\n",
       "       [ -433.37794088],\n",
       "       [ -437.55279867],\n",
       "       [ -449.15706039],\n",
       "       [ -455.53433674],\n",
       "       [ -441.36367225],\n",
       "       [ -476.72338868],\n",
       "       [ -434.58483438],\n",
       "       [ -428.89818255],\n",
       "       [ -444.63719509],\n",
       "       [ -430.39375494],\n",
       "       [ -465.50340179],\n",
       "       [ -525.47939168],\n",
       "       [ -446.07650955],\n",
       "       [ -489.4132557 ],\n",
       "       [ -497.1602127 ],\n",
       "       [ -480.97790688],\n",
       "       [ -482.23813633],\n",
       "       [ -474.12675788],\n",
       "       [ -511.94050525],\n",
       "       [ -524.4624644 ],\n",
       "       [ -490.97110724],\n",
       "       [ -485.26705367],\n",
       "       [ -508.38378213],\n",
       "       [ -487.14565986],\n",
       "       [ -499.61060655],\n",
       "       [ -561.17986562],\n",
       "       [ -518.75337716],\n",
       "       [ -531.99127149],\n",
       "       [ -496.71297516],\n",
       "       [ -485.61420242],\n",
       "       [ -498.20688799],\n",
       "       [ -533.73296226],\n",
       "       [ -527.44044183],\n",
       "       [ -583.89884868],\n",
       "       [ -515.98404634],\n",
       "       [ -501.01414565],\n",
       "       [ -532.03051939],\n",
       "       [ -534.55927709],\n",
       "       [ -525.78179571],\n",
       "       [ -581.31456363],\n",
       "       [ -577.45311065],\n",
       "       [ -571.16522337],\n",
       "       [ -543.23371585],\n",
       "       [ -585.70536502],\n",
       "       [ -563.72415822],\n",
       "       [ -571.30138547],\n",
       "       [ -610.78436076],\n",
       "       [ -545.18050009],\n",
       "       [ -599.78584293],\n",
       "       [ -588.58915735],\n",
       "       [ -602.24646879],\n",
       "       [ -576.99058763],\n",
       "       [ -586.18620872],\n",
       "       [ -609.8546577 ],\n",
       "       [ -616.34401656],\n",
       "       [ -602.04849704],\n",
       "       [ -604.17392297],\n",
       "       [ -594.19410022],\n",
       "       [ -629.65504861],\n",
       "       [ -612.75243936],\n",
       "       [ -597.7280177 ],\n",
       "       [ -593.03083394],\n",
       "       [ -649.08938653],\n",
       "       [ -625.63512   ],\n",
       "       [ -626.5122826 ],\n",
       "       [ -622.99627351],\n",
       "       [ -623.75830259],\n",
       "       [ -630.39450921],\n",
       "       [ -647.08771789],\n",
       "       [ -625.69695941],\n",
       "       [ -639.30224338],\n",
       "       [ -676.06302023],\n",
       "       [ -623.66828847],\n",
       "       [ -652.53188057],\n",
       "       [ -715.88769879],\n",
       "       [ -638.12693573],\n",
       "       [ -638.43281917],\n",
       "       [ -654.51473946],\n",
       "       [ -693.22771485],\n",
       "       [ -703.56608631],\n",
       "       [ -667.59637782],\n",
       "       [ -717.72933333],\n",
       "       [ -669.66249423],\n",
       "       [ -660.66897976],\n",
       "       [ -662.60252847],\n",
       "       [ -681.50631609],\n",
       "       [ -672.64233075],\n",
       "       [ -686.90469675],\n",
       "       [ -679.29357726],\n",
       "       [ -679.63488137],\n",
       "       [ -667.0635944 ],\n",
       "       [ -686.61631329],\n",
       "       [ -731.62441211],\n",
       "       [ -694.35635187],\n",
       "       [ -722.06209445],\n",
       "       [ -719.55702804],\n",
       "       [ -736.2974849 ],\n",
       "       [ -733.91555389],\n",
       "       [ -716.95874973],\n",
       "       [ -720.39704525],\n",
       "       [ -729.92694818],\n",
       "       [ -737.14899614],\n",
       "       [ -759.72681095],\n",
       "       [ -731.00846501],\n",
       "       [ -741.950964  ],\n",
       "       [ -762.84775825],\n",
       "       [ -713.48561832],\n",
       "       [ -756.51407609],\n",
       "       [ -769.9520803 ],\n",
       "       [ -738.27484936],\n",
       "       [ -755.86190249],\n",
       "       [ -758.68976176],\n",
       "       [ -770.66283877],\n",
       "       [ -756.12172528],\n",
       "       [ -769.34359575],\n",
       "       [ -783.02019379],\n",
       "       [ -785.16579253],\n",
       "       [ -788.45238696],\n",
       "       [ -753.66010463],\n",
       "       [ -831.55526299],\n",
       "       [ -755.39523135],\n",
       "       [ -795.59694227],\n",
       "       [ -789.92842707],\n",
       "       [ -822.76230782],\n",
       "       [ -819.10705591],\n",
       "       [ -830.13963288],\n",
       "       [ -802.38011775],\n",
       "       [ -840.88122073],\n",
       "       [ -828.11751449],\n",
       "       [ -807.45253407],\n",
       "       [ -839.29985829],\n",
       "       [ -816.83861942],\n",
       "       [ -845.81335574],\n",
       "       [ -845.86794487],\n",
       "       [ -785.56290968],\n",
       "       [ -870.45177793],\n",
       "       [ -842.46074046],\n",
       "       [ -814.67319552],\n",
       "       [ -850.50249672],\n",
       "       [ -856.34240514],\n",
       "       [ -845.36110084],\n",
       "       [ -850.94157808],\n",
       "       [ -850.52962427],\n",
       "       [ -869.39544334],\n",
       "       [ -860.67774739],\n",
       "       [ -890.26828422],\n",
       "       [ -917.43622129],\n",
       "       [ -910.78827544],\n",
       "       [ -864.8336154 ],\n",
       "       [ -899.01865264],\n",
       "       [ -853.02717951],\n",
       "       [ -900.99971905],\n",
       "       [ -890.99750108],\n",
       "       [ -910.9103839 ],\n",
       "       [ -908.73217797],\n",
       "       [ -926.74213353],\n",
       "       [ -915.58435021],\n",
       "       [ -890.13732539],\n",
       "       [ -933.48160783],\n",
       "       [ -935.16773577],\n",
       "       [ -923.73220552],\n",
       "       [ -847.28244501],\n",
       "       [ -913.51540207],\n",
       "       [ -917.42196146],\n",
       "       [ -934.23062305],\n",
       "       [ -934.689073  ],\n",
       "       [ -950.11852347],\n",
       "       [ -913.2350267 ],\n",
       "       [ -959.34120908],\n",
       "       [ -931.35519285],\n",
       "       [ -965.44783633],\n",
       "       [ -946.87096209],\n",
       "       [ -983.6534727 ],\n",
       "       [ -911.69414791],\n",
       "       [ -950.44361715],\n",
       "       [ -929.08841105],\n",
       "       [ -945.79851462],\n",
       "       [ -940.44976891],\n",
       "       [ -994.71336718],\n",
       "       [ -949.62714693],\n",
       "       [ -975.58535365],\n",
       "       [-1006.24512081],\n",
       "       [ -996.22956143],\n",
       "       [ -988.88309302],\n",
       "       [ -983.98691393],\n",
       "       [-1012.20540053],\n",
       "       [ -989.38715636],\n",
       "       [ -995.04215728]])"
      ]
     },
     "execution_count": 19,
     "metadata": {},
     "output_type": "execute_result"
    }
   ],
   "source": [
    "y_true + (np.random.normal(0, 1, n_data) * 20).reshape(-1, 1)"
   ]
  },
  {
   "cell_type": "code",
   "execution_count": 21,
   "metadata": {},
   "outputs": [
    {
     "name": "stdout",
     "output_type": "stream",
     "text": [
      "[[-406.31222641]\n",
      " [-408.75767665]\n",
      " [-380.33502506]\n",
      " [-382.51263519]]\n"
     ]
    }
   ],
   "source": [
    "#   add random normal noise\n",
    "sigma = 20\n",
    "y_actual = y_true + (np.random.normal(0, 1, n_data) * sigma).reshape(-1, 1)\n",
    "print(y_actual[0:4, :])"
   ]
  },
  {
   "cell_type": "markdown",
   "metadata": {},
   "source": [
    "The matrix equation for the estimated linear parameters is as below:\n",
    "$${\\hat {\\beta }}=(X^{T}X)^{-1}X^{T}y.$$"
   ]
  },
  {
   "cell_type": "code",
   "execution_count": 55,
   "metadata": {},
   "outputs": [],
   "source": [
    "# estimations\n",
    "beta_estimated = np.linalg.inv(X.T @ X) @ X.T @ y_actual"
   ]
  },
  {
   "cell_type": "code",
   "execution_count": 57,
   "metadata": {},
   "outputs": [
    {
     "name": "stderr",
     "output_type": "stream",
     "text": [
      "C:\\Users\\rossa\\AppData\\Local\\Temp\\ipykernel_2500\\3055057328.py:4: UserWarning: color is redundantly defined by the 'color' keyword argument and the fmt string \"g-\" (-> color='g'). The keyword argument will take precedence.\n",
      "  plt.plot(x1, y_true, 'g-', c = 'black')\n"
     ]
    },
    {
     "data": {
      "text/plain": [
       "[<matplotlib.lines.Line2D at 0x14fe5fc4860>]"
      ]
     },
     "execution_count": 57,
     "metadata": {},
     "output_type": "execute_result"
    },
    {
     "data": {
      "image/png": "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",
      "text/plain": [
       "<Figure size 640x480 with 1 Axes>"
      ]
     },
     "metadata": {},
     "output_type": "display_data"
    }
   ],
   "source": [
    "import matplotlib.pyplot as plt\n",
    "\n",
    "plt.plot(x1, y_actual, 'o')\n",
    "plt.plot(x1, y_true, 'g-', c = 'black')"
   ]
  },
  {
   "cell_type": "markdown",
   "metadata": {},
   "source": [
    "Calculate the sum of squared residual errors\n",
    "$$\n",
    "RSS=y^{T}y-y^{T}X(X^{T}X)^{{-1}}X^{T}y\n",
    "$$"
   ]
  },
  {
   "cell_type": "code",
   "execution_count": 30,
   "metadata": {},
   "outputs": [
    {
     "data": {
      "text/plain": [
       "array([[ -406.31222641],\n",
       "       [ -408.75767665],\n",
       "       [ -380.33502506],\n",
       "       [ -382.51263519],\n",
       "       [ -407.5153007 ],\n",
       "       [ -412.17830303],\n",
       "       [ -396.84922224],\n",
       "       [ -421.81264633],\n",
       "       [ -411.95815258],\n",
       "       [ -411.83168779],\n",
       "       [ -393.20383485],\n",
       "       [ -411.36922055],\n",
       "       [ -411.98102428],\n",
       "       [ -435.30712827],\n",
       "       [ -420.30692865],\n",
       "       [ -449.92148923],\n",
       "       [ -456.32735629],\n",
       "       [ -449.40426253],\n",
       "       [ -458.13945933],\n",
       "       [ -477.4284168 ],\n",
       "       [ -417.13590181],\n",
       "       [ -446.7147398 ],\n",
       "       [ -458.57537329],\n",
       "       [ -456.60220998],\n",
       "       [ -495.49451266],\n",
       "       [ -475.2935021 ],\n",
       "       [ -478.55385857],\n",
       "       [ -505.17199655],\n",
       "       [ -517.63649729],\n",
       "       [ -497.22470687],\n",
       "       [ -471.38037753],\n",
       "       [ -507.79477493],\n",
       "       [ -501.43572165],\n",
       "       [ -494.51923376],\n",
       "       [ -482.96636154],\n",
       "       [ -528.59943923],\n",
       "       [ -503.1108688 ],\n",
       "       [ -496.29894822],\n",
       "       [ -494.41882963],\n",
       "       [ -502.2822992 ],\n",
       "       [ -529.37395549],\n",
       "       [ -515.30719348],\n",
       "       [ -485.40833219],\n",
       "       [ -515.94973559],\n",
       "       [ -540.95681676],\n",
       "       [ -547.59986921],\n",
       "       [ -504.32365313],\n",
       "       [ -529.38589202],\n",
       "       [ -581.45677743],\n",
       "       [ -558.82263494],\n",
       "       [ -562.1435988 ],\n",
       "       [ -532.75947177],\n",
       "       [ -561.68464572],\n",
       "       [ -552.89549673],\n",
       "       [ -571.48636291],\n",
       "       [ -531.0300455 ],\n",
       "       [ -552.1024471 ],\n",
       "       [ -578.71577563],\n",
       "       [ -568.87921238],\n",
       "       [ -563.7775457 ],\n",
       "       [ -576.33371364],\n",
       "       [ -563.99227021],\n",
       "       [ -598.48207511],\n",
       "       [ -567.45610076],\n",
       "       [ -590.4571832 ],\n",
       "       [ -555.82503107],\n",
       "       [ -567.01326706],\n",
       "       [ -627.82592078],\n",
       "       [ -565.05334671],\n",
       "       [ -615.01415297],\n",
       "       [ -609.60845252],\n",
       "       [ -616.55131318],\n",
       "       [ -605.18382775],\n",
       "       [ -587.66133992],\n",
       "       [ -607.86157253],\n",
       "       [ -633.83048078],\n",
       "       [ -634.32188339],\n",
       "       [ -634.74386903],\n",
       "       [ -642.02898428],\n",
       "       [ -630.87469076],\n",
       "       [ -620.17388492],\n",
       "       [ -646.20327188],\n",
       "       [ -621.25874399],\n",
       "       [ -624.35756467],\n",
       "       [ -664.80056496],\n",
       "       [ -645.67263099],\n",
       "       [ -671.0096904 ],\n",
       "       [ -660.92939992],\n",
       "       [ -676.67811915],\n",
       "       [ -658.76285137],\n",
       "       [ -681.46796537],\n",
       "       [ -639.91885683],\n",
       "       [ -699.3925982 ],\n",
       "       [ -667.37880356],\n",
       "       [ -725.15099743],\n",
       "       [ -679.85515407],\n",
       "       [ -722.15096284],\n",
       "       [ -725.1433186 ],\n",
       "       [ -735.52814047],\n",
       "       [ -664.61023622],\n",
       "       [ -715.44501911],\n",
       "       [ -686.504385  ],\n",
       "       [ -721.58433441],\n",
       "       [ -684.86670718],\n",
       "       [ -710.70612455],\n",
       "       [ -693.81838531],\n",
       "       [ -736.32876324],\n",
       "       [ -729.74462637],\n",
       "       [ -735.61743604],\n",
       "       [ -714.08239867],\n",
       "       [ -718.8756122 ],\n",
       "       [ -744.06343548],\n",
       "       [ -731.77861246],\n",
       "       [ -729.65036558],\n",
       "       [ -744.92154641],\n",
       "       [ -760.49885212],\n",
       "       [ -753.47204893],\n",
       "       [ -751.60357829],\n",
       "       [ -743.47723582],\n",
       "       [ -756.45921816],\n",
       "       [ -757.83738244],\n",
       "       [ -773.16747565],\n",
       "       [ -728.20455946],\n",
       "       [ -753.14366016],\n",
       "       [ -782.47266275],\n",
       "       [ -738.9039079 ],\n",
       "       [ -812.01262319],\n",
       "       [ -801.78460706],\n",
       "       [ -786.58299028],\n",
       "       [ -809.33476279],\n",
       "       [ -793.61621536],\n",
       "       [ -778.46477796],\n",
       "       [ -798.63289809],\n",
       "       [ -778.36322265],\n",
       "       [ -827.72428133],\n",
       "       [ -780.04084131],\n",
       "       [ -751.62762452],\n",
       "       [ -832.15080466],\n",
       "       [ -775.31298846],\n",
       "       [ -829.08674577],\n",
       "       [ -829.93110411],\n",
       "       [ -808.98033519],\n",
       "       [ -826.28661487],\n",
       "       [ -837.25425802],\n",
       "       [ -826.82292137],\n",
       "       [ -835.64213858],\n",
       "       [ -821.02049215],\n",
       "       [ -838.1765574 ],\n",
       "       [ -846.91838652],\n",
       "       [ -824.04946328],\n",
       "       [ -851.87041486],\n",
       "       [ -817.64087173],\n",
       "       [ -848.06589153],\n",
       "       [ -865.73426664],\n",
       "       [ -850.47439206],\n",
       "       [ -858.73951238],\n",
       "       [ -874.29409662],\n",
       "       [ -877.45364297],\n",
       "       [ -889.20481935],\n",
       "       [ -869.9485386 ],\n",
       "       [ -917.09382651],\n",
       "       [ -886.17737161],\n",
       "       [ -895.79890109],\n",
       "       [ -876.11265289],\n",
       "       [ -918.92539391],\n",
       "       [ -880.8505558 ],\n",
       "       [ -875.36390118],\n",
       "       [ -887.71384115],\n",
       "       [ -897.93742872],\n",
       "       [ -890.42757244],\n",
       "       [ -912.94173041],\n",
       "       [ -907.13589076],\n",
       "       [ -919.07917641],\n",
       "       [ -956.88315219],\n",
       "       [ -942.27080605],\n",
       "       [ -902.50874445],\n",
       "       [ -939.03362796],\n",
       "       [ -924.79077903],\n",
       "       [ -935.53421666],\n",
       "       [ -943.51950724],\n",
       "       [ -952.71077323],\n",
       "       [ -947.65787644],\n",
       "       [ -919.1899273 ],\n",
       "       [ -954.86045781],\n",
       "       [ -966.05159145],\n",
       "       [ -946.28196376],\n",
       "       [ -965.14196381],\n",
       "       [ -979.63938809],\n",
       "       [ -943.88547656],\n",
       "       [ -997.95256645],\n",
       "       [ -977.8512131 ],\n",
       "       [ -983.25161897],\n",
       "       [-1001.04705541],\n",
       "       [ -962.66612209],\n",
       "       [ -993.93243247],\n",
       "       [ -996.79350722],\n",
       "       [ -957.78753456],\n",
       "       [ -977.34252376],\n",
       "       [ -994.41539765],\n",
       "       [ -964.64750093]])"
      ]
     },
     "execution_count": 30,
     "metadata": {},
     "output_type": "execute_result"
    }
   ],
   "source": [
    "y_actual"
   ]
  },
  {
   "cell_type": "code",
   "execution_count": 59,
   "metadata": {},
   "outputs": [],
   "source": [
    "RSS = ( y_actual.T @ y_actual - y_actual.T @ X @ np.linalg.inv(X.T @ X) @ X.T @ y_actual )"
   ]
  },
  {
   "cell_type": "markdown",
   "metadata": {},
   "source": [
    "Calculated the Total Sum of Squares of the spread of the actual (noisy) values around their mean\n",
    "$$\n",
    "TSS=(y-{\\bar  y})^{T}(y-{\\bar  y})=y^{T}y-2y^{T}{\\bar  y}+{\\bar  y}^{T}{\\bar  y}\n",
    "$$"
   ]
  },
  {
   "cell_type": "code",
   "execution_count": 62,
   "metadata": {},
   "outputs": [
    {
     "data": {
      "text/plain": [
       "array([[6216880.45819409]])"
      ]
     },
     "execution_count": 62,
     "metadata": {},
     "output_type": "execute_result"
    }
   ],
   "source": [
    "y_mean = ( np.ones(n_data) * np.mean(y_actual) ).reshape( -1 , 1 )\n",
    "TSS = (y_actual - y_mean).T @ (y_actual - y_mean)\n",
    "TSS"
   ]
  },
  {
   "cell_type": "code",
   "execution_count": 64,
   "metadata": {},
   "outputs": [],
   "source": [
    "# get predictions\n",
    "y_pred = X @ beta_estimated"
   ]
  },
  {
   "cell_type": "markdown",
   "metadata": {},
   "source": [
    "Calculate the Sum of Squares of the spread of the predictions around their mean.\n",
    "$$\n",
    "ESS=({\\hat  y}-{\\bar  y})^{T}({\\hat  y}-{\\bar  y})={\\hat  y}^{T}{\\hat  y}-2{\\hat  y}^{T}{\\bar  y}+{\\bar  y}^{T}{\\bar  y}\n",
    "$$"
   ]
  },
  {
   "cell_type": "code",
   "execution_count": 67,
   "metadata": {},
   "outputs": [
    {
     "data": {
      "text/plain": [
       "array([[6148754.68234322]])"
      ]
     },
     "execution_count": 67,
     "metadata": {},
     "output_type": "execute_result"
    }
   ],
   "source": [
    "ESS = (y_pred - y_mean).T @ (y_pred - y_mean)\n",
    "\n",
    "ESS"
   ]
  },
  {
   "cell_type": "code",
   "execution_count": 69,
   "metadata": {},
   "outputs": [
    {
     "data": {
      "text/plain": [
       "(array([[6216880.45819409]]), array([[6216880.45819383]]))"
      ]
     },
     "execution_count": 69,
     "metadata": {},
     "output_type": "execute_result"
    }
   ],
   "source": [
    "TSS, ESS + RSS"
   ]
  },
  {
   "cell_type": "markdown",
   "metadata": {},
   "source": [
    "Get $R^2$\n",
    "$$\n",
    "1 - RSS / TSS\n",
    "$$"
   ]
  },
  {
   "cell_type": "code",
   "execution_count": null,
   "metadata": {},
   "outputs": [],
   "source": [
    "1 - RSS / TSS"
   ]
  },
  {
   "cell_type": "markdown",
   "metadata": {},
   "source": [
    "###  Standard error of regression\n",
    "Calculate the standard error of the regression. We divide by `(n-2)`, because the Expectation of the sum of squares is `(n-2)*sigma^2`."
   ]
  },
  {
   "cell_type": "code",
   "execution_count": null,
   "metadata": {},
   "outputs": [],
   "source": [
    "sr2 = ( (1 / (n_data - 2)) * (y_pred - y_actual).T  @ (y_pred - y_actual))\n",
    "sr = np.sqrt(sr2)\n",
    "sr"
   ]
  },
  {
   "cell_type": "markdown",
   "metadata": {},
   "source": [
    "### Get variance and covariance Matrix\n",
    "In order to get the standard errors for our linear parameters, we use the matrix formula below:\n",
    "$$\n",
    "Var(β^)=σ^2(X′X)^{-1}\n",
    "$$"
   ]
  },
  {
   "cell_type": "code",
   "execution_count": null,
   "metadata": {},
   "outputs": [],
   "source": [
    "var_beta = sr2 * np.linalg.inv(X.T @ X)\n",
    "var_beta"
   ]
  },
  {
   "cell_type": "code",
   "execution_count": null,
   "metadata": {},
   "outputs": [],
   "source": [
    "print(\n",
    "    f'Std Error for b0 {np.sqrt(var_beta[0, 0])}, \\nStd Error for b1 {np.sqrt(var_beta[1, 1])}'\n",
    ")"
   ]
  },
  {
   "cell_type": "code",
   "execution_count": null,
   "metadata": {},
   "outputs": [],
   "source": [
    "pwd"
   ]
  },
  {
   "cell_type": "code",
   "execution_count": null,
   "metadata": {},
   "outputs": [],
   "source": []
  }
 ],
 "metadata": {
  "hide_input": false,
  "kernelspec": {
   "display_name": "Python 3 (ipykernel)",
   "language": "python",
   "name": "python3"
  },
  "language_info": {
   "codemirror_mode": {
    "name": "ipython",
    "version": 3
   },
   "file_extension": ".py",
   "mimetype": "text/x-python",
   "name": "python",
   "nbconvert_exporter": "python",
   "pygments_lexer": "ipython3",
<<<<<<< Updated upstream
   "version": "3.11.5"
=======
   "version": "3.12.7"
>>>>>>> Stashed changes
  },
  "vscode": {
   "interpreter": {
    "hash": "b247a10ecbbbecc6838db24cf0cac95fbd318f0e8104436862772c94dc5e78c9"
   }
  }
 },
 "nbformat": 4,
 "nbformat_minor": 4
}
