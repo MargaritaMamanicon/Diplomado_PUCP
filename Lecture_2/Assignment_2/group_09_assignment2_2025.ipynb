{
 "cells": [
  {
   "cell_type": "code",
   "execution_count": null,
   "id": "35c75eb5-8726-4cb2-85d4-82b8409593f0",
   "metadata": {},
   "outputs": [],
   "source": [
    "# Part 1 – Pandas DataFrames\n",
    "\n",
    "# For this section, we will work with the National Household Survey (ENAHO) dataset extracted from INEI.\n",
    "# In this shared drive folder, you will find:\n",
    "\n",
    "# A reference questionnaire (you can review it to identify questions of interest).\n",
    "# Three datasets corresponding to the following modules: Housing (200), Education (300), and Labor (500). (Pedro)\n",
    "# Download files in your local."
   ]
  },
  {
   "cell_type": "code",
   "execution_count": null,
   "id": "3e2419e1-9799-49c3-a2c9-dcb6fd32764e",
   "metadata": {},
   "outputs": [],
   "source": [
    "# 1. Set your working directory and import the dataset Enaho01A-2023-300.csv using Pandas. (Pedro)\n",
    "# Note: Consider the file encoding (UTF-8 or ISO-8859-10).\n",
    "# Example: df = pd.read_csv(\"datos.csv\", encoding=\"ISO-8859-10\")\n",
    "\n",
    "# Read and display the first 5 rows.\n",
    "# Convert the column names into a list and print it.\n",
    "# Check the data types of the DataFrame.\n",
    "# Select a subsample containing the variables ['CONGLOME', 'VIVIENDA', 'HOGAR', 'CODPERSO'] and between 3–5 additional variables of your interest."
   ]
  },
  {
   "cell_type": "code",
   "execution_count": null,
   "id": "33ccc3f1-873c-4a0d-bd67-9bc52b284118",
   "metadata": {},
   "outputs": [],
   "source": [
    "# 2. Data Manipulation (Data Cleaning): (Pedro)\n",
    "# Explore the DataFrame using summary functions.\n",
    "# Identify if there are missing values.\n",
    "# If they exist, remove them."
   ]
  },
  {
   "cell_type": "code",
   "execution_count": null,
   "id": "a7556ee0-0cdd-4fa5-8730-f0700f75f13e",
   "metadata": {},
   "outputs": [],
   "source": [
    "# 3. Import a second dataset (choose between Enaho01A-2023-200.csv or Enaho01A-2023-500.csv). (Rossana)\n",
    "# Display the first 5 rows.\n",
    "# Convert the column names into a list and print it.\n",
    "# Check the data types.\n",
    "# Select a subsample containing the variables ['CONGLOME', 'VIVIENDA', 'HOGAR', 'CODPERSO'] and between 3–5 additional variables of your interest.\n",
    "# Perform the following modifications:\n",
    "# A. Change the data type of a variable (e.g., from text to numeric).\n",
    "# B. Modify some values in a specific column."
   ]
  },
  {
   "cell_type": "code",
   "execution_count": null,
   "id": "65069849-8033-4ac7-bd02-2103ee944f30",
   "metadata": {},
   "outputs": [],
   "source": [
    "# 4. Merging Datasets: [2 pts] (Rossana)\n",
    "# Identify the common columns between the two datasets (from questions 16 and 18).\n",
    "# Verify whether the values match in both datasets. If not, correct the mismatched values to ensure a proper merge.\n",
    "# Recommendation: Use the following as common columns:\n",
    "# common_columns = ['CONGLOME', 'VIVIENDA', 'HOGAR', 'CODPERSO']\n",
    "# in pd.merge(..., on=common_columns, how=...).\n",
    "\n",
    "# Perform the merge.\n",
    "# Display the first 5 rows of the resulting DataFrame."
   ]
  },
  {
   "cell_type": "code",
   "execution_count": null,
   "id": "b8c00446-419e-4e3c-a1eb-7f1186a1c2c1",
   "metadata": {},
   "outputs": [],
   "source": [
    "# 5. In the resulting DataFrame: (Rossana)\n",
    "# Group the data by a variable of your choice using groupby().\n",
    "# Calculate a relevant statistical indicator, for example: the average income per category."
   ]
  },
  {
   "cell_type": "code",
   "execution_count": null,
   "id": "d19b63e3-17a5-42e0-a996-22c7f1ba90b8",
   "metadata": {},
   "outputs": [],
   "source": [
    "# Part 2 – If conditions"
   ]
  },
  {
   "cell_type": "code",
   "execution_count": null,
   "id": "2b2d4c39-847e-484b-8f52-564c0c9a3f05",
   "metadata": {},
   "outputs": [],
   "source": [
    "# 6. Basic If Condition (Bruno)\n",
    "# Write a Python function that checks if a given number is positive.\n",
    "# If the number is greater than zero, return \"The number X is positive.\".\n",
    "# Otherwise, return \"The number X is not positive.\"."
   ]
  },
  {
   "cell_type": "code",
   "execution_count": null,
   "id": "e211daf0-d288-46f9-89a8-c411468b9e79",
   "metadata": {},
   "outputs": [],
   "source": [
    "# 7. If Condition with Multiple Expressions (Bruno)\n",
    "# Create a program that checks the temperature (in Celsius) and returns a message depending on the value:\n",
    "# If the temperature is below 0, return \"It is freezing.\".\n",
    "# If the temperature is between 0 and 20, return \"It is cold.\".\n",
    "# If the temperature is between 21 and 30, return \"It is warm.\".\n",
    "# If the temperature is greater than 30, return \"It is hot.\"."
   ]
  },
  {
   "cell_type": "code",
   "execution_count": null,
   "id": "8e731b67-8cf3-4e3f-a3b1-97eb1d44fb46",
   "metadata": {},
   "outputs": [],
   "source": [
    "# 8. Logical Operators [2 pts] (Bruno)\n",
    "# Write a function that determines if a person is eligible for a scholarship based on these conditions:\n",
    "# The person must have a GPA greater than 3.5 AND\n",
    "# Either their extracurricular activities are \"Yes\" OR they have community service hours greater than 50.\n",
    "# The function should return:\n",
    "\n",
    "# \"Eligible for scholarship.\" if conditions are met.\n",
    "# \"Not eligible for scholarship.\" otherwise."
   ]
  },
  {
   "cell_type": "code",
   "execution_count": null,
   "id": "54df8004-fe41-4c43-9271-5314a4a5c7b5",
   "metadata": {},
   "outputs": [],
   "source": [
    "# 9. Python Identity Operators (Ulises)\n",
    "# Create two lists:\n",
    "# list1 = [1, 2, 3]\n",
    "# list2 = [1, 2, 3]\n",
    "# list3 = list1 \n",
    "# Check with identity operators:\n",
    "\n",
    "# list1 is list2\n",
    "# list1 is list3\n",
    "# list1 == list2 \n",
    "# Explain the difference in the results for each comparison."
   ]
  },
  {
   "cell_type": "code",
   "execution_count": null,
   "id": "720163f4-8e0c-48e5-9d87-584b2679c84c",
   "metadata": {},
   "outputs": [],
   "source": [
    "# 10. Nested If Statement [2 pts] (Ulises)\n",
    "# Write a function that takes a student's score and determines the grade:\n",
    "\n",
    "# If the score is greater than or equal to 90, return \"A\".\n",
    "# If the score is between 80 and 89:\n",
    "# Check if the score is exactly 85, then return \"B+\".\n",
    "# Otherwise, return \"B\".\n",
    "# If the score is between 70 and 79, return \"C\".\n",
    "# Otherwise, return \"Fail\"."
   ]
  },
  {
   "cell_type": "code",
   "execution_count": null,
   "id": "52c41ffe-f724-49ce-9255-1d420d9d3952",
   "metadata": {},
   "outputs": [],
   "source": [
    "# Part 3 – For loops"
   ]
  },
  {
   "cell_type": "code",
   "execution_count": null,
   "id": "de4787ed-daa8-42dc-a11d-09c4abd2808c",
   "metadata": {},
   "outputs": [],
   "source": [
    "# 11. For Loop in NumPy (Ulises)\n",
    "# Write a for loop using NumPy to iterate through an array of numbers [10, 20, 30, 40, 50] and print each value multiplied by 2.\n",
    "\n",
    "# Re-question: How would you modify the loop so that it stores the results in a new NumPy array instead of just printing them?"
   ]
  },
  {
   "cell_type": "code",
   "execution_count": null,
   "id": "ef0ce6d9-ef57-4ccc-a4fb-b92e3876465a",
   "metadata": {},
   "outputs": [],
   "source": [
    "# 12. For Loop in List (Pedro)\n",
    "# Create a list of words: [\"python\", \"loop\", \"list\", \"iteration\"].\n",
    "# Write a for loop to print the length of each word.\n",
    "\n",
    "# Re-question: How can you rewrite the same loop using a list comprehension?"
   ]
  },
  {
   "cell_type": "code",
   "execution_count": null,
   "id": "66b75463-35dd-47a0-ba8f-9cde66a7570c",
   "metadata": {},
   "outputs": [],
   "source": [
    "# 13. For Loop in Dictionary (Rossana)\n",
    "# Given a dictionary of student scores:\n",
    "# {\"Alice\": 85, \"Bob\": 92, \"Charlie\": 78, \"Diana\": 88}\n",
    "\n",
    "# Write a for loop to print each student's name along with their score.\n",
    "\n",
    "# Re-question: Modify the loop so that it only prints the names of students who scored above 80."
   ]
  },
  {
   "cell_type": "code",
   "execution_count": null,
   "id": "ee780af1-b7b8-45c2-82b1-1e1d3a2e3dd6",
   "metadata": {},
   "outputs": [],
   "source": [
    "# 14. For Loop using Range (Bruno)\n",
    "# Write a for loop using range() to print all even numbers between 1 and 20.\n",
    "\n",
    "# Re-question: How would you change the loop to also calculate the sum of these even numbers while iterating?"
   ]
  },
  {
   "cell_type": "code",
   "execution_count": null,
   "id": "582a7b5b-4297-4681-89e1-a118e4d38dc6",
   "metadata": {},
   "outputs": [],
   "source": [
    "# 15. Iterations over Pandas (ENAHO dataset) [2 pts] (Ulises)\n",
    "# Suppose you are analyzing the National Household Survey (ENAHO) dataset, specifically the file ENAHO01A-2023-400.\n",
    "# The question of interest is P41601: “¿Cuánto fue el monto total por la compra o servicio?”.\n",
    "\n",
    "# Write a for loop that iterates over the column P41601 and prints values greater than 5000.\n",
    "\n",
    "# Re-question: How would you optimize this task using pandas vectorized operations (e.g., boolean indexing) instead of a for loop, to make \n",
    "# the analysis faster and more efficient?"
   ]
  }
 ],
 "metadata": {
  "kernelspec": {
   "display_name": "Python 3 (ipykernel)",
   "language": "python",
   "name": "python3"
  },
  "language_info": {
   "codemirror_mode": {
    "name": "ipython",
    "version": 3
   },
   "file_extension": ".py",
   "mimetype": "text/x-python",
   "name": "python",
   "nbconvert_exporter": "python",
   "pygments_lexer": "ipython3",
   "version": "3.13.5"
  }
 },
 "nbformat": 4,
 "nbformat_minor": 5
}
