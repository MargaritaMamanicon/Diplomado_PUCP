{
 "cells": [
  {
   "cell_type": "code",
   "execution_count": 2,
   "id": "351f100b-d90d-4a51-b127-8308a8122639",
   "metadata": {},
   "outputs": [
    {
     "name": "stdout",
     "output_type": "stream",
     "text": [
      "A\n",
      "B+\n",
      "B\n",
      "C\n",
      "Fail\n"
     ]
    }
   ],
   "source": [
    "### Parte 2 - If conditions \n",
    "## Pregunta 10: Nested If Statement\n",
    "\n",
    "def nota(puntaje): # definiendo la función\n",
    "    if puntaje >= 90: # colocando el if statement\n",
    "        return \"A\"\n",
    "    elif 80 <= puntaje <= 89:\n",
    "        if puntaje == 85:\n",
    "            return \"B+\"\n",
    "        else:\n",
    "            return \"B\"\n",
    "    elif 70 <= puntaje <= 79:\n",
    "        return \"C\"\n",
    "    else:\n",
    "        return \"Fail\"\n",
    "\n",
    "\n",
    "# ejemplos de prueba\n",
    "print(nota(92))  # A\n",
    "print(nota(85))  # B+\n",
    "print(nota(82))  # B\n",
    "print(nota(75))  # C\n",
    "print(nota(60))  # Fail\n"
   ]
  },
  {
   "cell_type": "code",
   "execution_count": 5,
   "id": "e124d788-546c-44a0-8584-ab074383e3be",
   "metadata": {},
   "outputs": [
    {
     "name": "stdout",
     "output_type": "stream",
     "text": [
      "20\n",
      "40\n",
      "60\n",
      "80\n",
      "100\n"
     ]
    }
   ],
   "source": [
    "## Pregunta 11: For Loop en Numpy\n",
    "import numpy as np # se importa numpy\n",
    "\n",
    "array = np.array([10, 20, 30, 40, 50]) # se dispone del array\n",
    "\n",
    "for val in array: #se multiplica por 2 al print\n",
    "    print(val * 2)"
   ]
  },
  {
   "cell_type": "code",
   "execution_count": 6,
   "id": "09fe5351-7e93-4769-89d8-c0ae0f06d07f",
   "metadata": {},
   "outputs": [
    {
     "name": "stdout",
     "output_type": "stream",
     "text": [
      "[ 20  40  60  80 100]\n"
     ]
    }
   ],
   "source": [
    "## Repregunta: método sin multiplicar desde el print\n",
    "array = np.array([10, 20, 30, 40, 50]) \n",
    "results = []\n",
    "\n",
    "for val in array:\n",
    "    results.append(val * 2)\n",
    "\n",
    "new_array = np.array(results)\n",
    "print(new_array)\n"
   ]
  },
  {
   "cell_type": "code",
   "execution_count": 7,
   "id": "f3bee866-5d47-4497-8019-59091ece33e1",
   "metadata": {},
   "outputs": [
    {
     "name": "stdout",
     "output_type": "stream",
     "text": [
      "6\n",
      "4\n",
      "4\n",
      "9\n"
     ]
    }
   ],
   "source": [
    "## Pregunta 12: For Loop en lista\n",
    "\n",
    "words = [\"python\", \"loop\", \"list\", \"iteration\"] # se crea lista\n",
    "\n",
    "for word in words:\n",
    "    print(len(word)) # se hace for loop para la longitud de cada palabra\n"
   ]
  },
  {
   "cell_type": "code",
   "execution_count": 8,
   "id": "c967f20c-20e5-42d0-99ce-0467944e5dd4",
   "metadata": {},
   "outputs": [
    {
     "name": "stdout",
     "output_type": "stream",
     "text": [
      "[6, 4, 4, 9]\n"
     ]
    }
   ],
   "source": [
    "## Repregunta: usando comprensión de listas para generar una lista con las longitudes\n",
    "\n",
    "words = [\"python\", \"loop\", \"list\", \"iteration\"]\n",
    "\n",
    "longitudes = [len(word) for word in words]\n",
    "print(longitudes)"
   ]
  }
 ],
 "metadata": {
  "kernelspec": {
   "display_name": "Python [conda env:base] *",
   "language": "python",
   "name": "conda-base-py"
  },
  "language_info": {
   "codemirror_mode": {
    "name": "ipython",
    "version": 3
   },
   "file_extension": ".py",
   "mimetype": "text/x-python",
   "name": "python",
   "nbconvert_exporter": "python",
   "pygments_lexer": "ipython3",
   "version": "3.11.5"
  }
 },
 "nbformat": 4,
 "nbformat_minor": 5
}
