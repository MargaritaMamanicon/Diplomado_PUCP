{
 "cells": [
  {
   "cell_type": "markdown",
   "id": "2a0a6168",
   "metadata": {},
   "source": [
    "# Tarea 2 \n",
    "## Ejercicios con loops 11-15\n",
    "\n",
    "### Indicaciones\n",
    "\n",
    "#### Ejercicio 11:\n",
    "For **Loop in NumPy**\n",
    "Write a for loop using NumPy to iterate through an array of numbers [10, 20, 30, 40, 50] and print each value multiplied by 2."
   ]
  },
  {
   "cell_type": "code",
   "execution_count": 1,
   "id": "92b85b07",
   "metadata": {},
   "outputs": [],
   "source": [
    "import numpy as np"
   ]
  },
  {
   "cell_type": "code",
   "execution_count": 2,
   "id": "e2f219d3",
   "metadata": {},
   "outputs": [],
   "source": [
    "sequence = [ 10, 20, 30, 40, 50 ]"
   ]
  },
  {
   "cell_type": "code",
   "execution_count": 3,
   "id": "f3ed777f",
   "metadata": {},
   "outputs": [
    {
     "name": "stdout",
     "output_type": "stream",
     "text": [
      "20\n",
      "40\n",
      "60\n",
      "80\n",
      "100\n"
     ]
    }
   ],
   "source": [
    "for i in sequence:\n",
    "    print(i*2)"
   ]
  },
  {
   "cell_type": "markdown",
   "id": "15e7616f",
   "metadata": {},
   "source": [
    "#### Ejercicio 12:\n",
    "\n",
    "For **Loop in List**\n",
    "Create a list of words: [\"python\", \"loop\", \"list\", \"iteration\"].\n",
    "Write a for loop to print the length of each word.\n",
    "\n",
    "Re-question: How can you rewrite the same loop using a list comprehension?"
   ]
  },
  {
   "cell_type": "code",
   "execution_count": 14,
   "id": "02168a59",
   "metadata": {},
   "outputs": [],
   "source": [
    "lista = [\"python\", \"loop\", \"list\", \"iteration\"]"
   ]
  },
  {
   "cell_type": "code",
   "execution_count": 15,
   "id": "9eaa68e4",
   "metadata": {},
   "outputs": [
    {
     "name": "stdout",
     "output_type": "stream",
     "text": [
      "6\n",
      "4\n",
      "4\n",
      "9\n"
     ]
    }
   ],
   "source": [
    "for i in lista:\n",
    "    print(len(i))"
   ]
  },
  {
   "cell_type": "code",
   "execution_count": 16,
   "id": "fd891637",
   "metadata": {},
   "outputs": [
    {
     "name": "stdout",
     "output_type": "stream",
     "text": [
      "[6, 4, 4, 9]\n"
     ]
    }
   ],
   "source": [
    "# Re-question: How can you rewrite the same loop using a list comprehension?\n",
    "\n",
    "print([len(i) for i in lista])"
   ]
  },
  {
   "cell_type": "markdown",
   "id": "480c8860",
   "metadata": {},
   "source": [
    "#### Ejercicio 13:\n",
    "\n",
    "For **Loop in Dictionary**\n",
    "Given a dictionary of student scores:\n",
    "{\"Alice\": 85, \"Bob\": 92, \"Charlie\": 78, \"Diana\": 88}\n",
    "\n",
    "Write a for loop to print each student's name along with their score.\n",
    "\n",
    "Re-question: Modify the loop so that it only prints the names of students who scored above 80."
   ]
  },
  {
   "cell_type": "code",
   "execution_count": 17,
   "id": "c7de3c83",
   "metadata": {},
   "outputs": [],
   "source": [
    "students_scores = { \"students\" : ['Alice', 'Bob', 'Charlie', 'Diana'] , \n",
    "           \"scores\" : [85, 92, 78, 88] }"
   ]
  },
  {
   "cell_type": "code",
   "execution_count": 18,
   "id": "30e4f0a2",
   "metadata": {},
   "outputs": [
    {
     "data": {
      "text/plain": [
       "{'students': ['Alice', 'Bob', 'Charlie', 'Diana'], 'scores': [85, 92, 78, 88]}"
      ]
     },
     "execution_count": 18,
     "metadata": {},
     "output_type": "execute_result"
    }
   ],
   "source": [
    "students_scores"
   ]
  },
  {
   "cell_type": "code",
   "execution_count": 19,
   "id": "49462dbe",
   "metadata": {},
   "outputs": [
    {
     "name": "stdout",
     "output_type": "stream",
     "text": [
      "Alice 85\n",
      "Bob 92\n",
      "Charlie 78\n",
      "Diana 88\n"
     ]
    }
   ],
   "source": [
    "for i in range(len(students_scores[\"students\"])):\n",
    "    print(students_scores[\"students\"][i], students_scores[\"scores\"][i])"
   ]
  },
  {
   "cell_type": "code",
   "execution_count": 20,
   "id": "5026a31c",
   "metadata": {},
   "outputs": [
    {
     "name": "stdout",
     "output_type": "stream",
     "text": [
      "Alice\n",
      "Bob\n",
      "Diana\n"
     ]
    }
   ],
   "source": [
    "# Re-question: Modify the loop so that it only prints the names of students who scored above 80.\n",
    "\n",
    "for i in range(len(students_scores[\"students\"])):\n",
    "    if students_scores[\"scores\"][i] > 80:\n",
    "        print(students_scores[\"students\"][i])"
   ]
  },
  {
   "cell_type": "markdown",
   "id": "1371dbdb",
   "metadata": {},
   "source": [
    "#### Ejercicio 14:\n",
    "For **Loop using Range**\n",
    "Write a for loop using range() to print all even numbers between 1 and 20.\n",
    "\n",
    "Re-question: How would you change the loop to also calculate the sum of these even numbers while iterating?"
   ]
  },
  {
   "cell_type": "code",
   "execution_count": 23,
   "id": "e90609d5",
   "metadata": {},
   "outputs": [
    {
     "name": "stdout",
     "output_type": "stream",
     "text": [
      "2\n",
      "4\n",
      "6\n",
      "8\n",
      "10\n",
      "12\n",
      "14\n",
      "16\n",
      "18\n",
      "20\n"
     ]
    }
   ],
   "source": [
    "for i in range(2, 21, 2):\n",
    "    print(i)"
   ]
  },
  {
   "cell_type": "code",
   "execution_count": 25,
   "id": "bd0c94c6",
   "metadata": {},
   "outputs": [
    {
     "name": "stdout",
     "output_type": "stream",
     "text": [
      "2\n",
      "4\n",
      "6\n",
      "8\n",
      "10\n",
      "12\n",
      "14\n",
      "16\n",
      "18\n",
      "20\n",
      "Suma total: 110\n"
     ]
    }
   ],
   "source": [
    "# Re-question: How would you change the loop to also calculate the sum of these even numbers while iterating?\n",
    "suma = 0\n",
    "for i in range(2, 21, 2):\n",
    "    print(i)\n",
    "    suma += i  \n",
    "\n",
    "print(\"Suma total:\", suma)"
   ]
  },
  {
   "cell_type": "markdown",
   "id": "f6a75a2e",
   "metadata": {},
   "source": [
    "#### Ejercicio 15: \n",
    "\n",
    "Suppose you are analyzing the National Household Survey (ENAHO) dataset, specifically the file ENAHO01A-2023-400.\n",
    "The question of interest is P41601: “¿Cuánto fue el monto total por la compra o servicio?”.\n",
    "\n",
    "Write a for loop that iterates over the column P41601 and prints values greater than 5000.\n",
    "\n",
    "Re-question: How would you optimize this task using pandas vectorized operations (e.g., boolean indexing) instead of a for loop, to make the analysis faster and more efficient?"
   ]
  },
  {
   "cell_type": "code",
   "execution_count": 1,
   "id": "0558fe16",
   "metadata": {},
   "outputs": [
    {
     "data": {
      "text/plain": [
       "'/Users/ariannazavala/Documents/GitHub/Diplomado_PUCP/Lecture_4'"
      ]
     },
     "execution_count": 1,
     "metadata": {},
     "output_type": "execute_result"
    }
   ],
   "source": [
    "pwd"
   ]
  },
  {
   "cell_type": "code",
   "execution_count": 2,
   "id": "c0587a67",
   "metadata": {},
   "outputs": [],
   "source": [
    "import pandas as pd"
   ]
  },
  {
   "cell_type": "code",
   "execution_count": 33,
   "id": "548da72f",
   "metadata": {},
   "outputs": [
    {
     "name": "stderr",
     "output_type": "stream",
     "text": [
      "/var/folders/6l/n6xmrbpn0gz37vr1pmqw650r0000gn/T/ipykernel_50111/2143042498.py:1: DtypeWarning: Columns (15,32,34,35,36,37,38,39,40,41,42,43,44,45,46,47,48,79,81,123,125,127,137,138,139,140,141,142,143,144,145,146,147,148,149,150,151,152,153,154,155,156,157,158,159,160,161,162,163,164,165,166,167,168,553,554,555,556,557,558,559,560,569) have mixed types. Specify dtype option on import or set low_memory=False.\n",
      "  df = pd.read_csv(r\"../Tarea_2/Enaho01A-2023-400.csv\", encoding=\"ISO-8859-10\")\n"
     ]
    }
   ],
   "source": [
    "df = pd.read_csv(r\"../Tarea_2/Enaho01A-2023-400.csv\", encoding=\"ISO-8859-10\")"
   ]
  },
  {
   "cell_type": "code",
   "execution_count": 34,
   "id": "a8b4c174",
   "metadata": {},
   "outputs": [
    {
     "data": {
      "text/html": [
       "<div>\n",
       "<style scoped>\n",
       "    .dataframe tbody tr th:only-of-type {\n",
       "        vertical-align: middle;\n",
       "    }\n",
       "\n",
       "    .dataframe tbody tr th {\n",
       "        vertical-align: top;\n",
       "    }\n",
       "\n",
       "    .dataframe thead th {\n",
       "        text-align: right;\n",
       "    }\n",
       "</style>\n",
       "<table border=\"1\" class=\"dataframe\">\n",
       "  <thead>\n",
       "    <tr style=\"text-align: right;\">\n",
       "      <th></th>\n",
       "      <th>AŅO</th>\n",
       "      <th>MES</th>\n",
       "      <th>CONGLOME</th>\n",
       "      <th>VIVIENDA</th>\n",
       "      <th>HOGAR</th>\n",
       "      <th>CODPERSO</th>\n",
       "      <th>UBIGEO</th>\n",
       "      <th>DOMINIO</th>\n",
       "      <th>ESTRATO</th>\n",
       "      <th>CODINFOR</th>\n",
       "      <th>...</th>\n",
       "      <th>I41810</th>\n",
       "      <th>I41811</th>\n",
       "      <th>I41812</th>\n",
       "      <th>I41813</th>\n",
       "      <th>I41814</th>\n",
       "      <th>I41815</th>\n",
       "      <th>I41816</th>\n",
       "      <th>FACTOR07</th>\n",
       "      <th>NCONGLOME</th>\n",
       "      <th>SUB_CONGLOME</th>\n",
       "    </tr>\n",
       "  </thead>\n",
       "  <tbody>\n",
       "    <tr>\n",
       "      <th>0</th>\n",
       "      <td>2023</td>\n",
       "      <td>1</td>\n",
       "      <td>5030</td>\n",
       "      <td>2</td>\n",
       "      <td>11</td>\n",
       "      <td>1</td>\n",
       "      <td>10201</td>\n",
       "      <td>7</td>\n",
       "      <td>4</td>\n",
       "      <td>1</td>\n",
       "      <td>...</td>\n",
       "      <td></td>\n",
       "      <td></td>\n",
       "      <td></td>\n",
       "      <td></td>\n",
       "      <td></td>\n",
       "      <td></td>\n",
       "      <td></td>\n",
       "      <td>118.374542</td>\n",
       "      <td>6618</td>\n",
       "      <td>0</td>\n",
       "    </tr>\n",
       "    <tr>\n",
       "      <th>1</th>\n",
       "      <td>2023</td>\n",
       "      <td>1</td>\n",
       "      <td>5030</td>\n",
       "      <td>2</td>\n",
       "      <td>11</td>\n",
       "      <td>2</td>\n",
       "      <td>10201</td>\n",
       "      <td>7</td>\n",
       "      <td>4</td>\n",
       "      <td>2</td>\n",
       "      <td>...</td>\n",
       "      <td></td>\n",
       "      <td></td>\n",
       "      <td>204</td>\n",
       "      <td></td>\n",
       "      <td></td>\n",
       "      <td></td>\n",
       "      <td></td>\n",
       "      <td>118.374542</td>\n",
       "      <td>6618</td>\n",
       "      <td>0</td>\n",
       "    </tr>\n",
       "    <tr>\n",
       "      <th>2</th>\n",
       "      <td>2023</td>\n",
       "      <td>1</td>\n",
       "      <td>5030</td>\n",
       "      <td>2</td>\n",
       "      <td>11</td>\n",
       "      <td>3</td>\n",
       "      <td>10201</td>\n",
       "      <td>7</td>\n",
       "      <td>4</td>\n",
       "      <td>2</td>\n",
       "      <td>...</td>\n",
       "      <td></td>\n",
       "      <td></td>\n",
       "      <td></td>\n",
       "      <td></td>\n",
       "      <td></td>\n",
       "      <td></td>\n",
       "      <td></td>\n",
       "      <td>118.374542</td>\n",
       "      <td>6618</td>\n",
       "      <td>0</td>\n",
       "    </tr>\n",
       "    <tr>\n",
       "      <th>3</th>\n",
       "      <td>2023</td>\n",
       "      <td>1</td>\n",
       "      <td>5030</td>\n",
       "      <td>2</td>\n",
       "      <td>11</td>\n",
       "      <td>4</td>\n",
       "      <td>10201</td>\n",
       "      <td>7</td>\n",
       "      <td>4</td>\n",
       "      <td>2</td>\n",
       "      <td>...</td>\n",
       "      <td></td>\n",
       "      <td></td>\n",
       "      <td></td>\n",
       "      <td></td>\n",
       "      <td></td>\n",
       "      <td></td>\n",
       "      <td></td>\n",
       "      <td>118.374542</td>\n",
       "      <td>6618</td>\n",
       "      <td>0</td>\n",
       "    </tr>\n",
       "    <tr>\n",
       "      <th>4</th>\n",
       "      <td>2023</td>\n",
       "      <td>1</td>\n",
       "      <td>5030</td>\n",
       "      <td>11</td>\n",
       "      <td>11</td>\n",
       "      <td>1</td>\n",
       "      <td>10201</td>\n",
       "      <td>7</td>\n",
       "      <td>4</td>\n",
       "      <td>1</td>\n",
       "      <td>...</td>\n",
       "      <td></td>\n",
       "      <td></td>\n",
       "      <td></td>\n",
       "      <td></td>\n",
       "      <td></td>\n",
       "      <td></td>\n",
       "      <td></td>\n",
       "      <td>118.374542</td>\n",
       "      <td>6618</td>\n",
       "      <td>0</td>\n",
       "    </tr>\n",
       "    <tr>\n",
       "      <th>...</th>\n",
       "      <td>...</td>\n",
       "      <td>...</td>\n",
       "      <td>...</td>\n",
       "      <td>...</td>\n",
       "      <td>...</td>\n",
       "      <td>...</td>\n",
       "      <td>...</td>\n",
       "      <td>...</td>\n",
       "      <td>...</td>\n",
       "      <td>...</td>\n",
       "      <td>...</td>\n",
       "      <td>...</td>\n",
       "      <td>...</td>\n",
       "      <td>...</td>\n",
       "      <td>...</td>\n",
       "      <td>...</td>\n",
       "      <td>...</td>\n",
       "      <td>...</td>\n",
       "      <td>...</td>\n",
       "      <td>...</td>\n",
       "      <td>...</td>\n",
       "    </tr>\n",
       "    <tr>\n",
       "      <th>112525</th>\n",
       "      <td>2023</td>\n",
       "      <td>12</td>\n",
       "      <td>20670</td>\n",
       "      <td>67</td>\n",
       "      <td>11</td>\n",
       "      <td>5</td>\n",
       "      <td>10503</td>\n",
       "      <td>4</td>\n",
       "      <td>8</td>\n",
       "      <td>2</td>\n",
       "      <td>...</td>\n",
       "      <td></td>\n",
       "      <td></td>\n",
       "      <td></td>\n",
       "      <td></td>\n",
       "      <td></td>\n",
       "      <td></td>\n",
       "      <td></td>\n",
       "      <td>65.991585</td>\n",
       "      <td>7051</td>\n",
       "      <td>0</td>\n",
       "    </tr>\n",
       "    <tr>\n",
       "      <th>112526</th>\n",
       "      <td>2023</td>\n",
       "      <td>12</td>\n",
       "      <td>20670</td>\n",
       "      <td>68</td>\n",
       "      <td>11</td>\n",
       "      <td>1</td>\n",
       "      <td>10503</td>\n",
       "      <td>4</td>\n",
       "      <td>8</td>\n",
       "      <td>1</td>\n",
       "      <td>...</td>\n",
       "      <td></td>\n",
       "      <td></td>\n",
       "      <td></td>\n",
       "      <td></td>\n",
       "      <td></td>\n",
       "      <td></td>\n",
       "      <td></td>\n",
       "      <td>65.991585</td>\n",
       "      <td>7051</td>\n",
       "      <td>0</td>\n",
       "    </tr>\n",
       "    <tr>\n",
       "      <th>112527</th>\n",
       "      <td>2023</td>\n",
       "      <td>12</td>\n",
       "      <td>20670</td>\n",
       "      <td>69</td>\n",
       "      <td>11</td>\n",
       "      <td>1</td>\n",
       "      <td>10503</td>\n",
       "      <td>4</td>\n",
       "      <td>8</td>\n",
       "      <td>1</td>\n",
       "      <td>...</td>\n",
       "      <td></td>\n",
       "      <td></td>\n",
       "      <td></td>\n",
       "      <td></td>\n",
       "      <td></td>\n",
       "      <td></td>\n",
       "      <td></td>\n",
       "      <td>65.991585</td>\n",
       "      <td>7051</td>\n",
       "      <td>0</td>\n",
       "    </tr>\n",
       "    <tr>\n",
       "      <th>112528</th>\n",
       "      <td>2023</td>\n",
       "      <td>12</td>\n",
       "      <td>20670</td>\n",
       "      <td>69</td>\n",
       "      <td>11</td>\n",
       "      <td>2</td>\n",
       "      <td>10503</td>\n",
       "      <td>4</td>\n",
       "      <td>8</td>\n",
       "      <td>2</td>\n",
       "      <td>...</td>\n",
       "      <td></td>\n",
       "      <td></td>\n",
       "      <td>216</td>\n",
       "      <td></td>\n",
       "      <td></td>\n",
       "      <td></td>\n",
       "      <td></td>\n",
       "      <td>65.991585</td>\n",
       "      <td>7051</td>\n",
       "      <td>0</td>\n",
       "    </tr>\n",
       "    <tr>\n",
       "      <th>112529</th>\n",
       "      <td>2023</td>\n",
       "      <td>12</td>\n",
       "      <td>20670</td>\n",
       "      <td>69</td>\n",
       "      <td>11</td>\n",
       "      <td>3</td>\n",
       "      <td>10503</td>\n",
       "      <td>4</td>\n",
       "      <td>8</td>\n",
       "      <td>3</td>\n",
       "      <td>...</td>\n",
       "      <td></td>\n",
       "      <td></td>\n",
       "      <td></td>\n",
       "      <td></td>\n",
       "      <td></td>\n",
       "      <td></td>\n",
       "      <td></td>\n",
       "      <td>65.991585</td>\n",
       "      <td>7051</td>\n",
       "      <td>0</td>\n",
       "    </tr>\n",
       "  </tbody>\n",
       "</table>\n",
       "<p>112530 rows × 940 columns</p>\n",
       "</div>"
      ],
      "text/plain": [
       "         AŅO  MES  CONGLOME  VIVIENDA  HOGAR  CODPERSO  UBIGEO  DOMINIO  \\\n",
       "0       2023    1      5030         2     11         1   10201        7   \n",
       "1       2023    1      5030         2     11         2   10201        7   \n",
       "2       2023    1      5030         2     11         3   10201        7   \n",
       "3       2023    1      5030         2     11         4   10201        7   \n",
       "4       2023    1      5030        11     11         1   10201        7   \n",
       "...      ...  ...       ...       ...    ...       ...     ...      ...   \n",
       "112525  2023   12     20670        67     11         5   10503        4   \n",
       "112526  2023   12     20670        68     11         1   10503        4   \n",
       "112527  2023   12     20670        69     11         1   10503        4   \n",
       "112528  2023   12     20670        69     11         2   10503        4   \n",
       "112529  2023   12     20670        69     11         3   10503        4   \n",
       "\n",
       "        ESTRATO  CODINFOR  ...  I41810  I41811  I41812  I41813  I41814 I41815  \\\n",
       "0             4         1  ...                                                  \n",
       "1             4         2  ...                     204                          \n",
       "2             4         2  ...                                                  \n",
       "3             4         2  ...                                                  \n",
       "4             4         1  ...                                                  \n",
       "...         ...       ...  ...     ...     ...     ...     ...     ...    ...   \n",
       "112525        8         2  ...                                                  \n",
       "112526        8         1  ...                                                  \n",
       "112527        8         1  ...                                                  \n",
       "112528        8         2  ...                     216                          \n",
       "112529        8         3  ...                                                  \n",
       "\n",
       "       I41816    FACTOR07 NCONGLOME SUB_CONGLOME  \n",
       "0              118.374542      6618            0  \n",
       "1              118.374542      6618            0  \n",
       "2              118.374542      6618            0  \n",
       "3              118.374542      6618            0  \n",
       "4              118.374542      6618            0  \n",
       "...       ...         ...       ...          ...  \n",
       "112525          65.991585      7051            0  \n",
       "112526          65.991585      7051            0  \n",
       "112527          65.991585      7051            0  \n",
       "112528          65.991585      7051            0  \n",
       "112529          65.991585      7051            0  \n",
       "\n",
       "[112530 rows x 940 columns]"
      ]
     },
     "execution_count": 34,
     "metadata": {},
     "output_type": "execute_result"
    }
   ],
   "source": [
    "df.isnull().sum()\n",
    "df = df.dropna()\n",
    "df"
   ]
  },
  {
   "cell_type": "code",
   "execution_count": 35,
   "id": "1d2eb015",
   "metadata": {},
   "outputs": [],
   "source": [
    "#hacer la variable númerica\n",
    "df[\"P41601\"] = pd.to_numeric(df[\"P41601\"], errors=\"coerce\")"
   ]
  },
  {
   "cell_type": "code",
   "execution_count": 36,
   "id": "4a9d5cf9",
   "metadata": {},
   "outputs": [
    {
     "name": "stdout",
     "output_type": "stream",
     "text": [
      "float64\n"
     ]
    }
   ],
   "source": [
    "print(df[\"P41601\"].dtype)"
   ]
  },
  {
   "cell_type": "code",
   "execution_count": 42,
   "id": "c6065adc",
   "metadata": {},
   "outputs": [
    {
     "name": "stdout",
     "output_type": "stream",
     "text": [
      "99999.9\n",
      "99999.9\n",
      "99999.9\n",
      "99999.9\n",
      "99999.9\n",
      "99999.9\n",
      "99999.9\n",
      "99999.9\n",
      "99999.9\n",
      "99999.9\n",
      "99999.9\n",
      "99999.9\n",
      "99999.9\n",
      "99999.9\n",
      "99999.9\n",
      "99999.9\n",
      "99999.9\n",
      "99999.9\n",
      "99999.9\n",
      "99999.9\n",
      "99999.9\n",
      "99999.9\n",
      "99999.9\n",
      "99999.9\n",
      "99999.9\n",
      "99999.9\n",
      "99999.9\n",
      "99999.9\n",
      "99999.9\n",
      "99999.9\n",
      "99999.9\n",
      "99999.9\n",
      "99999.9\n",
      "99999.9\n",
      "99999.9\n",
      "99999.9\n",
      "99999.9\n",
      "99999.9\n"
     ]
    }
   ],
   "source": [
    "#Write a for loop that iterates over the column P41601 and prints values greater than 5000.\n",
    "\n",
    "for i in df[\"P41601\"]:\n",
    "    if i > 5000:\n",
    "        print(i)"
   ]
  },
  {
   "cell_type": "code",
   "execution_count": 47,
   "id": "10ea71dd",
   "metadata": {},
   "outputs": [
    {
     "name": "stdout",
     "output_type": "stream",
     "text": [
      "784       99999.9\n",
      "794       99999.9\n",
      "797       99999.9\n",
      "799       99999.9\n",
      "3925      99999.9\n",
      "5731      99999.9\n",
      "7555      99999.9\n",
      "8007      99999.9\n",
      "13958     99999.9\n",
      "17211     99999.9\n",
      "26244     99999.9\n",
      "26639     99999.9\n",
      "28578     99999.9\n",
      "36256     99999.9\n",
      "43753     99999.9\n",
      "43754     99999.9\n",
      "45170     99999.9\n",
      "47369     99999.9\n",
      "48779     99999.9\n",
      "49699     99999.9\n",
      "52736     99999.9\n",
      "53781     99999.9\n",
      "66071     99999.9\n",
      "71331     99999.9\n",
      "75239     99999.9\n",
      "76090     99999.9\n",
      "80685     99999.9\n",
      "84911     99999.9\n",
      "87190     99999.9\n",
      "92416     99999.9\n",
      "96582     99999.9\n",
      "99087     99999.9\n",
      "103332    99999.9\n",
      "104854    99999.9\n",
      "107255    99999.9\n",
      "107757    99999.9\n",
      "109416    99999.9\n",
      "110537    99999.9\n",
      "Name: P41601, dtype: float64\n"
     ]
    }
   ],
   "source": [
    "# How would you optimize this task using pandas vectorized operations (e.g., boolean indexing) instead of a for loop, to make the analysis faster and more efficient?\n",
    "\n",
    "valores_altos = df.loc[df[\"P41601\"] > 5000, \"P41601\"]\n",
    "print(valores_altos)"
   ]
  },
  {
   "cell_type": "code",
   "execution_count": null,
   "id": "824b6e03",
   "metadata": {},
   "outputs": [],
   "source": []
  }
 ],
 "metadata": {
  "kernelspec": {
   "display_name": "Python 3 (ipykernel)",
   "language": "python",
   "name": "python3"
  },
  "language_info": {
   "codemirror_mode": {
    "name": "ipython",
    "version": 3
   },
   "file_extension": ".py",
   "mimetype": "text/x-python",
   "name": "python",
   "nbconvert_exporter": "python",
   "pygments_lexer": "ipython3",
   "version": "3.9.7"
  }
 },
 "nbformat": 4,
 "nbformat_minor": 5
}
