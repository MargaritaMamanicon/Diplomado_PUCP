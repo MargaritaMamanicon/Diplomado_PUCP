{
 "cells": [
  {
   "cell_type": "markdown",
   "id": "85609cdb",
   "metadata": {},
   "source": [
    "# Parte 2 – If Conditions"
   ]
  },
  {
   "cell_type": "markdown",
   "id": "f46701ea",
   "metadata": {},
   "source": [
    "## 6. Basic If Condition"
   ]
  },
  {
   "cell_type": "markdown",
   "id": "0f2b493f",
   "metadata": {},
   "source": [
    "Write a Python function that checks if a given number is positive."
   ]
  },
  {
   "cell_type": "code",
   "execution_count": 9,
   "id": "f0379e63",
   "metadata": {},
   "outputs": [],
   "source": [
    "def check_positive(number):\n",
    "    if number > 0:\n",
    "        return f\"The number {number} is positive.\"\n",
    "    else:\n",
    "        return f\"The number {number} is not positive.\""
   ]
  },
  {
   "cell_type": "code",
   "execution_count": 11,
   "id": "206c49e5",
   "metadata": {},
   "outputs": [
    {
     "name": "stdout",
     "output_type": "stream",
     "text": [
      "The number 10 is positive.\n",
      "The number -3 is not positive.\n",
      "The number 0 is not positive.\n"
     ]
    }
   ],
   "source": [
    "#Ejemplos\n",
    "print(check_positive(10))\n",
    "print(check_positive(-3))\n",
    "print(check_positive(0))"
   ]
  },
  {
   "cell_type": "markdown",
   "id": "2b9a5294",
   "metadata": {},
   "source": [
    "## 7. If Condition with Multiple Expressions"
   ]
  },
  {
   "cell_type": "markdown",
   "id": "c33ce7c9",
   "metadata": {},
   "source": [
    "Create a program that checks the temperature (in Celsius) and returns a message depending on the value:"
   ]
  },
  {
   "cell_type": "code",
   "execution_count": 12,
   "id": "9e617c79",
   "metadata": {},
   "outputs": [],
   "source": [
    "def check_temperature(temp):\n",
    "    if temp < 0:\n",
    "        return \"It is freezing.\"\n",
    "    elif 0 <= temp <= 20:\n",
    "        return \"It is cold.\"\n",
    "    elif 21 <= temp <= 30:\n",
    "        return \"It is warm.\"\n",
    "    else:  # temp > 30\n",
    "        return \"It is hot.\""
   ]
  },
  {
   "cell_type": "code",
   "execution_count": 13,
   "id": "5f465945",
   "metadata": {},
   "outputs": [
    {
     "name": "stdout",
     "output_type": "stream",
     "text": [
      "It is freezing.\n",
      "It is cold.\n",
      "It is warm.\n",
      "It is hot.\n"
     ]
    }
   ],
   "source": [
    "# Ejemplos\n",
    "print(check_temperature(-2))\n",
    "print(check_temperature(15))\n",
    "print(check_temperature(25))\n",
    "print(check_temperature(35))"
   ]
  },
  {
   "cell_type": "markdown",
   "id": "3c74a2f2",
   "metadata": {},
   "source": [
    "## 8. Logical Operators"
   ]
  },
  {
   "cell_type": "markdown",
   "id": "e66416b5",
   "metadata": {},
   "source": [
    "Write a function that determines if a person is eligible for a scholarship based on these conditions:"
   ]
  },
  {
   "cell_type": "code",
   "execution_count": 14,
   "id": "448d8f35",
   "metadata": {},
   "outputs": [],
   "source": [
    "def scholarship_eligibility(gpa, extracurricular, service_hours):\n",
    "    if gpa > 3.5 and (extracurricular == \"Yes\" or service_hours > 50):\n",
    "        return \"Eligible for scholarship.\"\n",
    "    else:\n",
    "        return \"Not eligible for scholarship.\""
   ]
  },
  {
   "cell_type": "code",
   "execution_count": 15,
   "id": "a18ec6b0",
   "metadata": {},
   "outputs": [
    {
     "name": "stdout",
     "output_type": "stream",
     "text": [
      "Eligible for scholarship.\n",
      "Eligible for scholarship.\n",
      "Not eligible for scholarship.\n"
     ]
    }
   ],
   "source": [
    "# Ejemplos:\n",
    "print(scholarship_eligibility(3.6, \"Yes\", 20))   # Cumple\n",
    "print(scholarship_eligibility(3.6, \"No\", 60))    # Cumple\n",
    "print(scholarship_eligibility(3.4, \"Yes\", 70))   # No cumple"
   ]
  },
  {
   "cell_type": "markdown",
   "id": "15aaf34a",
   "metadata": {},
   "source": [
    "## 9. Python Identity Operators"
   ]
  },
  {
   "cell_type": "markdown",
   "id": "b338bdb9",
   "metadata": {},
   "source": [
    "Create two lists:"
   ]
  },
  {
   "cell_type": "code",
   "execution_count": 16,
   "id": "fe268a10",
   "metadata": {},
   "outputs": [],
   "source": [
    "list1 = [1, 2, 3]\n",
    "list2 = [1, 2, 3]\n",
    "list3 = list1"
   ]
  },
  {
   "cell_type": "code",
   "execution_count": 17,
   "id": "f89b4a61",
   "metadata": {},
   "outputs": [
    {
     "name": "stdout",
     "output_type": "stream",
     "text": [
      "False\n",
      "True\n",
      "True\n"
     ]
    }
   ],
   "source": [
    "print(list1 is list2)   # False → Son diferentes objetos en memoria\n",
    "print(list1 is list3)   # True → list3 apunta al mismo objeto que list1\n",
    "print(list1 == list2)   # True → El contenido es igual aunque son objetos distintos"
   ]
  },
  {
   "cell_type": "markdown",
   "id": "d7367301",
   "metadata": {},
   "source": [
    "is → compara la identidad (si es el mismo objeto en memoria).\n",
    "== → compara el contenido de los objetos."
   ]
  },
  {
   "cell_type": "markdown",
   "id": "414b2edb",
   "metadata": {},
   "source": [
    "## 10. Nested If Statement"
   ]
  },
  {
   "cell_type": "markdown",
   "id": "b17b284a",
   "metadata": {},
   "source": [
    "Write a function that takes a student's score and determines the grade:"
   ]
  },
  {
   "cell_type": "code",
   "execution_count": 19,
   "id": "f27742f5",
   "metadata": {},
   "outputs": [],
   "source": [
    "def get_grade(score):\n",
    "    if score >= 90:\n",
    "        return \"A\"\n",
    "    elif 80 <= score <= 89:\n",
    "        if score == 85:\n",
    "            return \"B+\"\n",
    "        else:\n",
    "            return \"B\"\n",
    "    elif 70 <= score <= 79:\n",
    "        return \"C\"\n",
    "    else:\n",
    "        return \"Fail\""
   ]
  },
  {
   "cell_type": "code",
   "execution_count": 20,
   "id": "2da254a0",
   "metadata": {},
   "outputs": [
    {
     "name": "stdout",
     "output_type": "stream",
     "text": [
      "A\n",
      "B+\n",
      "B\n",
      "C\n",
      "Fail\n"
     ]
    }
   ],
   "source": [
    "# Ejemplos\n",
    "print(get_grade(95))   # A\n",
    "print(get_grade(85))   # B+\n",
    "print(get_grade(82))   # B\n",
    "print(get_grade(75))   # C\n",
    "print(get_grade(60))   # Fail"
   ]
  },
  {
   "cell_type": "code",
   "execution_count": null,
   "id": "d28764ba",
   "metadata": {},
   "outputs": [],
   "source": []
  },
  {
   "cell_type": "code",
   "execution_count": null,
   "id": "3ed331f3",
   "metadata": {},
   "outputs": [],
   "source": []
  }
 ],
 "metadata": {
  "kernelspec": {
   "display_name": "Python 3 (ipykernel)",
   "language": "python",
   "name": "python3"
  },
  "language_info": {
   "codemirror_mode": {
    "name": "ipython",
    "version": 3
   },
   "file_extension": ".py",
   "mimetype": "text/x-python",
   "name": "python",
   "nbconvert_exporter": "python",
   "pygments_lexer": "ipython3",
   "version": "3.11.5"
  }
 },
 "nbformat": 4,
 "nbformat_minor": 5
}
