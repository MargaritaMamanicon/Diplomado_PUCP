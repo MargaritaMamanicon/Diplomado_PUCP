{
 "cells": [
  {
   "cell_type": "markdown",
   "id": "56e5fd46-f924-4251-9239-17a869ca6eca",
   "metadata": {},
   "source": [
    "# Part 1 – Pandas DataFrames  \n",
    "\n",
    "For this section, we will work with the **National Household Survey (ENAHO)** dataset extracted from [INEI](https://proyectos.inei.gob.pe/microdatos/).  \n",
    "In this [shared drive folder](https://drive.google.com/drive/folders/1h00GwfCRyq0Grem3bR26yxc33ELYJwG8?usp=sharing), you will find:  \n",
    "- A reference questionnaire (you can review it to identify questions of interest).  \n",
    "- Three datasets corresponding to the following modules: **Housing (200)**, **Education (300)**, and **Labor (500)**.  \n",
    "Download files in your local. \n",
    "---\n",
    "\n",
    "1. Set your working directory and **import the dataset** `Enaho01A-2023-300.csv` using Pandas.  \n",
    "\n",
    "> Note: Consider the file encoding (`UTF-8` or `ISO-8859-10`).  \n",
    "> Example: `df = pd.read_csv(\"datos.csv\", encoding=\"ISO-8859-10\")`  \n",
    "\n",
    "- Read and display the **first 5 rows**.  \n",
    "- Convert the column names into a **list** and print it.  \n",
    "- Check the **data types** of the DataFrame.  \n",
    "- Select a subsample containing the variables `['CONGLOME', 'VIVIENDA', 'HOGAR', 'CODPERSO']` and between 3–5 additional variables of your interest.  \n"
   ]
  },
  {
   "cell_type": "code",
   "execution_count": null,
   "id": "f9696afc-a843-4a1c-b518-86d4cdcb1cd1",
   "metadata": {},
   "outputs": [],
   "source": []
  },
  {
   "cell_type": "markdown",
   "id": "1b51cfef-27fb-47ee-b869-5bd4cd1d6675",
   "metadata": {},
   "source": [
    "---\n",
    "\n",
    "2. **Data Manipulation (Data Cleaning):**  \n",
    "- Explore the DataFrame using summary functions.  \n",
    "- Identify if there are missing values.  \n",
    "- If they exist, remove them.  \n"
   ]
  },
  {
   "cell_type": "code",
   "execution_count": null,
   "id": "8247e351-f5a8-4f4b-b6c1-7a2c4d26653d",
   "metadata": {},
   "outputs": [],
   "source": []
  },
  {
   "cell_type": "markdown",
   "id": "3d578fd2-559f-4d0b-9c01-f954833d354c",
   "metadata": {},
   "source": [
    "---\n",
    "\n",
    "3. Import a second dataset (choose between `Enaho01A-2023-200.csv` or `Enaho01A-2023-500.csv`).  \n",
    "- Display the **first 5 rows**.  \n",
    "- Convert the column names into a **list** and print it.  \n",
    "- Check the **data types**.  \n",
    "- Select a subsample containing the variables `['CONGLOME', 'VIVIENDA', 'HOGAR', 'CODPERSO']` and between 3–5 additional variables of your interest.  \n",
    "- Perform the following modifications:  \n",
    "  - **A.** Change the data type of a variable (e.g., from text to numeric).  \n",
    "  - **B.** Modify some values in a specific column.  "
   ]
  },
  {
   "cell_type": "code",
   "execution_count": null,
   "id": "b74fec4b-9e36-4a42-8c01-de4078dd6994",
   "metadata": {},
   "outputs": [],
   "source": []
  },
  {
   "cell_type": "markdown",
   "id": "28fe9cbd-7a0f-42a8-918b-3a5a6ea56ca2",
   "metadata": {},
   "source": [
    "---\n",
    "\n",
    "4. **Merging Datasets:**  [2 pts]\n",
    "- Identify the common columns between the two datasets (from questions 16 and 18).  \n",
    "- Verify whether the values match in both datasets. If not, correct the mismatched values to ensure a proper merge.  \n",
    "\n",
    "> Recommendation: Use the following as common columns:  \n",
    "> `common_columns = ['CONGLOME', 'VIVIENDA', 'HOGAR', 'CODPERSO']`  \n",
    "> in `pd.merge(..., on=common_columns, how=...)`.  \n",
    "\n",
    "- Perform the **merge**.  \n",
    "- Display the **first 5 rows** of the resulting DataFrame.  "
   ]
  },
  {
   "cell_type": "code",
   "execution_count": null,
   "id": "6699a567-d04c-4910-86e6-a1ba3d4c86b2",
   "metadata": {},
   "outputs": [],
   "source": []
  },
  {
   "cell_type": "markdown",
   "id": "6347382d-d1ea-465d-8259-3fad514b7467",
   "metadata": {},
   "source": [
    "---\n",
    "\n",
    "5. In the resulting DataFrame:  \n",
    "- Group the data by a variable of your choice using `groupby()`.  \n",
    "- Calculate a relevant statistical indicator, for example: the **average income per category**.  \n"
   ]
  },
  {
   "cell_type": "code",
   "execution_count": null,
   "id": "4229de2f-3175-4746-8dc8-7f396ec10d13",
   "metadata": {},
   "outputs": [],
   "source": []
  },
  {
   "cell_type": "markdown",
   "id": "a590c377-d4fc-466c-acf0-e07e35a0fda0",
   "metadata": {},
   "source": [
    "---\n",
    "# Part 2 – If conditions \n",
    "\n",
    "---\n",
    "6. Basic If Condition  \n",
    "Write a Python function that checks if a given number is positive.  \n",
    "- If the number is greater than zero, return `\"The number X is positive.\"`.  \n",
    "- Otherwise, return `\"The number X is not positive.\"`.  \n"
   ]
  },
  {
   "cell_type": "code",
   "execution_count": null,
   "id": "bc8f6272-0bf9-456b-afa2-b715b1622264",
   "metadata": {},
   "outputs": [],
   "source": []
  },
  {
   "cell_type": "markdown",
   "id": "c81a4554-456d-4d90-9f3c-641a57eea2af",
   "metadata": {},
   "source": [
    "---\n",
    "\n",
    "7. If Condition with Multiple Expressions  \n",
    "Create a program that checks the temperature (in Celsius) and returns a message depending on the value:  \n",
    "- If the temperature is **below 0**, return `\"It is freezing.\"`.  \n",
    "- If the temperature is between **0 and 20**, return `\"It is cold.\"`.  \n",
    "- If the temperature is between **21 and 30**, return `\"It is warm.\"`.  \n",
    "- If the temperature is greater than **30**, return `\"It is hot.\"`.  \n"
   ]
  },
  {
   "cell_type": "code",
   "execution_count": null,
   "id": "dd225ad5-53cf-4365-a30b-2b08a9000682",
   "metadata": {},
   "outputs": [],
   "source": []
  },
  {
   "cell_type": "markdown",
   "id": "c005eb49-6251-4109-bb81-f44e444adef6",
   "metadata": {},
   "source": [
    "---\n",
    "\n",
    "8. Logical Operators   [2 pts]\n",
    "Write a function that determines if a person is eligible for a scholarship based on these conditions:  \n",
    "- The person must have a GPA greater than **3.5** **AND**  \n",
    "- Either their extracurricular activities are `\"Yes\"` **OR** they have community service hours greater than **50**.  \n",
    "\n",
    "The function should return:  \n",
    "- `\"Eligible for scholarship.\"` if conditions are met.  \n",
    "- `\"Not eligible for scholarship.\"` otherwise.  \n"
   ]
  },
  {
   "cell_type": "code",
   "execution_count": null,
   "id": "66020f6e-2bed-4f50-934f-44533be315ce",
   "metadata": {},
   "outputs": [],
   "source": []
  },
  {
   "cell_type": "markdown",
   "id": "585759b1-1796-4e50-a83c-29c541799cd6",
   "metadata": {},
   "source": [
    "---\n",
    "\n",
    "9. Python Identity Operators  \n",
    "Create two lists:  \n",
    "```python\n",
    "list1 = [1, 2, 3]\n",
    "list2 = [1, 2, 3]\n",
    "list3 = list1 \n",
    "```\n",
    "\n",
    "Check with identity operators:\n",
    "```python\n",
    "list1 is list2\n",
    "list1 is list3\n",
    "list1 == list2 \n",
    " ```\n",
    "\n",
    "Explain the difference in the results for each comparison.\n"
   ]
  },
  {
   "cell_type": "code",
   "execution_count": null,
   "id": "70aed24b-732b-4599-aada-17bab37e1005",
   "metadata": {},
   "outputs": [],
   "source": []
  },
  {
   "cell_type": "markdown",
   "id": "a856e90b-ccf6-4943-88fe-5487d0cd698a",
   "metadata": {},
   "source": [
    "---\n",
    "\n",
    "10. Nested If Statement  [2 pts] \n",
    "\n",
    "Write a function that takes a student's score and determines the grade:  \n",
    "\n",
    "- If the score is greater than or equal to 90, return `\"A\"`.  \n",
    "- If the score is between 80 and 89:  \n",
    "  - Check if the score is exactly 85, then return `\"B+\"`.  \n",
    "  - Otherwise, return `\"B\"`.  \n",
    "- If the score is between 70 and 79, return `\"C\"`.  \n",
    "- Otherwise, return `\"Fail\"`. "
   ]
  },
  {
   "cell_type": "code",
   "execution_count": null,
   "id": "411746a0-5786-4500-ba4f-bb229ea2d2e1",
   "metadata": {},
   "outputs": [],
   "source": []
  },
  {
   "cell_type": "markdown",
   "id": "309d9fa3-67e5-473b-bedc-7c937f7920f5",
   "metadata": {},
   "source": [
    "--- \n",
    "\n",
    "# Part 3 – For loops\n",
    "\n",
    "---\n",
    "\n",
    "11. For Loop in NumPy  \n",
    "\n",
    "Write a for loop using **NumPy** to iterate through an array of numbers `[10, 20, 30, 40, 50]` and print each value multiplied by 2.  \n",
    "\n",
    "- Re-question: How would you modify the loop so that it stores the results in a new NumPy array instead of just printing them?  \n"
   ]
  },
  {
   "cell_type": "code",
   "execution_count": null,
   "id": "1025fe35-63e0-4035-a1b2-c9f772477403",
   "metadata": {},
   "outputs": [],
   "source": []
  },
  {
   "cell_type": "markdown",
   "id": "ef196723-ecf3-4e3f-9180-c54fe988eb11",
   "metadata": {},
   "source": [
    "---\n",
    "\n",
    "12. For Loop in List  \n",
    "\n",
    "Create a list of words: `[\"python\", \"loop\", \"list\", \"iteration\"]`.  \n",
    "Write a for loop to print the length of each word.  \n",
    "\n",
    "- Re-question: How can you rewrite the same loop using a **list comprehension**?  \n"
   ]
  },
  {
   "cell_type": "code",
   "execution_count": null,
   "id": "3eb01a75-a8e6-48b1-8551-f36d1089e6df",
   "metadata": {},
   "outputs": [],
   "source": []
  },
  {
   "cell_type": "markdown",
   "id": "8b2c5ef9-33aa-4131-85d6-a25db35dc6c8",
   "metadata": {},
   "source": [
    "---\n",
    "\n",
    "13. For Loop in Dictionary  \n",
    "\n",
    "Given a dictionary of student scores:  \n",
    "`{\"Alice\": 85, \"Bob\": 92, \"Charlie\": 78, \"Diana\": 88}`  \n",
    "\n",
    "Write a for loop to print each student's name along with their score.  \n",
    "\n",
    "- Re-question: Modify the loop so that it only prints the names of students who scored above 80.  \n"
   ]
  },
  {
   "cell_type": "code",
   "execution_count": null,
   "id": "a570930b-2584-4070-bfaf-626d17a1eb08",
   "metadata": {},
   "outputs": [],
   "source": []
  },
  {
   "cell_type": "markdown",
   "id": "2d9edf8b-3b0b-419e-8371-90043a95507d",
   "metadata": {},
   "source": [
    "---\n",
    "\n",
    "14. For Loop using Range  \n",
    "\n",
    "Write a for loop using `range()` to print all even numbers between 1 and 20.  \n",
    "\n",
    "- Re-question: How would you change the loop to also calculate the **sum** of these even numbers while iterating?  \n"
   ]
  },
  {
   "cell_type": "code",
   "execution_count": null,
   "id": "5affe334-8a2a-4191-8f3a-cee279ef838e",
   "metadata": {},
   "outputs": [],
   "source": []
  },
  {
   "cell_type": "markdown",
   "id": "3064773f-227f-4fb1-ba2e-cba083c9574b",
   "metadata": {},
   "source": [
    "---\n",
    "\n",
    "15. Iterations over Pandas (ENAHO dataset)  [2 pts] \n",
    "\n",
    "Suppose you are analyzing the **National Household Survey (ENAHO)** dataset, specifically the file **`ENAHO01A-2023-400`**.  \n",
    "The question of interest is **`P41601`**: *“¿Cuánto fue el monto total por la compra o servicio?”*.  \n",
    "\n",
    "Write a `for` loop that iterates over the column `P41601` and prints values greater than **5000**.  \n",
    "\n",
    "- **Re-question:** How would you optimize this task using **pandas vectorized operations** (e.g., boolean indexing) instead of a `for` loop, to make the analysis faster and more efficient?  \n",
    "\n"
   ]
  },
  {
   "cell_type": "code",
   "execution_count": null,
   "id": "c6e7e2c1-5851-452b-9c23-593dbb1cfcd6",
   "metadata": {},
   "outputs": [],
   "source": []
  }
 ],
 "metadata": {
  "kernelspec": {
   "display_name": "Python [conda env:base] *",
   "language": "python",
   "name": "conda-base-py"
  },
  "language_info": {
   "codemirror_mode": {
    "name": "ipython",
    "version": 3
   },
   "file_extension": ".py",
   "mimetype": "text/x-python",
   "name": "python",
   "nbconvert_exporter": "python",
   "pygments_lexer": "ipython3",
   "version": "3.11.5"
  }
 },
 "nbformat": 4,
 "nbformat_minor": 5
}
