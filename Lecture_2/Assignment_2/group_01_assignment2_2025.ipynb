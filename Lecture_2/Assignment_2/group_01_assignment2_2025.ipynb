{
 "cells": [
  {
   "cell_type": "markdown",
   "id": "56e5fd46-f924-4251-9239-17a869ca6eca",
   "metadata": {},
   "source": [
    "# Part 1 – Pandas DataFrames  \n",
    "\n",
    "For this section, we will work with the **National Household Survey (ENAHO)** dataset extracted from [INEI](https://proyectos.inei.gob.pe/microdatos/).  \n",
    "In this [shared drive folder](https://drive.google.com/drive/folders/1h00GwfCRyq0Grem3bR26yxc33ELYJwG8?usp=sharing), you will find:  \n",
    "- A reference questionnaire (you can review it to identify questions of interest).  \n",
    "- Three datasets corresponding to the following modules: **Housing (200)**, **Education (300)**, and **Labor (500)**.  \n",
    "Download files in your local. \n",
    "---\n",
    "\n",
    "1. Set your working directory and **import the dataset** `Enaho01A-2023-300.csv` using Pandas.  \n",
    "\n",
    "> Note: Consider the file encoding (`UTF-8` or `ISO-8859-10`).  \n",
    "> Example: `df = pd.read_csv(\"datos.csv\", encoding=\"ISO-8859-10\")`  \n",
    "\n",
    "- Read and display the **first 5 rows**.  \n",
    "- Convert the column names into a **list** and print it.  \n",
    "- Check the **data types** of the DataFrame.  \n",
    "- Select a subsample containing the variables `['CONGLOME', 'VIVIENDA', 'HOGAR', 'CODPERSO']` and between 3–5 additional variables of your interest.  \n"
   ]
  },
  {
   "cell_type": "code",
   "execution_count": 5,
   "id": "2cdf2676-ebc3-4ce2-baf5-2c6539fcc8de",
   "metadata": {},
   "outputs": [],
   "source": [
    "import pandas as pd"
   ]
  },
  {
   "cell_type": "code",
   "execution_count": 2,
   "id": "2e751a99-1b8a-4163-a049-9d7f10167ed6",
   "metadata": {},
   "outputs": [
    {
     "ename": "FileNotFoundError",
     "evalue": "[Errno 2] No such file or directory: 'C:\\\\Diplomado_PUCP_25\\\\Enaho01A-2023-300.csv'",
     "output_type": "error",
     "traceback": [
      "\u001b[1;31m---------------------------------------------------------------------------\u001b[0m",
      "\u001b[1;31mFileNotFoundError\u001b[0m                         Traceback (most recent call last)",
      "Cell \u001b[1;32mIn[2], line 1\u001b[0m\n\u001b[1;32m----> 1\u001b[0m df \u001b[38;5;241m=\u001b[39m pd\u001b[38;5;241m.\u001b[39mread_csv(\u001b[38;5;124m\"\u001b[39m\u001b[38;5;124mC:\u001b[39m\u001b[38;5;124m\\\u001b[39m\u001b[38;5;124mDiplomado_PUCP_25\u001b[39m\u001b[38;5;124m\\\u001b[39m\u001b[38;5;124mEnaho01A-2023-300.csv\u001b[39m\u001b[38;5;124m\"\u001b[39m, encoding\u001b[38;5;241m=\u001b[39m\u001b[38;5;124m\"\u001b[39m\u001b[38;5;124mISO-8859-10\u001b[39m\u001b[38;5;124m\"\u001b[39m)\n",
      "File \u001b[1;32m~\\anaconda3\\Lib\\site-packages\\pandas\\io\\parsers\\readers.py:1026\u001b[0m, in \u001b[0;36mread_csv\u001b[1;34m(filepath_or_buffer, sep, delimiter, header, names, index_col, usecols, dtype, engine, converters, true_values, false_values, skipinitialspace, skiprows, skipfooter, nrows, na_values, keep_default_na, na_filter, verbose, skip_blank_lines, parse_dates, infer_datetime_format, keep_date_col, date_parser, date_format, dayfirst, cache_dates, iterator, chunksize, compression, thousands, decimal, lineterminator, quotechar, quoting, doublequote, escapechar, comment, encoding, encoding_errors, dialect, on_bad_lines, delim_whitespace, low_memory, memory_map, float_precision, storage_options, dtype_backend)\u001b[0m\n\u001b[0;32m   1013\u001b[0m kwds_defaults \u001b[38;5;241m=\u001b[39m _refine_defaults_read(\n\u001b[0;32m   1014\u001b[0m     dialect,\n\u001b[0;32m   1015\u001b[0m     delimiter,\n\u001b[1;32m   (...)\u001b[0m\n\u001b[0;32m   1022\u001b[0m     dtype_backend\u001b[38;5;241m=\u001b[39mdtype_backend,\n\u001b[0;32m   1023\u001b[0m )\n\u001b[0;32m   1024\u001b[0m kwds\u001b[38;5;241m.\u001b[39mupdate(kwds_defaults)\n\u001b[1;32m-> 1026\u001b[0m \u001b[38;5;28;01mreturn\u001b[39;00m _read(filepath_or_buffer, kwds)\n",
      "File \u001b[1;32m~\\anaconda3\\Lib\\site-packages\\pandas\\io\\parsers\\readers.py:620\u001b[0m, in \u001b[0;36m_read\u001b[1;34m(filepath_or_buffer, kwds)\u001b[0m\n\u001b[0;32m    617\u001b[0m _validate_names(kwds\u001b[38;5;241m.\u001b[39mget(\u001b[38;5;124m\"\u001b[39m\u001b[38;5;124mnames\u001b[39m\u001b[38;5;124m\"\u001b[39m, \u001b[38;5;28;01mNone\u001b[39;00m))\n\u001b[0;32m    619\u001b[0m \u001b[38;5;66;03m# Create the parser.\u001b[39;00m\n\u001b[1;32m--> 620\u001b[0m parser \u001b[38;5;241m=\u001b[39m TextFileReader(filepath_or_buffer, \u001b[38;5;241m*\u001b[39m\u001b[38;5;241m*\u001b[39mkwds)\n\u001b[0;32m    622\u001b[0m \u001b[38;5;28;01mif\u001b[39;00m chunksize \u001b[38;5;129;01mor\u001b[39;00m iterator:\n\u001b[0;32m    623\u001b[0m     \u001b[38;5;28;01mreturn\u001b[39;00m parser\n",
      "File \u001b[1;32m~\\anaconda3\\Lib\\site-packages\\pandas\\io\\parsers\\readers.py:1620\u001b[0m, in \u001b[0;36mTextFileReader.__init__\u001b[1;34m(self, f, engine, **kwds)\u001b[0m\n\u001b[0;32m   1617\u001b[0m     \u001b[38;5;28mself\u001b[39m\u001b[38;5;241m.\u001b[39moptions[\u001b[38;5;124m\"\u001b[39m\u001b[38;5;124mhas_index_names\u001b[39m\u001b[38;5;124m\"\u001b[39m] \u001b[38;5;241m=\u001b[39m kwds[\u001b[38;5;124m\"\u001b[39m\u001b[38;5;124mhas_index_names\u001b[39m\u001b[38;5;124m\"\u001b[39m]\n\u001b[0;32m   1619\u001b[0m \u001b[38;5;28mself\u001b[39m\u001b[38;5;241m.\u001b[39mhandles: IOHandles \u001b[38;5;241m|\u001b[39m \u001b[38;5;28;01mNone\u001b[39;00m \u001b[38;5;241m=\u001b[39m \u001b[38;5;28;01mNone\u001b[39;00m\n\u001b[1;32m-> 1620\u001b[0m \u001b[38;5;28mself\u001b[39m\u001b[38;5;241m.\u001b[39m_engine \u001b[38;5;241m=\u001b[39m \u001b[38;5;28mself\u001b[39m\u001b[38;5;241m.\u001b[39m_make_engine(f, \u001b[38;5;28mself\u001b[39m\u001b[38;5;241m.\u001b[39mengine)\n",
      "File \u001b[1;32m~\\anaconda3\\Lib\\site-packages\\pandas\\io\\parsers\\readers.py:1880\u001b[0m, in \u001b[0;36mTextFileReader._make_engine\u001b[1;34m(self, f, engine)\u001b[0m\n\u001b[0;32m   1878\u001b[0m     \u001b[38;5;28;01mif\u001b[39;00m \u001b[38;5;124m\"\u001b[39m\u001b[38;5;124mb\u001b[39m\u001b[38;5;124m\"\u001b[39m \u001b[38;5;129;01mnot\u001b[39;00m \u001b[38;5;129;01min\u001b[39;00m mode:\n\u001b[0;32m   1879\u001b[0m         mode \u001b[38;5;241m+\u001b[39m\u001b[38;5;241m=\u001b[39m \u001b[38;5;124m\"\u001b[39m\u001b[38;5;124mb\u001b[39m\u001b[38;5;124m\"\u001b[39m\n\u001b[1;32m-> 1880\u001b[0m \u001b[38;5;28mself\u001b[39m\u001b[38;5;241m.\u001b[39mhandles \u001b[38;5;241m=\u001b[39m get_handle(\n\u001b[0;32m   1881\u001b[0m     f,\n\u001b[0;32m   1882\u001b[0m     mode,\n\u001b[0;32m   1883\u001b[0m     encoding\u001b[38;5;241m=\u001b[39m\u001b[38;5;28mself\u001b[39m\u001b[38;5;241m.\u001b[39moptions\u001b[38;5;241m.\u001b[39mget(\u001b[38;5;124m\"\u001b[39m\u001b[38;5;124mencoding\u001b[39m\u001b[38;5;124m\"\u001b[39m, \u001b[38;5;28;01mNone\u001b[39;00m),\n\u001b[0;32m   1884\u001b[0m     compression\u001b[38;5;241m=\u001b[39m\u001b[38;5;28mself\u001b[39m\u001b[38;5;241m.\u001b[39moptions\u001b[38;5;241m.\u001b[39mget(\u001b[38;5;124m\"\u001b[39m\u001b[38;5;124mcompression\u001b[39m\u001b[38;5;124m\"\u001b[39m, \u001b[38;5;28;01mNone\u001b[39;00m),\n\u001b[0;32m   1885\u001b[0m     memory_map\u001b[38;5;241m=\u001b[39m\u001b[38;5;28mself\u001b[39m\u001b[38;5;241m.\u001b[39moptions\u001b[38;5;241m.\u001b[39mget(\u001b[38;5;124m\"\u001b[39m\u001b[38;5;124mmemory_map\u001b[39m\u001b[38;5;124m\"\u001b[39m, \u001b[38;5;28;01mFalse\u001b[39;00m),\n\u001b[0;32m   1886\u001b[0m     is_text\u001b[38;5;241m=\u001b[39mis_text,\n\u001b[0;32m   1887\u001b[0m     errors\u001b[38;5;241m=\u001b[39m\u001b[38;5;28mself\u001b[39m\u001b[38;5;241m.\u001b[39moptions\u001b[38;5;241m.\u001b[39mget(\u001b[38;5;124m\"\u001b[39m\u001b[38;5;124mencoding_errors\u001b[39m\u001b[38;5;124m\"\u001b[39m, \u001b[38;5;124m\"\u001b[39m\u001b[38;5;124mstrict\u001b[39m\u001b[38;5;124m\"\u001b[39m),\n\u001b[0;32m   1888\u001b[0m     storage_options\u001b[38;5;241m=\u001b[39m\u001b[38;5;28mself\u001b[39m\u001b[38;5;241m.\u001b[39moptions\u001b[38;5;241m.\u001b[39mget(\u001b[38;5;124m\"\u001b[39m\u001b[38;5;124mstorage_options\u001b[39m\u001b[38;5;124m\"\u001b[39m, \u001b[38;5;28;01mNone\u001b[39;00m),\n\u001b[0;32m   1889\u001b[0m )\n\u001b[0;32m   1890\u001b[0m \u001b[38;5;28;01massert\u001b[39;00m \u001b[38;5;28mself\u001b[39m\u001b[38;5;241m.\u001b[39mhandles \u001b[38;5;129;01mis\u001b[39;00m \u001b[38;5;129;01mnot\u001b[39;00m \u001b[38;5;28;01mNone\u001b[39;00m\n\u001b[0;32m   1891\u001b[0m f \u001b[38;5;241m=\u001b[39m \u001b[38;5;28mself\u001b[39m\u001b[38;5;241m.\u001b[39mhandles\u001b[38;5;241m.\u001b[39mhandle\n",
      "File \u001b[1;32m~\\anaconda3\\Lib\\site-packages\\pandas\\io\\common.py:873\u001b[0m, in \u001b[0;36mget_handle\u001b[1;34m(path_or_buf, mode, encoding, compression, memory_map, is_text, errors, storage_options)\u001b[0m\n\u001b[0;32m    868\u001b[0m \u001b[38;5;28;01melif\u001b[39;00m \u001b[38;5;28misinstance\u001b[39m(handle, \u001b[38;5;28mstr\u001b[39m):\n\u001b[0;32m    869\u001b[0m     \u001b[38;5;66;03m# Check whether the filename is to be opened in binary mode.\u001b[39;00m\n\u001b[0;32m    870\u001b[0m     \u001b[38;5;66;03m# Binary mode does not support 'encoding' and 'newline'.\u001b[39;00m\n\u001b[0;32m    871\u001b[0m     \u001b[38;5;28;01mif\u001b[39;00m ioargs\u001b[38;5;241m.\u001b[39mencoding \u001b[38;5;129;01mand\u001b[39;00m \u001b[38;5;124m\"\u001b[39m\u001b[38;5;124mb\u001b[39m\u001b[38;5;124m\"\u001b[39m \u001b[38;5;129;01mnot\u001b[39;00m \u001b[38;5;129;01min\u001b[39;00m ioargs\u001b[38;5;241m.\u001b[39mmode:\n\u001b[0;32m    872\u001b[0m         \u001b[38;5;66;03m# Encoding\u001b[39;00m\n\u001b[1;32m--> 873\u001b[0m         handle \u001b[38;5;241m=\u001b[39m \u001b[38;5;28mopen\u001b[39m(\n\u001b[0;32m    874\u001b[0m             handle,\n\u001b[0;32m    875\u001b[0m             ioargs\u001b[38;5;241m.\u001b[39mmode,\n\u001b[0;32m    876\u001b[0m             encoding\u001b[38;5;241m=\u001b[39mioargs\u001b[38;5;241m.\u001b[39mencoding,\n\u001b[0;32m    877\u001b[0m             errors\u001b[38;5;241m=\u001b[39merrors,\n\u001b[0;32m    878\u001b[0m             newline\u001b[38;5;241m=\u001b[39m\u001b[38;5;124m\"\u001b[39m\u001b[38;5;124m\"\u001b[39m,\n\u001b[0;32m    879\u001b[0m         )\n\u001b[0;32m    880\u001b[0m     \u001b[38;5;28;01melse\u001b[39;00m:\n\u001b[0;32m    881\u001b[0m         \u001b[38;5;66;03m# Binary mode\u001b[39;00m\n\u001b[0;32m    882\u001b[0m         handle \u001b[38;5;241m=\u001b[39m \u001b[38;5;28mopen\u001b[39m(handle, ioargs\u001b[38;5;241m.\u001b[39mmode)\n",
      "\u001b[1;31mFileNotFoundError\u001b[0m: [Errno 2] No such file or directory: 'C:\\\\Diplomado_PUCP_25\\\\Enaho01A-2023-300.csv'"
     ]
    }
   ],
   "source": [
    "df = pd.read_csv(\"C:\\Diplomado_PUCP_25\\Enaho01A-2023-300.csv\", encoding=\"ISO-8859-10\")"
   ]
  },
  {
   "cell_type": "code",
   "execution_count": 3,
   "id": "cb8593e8-34f9-4bf6-888b-1d0946e379c7",
   "metadata": {},
   "outputs": [
    {
     "ename": "NameError",
     "evalue": "name 'df' is not defined",
     "output_type": "error",
     "traceback": [
      "\u001b[1;31m---------------------------------------------------------------------------\u001b[0m",
      "\u001b[1;31mNameError\u001b[0m                                 Traceback (most recent call last)",
      "Cell \u001b[1;32mIn[3], line 2\u001b[0m\n\u001b[0;32m      1\u001b[0m \u001b[38;5;66;03m# Mostrar las primeras filas\u001b[39;00m\n\u001b[1;32m----> 2\u001b[0m \u001b[38;5;28mprint\u001b[39m(df\u001b[38;5;241m.\u001b[39mhead())\n",
      "\u001b[1;31mNameError\u001b[0m: name 'df' is not defined"
     ]
    }
   ],
   "source": [
    "# Mostrar las primeras filas\n",
    "print(df.head())"
   ]
  },
  {
   "cell_type": "code",
   "execution_count": 5,
   "id": "cf580ae7-ffe3-4d0b-b056-80fcad5655d8",
   "metadata": {},
   "outputs": [
    {
     "name": "stdout",
     "output_type": "stream",
     "text": [
      "['AŅO', 'MES', 'CONGLOME', 'VIVIENDA', 'HOGAR', 'CODPERSO', 'UBIGEO', 'DOMINIO', 'ESTRATO', 'CODINFOR', 'P300N', 'P300I', 'P300A', 'P301A', 'P301B', 'P301C', 'P301D', 'P301A0', 'P301A1', 'P301B0', 'P301B1', 'P301B3', 'P302', 'P302X', 'P302A', 'P302B', 'P303', 'P304A', 'P304B', 'P304C', 'P304D', 'P305', 'P306', 'P307', 'P307A1', 'P307A2', 'P307A3', 'P307A4', 'P307A4_5', 'P307A4_6', 'P307A4_7', 'P307B1', 'P307B2', 'P307B3', 'P307B4', 'P307B4_5', 'P307B4_6', 'P307B4_7', 'P307C', 'P308A', 'P308B', 'P308C', 'P308D', 'P308B1', 'P308B2', 'P308B3', 'P308B4', 'P308B5', 'P308C1', 'P308C2', 'P310', 'P310B1', 'P310C0', 'P310C1', 'P310D1', 'P310D2', 'P310E0', 'P310E1', 'P310E3', 'P311N$1', 'P311N$2', 'P311N$3', 'P311N$4', 'P311N$5', 'P311N$6', 'P311N$7', 'P311N$8', 'P311N$9', 'P311$1', 'P311$2', 'P311$3', 'P311$4', 'P311$5', 'P311$6', 'P311$7', 'P311$8', 'P311$9', 'P311A1$1', 'P311A1$2', 'P311A1$3', 'P311A1$4', 'P311A1$5', 'P311A1$6', 'P311A1$7', 'P311A1$8', 'P311A1$9', 'P311A2$1', 'P311A2$2', 'P311A2$3', 'P311A2$4', 'P311A2$5', 'P311A2$6', 'P311A2$7', 'P311A2$8', 'P311A2$9', 'P311A3$1', 'P311A3$2', 'P311A3$3', 'P311A3$4', 'P311A3$5', 'P311A3$6', 'P311A3$7', 'P311A3$8', 'P311A3$9', 'P311A4$1', 'P311A4$2', 'P311A4$3', 'P311A4$4', 'P311A4$5', 'P311A4$6', 'P311A4$7', 'P311A4$8', 'P311A4$9', 'P311A5$1', 'P311A5$2', 'P311A5$3', 'P311A5$4', 'P311A5$5', 'P311A5$6', 'P311A5$7', 'P311A5$8', 'P311A5$9', 'P311A6$1', 'P311A6$2', 'P311A6$3', 'P311A6$4', 'P311A6$5', 'P311A6$6', 'P311A6$7', 'P311A6$8', 'P311A6$9', 'P311A7$1', 'P311A7$2', 'P311A7$3', 'P311A7$4', 'P311A7$5', 'P311A7$6', 'P311A7$7', 'P311A7$8', 'P311A7$9', 'P311B$1', 'P311B$2', 'P311B$3', 'P311B$4', 'P311B$5', 'P311B$6', 'P311B$7', 'P311B$8', 'P311B$9', 'P311C$1', 'P311C$2', 'P311C$3', 'P311C$4', 'P311C$5', 'P311C$6', 'P311C$7', 'P311C$8', 'P311C$9', 'P311D$1', 'P311D$2', 'P311D$3', 'P311D$4', 'P311D$5', 'P311D$6', 'P311D$7', 'P311D$8', 'P311D$9', 'P311D2$1', 'P311D2$2', 'P311D2$3', 'P311D2$4', 'P311D2$5', 'P311D2$6', 'P311D2$7', 'P311D2$8', 'P311D2$9', 'P311D3$1', 'P311D3$2', 'P311D3$3', 'P311D3$4', 'P311D3$5', 'P311D3$6', 'P311D3$7', 'P311D3$8', 'P311D3$9', 'P311D4$1', 'P311D4$2', 'P311D4$3', 'P311D4$4', 'P311D4$5', 'P311D4$6', 'P311D4$7', 'P311D4$8', 'P311D4$9', 'P311D5$1', 'P311D5$2', 'P311D5$3', 'P311D5$4', 'P311D5$5', 'P311D5$6', 'P311D5$7', 'P311D5$8', 'P311D5$9', 'P311D6$1', 'P311D6$2', 'P311D6$3', 'P311D6$4', 'P311D6$5', 'P311D6$6', 'P311D6$7', 'P311D6$8', 'P311D6$9', 'P311D7$1', 'P311D7$2', 'P311D7$3', 'P311D7$4', 'P311D7$5', 'P311D7$6', 'P311D7$7', 'P311D7$8', 'P311D7$9', 'P311E$1', 'P311E$2', 'P311E$3', 'P311E$4', 'P311E$5', 'P311E$6', 'P311E$7', 'P311E$8', 'P311E$9', 'P311T1', 'P311T22', 'P311T23', 'P311T24', 'P311T25', 'P311T26', 'P311T27', 'P311T2', 'P3121', 'P3121A1', 'P3121A2', 'P3121A3', 'P3121A4', 'P3121A5', 'P3121A6', 'P3121B', 'P3121C', 'P3121C2', 'P3121C3', 'P3121C4', 'P3121C5', 'P3121C6', 'P3121D', 'P3122', 'P3122A1', 'P3122A2', 'P3122A3', 'P3122A4', 'P3122A5', 'P3122A6', 'P3122B', 'P3122C', 'P3122C2', 'P3122C3', 'P3122C4', 'P3122C5', 'P3122C6', 'P3122D', 'P312T1', 'P312T22', 'P312T23', 'P312T24', 'P312T25', 'P312T26', 'P312T2', 'P313', 'P314A', 'P314B$1', 'P314B$2', 'P314B$3', 'P314B$4', 'P314B$5', 'P314B$6', 'P314B$7', 'P314B1_1', 'P314B1_2', 'P314B1_6', 'P314B1_7', 'P314B1_8', 'P314B1_9', 'P314D', 'P3151', 'P3152', 'P3153', 'P3154', 'P3155', 'P3156', 'P315A', 'P315B', 'P315B2', 'P315B3', 'P315B4', 'P315B5', 'P315B6', 'P316$1', 'P316$2', 'P316$3', 'P316$4', 'P316$5', 'P316$6', 'P316$7', 'P316$8', 'P316$9', 'P316$10', 'P316$11', 'P316$12', 'P316A1', 'P316A2', 'P316A3', 'P316A4', 'P316A5', 'P316A6', 'P316B', 'P316C1', 'P316C2', 'P316C3', 'P316C4', 'P316C5', 'P316C6', 'P316C7', 'P316C8', 'P316C9', 'P316C10', 'T313A', 'P203', 'P204', 'P205', 'P206', 'P207', 'P208A', 'P209', 'IMPUTADO', 'TICUEST01A', 'D311B$1', 'D311D2$1', 'D311D3$1', 'D311D4$1', 'D311D5$1', 'D311D6$1', 'D311D7$1', 'D311D$1', 'D311B$2', 'D311D2$2', 'D311D3$2', 'D311D4$2', 'D311D5$2', 'D311D6$2', 'D311D7$2', 'D311D$2', 'D311B$3', 'D311D2$3', 'D311D3$3', 'D311D4$3', 'D311D5$3', 'D311D6$3', 'D311D7$3', 'D311D$3', 'D311B$4', 'D311D2$4', 'D311D3$4', 'D311D4$4', 'D311D5$4', 'D311D6$4', 'D311D7$4', 'D311D$4', 'D311B$5', 'D311D2$5', 'D311D3$5', 'D311D4$5', 'D311D5$5', 'D311D6$5', 'D311D7$5', 'D311D$5', 'D311B$6', 'D311D2$6', 'D311D3$6', 'D311D4$6', 'D311D5$6', 'D311D6$6', 'D311D7$6', 'D311D$6', 'D311B$7', 'D311D2$7', 'D311D3$7', 'D311D4$7', 'D311D5$7', 'D311D6$7', 'D311D7$7', 'D311D$7', 'D3121B', 'D3121C2', 'D3121C3', 'D3121C4', 'D3121C5', 'D3121C6', 'D3121C', 'D3122B', 'D3122C2', 'D3122C3', 'D3122C4', 'D3122C5', 'D3122C6', 'D3122C', 'D315A', 'D315B2', 'D315B3', 'D315B4', 'D315B5', 'D315B6', 'D315B', 'I311B$1', 'I311B$2', 'I311B$4', 'I311B$6', 'I311B$3', 'I311B$5', 'I311B$7', 'I311D2$1', 'I311D3$1', 'I311D4$1', 'I311D5$1', 'I311D6$1', 'I311D7$1', 'I311D2$2', 'I311D3$2', 'I311D4$2', 'I311D5$2', 'I311D6$2', 'I311D7$2', 'I311D2$4', 'I311D3$4', 'I311D4$4', 'I311D5$4', 'I311D6$4', 'I311D7$4', 'I311D2$6', 'I311D3$6', 'I311D4$6', 'I311D5$6', 'I311D6$6', 'I311D7$6', 'I311D2$3', 'I311D3$3', 'I311D4$3', 'I311D5$3', 'I311D6$3', 'I311D7$3', 'I311D2$5', 'I311D3$5', 'I311D4$5', 'I311D5$5', 'I311D6$5', 'I311D7$5', 'I311D2$7', 'I311D3$7', 'I311D4$7', 'I311D5$7', 'I311D6$7', 'I311D7$7', 'I3121B', 'I3122B', 'I3121C2', 'I3121C3', 'I3121C4', 'I3121C5', 'I3121C6', 'I3122C2', 'I3122C3', 'I3122C4', 'I3122C5', 'I3122C6', 'I315A', 'I315B2', 'I315B3', 'I315B4', 'I315B5', 'I315B6', 'I311D$1', 'I311D$2', 'I311D$3', 'I311D$4', 'I311D$5', 'I311D$6', 'I311D$7', 'I3121C', 'I3122C', 'I315B', 'FACTOR07', 'FACTORA07', 'NCONGLOME', 'SUB_CONGLOME']\n"
     ]
    }
   ],
   "source": [
    "# Convertir nombres de columnas a lista\n",
    "print(list(df.columns))"
   ]
  },
  {
   "cell_type": "code",
   "execution_count": 6,
   "id": "8394fd35-c197-427e-a88c-28cb2e3d0fc2",
   "metadata": {},
   "outputs": [
    {
     "name": "stdout",
     "output_type": "stream",
     "text": [
      "AŅO               int64\n",
      "MES               int64\n",
      "CONGLOME          int64\n",
      "VIVIENDA          int64\n",
      "HOGAR             int64\n",
      "                 ...   \n",
      "I315B            object\n",
      "FACTOR07        float64\n",
      "FACTORA07       float64\n",
      "NCONGLOME         int64\n",
      "SUB_CONGLOME      int64\n",
      "Length: 511, dtype: object\n"
     ]
    }
   ],
   "source": [
    "# Revisar tipos de datos\n",
    "print(df.dtypes)"
   ]
  },
  {
   "cell_type": "code",
   "execution_count": 7,
   "id": "1679a097-8465-4c10-9775-4332be68ad45",
   "metadata": {},
   "outputs": [
    {
     "name": "stdout",
     "output_type": "stream",
     "text": [
      "   CONGLOME  VIVIENDA  HOGAR  CODPERSO  P208A P209  P301A\n",
      "0      5030         2     11         1     43    1      8\n",
      "1      5030         2     11         2     41    1     10\n",
      "2      5030         2     11         3      9           3\n",
      "3      5030         2     11         4      7           3\n",
      "4      5030        11     11         1     60    2      4\n"
     ]
    }
   ],
   "source": [
    "# Seleccionar submuestra (ejemplo con 4 obligatorias + 3 más de interés)\n",
    "sub_df = df[['CONGLOME', 'VIVIENDA', 'HOGAR', 'CODPERSO',\n",
    "             'P208A', 'P209', 'P301A']]\n",
    "\n",
    "print(sub_df.head())"
   ]
  },
  {
   "cell_type": "code",
   "execution_count": 1,
   "id": "f9696afc-a843-4a1c-b518-86d4cdcb1cd1",
   "metadata": {},
   "outputs": [],
   "source": []
  },
  {
   "cell_type": "markdown",
   "id": "1b51cfef-27fb-47ee-b869-5bd4cd1d6675",
   "metadata": {},
   "source": [
    "---\n",
    "\n",
    "2. **Data Manipulation (Data Cleaning):**  \n",
    "- Explore the DataFrame using summary functions.  \n",
    "- Identify if there are missing values.  \n",
    "- If they exist, remove them.  \n"
   ]
  },
  {
   "cell_type": "code",
   "execution_count": 8,
   "id": "8247e351-f5a8-4f4b-b6c1-7a2c4d26653d",
   "metadata": {},
   "outputs": [
    {
     "name": "stdout",
     "output_type": "stream",
     "text": [
      "<class 'pandas.core.frame.DataFrame'>\n",
      "RangeIndex: 108354 entries, 0 to 108353\n",
      "Columns: 511 entries, AŅO to SUB_CONGLOME\n",
      "dtypes: float64(2), int64(21), object(488)\n",
      "memory usage: 422.4+ MB\n",
      "None\n",
      "            AŅO            MES       CONGLOME       VIVIENDA          HOGAR  \\\n",
      "count  108354.0  108354.000000  108354.000000  108354.000000  108354.000000   \n",
      "mean     2023.0       6.495127   16944.756797      77.820330      11.146271   \n",
      "std         0.0       3.445244    3144.386733      68.547022       1.370084   \n",
      "min      2023.0       1.000000    5007.000000       1.000000      11.000000   \n",
      "25%      2023.0       3.000000   16028.000000      31.000000      11.000000   \n",
      "50%      2023.0       7.000000   17500.000000      66.000000      11.000000   \n",
      "75%      2023.0       9.000000   19014.000000     106.000000      11.000000   \n",
      "max      2023.0      12.000000   21001.000000     991.000000      44.000000   \n",
      "\n",
      "            CODPERSO         UBIGEO        DOMINIO        ESTRATO  \\\n",
      "count  108354.000000  108354.000000  108354.000000  108354.000000   \n",
      "mean        2.546293  131185.171087       4.864961       4.138961   \n",
      "std         1.577737   67736.903764       2.404443       2.432348   \n",
      "min         1.000000   10101.000000       1.000000       1.000000   \n",
      "25%         1.000000   80101.000000       2.000000       2.000000   \n",
      "50%         2.000000  140108.000000       5.000000       4.000000   \n",
      "75%         3.000000  180301.000000       7.000000       7.000000   \n",
      "max        22.000000  250401.000000       8.000000       8.000000   \n",
      "\n",
      "            CODINFOR  ...          P301A           P203           P204  \\\n",
      "count  108354.000000  ...  108354.000000  108354.000000  108354.000000   \n",
      "mean        2.033058  ...       5.258652       2.548729       1.005787   \n",
      "std         1.282622  ...       3.807669       1.716218       0.075850   \n",
      "min         0.000000  ...       1.000000       1.000000       1.000000   \n",
      "25%         1.000000  ...       3.000000       1.000000       1.000000   \n",
      "50%         2.000000  ...       5.000000       3.000000       1.000000   \n",
      "75%         2.000000  ...       6.000000       3.000000       1.000000   \n",
      "max        21.000000  ...      99.000000      11.000000       2.000000   \n",
      "\n",
      "                P207          P208A     TICUEST01A       FACTOR07  \\\n",
      "count  108354.000000  108354.000000  108354.000000  108354.000000   \n",
      "mean        1.513428      35.619839       1.999539     305.556281   \n",
      "std         0.499822      22.152408       0.021477     310.795722   \n",
      "min         1.000000       3.000000       1.000000       1.087094   \n",
      "25%         1.000000      16.000000       2.000000     123.659256   \n",
      "50%         2.000000      33.000000       2.000000     233.634140   \n",
      "75%         2.000000      53.000000       2.000000     354.661774   \n",
      "max         2.000000      98.000000       2.000000    1961.005981   \n",
      "\n",
      "           FACTORA07      NCONGLOME   SUB_CONGLOME  \n",
      "count  108354.000000  108354.000000  108354.000000  \n",
      "mean      302.602025   23603.093914       0.282325  \n",
      "std       322.927385   15607.753763       0.662107  \n",
      "min         0.422172       2.000000       0.000000  \n",
      "25%       101.125488    8855.000000       0.000000  \n",
      "50%       218.866760   20186.000000       0.000000  \n",
      "75%       365.609833   37361.000000       0.000000  \n",
      "max      2917.495850   51561.000000       6.000000  \n",
      "\n",
      "[8 rows x 23 columns]\n"
     ]
    }
   ],
   "source": [
    "# Explorar el DataFrame con funciones de resumen\n",
    "print(df.info())       # Información general (filas, columnas, tipos de datos, valores nulos)\n",
    "print(df.describe())   # Estadísticos básicos de las variables numéricas"
   ]
  },
  {
   "cell_type": "code",
   "execution_count": 9,
   "id": "463f012f-eabd-469c-a8ea-e789298b8d59",
   "metadata": {},
   "outputs": [
    {
     "name": "stdout",
     "output_type": "stream",
     "text": [
      "AŅO             0\n",
      "MES             0\n",
      "CONGLOME        0\n",
      "VIVIENDA        0\n",
      "HOGAR           0\n",
      "               ..\n",
      "I315B           0\n",
      "FACTOR07        0\n",
      "FACTORA07       0\n",
      "NCONGLOME       0\n",
      "SUB_CONGLOME    0\n",
      "Length: 511, dtype: int64\n"
     ]
    }
   ],
   "source": [
    "# Identificar si hay valores perdidos\n",
    "print(df.isnull().sum())   # Muestra cuántos valores faltan por cada columna"
   ]
  },
  {
   "cell_type": "code",
   "execution_count": 10,
   "id": "d290ddcf-a8ab-4f1f-8d34-2f1aedb4f5ee",
   "metadata": {},
   "outputs": [],
   "source": [
    "# Eliminar filas con valores perdidos (si existen)\n",
    "df_limpio = df.dropna()"
   ]
  },
  {
   "cell_type": "code",
   "execution_count": 11,
   "id": "3dec5ac6-f396-4cb4-9c7d-0bf8c4a93d3f",
   "metadata": {},
   "outputs": [
    {
     "name": "stdout",
     "output_type": "stream",
     "text": [
      "AŅO             0\n",
      "MES             0\n",
      "CONGLOME        0\n",
      "VIVIENDA        0\n",
      "HOGAR           0\n",
      "               ..\n",
      "I315B           0\n",
      "FACTOR07        0\n",
      "FACTORA07       0\n",
      "NCONGLOME       0\n",
      "SUB_CONGLOME    0\n",
      "Length: 511, dtype: int64\n"
     ]
    }
   ],
   "source": [
    "# Verificar nuevamente\n",
    "print(df_limpio.isnull().sum())"
   ]
  },
  {
   "cell_type": "code",
   "execution_count": null,
   "id": "736d948e-f7d4-438f-8da4-6d0d487e039d",
   "metadata": {},
   "outputs": [],
   "source": []
  },
  {
   "cell_type": "markdown",
   "id": "3d578fd2-559f-4d0b-9c01-f954833d354c",
   "metadata": {},
   "source": [
    "---\n",
    "\n",
    "3. Import a second dataset (choose between `Enaho01A-2023-200.csv` or `Enaho01A-2023-500.csv`).  \n",
    "- Display the **first 5 rows**.  \n",
    "- Convert the column names into a **list** and print it.  \n",
    "- Check the **data types**.  \n",
    "- Select a subsample containing the variables `['CONGLOME', 'VIVIENDA', 'HOGAR', 'CODPERSO']` and between 3–5 additional variables of your interest.  \n",
    "- Perform the following modifications:  \n",
    "  - **A.** Change the data type of a variable (e.g., from text to numeric).  \n",
    "  - **B.** Modify some values in a specific column.  "
   ]
  },
  {
   "cell_type": "code",
   "execution_count": 12,
   "id": "b74fec4b-9e36-4a42-8c01-de4078dd6994",
   "metadata": {},
   "outputs": [],
   "source": [
    "df2 = pd.read_csv(\"C:\\Diplomado_PUCP_25\\Enaho01-2023-200.csv\", encoding=\"ISO-8859-10\")"
   ]
  },
  {
   "cell_type": "code",
   "execution_count": 13,
   "id": "d2e8df94-11f1-472c-87bb-c1f962e6de54",
   "metadata": {},
   "outputs": [
    {
     "name": "stdout",
     "output_type": "stream",
     "text": [
      "    AŅO  MES  CONGLOME  VIVIENDA  HOGAR  CODPERSO  UBIGEO  DOMINIO  ESTRATO  \\\n",
      "0  2023    2      5007        22     11         1   10101        4        4   \n",
      "1  2023    2      5007        22     11         2   10101        4        4   \n",
      "2  2023    2      5007        22     11         3   10101        4        4   \n",
      "3  2023    2      5007        31     11         1   10101        4        4   \n",
      "4  2023    2      5007        31     11         2   10101        4        4   \n",
      "\n",
      "               P201P  ...  OCUPAC_R3 OCUPAC_R4 RAMA_R3 RAMA_R4 CODTAREA  \\\n",
      "0  20190050070221101  ...                                                 \n",
      "1  20190050070221102  ...                                                 \n",
      "2  20190050070221104  ...                                                 \n",
      "3  20190050070311102  ...                                                 \n",
      "4  20230050070311102  ...                                                 \n",
      "\n",
      "  CODTIEMPO TICUEST01   FACPOB07 NCONGLOME SUB_CONGLOME  \n",
      "0                   2  50.466671      7070            0  \n",
      "1                   2  50.466671      7070            0  \n",
      "2                   2  50.466671      7070            0  \n",
      "3                   2  50.466671      7070            0  \n",
      "4                   2  50.466671      7070            0  \n",
      "\n",
      "[5 rows x 40 columns]\n"
     ]
    }
   ],
   "source": [
    "# Ver primeras 5 filas\n",
    "print(df2.head())"
   ]
  },
  {
   "cell_type": "code",
   "execution_count": 14,
   "id": "b4fab170-3772-486e-805c-e694d338c93c",
   "metadata": {},
   "outputs": [
    {
     "name": "stdout",
     "output_type": "stream",
     "text": [
      "['AŅO', 'MES', 'CONGLOME', 'VIVIENDA', 'HOGAR', 'CODPERSO', 'UBIGEO', 'DOMINIO', 'ESTRATO', 'P201P', 'P203', 'P203A', 'P203B', 'P204', 'P205', 'P206', 'P207', 'P208A', 'P208B', 'P209', 'P210', 'P211A', 'P211D', 'P212', 'P213', 'P214', 'P215', 'P216', 'P217', 'T211', 'OCUPAC_R3', 'OCUPAC_R4', 'RAMA_R3', 'RAMA_R4', 'CODTAREA', 'CODTIEMPO', 'TICUEST01', 'FACPOB07', 'NCONGLOME', 'SUB_CONGLOME']\n"
     ]
    }
   ],
   "source": [
    "# Nombres de columnas como lista\n",
    "print(list(df2.columns))"
   ]
  },
  {
   "cell_type": "code",
   "execution_count": 15,
   "id": "da4987a3-d70a-491b-b039-f815e995c6b5",
   "metadata": {},
   "outputs": [
    {
     "name": "stdout",
     "output_type": "stream",
     "text": [
      "AŅO               int64\n",
      "MES               int64\n",
      "CONGLOME          int64\n",
      "VIVIENDA          int64\n",
      "HOGAR             int64\n",
      "CODPERSO          int64\n",
      "UBIGEO            int64\n",
      "DOMINIO           int64\n",
      "ESTRATO           int64\n",
      "P201P             int64\n",
      "P203              int64\n",
      "P203A            object\n",
      "P203B            object\n",
      "P204             object\n",
      "P205             object\n",
      "P206             object\n",
      "P207             object\n",
      "P208A            object\n",
      "P208B            object\n",
      "P209             object\n",
      "P210             object\n",
      "P211A            object\n",
      "P211D            object\n",
      "P212             object\n",
      "P213             object\n",
      "P214             object\n",
      "P215             object\n",
      "P216             object\n",
      "P217             object\n",
      "T211             object\n",
      "OCUPAC_R3        object\n",
      "OCUPAC_R4        object\n",
      "RAMA_R3          object\n",
      "RAMA_R4          object\n",
      "CODTAREA         object\n",
      "CODTIEMPO        object\n",
      "TICUEST01         int64\n",
      "FACPOB07        float64\n",
      "NCONGLOME         int64\n",
      "SUB_CONGLOME      int64\n",
      "dtype: object\n"
     ]
    }
   ],
   "source": [
    "# Tipos de datos\n",
    "print(df2.dtypes)"
   ]
  },
  {
   "cell_type": "code",
   "execution_count": 16,
   "id": "d209c4bf-6310-4012-9bc4-a1658ae9ea47",
   "metadata": {},
   "outputs": [
    {
     "name": "stdout",
     "output_type": "stream",
     "text": [
      "   CONGLOME  VIVIENDA  HOGAR  CODPERSO P208A P209 P210\n",
      "0      5007        22     11         1    64    2     \n",
      "1      5007        22     11         2    63    2     \n",
      "2      5007        22     11         3    31    6     \n",
      "3      5007        31     11         1    79    3     \n",
      "4      5007        31     11         2    50    1     \n"
     ]
    }
   ],
   "source": [
    "# Submuestra con variables de interés\n",
    "sub_df2 = df2[['CONGLOME', 'VIVIENDA', 'HOGAR', 'CODPERSO',\n",
    "               'P208A', 'P209', 'P210']]  # 3 variables extra como ejemplo\n",
    "print(sub_df2.head())\n"
   ]
  },
  {
   "cell_type": "code",
   "execution_count": 17,
   "id": "c56b3fff-316a-40cb-b93c-6c7155ebd077",
   "metadata": {},
   "outputs": [
    {
     "name": "stderr",
     "output_type": "stream",
     "text": [
      "C:\\Users\\econg\\AppData\\Local\\Temp\\ipykernel_13132\\1983104125.py:2: SettingWithCopyWarning: \n",
      "A value is trying to be set on a copy of a slice from a DataFrame.\n",
      "Try using .loc[row_indexer,col_indexer] = value instead\n",
      "\n",
      "See the caveats in the documentation: https://pandas.pydata.org/pandas-docs/stable/user_guide/indexing.html#returning-a-view-versus-a-copy\n",
      "  sub_df2['P208A'] = pd.to_numeric(sub_df2['P208A'], errors='coerce')\n"
     ]
    }
   ],
   "source": [
    "# Cambiar el tipo de dato de una variable (ejemplo: P208A a numérico)\n",
    "sub_df2['P208A'] = pd.to_numeric(sub_df2['P208A'], errors='coerce')"
   ]
  },
  {
   "cell_type": "code",
   "execution_count": 18,
   "id": "fc8e77db-dc31-4a44-8913-9286b0e51095",
   "metadata": {},
   "outputs": [
    {
     "name": "stdout",
     "output_type": "stream",
     "text": [
      "   CONGLOME  VIVIENDA  HOGAR  CODPERSO  P208A P209 P210\n",
      "0      5007        22     11         1   64.0    2     \n",
      "1      5007        22     11         2   63.0    2     \n",
      "2      5007        22     11         3   31.0    6     \n",
      "3      5007        31     11         1   79.0    3     \n",
      "4      5007        31     11         2   50.0    1     \n"
     ]
    },
    {
     "name": "stderr",
     "output_type": "stream",
     "text": [
      "C:\\Users\\econg\\AppData\\Local\\Temp\\ipykernel_13132\\2934664164.py:3: SettingWithCopyWarning: \n",
      "A value is trying to be set on a copy of a slice from a DataFrame.\n",
      "Try using .loc[row_indexer,col_indexer] = value instead\n",
      "\n",
      "See the caveats in the documentation: https://pandas.pydata.org/pandas-docs/stable/user_guide/indexing.html#returning-a-view-versus-a-copy\n",
      "  sub_df2['P209'] = sub_df2['P209'].replace({1: 'Hombre', 2: 'Mujer'})\n"
     ]
    }
   ],
   "source": [
    "# Modificar algunos valores en una columna (ejemplo: renombrar en P209)\n",
    "# Supongamos que P209 = 1 es \"Hombre\" y 2 es \"Mujer\"\n",
    "sub_df2['P209'] = sub_df2['P209'].replace({1: 'Hombre', 2: 'Mujer'})\n",
    "\n",
    "print(sub_df2.head())"
   ]
  },
  {
   "cell_type": "code",
   "execution_count": null,
   "id": "861883b2-5b87-4404-9371-341daf6d846c",
   "metadata": {},
   "outputs": [],
   "source": []
  },
  {
   "cell_type": "markdown",
   "id": "28fe9cbd-7a0f-42a8-918b-3a5a6ea56ca2",
   "metadata": {},
   "source": [
    "---\n",
    "\n",
    "4. **Merging Datasets:**  [2 pts]\n",
    "- Identify the common columns between the two datasets (from questions 16 and 18).  \n",
    "- Verify whether the values match in both datasets. If not, correct the mismatched values to ensure a proper merge.  \n",
    "\n",
    "> Recommendation: Use the following as common columns:  \n",
    "> `common_columns = ['CONGLOME', 'VIVIENDA', 'HOGAR', 'CODPERSO']`  \n",
    "> in `pd.merge(..., on=common_columns, how=...)`.  \n",
    "\n",
    "- Perform the **merge**.  \n",
    "- Display the **first 5 rows** of the resulting DataFrame.  "
   ]
  },
  {
   "cell_type": "code",
   "execution_count": 19,
   "id": "6699a567-d04c-4910-86e6-a1ba3d4c86b2",
   "metadata": {},
   "outputs": [],
   "source": [
    "# Hemos importado df (300) y df2 (200)\n",
    "# Definir columnas comunes\n",
    "common_columns = ['CONGLOME', 'VIVIENDA', 'HOGAR', 'CODPERSO']"
   ]
  },
  {
   "cell_type": "code",
   "execution_count": 20,
   "id": "935ed4cb-6828-41e9-8705-cc3df3d5de91",
   "metadata": {},
   "outputs": [
    {
     "name": "stdout",
     "output_type": "stream",
     "text": [
      "Columnas en df: {'P311D7$9', 'FACTOR07', 'P311D5$8', 'P311D5$9', 'P3122A4', 'P316C4', 'D315B5', 'P311B$4', 'P311B$7', 'P311C$1', 'P209', 'D311D7$1', 'D311D4$6', 'I311D4$7', 'P311A1$8', 'P311D3$8', 'P311A6$1', 'P3122A2', 'P314B1_2', 'I311B$2', 'P314B1_6', 'P316C3', 'P311B$1', 'I311D3$4', 'I311D5$2', 'P311A3$4', 'I311D2$7', 'P308C1', 'P311D5$2', 'P301C', 'P311C$3', 'P311D6$2', 'P305', 'P3122A1', 'P205', 'P301A0', 'D311D5$1', 'P315B2', 'P311C$2', 'D311D5$5', 'I311D2$4', 'I311D$2', 'P314B$5', 'P311A2$7', 'P311N$8', 'P311A6$2', 'I315B6', 'I311D5$7', 'P311B$6', 'P311D7$1', 'P311$7', 'I311D6$2', 'D3121B', 'P314B$2', 'P311D2$6', 'I311D$7', 'P311D3$4', 'P311B$5', 'D311D6$1', 'P311A1$5', 'P311E$3', 'P316C10', 'I311D6$1', 'P307B3', 'P3121D', 'P311A7$5', 'P300N', 'D311D5$7', 'DOMINIO', 'D3121C2', 'D3121C3', 'P311A7$3', 'P311A3$7', 'P311A7$1', 'D311D2$1', 'P315B6', 'D3122C4', 'D311D$7', 'P307B4', 'I311D2$3', 'P311E$2', 'P3121B', 'P311$4', 'P316$11', 'D311D6$2', 'P311D7$6', 'P311D3$7', 'P314B1_7', 'MES', 'P311D7$7', 'P3122A6', 'P315B', 'FACTORA07', 'P311A2$9', 'P316$5', 'P3121C2', 'P311N$7', 'P311D3$5', 'D3121C4', 'P311$8', 'P311D6$7', 'ESTRATO', 'D311D5$3', 'P311D$5', 'P304A', 'I315A', 'P311$6', 'I311D6$5', 'I311D$4', 'P307', 'P311D3$1', 'P3122A5', 'P310', 'P311A6$3', 'P311D4$6', 'D3121C5', 'I3121C5', 'P311E$6', 'P302B', 'P311D4$3', 'P207', 'P3122C5', 'P311A2$1', 'P311A1$7', 'P311D4$2', 'I311D6$3', 'P203', 'P302', 'P311E$4', 'P311D6$3', 'D3121C', 'D311D4$3', 'D315B', 'I311D7$3', 'P314A', 'P311C$9', 'D3122B', 'P308D', 'I3121C', 'P314B$7', 'D311D4$2', 'P311A2$2', 'I311D7$5', 'HOGAR', 'I311D4$3', 'D311B$5', 'I311D6$6', 'I311D2$5', 'AŅO', 'I311D5$3', 'P311B$9', 'P311A1$3', 'P311D3$2', 'P311D7$8', 'P311A4$4', 'I311D7$7', 'P311A5$1', 'D311D5$6', 'P311A3$9', 'P310D1', 'I311D5$1', 'P303', 'P311$9', 'P311D$9', 'P311A2$5', 'D311D6$5', 'P314B1_9', 'I311D3$5', 'D311D$1', 'P311A6$4', 'P301A', 'I311B$1', 'CONGLOME', 'P311A6$9', 'D315B4', 'P316C6', 'D311D6$4', 'P311D7$5', 'P314B$1', 'D311D7$5', 'P311A4$5', 'P314D', 'P311N$3', 'P307B2', 'P311T26', 'P311D$4', 'P316$3', 'P311D6$5', 'P311A6$5', 'P204', 'I311D5$6', 'P315A', 'P3121C3', 'I3121C6', 'P311A4$2', 'P311A5$2', 'D311D7$7', 'P316C7', 'D315B6', 'I315B', 'P311D5$7', 'D311B$6', 'D311D4$4', 'P312T26', 'P311A5$7', 'P311D2$1', 'I3122C6', 'I311D4$4', 'I3121C3', 'P311N$9', 'P311$5', 'P3122C2', 'D3122C', 'UBIGEO', 'CODINFOR', 'P316$7', 'I311D4$5', 'NCONGLOME', 'D311D$4', 'P306', 'D3122C6', 'I3122C5', 'P3122C6', 'P307A1', 'D311D2$4', 'D311D3$1', 'P3122C4', 'TICUEST01A', 'P311E$1', 'D315B3', 'P311D5$4', 'I311B$7', 'I315B2', 'P308B3', 'I311D6$4', 'D3122C5', 'I311B$5', 'P307C', 'I3121C4', 'D311D7$3', 'D3122C2', 'P206', 'D311D$3', 'P311D4$1', 'P3151', 'P311D3$3', 'P311D7$4', 'P3121C5', 'P311T23', 'P312T1', 'P311A7$2', 'P208A', 'D311D6$3', 'P301D', 'P308A', 'P3121C', 'D311D4$5', 'P3121A3', 'P311T27', 'P314B1_1', 'P316A3', 'D311D$2', 'P311D5$1', 'P315B5', 'P3152', 'P316$8', 'P311A3$8', 'P307B4_7', 'P311A2$8', 'P316C2', 'D311B$4', 'I3121C2', 'P311E$7', 'I3122C4', 'P301B1', 'I311D$6', 'P311A5$6', 'P302A', 'P312T23', 'P311D3$6', 'D311D6$6', 'P311D2$3', 'D311D5$4', 'P311D4$5', 'P311$3', 'P311D4$9', 'P308B5', 'P316C5', 'P311A7$6', 'P316C8', 'P310B1', 'P311D3$9', 'P311A4$6', 'D311D2$6', 'P3121A5', 'P311A5$5', 'P316A1', 'P311B$8', 'P316$2', 'P307A2', 'I3122C', 'D311B$7', 'I3122C2', 'P308C', 'P311A1$4', 'P311A5$4', 'D311D2$2', 'D311D3$5', 'I311D7$1', 'P314B$3', 'P316C9', 'P311A3$1', 'P3122C3', 'P301B0', 'P311A3$3', 'P311N$4', 'P3121A6', 'D315B2', 'P316$9', 'I311D7$4', 'P314B$4', 'P3121A2', 'D311D2$7', 'D311D4$1', 'D311B$2', 'P311D4$8', 'D315A', 'P316$6', 'D311D3$3', 'P310C1', 'D311D5$2', 'P311T22', 'P311D6$1', 'P312T24', 'P3121C6', 'P316$12', 'P311T1', 'P3122A3', 'D311D7$6', 'P316A2', 'P311D$1', 'P315B4', 'SUB_CONGLOME', 'P316A5', 'P307A4_7', 'P311C$4', 'P311D$6', 'P311A5$9', 'P311D5$5', 'I311B$6', 'I311D7$6', 'I311D$5', 'P311C$7', 'I311D4$6', 'P315B3', 'D311D6$7', 'P311D2$9', 'P311A6$8', 'I315B4', 'I311D7$2', 'I311D5$5', 'P311A4$3', 'D3121C6', 'D311D2$3', 'P3121A1', 'D311B$3', 'P311D2$5', 'P311A4$9', 'P301A1', 'P307B1', 'P304B', 'P311D2$7', 'P3122', 'P311A6$7', 'D311D3$7', 'P311A1$2', 'P311T24', 'I311D2$1', 'P311D6$4', 'P3153', 'P3122D', 'P311A5$3', 'P311D6$8', 'P311T25', 'P316A4', 'P310E1', 'P311T2', 'I311D3$1', 'P302X', 'I3122B', 'P307A4_5', 'P316$4', 'P312T22', 'P311D2$4', 'P311A7$4', 'I311D$3', 'P311A4$1', 'P311C$8', 'I311D3$6', 'I311B$3', 'P311D6$6', 'I3121B', 'P3121A4', 'I311D3$3', 'P311D$2', 'P310E0', 'P311A2$6', 'P311C$6', 'P311A5$8', 'P311A7$8', 'P307A3', 'P314B$6', 'D311D7$4', 'P311A1$6', 'P310E3', 'P311D6$9', 'P3122B', 'I311B$4', 'D311D7$2', 'P311D$8', 'P311A1$9', 'P311A7$7', 'P311D7$2', 'P311$1', 'I311D4$2', 'D311D3$2', 'P310D2', 'I311D3$7', 'P311C$5', 'D3122C3', 'I311D4$1', 'P3154', 'I311D5$4', 'P300I', 'D311D2$5', 'P311A3$6', 'P3122C', 'P311D$3', 'CODPERSO', 'P311A1$1', 'P311D4$4', 'P311A2$4', 'P307A4', 'I3122C3', 'P316B', 'P311D2$2', 'P316$1', 'P308B1', 'D311D4$7', 'P304D', 'P311B$3', 'I311D2$2', 'P311N$2', 'P311$2', 'P311D5$6', 'D311D$6', 'P311A7$9', 'I311D2$6', 'P316$10', 'P300A', 'P311B$2', 'P311A3$5', 'I311D6$7', 'I311D$1', 'P311E$5', 'P304C', 'P301B3', 'P311E$8', 'D311D3$4', 'I311D3$2', 'D311D$5', 'P311A3$2', 'P308C2', 'T313A', 'P307A4_6', 'P310C0', 'P308B', 'P311A2$3', 'P311A6$6', 'P316A6', 'P311D4$7', 'I315B5', 'P311A4$7', 'P307B4_5', 'P311D2$8', 'P307B4_6', 'P311N$5', 'P3121', 'I315B3', 'P311D5$3', 'VIVIENDA', 'P308B2', 'P314B1_8', 'P316C1', 'IMPUTADO', 'D311B$1', 'P3121C4', 'P301B', 'P311D$7', 'P312T2', 'P311A4$8', 'P311N$1', 'P311N$6', 'P3155', 'P311D7$3', 'P313', 'P311E$9', 'P312T25', 'D311D3$6', 'P3156', 'P308B4'}\n",
      "Columnas en df2: {'HOGAR', 'P208A', 'RAMA_R4', 'UBIGEO', 'AŅO', 'P216', 'P203A', 'P207', 'NCONGLOME', 'DOMINIO', 'VIVIENDA', 'P205', 'P201P', 'P215', 'FACPOB07', 'P212', 'ESTRATO', 'P209', 'P203', 'CODTIEMPO', 'P204', 'P217', 'RAMA_R3', 'CODTAREA', 'MES', 'P213', 'P211A', 'P206', 'P211D', 'T211', 'SUB_CONGLOME', 'OCUPAC_R3', 'CODPERSO', 'P208B', 'P210', 'OCUPAC_R4', 'TICUEST01', 'P214', 'P203B', 'CONGLOME'}\n"
     ]
    }
   ],
   "source": [
    "# Verificamos si los nombres de las columnas coinciden en ambos datasets\n",
    "print(\"Columnas en df:\", set(df.columns))\n",
    "print(\"Columnas en df2:\", set(df2.columns))"
   ]
  },
  {
   "cell_type": "code",
   "execution_count": 21,
   "id": "40e26a5a-ca3e-4fc3-8296-7a182270e7dd",
   "metadata": {},
   "outputs": [
    {
     "name": "stdout",
     "output_type": "stream",
     "text": [
      "   CONGLOME  VIVIENDA  HOGAR  CODPERSO\n",
      "0      5030         2     11         1\n",
      "1      5030         2     11         2\n",
      "2      5030         2     11         3\n",
      "3      5030         2     11         4\n",
      "4      5030        11     11         1\n",
      "   CONGLOME  VIVIENDA  HOGAR  CODPERSO\n",
      "0      5007        22     11         1\n",
      "1      5007        22     11         2\n",
      "2      5007        22     11         3\n",
      "3      5007        31     11         1\n",
      "4      5007        31     11         2\n"
     ]
    }
   ],
   "source": [
    "# Verificamos si existen diferencias en los valores clave\n",
    "print(df[common_columns].head())\n",
    "print(df2[common_columns].head())"
   ]
  },
  {
   "cell_type": "code",
   "execution_count": 22,
   "id": "b8419c9a-fe34-45c7-90e6-6077b2e6ea08",
   "metadata": {},
   "outputs": [],
   "source": [
    "# Verificamos si existen errores de formato\n",
    "for col in common_columns:\n",
    "    df[col] = df[col].astype(str).str.strip()\n",
    "    df2[col] = df2[col].astype(str).str.strip()"
   ]
  },
  {
   "cell_type": "code",
   "execution_count": 23,
   "id": "39bffa24-7f07-40ec-8010-47ea5219e11c",
   "metadata": {},
   "outputs": [],
   "source": [
    "# Realizamos la unión (merge) usando las columnas comunes\n",
    "df_merged = pd.merge(df, df2, on=common_columns, how=\"inner\")"
   ]
  },
  {
   "cell_type": "code",
   "execution_count": 24,
   "id": "e3b4bbfd-e3cf-4f90-8d34-6dc999783281",
   "metadata": {},
   "outputs": [
    {
     "name": "stdout",
     "output_type": "stream",
     "text": [
      "   AŅO_x  MES_x CONGLOME VIVIENDA HOGAR CODPERSO  UBIGEO_x  DOMINIO_x  \\\n",
      "0   2023      1     5030        2    11        1     10201          7   \n",
      "1   2023      1     5030        2    11        2     10201          7   \n",
      "2   2023      1     5030        2    11        3     10201          7   \n",
      "3   2023      1     5030        2    11        4     10201          7   \n",
      "4   2023      1     5030       11    11        1     10201          7   \n",
      "\n",
      "   ESTRATO_x  CODINFOR  ...  OCUPAC_R3  OCUPAC_R4  RAMA_R3  RAMA_R4 CODTAREA  \\\n",
      "0          4         1  ...                                                    \n",
      "1          4         2  ...                                                    \n",
      "2          4         2  ...                                                    \n",
      "3          4         2  ...                                                    \n",
      "4          4         1  ...                                                    \n",
      "\n",
      "  CODTIEMPO TICUEST01    FACPOB07 NCONGLOME_y SUB_CONGLOME_y  \n",
      "0                   2  118.374542        6618              0  \n",
      "1                   2  118.374542        6618              0  \n",
      "2                   2  118.374542        6618              0  \n",
      "3                   2  118.374542        6618              0  \n",
      "4                   2  118.374542        6618              0  \n",
      "\n",
      "[5 rows x 547 columns]\n"
     ]
    }
   ],
   "source": [
    "# Mostrar primeras 5 filas del DataFrame combinado\n",
    "print(df_merged.head())"
   ]
  },
  {
   "cell_type": "code",
   "execution_count": null,
   "id": "7e1d907c-ea8d-4a77-bcf8-f8a6323608b4",
   "metadata": {},
   "outputs": [],
   "source": []
  },
  {
   "cell_type": "markdown",
   "id": "6347382d-d1ea-465d-8259-3fad514b7467",
   "metadata": {},
   "source": [
    "---\n",
    "\n",
    "5. In the resulting DataFrame:  \n",
    "- Group the data by a variable of your choice using `groupby()`.  \n",
    "- Calculate a relevant statistical indicator, for example: the **average income per category**.  \n"
   ]
  },
  {
   "cell_type": "code",
   "execution_count": 25,
   "id": "4229de2f-3175-4746-8dc8-7f396ec10d13",
   "metadata": {},
   "outputs": [
    {
     "name": "stdout",
     "output_type": "stream",
     "text": [
      "P209_y\n",
      "     23295.302717\n",
      "1    23048.550097\n",
      "2    24128.679762\n",
      "3    23682.408167\n",
      "4    25664.943299\n",
      "5    23879.302499\n",
      "6    23668.747556\n",
      "Name: NCONGLOME_y, dtype: float64\n"
     ]
    }
   ],
   "source": [
    "# Agrupar por sexo (P209_y) y calcular el ingreso promedio_y\n",
    "resultado = df_merged.groupby('P209_y')['NCONGLOME_y'].mean()\n",
    "\n",
    "print(resultado)"
   ]
  },
  {
   "cell_type": "code",
   "execution_count": null,
   "id": "c5a58387-40b8-4b1a-a85c-9be05024a941",
   "metadata": {},
   "outputs": [],
   "source": []
  },
  {
   "cell_type": "markdown",
   "id": "a590c377-d4fc-466c-acf0-e07e35a0fda0",
   "metadata": {},
   "source": [
    "---\n",
    "# Part 2 – If conditions \n",
    "\n",
    "---\n",
    "6. Basic If Condition  \n",
    "Write a Python function that checks if a given number is positive.  \n",
    "- If the number is greater than zero, return `\"The number X is positive.\"`.  \n",
    "- Otherwise, return `\"The number X is not positive.\"`.  \n"
   ]
  },
  {
   "cell_type": "code",
   "execution_count": 1,
   "id": "bc8f6272-0bf9-456b-afa2-b715b1622264",
   "metadata": {},
   "outputs": [],
   "source": [
    "def check_number(i):\n",
    "    if i > 0:\n",
    "        return f'El número {i} es positivo'\n",
    "    else:\n",
    "        return f'El número {i} es negativo'"
   ]
  },
  {
   "cell_type": "code",
   "execution_count": 6,
   "id": "a5357b43",
   "metadata": {},
   "outputs": [
    {
     "name": "stdout",
     "output_type": "stream",
     "text": [
      "El número 10 es positivo\n",
      "El número -100 es negativo\n"
     ]
    }
   ],
   "source": [
    "print(check_number(10))\n",
    "print(check_number(-100))"
   ]
  },
  {
   "cell_type": "markdown",
   "id": "c81a4554-456d-4d90-9f3c-641a57eea2af",
   "metadata": {},
   "source": [
    "---\n",
    "\n",
    "7. If Condition with Multiple Expressions  \n",
    "Create a program that checks the temperature (in Celsius) and returns a message depending on the value:  \n",
    "- If the temperature is **below 0**, return `\"It is freezing.\"`.  \n",
    "- If the temperature is between **0 and 20**, return `\"It is cold.\"`.  \n",
    "- If the temperature is between **21 and 30**, return `\"It is warm.\"`.  \n",
    "- If the temperature is greater than **30**, return `\"It is hot.\"`.  \n"
   ]
  },
  {
   "cell_type": "code",
   "execution_count": 12,
   "id": "dd225ad5-53cf-4365-a30b-2b08a9000682",
   "metadata": {},
   "outputs": [],
   "source": [
    "def temperature(i):\n",
    "    if i < 0:\n",
    "        return \"It is freezing\"\n",
    "    elif 0 <= i <= 20:\n",
    "        return \"It is cold\"\n",
    "    elif 21 <= i <= 30:\n",
    "        return \"It is warm\"\n",
    "    else:\n",
    "        return \"It is hot\""
   ]
  },
  {
   "cell_type": "code",
   "execution_count": 15,
   "id": "7b528a11",
   "metadata": {},
   "outputs": [
    {
     "name": "stdout",
     "output_type": "stream",
     "text": [
      "It is freezing\n",
      "It is cold\n",
      "It is warm\n",
      "It is hot\n"
     ]
    }
   ],
   "source": [
    "print(temperature(-5))\n",
    "print(temperature(10))\n",
    "print(temperature(23))\n",
    "print(temperature(39))"
   ]
  },
  {
   "cell_type": "markdown",
   "id": "c005eb49-6251-4109-bb81-f44e444adef6",
   "metadata": {},
   "source": [
    "---\n",
    "\n",
    "8. Logical Operators   [2 pts]\n",
    "Write a function that determines if a person is eligible for a scholarship based on these conditions:  \n",
    "- The person must have a GPA greater than **3.5** **AND**  \n",
    "- Either their extracurricular activities are `\"Yes\"` **OR** they have community service hours greater than **50**.  \n",
    "\n",
    "The function should return:  \n",
    "- `\"Eligible for scholarship.\"` if conditions are met.  \n",
    "- `\"Not eligible for scholarship.\"` otherwise.  \n"
   ]
  },
  {
   "cell_type": "code",
   "execution_count": 19,
   "id": "66020f6e-2bed-4f50-934f-44533be315ce",
   "metadata": {},
   "outputs": [],
   "source": [
    "def scholarship(gpa, activities, community):\n",
    "    if gpa > 3.5 and (activities.lower() == 'yes' or community > 50):\n",
    "        return \"Eligible for scholarship\"\n",
    "    else:\n",
    "        return \"Not eligible for scholarship\""
   ]
  },
  {
   "cell_type": "code",
   "execution_count": 26,
   "id": "c801664a",
   "metadata": {},
   "outputs": [
    {
     "name": "stdout",
     "output_type": "stream",
     "text": [
      "Eligible for scholarship\n",
      "Not eligible for scholarship\n",
      "Not eligible for scholarship\n"
     ]
    }
   ],
   "source": [
    "print(scholarship(4,'YEs',40))\n",
    "print(scholarship(3.2,'YES',55))\n",
    "print(scholarship(5,'NO',49))"
   ]
  },
  {
   "cell_type": "markdown",
   "id": "585759b1-1796-4e50-a83c-29c541799cd6",
   "metadata": {},
   "source": [
    "---\n",
    "\n",
    "9. Python Identity Operators  \n",
    "Create two lists:  \n",
    "```python\n",
    "list1 = [1, 2, 3]\n",
    "list2 = [1, 2, 3]\n",
    "list3 = list1 \n",
    "```\n",
    "\n",
    "Check with identity operators:\n",
    "```python\n",
    "list1 is list2\n",
    "list1 is list3\n",
    "list1 == list2 \n",
    " ```\n",
    "\n",
    "Explain the difference in the results for each comparison.\n"
   ]
  },
  {
   "cell_type": "code",
   "execution_count": 28,
   "id": "70aed24b-732b-4599-aada-17bab37e1005",
   "metadata": {},
   "outputs": [
    {
     "name": "stdout",
     "output_type": "stream",
     "text": [
      "list1 is list2: False\n",
      "list1 is list3: True\n",
      "list1 == list2: True\n"
     ]
    }
   ],
   "source": [
    "list1 = [1, 2, 3]\n",
    "list2 = [1, 2, 3]\n",
    "list3 = list1\n",
    "\n",
    "print('list1 is list2:', list1 is list2)\n",
    "print('list1 is list3:', list1 is list3)\n",
    "print('list1 == list2:', list1 == list2)\n"
   ]
  },
  {
   "cell_type": "markdown",
   "id": "2bca9e94",
   "metadata": {},
   "source": [
    "- La función 'is' compara identidad\n",
    "- La función '==' compara contenido"
   ]
  },
  {
   "cell_type": "markdown",
   "id": "a856e90b-ccf6-4943-88fe-5487d0cd698a",
   "metadata": {},
   "source": [
    "---\n",
    "\n",
    "10. Nested If Statement  [2 pts] \n",
    "\n",
    "Write a function that takes a student's score and determines the grade:  \n",
    "\n",
    "- If the score is greater than or equal to 90, return `\"A\"`.  \n",
    "- If the score is between 80 and 89:  \n",
    "  - Check if the score is exactly 85, then return `\"B+\"`.  \n",
    "  - Otherwise, return `\"B\"`.  \n",
    "- If the score is between 70 and 79, return `\"C\"`.  \n",
    "- Otherwise, return `\"Fail\"`. "
   ]
  },
  {
   "cell_type": "code",
   "execution_count": 29,
   "id": "411746a0-5786-4500-ba4f-bb229ea2d2e1",
   "metadata": {},
   "outputs": [],
   "source": [
    "def score(i):\n",
    "    if i >= 90:\n",
    "        return 'A'\n",
    "    elif 80 <= i <= 89:\n",
    "        if i ==85:\n",
    "            return 'B+'\n",
    "        else:\n",
    "            return 'B'\n",
    "    elif 70 <= i <= 79:\n",
    "        return \"C\"\n",
    "    else:\n",
    "        return \"Fail\""
   ]
  },
  {
   "cell_type": "code",
   "execution_count": 31,
   "id": "421af109",
   "metadata": {},
   "outputs": [
    {
     "name": "stdout",
     "output_type": "stream",
     "text": [
      "Fail\n",
      "C\n",
      "B\n",
      "B+\n",
      "A\n"
     ]
    }
   ],
   "source": [
    "print(score(20))\n",
    "print(score(71))\n",
    "print(score(83))\n",
    "print(score(85))\n",
    "print(score(92))"
   ]
  },
  {
   "cell_type": "markdown",
   "id": "309d9fa3-67e5-473b-bedc-7c937f7920f5",
   "metadata": {},
   "source": [
    "--- \n",
    "\n",
    "# Part 3 – For loops\n",
    "\n",
    "---\n",
    "\n",
    "11. For Loop in NumPy  \n",
    "\n",
    "Write a for loop using **NumPy** to iterate through an array of numbers `[10, 20, 30, 40, 50]` and print each value multiplied by 2.  \n",
    "\n",
    "- Re-question: How would you modify the loop so that it stores the results in a new NumPy array instead of just printing them?  \n"
   ]
  },
  {
   "cell_type": "code",
   "execution_count": 6,
   "id": "1025fe35-63e0-4035-a1b2-c9f772477403",
   "metadata": {},
   "outputs": [
    {
     "name": "stdout",
     "output_type": "stream",
     "text": [
      "20\n",
      "40\n",
      "60\n",
      "80\n",
      "100\n"
     ]
    }
   ],
   "source": [
    "# Part 1\n",
    "import numpy as np\n",
    "arr = np.array([10, 20, 30, 40, 50])\n",
    "for valor in arr:\n",
    "    print(valor * 2)"
   ]
  },
  {
   "cell_type": "code",
   "execution_count": 7,
   "id": "67245f32-83a4-4d2e-b2e5-0418a2c57113",
   "metadata": {},
   "outputs": [
    {
     "name": "stdout",
     "output_type": "stream",
     "text": [
      "[ 20  40  60  80 100]\n"
     ]
    }
   ],
   "source": [
    "#Part 2\n",
    "arr = np.array([10, 20, 30, 40, 50])\n",
    "resultados = []   # lista vacía\n",
    "\n",
    "for valor in arr:\n",
    "    resultados.append(valor * 2)\n",
    "\n",
    "# Convertir la lista a arreglo de NumPy\n",
    "resultados = np.array(resultados)\n",
    "print(resultados)"
   ]
  },
  {
   "cell_type": "markdown",
   "id": "ef196723-ecf3-4e3f-9180-c54fe988eb11",
   "metadata": {},
   "source": [
    "---\n",
    "\n",
    "12. For Loop in List  \n",
    "\n",
    "Create a list of words: `[\"python\", \"loop\", \"list\", \"iteration\"]`.  \n",
    "Write a for loop to print the length of each word.  \n",
    "\n",
    "- Re-question: How can you rewrite the same loop using a **list comprehension**?  \n"
   ]
  },
  {
   "cell_type": "code",
   "execution_count": 9,
   "id": "3eb01a75-a8e6-48b1-8551-f36d1089e6df",
   "metadata": {},
   "outputs": [
    {
     "name": "stdout",
     "output_type": "stream",
     "text": [
      "6\n",
      "4\n",
      "4\n",
      "9\n"
     ]
    }
   ],
   "source": [
    "#Part 1\n",
    "palabras = [\"python\", \"loop\", \"list\", \"iteration\"]\n",
    "\n",
    "for palabra in palabras:\n",
    "    print(len(palabra))"
   ]
  },
  {
   "cell_type": "code",
   "execution_count": 10,
   "id": "a2e6f3b4-9687-4e64-8a93-2d4ddbc284dc",
   "metadata": {},
   "outputs": [
    {
     "name": "stdout",
     "output_type": "stream",
     "text": [
      "[6, 4, 4, 9]\n"
     ]
    }
   ],
   "source": [
    "#Part 2\n",
    "palabras = [\"python\", \"loop\", \"list\", \"iteration\"]\n",
    "longitudes = [len(palabra) for palabra in palabras]\n",
    "print(longitudes)"
   ]
  },
  {
   "cell_type": "markdown",
   "id": "8b2c5ef9-33aa-4131-85d6-a25db35dc6c8",
   "metadata": {},
   "source": [
    "---\n",
    "\n",
    "13. For Loop in Dictionary  \n",
    "\n",
    "Given a dictionary of student scores:  \n",
    "`{\"Alice\": 85, \"Bob\": 92, \"Charlie\": 78, \"Diana\": 88}`  \n",
    "\n",
    "Write a for loop to print each student's name along with their score.  \n",
    "\n",
    "- Re-question: Modify the loop so that it only prints the names of students who scored above 80.  \n"
   ]
  },
  {
   "cell_type": "code",
   "execution_count": null,
   "id": "a570930b-2584-4070-bfaf-626d17a1eb08",
   "metadata": {},
   "outputs": [],
   "source": [
    "#Pa\n",
    "scores = {\"Alice\": 85, \"Bob\": 92, \"Charlie\": 78, \"Diana\": 88}\n",
    "\n",
    "for nombre, puntaje in scores.items():\n",
    "    print(nombre, \":\", puntaje)"
   ]
  },
  {
   "cell_type": "markdown",
   "id": "2d9edf8b-3b0b-419e-8371-90043a95507d",
   "metadata": {},
   "source": [
    "---\n",
    "\n",
    "14. For Loop using Range  \n",
    "\n",
    "Write a for loop using `range()` to print all even numbers between 1 and 20.  \n",
    "\n",
    "- Re-question: How would you change the loop to also calculate the **sum** of these even numbers while iterating?  \n"
   ]
  },
  {
   "cell_type": "code",
   "execution_count": null,
   "id": "5affe334-8a2a-4191-8f3a-cee279ef838e",
   "metadata": {},
   "outputs": [],
   "source": []
  },
  {
   "cell_type": "markdown",
   "id": "3064773f-227f-4fb1-ba2e-cba083c9574b",
   "metadata": {},
   "source": [
    "---\n",
    "\n",
    "15. Iterations over Pandas (ENAHO dataset)  [2 pts] \n",
    "\n",
    "Suppose you are analyzing the **National Household Survey (ENAHO)** dataset, specifically the file **`ENAHO01A-2023-400`**.  \n",
    "The question of interest is **`P41601`**: *“¿Cuánto fue el monto total por la compra o servicio?”*.  \n",
    "\n",
    "Write a `for` loop that iterates over the column `P41601` and prints values greater than **5000**.  \n",
    "\n",
    "- **Re-question:** How would you optimize this task using **pandas vectorized operations** (e.g., boolean indexing) instead of a `for` loop, to make the analysis faster and more efficient?  \n",
    "\n"
   ]
  },
  {
   "cell_type": "code",
   "execution_count": null,
   "id": "c6e7e2c1-5851-452b-9c23-593dbb1cfcd6",
   "metadata": {},
   "outputs": [],
   "source": []
  }
 ],
 "metadata": {
  "kernelspec": {
   "display_name": "Python [conda env:base] *",
   "language": "python",
   "name": "conda-base-py"
  },
  "language_info": {
   "codemirror_mode": {
    "name": "ipython",
    "version": 3
   },
   "file_extension": ".py",
   "mimetype": "text/x-python",
   "name": "python",
   "nbconvert_exporter": "python",
   "pygments_lexer": "ipython3",
   "version": "3.13.5"
  }
 },
 "nbformat": 4,
 "nbformat_minor": 5
}
