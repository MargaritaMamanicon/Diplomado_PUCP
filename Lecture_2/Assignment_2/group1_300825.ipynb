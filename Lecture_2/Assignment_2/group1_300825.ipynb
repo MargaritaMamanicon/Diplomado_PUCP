{
 "cells": [
  {
   "cell_type": "markdown",
   "id": "6e3a7753-2b8a-4943-95be-71f822e18b4e",
   "metadata": {},
   "source": [
    "# PARTE I\n",
    "## Sección 1.1: Información general"
   ]
  },
  {
   "cell_type": "code",
   "execution_count": null,
   "id": "e1ce7d7b-25c2-4ddb-afa1-c3134ad53e22",
   "metadata": {},
   "outputs": [],
   "source": [
    "import pandas as pd"
   ]
  },
  {
   "cell_type": "code",
   "execution_count": 6,
   "id": "e8730e73-553b-492d-ad26-3f66371cdce9",
   "metadata": {},
   "outputs": [
    {
     "name": "stderr",
     "output_type": "stream",
     "text": [
      "C:\\Users\\econg\\AppData\\Local\\Temp\\ipykernel_8096\\3954191218.py:1: DtypeWarning: Columns (26,32,60) have mixed types. Specify dtype option on import or set low_memory=False.\n",
      "  df = pd.read_csv(\"C:\\Diplomado_PUCP_25\\Enaho01A-2023-300.csv\", encoding=\"ISO-8859-10\")\n"
     ]
    }
   ],
   "source": [
    "df = pd.read_csv(\"C:\\Diplomado_PUCP_25\\Enaho01A-2023-300.csv\", encoding=\"ISO-8859-10\")"
   ]
  },
  {
   "cell_type": "code",
   "execution_count": 7,
   "id": "0de25321-df70-4808-b706-45c9a88508f7",
   "metadata": {},
   "outputs": [
    {
     "name": "stdout",
     "output_type": "stream",
     "text": [
      "    AŅO  MES  CONGLOME  VIVIENDA  HOGAR  CODPERSO  UBIGEO  DOMINIO  ESTRATO  \\\n",
      "0  2023    1      5030         2     11         1   10201        7        4   \n",
      "1  2023    1      5030         2     11         2   10201        7        4   \n",
      "2  2023    1      5030         2     11         3   10201        7        4   \n",
      "3  2023    1      5030         2     11         4   10201        7        4   \n",
      "4  2023    1      5030        11     11         1   10201        7        4   \n",
      "\n",
      "   CODINFOR  ...  I311D$5  I311D$6  I311D$7  I3121C I3122C I315B    FACTOR07  \\\n",
      "0         1  ...                                                  118.374542   \n",
      "1         2  ...                                                  118.374542   \n",
      "2         2  ...                                                  118.374542   \n",
      "3         2  ...                          8                       118.374542   \n",
      "4         1  ...                                                  118.374542   \n",
      "\n",
      "    FACTORA07 NCONGLOME SUB_CONGLOME  \n",
      "0  165.623856      6618            0  \n",
      "1  112.328087      6618            0  \n",
      "2  120.091476      6618            0  \n",
      "3  110.974678      6618            0  \n",
      "4   96.035370      6618            0  \n",
      "\n",
      "[5 rows x 511 columns]\n"
     ]
    }
   ],
   "source": [
    "# Mostrar las primeras filas\n",
    "print(df.head())"
   ]
  },
  {
   "cell_type": "code",
   "execution_count": 8,
   "id": "3bb94a58-331e-4a1c-8823-e7bd570edc56",
   "metadata": {},
   "outputs": [
    {
     "name": "stdout",
     "output_type": "stream",
     "text": [
      "['AŅO', 'MES', 'CONGLOME', 'VIVIENDA', 'HOGAR', 'CODPERSO', 'UBIGEO', 'DOMINIO', 'ESTRATO', 'CODINFOR', 'P300N', 'P300I', 'P300A', 'P301A', 'P301B', 'P301C', 'P301D', 'P301A0', 'P301A1', 'P301B0', 'P301B1', 'P301B3', 'P302', 'P302X', 'P302A', 'P302B', 'P303', 'P304A', 'P304B', 'P304C', 'P304D', 'P305', 'P306', 'P307', 'P307A1', 'P307A2', 'P307A3', 'P307A4', 'P307A4_5', 'P307A4_6', 'P307A4_7', 'P307B1', 'P307B2', 'P307B3', 'P307B4', 'P307B4_5', 'P307B4_6', 'P307B4_7', 'P307C', 'P308A', 'P308B', 'P308C', 'P308D', 'P308B1', 'P308B2', 'P308B3', 'P308B4', 'P308B5', 'P308C1', 'P308C2', 'P310', 'P310B1', 'P310C0', 'P310C1', 'P310D1', 'P310D2', 'P310E0', 'P310E1', 'P310E3', 'P311N$1', 'P311N$2', 'P311N$3', 'P311N$4', 'P311N$5', 'P311N$6', 'P311N$7', 'P311N$8', 'P311N$9', 'P311$1', 'P311$2', 'P311$3', 'P311$4', 'P311$5', 'P311$6', 'P311$7', 'P311$8', 'P311$9', 'P311A1$1', 'P311A1$2', 'P311A1$3', 'P311A1$4', 'P311A1$5', 'P311A1$6', 'P311A1$7', 'P311A1$8', 'P311A1$9', 'P311A2$1', 'P311A2$2', 'P311A2$3', 'P311A2$4', 'P311A2$5', 'P311A2$6', 'P311A2$7', 'P311A2$8', 'P311A2$9', 'P311A3$1', 'P311A3$2', 'P311A3$3', 'P311A3$4', 'P311A3$5', 'P311A3$6', 'P311A3$7', 'P311A3$8', 'P311A3$9', 'P311A4$1', 'P311A4$2', 'P311A4$3', 'P311A4$4', 'P311A4$5', 'P311A4$6', 'P311A4$7', 'P311A4$8', 'P311A4$9', 'P311A5$1', 'P311A5$2', 'P311A5$3', 'P311A5$4', 'P311A5$5', 'P311A5$6', 'P311A5$7', 'P311A5$8', 'P311A5$9', 'P311A6$1', 'P311A6$2', 'P311A6$3', 'P311A6$4', 'P311A6$5', 'P311A6$6', 'P311A6$7', 'P311A6$8', 'P311A6$9', 'P311A7$1', 'P311A7$2', 'P311A7$3', 'P311A7$4', 'P311A7$5', 'P311A7$6', 'P311A7$7', 'P311A7$8', 'P311A7$9', 'P311B$1', 'P311B$2', 'P311B$3', 'P311B$4', 'P311B$5', 'P311B$6', 'P311B$7', 'P311B$8', 'P311B$9', 'P311C$1', 'P311C$2', 'P311C$3', 'P311C$4', 'P311C$5', 'P311C$6', 'P311C$7', 'P311C$8', 'P311C$9', 'P311D$1', 'P311D$2', 'P311D$3', 'P311D$4', 'P311D$5', 'P311D$6', 'P311D$7', 'P311D$8', 'P311D$9', 'P311D2$1', 'P311D2$2', 'P311D2$3', 'P311D2$4', 'P311D2$5', 'P311D2$6', 'P311D2$7', 'P311D2$8', 'P311D2$9', 'P311D3$1', 'P311D3$2', 'P311D3$3', 'P311D3$4', 'P311D3$5', 'P311D3$6', 'P311D3$7', 'P311D3$8', 'P311D3$9', 'P311D4$1', 'P311D4$2', 'P311D4$3', 'P311D4$4', 'P311D4$5', 'P311D4$6', 'P311D4$7', 'P311D4$8', 'P311D4$9', 'P311D5$1', 'P311D5$2', 'P311D5$3', 'P311D5$4', 'P311D5$5', 'P311D5$6', 'P311D5$7', 'P311D5$8', 'P311D5$9', 'P311D6$1', 'P311D6$2', 'P311D6$3', 'P311D6$4', 'P311D6$5', 'P311D6$6', 'P311D6$7', 'P311D6$8', 'P311D6$9', 'P311D7$1', 'P311D7$2', 'P311D7$3', 'P311D7$4', 'P311D7$5', 'P311D7$6', 'P311D7$7', 'P311D7$8', 'P311D7$9', 'P311E$1', 'P311E$2', 'P311E$3', 'P311E$4', 'P311E$5', 'P311E$6', 'P311E$7', 'P311E$8', 'P311E$9', 'P311T1', 'P311T22', 'P311T23', 'P311T24', 'P311T25', 'P311T26', 'P311T27', 'P311T2', 'P3121', 'P3121A1', 'P3121A2', 'P3121A3', 'P3121A4', 'P3121A5', 'P3121A6', 'P3121B', 'P3121C', 'P3121C2', 'P3121C3', 'P3121C4', 'P3121C5', 'P3121C6', 'P3121D', 'P3122', 'P3122A1', 'P3122A2', 'P3122A3', 'P3122A4', 'P3122A5', 'P3122A6', 'P3122B', 'P3122C', 'P3122C2', 'P3122C3', 'P3122C4', 'P3122C5', 'P3122C6', 'P3122D', 'P312T1', 'P312T22', 'P312T23', 'P312T24', 'P312T25', 'P312T26', 'P312T2', 'P313', 'P314A', 'P314B$1', 'P314B$2', 'P314B$3', 'P314B$4', 'P314B$5', 'P314B$6', 'P314B$7', 'P314B1_1', 'P314B1_2', 'P314B1_6', 'P314B1_7', 'P314B1_8', 'P314B1_9', 'P314D', 'P3151', 'P3152', 'P3153', 'P3154', 'P3155', 'P3156', 'P315A', 'P315B', 'P315B2', 'P315B3', 'P315B4', 'P315B5', 'P315B6', 'P316$1', 'P316$2', 'P316$3', 'P316$4', 'P316$5', 'P316$6', 'P316$7', 'P316$8', 'P316$9', 'P316$10', 'P316$11', 'P316$12', 'P316A1', 'P316A2', 'P316A3', 'P316A4', 'P316A5', 'P316A6', 'P316B', 'P316C1', 'P316C2', 'P316C3', 'P316C4', 'P316C5', 'P316C6', 'P316C7', 'P316C8', 'P316C9', 'P316C10', 'T313A', 'P203', 'P204', 'P205', 'P206', 'P207', 'P208A', 'P209', 'IMPUTADO', 'TICUEST01A', 'D311B$1', 'D311D2$1', 'D311D3$1', 'D311D4$1', 'D311D5$1', 'D311D6$1', 'D311D7$1', 'D311D$1', 'D311B$2', 'D311D2$2', 'D311D3$2', 'D311D4$2', 'D311D5$2', 'D311D6$2', 'D311D7$2', 'D311D$2', 'D311B$3', 'D311D2$3', 'D311D3$3', 'D311D4$3', 'D311D5$3', 'D311D6$3', 'D311D7$3', 'D311D$3', 'D311B$4', 'D311D2$4', 'D311D3$4', 'D311D4$4', 'D311D5$4', 'D311D6$4', 'D311D7$4', 'D311D$4', 'D311B$5', 'D311D2$5', 'D311D3$5', 'D311D4$5', 'D311D5$5', 'D311D6$5', 'D311D7$5', 'D311D$5', 'D311B$6', 'D311D2$6', 'D311D3$6', 'D311D4$6', 'D311D5$6', 'D311D6$6', 'D311D7$6', 'D311D$6', 'D311B$7', 'D311D2$7', 'D311D3$7', 'D311D4$7', 'D311D5$7', 'D311D6$7', 'D311D7$7', 'D311D$7', 'D3121B', 'D3121C2', 'D3121C3', 'D3121C4', 'D3121C5', 'D3121C6', 'D3121C', 'D3122B', 'D3122C2', 'D3122C3', 'D3122C4', 'D3122C5', 'D3122C6', 'D3122C', 'D315A', 'D315B2', 'D315B3', 'D315B4', 'D315B5', 'D315B6', 'D315B', 'I311B$1', 'I311B$2', 'I311B$4', 'I311B$6', 'I311B$3', 'I311B$5', 'I311B$7', 'I311D2$1', 'I311D3$1', 'I311D4$1', 'I311D5$1', 'I311D6$1', 'I311D7$1', 'I311D2$2', 'I311D3$2', 'I311D4$2', 'I311D5$2', 'I311D6$2', 'I311D7$2', 'I311D2$4', 'I311D3$4', 'I311D4$4', 'I311D5$4', 'I311D6$4', 'I311D7$4', 'I311D2$6', 'I311D3$6', 'I311D4$6', 'I311D5$6', 'I311D6$6', 'I311D7$6', 'I311D2$3', 'I311D3$3', 'I311D4$3', 'I311D5$3', 'I311D6$3', 'I311D7$3', 'I311D2$5', 'I311D3$5', 'I311D4$5', 'I311D5$5', 'I311D6$5', 'I311D7$5', 'I311D2$7', 'I311D3$7', 'I311D4$7', 'I311D5$7', 'I311D6$7', 'I311D7$7', 'I3121B', 'I3122B', 'I3121C2', 'I3121C3', 'I3121C4', 'I3121C5', 'I3121C6', 'I3122C2', 'I3122C3', 'I3122C4', 'I3122C5', 'I3122C6', 'I315A', 'I315B2', 'I315B3', 'I315B4', 'I315B5', 'I315B6', 'I311D$1', 'I311D$2', 'I311D$3', 'I311D$4', 'I311D$5', 'I311D$6', 'I311D$7', 'I3121C', 'I3122C', 'I315B', 'FACTOR07', 'FACTORA07', 'NCONGLOME', 'SUB_CONGLOME']\n"
     ]
    }
   ],
   "source": [
    "# Convertir nombres de columnas a lista\n",
    "print(list(df.columns))"
   ]
  },
  {
   "cell_type": "code",
   "execution_count": 9,
   "id": "e610516b-cb62-4a7a-ae27-c784cc5a2e64",
   "metadata": {},
   "outputs": [
    {
     "name": "stdout",
     "output_type": "stream",
     "text": [
      "AŅO               int64\n",
      "MES               int64\n",
      "CONGLOME          int64\n",
      "VIVIENDA          int64\n",
      "HOGAR             int64\n",
      "                 ...   \n",
      "I315B            object\n",
      "FACTOR07        float64\n",
      "FACTORA07       float64\n",
      "NCONGLOME         int64\n",
      "SUB_CONGLOME      int64\n",
      "Length: 511, dtype: object\n"
     ]
    }
   ],
   "source": [
    "# Revisar tipos de datos\n",
    "print(df.dtypes)"
   ]
  },
  {
   "cell_type": "code",
   "execution_count": 10,
   "id": "2094360c-8716-4c3c-8f93-2ea9f2e0fa96",
   "metadata": {},
   "outputs": [
    {
     "name": "stdout",
     "output_type": "stream",
     "text": [
      "   CONGLOME  VIVIENDA  HOGAR  CODPERSO  P208A P209  P301A\n",
      "0      5030         2     11         1     43    1      8\n",
      "1      5030         2     11         2     41    1     10\n",
      "2      5030         2     11         3      9           3\n",
      "3      5030         2     11         4      7           3\n",
      "4      5030        11     11         1     60    2      4\n"
     ]
    }
   ],
   "source": [
    "# Seleccionar submuestra (ejemplo con 4 obligatorias + 3 más de interés)\n",
    "sub_df = df[['CONGLOME', 'VIVIENDA', 'HOGAR', 'CODPERSO',\n",
    "             'P208A', 'P209', 'P301A']]\n",
    "\n",
    "print(sub_df.head())"
   ]
  },
  {
   "cell_type": "markdown",
   "id": "16d2a111-8e2f-4406-8cd6-eb2e1d7ea73b",
   "metadata": {},
   "source": [
    "## Seccion 1.2: Manipulación de datos"
   ]
  },
  {
   "cell_type": "code",
   "execution_count": 11,
   "id": "1f5598b3-1e06-4fef-8e6f-16b150d02806",
   "metadata": {},
   "outputs": [
    {
     "name": "stdout",
     "output_type": "stream",
     "text": [
      "<class 'pandas.core.frame.DataFrame'>\n",
      "RangeIndex: 108354 entries, 0 to 108353\n",
      "Columns: 511 entries, AŅO to SUB_CONGLOME\n",
      "dtypes: float64(2), int64(21), object(488)\n",
      "memory usage: 422.4+ MB\n",
      "None\n",
      "            AŅO            MES       CONGLOME       VIVIENDA          HOGAR  \\\n",
      "count  108354.0  108354.000000  108354.000000  108354.000000  108354.000000   \n",
      "mean     2023.0       6.495127   16944.756797      77.820330      11.146271   \n",
      "std         0.0       3.445244    3144.386733      68.547022       1.370084   \n",
      "min      2023.0       1.000000    5007.000000       1.000000      11.000000   \n",
      "25%      2023.0       3.000000   16028.000000      31.000000      11.000000   \n",
      "50%      2023.0       7.000000   17500.000000      66.000000      11.000000   \n",
      "75%      2023.0       9.000000   19014.000000     106.000000      11.000000   \n",
      "max      2023.0      12.000000   21001.000000     991.000000      44.000000   \n",
      "\n",
      "            CODPERSO         UBIGEO        DOMINIO        ESTRATO  \\\n",
      "count  108354.000000  108354.000000  108354.000000  108354.000000   \n",
      "mean        2.546293  131185.171087       4.864961       4.138961   \n",
      "std         1.577737   67736.903764       2.404443       2.432348   \n",
      "min         1.000000   10101.000000       1.000000       1.000000   \n",
      "25%         1.000000   80101.000000       2.000000       2.000000   \n",
      "50%         2.000000  140108.000000       5.000000       4.000000   \n",
      "75%         3.000000  180301.000000       7.000000       7.000000   \n",
      "max        22.000000  250401.000000       8.000000       8.000000   \n",
      "\n",
      "            CODINFOR  ...          P301A           P203           P204  \\\n",
      "count  108354.000000  ...  108354.000000  108354.000000  108354.000000   \n",
      "mean        2.033058  ...       5.258652       2.548729       1.005787   \n",
      "std         1.282622  ...       3.807669       1.716218       0.075850   \n",
      "min         0.000000  ...       1.000000       1.000000       1.000000   \n",
      "25%         1.000000  ...       3.000000       1.000000       1.000000   \n",
      "50%         2.000000  ...       5.000000       3.000000       1.000000   \n",
      "75%         2.000000  ...       6.000000       3.000000       1.000000   \n",
      "max        21.000000  ...      99.000000      11.000000       2.000000   \n",
      "\n",
      "                P207          P208A     TICUEST01A       FACTOR07  \\\n",
      "count  108354.000000  108354.000000  108354.000000  108354.000000   \n",
      "mean        1.513428      35.619839       1.999539     305.556281   \n",
      "std         0.499822      22.152408       0.021477     310.795722   \n",
      "min         1.000000       3.000000       1.000000       1.087094   \n",
      "25%         1.000000      16.000000       2.000000     123.659256   \n",
      "50%         2.000000      33.000000       2.000000     233.634140   \n",
      "75%         2.000000      53.000000       2.000000     354.661774   \n",
      "max         2.000000      98.000000       2.000000    1961.005981   \n",
      "\n",
      "           FACTORA07      NCONGLOME   SUB_CONGLOME  \n",
      "count  108354.000000  108354.000000  108354.000000  \n",
      "mean      302.602025   23603.093914       0.282325  \n",
      "std       322.927385   15607.753763       0.662107  \n",
      "min         0.422172       2.000000       0.000000  \n",
      "25%       101.125488    8855.000000       0.000000  \n",
      "50%       218.866760   20186.000000       0.000000  \n",
      "75%       365.609833   37361.000000       0.000000  \n",
      "max      2917.495850   51561.000000       6.000000  \n",
      "\n",
      "[8 rows x 23 columns]\n"
     ]
    }
   ],
   "source": [
    "# Explorar el DataFrame con funciones de resumen\n",
    "print(df.info())       # Información general (filas, columnas, tipos de datos, valores nulos)\n",
    "print(df.describe())   # Estadísticos básicos de las variables numéricas"
   ]
  },
  {
   "cell_type": "code",
   "execution_count": 12,
   "id": "fa183249-af5d-44dc-98ff-ffa490750a1b",
   "metadata": {},
   "outputs": [
    {
     "name": "stdout",
     "output_type": "stream",
     "text": [
      "AŅO             0\n",
      "MES             0\n",
      "CONGLOME        0\n",
      "VIVIENDA        0\n",
      "HOGAR           0\n",
      "               ..\n",
      "I315B           0\n",
      "FACTOR07        0\n",
      "FACTORA07       0\n",
      "NCONGLOME       0\n",
      "SUB_CONGLOME    0\n",
      "Length: 511, dtype: int64\n"
     ]
    }
   ],
   "source": [
    "# Identificar si hay valores perdidos\n",
    "print(df.isnull().sum())   # Muestra cuántos valores faltan por cada columna"
   ]
  },
  {
   "cell_type": "code",
   "execution_count": 15,
   "id": "1f2f99e3-ec1b-441c-bfa6-3bbcf7388a70",
   "metadata": {},
   "outputs": [],
   "source": [
    "# Eliminar filas con valores perdidos (si existen)\n",
    "df_limpio = df.dropna()"
   ]
  },
  {
   "cell_type": "code",
   "execution_count": 16,
   "id": "8a8a7e4f-2a9c-4904-8109-838539ac756b",
   "metadata": {},
   "outputs": [
    {
     "name": "stdout",
     "output_type": "stream",
     "text": [
      "AŅO             0\n",
      "MES             0\n",
      "CONGLOME        0\n",
      "VIVIENDA        0\n",
      "HOGAR           0\n",
      "               ..\n",
      "I315B           0\n",
      "FACTOR07        0\n",
      "FACTORA07       0\n",
      "NCONGLOME       0\n",
      "SUB_CONGLOME    0\n",
      "Length: 511, dtype: int64\n"
     ]
    }
   ],
   "source": [
    "# Verificar nuevamente\n",
    "print(df_limpio.isnull().sum())"
   ]
  },
  {
   "cell_type": "code",
   "execution_count": 17,
   "id": "f6f8eb00-cdf0-4f00-84fb-43ffd7c4a0c0",
   "metadata": {},
   "outputs": [],
   "source": [
    "## Sección 1.3: Importación"
   ]
  },
  {
   "cell_type": "code",
   "execution_count": 20,
   "id": "9fe51821-bfc2-4964-84da-3ea8bb021e08",
   "metadata": {},
   "outputs": [],
   "source": [
    "df2 = pd.read_csv(\"C:\\Diplomado_PUCP_25\\Enaho01-2023-200.csv\", encoding=\"ISO-8859-10\")"
   ]
  },
  {
   "cell_type": "code",
   "execution_count": 21,
   "id": "786d61d4-07a9-46d4-b11d-1beb992a0f0f",
   "metadata": {},
   "outputs": [
    {
     "name": "stdout",
     "output_type": "stream",
     "text": [
      "    AŅO  MES  CONGLOME  VIVIENDA  HOGAR  CODPERSO  UBIGEO  DOMINIO  ESTRATO  \\\n",
      "0  2023    2      5007        22     11         1   10101        4        4   \n",
      "1  2023    2      5007        22     11         2   10101        4        4   \n",
      "2  2023    2      5007        22     11         3   10101        4        4   \n",
      "3  2023    2      5007        31     11         1   10101        4        4   \n",
      "4  2023    2      5007        31     11         2   10101        4        4   \n",
      "\n",
      "               P201P  ...  OCUPAC_R3 OCUPAC_R4 RAMA_R3 RAMA_R4 CODTAREA  \\\n",
      "0  20190050070221101  ...                                                 \n",
      "1  20190050070221102  ...                                                 \n",
      "2  20190050070221104  ...                                                 \n",
      "3  20190050070311102  ...                                                 \n",
      "4  20230050070311102  ...                                                 \n",
      "\n",
      "  CODTIEMPO TICUEST01   FACPOB07 NCONGLOME SUB_CONGLOME  \n",
      "0                   2  50.466671      7070            0  \n",
      "1                   2  50.466671      7070            0  \n",
      "2                   2  50.466671      7070            0  \n",
      "3                   2  50.466671      7070            0  \n",
      "4                   2  50.466671      7070            0  \n",
      "\n",
      "[5 rows x 40 columns]\n"
     ]
    }
   ],
   "source": [
    "# Ver primeras 5 filas\n",
    "print(df2.head())"
   ]
  },
  {
   "cell_type": "code",
   "execution_count": 22,
   "id": "60b1f129-6bf8-400a-ba41-8847cd489ca9",
   "metadata": {},
   "outputs": [
    {
     "name": "stdout",
     "output_type": "stream",
     "text": [
      "['AŅO', 'MES', 'CONGLOME', 'VIVIENDA', 'HOGAR', 'CODPERSO', 'UBIGEO', 'DOMINIO', 'ESTRATO', 'P201P', 'P203', 'P203A', 'P203B', 'P204', 'P205', 'P206', 'P207', 'P208A', 'P208B', 'P209', 'P210', 'P211A', 'P211D', 'P212', 'P213', 'P214', 'P215', 'P216', 'P217', 'T211', 'OCUPAC_R3', 'OCUPAC_R4', 'RAMA_R3', 'RAMA_R4', 'CODTAREA', 'CODTIEMPO', 'TICUEST01', 'FACPOB07', 'NCONGLOME', 'SUB_CONGLOME']\n"
     ]
    }
   ],
   "source": [
    "# Nombres de columnas como lista\n",
    "print(list(df2.columns))"
   ]
  },
  {
   "cell_type": "code",
   "execution_count": 23,
   "id": "a89e5473-940c-4fea-80af-76d7f4077c84",
   "metadata": {},
   "outputs": [
    {
     "name": "stdout",
     "output_type": "stream",
     "text": [
      "AŅO               int64\n",
      "MES               int64\n",
      "CONGLOME          int64\n",
      "VIVIENDA          int64\n",
      "HOGAR             int64\n",
      "CODPERSO          int64\n",
      "UBIGEO            int64\n",
      "DOMINIO           int64\n",
      "ESTRATO           int64\n",
      "P201P             int64\n",
      "P203              int64\n",
      "P203A            object\n",
      "P203B            object\n",
      "P204             object\n",
      "P205             object\n",
      "P206             object\n",
      "P207             object\n",
      "P208A            object\n",
      "P208B            object\n",
      "P209             object\n",
      "P210             object\n",
      "P211A            object\n",
      "P211D            object\n",
      "P212             object\n",
      "P213             object\n",
      "P214             object\n",
      "P215             object\n",
      "P216             object\n",
      "P217             object\n",
      "T211             object\n",
      "OCUPAC_R3        object\n",
      "OCUPAC_R4        object\n",
      "RAMA_R3          object\n",
      "RAMA_R4          object\n",
      "CODTAREA         object\n",
      "CODTIEMPO        object\n",
      "TICUEST01         int64\n",
      "FACPOB07        float64\n",
      "NCONGLOME         int64\n",
      "SUB_CONGLOME      int64\n",
      "dtype: object\n"
     ]
    }
   ],
   "source": [
    "# Tipos de datos\n",
    "print(df2.dtypes)"
   ]
  },
  {
   "cell_type": "code",
   "execution_count": 25,
   "id": "764e5d3b-cfd7-452b-ac68-f10e106681d2",
   "metadata": {},
   "outputs": [
    {
     "name": "stdout",
     "output_type": "stream",
     "text": [
      "   CONGLOME  VIVIENDA  HOGAR  CODPERSO P208A P209 P210\n",
      "0      5007        22     11         1    64    2     \n",
      "1      5007        22     11         2    63    2     \n",
      "2      5007        22     11         3    31    6     \n",
      "3      5007        31     11         1    79    3     \n",
      "4      5007        31     11         2    50    1     \n"
     ]
    }
   ],
   "source": [
    "# Submuestra con variables de interés\n",
    "sub_df2 = df2[['CONGLOME', 'VIVIENDA', 'HOGAR', 'CODPERSO',\n",
    "               'P208A', 'P209', 'P210']]  # 3 variables extra como ejemplo\n",
    "print(sub_df2.head())\n"
   ]
  },
  {
   "cell_type": "code",
   "execution_count": 26,
   "id": "2f9e4a47-127e-4b92-b4eb-ea2ebb1ab837",
   "metadata": {},
   "outputs": [
    {
     "name": "stderr",
     "output_type": "stream",
     "text": [
      "C:\\Users\\econg\\AppData\\Local\\Temp\\ipykernel_8096\\1983104125.py:2: SettingWithCopyWarning: \n",
      "A value is trying to be set on a copy of a slice from a DataFrame.\n",
      "Try using .loc[row_indexer,col_indexer] = value instead\n",
      "\n",
      "See the caveats in the documentation: https://pandas.pydata.org/pandas-docs/stable/user_guide/indexing.html#returning-a-view-versus-a-copy\n",
      "  sub_df2['P208A'] = pd.to_numeric(sub_df2['P208A'], errors='coerce')\n"
     ]
    }
   ],
   "source": [
    "# Cambiar el tipo de dato de una variable (ejemplo: P208A a numérico)\n",
    "sub_df2['P208A'] = pd.to_numeric(sub_df2['P208A'], errors='coerce')"
   ]
  },
  {
   "cell_type": "code",
   "execution_count": 27,
   "id": "b8e864c4-5594-4345-8ff3-5a9a10590afb",
   "metadata": {},
   "outputs": [
    {
     "name": "stdout",
     "output_type": "stream",
     "text": [
      "   CONGLOME  VIVIENDA  HOGAR  CODPERSO  P208A P209 P210\n",
      "0      5007        22     11         1   64.0    2     \n",
      "1      5007        22     11         2   63.0    2     \n",
      "2      5007        22     11         3   31.0    6     \n",
      "3      5007        31     11         1   79.0    3     \n",
      "4      5007        31     11         2   50.0    1     \n"
     ]
    },
    {
     "name": "stderr",
     "output_type": "stream",
     "text": [
      "C:\\Users\\econg\\AppData\\Local\\Temp\\ipykernel_8096\\2934664164.py:3: SettingWithCopyWarning: \n",
      "A value is trying to be set on a copy of a slice from a DataFrame.\n",
      "Try using .loc[row_indexer,col_indexer] = value instead\n",
      "\n",
      "See the caveats in the documentation: https://pandas.pydata.org/pandas-docs/stable/user_guide/indexing.html#returning-a-view-versus-a-copy\n",
      "  sub_df2['P209'] = sub_df2['P209'].replace({1: 'Hombre', 2: 'Mujer'})\n"
     ]
    }
   ],
   "source": [
    "# Modificar algunos valores en una columna (ejemplo: renombrar en P209)\n",
    "# Supongamos que P209 = 1 es \"Hombre\" y 2 es \"Mujer\"\n",
    "sub_df2['P209'] = sub_df2['P209'].replace({1: 'Hombre', 2: 'Mujer'})\n",
    "\n",
    "print(sub_df2.head())"
   ]
  },
  {
   "cell_type": "markdown",
   "id": "e42d7799-d075-48a3-9783-0c23b6eb4fcd",
   "metadata": {},
   "source": [
    "## Sección 1.4: Merge"
   ]
  },
  {
   "cell_type": "code",
   "execution_count": 31,
   "id": "dac05bab-cd09-4df7-8ab3-9a821cdbb5a7",
   "metadata": {},
   "outputs": [],
   "source": [
    "# Hemos importado df (300) y df2 (200)\n",
    "# Definir columnas comunes\n",
    "common_columns = ['CONGLOME', 'VIVIENDA', 'HOGAR', 'CODPERSO']\n"
   ]
  },
  {
   "cell_type": "code",
   "execution_count": 32,
   "id": "759abd75-53d8-49a7-a5d4-2f9e08691d68",
   "metadata": {},
   "outputs": [
    {
     "name": "stdout",
     "output_type": "stream",
     "text": [
      "Columnas en df: {'P3121A6', 'P314B1_8', 'P312T1', 'P311N$2', 'VIVIENDA', 'P311D$8', 'D311D7$4', 'P3122C2', 'P311A7$3', 'D3122C', 'P311$8', 'P311B$1', 'D311D3$1', 'P311A3$3', 'P311A3$8', 'D3122C5', 'P315B2', 'P311D4$9', 'P315B3', 'P311A2$3', 'I311B$4', 'P302', 'P311A5$8', 'P3122A2', 'D311D4$3', 'P311D6$5', 'P308B', 'P316C5', 'P307B2', 'P311B$9', 'P311D7$5', 'D311B$6', 'P311D3$7', 'P311N$7', 'P310C0', 'P316$4', 'P311A6$7', 'P311$5', 'P3122A6', 'P311A4$9', 'P311A2$4', 'P311B$4', 'P311D3$3', 'P300I', 'I3121C6', 'P316A6', 'D311D4$2', 'P206', 'P207', 'P311D7$3', 'D3122C3', 'I311B$5', 'P304B', 'IMPUTADO', 'D3121C5', 'P308A', 'P311C$3', 'D311D$6', 'MES', 'P314B$2', 'P316C9', 'P311D7$4', 'P312T23', 'P314B$4', 'P308B3', 'P308B5', 'I3122C6', 'P311D3$2', 'P311T26', 'P308C2', 'UBIGEO', 'P316$11', 'I311D2$7', 'P302X', 'D3121C3', 'P310E0', 'P301B1', 'P3121A4', 'P307A3', 'P311D4$3', 'P311D5$1', 'D3121C', 'D315B4', 'I3121C5', 'P314B1_9', 'I3121B', 'P311D5$6', 'P311D6$8', 'P311A1$8', 'P311D6$4', 'P311A6$2', 'P301B3', 'P311A4$3', 'D315B', 'P311A3$2', 'P311B$5', 'P311D4$8', 'P316A5', 'P3121A5', 'D315B3', 'P311E$1', 'D311D6$4', 'P3121C4', 'P316A2', 'D311D$5', 'P301D', 'P311A7$4', 'P311D3$5', 'P315B', 'I311D7$2', 'P311A5$6', 'P314D', 'I311D6$5', 'P315B4', 'I311D6$6', 'D311D3$3', 'D311B$2', 'P311D2$1', 'D3122C4', 'P311A3$6', 'I311D3$6', 'P301A1', 'P316C2', 'I311D6$4', 'P311A4$5', 'I311D4$6', 'I3121C', 'P311A7$7', 'P310D2', 'FACTOR07', 'P311D$4', 'P308C1', 'P311D$3', 'P3156', 'I311D5$4', 'P304C', 'D311D6$6', 'P311A6$9', 'P311A3$7', 'P3121', 'P204', 'D315B2', 'D311B$4', 'I311D7$7', 'P314B$6', 'CONGLOME', 'P316C1', 'D311D2$2', 'P311A5$5', 'P311D6$1', 'P3122C', 'D311D5$4', 'P3122A5', 'P311A1$5', 'P311A1$4', 'P314A', 'P311A7$5', 'P311T27', 'P307B1', 'P311T2', 'P3122A4', 'P311A2$5', 'D311D7$3', 'D311D3$4', 'P311D2$4', 'P311A1$7', 'D311D7$6', 'P311A5$1', 'D311B$1', 'I311D3$3', 'P311N$5', 'I311D2$5', 'P311D4$4', 'I311D4$4', 'D311D7$7', 'P311D5$4', 'P205', 'P311E$9', 'I311D6$1', 'P311B$6', 'I311D5$2', 'P311D4$2', 'I3122B', 'P307C', 'P307', 'P3122A3', 'P311A1$1', 'P307B4_6', 'HOGAR', 'P314B$1', 'P311A1$3', 'P3121A1', 'P301B0', 'P311E$8', 'P301C', 'P311A3$4', 'D311D4$5', 'P308B1', 'I311D7$6', 'P3121A3', 'P311D4$5', 'P311A5$3', 'I311D2$1', 'I315B6', 'D311B$7', 'P304A', 'P312T2', 'D3122C6', 'D311D$3', 'P311C$7', 'P311D$1', 'I311D$1', 'I315B5', 'I311D4$3', 'P209', 'D311D2$3', 'P311B$2', 'I311D4$2', 'I311B$6', 'P311B$3', 'P311D3$8', 'P3122A1', 'D3121B', 'I311D3$4', 'D311D7$5', 'P307A4_6', 'P307A4', 'SUB_CONGLOME', 'P203', 'P312T25', 'D311D$7', 'P3152', 'D311D5$6', 'I315B4', 'I3122C2', 'D311D2$6', 'P311D3$6', 'P311D$9', 'I311D3$5', 'D311D3$7', 'I315A', 'P311N$6', 'P312T22', 'D311D3$5', 'I311D$4', 'P311A7$8', 'D311D5$3', 'P311D$2', 'P311T1', 'P311A6$4', 'P311$9', 'I311D$6', 'D311D$4', 'I3122C4', 'P311A2$1', 'P300A', 'I311D3$2', 'P3121D', 'D311B$3', 'P3122C4', 'D311D7$1', 'P311B$7', 'D315B5', 'P311A2$2', 'P311A4$1', 'P307A1', 'P311$2', 'CODINFOR', 'D311D7$2', 'I315B', 'P311T25', 'P311A1$6', 'I311D5$1', 'P316C3', 'I311D$2', 'P316C7', 'P314B$7', 'I3122C', 'D311D6$2', 'P3121B', 'P311$3', 'P310', 'P311E$4', 'P310D1', 'P311A5$2', 'P311A4$4', 'D311D5$5', 'P3155', 'P311T24', 'P311A3$9', 'P311D3$1', 'P311A4$6', 'I3122C3', 'P3153', 'I311D$3', 'P3121C6', 'P316A4', 'P311A4$2', 'P316$2', 'P3122C6', 'D311D2$1', 'I311D2$2', 'P311C$8', 'P311A5$4', 'P310C1', 'P3151', 'P316C10', 'P3122B', 'I3122C5', 'P308B2', 'P3121A2', 'NCONGLOME', 'P307A4_5', 'D311D6$1', 'P311A6$8', 'I311D$7', 'P311A4$8', 'P311A3$1', 'P307B4_5', 'D311D2$5', 'P307B3', 'P307A2', 'D311D$1', 'D311D3$6', 'P308C', 'P311D3$9', 'P307B4_7', 'I311D7$1', 'P300N', 'P301A', 'P311N$4', 'P316C6', 'P302A', 'P311N$1', 'P316A3', 'P311D2$2', 'P311D2$8', 'P311B$8', 'P311A4$7', 'P311E$2', 'I311D3$1', 'I3121C3', 'I311D5$7', 'P311D7$1', 'D311D5$1', 'P311$6', 'I311D7$3', 'D315B6', 'P311D$7', 'I311D2$3', 'I311B$1', 'I311D6$2', 'P311$4', 'D311D2$7', 'P315B5', 'P314B1_6', 'P316$3', 'P301B', 'P3121C5', 'D311D4$7', 'P311A6$6', 'P311N$3', 'P316$7', 'P311A2$8', 'D311D2$4', 'I315B3', 'D3122B', 'P305', 'P311E$6', 'D311D$2', 'D3121C2', 'I3121C2', 'D311B$5', 'P311D5$2', 'D311D4$4', 'P311D7$2', 'P311D5$8', 'P311A6$5', 'I311B$2', 'P316A1', 'P311T23', 'P311D7$7', 'P311D6$6', 'P311D6$3', 'P311A7$2', 'P310B1', 'I311B$3', 'D3121C4', 'P311$7', 'P311A2$7', 'P311A6$3', 'P315B6', 'P310E3', 'P311A2$6', 'P311E$3', 'I311D2$4', 'P316$6', 'I3121C4', 'P306', 'P3121C', 'P312T24', 'D311D6$7', 'P314B$5', 'D315A', 'P316$8', 'P208A', 'P311D5$5', 'P316$1', 'P311A3$5', 'P316$12', 'I311D3$7', 'ESTRATO', 'I311D4$7', 'D311D4$6', 'CODPERSO', 'TICUEST01A', 'D3122C2', 'P311A2$9', 'P310E1', 'DOMINIO', 'D311D6$5', 'I311D6$3', 'P311C$2', 'P311D3$4', 'P316$5', 'D3121C6', 'P311C$1', 'P311D2$3', 'P311D7$6', 'I311D5$3', 'P311D6$9', 'P316C8', 'P3122', 'P311D2$7', 'P314B1_7', 'P311D2$6', 'P311A5$7', 'P311A6$1', 'P3122D', 'P311D2$9', 'P311E$7', 'P301A0', 'AŅO', 'P311C$4', 'P311D5$3', 'P311A1$9', 'P314B1_1', 'P3121C3', 'I315B2', 'P311D2$5', 'I311D6$7', 'P311N$8', 'P311C$5', 'P308D', 'FACTORA07', 'P302B', 'P311C$6', 'P311E$5', 'P3154', 'I311D7$5', 'D311D6$3', 'I311D2$6', 'P311D4$1', 'P316C4', 'D311D3$2', 'P311D7$9', 'P311D4$6', 'P311D$5', 'P316B', 'D311D4$1', 'D311D5$2', 'P311N$9', 'P308B4', 'P315A', 'P314B1_2', 'P311A7$1', 'P311A7$9', 'P3122C5', 'I311B$7', 'P311A1$2', 'I311D7$4', 'I311D5$6', 'P303', 'I311D5$5', 'P311D5$9', 'D311D5$7', 'P311D7$8', 'P307A4_7', 'P311C$9', 'P311T22', 'P311D4$7', 'P307B4', 'P311D$6', 'P311D6$2', 'I311D4$1', 'I311D4$5', 'T313A', 'P311A5$9', 'P313', 'I311D$5', 'P3121C2', 'P312T26', 'P316$9', 'P311D6$7', 'P311D5$7', 'P311A7$6', 'P3122C3', 'P314B$3', 'P316$10', 'P304D', 'P311$1'}\n",
      "Columnas en df2: {'CODPERSO', 'SUB_CONGLOME', 'P203', 'DOMINIO', 'VIVIENDA', 'P212', 'P216', 'FACPOB07', 'P205', 'P215', 'P203A', 'RAMA_R3', 'UBIGEO', 'P208B', 'T211', 'P203B', 'P204', 'P217', 'P209', 'CONGLOME', 'OCUPAC_R3', 'P210', 'P208A', 'NCONGLOME', 'HOGAR', 'RAMA_R4', 'P201P', 'P206', 'P207', 'P213', 'AŅO', 'P214', 'CODTIEMPO', 'CODTAREA', 'P211A', 'MES', 'OCUPAC_R4', 'ESTRATO', 'P211D', 'TICUEST01'}\n"
     ]
    }
   ],
   "source": [
    "# Verificamos si los nombres de las columnas coinciden en ambos datasets\n",
    "print(\"Columnas en df:\", set(df.columns))\n",
    "print(\"Columnas en df2:\", set(df2.columns))"
   ]
  },
  {
   "cell_type": "code",
   "execution_count": 33,
   "id": "7b8eb394-ae6c-46b5-946f-09609292dcd8",
   "metadata": {},
   "outputs": [
    {
     "name": "stdout",
     "output_type": "stream",
     "text": [
      "   CONGLOME  VIVIENDA  HOGAR  CODPERSO\n",
      "0      5030         2     11         1\n",
      "1      5030         2     11         2\n",
      "2      5030         2     11         3\n",
      "3      5030         2     11         4\n",
      "4      5030        11     11         1\n",
      "   CONGLOME  VIVIENDA  HOGAR  CODPERSO\n",
      "0      5007        22     11         1\n",
      "1      5007        22     11         2\n",
      "2      5007        22     11         3\n",
      "3      5007        31     11         1\n",
      "4      5007        31     11         2\n"
     ]
    }
   ],
   "source": [
    "# Verificamos si existen diferencias en los valores clave\n",
    "print(df[common_columns].head())\n",
    "print(df2[common_columns].head())"
   ]
  },
  {
   "cell_type": "code",
   "execution_count": 34,
   "id": "79daf8c3-80ed-4ef2-aade-6fad88d2a5ed",
   "metadata": {},
   "outputs": [],
   "source": [
    "# Verificamos si existen errores de formato\n",
    "for col in common_columns:\n",
    "    df[col] = df[col].astype(str).str.strip()\n",
    "    df2[col] = df2[col].astype(str).str.strip()"
   ]
  },
  {
   "cell_type": "code",
   "execution_count": 35,
   "id": "e16272fa-d64c-46df-9884-45826150c604",
   "metadata": {},
   "outputs": [],
   "source": [
    "# Realizamos la unión (merge) usando las columnas comunes\n",
    "df_merged = pd.merge(df, df2, on=common_columns, how=\"inner\")"
   ]
  },
  {
   "cell_type": "code",
   "execution_count": 36,
   "id": "146834e5-5e51-4a5a-9a4a-527cfa68edf8",
   "metadata": {},
   "outputs": [
    {
     "name": "stdout",
     "output_type": "stream",
     "text": [
      "   AŅO_x  MES_x CONGLOME VIVIENDA HOGAR CODPERSO  UBIGEO_x  DOMINIO_x  \\\n",
      "0   2023      1     5030        2    11        1     10201          7   \n",
      "1   2023      1     5030        2    11        2     10201          7   \n",
      "2   2023      1     5030        2    11        3     10201          7   \n",
      "3   2023      1     5030        2    11        4     10201          7   \n",
      "4   2023      1     5030       11    11        1     10201          7   \n",
      "\n",
      "   ESTRATO_x  CODINFOR  ...  OCUPAC_R3  OCUPAC_R4  RAMA_R3  RAMA_R4 CODTAREA  \\\n",
      "0          4         1  ...                                                    \n",
      "1          4         2  ...                                                    \n",
      "2          4         2  ...                                                    \n",
      "3          4         2  ...                                                    \n",
      "4          4         1  ...                                                    \n",
      "\n",
      "  CODTIEMPO TICUEST01    FACPOB07 NCONGLOME_y SUB_CONGLOME_y  \n",
      "0                   2  118.374542        6618              0  \n",
      "1                   2  118.374542        6618              0  \n",
      "2                   2  118.374542        6618              0  \n",
      "3                   2  118.374542        6618              0  \n",
      "4                   2  118.374542        6618              0  \n",
      "\n",
      "[5 rows x 547 columns]\n"
     ]
    }
   ],
   "source": [
    "# Mostrar primeras 5 filas del DataFrame combinado\n",
    "print(df_merged.head())"
   ]
  },
  {
   "cell_type": "markdown",
   "id": "c8455aa1-97bc-4de6-a597-f82fe2ad864c",
   "metadata": {},
   "source": [
    "## Sección 1.5"
   ]
  },
  {
   "cell_type": "code",
   "execution_count": 41,
   "id": "c9239c88-9f5c-40f5-9897-56ce27dd28b2",
   "metadata": {},
   "outputs": [
    {
     "name": "stdout",
     "output_type": "stream",
     "text": [
      "P209_y\n",
      "     23295.302717\n",
      "1    23048.550097\n",
      "2    24128.679762\n",
      "3    23682.408167\n",
      "4    25664.943299\n",
      "5    23879.302499\n",
      "6    23668.747556\n",
      "Name: NCONGLOME_y, dtype: float64\n"
     ]
    }
   ],
   "source": [
    "# Agrupar por sexo (P209_y) y calcular el ingreso promedio_y\n",
    "resultado = df_merged.groupby('P209_y')['NCONGLOME_y'].mean()\n",
    "\n",
    "print(resultado)\n",
    "\n"
   ]
  },
  {
   "cell_type": "code",
   "execution_count": null,
   "id": "62168ca1-1096-45d5-8769-d1a434005a0b",
   "metadata": {},
   "outputs": [],
   "source": []
  }
 ],
 "metadata": {
  "kernelspec": {
   "display_name": "Python [conda env:base] *",
   "language": "python",
   "name": "conda-base-py"
  },
  "language_info": {
   "codemirror_mode": {
    "name": "ipython",
    "version": 3
   },
   "file_extension": ".py",
   "mimetype": "text/x-python",
   "name": "python",
   "nbconvert_exporter": "python",
   "pygments_lexer": "ipython3",
   "version": "3.11.5"
  }
 },
 "nbformat": 4,
 "nbformat_minor": 5
}
