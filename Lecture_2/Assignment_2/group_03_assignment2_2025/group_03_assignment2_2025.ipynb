{
 "cells": [
  {
   "cell_type": "markdown",
   "id": "c52ae8c6",
   "metadata": {},
   "source": [
    "# Part 1 – Pandas DataFrames"
   ]
  },
  {
   "cell_type": "code",
   "execution_count": 70,
   "id": "0275eb6b",
   "metadata": {},
   "outputs": [
    {
     "name": "stdout",
     "output_type": "stream",
     "text": [
      "Requirement already satisfied: pyreadstat in /Users/freddyzutachavez/anaconda3/lib/python3.11/site-packages (1.3.1)\n",
      "Requirement already satisfied: narwhals>=2.0 in /Users/freddyzutachavez/anaconda3/lib/python3.11/site-packages (from pyreadstat) (2.2.0)\n",
      "Requirement already satisfied: numpy in /Users/freddyzutachavez/anaconda3/lib/python3.11/site-packages (from pyreadstat) (1.24.3)\n",
      "Requirement already satisfied: savReaderWriter in /Users/freddyzutachavez/anaconda3/lib/python3.11/site-packages (3.4.2)\n"
     ]
    }
   ],
   "source": [
    "!pip install pyreadstat\n",
    "!pip install savReaderWriter"
   ]
  },
  {
   "cell_type": "code",
   "execution_count": 68,
   "id": "1d022db9",
   "metadata": {},
   "outputs": [],
   "source": [
    "import numpy as np"
   ]
  },
  {
   "cell_type": "code",
   "execution_count": 69,
   "id": "a6176d55",
   "metadata": {},
   "outputs": [],
   "source": [
    "import pandas as pd"
   ]
  },
  {
   "cell_type": "code",
   "execution_count": 71,
   "id": "67a4df8a",
   "metadata": {},
   "outputs": [],
   "source": [
    "# 1. Importar dataset Educación (Módulo 300)\n",
    "df300 = pd.read_csv(\n",
    "    r\"/Users/freddyzutachavez/Documents/ENAHO-2023/Enaho01A-2023-300.csv\",\n",
    "    encoding=\"ISO-8859-1\",\n",
    "    low_memory=False\n",
    ")\n"
   ]
  },
  {
   "cell_type": "code",
   "execution_count": 73,
   "id": "5fe5234d",
   "metadata": {
    "scrolled": true
   },
   "outputs": [
    {
     "name": "stdout",
     "output_type": "stream",
     "text": [
      "Primeras 5 filas del dataset:\n"
     ]
    },
    {
     "data": {
      "text/html": [
       "<div>\n",
       "<style scoped>\n",
       "    .dataframe tbody tr th:only-of-type {\n",
       "        vertical-align: middle;\n",
       "    }\n",
       "\n",
       "    .dataframe tbody tr th {\n",
       "        vertical-align: top;\n",
       "    }\n",
       "\n",
       "    .dataframe thead th {\n",
       "        text-align: right;\n",
       "    }\n",
       "</style>\n",
       "<table border=\"1\" class=\"dataframe\">\n",
       "  <thead>\n",
       "    <tr style=\"text-align: right;\">\n",
       "      <th></th>\n",
       "      <th>AÑO</th>\n",
       "      <th>MES</th>\n",
       "      <th>CONGLOME</th>\n",
       "      <th>VIVIENDA</th>\n",
       "      <th>HOGAR</th>\n",
       "      <th>CODPERSO</th>\n",
       "      <th>UBIGEO</th>\n",
       "      <th>DOMINIO</th>\n",
       "      <th>ESTRATO</th>\n",
       "      <th>CODINFOR</th>\n",
       "      <th>...</th>\n",
       "      <th>I311D$5</th>\n",
       "      <th>I311D$6</th>\n",
       "      <th>I311D$7</th>\n",
       "      <th>I3121C</th>\n",
       "      <th>I3122C</th>\n",
       "      <th>I315B</th>\n",
       "      <th>FACTOR07</th>\n",
       "      <th>FACTORA07</th>\n",
       "      <th>NCONGLOME</th>\n",
       "      <th>SUB_CONGLOME</th>\n",
       "    </tr>\n",
       "  </thead>\n",
       "  <tbody>\n",
       "    <tr>\n",
       "      <th>0</th>\n",
       "      <td>2023</td>\n",
       "      <td>1</td>\n",
       "      <td>5030</td>\n",
       "      <td>2</td>\n",
       "      <td>11</td>\n",
       "      <td>1</td>\n",
       "      <td>10201</td>\n",
       "      <td>7</td>\n",
       "      <td>4</td>\n",
       "      <td>1</td>\n",
       "      <td>...</td>\n",
       "      <td></td>\n",
       "      <td></td>\n",
       "      <td></td>\n",
       "      <td></td>\n",
       "      <td></td>\n",
       "      <td></td>\n",
       "      <td>118.374542</td>\n",
       "      <td>165.623856</td>\n",
       "      <td>6618</td>\n",
       "      <td>0</td>\n",
       "    </tr>\n",
       "    <tr>\n",
       "      <th>1</th>\n",
       "      <td>2023</td>\n",
       "      <td>1</td>\n",
       "      <td>5030</td>\n",
       "      <td>2</td>\n",
       "      <td>11</td>\n",
       "      <td>2</td>\n",
       "      <td>10201</td>\n",
       "      <td>7</td>\n",
       "      <td>4</td>\n",
       "      <td>2</td>\n",
       "      <td>...</td>\n",
       "      <td></td>\n",
       "      <td></td>\n",
       "      <td></td>\n",
       "      <td></td>\n",
       "      <td></td>\n",
       "      <td></td>\n",
       "      <td>118.374542</td>\n",
       "      <td>112.328087</td>\n",
       "      <td>6618</td>\n",
       "      <td>0</td>\n",
       "    </tr>\n",
       "    <tr>\n",
       "      <th>2</th>\n",
       "      <td>2023</td>\n",
       "      <td>1</td>\n",
       "      <td>5030</td>\n",
       "      <td>2</td>\n",
       "      <td>11</td>\n",
       "      <td>3</td>\n",
       "      <td>10201</td>\n",
       "      <td>7</td>\n",
       "      <td>4</td>\n",
       "      <td>2</td>\n",
       "      <td>...</td>\n",
       "      <td></td>\n",
       "      <td></td>\n",
       "      <td></td>\n",
       "      <td></td>\n",
       "      <td></td>\n",
       "      <td></td>\n",
       "      <td>118.374542</td>\n",
       "      <td>120.091476</td>\n",
       "      <td>6618</td>\n",
       "      <td>0</td>\n",
       "    </tr>\n",
       "    <tr>\n",
       "      <th>3</th>\n",
       "      <td>2023</td>\n",
       "      <td>1</td>\n",
       "      <td>5030</td>\n",
       "      <td>2</td>\n",
       "      <td>11</td>\n",
       "      <td>4</td>\n",
       "      <td>10201</td>\n",
       "      <td>7</td>\n",
       "      <td>4</td>\n",
       "      <td>2</td>\n",
       "      <td>...</td>\n",
       "      <td></td>\n",
       "      <td></td>\n",
       "      <td>8</td>\n",
       "      <td></td>\n",
       "      <td></td>\n",
       "      <td></td>\n",
       "      <td>118.374542</td>\n",
       "      <td>110.974678</td>\n",
       "      <td>6618</td>\n",
       "      <td>0</td>\n",
       "    </tr>\n",
       "    <tr>\n",
       "      <th>4</th>\n",
       "      <td>2023</td>\n",
       "      <td>1</td>\n",
       "      <td>5030</td>\n",
       "      <td>11</td>\n",
       "      <td>11</td>\n",
       "      <td>1</td>\n",
       "      <td>10201</td>\n",
       "      <td>7</td>\n",
       "      <td>4</td>\n",
       "      <td>1</td>\n",
       "      <td>...</td>\n",
       "      <td></td>\n",
       "      <td></td>\n",
       "      <td></td>\n",
       "      <td></td>\n",
       "      <td></td>\n",
       "      <td></td>\n",
       "      <td>118.374542</td>\n",
       "      <td>96.035370</td>\n",
       "      <td>6618</td>\n",
       "      <td>0</td>\n",
       "    </tr>\n",
       "  </tbody>\n",
       "</table>\n",
       "<p>5 rows × 511 columns</p>\n",
       "</div>"
      ],
      "text/plain": [
       "    AÑO  MES  CONGLOME  VIVIENDA  HOGAR  CODPERSO  UBIGEO  DOMINIO  ESTRATO  \\\n",
       "0  2023    1      5030         2     11         1   10201        7        4   \n",
       "1  2023    1      5030         2     11         2   10201        7        4   \n",
       "2  2023    1      5030         2     11         3   10201        7        4   \n",
       "3  2023    1      5030         2     11         4   10201        7        4   \n",
       "4  2023    1      5030        11     11         1   10201        7        4   \n",
       "\n",
       "   CODINFOR  ...  I311D$5  I311D$6  I311D$7  I3121C I3122C I315B    FACTOR07  \\\n",
       "0         1  ...                                                  118.374542   \n",
       "1         2  ...                                                  118.374542   \n",
       "2         2  ...                                                  118.374542   \n",
       "3         2  ...                          8                       118.374542   \n",
       "4         1  ...                                                  118.374542   \n",
       "\n",
       "    FACTORA07 NCONGLOME SUB_CONGLOME  \n",
       "0  165.623856      6618            0  \n",
       "1  112.328087      6618            0  \n",
       "2  120.091476      6618            0  \n",
       "3  110.974678      6618            0  \n",
       "4   96.035370      6618            0  \n",
       "\n",
       "[5 rows x 511 columns]"
      ]
     },
     "metadata": {},
     "output_type": "display_data"
    }
   ],
   "source": [
    "# 2. Mostrar las primeras 5 filas\n",
    "print(\"Primeras 5 filas del dataset:\")\n",
    "display(df300.head())"
   ]
  },
  {
   "cell_type": "code",
   "execution_count": 74,
   "id": "0b4b6e85",
   "metadata": {},
   "outputs": [
    {
     "name": "stdout",
     "output_type": "stream",
     "text": [
      "\n",
      "Lista de nombres de columnas:\n",
      "['AÑO', 'MES', 'CONGLOME', 'VIVIENDA', 'HOGAR', 'CODPERSO', 'UBIGEO', 'DOMINIO', 'ESTRATO', 'CODINFOR', 'P300N', 'P300I', 'P300A', 'P301A', 'P301B', 'P301C', 'P301D', 'P301A0', 'P301A1', 'P301B0', 'P301B1', 'P301B3', 'P302', 'P302X', 'P302A', 'P302B', 'P303', 'P304A', 'P304B', 'P304C', 'P304D', 'P305', 'P306', 'P307', 'P307A1', 'P307A2', 'P307A3', 'P307A4', 'P307A4_5', 'P307A4_6', 'P307A4_7', 'P307B1', 'P307B2', 'P307B3', 'P307B4', 'P307B4_5', 'P307B4_6', 'P307B4_7', 'P307C', 'P308A', 'P308B', 'P308C', 'P308D', 'P308B1', 'P308B2', 'P308B3', 'P308B4', 'P308B5', 'P308C1', 'P308C2', 'P310', 'P310B1', 'P310C0', 'P310C1', 'P310D1', 'P310D2', 'P310E0', 'P310E1', 'P310E3', 'P311N$1', 'P311N$2', 'P311N$3', 'P311N$4', 'P311N$5', 'P311N$6', 'P311N$7', 'P311N$8', 'P311N$9', 'P311$1', 'P311$2', 'P311$3', 'P311$4', 'P311$5', 'P311$6', 'P311$7', 'P311$8', 'P311$9', 'P311A1$1', 'P311A1$2', 'P311A1$3', 'P311A1$4', 'P311A1$5', 'P311A1$6', 'P311A1$7', 'P311A1$8', 'P311A1$9', 'P311A2$1', 'P311A2$2', 'P311A2$3', 'P311A2$4', 'P311A2$5', 'P311A2$6', 'P311A2$7', 'P311A2$8', 'P311A2$9', 'P311A3$1', 'P311A3$2', 'P311A3$3', 'P311A3$4', 'P311A3$5', 'P311A3$6', 'P311A3$7', 'P311A3$8', 'P311A3$9', 'P311A4$1', 'P311A4$2', 'P311A4$3', 'P311A4$4', 'P311A4$5', 'P311A4$6', 'P311A4$7', 'P311A4$8', 'P311A4$9', 'P311A5$1', 'P311A5$2', 'P311A5$3', 'P311A5$4', 'P311A5$5', 'P311A5$6', 'P311A5$7', 'P311A5$8', 'P311A5$9', 'P311A6$1', 'P311A6$2', 'P311A6$3', 'P311A6$4', 'P311A6$5', 'P311A6$6', 'P311A6$7', 'P311A6$8', 'P311A6$9', 'P311A7$1', 'P311A7$2', 'P311A7$3', 'P311A7$4', 'P311A7$5', 'P311A7$6', 'P311A7$7', 'P311A7$8', 'P311A7$9', 'P311B$1', 'P311B$2', 'P311B$3', 'P311B$4', 'P311B$5', 'P311B$6', 'P311B$7', 'P311B$8', 'P311B$9', 'P311C$1', 'P311C$2', 'P311C$3', 'P311C$4', 'P311C$5', 'P311C$6', 'P311C$7', 'P311C$8', 'P311C$9', 'P311D$1', 'P311D$2', 'P311D$3', 'P311D$4', 'P311D$5', 'P311D$6', 'P311D$7', 'P311D$8', 'P311D$9', 'P311D2$1', 'P311D2$2', 'P311D2$3', 'P311D2$4', 'P311D2$5', 'P311D2$6', 'P311D2$7', 'P311D2$8', 'P311D2$9', 'P311D3$1', 'P311D3$2', 'P311D3$3', 'P311D3$4', 'P311D3$5', 'P311D3$6', 'P311D3$7', 'P311D3$8', 'P311D3$9', 'P311D4$1', 'P311D4$2', 'P311D4$3', 'P311D4$4', 'P311D4$5', 'P311D4$6', 'P311D4$7', 'P311D4$8', 'P311D4$9', 'P311D5$1', 'P311D5$2', 'P311D5$3', 'P311D5$4', 'P311D5$5', 'P311D5$6', 'P311D5$7', 'P311D5$8', 'P311D5$9', 'P311D6$1', 'P311D6$2', 'P311D6$3', 'P311D6$4', 'P311D6$5', 'P311D6$6', 'P311D6$7', 'P311D6$8', 'P311D6$9', 'P311D7$1', 'P311D7$2', 'P311D7$3', 'P311D7$4', 'P311D7$5', 'P311D7$6', 'P311D7$7', 'P311D7$8', 'P311D7$9', 'P311E$1', 'P311E$2', 'P311E$3', 'P311E$4', 'P311E$5', 'P311E$6', 'P311E$7', 'P311E$8', 'P311E$9', 'P311T1', 'P311T22', 'P311T23', 'P311T24', 'P311T25', 'P311T26', 'P311T27', 'P311T2', 'P3121', 'P3121A1', 'P3121A2', 'P3121A3', 'P3121A4', 'P3121A5', 'P3121A6', 'P3121B', 'P3121C', 'P3121C2', 'P3121C3', 'P3121C4', 'P3121C5', 'P3121C6', 'P3121D', 'P3122', 'P3122A1', 'P3122A2', 'P3122A3', 'P3122A4', 'P3122A5', 'P3122A6', 'P3122B', 'P3122C', 'P3122C2', 'P3122C3', 'P3122C4', 'P3122C5', 'P3122C6', 'P3122D', 'P312T1', 'P312T22', 'P312T23', 'P312T24', 'P312T25', 'P312T26', 'P312T2', 'P313', 'P314A', 'P314B$1', 'P314B$2', 'P314B$3', 'P314B$4', 'P314B$5', 'P314B$6', 'P314B$7', 'P314B1_1', 'P314B1_2', 'P314B1_6', 'P314B1_7', 'P314B1_8', 'P314B1_9', 'P314D', 'P3151', 'P3152', 'P3153', 'P3154', 'P3155', 'P3156', 'P315A', 'P315B', 'P315B2', 'P315B3', 'P315B4', 'P315B5', 'P315B6', 'P316$1', 'P316$2', 'P316$3', 'P316$4', 'P316$5', 'P316$6', 'P316$7', 'P316$8', 'P316$9', 'P316$10', 'P316$11', 'P316$12', 'P316A1', 'P316A2', 'P316A3', 'P316A4', 'P316A5', 'P316A6', 'P316B', 'P316C1', 'P316C2', 'P316C3', 'P316C4', 'P316C5', 'P316C6', 'P316C7', 'P316C8', 'P316C9', 'P316C10', 'T313A', 'P203', 'P204', 'P205', 'P206', 'P207', 'P208A', 'P209', 'IMPUTADO', 'TICUEST01A', 'D311B$1', 'D311D2$1', 'D311D3$1', 'D311D4$1', 'D311D5$1', 'D311D6$1', 'D311D7$1', 'D311D$1', 'D311B$2', 'D311D2$2', 'D311D3$2', 'D311D4$2', 'D311D5$2', 'D311D6$2', 'D311D7$2', 'D311D$2', 'D311B$3', 'D311D2$3', 'D311D3$3', 'D311D4$3', 'D311D5$3', 'D311D6$3', 'D311D7$3', 'D311D$3', 'D311B$4', 'D311D2$4', 'D311D3$4', 'D311D4$4', 'D311D5$4', 'D311D6$4', 'D311D7$4', 'D311D$4', 'D311B$5', 'D311D2$5', 'D311D3$5', 'D311D4$5', 'D311D5$5', 'D311D6$5', 'D311D7$5', 'D311D$5', 'D311B$6', 'D311D2$6', 'D311D3$6', 'D311D4$6', 'D311D5$6', 'D311D6$6', 'D311D7$6', 'D311D$6', 'D311B$7', 'D311D2$7', 'D311D3$7', 'D311D4$7', 'D311D5$7', 'D311D6$7', 'D311D7$7', 'D311D$7', 'D3121B', 'D3121C2', 'D3121C3', 'D3121C4', 'D3121C5', 'D3121C6', 'D3121C', 'D3122B', 'D3122C2', 'D3122C3', 'D3122C4', 'D3122C5', 'D3122C6', 'D3122C', 'D315A', 'D315B2', 'D315B3', 'D315B4', 'D315B5', 'D315B6', 'D315B', 'I311B$1', 'I311B$2', 'I311B$4', 'I311B$6', 'I311B$3', 'I311B$5', 'I311B$7', 'I311D2$1', 'I311D3$1', 'I311D4$1', 'I311D5$1', 'I311D6$1', 'I311D7$1', 'I311D2$2', 'I311D3$2', 'I311D4$2', 'I311D5$2', 'I311D6$2', 'I311D7$2', 'I311D2$4', 'I311D3$4', 'I311D4$4', 'I311D5$4', 'I311D6$4', 'I311D7$4', 'I311D2$6', 'I311D3$6', 'I311D4$6', 'I311D5$6', 'I311D6$6', 'I311D7$6', 'I311D2$3', 'I311D3$3', 'I311D4$3', 'I311D5$3', 'I311D6$3', 'I311D7$3', 'I311D2$5', 'I311D3$5', 'I311D4$5', 'I311D5$5', 'I311D6$5', 'I311D7$5', 'I311D2$7', 'I311D3$7', 'I311D4$7', 'I311D5$7', 'I311D6$7', 'I311D7$7', 'I3121B', 'I3122B', 'I3121C2', 'I3121C3', 'I3121C4', 'I3121C5', 'I3121C6', 'I3122C2', 'I3122C3', 'I3122C4', 'I3122C5', 'I3122C6', 'I315A', 'I315B2', 'I315B3', 'I315B4', 'I315B5', 'I315B6', 'I311D$1', 'I311D$2', 'I311D$3', 'I311D$4', 'I311D$5', 'I311D$6', 'I311D$7', 'I3121C', 'I3122C', 'I315B', 'FACTOR07', 'FACTORA07', 'NCONGLOME', 'SUB_CONGLOME']\n"
     ]
    }
   ],
   "source": [
    "# 3. Convertir nombres de columnas a lista\n",
    "columnas = df300.columns.tolist()\n",
    "print(\"\\nLista de nombres de columnas:\")\n",
    "print(columnas)"
   ]
  },
  {
   "cell_type": "code",
   "execution_count": 75,
   "id": "6fe8d3f5",
   "metadata": {},
   "outputs": [
    {
     "name": "stdout",
     "output_type": "stream",
     "text": [
      "\n",
      "Tipos de datos del DataFrame:\n",
      "AÑO               int64\n",
      "MES               int64\n",
      "CONGLOME          int64\n",
      "VIVIENDA          int64\n",
      "HOGAR             int64\n",
      "                 ...   \n",
      "I315B            object\n",
      "FACTOR07        float64\n",
      "FACTORA07       float64\n",
      "NCONGLOME         int64\n",
      "SUB_CONGLOME      int64\n",
      "Length: 511, dtype: object\n"
     ]
    }
   ],
   "source": [
    "# 4. Revisar tipos de datos\n",
    "print(\"\\nTipos de datos del DataFrame:\")\n",
    "print(df300.dtypes)\n"
   ]
  },
  {
   "cell_type": "code",
   "execution_count": 76,
   "id": "41370d37",
   "metadata": {},
   "outputs": [
    {
     "name": "stdout",
     "output_type": "stream",
     "text": [
      "\n",
      "Submuestra seleccionada:\n"
     ]
    },
    {
     "data": {
      "text/html": [
       "<div>\n",
       "<style scoped>\n",
       "    .dataframe tbody tr th:only-of-type {\n",
       "        vertical-align: middle;\n",
       "    }\n",
       "\n",
       "    .dataframe tbody tr th {\n",
       "        vertical-align: top;\n",
       "    }\n",
       "\n",
       "    .dataframe thead th {\n",
       "        text-align: right;\n",
       "    }\n",
       "</style>\n",
       "<table border=\"1\" class=\"dataframe\">\n",
       "  <thead>\n",
       "    <tr style=\"text-align: right;\">\n",
       "      <th></th>\n",
       "      <th>CONGLOME</th>\n",
       "      <th>VIVIENDA</th>\n",
       "      <th>HOGAR</th>\n",
       "      <th>CODPERSO</th>\n",
       "      <th>P301A</th>\n",
       "      <th>P301B</th>\n",
       "      <th>P302A</th>\n",
       "    </tr>\n",
       "  </thead>\n",
       "  <tbody>\n",
       "    <tr>\n",
       "      <th>0</th>\n",
       "      <td>5030</td>\n",
       "      <td>2</td>\n",
       "      <td>11</td>\n",
       "      <td>1</td>\n",
       "      <td>8</td>\n",
       "      <td>3</td>\n",
       "      <td></td>\n",
       "    </tr>\n",
       "    <tr>\n",
       "      <th>1</th>\n",
       "      <td>5030</td>\n",
       "      <td>2</td>\n",
       "      <td>11</td>\n",
       "      <td>2</td>\n",
       "      <td>10</td>\n",
       "      <td>5</td>\n",
       "      <td></td>\n",
       "    </tr>\n",
       "    <tr>\n",
       "      <th>2</th>\n",
       "      <td>5030</td>\n",
       "      <td>2</td>\n",
       "      <td>11</td>\n",
       "      <td>3</td>\n",
       "      <td>3</td>\n",
       "      <td>0</td>\n",
       "      <td></td>\n",
       "    </tr>\n",
       "    <tr>\n",
       "      <th>3</th>\n",
       "      <td>5030</td>\n",
       "      <td>2</td>\n",
       "      <td>11</td>\n",
       "      <td>4</td>\n",
       "      <td>3</td>\n",
       "      <td>0</td>\n",
       "      <td></td>\n",
       "    </tr>\n",
       "    <tr>\n",
       "      <th>4</th>\n",
       "      <td>5030</td>\n",
       "      <td>11</td>\n",
       "      <td>11</td>\n",
       "      <td>1</td>\n",
       "      <td>4</td>\n",
       "      <td>5</td>\n",
       "      <td></td>\n",
       "    </tr>\n",
       "  </tbody>\n",
       "</table>\n",
       "</div>"
      ],
      "text/plain": [
       "   CONGLOME  VIVIENDA  HOGAR  CODPERSO  P301A P301B P302A\n",
       "0      5030         2     11         1      8     3      \n",
       "1      5030         2     11         2     10     5      \n",
       "2      5030         2     11         3      3     0      \n",
       "3      5030         2     11         4      3     0      \n",
       "4      5030        11     11         1      4     5      "
      ]
     },
     "metadata": {},
     "output_type": "display_data"
    }
   ],
   "source": [
    "# 5. Selección de un subconjunto con variables clave + adicionales\n",
    "sub300 = df300[['CONGLOME', 'VIVIENDA', 'HOGAR', 'CODPERSO',\n",
    "                'P301A', 'P301B', 'P302A']]  # <-- aquí puse ejemplos, ajusta a tu interés\n",
    "print(\"\\nSubmuestra seleccionada:\")\n",
    "display(sub300.head())"
   ]
  },
  {
   "cell_type": "code",
   "execution_count": 77,
   "id": "ead1e47d",
   "metadata": {},
   "outputs": [
    {
     "name": "stdout",
     "output_type": "stream",
     "text": [
      "\n",
      "Resumen estadístico:\n",
      "             CONGLOME       VIVIENDA          HOGAR       CODPERSO  \\\n",
      "count   108354.000000  108354.000000  108354.000000  108354.000000   \n",
      "unique            NaN            NaN            NaN            NaN   \n",
      "top               NaN            NaN            NaN            NaN   \n",
      "freq              NaN            NaN            NaN            NaN   \n",
      "mean     16944.756797      77.820330      11.146271       2.546293   \n",
      "std       3144.386733      68.547022       1.370084       1.577737   \n",
      "min       5007.000000       1.000000      11.000000       1.000000   \n",
      "25%      16028.000000      31.000000      11.000000       1.000000   \n",
      "50%      17500.000000      66.000000      11.000000       2.000000   \n",
      "75%      19014.000000     106.000000      11.000000       3.000000   \n",
      "max      21001.000000     991.000000      44.000000      22.000000   \n",
      "\n",
      "                P301A   P301B   P302A  \n",
      "count   108354.000000  108354  108354  \n",
      "unique            NaN      10       3  \n",
      "top               NaN       5          \n",
      "freq              NaN   33141   93236  \n",
      "mean         5.258652     NaN     NaN  \n",
      "std          3.807669     NaN     NaN  \n",
      "min          1.000000     NaN     NaN  \n",
      "25%          3.000000     NaN     NaN  \n",
      "50%          5.000000     NaN     NaN  \n",
      "75%          6.000000     NaN     NaN  \n",
      "max         99.000000     NaN     NaN  \n"
     ]
    }
   ],
   "source": [
    "# 6. Exploración del DataFrame\n",
    "print(\"\\nResumen estadístico:\")\n",
    "print(sub300.describe(include='all'))"
   ]
  },
  {
   "cell_type": "code",
   "execution_count": 78,
   "id": "848362ac",
   "metadata": {},
   "outputs": [
    {
     "name": "stdout",
     "output_type": "stream",
     "text": [
      "\n",
      "Valores faltantes por columna:\n",
      "CONGLOME    0\n",
      "VIVIENDA    0\n",
      "HOGAR       0\n",
      "CODPERSO    0\n",
      "P301A       0\n",
      "P301B       0\n",
      "P302A       0\n",
      "dtype: int64\n"
     ]
    }
   ],
   "source": [
    "# 7. Identificar valores faltantes\n",
    "print(\"\\nValores faltantes por columna:\")\n",
    "print(sub300.isnull().sum())"
   ]
  },
  {
   "cell_type": "code",
   "execution_count": 79,
   "id": "1d2daa07",
   "metadata": {},
   "outputs": [
    {
     "name": "stdout",
     "output_type": "stream",
     "text": [
      "\n",
      "Submuestra después de eliminar NA:\n"
     ]
    },
    {
     "data": {
      "text/html": [
       "<div>\n",
       "<style scoped>\n",
       "    .dataframe tbody tr th:only-of-type {\n",
       "        vertical-align: middle;\n",
       "    }\n",
       "\n",
       "    .dataframe tbody tr th {\n",
       "        vertical-align: top;\n",
       "    }\n",
       "\n",
       "    .dataframe thead th {\n",
       "        text-align: right;\n",
       "    }\n",
       "</style>\n",
       "<table border=\"1\" class=\"dataframe\">\n",
       "  <thead>\n",
       "    <tr style=\"text-align: right;\">\n",
       "      <th></th>\n",
       "      <th>CONGLOME</th>\n",
       "      <th>VIVIENDA</th>\n",
       "      <th>HOGAR</th>\n",
       "      <th>CODPERSO</th>\n",
       "      <th>P301A</th>\n",
       "      <th>P301B</th>\n",
       "      <th>P302A</th>\n",
       "    </tr>\n",
       "  </thead>\n",
       "  <tbody>\n",
       "    <tr>\n",
       "      <th>0</th>\n",
       "      <td>5030</td>\n",
       "      <td>2</td>\n",
       "      <td>11</td>\n",
       "      <td>1</td>\n",
       "      <td>8</td>\n",
       "      <td>3</td>\n",
       "      <td></td>\n",
       "    </tr>\n",
       "    <tr>\n",
       "      <th>1</th>\n",
       "      <td>5030</td>\n",
       "      <td>2</td>\n",
       "      <td>11</td>\n",
       "      <td>2</td>\n",
       "      <td>10</td>\n",
       "      <td>5</td>\n",
       "      <td></td>\n",
       "    </tr>\n",
       "    <tr>\n",
       "      <th>2</th>\n",
       "      <td>5030</td>\n",
       "      <td>2</td>\n",
       "      <td>11</td>\n",
       "      <td>3</td>\n",
       "      <td>3</td>\n",
       "      <td>0</td>\n",
       "      <td></td>\n",
       "    </tr>\n",
       "    <tr>\n",
       "      <th>3</th>\n",
       "      <td>5030</td>\n",
       "      <td>2</td>\n",
       "      <td>11</td>\n",
       "      <td>4</td>\n",
       "      <td>3</td>\n",
       "      <td>0</td>\n",
       "      <td></td>\n",
       "    </tr>\n",
       "    <tr>\n",
       "      <th>4</th>\n",
       "      <td>5030</td>\n",
       "      <td>11</td>\n",
       "      <td>11</td>\n",
       "      <td>1</td>\n",
       "      <td>4</td>\n",
       "      <td>5</td>\n",
       "      <td></td>\n",
       "    </tr>\n",
       "  </tbody>\n",
       "</table>\n",
       "</div>"
      ],
      "text/plain": [
       "   CONGLOME  VIVIENDA  HOGAR  CODPERSO  P301A P301B P302A\n",
       "0      5030         2     11         1      8     3      \n",
       "1      5030         2     11         2     10     5      \n",
       "2      5030         2     11         3      3     0      \n",
       "3      5030         2     11         4      3     0      \n",
       "4      5030        11     11         1      4     5      "
      ]
     },
     "metadata": {},
     "output_type": "display_data"
    }
   ],
   "source": [
    "\n",
    "# 8. Eliminar filas con valores faltantes\n",
    "sub300_clean = sub300.dropna()\n",
    "print(\"\\nSubmuestra después de eliminar NA:\")\n",
    "display(sub300_clean.head())"
   ]
  },
  {
   "cell_type": "code",
   "execution_count": 80,
   "id": "7fcd6740",
   "metadata": {},
   "outputs": [],
   "source": [
    "# ==========================\n",
    "# Importar librerías\n",
    "# ==========================\n",
    "import pandas as pd\n",
    "import numpy as np"
   ]
  },
  {
   "cell_type": "code",
   "execution_count": 81,
   "id": "711fec6a",
   "metadata": {},
   "outputs": [],
   "source": [
    "# ==========================\n",
    "# Dataset 2: Vivienda (200)\n",
    "# ==========================\n",
    "df200 = pd.read_csv(\n",
    "    r\"/Users/freddyzutachavez/Documents/ENAHO-2023/Enaho01-2023-200.csv\",\n",
    "    encoding=\"ISO-8859-1\",\n",
    "    low_memory=False\n",
    ")\n"
   ]
  },
  {
   "cell_type": "code",
   "execution_count": 82,
   "id": "0f4d4082",
   "metadata": {},
   "outputs": [
    {
     "name": "stdout",
     "output_type": "stream",
     "text": [
      "Primeras 5 filas del dataset 200 (Vivienda):\n"
     ]
    },
    {
     "data": {
      "text/html": [
       "<div>\n",
       "<style scoped>\n",
       "    .dataframe tbody tr th:only-of-type {\n",
       "        vertical-align: middle;\n",
       "    }\n",
       "\n",
       "    .dataframe tbody tr th {\n",
       "        vertical-align: top;\n",
       "    }\n",
       "\n",
       "    .dataframe thead th {\n",
       "        text-align: right;\n",
       "    }\n",
       "</style>\n",
       "<table border=\"1\" class=\"dataframe\">\n",
       "  <thead>\n",
       "    <tr style=\"text-align: right;\">\n",
       "      <th></th>\n",
       "      <th>AÑO</th>\n",
       "      <th>MES</th>\n",
       "      <th>CONGLOME</th>\n",
       "      <th>VIVIENDA</th>\n",
       "      <th>HOGAR</th>\n",
       "      <th>CODPERSO</th>\n",
       "      <th>UBIGEO</th>\n",
       "      <th>DOMINIO</th>\n",
       "      <th>ESTRATO</th>\n",
       "      <th>P201P</th>\n",
       "      <th>...</th>\n",
       "      <th>OCUPAC_R3</th>\n",
       "      <th>OCUPAC_R4</th>\n",
       "      <th>RAMA_R3</th>\n",
       "      <th>RAMA_R4</th>\n",
       "      <th>CODTAREA</th>\n",
       "      <th>CODTIEMPO</th>\n",
       "      <th>TICUEST01</th>\n",
       "      <th>FACPOB07</th>\n",
       "      <th>NCONGLOME</th>\n",
       "      <th>SUB_CONGLOME</th>\n",
       "    </tr>\n",
       "  </thead>\n",
       "  <tbody>\n",
       "    <tr>\n",
       "      <th>0</th>\n",
       "      <td>2023</td>\n",
       "      <td>2</td>\n",
       "      <td>5007</td>\n",
       "      <td>22</td>\n",
       "      <td>11</td>\n",
       "      <td>1</td>\n",
       "      <td>10101</td>\n",
       "      <td>4</td>\n",
       "      <td>4</td>\n",
       "      <td>20190050070221101</td>\n",
       "      <td>...</td>\n",
       "      <td></td>\n",
       "      <td></td>\n",
       "      <td></td>\n",
       "      <td></td>\n",
       "      <td></td>\n",
       "      <td></td>\n",
       "      <td>2</td>\n",
       "      <td>50.466671</td>\n",
       "      <td>7070</td>\n",
       "      <td>0</td>\n",
       "    </tr>\n",
       "    <tr>\n",
       "      <th>1</th>\n",
       "      <td>2023</td>\n",
       "      <td>2</td>\n",
       "      <td>5007</td>\n",
       "      <td>22</td>\n",
       "      <td>11</td>\n",
       "      <td>2</td>\n",
       "      <td>10101</td>\n",
       "      <td>4</td>\n",
       "      <td>4</td>\n",
       "      <td>20190050070221102</td>\n",
       "      <td>...</td>\n",
       "      <td></td>\n",
       "      <td></td>\n",
       "      <td></td>\n",
       "      <td></td>\n",
       "      <td></td>\n",
       "      <td></td>\n",
       "      <td>2</td>\n",
       "      <td>50.466671</td>\n",
       "      <td>7070</td>\n",
       "      <td>0</td>\n",
       "    </tr>\n",
       "    <tr>\n",
       "      <th>2</th>\n",
       "      <td>2023</td>\n",
       "      <td>2</td>\n",
       "      <td>5007</td>\n",
       "      <td>22</td>\n",
       "      <td>11</td>\n",
       "      <td>3</td>\n",
       "      <td>10101</td>\n",
       "      <td>4</td>\n",
       "      <td>4</td>\n",
       "      <td>20190050070221104</td>\n",
       "      <td>...</td>\n",
       "      <td></td>\n",
       "      <td></td>\n",
       "      <td></td>\n",
       "      <td></td>\n",
       "      <td></td>\n",
       "      <td></td>\n",
       "      <td>2</td>\n",
       "      <td>50.466671</td>\n",
       "      <td>7070</td>\n",
       "      <td>0</td>\n",
       "    </tr>\n",
       "    <tr>\n",
       "      <th>3</th>\n",
       "      <td>2023</td>\n",
       "      <td>2</td>\n",
       "      <td>5007</td>\n",
       "      <td>31</td>\n",
       "      <td>11</td>\n",
       "      <td>1</td>\n",
       "      <td>10101</td>\n",
       "      <td>4</td>\n",
       "      <td>4</td>\n",
       "      <td>20190050070311102</td>\n",
       "      <td>...</td>\n",
       "      <td></td>\n",
       "      <td></td>\n",
       "      <td></td>\n",
       "      <td></td>\n",
       "      <td></td>\n",
       "      <td></td>\n",
       "      <td>2</td>\n",
       "      <td>50.466671</td>\n",
       "      <td>7070</td>\n",
       "      <td>0</td>\n",
       "    </tr>\n",
       "    <tr>\n",
       "      <th>4</th>\n",
       "      <td>2023</td>\n",
       "      <td>2</td>\n",
       "      <td>5007</td>\n",
       "      <td>31</td>\n",
       "      <td>11</td>\n",
       "      <td>2</td>\n",
       "      <td>10101</td>\n",
       "      <td>4</td>\n",
       "      <td>4</td>\n",
       "      <td>20230050070311102</td>\n",
       "      <td>...</td>\n",
       "      <td></td>\n",
       "      <td></td>\n",
       "      <td></td>\n",
       "      <td></td>\n",
       "      <td></td>\n",
       "      <td></td>\n",
       "      <td>2</td>\n",
       "      <td>50.466671</td>\n",
       "      <td>7070</td>\n",
       "      <td>0</td>\n",
       "    </tr>\n",
       "  </tbody>\n",
       "</table>\n",
       "<p>5 rows × 40 columns</p>\n",
       "</div>"
      ],
      "text/plain": [
       "    AÑO  MES  CONGLOME  VIVIENDA  HOGAR  CODPERSO  UBIGEO  DOMINIO  ESTRATO  \\\n",
       "0  2023    2      5007        22     11         1   10101        4        4   \n",
       "1  2023    2      5007        22     11         2   10101        4        4   \n",
       "2  2023    2      5007        22     11         3   10101        4        4   \n",
       "3  2023    2      5007        31     11         1   10101        4        4   \n",
       "4  2023    2      5007        31     11         2   10101        4        4   \n",
       "\n",
       "               P201P  ...  OCUPAC_R3 OCUPAC_R4 RAMA_R3 RAMA_R4 CODTAREA  \\\n",
       "0  20190050070221101  ...                                                 \n",
       "1  20190050070221102  ...                                                 \n",
       "2  20190050070221104  ...                                                 \n",
       "3  20190050070311102  ...                                                 \n",
       "4  20230050070311102  ...                                                 \n",
       "\n",
       "  CODTIEMPO TICUEST01   FACPOB07 NCONGLOME SUB_CONGLOME  \n",
       "0                   2  50.466671      7070            0  \n",
       "1                   2  50.466671      7070            0  \n",
       "2                   2  50.466671      7070            0  \n",
       "3                   2  50.466671      7070            0  \n",
       "4                   2  50.466671      7070            0  \n",
       "\n",
       "[5 rows x 40 columns]"
      ]
     },
     "metadata": {},
     "output_type": "display_data"
    }
   ],
   "source": [
    "print(\"Primeras 5 filas del dataset 200 (Vivienda):\")\n",
    "display(df200.head())"
   ]
  },
  {
   "cell_type": "code",
   "execution_count": 83,
   "id": "e95e3328",
   "metadata": {},
   "outputs": [
    {
     "name": "stdout",
     "output_type": "stream",
     "text": [
      "\n",
      "Columnas (200):\n",
      "['AÑO', 'MES', 'CONGLOME', 'VIVIENDA', 'HOGAR', 'CODPERSO', 'UBIGEO', 'DOMINIO', 'ESTRATO', 'P201P', 'P203', 'P203A', 'P203B', 'P204', 'P205', 'P206', 'P207', 'P208A', 'P208B', 'P209', 'P210', 'P211A', 'P211D', 'P212', 'P213', 'P214', 'P215', 'P216', 'P217', 'T211', 'OCUPAC_R3', 'OCUPAC_R4', 'RAMA_R3', 'RAMA_R4', 'CODTAREA', 'CODTIEMPO', 'TICUEST01', 'FACPOB07', 'NCONGLOME', 'SUB_CONGLOME']\n"
     ]
    }
   ],
   "source": [
    "print(\"\\nColumnas (200):\")\n",
    "print(df200.columns.tolist())"
   ]
  },
  {
   "cell_type": "markdown",
   "id": "5d859dd1",
   "metadata": {},
   "source": []
  },
  {
   "cell_type": "code",
   "execution_count": 84,
   "id": "5bea6365",
   "metadata": {},
   "outputs": [
    {
     "name": "stdout",
     "output_type": "stream",
     "text": [
      "\n",
      "Tipos de datos (200):\n",
      "AÑO               int64\n",
      "MES               int64\n",
      "CONGLOME          int64\n",
      "VIVIENDA          int64\n",
      "HOGAR             int64\n",
      "CODPERSO          int64\n",
      "UBIGEO            int64\n",
      "DOMINIO           int64\n",
      "ESTRATO           int64\n",
      "P201P             int64\n",
      "P203              int64\n",
      "P203A            object\n",
      "P203B            object\n",
      "P204             object\n",
      "P205             object\n",
      "P206             object\n",
      "P207             object\n",
      "P208A            object\n",
      "P208B            object\n",
      "P209             object\n",
      "P210             object\n",
      "P211A            object\n",
      "P211D            object\n",
      "P212             object\n",
      "P213             object\n",
      "P214             object\n",
      "P215             object\n",
      "P216             object\n",
      "P217             object\n",
      "T211             object\n",
      "OCUPAC_R3        object\n",
      "OCUPAC_R4        object\n",
      "RAMA_R3          object\n",
      "RAMA_R4          object\n",
      "CODTAREA         object\n",
      "CODTIEMPO        object\n",
      "TICUEST01         int64\n",
      "FACPOB07        float64\n",
      "NCONGLOME         int64\n",
      "SUB_CONGLOME      int64\n",
      "dtype: object\n"
     ]
    }
   ],
   "source": [
    "print(\"\\nTipos de datos (200):\")\n",
    "print(df200.dtypes)"
   ]
  },
  {
   "cell_type": "code",
   "execution_count": 89,
   "id": "b75b348a",
   "metadata": {},
   "outputs": [
    {
     "name": "stdout",
     "output_type": "stream",
     "text": [
      "Columnas del primer dataset (Educación - 300):\n",
      "['AÑO', 'MES', 'CONGLOME', 'VIVIENDA', 'HOGAR', 'CODPERSO', 'UBIGEO', 'DOMINIO', 'ESTRATO', 'CODINFOR', 'P300N', 'P300I', 'P300A', 'P301A', 'P301B', 'P301C', 'P301D', 'P301A0', 'P301A1', 'P301B0', 'P301B1', 'P301B3', 'P302', 'P302X', 'P302A', 'P302B', 'P303', 'P304A', 'P304B', 'P304C', 'P304D', 'P305', 'P306', 'P307', 'P307A1', 'P307A2', 'P307A3', 'P307A4', 'P307A4_5', 'P307A4_6', 'P307A4_7', 'P307B1', 'P307B2', 'P307B3', 'P307B4', 'P307B4_5', 'P307B4_6', 'P307B4_7', 'P307C', 'P308A', 'P308B', 'P308C', 'P308D', 'P308B1', 'P308B2', 'P308B3', 'P308B4', 'P308B5', 'P308C1', 'P308C2', 'P310', 'P310B1', 'P310C0', 'P310C1', 'P310D1', 'P310D2', 'P310E0', 'P310E1', 'P310E3', 'P311N$1', 'P311N$2', 'P311N$3', 'P311N$4', 'P311N$5', 'P311N$6', 'P311N$7', 'P311N$8', 'P311N$9', 'P311$1', 'P311$2', 'P311$3', 'P311$4', 'P311$5', 'P311$6', 'P311$7', 'P311$8', 'P311$9', 'P311A1$1', 'P311A1$2', 'P311A1$3', 'P311A1$4', 'P311A1$5', 'P311A1$6', 'P311A1$7', 'P311A1$8', 'P311A1$9', 'P311A2$1', 'P311A2$2', 'P311A2$3', 'P311A2$4', 'P311A2$5', 'P311A2$6', 'P311A2$7', 'P311A2$8', 'P311A2$9', 'P311A3$1', 'P311A3$2', 'P311A3$3', 'P311A3$4', 'P311A3$5', 'P311A3$6', 'P311A3$7', 'P311A3$8', 'P311A3$9', 'P311A4$1', 'P311A4$2', 'P311A4$3', 'P311A4$4', 'P311A4$5', 'P311A4$6', 'P311A4$7', 'P311A4$8', 'P311A4$9', 'P311A5$1', 'P311A5$2', 'P311A5$3', 'P311A5$4', 'P311A5$5', 'P311A5$6', 'P311A5$7', 'P311A5$8', 'P311A5$9', 'P311A6$1', 'P311A6$2', 'P311A6$3', 'P311A6$4', 'P311A6$5', 'P311A6$6', 'P311A6$7', 'P311A6$8', 'P311A6$9', 'P311A7$1', 'P311A7$2', 'P311A7$3', 'P311A7$4', 'P311A7$5', 'P311A7$6', 'P311A7$7', 'P311A7$8', 'P311A7$9', 'P311B$1', 'P311B$2', 'P311B$3', 'P311B$4', 'P311B$5', 'P311B$6', 'P311B$7', 'P311B$8', 'P311B$9', 'P311C$1', 'P311C$2', 'P311C$3', 'P311C$4', 'P311C$5', 'P311C$6', 'P311C$7', 'P311C$8', 'P311C$9', 'P311D$1', 'P311D$2', 'P311D$3', 'P311D$4', 'P311D$5', 'P311D$6', 'P311D$7', 'P311D$8', 'P311D$9', 'P311D2$1', 'P311D2$2', 'P311D2$3', 'P311D2$4', 'P311D2$5', 'P311D2$6', 'P311D2$7', 'P311D2$8', 'P311D2$9', 'P311D3$1', 'P311D3$2', 'P311D3$3', 'P311D3$4', 'P311D3$5', 'P311D3$6', 'P311D3$7', 'P311D3$8', 'P311D3$9', 'P311D4$1', 'P311D4$2', 'P311D4$3', 'P311D4$4', 'P311D4$5', 'P311D4$6', 'P311D4$7', 'P311D4$8', 'P311D4$9', 'P311D5$1', 'P311D5$2', 'P311D5$3', 'P311D5$4', 'P311D5$5', 'P311D5$6', 'P311D5$7', 'P311D5$8', 'P311D5$9', 'P311D6$1', 'P311D6$2', 'P311D6$3', 'P311D6$4', 'P311D6$5', 'P311D6$6', 'P311D6$7', 'P311D6$8', 'P311D6$9', 'P311D7$1', 'P311D7$2', 'P311D7$3', 'P311D7$4', 'P311D7$5', 'P311D7$6', 'P311D7$7', 'P311D7$8', 'P311D7$9', 'P311E$1', 'P311E$2', 'P311E$3', 'P311E$4', 'P311E$5', 'P311E$6', 'P311E$7', 'P311E$8', 'P311E$9', 'P311T1', 'P311T22', 'P311T23', 'P311T24', 'P311T25', 'P311T26', 'P311T27', 'P311T2', 'P3121', 'P3121A1', 'P3121A2', 'P3121A3', 'P3121A4', 'P3121A5', 'P3121A6', 'P3121B', 'P3121C', 'P3121C2', 'P3121C3', 'P3121C4', 'P3121C5', 'P3121C6', 'P3121D', 'P3122', 'P3122A1', 'P3122A2', 'P3122A3', 'P3122A4', 'P3122A5', 'P3122A6', 'P3122B', 'P3122C', 'P3122C2', 'P3122C3', 'P3122C4', 'P3122C5', 'P3122C6', 'P3122D', 'P312T1', 'P312T22', 'P312T23', 'P312T24', 'P312T25', 'P312T26', 'P312T2', 'P313', 'P314A', 'P314B$1', 'P314B$2', 'P314B$3', 'P314B$4', 'P314B$5', 'P314B$6', 'P314B$7', 'P314B1_1', 'P314B1_2', 'P314B1_6', 'P314B1_7', 'P314B1_8', 'P314B1_9', 'P314D', 'P3151', 'P3152', 'P3153', 'P3154', 'P3155', 'P3156', 'P315A', 'P315B', 'P315B2', 'P315B3', 'P315B4', 'P315B5', 'P315B6', 'P316$1', 'P316$2', 'P316$3', 'P316$4', 'P316$5', 'P316$6', 'P316$7', 'P316$8', 'P316$9', 'P316$10', 'P316$11', 'P316$12', 'P316A1', 'P316A2', 'P316A3', 'P316A4', 'P316A5', 'P316A6', 'P316B', 'P316C1', 'P316C2', 'P316C3', 'P316C4', 'P316C5', 'P316C6', 'P316C7', 'P316C8', 'P316C9', 'P316C10', 'T313A', 'P203', 'P204', 'P205', 'P206', 'P207', 'P208A', 'P209', 'IMPUTADO', 'TICUEST01A', 'D311B$1', 'D311D2$1', 'D311D3$1', 'D311D4$1', 'D311D5$1', 'D311D6$1', 'D311D7$1', 'D311D$1', 'D311B$2', 'D311D2$2', 'D311D3$2', 'D311D4$2', 'D311D5$2', 'D311D6$2', 'D311D7$2', 'D311D$2', 'D311B$3', 'D311D2$3', 'D311D3$3', 'D311D4$3', 'D311D5$3', 'D311D6$3', 'D311D7$3', 'D311D$3', 'D311B$4', 'D311D2$4', 'D311D3$4', 'D311D4$4', 'D311D5$4', 'D311D6$4', 'D311D7$4', 'D311D$4', 'D311B$5', 'D311D2$5', 'D311D3$5', 'D311D4$5', 'D311D5$5', 'D311D6$5', 'D311D7$5', 'D311D$5', 'D311B$6', 'D311D2$6', 'D311D3$6', 'D311D4$6', 'D311D5$6', 'D311D6$6', 'D311D7$6', 'D311D$6', 'D311B$7', 'D311D2$7', 'D311D3$7', 'D311D4$7', 'D311D5$7', 'D311D6$7', 'D311D7$7', 'D311D$7', 'D3121B', 'D3121C2', 'D3121C3', 'D3121C4', 'D3121C5', 'D3121C6', 'D3121C', 'D3122B', 'D3122C2', 'D3122C3', 'D3122C4', 'D3122C5', 'D3122C6', 'D3122C', 'D315A', 'D315B2', 'D315B3', 'D315B4', 'D315B5', 'D315B6', 'D315B', 'I311B$1', 'I311B$2', 'I311B$4', 'I311B$6', 'I311B$3', 'I311B$5', 'I311B$7', 'I311D2$1', 'I311D3$1', 'I311D4$1', 'I311D5$1', 'I311D6$1', 'I311D7$1', 'I311D2$2', 'I311D3$2', 'I311D4$2', 'I311D5$2', 'I311D6$2', 'I311D7$2', 'I311D2$4', 'I311D3$4', 'I311D4$4', 'I311D5$4', 'I311D6$4', 'I311D7$4', 'I311D2$6', 'I311D3$6', 'I311D4$6', 'I311D5$6', 'I311D6$6', 'I311D7$6', 'I311D2$3', 'I311D3$3', 'I311D4$3', 'I311D5$3', 'I311D6$3', 'I311D7$3', 'I311D2$5', 'I311D3$5', 'I311D4$5', 'I311D5$5', 'I311D6$5', 'I311D7$5', 'I311D2$7', 'I311D3$7', 'I311D4$7', 'I311D5$7', 'I311D6$7', 'I311D7$7', 'I3121B', 'I3122B', 'I3121C2', 'I3121C3', 'I3121C4', 'I3121C5', 'I3121C6', 'I3122C2', 'I3122C3', 'I3122C4', 'I3122C5', 'I3122C6', 'I315A', 'I315B2', 'I315B3', 'I315B4', 'I315B5', 'I315B6', 'I311D$1', 'I311D$2', 'I311D$3', 'I311D$4', 'I311D$5', 'I311D$6', 'I311D$7', 'I3121C', 'I3122C', 'I315B', 'FACTOR07', 'FACTORA07', 'NCONGLOME', 'SUB_CONGLOME']\n",
      "\n",
      "Columnas del segundo dataset (Vivienda - 200):\n",
      "['AÑO', 'MES', 'CONGLOME', 'VIVIENDA', 'HOGAR', 'CODPERSO', 'UBIGEO', 'DOMINIO', 'ESTRATO', 'P201P', 'P203', 'P203A', 'P203B', 'P204', 'P205', 'P206', 'P207', 'P208A', 'P208B', 'P209', 'P210', 'P211A', 'P211D', 'P212', 'P213', 'P214', 'P215', 'P216', 'P217', 'T211', 'OCUPAC_R3', 'OCUPAC_R4', 'RAMA_R3', 'RAMA_R4', 'CODTAREA', 'CODTIEMPO', 'TICUEST01', 'FACPOB07', 'NCONGLOME', 'SUB_CONGLOME']\n",
      "\n",
      "Columnas comunes entre los dos datasets:\n",
      "['AÑO', 'SUB_CONGLOME', 'P209', 'DOMINIO', 'ESTRATO', 'NCONGLOME', 'MES', 'P208A', 'P204', 'VIVIENDA', 'HOGAR', 'P206', 'CONGLOME', 'P203', 'P207', 'P205', 'CODPERSO', 'UBIGEO']\n"
     ]
    }
   ],
   "source": [
    "\n",
    "# Mostrar las columnas de cada dataset\n",
    "print(\"Columnas del primer dataset (Educación - 300):\")\n",
    "print(df300.columns.tolist())\n",
    "\n",
    "print(\"\\nColumnas del segundo dataset (Vivienda - 200):\")\n",
    "print(df200.columns.tolist())\n",
    "\n",
    "# 🔎 Identificar las columnas comunes entre ambos\n",
    "common_columns = list(set(df300.columns).intersection(set(df200.columns)))\n",
    "print(\"\\nColumnas comunes entre los dos datasets:\")\n",
    "print(common_columns)\n",
    "\n"
   ]
  },
  {
   "cell_type": "markdown",
   "id": "82afe239",
   "metadata": {},
   "source": [
    "## Merge "
   ]
  },
  {
   "cell_type": "code",
   "execution_count": 90,
   "id": "147468fe",
   "metadata": {},
   "outputs": [
    {
     "name": "stdout",
     "output_type": "stream",
     "text": [
      "Duplicados de clave en df300: 0\n",
      "Duplicados de clave en df200: 0\n",
      "Claves presentes solo en df300: 0\n",
      "Claves presentes solo en df200: 11393\n",
      "\n",
      "Ejemplos de claves solo en df200 (primeras 5):\n",
      "(17672, 1, 11, 3)\n",
      "(16904, 72, 11, 3)\n",
      "(18765, 134, 11, 6)\n",
      "(17052, 11, 11, 3)\n",
      "(15378, 9, 11, 9)\n",
      "\n",
      "Filas en df300 sin match en df200: 0\n",
      "Filas en df200 sin match en df300: 11393\n",
      "\n",
      "Resultado del merge (inner): 108354 filas x 547 columnas\n"
     ]
    },
    {
     "data": {
      "text/html": [
       "<div>\n",
       "<style scoped>\n",
       "    .dataframe tbody tr th:only-of-type {\n",
       "        vertical-align: middle;\n",
       "    }\n",
       "\n",
       "    .dataframe tbody tr th {\n",
       "        vertical-align: top;\n",
       "    }\n",
       "\n",
       "    .dataframe thead th {\n",
       "        text-align: right;\n",
       "    }\n",
       "</style>\n",
       "<table border=\"1\" class=\"dataframe\">\n",
       "  <thead>\n",
       "    <tr style=\"text-align: right;\">\n",
       "      <th></th>\n",
       "      <th>AÑO_300</th>\n",
       "      <th>MES_300</th>\n",
       "      <th>CONGLOME</th>\n",
       "      <th>VIVIENDA</th>\n",
       "      <th>HOGAR</th>\n",
       "      <th>CODPERSO</th>\n",
       "      <th>UBIGEO_300</th>\n",
       "      <th>DOMINIO_300</th>\n",
       "      <th>ESTRATO_300</th>\n",
       "      <th>CODINFOR</th>\n",
       "      <th>...</th>\n",
       "      <th>OCUPAC_R3</th>\n",
       "      <th>OCUPAC_R4</th>\n",
       "      <th>RAMA_R3</th>\n",
       "      <th>RAMA_R4</th>\n",
       "      <th>CODTAREA</th>\n",
       "      <th>CODTIEMPO</th>\n",
       "      <th>TICUEST01</th>\n",
       "      <th>FACPOB07</th>\n",
       "      <th>NCONGLOME_200</th>\n",
       "      <th>SUB_CONGLOME_200</th>\n",
       "    </tr>\n",
       "  </thead>\n",
       "  <tbody>\n",
       "    <tr>\n",
       "      <th>0</th>\n",
       "      <td>2023</td>\n",
       "      <td>1</td>\n",
       "      <td>5030</td>\n",
       "      <td>2</td>\n",
       "      <td>11</td>\n",
       "      <td>1</td>\n",
       "      <td>10201</td>\n",
       "      <td>7</td>\n",
       "      <td>4</td>\n",
       "      <td>1</td>\n",
       "      <td>...</td>\n",
       "      <td></td>\n",
       "      <td></td>\n",
       "      <td></td>\n",
       "      <td></td>\n",
       "      <td></td>\n",
       "      <td></td>\n",
       "      <td>2</td>\n",
       "      <td>118.374542</td>\n",
       "      <td>6618</td>\n",
       "      <td>0</td>\n",
       "    </tr>\n",
       "    <tr>\n",
       "      <th>1</th>\n",
       "      <td>2023</td>\n",
       "      <td>1</td>\n",
       "      <td>5030</td>\n",
       "      <td>2</td>\n",
       "      <td>11</td>\n",
       "      <td>2</td>\n",
       "      <td>10201</td>\n",
       "      <td>7</td>\n",
       "      <td>4</td>\n",
       "      <td>2</td>\n",
       "      <td>...</td>\n",
       "      <td></td>\n",
       "      <td></td>\n",
       "      <td></td>\n",
       "      <td></td>\n",
       "      <td></td>\n",
       "      <td></td>\n",
       "      <td>2</td>\n",
       "      <td>118.374542</td>\n",
       "      <td>6618</td>\n",
       "      <td>0</td>\n",
       "    </tr>\n",
       "    <tr>\n",
       "      <th>2</th>\n",
       "      <td>2023</td>\n",
       "      <td>1</td>\n",
       "      <td>5030</td>\n",
       "      <td>2</td>\n",
       "      <td>11</td>\n",
       "      <td>3</td>\n",
       "      <td>10201</td>\n",
       "      <td>7</td>\n",
       "      <td>4</td>\n",
       "      <td>2</td>\n",
       "      <td>...</td>\n",
       "      <td></td>\n",
       "      <td></td>\n",
       "      <td></td>\n",
       "      <td></td>\n",
       "      <td></td>\n",
       "      <td></td>\n",
       "      <td>2</td>\n",
       "      <td>118.374542</td>\n",
       "      <td>6618</td>\n",
       "      <td>0</td>\n",
       "    </tr>\n",
       "    <tr>\n",
       "      <th>3</th>\n",
       "      <td>2023</td>\n",
       "      <td>1</td>\n",
       "      <td>5030</td>\n",
       "      <td>2</td>\n",
       "      <td>11</td>\n",
       "      <td>4</td>\n",
       "      <td>10201</td>\n",
       "      <td>7</td>\n",
       "      <td>4</td>\n",
       "      <td>2</td>\n",
       "      <td>...</td>\n",
       "      <td></td>\n",
       "      <td></td>\n",
       "      <td></td>\n",
       "      <td></td>\n",
       "      <td></td>\n",
       "      <td></td>\n",
       "      <td>2</td>\n",
       "      <td>118.374542</td>\n",
       "      <td>6618</td>\n",
       "      <td>0</td>\n",
       "    </tr>\n",
       "    <tr>\n",
       "      <th>4</th>\n",
       "      <td>2023</td>\n",
       "      <td>1</td>\n",
       "      <td>5030</td>\n",
       "      <td>11</td>\n",
       "      <td>11</td>\n",
       "      <td>1</td>\n",
       "      <td>10201</td>\n",
       "      <td>7</td>\n",
       "      <td>4</td>\n",
       "      <td>1</td>\n",
       "      <td>...</td>\n",
       "      <td></td>\n",
       "      <td></td>\n",
       "      <td></td>\n",
       "      <td></td>\n",
       "      <td></td>\n",
       "      <td></td>\n",
       "      <td>2</td>\n",
       "      <td>118.374542</td>\n",
       "      <td>6618</td>\n",
       "      <td>0</td>\n",
       "    </tr>\n",
       "  </tbody>\n",
       "</table>\n",
       "<p>5 rows × 547 columns</p>\n",
       "</div>"
      ],
      "text/plain": [
       "   AÑO_300  MES_300  CONGLOME  VIVIENDA  HOGAR  CODPERSO  UBIGEO_300  \\\n",
       "0     2023        1      5030         2     11         1       10201   \n",
       "1     2023        1      5030         2     11         2       10201   \n",
       "2     2023        1      5030         2     11         3       10201   \n",
       "3     2023        1      5030         2     11         4       10201   \n",
       "4     2023        1      5030        11     11         1       10201   \n",
       "\n",
       "   DOMINIO_300  ESTRATO_300  CODINFOR  ...  OCUPAC_R3  OCUPAC_R4  RAMA_R3  \\\n",
       "0            7            4         1  ...                                  \n",
       "1            7            4         2  ...                                  \n",
       "2            7            4         2  ...                                  \n",
       "3            7            4         2  ...                                  \n",
       "4            7            4         1  ...                                  \n",
       "\n",
       "   RAMA_R4 CODTAREA CODTIEMPO TICUEST01    FACPOB07 NCONGLOME_200  \\\n",
       "0                                     2  118.374542          6618   \n",
       "1                                     2  118.374542          6618   \n",
       "2                                     2  118.374542          6618   \n",
       "3                                     2  118.374542          6618   \n",
       "4                                     2  118.374542          6618   \n",
       "\n",
       "  SUB_CONGLOME_200  \n",
       "0                0  \n",
       "1                0  \n",
       "2                0  \n",
       "3                0  \n",
       "4                0  \n",
       "\n",
       "[5 rows x 547 columns]"
      ]
     },
     "metadata": {},
     "output_type": "display_data"
    }
   ],
   "source": [
    "\n",
    "# 1) Definir columnas clave recomendadas para ENAHO\n",
    "common_columns = ['CONGLOME', 'VIVIENDA', 'HOGAR', 'CODPERSO']\n",
    "\n",
    "# Verificar que existan en ambos DataFrames\n",
    "faltan_300 = [c for c in common_columns if c not in df300.columns]\n",
    "faltan_200 = [c for c in common_columns if c not in df200.columns]\n",
    "if faltan_300 or faltan_200:\n",
    "    raise KeyError(f\"Faltan columnas: en df300 {faltan_300} | en df200 {faltan_200}\")\n",
    "\n",
    "# 2) Estandarizar y corregir tipos en las claves\n",
    "def limpiar_claves(df, key_cols):\n",
    "    df = df.copy()\n",
    "\n",
    "    # Quitar espacios si vinieran como strings\n",
    "    for c in key_cols:\n",
    "        if pd.api.types.is_object_dtype(df[c]):\n",
    "            df[c] = df[c].astype(str).str.strip().replace({'': np.nan})\n",
    "\n",
    "    # Convertir a numérico (muchas veces vienen como '123.0' o texto)\n",
    "    for c in key_cols:\n",
    "        df[c] = pd.to_numeric(df[c], errors='coerce')  # NaN si no se puede convertir\n",
    "        # Si quedan floats por decimales .0, pásalos a enteros (Int64 tolera NaN)\n",
    "        if pd.api.types.is_float_dtype(df[c]):\n",
    "            # Si hay valores no enteros verdaderos, redondea (ajusta según tu criterio)\n",
    "            # Aquí asumimos que deben ser enteros:\n",
    "            df[c] = df[c].round().astype('Int64')\n",
    "        else:\n",
    "            df[c] = df[c].astype('Int64')\n",
    "\n",
    "    # Eliminar filas con NaN en claves (no se pueden unir)\n",
    "    antes = len(df)\n",
    "    df = df.dropna(subset=key_cols)\n",
    "    despues = len(df)\n",
    "\n",
    "    if antes != despues:\n",
    "        print(f\"Se eliminaron {antes - despues} filas con claves nulas.\")\n",
    "\n",
    "    return df\n",
    "\n",
    "df300_keys = limpiar_claves(df300, common_columns)\n",
    "df200_keys = limpiar_claves(df200, common_columns)\n",
    "\n",
    "# 3) Detectar duplicados de clave (claves no únicas complican el merge 1:1)\n",
    "dup300 = df300_keys.duplicated(subset=common_columns, keep=False).sum()\n",
    "dup200 = df200_keys.duplicated(subset=common_columns, keep=False).sum()\n",
    "print(f\"Duplicados de clave en df300: {dup300}\")\n",
    "print(f\"Duplicados de clave en df200: {dup200}\")\n",
    "\n",
    "# 4) Anti-joins para ver claves que NO coinciden entre ambos\n",
    "# Crear tuplas de clave para comparar conjuntos\n",
    "keys300 = set(map(tuple, df300_keys[common_columns].astype('Int64').values))\n",
    "keys200 = set(map(tuple, df200_keys[common_columns].astype('Int64').values))\n",
    "\n",
    "solo_en_300 = keys300 - keys200\n",
    "solo_en_200 = keys200 - keys300\n",
    "\n",
    "print(f\"Claves presentes solo en df300: {len(solo_en_300)}\")\n",
    "print(f\"Claves presentes solo en df200: {len(solo_en_200)}\")\n",
    "\n",
    "# Muestras de las primeras diferencias (si existen)\n",
    "if solo_en_300:\n",
    "    print(\"\\nEjemplos de claves solo en df300 (primeras 5):\")\n",
    "    for t in list(solo_en_300)[:5]:\n",
    "        print(t)\n",
    "\n",
    "if solo_en_200:\n",
    "    print(\"\\nEjemplos de claves solo en df200 (primeras 5):\")\n",
    "    for t in list(solo_en_200)[:5]:\n",
    "        print(t)\n",
    "\n",
    "# (Opcional) DataFrames con filas no emparejadas - útil para inspeccionar y corregir a mano si hace falta\n",
    "unmatched_300 = df300_keys.merge(df200_keys[common_columns].drop_duplicates(),\n",
    "                                 on=common_columns, how='left', indicator=True)\n",
    "unmatched_300 = unmatched_300[unmatched_300['_merge'] == 'left_only']\n",
    "print(f\"\\nFilas en df300 sin match en df200: {len(unmatched_300)}\")\n",
    "\n",
    "unmatched_200 = df200_keys.merge(df300_keys[common_columns].drop_duplicates(),\n",
    "                                 on=common_columns, how='left', indicator=True)\n",
    "unmatched_200 = unmatched_200[unmatched_200['_merge'] == 'left_only']\n",
    "print(f\"Filas en df200 sin match en df300: {len(unmatched_200)}\")\n",
    "\n",
    "# 5) Merge final\n",
    "#    - 'inner' conserva solo las claves comunes (unión más \"segura\")\n",
    "#    - 'left' conserva todas las filas de df300 (útil si 300 es el universo principal)\n",
    "#    - 'outer' conserva todo y ayuda a auditar faltantes\n",
    "merge_how = 'inner'  # ajusta a 'left' o 'outer' según tu necesidad\n",
    "\n",
    "df_merged = pd.merge(\n",
    "    df300_keys,\n",
    "    df200_keys,\n",
    "    on=common_columns,\n",
    "    how=merge_how,\n",
    "    suffixes=('_300', '_200')\n",
    ")\n",
    "\n",
    "print(f\"\\nResultado del merge ({merge_how}): {df_merged.shape[0]} filas x {df_merged.shape[1]} columnas\")\n",
    "display(df_merged.head())\n"
   ]
  },
  {
   "cell_type": "markdown",
   "id": "d316c4c1",
   "metadata": {},
   "source": [
    "## Muestra las primeras 5 filas del DataFrame resultante"
   ]
  },
  {
   "cell_type": "code",
   "execution_count": 91,
   "id": "32b2bae0",
   "metadata": {},
   "outputs": [
    {
     "data": {
      "text/html": [
       "<div>\n",
       "<style scoped>\n",
       "    .dataframe tbody tr th:only-of-type {\n",
       "        vertical-align: middle;\n",
       "    }\n",
       "\n",
       "    .dataframe tbody tr th {\n",
       "        vertical-align: top;\n",
       "    }\n",
       "\n",
       "    .dataframe thead th {\n",
       "        text-align: right;\n",
       "    }\n",
       "</style>\n",
       "<table border=\"1\" class=\"dataframe\">\n",
       "  <thead>\n",
       "    <tr style=\"text-align: right;\">\n",
       "      <th></th>\n",
       "      <th>AÑO_300</th>\n",
       "      <th>MES_300</th>\n",
       "      <th>CONGLOME</th>\n",
       "      <th>VIVIENDA</th>\n",
       "      <th>HOGAR</th>\n",
       "      <th>CODPERSO</th>\n",
       "      <th>UBIGEO_300</th>\n",
       "      <th>DOMINIO_300</th>\n",
       "      <th>ESTRATO_300</th>\n",
       "      <th>CODINFOR</th>\n",
       "      <th>...</th>\n",
       "      <th>OCUPAC_R3</th>\n",
       "      <th>OCUPAC_R4</th>\n",
       "      <th>RAMA_R3</th>\n",
       "      <th>RAMA_R4</th>\n",
       "      <th>CODTAREA</th>\n",
       "      <th>CODTIEMPO</th>\n",
       "      <th>TICUEST01</th>\n",
       "      <th>FACPOB07</th>\n",
       "      <th>NCONGLOME_200</th>\n",
       "      <th>SUB_CONGLOME_200</th>\n",
       "    </tr>\n",
       "  </thead>\n",
       "  <tbody>\n",
       "    <tr>\n",
       "      <th>0</th>\n",
       "      <td>2023</td>\n",
       "      <td>1</td>\n",
       "      <td>5030</td>\n",
       "      <td>2</td>\n",
       "      <td>11</td>\n",
       "      <td>1</td>\n",
       "      <td>10201</td>\n",
       "      <td>7</td>\n",
       "      <td>4</td>\n",
       "      <td>1</td>\n",
       "      <td>...</td>\n",
       "      <td></td>\n",
       "      <td></td>\n",
       "      <td></td>\n",
       "      <td></td>\n",
       "      <td></td>\n",
       "      <td></td>\n",
       "      <td>2</td>\n",
       "      <td>118.374542</td>\n",
       "      <td>6618</td>\n",
       "      <td>0</td>\n",
       "    </tr>\n",
       "    <tr>\n",
       "      <th>1</th>\n",
       "      <td>2023</td>\n",
       "      <td>1</td>\n",
       "      <td>5030</td>\n",
       "      <td>2</td>\n",
       "      <td>11</td>\n",
       "      <td>2</td>\n",
       "      <td>10201</td>\n",
       "      <td>7</td>\n",
       "      <td>4</td>\n",
       "      <td>2</td>\n",
       "      <td>...</td>\n",
       "      <td></td>\n",
       "      <td></td>\n",
       "      <td></td>\n",
       "      <td></td>\n",
       "      <td></td>\n",
       "      <td></td>\n",
       "      <td>2</td>\n",
       "      <td>118.374542</td>\n",
       "      <td>6618</td>\n",
       "      <td>0</td>\n",
       "    </tr>\n",
       "    <tr>\n",
       "      <th>2</th>\n",
       "      <td>2023</td>\n",
       "      <td>1</td>\n",
       "      <td>5030</td>\n",
       "      <td>2</td>\n",
       "      <td>11</td>\n",
       "      <td>3</td>\n",
       "      <td>10201</td>\n",
       "      <td>7</td>\n",
       "      <td>4</td>\n",
       "      <td>2</td>\n",
       "      <td>...</td>\n",
       "      <td></td>\n",
       "      <td></td>\n",
       "      <td></td>\n",
       "      <td></td>\n",
       "      <td></td>\n",
       "      <td></td>\n",
       "      <td>2</td>\n",
       "      <td>118.374542</td>\n",
       "      <td>6618</td>\n",
       "      <td>0</td>\n",
       "    </tr>\n",
       "    <tr>\n",
       "      <th>3</th>\n",
       "      <td>2023</td>\n",
       "      <td>1</td>\n",
       "      <td>5030</td>\n",
       "      <td>2</td>\n",
       "      <td>11</td>\n",
       "      <td>4</td>\n",
       "      <td>10201</td>\n",
       "      <td>7</td>\n",
       "      <td>4</td>\n",
       "      <td>2</td>\n",
       "      <td>...</td>\n",
       "      <td></td>\n",
       "      <td></td>\n",
       "      <td></td>\n",
       "      <td></td>\n",
       "      <td></td>\n",
       "      <td></td>\n",
       "      <td>2</td>\n",
       "      <td>118.374542</td>\n",
       "      <td>6618</td>\n",
       "      <td>0</td>\n",
       "    </tr>\n",
       "    <tr>\n",
       "      <th>4</th>\n",
       "      <td>2023</td>\n",
       "      <td>1</td>\n",
       "      <td>5030</td>\n",
       "      <td>11</td>\n",
       "      <td>11</td>\n",
       "      <td>1</td>\n",
       "      <td>10201</td>\n",
       "      <td>7</td>\n",
       "      <td>4</td>\n",
       "      <td>1</td>\n",
       "      <td>...</td>\n",
       "      <td></td>\n",
       "      <td></td>\n",
       "      <td></td>\n",
       "      <td></td>\n",
       "      <td></td>\n",
       "      <td></td>\n",
       "      <td>2</td>\n",
       "      <td>118.374542</td>\n",
       "      <td>6618</td>\n",
       "      <td>0</td>\n",
       "    </tr>\n",
       "  </tbody>\n",
       "</table>\n",
       "<p>5 rows × 547 columns</p>\n",
       "</div>"
      ],
      "text/plain": [
       "   AÑO_300  MES_300  CONGLOME  VIVIENDA  HOGAR  CODPERSO  UBIGEO_300  \\\n",
       "0     2023        1      5030         2     11         1       10201   \n",
       "1     2023        1      5030         2     11         2       10201   \n",
       "2     2023        1      5030         2     11         3       10201   \n",
       "3     2023        1      5030         2     11         4       10201   \n",
       "4     2023        1      5030        11     11         1       10201   \n",
       "\n",
       "   DOMINIO_300  ESTRATO_300  CODINFOR  ...  OCUPAC_R3  OCUPAC_R4  RAMA_R3  \\\n",
       "0            7            4         1  ...                                  \n",
       "1            7            4         2  ...                                  \n",
       "2            7            4         2  ...                                  \n",
       "3            7            4         2  ...                                  \n",
       "4            7            4         1  ...                                  \n",
       "\n",
       "   RAMA_R4 CODTAREA CODTIEMPO TICUEST01    FACPOB07 NCONGLOME_200  \\\n",
       "0                                     2  118.374542          6618   \n",
       "1                                     2  118.374542          6618   \n",
       "2                                     2  118.374542          6618   \n",
       "3                                     2  118.374542          6618   \n",
       "4                                     2  118.374542          6618   \n",
       "\n",
       "  SUB_CONGLOME_200  \n",
       "0                0  \n",
       "1                0  \n",
       "2                0  \n",
       "3                0  \n",
       "4                0  \n",
       "\n",
       "[5 rows x 547 columns]"
      ]
     },
     "execution_count": 91,
     "metadata": {},
     "output_type": "execute_result"
    }
   ],
   "source": [
    "# Mostrar las primeras 5 filas del DataFrame resultante\n",
    "df_merged.head()"
   ]
  },
  {
   "cell_type": "markdown",
   "id": "71dc9e34",
   "metadata": {},
   "source": [
    "## Agrupa los datos por una variable de tu elección usando groupby()"
   ]
  },
  {
   "cell_type": "code",
   "execution_count": 94,
   "id": "354b90c4",
   "metadata": {
    "scrolled": true
   },
   "outputs": [
    {
     "name": "stdout",
     "output_type": "stream",
     "text": [
      "Número de registros por ESTRATO_300:\n",
      "ESTRATO_300\n",
      "1    19761\n",
      "2    21144\n",
      "3     8950\n",
      "4     8342\n",
      "5    13883\n",
      "6     5654\n",
      "7    22093\n",
      "8     8527\n",
      "dtype: int64\n"
     ]
    }
   ],
   "source": [
    "# Contar el número de registros por estrato\n",
    "conteo_estrato = df_merged.groupby(\"ESTRATO_300\").size()\n",
    "\n",
    "print(\"Número de registros por ESTRATO_300:\")\n",
    "print(conteo_estrato)\n"
   ]
  },
  {
   "cell_type": "markdown",
   "id": "9bfb9247",
   "metadata": {
    "tags": []
   },
   "source": [
    "## Ingreso_promedio_estrato"
   ]
  },
  {
   "cell_type": "code",
   "execution_count": 100,
   "id": "fb1cd5df",
   "metadata": {},
   "outputs": [
    {
     "name": "stdout",
     "output_type": "stream",
     "text": [
      "Ingreso promedio por ESTRATO:\n",
      "   ESTRATO_300  Ingreso_Promedio\n",
      "0            1        664.365874\n",
      "1            2        212.885385\n",
      "2            3        169.092461\n",
      "3            4        309.468629\n",
      "4            5        355.167710\n",
      "5            6        163.467631\n",
      "6            7        186.470077\n",
      "7            8        165.213455\n"
     ]
    }
   ],
   "source": [
    "ingreso_promedio_estrato = df_merged.groupby(\"ESTRATO_300\")[\"FACPOB07\"].mean().reset_index()\n",
    "ingreso_promedio_estrato = ingreso_promedio_estrato.rename(columns={\"FACPOB07\": \"Ingreso_Promedio\"})\n",
    "\n",
    "print(\"Ingreso promedio por ESTRATO:\")\n",
    "print(ingreso_promedio_estrato)"
   ]
  },
  {
   "cell_type": "markdown",
   "id": "9ebf4416-77e9-47f3-a2e9-de74de700c00",
   "metadata": {},
   "source": [
    "# Parte 2 - If Conditions"
   ]
  },
  {
   "cell_type": "markdown",
   "id": "4cb9220f-3ece-4f65-8614-7be95149908c",
   "metadata": {},
   "source": [
    "## Basic If Condition"
   ]
  },
  {
   "cell_type": "code",
   "execution_count": 5,
   "id": "def2e8ac-0a85-49dc-95d8-ee37e3cc7534",
   "metadata": {
    "tags": []
   },
   "outputs": [
    {
     "data": {
      "text/plain": [
       "'The number 4 is positive.'"
      ]
     },
     "execution_count": 5,
     "metadata": {},
     "output_type": "execute_result"
    }
   ],
   "source": [
    "def check_number(x):\n",
    "    if x > 0:\n",
    "        return f\"The number {x} is positive.\"\n",
    "    else:\n",
    "        return f\"The number {x} is not positive.\"\n",
    "\n",
    "check_number(4)"
   ]
  },
  {
   "cell_type": "code",
   "execution_count": 6,
   "id": "e8c6e941-3864-44b5-89b2-7dc6837556a6",
   "metadata": {
    "tags": []
   },
   "outputs": [
    {
     "data": {
      "text/plain": [
       "'The number -1 is not positive.'"
      ]
     },
     "execution_count": 6,
     "metadata": {},
     "output_type": "execute_result"
    }
   ],
   "source": [
    "check_number(-1)"
   ]
  },
  {
   "cell_type": "markdown",
   "id": "aa950b7a-123c-46cb-8876-cddbe69b2bf9",
   "metadata": {},
   "source": [
    "## If Condition with Multiple Expressions"
   ]
  },
  {
   "cell_type": "code",
   "execution_count": 9,
   "id": "8e3cd69b-3b94-44bf-a51b-615491919d8e",
   "metadata": {
    "tags": []
   },
   "outputs": [],
   "source": [
    "def check_temperature(temp):\n",
    "    if temp < 0:\n",
    "        return \"Clima muy frío\"\n",
    "    elif temp < 20:\n",
    "        return \"Clima fresco\"\n",
    "    elif temp < 30:\n",
    "        return \"Clima agradable\"\n",
    "    else:\n",
    "        return \"Clima caluroso\""
   ]
  },
  {
   "cell_type": "code",
   "execution_count": 10,
   "id": "b4452274-7392-4ec3-8743-b46a58f73ada",
   "metadata": {
    "tags": []
   },
   "outputs": [
    {
     "name": "stdout",
     "output_type": "stream",
     "text": [
      "Clima muy frío\n"
     ]
    }
   ],
   "source": [
    "print(check_temperature(-5))"
   ]
  },
  {
   "cell_type": "code",
   "execution_count": 11,
   "id": "ccee952f-c830-4b5e-b08b-68f07319a87d",
   "metadata": {
    "tags": []
   },
   "outputs": [
    {
     "name": "stdout",
     "output_type": "stream",
     "text": [
      "Clima caluroso\n"
     ]
    }
   ],
   "source": [
    "print(check_temperature(36))"
   ]
  },
  {
   "cell_type": "markdown",
   "id": "6b25f19c-7dc0-40de-9edf-ce75fbcebd0c",
   "metadata": {},
   "source": [
    "## Logical Operators"
   ]
  },
  {
   "cell_type": "code",
   "execution_count": 13,
   "id": "0f3c727a-a7af-459d-877c-5db503e8f2a7",
   "metadata": {
    "tags": []
   },
   "outputs": [],
   "source": [
    "def scholarship_eligibility(gpa, extracurricular, community_hours):\n",
    "    if gpa > 3.5 and (extracurricular == \"Yes\" or community_hours > 50):\n",
    "        return \"Eligible for scholarship.\"\n",
    "    else:\n",
    "        return \"Not eligible for scholarship.\""
   ]
  },
  {
   "cell_type": "code",
   "execution_count": 14,
   "id": "6246fdcc-da1b-4916-9812-31a65b5ac14f",
   "metadata": {
    "tags": []
   },
   "outputs": [
    {
     "name": "stdout",
     "output_type": "stream",
     "text": [
      "Eligible for scholarship.\n"
     ]
    }
   ],
   "source": [
    "print(scholarship_eligibility(3.8, \"Yes\", 10)) "
   ]
  },
  {
   "cell_type": "code",
   "execution_count": 15,
   "id": "da34819f-9d33-415f-b25b-858d704aef35",
   "metadata": {
    "tags": []
   },
   "outputs": [
    {
     "name": "stdout",
     "output_type": "stream",
     "text": [
      "Not eligible for scholarship.\n"
     ]
    }
   ],
   "source": [
    "print(scholarship_eligibility(3.2, \"Yes\", 60))"
   ]
  },
  {
   "cell_type": "markdown",
   "id": "883767e8-4579-4488-91c4-efdcfaadbc08",
   "metadata": {},
   "source": [
    "## Python Identity Operators"
   ]
  },
  {
   "cell_type": "code",
   "execution_count": 16,
   "id": "75d8c2f0-e399-47ab-9b2f-d980bcc04b26",
   "metadata": {
    "tags": []
   },
   "outputs": [],
   "source": [
    "list1 = [1, 2, 3]\n",
    "list2 = [1, 2, 3]\n",
    "list3 = list1"
   ]
  },
  {
   "cell_type": "code",
   "execution_count": 17,
   "id": "8c887cf4-efe3-489f-a7c8-3e77c059a1af",
   "metadata": {
    "tags": []
   },
   "outputs": [
    {
     "name": "stdout",
     "output_type": "stream",
     "text": [
      "list1 is list2: False\n"
     ]
    }
   ],
   "source": [
    "print(\"list1 is list2:\", list1 is list2)"
   ]
  },
  {
   "cell_type": "code",
   "execution_count": 18,
   "id": "86961121-b3d9-4dd6-9c2f-47ce0d78ae96",
   "metadata": {
    "tags": []
   },
   "outputs": [
    {
     "name": "stdout",
     "output_type": "stream",
     "text": [
      "list1 is list3: True\n"
     ]
    }
   ],
   "source": [
    "print(\"list1 is list3:\", list1 is list3)"
   ]
  },
  {
   "cell_type": "code",
   "execution_count": 19,
   "id": "414a8b68-f5af-4583-9256-7850e7f472bf",
   "metadata": {
    "tags": []
   },
   "outputs": [
    {
     "name": "stdout",
     "output_type": "stream",
     "text": [
      "list1 == list2: True\n"
     ]
    }
   ],
   "source": [
    "print(\"list1 == list2:\", list1 == list2)"
   ]
  },
  {
   "cell_type": "markdown",
   "id": "3f4b1574-4411-4c25-ad5b-67641c7b8f30",
   "metadata": {},
   "source": [
    "## Nested If Statement"
   ]
  },
  {
   "cell_type": "code",
   "execution_count": 21,
   "id": "b2542a34-abac-4cbe-a665-44421ff302c9",
   "metadata": {
    "tags": []
   },
   "outputs": [],
   "source": [
    "def assign_grade(score):\n",
    "    if score >= 90:\n",
    "        return \"A\"\n",
    "    elif 80 <= score <= 89:\n",
    "        if score == 85:\n",
    "            return \"B+\"\n",
    "        else:\n",
    "            return \"B\"\n",
    "    elif 70 <= score <= 79:\n",
    "        return \"C\"\n",
    "    else:\n",
    "        return \"Fail\""
   ]
  },
  {
   "cell_type": "code",
   "execution_count": 22,
   "id": "4e875cea-df41-4072-91a2-951058268794",
   "metadata": {
    "tags": []
   },
   "outputs": [
    {
     "name": "stdout",
     "output_type": "stream",
     "text": [
      "A\n"
     ]
    }
   ],
   "source": [
    "print(assign_grade(92))"
   ]
  },
  {
   "cell_type": "code",
   "execution_count": 23,
   "id": "44d389ef-d85c-4cb8-96d6-10167149f4e5",
   "metadata": {
    "tags": []
   },
   "outputs": [
    {
     "name": "stdout",
     "output_type": "stream",
     "text": [
      "B+\n"
     ]
    }
   ],
   "source": [
    "print(assign_grade(85))"
   ]
  },
  {
   "cell_type": "code",
   "execution_count": 24,
   "id": "677b22e9-1a99-4a25-8ed9-3368563da353",
   "metadata": {
    "tags": []
   },
   "outputs": [
    {
     "name": "stdout",
     "output_type": "stream",
     "text": [
      "B\n"
     ]
    }
   ],
   "source": [
    "print(assign_grade(83)) "
   ]
  },
  {
   "cell_type": "code",
   "execution_count": 25,
   "id": "d03225a6-f5e5-4217-8586-e6b3c79b8bc0",
   "metadata": {
    "tags": []
   },
   "outputs": [
    {
     "name": "stdout",
     "output_type": "stream",
     "text": [
      "C\n"
     ]
    }
   ],
   "source": [
    "print(assign_grade(75)) "
   ]
  },
  {
   "cell_type": "code",
   "execution_count": 26,
   "id": "6151314d-336e-4469-a7c8-93e262b28da3",
   "metadata": {
    "tags": []
   },
   "outputs": [
    {
     "name": "stdout",
     "output_type": "stream",
     "text": [
      "Fail\n"
     ]
    }
   ],
   "source": [
    "print(assign_grade(60))"
   ]
  }
 ],
 "metadata": {
  "kernelspec": {
   "display_name": "Python 3 (ipykernel)",
   "language": "python",
   "name": "python3"
  },
  "language_info": {
   "codemirror_mode": {
    "name": "ipython",
    "version": 3
   },
   "file_extension": ".py",
   "mimetype": "text/x-python",
   "name": "python",
   "nbconvert_exporter": "python",
   "pygments_lexer": "ipython3",
   "version": "3.11.5"
  }
 },
 "nbformat": 4,
 "nbformat_minor": 5
}
