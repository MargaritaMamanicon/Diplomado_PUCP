{
 "cells": [
  {
   "cell_type": "markdown",
   "id": "405ba229-79ed-4ed4-ade7-2ff8c4bce030",
   "metadata": {},
   "source": [
    "# Parte 1 –Merging \n",
    "Este notebook contiene la **Parte 1.2** (preguntas 3–5) resueltas, con explicaciones breves y código ejecutable."
   ]
  },
  {
   "cell_type": "code",
   "execution_count": 4,
   "id": "e1f5927d-36df-4464-b1a1-f135ef35b2a0",
   "metadata": {},
   "outputs": [
    {
     "data": {
      "text/plain": [
       "'/Users/andreachavez/Documents/GitHub/Diplomado_PUCP/Lecture_2/Assignment_2/group_7_assignment2_2025'"
      ]
     },
     "execution_count": 4,
     "metadata": {},
     "output_type": "execute_result"
    }
   ],
   "source": [
    "pwd"
   ]
  },
  {
   "cell_type": "code",
   "execution_count": 5,
   "id": "d5941747-6dbf-45bc-bfd8-cda1f543eedb",
   "metadata": {},
   "outputs": [],
   "source": [
    "#importamos la funciones\n",
    "import pandas as pd"
   ]
  },
  {
   "cell_type": "code",
   "execution_count": 6,
   "id": "01419073-8a95-4673-9788-a9b5883617ca",
   "metadata": {},
   "outputs": [],
   "source": [
    "Enaho01_2023_200 = pd.read_csv ('/Users/andreachavez/Documents/GitHub/Diplomado_PUCP/Lecture_2/Assignment_2/group_7_assignment2_2025/Enaho01-2023-200.csv', encoding=\"ISO-8859-10\")"
   ]
  },
  {
   "cell_type": "code",
   "execution_count": 7,
   "id": "151647f8-f948-4231-8724-e24dc1754a0b",
   "metadata": {},
   "outputs": [
    {
     "data": {
      "text/html": [
       "<div>\n",
       "<style scoped>\n",
       "    .dataframe tbody tr th:only-of-type {\n",
       "        vertical-align: middle;\n",
       "    }\n",
       "\n",
       "    .dataframe tbody tr th {\n",
       "        vertical-align: top;\n",
       "    }\n",
       "\n",
       "    .dataframe thead th {\n",
       "        text-align: right;\n",
       "    }\n",
       "</style>\n",
       "<table border=\"1\" class=\"dataframe\">\n",
       "  <thead>\n",
       "    <tr style=\"text-align: right;\">\n",
       "      <th></th>\n",
       "      <th>AŅO</th>\n",
       "      <th>MES</th>\n",
       "      <th>CONGLOME</th>\n",
       "      <th>VIVIENDA</th>\n",
       "      <th>HOGAR</th>\n",
       "      <th>CODPERSO</th>\n",
       "      <th>UBIGEO</th>\n",
       "      <th>DOMINIO</th>\n",
       "      <th>ESTRATO</th>\n",
       "      <th>P201P</th>\n",
       "      <th>...</th>\n",
       "      <th>OCUPAC_R3</th>\n",
       "      <th>OCUPAC_R4</th>\n",
       "      <th>RAMA_R3</th>\n",
       "      <th>RAMA_R4</th>\n",
       "      <th>CODTAREA</th>\n",
       "      <th>CODTIEMPO</th>\n",
       "      <th>TICUEST01</th>\n",
       "      <th>FACPOB07</th>\n",
       "      <th>NCONGLOME</th>\n",
       "      <th>SUB_CONGLOME</th>\n",
       "    </tr>\n",
       "  </thead>\n",
       "  <tbody>\n",
       "    <tr>\n",
       "      <th>0</th>\n",
       "      <td>2023</td>\n",
       "      <td>2</td>\n",
       "      <td>5007</td>\n",
       "      <td>22</td>\n",
       "      <td>11</td>\n",
       "      <td>1</td>\n",
       "      <td>10101</td>\n",
       "      <td>4</td>\n",
       "      <td>4</td>\n",
       "      <td>20190050070221101</td>\n",
       "      <td>...</td>\n",
       "      <td></td>\n",
       "      <td></td>\n",
       "      <td></td>\n",
       "      <td></td>\n",
       "      <td></td>\n",
       "      <td></td>\n",
       "      <td>2</td>\n",
       "      <td>50.466671</td>\n",
       "      <td>7070</td>\n",
       "      <td>0</td>\n",
       "    </tr>\n",
       "    <tr>\n",
       "      <th>1</th>\n",
       "      <td>2023</td>\n",
       "      <td>2</td>\n",
       "      <td>5007</td>\n",
       "      <td>22</td>\n",
       "      <td>11</td>\n",
       "      <td>2</td>\n",
       "      <td>10101</td>\n",
       "      <td>4</td>\n",
       "      <td>4</td>\n",
       "      <td>20190050070221102</td>\n",
       "      <td>...</td>\n",
       "      <td></td>\n",
       "      <td></td>\n",
       "      <td></td>\n",
       "      <td></td>\n",
       "      <td></td>\n",
       "      <td></td>\n",
       "      <td>2</td>\n",
       "      <td>50.466671</td>\n",
       "      <td>7070</td>\n",
       "      <td>0</td>\n",
       "    </tr>\n",
       "    <tr>\n",
       "      <th>2</th>\n",
       "      <td>2023</td>\n",
       "      <td>2</td>\n",
       "      <td>5007</td>\n",
       "      <td>22</td>\n",
       "      <td>11</td>\n",
       "      <td>3</td>\n",
       "      <td>10101</td>\n",
       "      <td>4</td>\n",
       "      <td>4</td>\n",
       "      <td>20190050070221104</td>\n",
       "      <td>...</td>\n",
       "      <td></td>\n",
       "      <td></td>\n",
       "      <td></td>\n",
       "      <td></td>\n",
       "      <td></td>\n",
       "      <td></td>\n",
       "      <td>2</td>\n",
       "      <td>50.466671</td>\n",
       "      <td>7070</td>\n",
       "      <td>0</td>\n",
       "    </tr>\n",
       "    <tr>\n",
       "      <th>3</th>\n",
       "      <td>2023</td>\n",
       "      <td>2</td>\n",
       "      <td>5007</td>\n",
       "      <td>31</td>\n",
       "      <td>11</td>\n",
       "      <td>1</td>\n",
       "      <td>10101</td>\n",
       "      <td>4</td>\n",
       "      <td>4</td>\n",
       "      <td>20190050070311102</td>\n",
       "      <td>...</td>\n",
       "      <td></td>\n",
       "      <td></td>\n",
       "      <td></td>\n",
       "      <td></td>\n",
       "      <td></td>\n",
       "      <td></td>\n",
       "      <td>2</td>\n",
       "      <td>50.466671</td>\n",
       "      <td>7070</td>\n",
       "      <td>0</td>\n",
       "    </tr>\n",
       "    <tr>\n",
       "      <th>4</th>\n",
       "      <td>2023</td>\n",
       "      <td>2</td>\n",
       "      <td>5007</td>\n",
       "      <td>31</td>\n",
       "      <td>11</td>\n",
       "      <td>2</td>\n",
       "      <td>10101</td>\n",
       "      <td>4</td>\n",
       "      <td>4</td>\n",
       "      <td>20230050070311102</td>\n",
       "      <td>...</td>\n",
       "      <td></td>\n",
       "      <td></td>\n",
       "      <td></td>\n",
       "      <td></td>\n",
       "      <td></td>\n",
       "      <td></td>\n",
       "      <td>2</td>\n",
       "      <td>50.466671</td>\n",
       "      <td>7070</td>\n",
       "      <td>0</td>\n",
       "    </tr>\n",
       "    <tr>\n",
       "      <th>...</th>\n",
       "      <td>...</td>\n",
       "      <td>...</td>\n",
       "      <td>...</td>\n",
       "      <td>...</td>\n",
       "      <td>...</td>\n",
       "      <td>...</td>\n",
       "      <td>...</td>\n",
       "      <td>...</td>\n",
       "      <td>...</td>\n",
       "      <td>...</td>\n",
       "      <td>...</td>\n",
       "      <td>...</td>\n",
       "      <td>...</td>\n",
       "      <td>...</td>\n",
       "      <td>...</td>\n",
       "      <td>...</td>\n",
       "      <td>...</td>\n",
       "      <td>...</td>\n",
       "      <td>...</td>\n",
       "      <td>...</td>\n",
       "      <td>...</td>\n",
       "    </tr>\n",
       "    <tr>\n",
       "      <th>119742</th>\n",
       "      <td>2023</td>\n",
       "      <td>4</td>\n",
       "      <td>21001</td>\n",
       "      <td>60</td>\n",
       "      <td>11</td>\n",
       "      <td>2</td>\n",
       "      <td>210903</td>\n",
       "      <td>6</td>\n",
       "      <td>8</td>\n",
       "      <td>20230210010601102</td>\n",
       "      <td>...</td>\n",
       "      <td></td>\n",
       "      <td></td>\n",
       "      <td></td>\n",
       "      <td></td>\n",
       "      <td></td>\n",
       "      <td></td>\n",
       "      <td>2</td>\n",
       "      <td>337.350189</td>\n",
       "      <td>40607</td>\n",
       "      <td>0</td>\n",
       "    </tr>\n",
       "    <tr>\n",
       "      <th>119743</th>\n",
       "      <td>2023</td>\n",
       "      <td>4</td>\n",
       "      <td>21001</td>\n",
       "      <td>60</td>\n",
       "      <td>11</td>\n",
       "      <td>3</td>\n",
       "      <td>210903</td>\n",
       "      <td>6</td>\n",
       "      <td>8</td>\n",
       "      <td>20230210010601103</td>\n",
       "      <td>...</td>\n",
       "      <td></td>\n",
       "      <td></td>\n",
       "      <td></td>\n",
       "      <td></td>\n",
       "      <td></td>\n",
       "      <td></td>\n",
       "      <td>2</td>\n",
       "      <td>337.350189</td>\n",
       "      <td>40607</td>\n",
       "      <td>0</td>\n",
       "    </tr>\n",
       "    <tr>\n",
       "      <th>119744</th>\n",
       "      <td>2023</td>\n",
       "      <td>4</td>\n",
       "      <td>21001</td>\n",
       "      <td>63</td>\n",
       "      <td>11</td>\n",
       "      <td>1</td>\n",
       "      <td>210903</td>\n",
       "      <td>6</td>\n",
       "      <td>8</td>\n",
       "      <td>20230210010631101</td>\n",
       "      <td>...</td>\n",
       "      <td></td>\n",
       "      <td></td>\n",
       "      <td></td>\n",
       "      <td></td>\n",
       "      <td></td>\n",
       "      <td></td>\n",
       "      <td>2</td>\n",
       "      <td>337.350189</td>\n",
       "      <td>40607</td>\n",
       "      <td>0</td>\n",
       "    </tr>\n",
       "    <tr>\n",
       "      <th>119745</th>\n",
       "      <td>2023</td>\n",
       "      <td>4</td>\n",
       "      <td>21001</td>\n",
       "      <td>64</td>\n",
       "      <td>11</td>\n",
       "      <td>1</td>\n",
       "      <td>210903</td>\n",
       "      <td>6</td>\n",
       "      <td>8</td>\n",
       "      <td>20230210010641101</td>\n",
       "      <td>...</td>\n",
       "      <td></td>\n",
       "      <td></td>\n",
       "      <td></td>\n",
       "      <td></td>\n",
       "      <td></td>\n",
       "      <td></td>\n",
       "      <td>2</td>\n",
       "      <td>337.350189</td>\n",
       "      <td>40607</td>\n",
       "      <td>0</td>\n",
       "    </tr>\n",
       "    <tr>\n",
       "      <th>119746</th>\n",
       "      <td>2023</td>\n",
       "      <td>4</td>\n",
       "      <td>21001</td>\n",
       "      <td>64</td>\n",
       "      <td>11</td>\n",
       "      <td>2</td>\n",
       "      <td>210903</td>\n",
       "      <td>6</td>\n",
       "      <td>8</td>\n",
       "      <td>20230210010641102</td>\n",
       "      <td>...</td>\n",
       "      <td></td>\n",
       "      <td></td>\n",
       "      <td></td>\n",
       "      <td></td>\n",
       "      <td></td>\n",
       "      <td></td>\n",
       "      <td>2</td>\n",
       "      <td>337.350189</td>\n",
       "      <td>40607</td>\n",
       "      <td>0</td>\n",
       "    </tr>\n",
       "  </tbody>\n",
       "</table>\n",
       "<p>119747 rows × 40 columns</p>\n",
       "</div>"
      ],
      "text/plain": [
       "         AŅO  MES  CONGLOME  VIVIENDA  HOGAR  CODPERSO  UBIGEO  DOMINIO  \\\n",
       "0       2023    2      5007        22     11         1   10101        4   \n",
       "1       2023    2      5007        22     11         2   10101        4   \n",
       "2       2023    2      5007        22     11         3   10101        4   \n",
       "3       2023    2      5007        31     11         1   10101        4   \n",
       "4       2023    2      5007        31     11         2   10101        4   \n",
       "...      ...  ...       ...       ...    ...       ...     ...      ...   \n",
       "119742  2023    4     21001        60     11         2  210903        6   \n",
       "119743  2023    4     21001        60     11         3  210903        6   \n",
       "119744  2023    4     21001        63     11         1  210903        6   \n",
       "119745  2023    4     21001        64     11         1  210903        6   \n",
       "119746  2023    4     21001        64     11         2  210903        6   \n",
       "\n",
       "        ESTRATO              P201P  ...  OCUPAC_R3 OCUPAC_R4 RAMA_R3 RAMA_R4  \\\n",
       "0             4  20190050070221101  ...                                        \n",
       "1             4  20190050070221102  ...                                        \n",
       "2             4  20190050070221104  ...                                        \n",
       "3             4  20190050070311102  ...                                        \n",
       "4             4  20230050070311102  ...                                        \n",
       "...         ...                ...  ...        ...       ...     ...     ...   \n",
       "119742        8  20230210010601102  ...                                        \n",
       "119743        8  20230210010601103  ...                                        \n",
       "119744        8  20230210010631101  ...                                        \n",
       "119745        8  20230210010641101  ...                                        \n",
       "119746        8  20230210010641102  ...                                        \n",
       "\n",
       "       CODTAREA CODTIEMPO TICUEST01    FACPOB07 NCONGLOME SUB_CONGLOME  \n",
       "0                                 2   50.466671      7070            0  \n",
       "1                                 2   50.466671      7070            0  \n",
       "2                                 2   50.466671      7070            0  \n",
       "3                                 2   50.466671      7070            0  \n",
       "4                                 2   50.466671      7070            0  \n",
       "...         ...       ...       ...         ...       ...          ...  \n",
       "119742                            2  337.350189     40607            0  \n",
       "119743                            2  337.350189     40607            0  \n",
       "119744                            2  337.350189     40607            0  \n",
       "119745                            2  337.350189     40607            0  \n",
       "119746                            2  337.350189     40607            0  \n",
       "\n",
       "[119747 rows x 40 columns]"
      ]
     },
     "execution_count": 7,
     "metadata": {},
     "output_type": "execute_result"
    }
   ],
   "source": [
    "Enaho01_2023_200"
   ]
  },
  {
   "cell_type": "markdown",
   "id": "39883bc0-c23b-45b5-ae4d-16139c073a20",
   "metadata": {},
   "source": [
    "#### Mostrar las 5 primera filas"
   ]
  },
  {
   "cell_type": "code",
   "execution_count": 8,
   "id": "99a86433-6773-4898-9a2c-64a4d6a7bf90",
   "metadata": {},
   "outputs": [
    {
     "data": {
      "text/html": [
       "<div>\n",
       "<style scoped>\n",
       "    .dataframe tbody tr th:only-of-type {\n",
       "        vertical-align: middle;\n",
       "    }\n",
       "\n",
       "    .dataframe tbody tr th {\n",
       "        vertical-align: top;\n",
       "    }\n",
       "\n",
       "    .dataframe thead th {\n",
       "        text-align: right;\n",
       "    }\n",
       "</style>\n",
       "<table border=\"1\" class=\"dataframe\">\n",
       "  <thead>\n",
       "    <tr style=\"text-align: right;\">\n",
       "      <th></th>\n",
       "      <th>AŅO</th>\n",
       "      <th>MES</th>\n",
       "      <th>CONGLOME</th>\n",
       "      <th>VIVIENDA</th>\n",
       "      <th>HOGAR</th>\n",
       "      <th>CODPERSO</th>\n",
       "      <th>UBIGEO</th>\n",
       "      <th>DOMINIO</th>\n",
       "      <th>ESTRATO</th>\n",
       "      <th>P201P</th>\n",
       "      <th>...</th>\n",
       "      <th>OCUPAC_R3</th>\n",
       "      <th>OCUPAC_R4</th>\n",
       "      <th>RAMA_R3</th>\n",
       "      <th>RAMA_R4</th>\n",
       "      <th>CODTAREA</th>\n",
       "      <th>CODTIEMPO</th>\n",
       "      <th>TICUEST01</th>\n",
       "      <th>FACPOB07</th>\n",
       "      <th>NCONGLOME</th>\n",
       "      <th>SUB_CONGLOME</th>\n",
       "    </tr>\n",
       "  </thead>\n",
       "  <tbody>\n",
       "    <tr>\n",
       "      <th>0</th>\n",
       "      <td>2023</td>\n",
       "      <td>2</td>\n",
       "      <td>5007</td>\n",
       "      <td>22</td>\n",
       "      <td>11</td>\n",
       "      <td>1</td>\n",
       "      <td>10101</td>\n",
       "      <td>4</td>\n",
       "      <td>4</td>\n",
       "      <td>20190050070221101</td>\n",
       "      <td>...</td>\n",
       "      <td></td>\n",
       "      <td></td>\n",
       "      <td></td>\n",
       "      <td></td>\n",
       "      <td></td>\n",
       "      <td></td>\n",
       "      <td>2</td>\n",
       "      <td>50.466671</td>\n",
       "      <td>7070</td>\n",
       "      <td>0</td>\n",
       "    </tr>\n",
       "    <tr>\n",
       "      <th>1</th>\n",
       "      <td>2023</td>\n",
       "      <td>2</td>\n",
       "      <td>5007</td>\n",
       "      <td>22</td>\n",
       "      <td>11</td>\n",
       "      <td>2</td>\n",
       "      <td>10101</td>\n",
       "      <td>4</td>\n",
       "      <td>4</td>\n",
       "      <td>20190050070221102</td>\n",
       "      <td>...</td>\n",
       "      <td></td>\n",
       "      <td></td>\n",
       "      <td></td>\n",
       "      <td></td>\n",
       "      <td></td>\n",
       "      <td></td>\n",
       "      <td>2</td>\n",
       "      <td>50.466671</td>\n",
       "      <td>7070</td>\n",
       "      <td>0</td>\n",
       "    </tr>\n",
       "    <tr>\n",
       "      <th>2</th>\n",
       "      <td>2023</td>\n",
       "      <td>2</td>\n",
       "      <td>5007</td>\n",
       "      <td>22</td>\n",
       "      <td>11</td>\n",
       "      <td>3</td>\n",
       "      <td>10101</td>\n",
       "      <td>4</td>\n",
       "      <td>4</td>\n",
       "      <td>20190050070221104</td>\n",
       "      <td>...</td>\n",
       "      <td></td>\n",
       "      <td></td>\n",
       "      <td></td>\n",
       "      <td></td>\n",
       "      <td></td>\n",
       "      <td></td>\n",
       "      <td>2</td>\n",
       "      <td>50.466671</td>\n",
       "      <td>7070</td>\n",
       "      <td>0</td>\n",
       "    </tr>\n",
       "    <tr>\n",
       "      <th>3</th>\n",
       "      <td>2023</td>\n",
       "      <td>2</td>\n",
       "      <td>5007</td>\n",
       "      <td>31</td>\n",
       "      <td>11</td>\n",
       "      <td>1</td>\n",
       "      <td>10101</td>\n",
       "      <td>4</td>\n",
       "      <td>4</td>\n",
       "      <td>20190050070311102</td>\n",
       "      <td>...</td>\n",
       "      <td></td>\n",
       "      <td></td>\n",
       "      <td></td>\n",
       "      <td></td>\n",
       "      <td></td>\n",
       "      <td></td>\n",
       "      <td>2</td>\n",
       "      <td>50.466671</td>\n",
       "      <td>7070</td>\n",
       "      <td>0</td>\n",
       "    </tr>\n",
       "    <tr>\n",
       "      <th>4</th>\n",
       "      <td>2023</td>\n",
       "      <td>2</td>\n",
       "      <td>5007</td>\n",
       "      <td>31</td>\n",
       "      <td>11</td>\n",
       "      <td>2</td>\n",
       "      <td>10101</td>\n",
       "      <td>4</td>\n",
       "      <td>4</td>\n",
       "      <td>20230050070311102</td>\n",
       "      <td>...</td>\n",
       "      <td></td>\n",
       "      <td></td>\n",
       "      <td></td>\n",
       "      <td></td>\n",
       "      <td></td>\n",
       "      <td></td>\n",
       "      <td>2</td>\n",
       "      <td>50.466671</td>\n",
       "      <td>7070</td>\n",
       "      <td>0</td>\n",
       "    </tr>\n",
       "  </tbody>\n",
       "</table>\n",
       "<p>5 rows × 40 columns</p>\n",
       "</div>"
      ],
      "text/plain": [
       "    AŅO  MES  CONGLOME  VIVIENDA  HOGAR  CODPERSO  UBIGEO  DOMINIO  ESTRATO  \\\n",
       "0  2023    2      5007        22     11         1   10101        4        4   \n",
       "1  2023    2      5007        22     11         2   10101        4        4   \n",
       "2  2023    2      5007        22     11         3   10101        4        4   \n",
       "3  2023    2      5007        31     11         1   10101        4        4   \n",
       "4  2023    2      5007        31     11         2   10101        4        4   \n",
       "\n",
       "               P201P  ...  OCUPAC_R3 OCUPAC_R4 RAMA_R3 RAMA_R4 CODTAREA  \\\n",
       "0  20190050070221101  ...                                                 \n",
       "1  20190050070221102  ...                                                 \n",
       "2  20190050070221104  ...                                                 \n",
       "3  20190050070311102  ...                                                 \n",
       "4  20230050070311102  ...                                                 \n",
       "\n",
       "  CODTIEMPO TICUEST01   FACPOB07 NCONGLOME SUB_CONGLOME  \n",
       "0                   2  50.466671      7070            0  \n",
       "1                   2  50.466671      7070            0  \n",
       "2                   2  50.466671      7070            0  \n",
       "3                   2  50.466671      7070            0  \n",
       "4                   2  50.466671      7070            0  \n",
       "\n",
       "[5 rows x 40 columns]"
      ]
     },
     "execution_count": 8,
     "metadata": {},
     "output_type": "execute_result"
    }
   ],
   "source": [
    "Enaho01_2023_200.head()"
   ]
  },
  {
   "cell_type": "markdown",
   "id": "60a1554a-bdfc-46ef-a46e-262509f887db",
   "metadata": {},
   "source": [
    "#### Convertir los nombres de las columnas en una lista e imprimirla."
   ]
  },
  {
   "cell_type": "code",
   "execution_count": 9,
   "id": "d204a25e-41c9-4a82-85e7-b75093fddc42",
   "metadata": {},
   "outputs": [
    {
     "name": "stdout",
     "output_type": "stream",
     "text": [
      "Index(['AŅO', 'MES', 'CONGLOME', 'VIVIENDA', 'HOGAR', 'CODPERSO', 'UBIGEO',\n",
      "       'DOMINIO', 'ESTRATO', 'P201P', 'P203', 'P203A', 'P203B', 'P204', 'P205',\n",
      "       'P206', 'P207', 'P208A', 'P208B', 'P209', 'P210', 'P211A', 'P211D',\n",
      "       'P212', 'P213', 'P214', 'P215', 'P216', 'P217', 'T211', 'OCUPAC_R3',\n",
      "       'OCUPAC_R4', 'RAMA_R3', 'RAMA_R4', 'CODTAREA', 'CODTIEMPO', 'TICUEST01',\n",
      "       'FACPOB07', 'NCONGLOME', 'SUB_CONGLOME'],\n",
      "      dtype='object')\n"
     ]
    }
   ],
   "source": [
    "#Primero revisaré cuáles son los nombres de las columnas\n",
    "print(Enaho01_2023_200.columns)"
   ]
  },
  {
   "cell_type": "code",
   "execution_count": 10,
   "id": "ef7b0c73-7af8-4b0b-be77-3c78515a60c9",
   "metadata": {
    "scrolled": true
   },
   "outputs": [
    {
     "name": "stdout",
     "output_type": "stream",
     "text": [
      "['AŅO', 'MES', 'CONGLOME', 'VIVIENDA', 'HOGAR', 'CODPERSO', 'UBIGEO', 'DOMINIO', 'ESTRATO', 'P201P', 'P203', 'P203A', 'P203B', 'P204', 'P205', 'P206', 'P207', 'P208A', 'P208B', 'P209', 'P210', 'P211A', 'P211D', 'P212', 'P213', 'P214', 'P215', 'P216', 'P217', 'T211', 'OCUPAC_R3', 'OCUPAC_R4', 'RAMA_R3', 'RAMA_R4', 'CODTAREA', 'CODTIEMPO', 'TICUEST01', 'FACPOB07', 'NCONGLOME', 'SUB_CONGLOME']\n"
     ]
    }
   ],
   "source": [
    "#los convierto en una lista para imprimirlas\n",
    "columnas = Enaho01_2023_200.columns.tolist()\n",
    "print(columnas)"
   ]
  },
  {
   "cell_type": "code",
   "execution_count": 11,
   "id": "6ee82e7e-d511-4901-b38e-316daaec2b1b",
   "metadata": {},
   "outputs": [
    {
     "name": "stdout",
     "output_type": "stream",
     "text": [
      "<class 'list'>\n"
     ]
    }
   ],
   "source": [
    "#Verificamos que es una lista \n",
    "print(type(columnas))"
   ]
  },
  {
   "cell_type": "code",
   "execution_count": 12,
   "id": "7f1dae0e-129d-4aae-9d28-17d8baa5ecb9",
   "metadata": {},
   "outputs": [
    {
     "data": {
      "text/plain": [
       "AŅO               int64\n",
       "MES               int64\n",
       "CONGLOME          int64\n",
       "VIVIENDA          int64\n",
       "HOGAR             int64\n",
       "CODPERSO          int64\n",
       "UBIGEO            int64\n",
       "DOMINIO           int64\n",
       "ESTRATO           int64\n",
       "P201P             int64\n",
       "P203              int64\n",
       "P203A            object\n",
       "P203B            object\n",
       "P204             object\n",
       "P205             object\n",
       "P206             object\n",
       "P207             object\n",
       "P208A            object\n",
       "P208B            object\n",
       "P209             object\n",
       "P210             object\n",
       "P211A            object\n",
       "P211D            object\n",
       "P212             object\n",
       "P213             object\n",
       "P214             object\n",
       "P215             object\n",
       "P216             object\n",
       "P217             object\n",
       "T211             object\n",
       "OCUPAC_R3        object\n",
       "OCUPAC_R4        object\n",
       "RAMA_R3          object\n",
       "RAMA_R4          object\n",
       "CODTAREA         object\n",
       "CODTIEMPO        object\n",
       "TICUEST01         int64\n",
       "FACPOB07        float64\n",
       "NCONGLOME         int64\n",
       "SUB_CONGLOME      int64\n",
       "dtype: object"
      ]
     },
     "execution_count": 12,
     "metadata": {},
     "output_type": "execute_result"
    }
   ],
   "source": [
    "#Verificamos el tipo de datos\n",
    "Enaho01_2023_200.dtypes"
   ]
  },
  {
   "cell_type": "markdown",
   "id": "56601ec4-7272-4a28-b855-8475f772d2d0",
   "metadata": {},
   "source": [
    "#### Seleccionar una submuestra que contenga las variables ['CONGLOME', 'VIVIENDA', 'HOGAR', 'CODPERSO'] y las variables 'DOMINIO', 'P209', 'P210' y 'T211'."
   ]
  },
  {
   "cell_type": "markdown",
   "id": "ba04a16e-b6cf-46f8-ad3d-5422dc1974c3",
   "metadata": {},
   "source": [
    "Las variables adicionales presentan información del dominio geográfico (DOMINIO), estado civil del jefe/a de hogar (P209), si la semana pasada trabajó generando ingreso (P210) y el tipo de actividad de la semana pasada (T211)."
   ]
  },
  {
   "cell_type": "code",
   "execution_count": 40,
   "id": "a6383ff3-d8a8-46d3-a4b1-02c8045e0360",
   "metadata": {},
   "outputs": [],
   "source": [
    "#seleccionamos las variables y creamos un subsample\n",
    "viv_sub= Enaho01_2023_200[[\n",
    "    'CONGLOME', 'VIVIENDA', 'HOGAR', 'CODPERSO',\n",
    "    'DOMINIO', 'P204', 'P205', 'P206']].copy() "
   ]
  },
  {
   "cell_type": "code",
   "execution_count": 41,
   "id": "1e79eb5b-ce93-4a72-ab9f-e9695866ef88",
   "metadata": {},
   "outputs": [
    {
     "name": "stdout",
     "output_type": "stream",
     "text": [
      "        CONGLOME  VIVIENDA  HOGAR  CODPERSO  DOMINIO P204 P205 P206\n",
      "0           5007        22     11         1        4    1    2     \n",
      "1           5007        22     11         2        4    1    2     \n",
      "2           5007        22     11         3        4    1    2     \n",
      "3           5007        31     11         1        4    1    2     \n",
      "4           5007        31     11         2        4    2         2\n",
      "...          ...       ...    ...       ...      ...  ...  ...  ...\n",
      "119742     21001        60     11         2        6    1    2     \n",
      "119743     21001        60     11         3        6    2         2\n",
      "119744     21001        63     11         1        6    1    2     \n",
      "119745     21001        64     11         1        6    1    2     \n",
      "119746     21001        64     11         2        6    1    2     \n",
      "\n",
      "[119747 rows x 8 columns]\n"
     ]
    }
   ],
   "source": [
    "print(viv_sub)"
   ]
  },
  {
   "cell_type": "markdown",
   "id": "10268929-1759-4be3-bcc5-8954eaf8f47b",
   "metadata": {},
   "source": [
    "#### A. Cambiar un tipo de variable "
   ]
  },
  {
   "cell_type": "markdown",
   "id": "a294c3f2-eba2-42cd-bf30-a537d9acf25a",
   "metadata": {},
   "source": [
    "Vamos a cambiar la variable P209 (estado civil del jefe/a de hogar) a numérica."
   ]
  },
  {
   "cell_type": "code",
   "execution_count": 42,
   "id": "affced65-8a31-4879-8566-fbd5adde669a",
   "metadata": {},
   "outputs": [
    {
     "data": {
      "text/plain": [
       "CONGLOME     int64\n",
       "VIVIENDA     int64\n",
       "HOGAR        int64\n",
       "CODPERSO     int64\n",
       "DOMINIO      int64\n",
       "P204        object\n",
       "P205        object\n",
       "P206        object\n",
       "dtype: object"
      ]
     },
     "execution_count": 42,
     "metadata": {},
     "output_type": "execute_result"
    }
   ],
   "source": [
    "#primero verificamos los tipos de variables de esta subsample\n",
    "viv_sub.dtypes"
   ]
  },
  {
   "cell_type": "code",
   "execution_count": 43,
   "id": "d8c23e4f-b6a7-446e-bcf9-0d6b35e3fca5",
   "metadata": {},
   "outputs": [],
   "source": [
    "#vamos a cambiar la variable P209 (estado civil del jefe/a de hogar) a numérica\n",
    "viv_sub['P204'] = pd.to_numeric(viv_sub['P204'], \n",
    "    errors='coerce')"
   ]
  },
  {
   "cell_type": "code",
   "execution_count": 44,
   "id": "a4ebf1fe-a006-4f9c-9de3-350bf6640427",
   "metadata": {},
   "outputs": [
    {
     "name": "stdout",
     "output_type": "stream",
     "text": [
      "float64\n"
     ]
    }
   ],
   "source": [
    "#verificamos el tipo y es númerica de tipo float64\n",
    "print(viv_sub['P204'].dtype)"
   ]
  },
  {
   "cell_type": "markdown",
   "id": "33bd4e67-c191-4749-a5eb-9dcc2051d3e5",
   "metadata": {},
   "source": [
    "#### B. Modificar valores en una columna específica"
   ]
  },
  {
   "cell_type": "markdown",
   "id": "6f8f55da-7ee8-4ac6-9daf-c19dc20c9828",
   "metadata": {},
   "source": [
    "Vamos a cambiar los valores de la variable P210 (La semana pasada ... ¿Estuvo trabajando o realizando alguna tarea en el hogar o fuera de él para obtener algún ingreso?) de \"1\" y \"2\" a \"Sí\" o \"No\" respectivamente."
   ]
  },
  {
   "cell_type": "code",
   "execution_count": 39,
   "id": "8cb5835f-89ab-43a1-9787-cbaa271a42ca",
   "metadata": {
    "scrolled": true
   },
   "outputs": [
    {
     "data": {
      "text/plain": [
       "array(['2', ' ', '1'], dtype=object)"
      ]
     },
     "execution_count": 39,
     "metadata": {},
     "output_type": "execute_result"
    }
   ],
   "source": [
    "#verificamos los valores actuales de la pregunta\n",
    "viv_sub.P205.unique()"
   ]
  },
  {
   "cell_type": "code",
   "execution_count": 58,
   "id": "58793a3c-add9-4189-a999-314b7a81f4a8",
   "metadata": {},
   "outputs": [],
   "source": [
    "viv_sub.P205.replace({'1': 'Sí', '2': 'No', '': None}, inplace=True)"
   ]
  },
  {
   "cell_type": "code",
   "execution_count": 59,
   "id": "3ff1b805-b13b-4159-949c-96e08e80e9c0",
   "metadata": {},
   "outputs": [
    {
     "data": {
      "text/plain": [
       "0       No\n",
       "1       No\n",
       "2       No\n",
       "3       No\n",
       "4     None\n",
       "5     None\n",
       "6     None\n",
       "7     None\n",
       "8       No\n",
       "9       No\n",
       "10      No\n",
       "11      No\n",
       "12      No\n",
       "13      No\n",
       "14      No\n",
       "15      No\n",
       "16      No\n",
       "17    None\n",
       "18      No\n",
       "19      No\n",
       "20      Sí\n",
       "21      Sí\n",
       "22      No\n",
       "23      No\n",
       "24      No\n",
       "25      No\n",
       "26      No\n",
       "27      No\n",
       "28      No\n",
       "29      No\n",
       "Name: P205, dtype: object"
      ]
     },
     "execution_count": 59,
     "metadata": {},
     "output_type": "execute_result"
    }
   ],
   "source": [
    "#verificamos los valores actuales de la pregunta\n",
    "viv_sub.P205.head(30)"
   ]
  },
  {
   "cell_type": "code",
   "execution_count": null,
   "id": "d86d6263-b913-47aa-bfc9-9ecd6e43dfc5",
   "metadata": {},
   "outputs": [],
   "source": []
  }
 ],
 "metadata": {
  "kernelspec": {
   "display_name": "Python [conda env:base] *",
   "language": "python",
   "name": "conda-base-py"
  },
  "language_info": {
   "codemirror_mode": {
    "name": "ipython",
    "version": 3
   },
   "file_extension": ".py",
   "mimetype": "text/x-python",
   "name": "python",
   "nbconvert_exporter": "python",
   "pygments_lexer": "ipython3",
   "version": "3.11.5"
  }
 },
 "nbformat": 4,
 "nbformat_minor": 5
}
