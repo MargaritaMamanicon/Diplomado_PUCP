{
 "cells": [
  {
   "cell_type": "markdown",
   "id": "5cc5e340-1273-4f49-a140-b2f5e5abfd15",
   "metadata": {},
   "source": [
    "# Parte 1 – Pandas DataFrames\n",
    "\n",
    "Este notebook trabaja con la Encuesta Nacional de Hogares (ENAHO) de INEI. Se utilizarán dos módulos:\n",
    "\n",
    "- Vivienda (200)\n",
    "- Educación (300)\n",
    "\n",
    "Los archivos están ubicados en la carpeta relativa `./ENAHO/`.\n",
    "\n",
    "---"
   ]
  },
  {
   "cell_type": "code",
   "execution_count": 5,
   "id": "708b858e-a1d2-4553-ac8a-41085c33a653",
   "metadata": {},
   "outputs": [
    {
     "name": "stdout",
     "output_type": "stream",
     "text": [
      "Requirement already satisfied: pandas in /Users/andreachavez/anaconda3/lib/python3.11/site-packages (2.0.3)\n",
      "Requirement already satisfied: numpy in /Users/andreachavez/anaconda3/lib/python3.11/site-packages (1.24.3)\n",
      "Requirement already satisfied: python-dateutil>=2.8.2 in /Users/andreachavez/anaconda3/lib/python3.11/site-packages (from pandas) (2.8.2)\n",
      "Requirement already satisfied: pytz>=2020.1 in /Users/andreachavez/anaconda3/lib/python3.11/site-packages (from pandas) (2023.3.post1)\n",
      "Requirement already satisfied: tzdata>=2022.1 in /Users/andreachavez/anaconda3/lib/python3.11/site-packages (from pandas) (2023.3)\n",
      "Requirement already satisfied: six>=1.5 in /Users/andreachavez/anaconda3/lib/python3.11/site-packages (from python-dateutil>=2.8.2->pandas) (1.16.0)\n"
     ]
    }
   ],
   "source": [
    "# Instalar librerías (solo si aún no están instaladas)\n",
    "!pip install pandas numpy"
   ]
  },
  {
   "cell_type": "markdown",
   "id": "4967dbbd-3bde-4f7f-a9ef-e0a8dc8e96e4",
   "metadata": {},
   "source": [
    "## 1. Importar librerías y establecer ruta relativa\n"
   ]
  },
  {
   "cell_type": "code",
   "execution_count": 11,
   "id": "d7ef4eed-7962-46f8-a1dd-99312082e4b2",
   "metadata": {},
   "outputs": [],
   "source": [
    "import pandas as pd\n",
    "import numpy as np\n",
    "import os\n",
    "\n",
    "# Ruta relativa a los archivos\n",
    "data_dir = './ENAHO'\n",
    "# Cambiar directorio a donde están los datos"
   ]
  },
  {
   "cell_type": "markdown",
   "id": "84d4fb0c-4c0d-41a8-97ff-715b637ad196",
   "metadata": {},
   "source": [
    "#### Importamos dataset de Educación (300) y realizamos la exploración inicial"
   ]
  },
  {
   "cell_type": "code",
   "execution_count": 15,
   "id": "792eef62-2cd8-455a-8db6-d9dfadb96f18",
   "metadata": {},
   "outputs": [
    {
     "name": "stderr",
     "output_type": "stream",
     "text": [
      "/var/folders/3f/m9xgrdt17lq3hr8r63r73q_w0000gn/T/ipykernel_1386/1805468298.py:2: DtypeWarning: Columns (26,32,60) have mixed types. Specify dtype option on import or set low_memory=False.\n",
      "  df_edu = pd.read_csv(file_300, encoding='ISO-8859-10')\n"
     ]
    },
    {
     "name": "stdout",
     "output_type": "stream",
     "text": [
      "Primeras 5 filas del dataset de Educación:\n"
     ]
    },
    {
     "data": {
      "text/html": [
       "<div>\n",
       "<style scoped>\n",
       "    .dataframe tbody tr th:only-of-type {\n",
       "        vertical-align: middle;\n",
       "    }\n",
       "\n",
       "    .dataframe tbody tr th {\n",
       "        vertical-align: top;\n",
       "    }\n",
       "\n",
       "    .dataframe thead th {\n",
       "        text-align: right;\n",
       "    }\n",
       "</style>\n",
       "<table border=\"1\" class=\"dataframe\">\n",
       "  <thead>\n",
       "    <tr style=\"text-align: right;\">\n",
       "      <th></th>\n",
       "      <th>AŅO</th>\n",
       "      <th>MES</th>\n",
       "      <th>CONGLOME</th>\n",
       "      <th>VIVIENDA</th>\n",
       "      <th>HOGAR</th>\n",
       "      <th>CODPERSO</th>\n",
       "      <th>UBIGEO</th>\n",
       "      <th>DOMINIO</th>\n",
       "      <th>ESTRATO</th>\n",
       "      <th>CODINFOR</th>\n",
       "      <th>...</th>\n",
       "      <th>I311D$5</th>\n",
       "      <th>I311D$6</th>\n",
       "      <th>I311D$7</th>\n",
       "      <th>I3121C</th>\n",
       "      <th>I3122C</th>\n",
       "      <th>I315B</th>\n",
       "      <th>FACTOR07</th>\n",
       "      <th>FACTORA07</th>\n",
       "      <th>NCONGLOME</th>\n",
       "      <th>SUB_CONGLOME</th>\n",
       "    </tr>\n",
       "  </thead>\n",
       "  <tbody>\n",
       "    <tr>\n",
       "      <th>0</th>\n",
       "      <td>2023</td>\n",
       "      <td>1</td>\n",
       "      <td>5030</td>\n",
       "      <td>2</td>\n",
       "      <td>11</td>\n",
       "      <td>1</td>\n",
       "      <td>10201</td>\n",
       "      <td>7</td>\n",
       "      <td>4</td>\n",
       "      <td>1</td>\n",
       "      <td>...</td>\n",
       "      <td></td>\n",
       "      <td></td>\n",
       "      <td></td>\n",
       "      <td></td>\n",
       "      <td></td>\n",
       "      <td></td>\n",
       "      <td>118.374542</td>\n",
       "      <td>165.623856</td>\n",
       "      <td>6618</td>\n",
       "      <td>0</td>\n",
       "    </tr>\n",
       "    <tr>\n",
       "      <th>1</th>\n",
       "      <td>2023</td>\n",
       "      <td>1</td>\n",
       "      <td>5030</td>\n",
       "      <td>2</td>\n",
       "      <td>11</td>\n",
       "      <td>2</td>\n",
       "      <td>10201</td>\n",
       "      <td>7</td>\n",
       "      <td>4</td>\n",
       "      <td>2</td>\n",
       "      <td>...</td>\n",
       "      <td></td>\n",
       "      <td></td>\n",
       "      <td></td>\n",
       "      <td></td>\n",
       "      <td></td>\n",
       "      <td></td>\n",
       "      <td>118.374542</td>\n",
       "      <td>112.328087</td>\n",
       "      <td>6618</td>\n",
       "      <td>0</td>\n",
       "    </tr>\n",
       "    <tr>\n",
       "      <th>2</th>\n",
       "      <td>2023</td>\n",
       "      <td>1</td>\n",
       "      <td>5030</td>\n",
       "      <td>2</td>\n",
       "      <td>11</td>\n",
       "      <td>3</td>\n",
       "      <td>10201</td>\n",
       "      <td>7</td>\n",
       "      <td>4</td>\n",
       "      <td>2</td>\n",
       "      <td>...</td>\n",
       "      <td></td>\n",
       "      <td></td>\n",
       "      <td></td>\n",
       "      <td></td>\n",
       "      <td></td>\n",
       "      <td></td>\n",
       "      <td>118.374542</td>\n",
       "      <td>120.091476</td>\n",
       "      <td>6618</td>\n",
       "      <td>0</td>\n",
       "    </tr>\n",
       "    <tr>\n",
       "      <th>3</th>\n",
       "      <td>2023</td>\n",
       "      <td>1</td>\n",
       "      <td>5030</td>\n",
       "      <td>2</td>\n",
       "      <td>11</td>\n",
       "      <td>4</td>\n",
       "      <td>10201</td>\n",
       "      <td>7</td>\n",
       "      <td>4</td>\n",
       "      <td>2</td>\n",
       "      <td>...</td>\n",
       "      <td></td>\n",
       "      <td></td>\n",
       "      <td>8</td>\n",
       "      <td></td>\n",
       "      <td></td>\n",
       "      <td></td>\n",
       "      <td>118.374542</td>\n",
       "      <td>110.974678</td>\n",
       "      <td>6618</td>\n",
       "      <td>0</td>\n",
       "    </tr>\n",
       "    <tr>\n",
       "      <th>4</th>\n",
       "      <td>2023</td>\n",
       "      <td>1</td>\n",
       "      <td>5030</td>\n",
       "      <td>11</td>\n",
       "      <td>11</td>\n",
       "      <td>1</td>\n",
       "      <td>10201</td>\n",
       "      <td>7</td>\n",
       "      <td>4</td>\n",
       "      <td>1</td>\n",
       "      <td>...</td>\n",
       "      <td></td>\n",
       "      <td></td>\n",
       "      <td></td>\n",
       "      <td></td>\n",
       "      <td></td>\n",
       "      <td></td>\n",
       "      <td>118.374542</td>\n",
       "      <td>96.035370</td>\n",
       "      <td>6618</td>\n",
       "      <td>0</td>\n",
       "    </tr>\n",
       "  </tbody>\n",
       "</table>\n",
       "<p>5 rows × 511 columns</p>\n",
       "</div>"
      ],
      "text/plain": [
       "    AŅO  MES  CONGLOME  VIVIENDA  HOGAR  CODPERSO  UBIGEO  DOMINIO  ESTRATO  \\\n",
       "0  2023    1      5030         2     11         1   10201        7        4   \n",
       "1  2023    1      5030         2     11         2   10201        7        4   \n",
       "2  2023    1      5030         2     11         3   10201        7        4   \n",
       "3  2023    1      5030         2     11         4   10201        7        4   \n",
       "4  2023    1      5030        11     11         1   10201        7        4   \n",
       "\n",
       "   CODINFOR  ...  I311D$5  I311D$6  I311D$7  I3121C I3122C I315B    FACTOR07  \\\n",
       "0         1  ...                                                  118.374542   \n",
       "1         2  ...                                                  118.374542   \n",
       "2         2  ...                                                  118.374542   \n",
       "3         2  ...                          8                       118.374542   \n",
       "4         1  ...                                                  118.374542   \n",
       "\n",
       "    FACTORA07 NCONGLOME SUB_CONGLOME  \n",
       "0  165.623856      6618            0  \n",
       "1  112.328087      6618            0  \n",
       "2  120.091476      6618            0  \n",
       "3  110.974678      6618            0  \n",
       "4   96.035370      6618            0  \n",
       "\n",
       "[5 rows x 511 columns]"
      ]
     },
     "metadata": {},
     "output_type": "display_data"
    }
   ],
   "source": [
    "file_300 = os.path.join(data_dir, '/Users/andreachavez/Documents/GitHub/Diplomado_PUCP/Lecture_2/Assignment_2/group_7_assignment2_2025/Enaho01A-2023-300.csv')\n",
    "df_edu = pd.read_csv(file_300, encoding='ISO-8859-10')"
   ]
  },
  {
   "cell_type": "markdown",
   "id": "a09fa712-8d13-4c78-9be9-8b9eb3296dbf",
   "metadata": {},
   "source": [
    "#### Mostramos las 5 primeras filas"
   ]
  },
  {
   "cell_type": "code",
   "execution_count": 117,
   "id": "d76ab511-0a50-41c0-bc3c-1688fbdb17f0",
   "metadata": {},
   "outputs": [
    {
     "name": "stdout",
     "output_type": "stream",
     "text": [
      "Primeras 5 filas del dataset de Educación:\n"
     ]
    },
    {
     "data": {
      "text/html": [
       "<div>\n",
       "<style scoped>\n",
       "    .dataframe tbody tr th:only-of-type {\n",
       "        vertical-align: middle;\n",
       "    }\n",
       "\n",
       "    .dataframe tbody tr th {\n",
       "        vertical-align: top;\n",
       "    }\n",
       "\n",
       "    .dataframe thead th {\n",
       "        text-align: right;\n",
       "    }\n",
       "</style>\n",
       "<table border=\"1\" class=\"dataframe\">\n",
       "  <thead>\n",
       "    <tr style=\"text-align: right;\">\n",
       "      <th></th>\n",
       "      <th>AŅO</th>\n",
       "      <th>MES</th>\n",
       "      <th>CONGLOME</th>\n",
       "      <th>VIVIENDA</th>\n",
       "      <th>HOGAR</th>\n",
       "      <th>CODPERSO</th>\n",
       "      <th>UBIGEO</th>\n",
       "      <th>DOMINIO</th>\n",
       "      <th>ESTRATO</th>\n",
       "      <th>CODINFOR</th>\n",
       "      <th>...</th>\n",
       "      <th>I311D$5</th>\n",
       "      <th>I311D$6</th>\n",
       "      <th>I311D$7</th>\n",
       "      <th>I3121C</th>\n",
       "      <th>I3122C</th>\n",
       "      <th>I315B</th>\n",
       "      <th>FACTOR07</th>\n",
       "      <th>FACTORA07</th>\n",
       "      <th>NCONGLOME</th>\n",
       "      <th>SUB_CONGLOME</th>\n",
       "    </tr>\n",
       "  </thead>\n",
       "  <tbody>\n",
       "    <tr>\n",
       "      <th>0</th>\n",
       "      <td>2023</td>\n",
       "      <td>1</td>\n",
       "      <td>5030</td>\n",
       "      <td>2</td>\n",
       "      <td>11</td>\n",
       "      <td>1</td>\n",
       "      <td>10201</td>\n",
       "      <td>7</td>\n",
       "      <td>4</td>\n",
       "      <td>1</td>\n",
       "      <td>...</td>\n",
       "      <td></td>\n",
       "      <td></td>\n",
       "      <td></td>\n",
       "      <td></td>\n",
       "      <td></td>\n",
       "      <td></td>\n",
       "      <td>118.374542</td>\n",
       "      <td>165.623856</td>\n",
       "      <td>6618</td>\n",
       "      <td>0</td>\n",
       "    </tr>\n",
       "    <tr>\n",
       "      <th>1</th>\n",
       "      <td>2023</td>\n",
       "      <td>1</td>\n",
       "      <td>5030</td>\n",
       "      <td>2</td>\n",
       "      <td>11</td>\n",
       "      <td>2</td>\n",
       "      <td>10201</td>\n",
       "      <td>7</td>\n",
       "      <td>4</td>\n",
       "      <td>2</td>\n",
       "      <td>...</td>\n",
       "      <td></td>\n",
       "      <td></td>\n",
       "      <td></td>\n",
       "      <td></td>\n",
       "      <td></td>\n",
       "      <td></td>\n",
       "      <td>118.374542</td>\n",
       "      <td>112.328087</td>\n",
       "      <td>6618</td>\n",
       "      <td>0</td>\n",
       "    </tr>\n",
       "    <tr>\n",
       "      <th>2</th>\n",
       "      <td>2023</td>\n",
       "      <td>1</td>\n",
       "      <td>5030</td>\n",
       "      <td>2</td>\n",
       "      <td>11</td>\n",
       "      <td>3</td>\n",
       "      <td>10201</td>\n",
       "      <td>7</td>\n",
       "      <td>4</td>\n",
       "      <td>2</td>\n",
       "      <td>...</td>\n",
       "      <td></td>\n",
       "      <td></td>\n",
       "      <td></td>\n",
       "      <td></td>\n",
       "      <td></td>\n",
       "      <td></td>\n",
       "      <td>118.374542</td>\n",
       "      <td>120.091476</td>\n",
       "      <td>6618</td>\n",
       "      <td>0</td>\n",
       "    </tr>\n",
       "    <tr>\n",
       "      <th>3</th>\n",
       "      <td>2023</td>\n",
       "      <td>1</td>\n",
       "      <td>5030</td>\n",
       "      <td>2</td>\n",
       "      <td>11</td>\n",
       "      <td>4</td>\n",
       "      <td>10201</td>\n",
       "      <td>7</td>\n",
       "      <td>4</td>\n",
       "      <td>2</td>\n",
       "      <td>...</td>\n",
       "      <td></td>\n",
       "      <td></td>\n",
       "      <td>8</td>\n",
       "      <td></td>\n",
       "      <td></td>\n",
       "      <td></td>\n",
       "      <td>118.374542</td>\n",
       "      <td>110.974678</td>\n",
       "      <td>6618</td>\n",
       "      <td>0</td>\n",
       "    </tr>\n",
       "    <tr>\n",
       "      <th>4</th>\n",
       "      <td>2023</td>\n",
       "      <td>1</td>\n",
       "      <td>5030</td>\n",
       "      <td>11</td>\n",
       "      <td>11</td>\n",
       "      <td>1</td>\n",
       "      <td>10201</td>\n",
       "      <td>7</td>\n",
       "      <td>4</td>\n",
       "      <td>1</td>\n",
       "      <td>...</td>\n",
       "      <td></td>\n",
       "      <td></td>\n",
       "      <td></td>\n",
       "      <td></td>\n",
       "      <td></td>\n",
       "      <td></td>\n",
       "      <td>118.374542</td>\n",
       "      <td>96.035370</td>\n",
       "      <td>6618</td>\n",
       "      <td>0</td>\n",
       "    </tr>\n",
       "  </tbody>\n",
       "</table>\n",
       "<p>5 rows × 511 columns</p>\n",
       "</div>"
      ],
      "text/plain": [
       "    AŅO  MES  CONGLOME  VIVIENDA  HOGAR  CODPERSO  UBIGEO  DOMINIO  ESTRATO  \\\n",
       "0  2023    1      5030         2     11         1   10201        7        4   \n",
       "1  2023    1      5030         2     11         2   10201        7        4   \n",
       "2  2023    1      5030         2     11         3   10201        7        4   \n",
       "3  2023    1      5030         2     11         4   10201        7        4   \n",
       "4  2023    1      5030        11     11         1   10201        7        4   \n",
       "\n",
       "   CODINFOR  ...  I311D$5  I311D$6  I311D$7  I3121C I3122C I315B    FACTOR07  \\\n",
       "0         1  ...                                                  118.374542   \n",
       "1         2  ...                                                  118.374542   \n",
       "2         2  ...                                                  118.374542   \n",
       "3         2  ...                          8                       118.374542   \n",
       "4         1  ...                                                  118.374542   \n",
       "\n",
       "    FACTORA07 NCONGLOME SUB_CONGLOME  \n",
       "0  165.623856      6618            0  \n",
       "1  112.328087      6618            0  \n",
       "2  120.091476      6618            0  \n",
       "3  110.974678      6618            0  \n",
       "4   96.035370      6618            0  \n",
       "\n",
       "[5 rows x 511 columns]"
      ]
     },
     "metadata": {},
     "output_type": "display_data"
    }
   ],
   "source": [
    "print(\"Primeras 5 filas del dataset de Educación:\")\n",
    "display(df_edu.head())"
   ]
  },
  {
   "cell_type": "markdown",
   "id": "96359dd4-730e-4c9d-a009-0475a3b6b9f0",
   "metadata": {},
   "source": [
    "####  Convertimos las columnas en lista"
   ]
  },
  {
   "cell_type": "code",
   "execution_count": 119,
   "id": "1cd86078-7b3f-4be2-b62e-96f081fcb435",
   "metadata": {},
   "outputs": [
    {
     "name": "stdout",
     "output_type": "stream",
     "text": [
      "Columnas del dataset de Educación:\n",
      "['AŅO', 'MES', 'CONGLOME', 'VIVIENDA', 'HOGAR', 'CODPERSO', 'UBIGEO', 'DOMINIO', 'ESTRATO', 'CODINFOR', 'P300N', 'P300I', 'P300A', 'P301A', 'P301B', 'P301C', 'P301D', 'P301A0', 'P301A1', 'P301B0', 'P301B1', 'P301B3', 'P302', 'P302X', 'P302A', 'P302B', 'P303', 'P304A', 'P304B', 'P304C', 'P304D', 'P305', 'P306', 'P307', 'P307A1', 'P307A2', 'P307A3', 'P307A4', 'P307A4_5', 'P307A4_6', 'P307A4_7', 'P307B1', 'P307B2', 'P307B3', 'P307B4', 'P307B4_5', 'P307B4_6', 'P307B4_7', 'P307C', 'P308A', 'P308B', 'P308C', 'P308D', 'P308B1', 'P308B2', 'P308B3', 'P308B4', 'P308B5', 'P308C1', 'P308C2', 'P310', 'P310B1', 'P310C0', 'P310C1', 'P310D1', 'P310D2', 'P310E0', 'P310E1', 'P310E3', 'P311N$1', 'P311N$2', 'P311N$3', 'P311N$4', 'P311N$5', 'P311N$6', 'P311N$7', 'P311N$8', 'P311N$9', 'P311$1', 'P311$2', 'P311$3', 'P311$4', 'P311$5', 'P311$6', 'P311$7', 'P311$8', 'P311$9', 'P311A1$1', 'P311A1$2', 'P311A1$3', 'P311A1$4', 'P311A1$5', 'P311A1$6', 'P311A1$7', 'P311A1$8', 'P311A1$9', 'P311A2$1', 'P311A2$2', 'P311A2$3', 'P311A2$4', 'P311A2$5', 'P311A2$6', 'P311A2$7', 'P311A2$8', 'P311A2$9', 'P311A3$1', 'P311A3$2', 'P311A3$3', 'P311A3$4', 'P311A3$5', 'P311A3$6', 'P311A3$7', 'P311A3$8', 'P311A3$9', 'P311A4$1', 'P311A4$2', 'P311A4$3', 'P311A4$4', 'P311A4$5', 'P311A4$6', 'P311A4$7', 'P311A4$8', 'P311A4$9', 'P311A5$1', 'P311A5$2', 'P311A5$3', 'P311A5$4', 'P311A5$5', 'P311A5$6', 'P311A5$7', 'P311A5$8', 'P311A5$9', 'P311A6$1', 'P311A6$2', 'P311A6$3', 'P311A6$4', 'P311A6$5', 'P311A6$6', 'P311A6$7', 'P311A6$8', 'P311A6$9', 'P311A7$1', 'P311A7$2', 'P311A7$3', 'P311A7$4', 'P311A7$5', 'P311A7$6', 'P311A7$7', 'P311A7$8', 'P311A7$9', 'P311B$1', 'P311B$2', 'P311B$3', 'P311B$4', 'P311B$5', 'P311B$6', 'P311B$7', 'P311B$8', 'P311B$9', 'P311C$1', 'P311C$2', 'P311C$3', 'P311C$4', 'P311C$5', 'P311C$6', 'P311C$7', 'P311C$8', 'P311C$9', 'P311D$1', 'P311D$2', 'P311D$3', 'P311D$4', 'P311D$5', 'P311D$6', 'P311D$7', 'P311D$8', 'P311D$9', 'P311D2$1', 'P311D2$2', 'P311D2$3', 'P311D2$4', 'P311D2$5', 'P311D2$6', 'P311D2$7', 'P311D2$8', 'P311D2$9', 'P311D3$1', 'P311D3$2', 'P311D3$3', 'P311D3$4', 'P311D3$5', 'P311D3$6', 'P311D3$7', 'P311D3$8', 'P311D3$9', 'P311D4$1', 'P311D4$2', 'P311D4$3', 'P311D4$4', 'P311D4$5', 'P311D4$6', 'P311D4$7', 'P311D4$8', 'P311D4$9', 'P311D5$1', 'P311D5$2', 'P311D5$3', 'P311D5$4', 'P311D5$5', 'P311D5$6', 'P311D5$7', 'P311D5$8', 'P311D5$9', 'P311D6$1', 'P311D6$2', 'P311D6$3', 'P311D6$4', 'P311D6$5', 'P311D6$6', 'P311D6$7', 'P311D6$8', 'P311D6$9', 'P311D7$1', 'P311D7$2', 'P311D7$3', 'P311D7$4', 'P311D7$5', 'P311D7$6', 'P311D7$7', 'P311D7$8', 'P311D7$9', 'P311E$1', 'P311E$2', 'P311E$3', 'P311E$4', 'P311E$5', 'P311E$6', 'P311E$7', 'P311E$8', 'P311E$9', 'P311T1', 'P311T22', 'P311T23', 'P311T24', 'P311T25', 'P311T26', 'P311T27', 'P311T2', 'P3121', 'P3121A1', 'P3121A2', 'P3121A3', 'P3121A4', 'P3121A5', 'P3121A6', 'P3121B', 'P3121C', 'P3121C2', 'P3121C3', 'P3121C4', 'P3121C5', 'P3121C6', 'P3121D', 'P3122', 'P3122A1', 'P3122A2', 'P3122A3', 'P3122A4', 'P3122A5', 'P3122A6', 'P3122B', 'P3122C', 'P3122C2', 'P3122C3', 'P3122C4', 'P3122C5', 'P3122C6', 'P3122D', 'P312T1', 'P312T22', 'P312T23', 'P312T24', 'P312T25', 'P312T26', 'P312T2', 'P313', 'P314A', 'P314B$1', 'P314B$2', 'P314B$3', 'P314B$4', 'P314B$5', 'P314B$6', 'P314B$7', 'P314B1_1', 'P314B1_2', 'P314B1_6', 'P314B1_7', 'P314B1_8', 'P314B1_9', 'P314D', 'P3151', 'P3152', 'P3153', 'P3154', 'P3155', 'P3156', 'P315A', 'P315B', 'P315B2', 'P315B3', 'P315B4', 'P315B5', 'P315B6', 'P316$1', 'P316$2', 'P316$3', 'P316$4', 'P316$5', 'P316$6', 'P316$7', 'P316$8', 'P316$9', 'P316$10', 'P316$11', 'P316$12', 'P316A1', 'P316A2', 'P316A3', 'P316A4', 'P316A5', 'P316A6', 'P316B', 'P316C1', 'P316C2', 'P316C3', 'P316C4', 'P316C5', 'P316C6', 'P316C7', 'P316C8', 'P316C9', 'P316C10', 'T313A', 'P203', 'P204', 'P205', 'P206', 'P207', 'P208A', 'P209', 'IMPUTADO', 'TICUEST01A', 'D311B$1', 'D311D2$1', 'D311D3$1', 'D311D4$1', 'D311D5$1', 'D311D6$1', 'D311D7$1', 'D311D$1', 'D311B$2', 'D311D2$2', 'D311D3$2', 'D311D4$2', 'D311D5$2', 'D311D6$2', 'D311D7$2', 'D311D$2', 'D311B$3', 'D311D2$3', 'D311D3$3', 'D311D4$3', 'D311D5$3', 'D311D6$3', 'D311D7$3', 'D311D$3', 'D311B$4', 'D311D2$4', 'D311D3$4', 'D311D4$4', 'D311D5$4', 'D311D6$4', 'D311D7$4', 'D311D$4', 'D311B$5', 'D311D2$5', 'D311D3$5', 'D311D4$5', 'D311D5$5', 'D311D6$5', 'D311D7$5', 'D311D$5', 'D311B$6', 'D311D2$6', 'D311D3$6', 'D311D4$6', 'D311D5$6', 'D311D6$6', 'D311D7$6', 'D311D$6', 'D311B$7', 'D311D2$7', 'D311D3$7', 'D311D4$7', 'D311D5$7', 'D311D6$7', 'D311D7$7', 'D311D$7', 'D3121B', 'D3121C2', 'D3121C3', 'D3121C4', 'D3121C5', 'D3121C6', 'D3121C', 'D3122B', 'D3122C2', 'D3122C3', 'D3122C4', 'D3122C5', 'D3122C6', 'D3122C', 'D315A', 'D315B2', 'D315B3', 'D315B4', 'D315B5', 'D315B6', 'D315B', 'I311B$1', 'I311B$2', 'I311B$4', 'I311B$6', 'I311B$3', 'I311B$5', 'I311B$7', 'I311D2$1', 'I311D3$1', 'I311D4$1', 'I311D5$1', 'I311D6$1', 'I311D7$1', 'I311D2$2', 'I311D3$2', 'I311D4$2', 'I311D5$2', 'I311D6$2', 'I311D7$2', 'I311D2$4', 'I311D3$4', 'I311D4$4', 'I311D5$4', 'I311D6$4', 'I311D7$4', 'I311D2$6', 'I311D3$6', 'I311D4$6', 'I311D5$6', 'I311D6$6', 'I311D7$6', 'I311D2$3', 'I311D3$3', 'I311D4$3', 'I311D5$3', 'I311D6$3', 'I311D7$3', 'I311D2$5', 'I311D3$5', 'I311D4$5', 'I311D5$5', 'I311D6$5', 'I311D7$5', 'I311D2$7', 'I311D3$7', 'I311D4$7', 'I311D5$7', 'I311D6$7', 'I311D7$7', 'I3121B', 'I3122B', 'I3121C2', 'I3121C3', 'I3121C4', 'I3121C5', 'I3121C6', 'I3122C2', 'I3122C3', 'I3122C4', 'I3122C5', 'I3122C6', 'I315A', 'I315B2', 'I315B3', 'I315B4', 'I315B5', 'I315B6', 'I311D$1', 'I311D$2', 'I311D$3', 'I311D$4', 'I311D$5', 'I311D$6', 'I311D$7', 'I3121C', 'I3122C', 'I315B', 'FACTOR07', 'FACTORA07', 'NCONGLOME', 'SUB_CONGLOME']\n"
     ]
    }
   ],
   "source": [
    "columnas_edu = df_edu.columns.tolist()\n",
    "print(\"Columnas del dataset de Educación:\")\n",
    "print(columnas_edu)"
   ]
  },
  {
   "cell_type": "markdown",
   "id": "2d746d93-b809-40a1-ab90-3c6805d3fb17",
   "metadata": {},
   "source": [
    "####  Mostramos los tipos de datos"
   ]
  },
  {
   "cell_type": "code",
   "execution_count": 125,
   "id": "a447527f-b69c-4a27-9101-b2d349e50948",
   "metadata": {},
   "outputs": [
    {
     "name": "stdout",
     "output_type": "stream",
     "text": [
      "Tipos de datos:\n",
      "AŅO               int64\n",
      "MES               int64\n",
      "CONGLOME          int64\n",
      "VIVIENDA          int64\n",
      "HOGAR             int64\n",
      "                 ...   \n",
      "I315B            object\n",
      "FACTOR07        float64\n",
      "FACTORA07       float64\n",
      "NCONGLOME         int64\n",
      "SUB_CONGLOME      int64\n",
      "Length: 511, dtype: object\n"
     ]
    }
   ],
   "source": [
    "print(\"Tipos de datos:\")\n",
    "print(df_edu.dtypes)"
   ]
  },
  {
   "cell_type": "markdown",
   "id": "f968270a-ea81-4fde-a35f-0102d57e094f",
   "metadata": {},
   "source": [
    "## 2. Manipulación de data y limpieza de datos"
   ]
  },
  {
   "cell_type": "markdown",
   "id": "a28d727f-6bc0-447d-b1bd-5e26c81e6226",
   "metadata": {},
   "source": [
    "#### Exploramos la data y usamos funciones de summary para un subsample de variables "
   ]
  },
  {
   "cell_type": "code",
   "execution_count": 127,
   "id": "64021fd2-3990-4ac3-acff-b1e91ec2e593",
   "metadata": {},
   "outputs": [
    {
     "data": {
      "text/html": [
       "<div>\n",
       "<style scoped>\n",
       "    .dataframe tbody tr th:only-of-type {\n",
       "        vertical-align: middle;\n",
       "    }\n",
       "\n",
       "    .dataframe tbody tr th {\n",
       "        vertical-align: top;\n",
       "    }\n",
       "\n",
       "    .dataframe thead th {\n",
       "        text-align: right;\n",
       "    }\n",
       "</style>\n",
       "<table border=\"1\" class=\"dataframe\">\n",
       "  <thead>\n",
       "    <tr style=\"text-align: right;\">\n",
       "      <th></th>\n",
       "      <th>CONGLOME</th>\n",
       "      <th>VIVIENDA</th>\n",
       "      <th>HOGAR</th>\n",
       "      <th>CODPERSO</th>\n",
       "      <th>P301A</th>\n",
       "      <th>P301B</th>\n",
       "      <th>P301C</th>\n",
       "      <th>P311B$4</th>\n",
       "    </tr>\n",
       "  </thead>\n",
       "  <tbody>\n",
       "    <tr>\n",
       "      <th>0</th>\n",
       "      <td>5030</td>\n",
       "      <td>2</td>\n",
       "      <td>11</td>\n",
       "      <td>1</td>\n",
       "      <td>8</td>\n",
       "      <td>3</td>\n",
       "      <td></td>\n",
       "      <td></td>\n",
       "    </tr>\n",
       "    <tr>\n",
       "      <th>1</th>\n",
       "      <td>5030</td>\n",
       "      <td>2</td>\n",
       "      <td>11</td>\n",
       "      <td>2</td>\n",
       "      <td>10</td>\n",
       "      <td>5</td>\n",
       "      <td></td>\n",
       "      <td></td>\n",
       "    </tr>\n",
       "    <tr>\n",
       "      <th>2</th>\n",
       "      <td>5030</td>\n",
       "      <td>2</td>\n",
       "      <td>11</td>\n",
       "      <td>3</td>\n",
       "      <td>3</td>\n",
       "      <td>0</td>\n",
       "      <td>4</td>\n",
       "      <td>68</td>\n",
       "    </tr>\n",
       "    <tr>\n",
       "      <th>3</th>\n",
       "      <td>5030</td>\n",
       "      <td>2</td>\n",
       "      <td>11</td>\n",
       "      <td>4</td>\n",
       "      <td>3</td>\n",
       "      <td>0</td>\n",
       "      <td>1</td>\n",
       "      <td>5</td>\n",
       "    </tr>\n",
       "    <tr>\n",
       "      <th>4</th>\n",
       "      <td>5030</td>\n",
       "      <td>11</td>\n",
       "      <td>11</td>\n",
       "      <td>1</td>\n",
       "      <td>4</td>\n",
       "      <td>5</td>\n",
       "      <td></td>\n",
       "      <td></td>\n",
       "    </tr>\n",
       "    <tr>\n",
       "      <th>...</th>\n",
       "      <td>...</td>\n",
       "      <td>...</td>\n",
       "      <td>...</td>\n",
       "      <td>...</td>\n",
       "      <td>...</td>\n",
       "      <td>...</td>\n",
       "      <td>...</td>\n",
       "      <td>...</td>\n",
       "    </tr>\n",
       "    <tr>\n",
       "      <th>108349</th>\n",
       "      <td>20670</td>\n",
       "      <td>67</td>\n",
       "      <td>11</td>\n",
       "      <td>5</td>\n",
       "      <td>1</td>\n",
       "      <td></td>\n",
       "      <td></td>\n",
       "      <td></td>\n",
       "    </tr>\n",
       "    <tr>\n",
       "      <th>108350</th>\n",
       "      <td>20670</td>\n",
       "      <td>68</td>\n",
       "      <td>11</td>\n",
       "      <td>1</td>\n",
       "      <td>5</td>\n",
       "      <td>3</td>\n",
       "      <td></td>\n",
       "      <td></td>\n",
       "    </tr>\n",
       "    <tr>\n",
       "      <th>108351</th>\n",
       "      <td>20670</td>\n",
       "      <td>69</td>\n",
       "      <td>11</td>\n",
       "      <td>1</td>\n",
       "      <td>3</td>\n",
       "      <td>0</td>\n",
       "      <td>3</td>\n",
       "      <td></td>\n",
       "    </tr>\n",
       "    <tr>\n",
       "      <th>108352</th>\n",
       "      <td>20670</td>\n",
       "      <td>69</td>\n",
       "      <td>11</td>\n",
       "      <td>2</td>\n",
       "      <td>4</td>\n",
       "      <td>0</td>\n",
       "      <td>6</td>\n",
       "      <td></td>\n",
       "    </tr>\n",
       "    <tr>\n",
       "      <th>108353</th>\n",
       "      <td>20670</td>\n",
       "      <td>69</td>\n",
       "      <td>11</td>\n",
       "      <td>3</td>\n",
       "      <td>6</td>\n",
       "      <td>5</td>\n",
       "      <td></td>\n",
       "      <td></td>\n",
       "    </tr>\n",
       "  </tbody>\n",
       "</table>\n",
       "<p>108354 rows × 8 columns</p>\n",
       "</div>"
      ],
      "text/plain": [
       "        CONGLOME  VIVIENDA  HOGAR  CODPERSO  P301A P301B P301C P311B$4\n",
       "0           5030         2     11         1      8     3              \n",
       "1           5030         2     11         2     10     5              \n",
       "2           5030         2     11         3      3     0     4      68\n",
       "3           5030         2     11         4      3     0     1       5\n",
       "4           5030        11     11         1      4     5              \n",
       "...          ...       ...    ...       ...    ...   ...   ...     ...\n",
       "108349     20670        67     11         5      1                    \n",
       "108350     20670        68     11         1      5     3              \n",
       "108351     20670        69     11         1      3     0     3        \n",
       "108352     20670        69     11         2      4     0     6        \n",
       "108353     20670        69     11         3      6     5              \n",
       "\n",
       "[108354 rows x 8 columns]"
      ]
     },
     "execution_count": 127,
     "metadata": {},
     "output_type": "execute_result"
    }
   ],
   "source": [
    "cols_base = ['CONGLOME', 'VIVIENDA', 'HOGAR', 'CODPERSO']\n",
    "cols_extra_edu = ['P301A', 'P301B', 'P301C', 'P311B$4'] \n",
    "edu_sub = df_edu[cols_base + cols_extra_edu]\n",
    "edu_sub"
   ]
  },
  {
   "cell_type": "markdown",
   "id": "3e6b92b7-86ec-4fb3-a8f7-c59d1bbdeb25",
   "metadata": {},
   "source": [
    "Presentamos los summary de las variables seleccionadas"
   ]
  },
  {
   "cell_type": "code",
   "execution_count": 129,
   "id": "cc570a80-366e-412d-b323-56b2bea3e9fa",
   "metadata": {},
   "outputs": [
    {
     "name": "stdout",
     "output_type": "stream",
     "text": [
      "Resumen estadístico:\n",
      "             CONGLOME       VIVIENDA          HOGAR       CODPERSO  \\\n",
      "count   108354.000000  108354.000000  108354.000000  108354.000000   \n",
      "unique            NaN            NaN            NaN            NaN   \n",
      "top               NaN            NaN            NaN            NaN   \n",
      "freq              NaN            NaN            NaN            NaN   \n",
      "mean     16944.756797      77.820330      11.146271       2.546293   \n",
      "std       3144.386733      68.547022       1.370084       1.577737   \n",
      "min       5007.000000       1.000000      11.000000       1.000000   \n",
      "25%      16028.000000      31.000000      11.000000       1.000000   \n",
      "50%      17500.000000      66.000000      11.000000       2.000000   \n",
      "75%      19014.000000     106.000000      11.000000       3.000000   \n",
      "max      21001.000000     991.000000      44.000000      22.000000   \n",
      "\n",
      "                P301A   P301B   P301C P311B$4  \n",
      "count   108354.000000  108354  108354  108354  \n",
      "unique            NaN      10       9     852  \n",
      "top               NaN       5                  \n",
      "freq              NaN   33141   83572   81452  \n",
      "mean         5.258652     NaN     NaN     NaN  \n",
      "std          3.807669     NaN     NaN     NaN  \n",
      "min          1.000000     NaN     NaN     NaN  \n",
      "25%          3.000000     NaN     NaN     NaN  \n",
      "50%          5.000000     NaN     NaN     NaN  \n",
      "75%          6.000000     NaN     NaN     NaN  \n",
      "max         99.000000     NaN     NaN     NaN  \n"
     ]
    }
   ],
   "source": [
    "print(\"Resumen estadístico:\")\n",
    "print(edu_sub.describe(include='all'))"
   ]
  },
  {
   "cell_type": "markdown",
   "id": "c065cc6d-0e6f-470d-b1c7-9c7d9f32cb12",
   "metadata": {},
   "source": [
    "Identificamos y removemos los valores perdidos"
   ]
  },
  {
   "cell_type": "code",
   "execution_count": 130,
   "id": "5c33cf9c-5d33-4df7-9ec3-706d450b8f81",
   "metadata": {},
   "outputs": [
    {
     "name": "stdout",
     "output_type": "stream",
     "text": [
      "Valores nulos por columna:\n",
      "CONGLOME    0\n",
      "VIVIENDA    0\n",
      "HOGAR       0\n",
      "CODPERSO    0\n",
      "P301A       0\n",
      "P301B       0\n",
      "P301C       0\n",
      "P311B$4     0\n",
      "dtype: int64\n"
     ]
    }
   ],
   "source": [
    "print(\"Valores nulos por columna:\")\n",
    "print(edu_sub.isnull().sum())\n",
    "\n",
    "edu_sub_clean = edu_sub.dropna()"
   ]
  },
  {
   "cell_type": "markdown",
   "id": "c616d5ef-d059-4f21-921a-261dcb2cfb8c",
   "metadata": {},
   "source": [
    "# 3. Importar dataset de Vivienda (200) y explorar los datos"
   ]
  },
  {
   "cell_type": "code",
   "execution_count": 131,
   "id": "eb2f2632-3c71-47ec-8abb-8202399a0d4e",
   "metadata": {},
   "outputs": [],
   "source": [
    "# Importar módulo Vivienda (200)\n",
    "file_200 = os.path.join(data_dir, '/Users/andreachavez/Documents/GitHub/Diplomado_PUCP/Lecture_2/Assignment_2/group_7_assignment2_2025/Enaho01-2023-200.csv')\n",
    "df_viv = pd.read_csv(file_200, encoding='ISO-8859-10')\n"
   ]
  },
  {
   "cell_type": "markdown",
   "id": "889928b4-0b98-49de-bd14-02934b37bed2",
   "metadata": {},
   "source": [
    "#### Mostramos las 5 primera filas del dataset de Vivienda"
   ]
  },
  {
   "cell_type": "code",
   "execution_count": 132,
   "id": "86b6b954-9a91-4b73-9c73-09941bd628e4",
   "metadata": {},
   "outputs": [
    {
     "data": {
      "text/html": [
       "<div>\n",
       "<style scoped>\n",
       "    .dataframe tbody tr th:only-of-type {\n",
       "        vertical-align: middle;\n",
       "    }\n",
       "\n",
       "    .dataframe tbody tr th {\n",
       "        vertical-align: top;\n",
       "    }\n",
       "\n",
       "    .dataframe thead th {\n",
       "        text-align: right;\n",
       "    }\n",
       "</style>\n",
       "<table border=\"1\" class=\"dataframe\">\n",
       "  <thead>\n",
       "    <tr style=\"text-align: right;\">\n",
       "      <th></th>\n",
       "      <th>AŅO</th>\n",
       "      <th>MES</th>\n",
       "      <th>CONGLOME</th>\n",
       "      <th>VIVIENDA</th>\n",
       "      <th>HOGAR</th>\n",
       "      <th>CODPERSO</th>\n",
       "      <th>UBIGEO</th>\n",
       "      <th>DOMINIO</th>\n",
       "      <th>ESTRATO</th>\n",
       "      <th>P201P</th>\n",
       "      <th>...</th>\n",
       "      <th>OCUPAC_R3</th>\n",
       "      <th>OCUPAC_R4</th>\n",
       "      <th>RAMA_R3</th>\n",
       "      <th>RAMA_R4</th>\n",
       "      <th>CODTAREA</th>\n",
       "      <th>CODTIEMPO</th>\n",
       "      <th>TICUEST01</th>\n",
       "      <th>FACPOB07</th>\n",
       "      <th>NCONGLOME</th>\n",
       "      <th>SUB_CONGLOME</th>\n",
       "    </tr>\n",
       "  </thead>\n",
       "  <tbody>\n",
       "    <tr>\n",
       "      <th>0</th>\n",
       "      <td>2023</td>\n",
       "      <td>2</td>\n",
       "      <td>5007</td>\n",
       "      <td>22</td>\n",
       "      <td>11</td>\n",
       "      <td>1</td>\n",
       "      <td>10101</td>\n",
       "      <td>4</td>\n",
       "      <td>4</td>\n",
       "      <td>20190050070221101</td>\n",
       "      <td>...</td>\n",
       "      <td></td>\n",
       "      <td></td>\n",
       "      <td></td>\n",
       "      <td></td>\n",
       "      <td></td>\n",
       "      <td></td>\n",
       "      <td>2</td>\n",
       "      <td>50.466671</td>\n",
       "      <td>7070</td>\n",
       "      <td>0</td>\n",
       "    </tr>\n",
       "    <tr>\n",
       "      <th>1</th>\n",
       "      <td>2023</td>\n",
       "      <td>2</td>\n",
       "      <td>5007</td>\n",
       "      <td>22</td>\n",
       "      <td>11</td>\n",
       "      <td>2</td>\n",
       "      <td>10101</td>\n",
       "      <td>4</td>\n",
       "      <td>4</td>\n",
       "      <td>20190050070221102</td>\n",
       "      <td>...</td>\n",
       "      <td></td>\n",
       "      <td></td>\n",
       "      <td></td>\n",
       "      <td></td>\n",
       "      <td></td>\n",
       "      <td></td>\n",
       "      <td>2</td>\n",
       "      <td>50.466671</td>\n",
       "      <td>7070</td>\n",
       "      <td>0</td>\n",
       "    </tr>\n",
       "    <tr>\n",
       "      <th>2</th>\n",
       "      <td>2023</td>\n",
       "      <td>2</td>\n",
       "      <td>5007</td>\n",
       "      <td>22</td>\n",
       "      <td>11</td>\n",
       "      <td>3</td>\n",
       "      <td>10101</td>\n",
       "      <td>4</td>\n",
       "      <td>4</td>\n",
       "      <td>20190050070221104</td>\n",
       "      <td>...</td>\n",
       "      <td></td>\n",
       "      <td></td>\n",
       "      <td></td>\n",
       "      <td></td>\n",
       "      <td></td>\n",
       "      <td></td>\n",
       "      <td>2</td>\n",
       "      <td>50.466671</td>\n",
       "      <td>7070</td>\n",
       "      <td>0</td>\n",
       "    </tr>\n",
       "    <tr>\n",
       "      <th>3</th>\n",
       "      <td>2023</td>\n",
       "      <td>2</td>\n",
       "      <td>5007</td>\n",
       "      <td>31</td>\n",
       "      <td>11</td>\n",
       "      <td>1</td>\n",
       "      <td>10101</td>\n",
       "      <td>4</td>\n",
       "      <td>4</td>\n",
       "      <td>20190050070311102</td>\n",
       "      <td>...</td>\n",
       "      <td></td>\n",
       "      <td></td>\n",
       "      <td></td>\n",
       "      <td></td>\n",
       "      <td></td>\n",
       "      <td></td>\n",
       "      <td>2</td>\n",
       "      <td>50.466671</td>\n",
       "      <td>7070</td>\n",
       "      <td>0</td>\n",
       "    </tr>\n",
       "    <tr>\n",
       "      <th>4</th>\n",
       "      <td>2023</td>\n",
       "      <td>2</td>\n",
       "      <td>5007</td>\n",
       "      <td>31</td>\n",
       "      <td>11</td>\n",
       "      <td>2</td>\n",
       "      <td>10101</td>\n",
       "      <td>4</td>\n",
       "      <td>4</td>\n",
       "      <td>20230050070311102</td>\n",
       "      <td>...</td>\n",
       "      <td></td>\n",
       "      <td></td>\n",
       "      <td></td>\n",
       "      <td></td>\n",
       "      <td></td>\n",
       "      <td></td>\n",
       "      <td>2</td>\n",
       "      <td>50.466671</td>\n",
       "      <td>7070</td>\n",
       "      <td>0</td>\n",
       "    </tr>\n",
       "  </tbody>\n",
       "</table>\n",
       "<p>5 rows × 40 columns</p>\n",
       "</div>"
      ],
      "text/plain": [
       "    AŅO  MES  CONGLOME  VIVIENDA  HOGAR  CODPERSO  UBIGEO  DOMINIO  ESTRATO  \\\n",
       "0  2023    2      5007        22     11         1   10101        4        4   \n",
       "1  2023    2      5007        22     11         2   10101        4        4   \n",
       "2  2023    2      5007        22     11         3   10101        4        4   \n",
       "3  2023    2      5007        31     11         1   10101        4        4   \n",
       "4  2023    2      5007        31     11         2   10101        4        4   \n",
       "\n",
       "               P201P  ...  OCUPAC_R3 OCUPAC_R4 RAMA_R3 RAMA_R4 CODTAREA  \\\n",
       "0  20190050070221101  ...                                                 \n",
       "1  20190050070221102  ...                                                 \n",
       "2  20190050070221104  ...                                                 \n",
       "3  20190050070311102  ...                                                 \n",
       "4  20230050070311102  ...                                                 \n",
       "\n",
       "  CODTIEMPO TICUEST01   FACPOB07 NCONGLOME SUB_CONGLOME  \n",
       "0                   2  50.466671      7070            0  \n",
       "1                   2  50.466671      7070            0  \n",
       "2                   2  50.466671      7070            0  \n",
       "3                   2  50.466671      7070            0  \n",
       "4                   2  50.466671      7070            0  \n",
       "\n",
       "[5 rows x 40 columns]"
      ]
     },
     "execution_count": 132,
     "metadata": {},
     "output_type": "execute_result"
    }
   ],
   "source": [
    "# Primeras 5 filas\n",
    "df_viv.head()"
   ]
  },
  {
   "cell_type": "code",
   "execution_count": 79,
   "id": "624cf9ee-5a37-43be-9d92-b137757f44d2",
   "metadata": {},
   "outputs": [
    {
     "name": "stdout",
     "output_type": "stream",
     "text": [
      "Index(['AŅO', 'MES', 'CONGLOME', 'VIVIENDA', 'HOGAR', 'CODPERSO', 'UBIGEO',\n",
      "       'DOMINIO', 'ESTRATO', 'P201P', 'P203', 'P203A', 'P203B', 'P204', 'P205',\n",
      "       'P206', 'P207', 'P208A', 'P208B', 'P209', 'P210', 'P211A', 'P211D',\n",
      "       'P212', 'P213', 'P214', 'P215', 'P216', 'P217', 'T211', 'OCUPAC_R3',\n",
      "       'OCUPAC_R4', 'RAMA_R3', 'RAMA_R4', 'CODTAREA', 'CODTIEMPO', 'TICUEST01',\n",
      "       'FACPOB07', 'NCONGLOME', 'SUB_CONGLOME'],\n",
      "      dtype='object')\n"
     ]
    }
   ],
   "source": [
    "#Primero revisamos cuáles son los nombres de las columnas\n",
    "print(df_viv.columns)"
   ]
  },
  {
   "cell_type": "markdown",
   "id": "8959354d-1ed5-416e-b710-b364c5ff56e7",
   "metadata": {},
   "source": [
    "#### Convertimos las columnas en una lista y la imprimimos"
   ]
  },
  {
   "cell_type": "code",
   "execution_count": 80,
   "id": "0c09867e-8c3d-4fca-97df-afe9989d640e",
   "metadata": {},
   "outputs": [
    {
     "name": "stdout",
     "output_type": "stream",
     "text": [
      "['AŅO', 'MES', 'CONGLOME', 'VIVIENDA', 'HOGAR', 'CODPERSO', 'UBIGEO', 'DOMINIO', 'ESTRATO', 'P201P', 'P203', 'P203A', 'P203B', 'P204', 'P205', 'P206', 'P207', 'P208A', 'P208B', 'P209', 'P210', 'P211A', 'P211D', 'P212', 'P213', 'P214', 'P215', 'P216', 'P217', 'T211', 'OCUPAC_R3', 'OCUPAC_R4', 'RAMA_R3', 'RAMA_R4', 'CODTAREA', 'CODTIEMPO', 'TICUEST01', 'FACPOB07', 'NCONGLOME', 'SUB_CONGLOME']\n"
     ]
    }
   ],
   "source": [
    "#Los convertimos en una lista para imprimirlas\n",
    "columnas = df_viv.columns.tolist()\n",
    "print(columnas)"
   ]
  },
  {
   "cell_type": "code",
   "execution_count": 81,
   "id": "d6ccf496-1c10-4836-bb67-937ed8cad418",
   "metadata": {},
   "outputs": [
    {
     "name": "stdout",
     "output_type": "stream",
     "text": [
      "<class 'list'>\n"
     ]
    }
   ],
   "source": [
    "#Verificamos que es una lista \n",
    "print(type(columnas))"
   ]
  },
  {
   "cell_type": "markdown",
   "id": "fd0b746f-6054-4346-acc7-84b2fac314bb",
   "metadata": {},
   "source": [
    "#### Verificamos el tipo de datos"
   ]
  },
  {
   "cell_type": "code",
   "execution_count": 133,
   "id": "aa27cd20-b889-4122-a2d9-eb06a34b601e",
   "metadata": {},
   "outputs": [
    {
     "name": "stdout",
     "output_type": "stream",
     "text": [
      "AŅO               int64\n",
      "MES               int64\n",
      "CONGLOME          int64\n",
      "VIVIENDA          int64\n",
      "HOGAR             int64\n",
      "CODPERSO          int64\n",
      "UBIGEO            int64\n",
      "DOMINIO           int64\n",
      "ESTRATO           int64\n",
      "P201P             int64\n",
      "P203              int64\n",
      "P203A            object\n",
      "P203B            object\n",
      "P204             object\n",
      "P205             object\n",
      "P206             object\n",
      "P207             object\n",
      "P208A            object\n",
      "P208B            object\n",
      "P209             object\n",
      "P210             object\n",
      "P211A            object\n",
      "P211D            object\n",
      "P212             object\n",
      "P213             object\n",
      "P214             object\n",
      "P215             object\n",
      "P216             object\n",
      "P217             object\n",
      "T211             object\n",
      "OCUPAC_R3        object\n",
      "OCUPAC_R4        object\n",
      "RAMA_R3          object\n",
      "RAMA_R4          object\n",
      "CODTAREA         object\n",
      "CODTIEMPO        object\n",
      "TICUEST01         int64\n",
      "FACPOB07        float64\n",
      "NCONGLOME         int64\n",
      "SUB_CONGLOME      int64\n",
      "dtype: object\n"
     ]
    }
   ],
   "source": [
    "print(df_viv.dtypes)"
   ]
  },
  {
   "cell_type": "markdown",
   "id": "1812e8c5-218a-44b2-b5fd-f89b9b1de452",
   "metadata": {},
   "source": [
    "#### Seleccionamos una submuestra"
   ]
  },
  {
   "cell_type": "code",
   "execution_count": 134,
   "id": "fa5ae65f-cbe5-478e-8919-c595139f9f43",
   "metadata": {},
   "outputs": [],
   "source": [
    "#seleccionamos las variables y creamos un subsample\n",
    "viv_sub= df_viv[[\n",
    "    'CONGLOME', 'VIVIENDA', 'HOGAR', 'CODPERSO',\n",
    "    'DOMINIO', 'P204', 'P205', 'P206']].copy() "
   ]
  },
  {
   "cell_type": "code",
   "execution_count": 135,
   "id": "25a77b7a-a427-4bbb-b1db-f5f1c83c476b",
   "metadata": {},
   "outputs": [
    {
     "name": "stdout",
     "output_type": "stream",
     "text": [
      "        CONGLOME  VIVIENDA  HOGAR  CODPERSO  DOMINIO P204 P205 P206\n",
      "0           5007        22     11         1        4    1    2     \n",
      "1           5007        22     11         2        4    1    2     \n",
      "2           5007        22     11         3        4    1    2     \n",
      "3           5007        31     11         1        4    1    2     \n",
      "4           5007        31     11         2        4    2         2\n",
      "...          ...       ...    ...       ...      ...  ...  ...  ...\n",
      "119742     21001        60     11         2        6    1    2     \n",
      "119743     21001        60     11         3        6    2         2\n",
      "119744     21001        63     11         1        6    1    2     \n",
      "119745     21001        64     11         1        6    1    2     \n",
      "119746     21001        64     11         2        6    1    2     \n",
      "\n",
      "[119747 rows x 8 columns]\n"
     ]
    }
   ],
   "source": [
    "print(viv_sub)"
   ]
  },
  {
   "cell_type": "markdown",
   "id": "9dd16e3b-3164-4811-b345-fbc66673ee80",
   "metadata": {},
   "source": [
    "#### A. Cambiamos un tipo de variable "
   ]
  },
  {
   "cell_type": "markdown",
   "id": "cc4677b8-eabc-4bf9-ae59-89db8a8fe848",
   "metadata": {},
   "source": [
    "Convertiremos la 'P204' (¿Es miembro del hogar?) a numérica."
   ]
  },
  {
   "cell_type": "code",
   "execution_count": 60,
   "id": "c791cff1-0fe2-405b-b6ea-c0fcba197018",
   "metadata": {},
   "outputs": [],
   "source": [
    "viv_sub['P204'] = pd.to_numeric(viv_sub['P204'], errors='coerce')"
   ]
  },
  {
   "cell_type": "code",
   "execution_count": 136,
   "id": "a202b692-d612-4b70-9828-ebf9b2ec4034",
   "metadata": {},
   "outputs": [
    {
     "name": "stdout",
     "output_type": "stream",
     "text": [
      "object\n"
     ]
    }
   ],
   "source": [
    "#verificamos el tipo y es númerica de tipo float64\n",
    "print(viv_sub['P204'].dtype)"
   ]
  },
  {
   "cell_type": "markdown",
   "id": "dcd75031-8c5e-4363-bfae-b4e048113373",
   "metadata": {},
   "source": [
    "####  B. Reemplazamos los valores de 'P205'"
   ]
  },
  {
   "cell_type": "markdown",
   "id": "e956af8f-e42e-49bf-a993-aaef16d42b4a",
   "metadata": {},
   "source": [
    "Reemplazaremos la variable DOMINIO de números a dominios"
   ]
  },
  {
   "cell_type": "code",
   "execution_count": 138,
   "id": "063817c2-6292-4172-bea6-f86c26653c04",
   "metadata": {},
   "outputs": [],
   "source": [
    "viv_sub.DOMINIO.replace({1: 'Costa Norte' ,\n",
    "2: 'Costa Centro',\n",
    "3 :'Costa Sur',\n",
    "4 : 'Sierra Norte',\n",
    "5 : 'Sierra Centro',\n",
    "6 : 'Sierra Sur',\n",
    "7 : 'Selva',\n",
    "8 : 'Lima Metropolitana'}, inplace=True)\n"
   ]
  },
  {
   "cell_type": "code",
   "execution_count": 139,
   "id": "13af2af8-7b7a-46ad-bc9e-42098e9e6f57",
   "metadata": {},
   "outputs": [
    {
     "data": {
      "text/plain": [
       "0    Sierra Norte\n",
       "1    Sierra Norte\n",
       "2    Sierra Norte\n",
       "3    Sierra Norte\n",
       "4    Sierra Norte\n",
       "Name: DOMINIO, dtype: object"
      ]
     },
     "execution_count": 139,
     "metadata": {},
     "output_type": "execute_result"
    }
   ],
   "source": [
    "#verificamos los valores actuales de la pregunta\n",
    "viv_sub.DOMINIO.head()"
   ]
  },
  {
   "cell_type": "markdown",
   "id": "7cf232e7-4cb5-4e9b-9a8b-edf20823102d",
   "metadata": {},
   "source": [
    "# 4. Fusión de Datasets (Merging Datasets)"
   ]
  },
  {
   "cell_type": "code",
   "execution_count": 89,
   "id": "a383bdd5-9b4e-4db7-9467-5e6582ab3837",
   "metadata": {},
   "outputs": [
    {
     "name": "stdout",
     "output_type": "stream",
     "text": [
      "Registros coincidentes en claves comunes: 108354\n"
     ]
    }
   ],
   "source": [
    "# Definir columnas comunes para fusionar\n",
    "common_columns = ['CONGLOME', 'VIVIENDA', 'HOGAR', 'CODPERSO']\n",
    "\n",
    "# Verificar registros coincidentes entre ambas submuestras\n",
    "merged_keys = edu_sub_clean[common_columns].merge(viv_sub[common_columns], on=common_columns, how='inner')\n",
    "print(f\"Registros coincidentes en claves comunes: {len(merged_keys)}\")\n"
   ]
  },
  {
   "cell_type": "markdown",
   "id": "402aad30-ff55-4583-9ac1-441a8d18eef3",
   "metadata": {},
   "source": [
    "#### Realizamos la fusión luego de verificar las columnas comunes"
   ]
  },
  {
   "cell_type": "code",
   "execution_count": 108,
   "id": "9bb5ff61-01c4-4dc9-b6d6-51428f9d9ef7",
   "metadata": {},
   "outputs": [
    {
     "name": "stdout",
     "output_type": "stream",
     "text": [
      "\n",
      "Primeras 5 filas del DataFrame fusionado:\n"
     ]
    },
    {
     "data": {
      "text/html": [
       "<div>\n",
       "<style scoped>\n",
       "    .dataframe tbody tr th:only-of-type {\n",
       "        vertical-align: middle;\n",
       "    }\n",
       "\n",
       "    .dataframe tbody tr th {\n",
       "        vertical-align: top;\n",
       "    }\n",
       "\n",
       "    .dataframe thead th {\n",
       "        text-align: right;\n",
       "    }\n",
       "</style>\n",
       "<table border=\"1\" class=\"dataframe\">\n",
       "  <thead>\n",
       "    <tr style=\"text-align: right;\">\n",
       "      <th></th>\n",
       "      <th>CONGLOME</th>\n",
       "      <th>VIVIENDA</th>\n",
       "      <th>HOGAR</th>\n",
       "      <th>CODPERSO</th>\n",
       "      <th>P301A</th>\n",
       "      <th>P301B</th>\n",
       "      <th>P301C</th>\n",
       "      <th>P311B$4</th>\n",
       "      <th>DOMINIO</th>\n",
       "      <th>P204</th>\n",
       "      <th>P205</th>\n",
       "      <th>P206</th>\n",
       "    </tr>\n",
       "  </thead>\n",
       "  <tbody>\n",
       "    <tr>\n",
       "      <th>0</th>\n",
       "      <td>5030</td>\n",
       "      <td>2</td>\n",
       "      <td>11</td>\n",
       "      <td>1</td>\n",
       "      <td>8</td>\n",
       "      <td>3</td>\n",
       "      <td></td>\n",
       "      <td></td>\n",
       "      <td>Selva</td>\n",
       "      <td>1.0</td>\n",
       "      <td>No</td>\n",
       "      <td></td>\n",
       "    </tr>\n",
       "    <tr>\n",
       "      <th>1</th>\n",
       "      <td>5030</td>\n",
       "      <td>2</td>\n",
       "      <td>11</td>\n",
       "      <td>2</td>\n",
       "      <td>10</td>\n",
       "      <td>5</td>\n",
       "      <td></td>\n",
       "      <td></td>\n",
       "      <td>Selva</td>\n",
       "      <td>1.0</td>\n",
       "      <td>No</td>\n",
       "      <td></td>\n",
       "    </tr>\n",
       "    <tr>\n",
       "      <th>2</th>\n",
       "      <td>5030</td>\n",
       "      <td>2</td>\n",
       "      <td>11</td>\n",
       "      <td>3</td>\n",
       "      <td>3</td>\n",
       "      <td>0</td>\n",
       "      <td>4</td>\n",
       "      <td>68</td>\n",
       "      <td>Selva</td>\n",
       "      <td>1.0</td>\n",
       "      <td>No</td>\n",
       "      <td></td>\n",
       "    </tr>\n",
       "    <tr>\n",
       "      <th>3</th>\n",
       "      <td>5030</td>\n",
       "      <td>2</td>\n",
       "      <td>11</td>\n",
       "      <td>4</td>\n",
       "      <td>3</td>\n",
       "      <td>0</td>\n",
       "      <td>1</td>\n",
       "      <td>5</td>\n",
       "      <td>Selva</td>\n",
       "      <td>1.0</td>\n",
       "      <td>No</td>\n",
       "      <td></td>\n",
       "    </tr>\n",
       "    <tr>\n",
       "      <th>4</th>\n",
       "      <td>5030</td>\n",
       "      <td>11</td>\n",
       "      <td>11</td>\n",
       "      <td>1</td>\n",
       "      <td>4</td>\n",
       "      <td>5</td>\n",
       "      <td></td>\n",
       "      <td></td>\n",
       "      <td>Selva</td>\n",
       "      <td>1.0</td>\n",
       "      <td>No</td>\n",
       "      <td></td>\n",
       "    </tr>\n",
       "  </tbody>\n",
       "</table>\n",
       "</div>"
      ],
      "text/plain": [
       "   CONGLOME  VIVIENDA  HOGAR  CODPERSO  P301A P301B P301C P311B$4 DOMINIO  \\\n",
       "0      5030         2     11         1      8     3                 Selva   \n",
       "1      5030         2     11         2     10     5                 Selva   \n",
       "2      5030         2     11         3      3     0     4      68   Selva   \n",
       "3      5030         2     11         4      3     0     1       5   Selva   \n",
       "4      5030        11     11         1      4     5                 Selva   \n",
       "\n",
       "   P204 P205 P206  \n",
       "0   1.0   No       \n",
       "1   1.0   No       \n",
       "2   1.0   No       \n",
       "3   1.0   No       \n",
       "4   1.0   No       "
      ]
     },
     "metadata": {},
     "output_type": "display_data"
    }
   ],
   "source": [
    "# Realizar fusión\n",
    "df_merged = pd.merge(edu_sub_clean, viv_sub, on=common_columns, how='inner')\n",
    "\n",
    "# Mostrar resultado\n",
    "print(\"\\nPrimeras 5 filas del DataFrame fusionado:\")\n",
    "display(df_merged.head())"
   ]
  },
  {
   "cell_type": "markdown",
   "id": "e4a264ef-5c68-435d-9f5b-636964100362",
   "metadata": {},
   "source": [
    "# 5. En el Dataframe resultante"
   ]
  },
  {
   "cell_type": "code",
   "execution_count": 141,
   "id": "9eb3e3fa-6d11-4f86-a719-ff6edd030897",
   "metadata": {},
   "outputs": [
    {
     "name": "stdout",
     "output_type": "stream",
     "text": [
      "float64\n"
     ]
    }
   ],
   "source": [
    "df_merged[\"P311B$4\"] = pd.to_numeric(df_merged[\"P311B$4\"], errors=\"coerce\")\n",
    "print(df_merged[\"P311B$4\"].dtype)"
   ]
  },
  {
   "cell_type": "code",
   "execution_count": 142,
   "id": "873722ea-20e2-46e8-9296-beba2c6224ba",
   "metadata": {},
   "outputs": [
    {
     "name": "stdout",
     "output_type": "stream",
     "text": [
      "Promedio de gasto en útiles escolares por dominio:\n",
      "              DOMINIO       P311B$4\n",
      "0        Costa Centro   3411.290960\n",
      "1         Costa Norte   5274.820112\n",
      "2           Costa Sur   8652.500352\n",
      "3  Lima Metropolitana  11427.812000\n",
      "4               Selva   3589.382683\n",
      "5       Sierra Centro   1527.216035\n",
      "6        Sierra Norte   4893.444378\n",
      "7          Sierra Sur  13166.127995\n"
     ]
    }
   ],
   "source": [
    "# Agrupar por dominio y calcular promedio de gasto en útiles escolares por dominio\n",
    "resultado = df_merged.groupby('DOMINIO')['P311B$4'].mean().reset_index()\n",
    "\n",
    "# Mostrar resultado\n",
    "print(\"Promedio de gasto en útiles escolares por dominio:\")\n",
    "print(resultado)"
   ]
  }
 ],
 "metadata": {
  "kernelspec": {
   "display_name": "Python [conda env:base] *",
   "language": "python",
   "name": "conda-base-py"
  },
  "language_info": {
   "codemirror_mode": {
    "name": "ipython",
    "version": 3
   },
   "file_extension": ".py",
   "mimetype": "text/x-python",
   "name": "python",
   "nbconvert_exporter": "python",
   "pygments_lexer": "ipython3",
   "version": "3.11.5"
  }
 },
 "nbformat": 4,
 "nbformat_minor": 5
}
