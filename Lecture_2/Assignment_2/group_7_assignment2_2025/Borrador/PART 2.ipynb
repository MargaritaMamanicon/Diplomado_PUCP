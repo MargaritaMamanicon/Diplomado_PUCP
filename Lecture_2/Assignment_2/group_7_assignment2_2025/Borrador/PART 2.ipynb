{
 "cells": [
  {
   "cell_type": "markdown",
   "id": "de58b242",
   "metadata": {},
   "source": [
    "## Parte 2 - If conditions\n",
    "Importamos las librerias"
   ]
  },
  {
   "cell_type": "code",
   "execution_count": 1,
   "id": "b070f2a0",
   "metadata": {},
   "outputs": [],
   "source": [
    "import numpy as np\n",
    "import pandas as pd"
   ]
  },
  {
   "cell_type": "markdown",
   "id": "1fdb2a01",
   "metadata": {},
   "source": [
    "### Pregunta 6\n",
    "Basic If Condition\n",
    "Write a Python function that checks if a given number is positive."
   ]
  },
  {
   "cell_type": "code",
   "execution_count": 2,
   "id": "250935a3",
   "metadata": {},
   "outputs": [
    {
     "name": "stdout",
     "output_type": "stream",
     "text": [
      "The number is positive.\n",
      "5\n"
     ]
    }
   ],
   "source": [
    "A = 5\n",
    "if A > 0:\n",
    "    print(\"The number is positive.\")\n",
    "else:\n",
    "    print(\"The number is not positive.\")\n",
    "\n",
    "print(A) "
   ]
  },
  {
   "cell_type": "code",
   "execution_count": 3,
   "id": "18e2e545",
   "metadata": {},
   "outputs": [
    {
     "name": "stdout",
     "output_type": "stream",
     "text": [
      "The number 5 is positive.\n",
      "The number -3 is not positive.\n",
      "The number 0 is not positive.\n"
     ]
    }
   ],
   "source": [
    "#otra forma de hallar esta pregunta\n",
    "\n",
    "def check_positive(a):\n",
    "    if a > 0:\n",
    "        return f\"The number {a} is positive.\"\n",
    "    else:\n",
    "        return f\"The number {a} is not positive.\"\n",
    "\n",
    "\n",
    "print(check_positive(5))   \n",
    "print(check_positive(-3))  \n",
    "print(check_positive(0)) "
   ]
  },
  {
   "cell_type": "markdown",
   "id": "2eb91d63",
   "metadata": {},
   "source": [
    "### Pregunta 7\n",
    "\n",
    "If Condition with Multiple Expressions\n",
    "Create a program that checks the temperature (in Celsius) and returns a message depending on the value:"
   ]
  },
  {
   "cell_type": "code",
   "execution_count": 4,
   "id": "673d74e1",
   "metadata": {},
   "outputs": [
    {
     "name": "stdout",
     "output_type": "stream",
     "text": [
      "It is freezing.\n",
      "It is cold.\n",
      "It is cold.\n",
      "It is warm.\n",
      "It is hot.\n"
     ]
    }
   ],
   "source": [
    "def check_temperature(temp):\n",
    "    if temp < 0:\n",
    "        return \"It is freezing.\"\n",
    "    elif 0 <= temp <= 20:\n",
    "        return \"It is cold.\"\n",
    "    elif 21 <= temp <= 30:\n",
    "        return \"It is warm.\"\n",
    "    else:\n",
    "        return \"It is hot.\"\n",
    "\n",
    "# Ejemplos\n",
    "print(check_temperature(-5))\n",
    "print(check_temperature(0)) \n",
    "print(check_temperature(15)) \n",
    "print(check_temperature(25))  \n",
    "print(check_temperature(35)) "
   ]
  },
  {
   "cell_type": "markdown",
   "id": "a1725c8c",
   "metadata": {},
   "source": [
    "### Pregunta 8\n",
    "\n",
    "Write a function that determines if a person is eligible for a scholarship based on these conditions:\n",
    "- The person must have a GPA greater than 3.5 AND\n",
    "- Either their extracurricular activities are \"Yes\" OR they have community service hours greater than 50."
   ]
  },
  {
   "cell_type": "code",
   "execution_count": 5,
   "id": "acf2c29a",
   "metadata": {},
   "outputs": [
    {
     "name": "stdout",
     "output_type": "stream",
     "text": [
      "Eligible for scholarship.\n",
      "Not eligible for scholarship.\n",
      "Eligible for scholarship.\n",
      "Not eligible for scholarship.\n",
      "Eligible for scholarship.\n",
      "Not eligible for scholarship.\n"
     ]
    }
   ],
   "source": [
    "def scholarship_eligibility(gpa, extracurricular, community_hours):\n",
    "    if gpa > 3.5 and (extracurricular == \"Yes\" or community_hours > 50):\n",
    "        return \"Eligible for scholarship.\"\n",
    "    else:\n",
    "        return \"Not eligible for scholarship.\"\n",
    "\n",
    "# Ejemplos\n",
    "print(scholarship_eligibility(3.8, \"Yes\", 20))  \n",
    "print(scholarship_eligibility(3.2, \"Yes\", 100))  \n",
    "print(scholarship_eligibility(3.9, \"No\", 60))    \n",
    "print(scholarship_eligibility(3.5, \"No\", 49.9))  \n",
    "print(scholarship_eligibility(5, \"Yes\", 60))\n",
    "print(scholarship_eligibility(3.5, \"Yes\", 49.9))\n"
   ]
  },
  {
   "cell_type": "markdown",
   "id": "d823f5c1",
   "metadata": {},
   "source": [
    "### Pregunta 9\n",
    "Create two lists:\n",
    "list1 = [1, 2, 3]\n",
    "list2 = [1, 2, 3]\n",
    "list3 = list1 \n",
    "\n",
    "Check with identity operators:\n",
    "\n",
    "list1 is list2\n",
    "list1 is list3\n",
    "list1 == list2 "
   ]
  },
  {
   "cell_type": "code",
   "execution_count": 6,
   "id": "984f8ab9",
   "metadata": {},
   "outputs": [
    {
     "name": "stdout",
     "output_type": "stream",
     "text": [
      "False\n",
      "True\n",
      "True\n"
     ]
    }
   ],
   "source": [
    "list1 = [1, 2, 3]\n",
    "list2 = [1, 2, 3]\n",
    "list3 = list1 \n",
    "\n",
    "print(list1 is list2) \n",
    "print(list1 is list3) \n",
    "print(list1 == list2)  \n"
   ]
  },
  {
   "cell_type": "markdown",
   "id": "934a64f3",
   "metadata": {},
   "source": [
    "Explain the difference in the results for each comparison.\n",
    "- En el caso \"list1 is list2\" es falso porque al codificar les presentamos que ambas listas son diferentes en la memoria como objeto. \n",
    "- En el caso \"list1 is list3\" es verdadero porque en la orden al codificar les indicamos que son iguales como memoria del objeto. \n",
    "- En el caso \"list1 == list2\" aqui con \"==\" vamos a ver los valores de la lista, que en este caso, son iguales y por eso es verdadero"
   ]
  },
  {
   "cell_type": "markdown",
   "id": "c5033623",
   "metadata": {},
   "source": [
    "### Pregunta 10\n",
    "Nested If Statement.\n",
    "Write a function that takes a student's score and determines the grade:\n",
    "\n",
    "- If the score is greater than or equal to 90, return \"A\".\n",
    "- If the score is between 80 and 89:\n",
    "- Check if the score is exactly 85, then return \"B+\".\n",
    "- Otherwise, return \"B\".\n",
    "- If the score is between 70 and 79, return \"C\".\n",
    "- Otherwise, return \"Fail\"."
   ]
  },
  {
   "cell_type": "code",
   "execution_count": 7,
   "id": "71d0eb70",
   "metadata": {},
   "outputs": [
    {
     "name": "stdout",
     "output_type": "stream",
     "text": [
      "A\n",
      "A\n",
      "B\n",
      "B+\n",
      "B\n",
      "C\n",
      "Fail\n"
     ]
    }
   ],
   "source": [
    "def grade(score):\n",
    "    if score >= 90:\n",
    "        return \"A\"\n",
    "    elif 80 <= score <= 89:\n",
    "        if score == 85:\n",
    "            return \"B+\"\n",
    "        else:\n",
    "            return \"B\"\n",
    "    elif 70 <= score <= 79:\n",
    "        return \"C\"\n",
    "    else:\n",
    "        return \"Fail\"\n",
    "\n",
    "print(grade(100))\n",
    "print(grade(92))\n",
    "print(grade(88))  \n",
    "print(grade(85))  \n",
    "print(grade(83))  \n",
    "print(grade(75))  \n",
    "print(grade(60))  \n"
   ]
  }
 ],
 "metadata": {
  "kernelspec": {
   "display_name": "Python 3 (ipykernel)",
   "language": "python",
   "name": "python3"
  },
  "language_info": {
   "codemirror_mode": {
    "name": "ipython",
    "version": 3
   },
   "file_extension": ".py",
   "mimetype": "text/x-python",
   "name": "python",
   "nbconvert_exporter": "python",
   "pygments_lexer": "ipython3",
   "version": "3.11.5"
  }
 },
 "nbformat": 4,
 "nbformat_minor": 5
}
