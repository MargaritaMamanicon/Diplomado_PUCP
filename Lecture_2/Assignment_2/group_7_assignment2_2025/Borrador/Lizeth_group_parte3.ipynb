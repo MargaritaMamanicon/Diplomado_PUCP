{
 "cells": [
  {
   "cell_type": "markdown",
   "id": "22c4c3af",
   "metadata": {},
   "source": [
    "## Parte 3 — Bucles `for` y vectorización"
   ]
  },
  {
   "cell_type": "markdown",
   "id": "73fd12cb",
   "metadata": {},
   "source": [
    "### 11 Bucle for en NumPy\n",
    "Escriba un bucle for usando NumPy para iterar a través de una matriz de números [10, 20, 30, 40, 50]e imprimir cada valor multiplicado por 2.\n",
    "\n",
    "Re-pregunta: ¿Cómo modificarías el bucle para que almacene los resultados en una nueva matriz NumPy en lugar de simplemente imprimirlos?"
   ]
  },
  {
   "cell_type": "code",
   "execution_count": 59,
   "id": "34b7b02d",
   "metadata": {},
   "outputs": [
    {
     "name": "stdout",
     "output_type": "stream",
     "text": [
      "[20, 40, 60, 80, 100]\n"
     ]
    }
   ],
   "source": [
    "import numpy as np\n",
    "\n",
    "# Creamos el arreglo\n",
    "arr = np.array([10, 20, 30, 40, 50])\n",
    "resultados =[]\n",
    "\n",
    "# Bucle for para recorrer cada elemento\n",
    "\n",
    "for num in arr:\n",
    "    resultados.append(num * 2) \n",
    "print(resultados)"
   ]
  },
  {
   "cell_type": "code",
   "execution_count": 60,
   "id": "cf4ca167",
   "metadata": {},
   "outputs": [
    {
     "name": "stdout",
     "output_type": "stream",
     "text": [
      "Nueva_matriz: [ 20  40  60  80 100]\n"
     ]
    }
   ],
   "source": [
    "# Convertimos la lista en un arreglo NumPy\n",
    "nueva_arr = np.array(resultados)\n",
    "\n",
    "print(\"Nueva_matriz:\", nueva_arr)"
   ]
  },
  {
   "cell_type": "markdown",
   "id": "f0e1ff71",
   "metadata": {},
   "source": [
    "### 12 Bucle for en lista\n",
    "Crea una lista de palabras: [\"python\", \"loop\", \"list\", \"iteration\"].\n",
    "Escribe un bucle for para imprimir la longitud de cada palabra.\n",
    "\n",
    "Re-pregunta: ¿Cómo puedes reescribir el mismo bucle usando una comprensión de lista ?"
   ]
  },
  {
   "cell_type": "code",
   "execution_count": 39,
   "id": "dac79c84",
   "metadata": {},
   "outputs": [
    {
     "name": "stdout",
     "output_type": "stream",
     "text": [
      "6\n",
      "4\n",
      "4\n",
      "9\n"
     ]
    }
   ],
   "source": [
    "lista_palabras = [\"python\", \"loop\", \"list\", \"iteration\"]\n",
    "\n",
    "for palabra in lista_palabras:\n",
    "    print(len(palabra))"
   ]
  },
  {
   "cell_type": "code",
   "execution_count": 41,
   "id": "5e6647a9",
   "metadata": {},
   "outputs": [
    {
     "name": "stdout",
     "output_type": "stream",
     "text": [
      "[6, 4, 4, 9]\n"
     ]
    }
   ],
   "source": [
    "longitudes = [len(palabra) for palabra in lista_palabras]\n",
    "print(longitudes)"
   ]
  },
  {
   "cell_type": "markdown",
   "id": "27e207f2",
   "metadata": {},
   "source": [
    "### 13 Bucle for en diccionario\n",
    "Dado un diccionario de puntuaciones de estudiantes:\n",
    "{\"Alice\": 85, \"Bob\": 92, \"Charlie\": 78, \"Diana\": 88}\n",
    "\n",
    "Escriba un bucle for para imprimir el nombre de cada estudiante junto con su puntuación.\n",
    "\n",
    "Re-pregunta: Modificar el bucle para que sólo imprima los nombres de los estudiantes que obtuvieron una puntuación superior a 80."
   ]
  },
  {
   "cell_type": "code",
   "execution_count": 64,
   "id": "f27d8db5",
   "metadata": {},
   "outputs": [
    {
     "name": "stdout",
     "output_type": "stream",
     "text": [
      "Alice -> 85\n",
      "Bob -> 92\n",
      "Charlie -> 78\n",
      "Diana -> 88\n"
     ]
    }
   ],
   "source": [
    "# Creamos un diccionario de puntuaciones de estudiantes con los datos:\n",
    "puntuaciones_estudiantes = {\"Alice\": 85, \"Bob\": 92, \"Charlie\": 78, \"Diana\": 88}\n",
    "\n",
    "# Creamos un bucle para imprimir nombre y puntuación\n",
    "for nombre, puntaje in puntuaciones_estudiantes.items():\n",
    "    print(nombre, \"->\", puntaje)"
   ]
  },
  {
   "cell_type": "code",
   "execution_count": 68,
   "id": "f1cbf52d",
   "metadata": {},
   "outputs": [
    {
     "name": "stdout",
     "output_type": "stream",
     "text": [
      "Alice\n",
      "Bob\n",
      "Diana\n"
     ]
    }
   ],
   "source": [
    "# Bucle para imprimir a estudiantes que hayan obtenido puntaje mayor a 80 puntos.\n",
    "for nombre, puntaje in puntuaciones_estudiantes.items():\n",
    "    if puntaje > 80:   # condición\n",
    "        print(nombre)"
   ]
  },
  {
   "cell_type": "markdown",
   "id": "1be23bfe",
   "metadata": {},
   "source": [
    "### 14. Bucle For usando rango\n",
    "Escriba un bucle for range()para imprimir todos los números pares entre 1 y 20.\n",
    "\n",
    "Re-pregunta: ¿Cómo cambiarías el bucle para calcular también la suma de estos números pares mientras iteras?"
   ]
  },
  {
   "cell_type": "code",
   "execution_count": 70,
   "id": "83124d98",
   "metadata": {},
   "outputs": [
    {
     "name": "stdout",
     "output_type": "stream",
     "text": [
      "2\n",
      "4\n",
      "6\n",
      "8\n",
      "10\n",
      "12\n",
      "14\n",
      "16\n",
      "18\n",
      "20\n"
     ]
    }
   ],
   "source": [
    "# Imprimir todos los números pares entre 1 y 20\n",
    "for num in range(2, 21, 2):  # empieza en 2, llega hasta 20, saltando de 2 en 2\n",
    "    print(num)"
   ]
  },
  {
   "cell_type": "code",
   "execution_count": 73,
   "id": "71921ca1",
   "metadata": {},
   "outputs": [
    {
     "name": "stdout",
     "output_type": "stream",
     "text": [
      "2\n",
      "6\n",
      "12\n",
      "20\n",
      "30\n",
      "42\n",
      "56\n",
      "72\n",
      "90\n",
      "110\n"
     ]
    }
   ],
   "source": [
    "# Calcular la suma de los pares mientras iteras\n",
    "suma = 0  # acumulador\n",
    "\n",
    "for num in range(2, 21, 2):  # pares del 2 al 20\n",
    "    suma += num              # sumamos el número actual al acumulado\n",
    "    print(suma)              # mostramos el acumulado en cada paso\n"
   ]
  },
  {
   "cell_type": "markdown",
   "id": "9c2dee1f",
   "metadata": {},
   "source": [
    "### 15. Iteraciones sobre Pandas (conjunto de datos ENAHO)\n",
    "Supongamos que está analizando el conjunto de datos de la Encuesta Nacional de Hogares (ENAHO) , específicamente el archivo Enaho01A-2023-400.\n",
    "La pregunta de interés es P41601: \"¿Cuánto fue el monto total por la compra o servicio?\" .\n",
    "\n",
    "Escriba un forbucle que itere sobre la columna P41601e imprima valores mayores que 5000 .\n",
    "\n",
    "Re-pregunta: ¿Cómo optimizarías esta tarea utilizando operaciones vectorizadas de pandas (por ejemplo, indexación booleana) en lugar de un forbucle, para hacer que el análisis sea más rápido y más eficiente?"
   ]
  },
  {
   "cell_type": "code",
   "execution_count": 81,
   "id": "658ad9a4",
   "metadata": {},
   "outputs": [],
   "source": [
    "import pandas as pd"
   ]
  },
  {
   "cell_type": "code",
   "execution_count": 140,
   "id": "242ac339",
   "metadata": {},
   "outputs": [
    {
     "name": "stderr",
     "output_type": "stream",
     "text": [
      "C:\\Users\\LIZETH\\AppData\\Local\\Temp\\ipykernel_2720\\1388315730.py:3: DtypeWarning: Columns (15,32,34,35,36,37,38,39,40,41,42,43,44,45,46,47,48,79,81,123,125,127,137,138,139,140,141,142,143,144,145,146,147,148,149,150,151,152,153,154,155,156,157,158,159,160,161,162,163,164,165,166,167,168,553,554,555,556,557,558,559,560,569) have mixed types. Specify dtype option on import or set low_memory=False.\n",
      "  df400 = pd.read_csv(\n"
     ]
    },
    {
     "name": "stdout",
     "output_type": "stream",
     "text": [
      "400: (112530, 940)\n"
     ]
    }
   ],
   "source": [
    "# Cargar el archivo ENAHO 400\n",
    "#df400 = Data Frame de la base 400 (Salud)\n",
    "df400 = pd.read_csv(\n",
    "    r\"G:\\Mi unidad\\Cursos2025\\CursoPUCP\\Curso_Python_Basico\\Tarea2\\ENAHO-2023\\Enaho01A-2023-400.csv\",\n",
    "    encoding=\"ISO-8859-10\"\n",
    ")\n",
    "# Ver tamaños del DataFrame\n",
    "print(\"400:\", df400.shape)"
   ]
  },
  {
   "cell_type": "code",
   "execution_count": 141,
   "id": "baf74eb4",
   "metadata": {},
   "outputs": [
    {
     "name": "stdout",
     "output_type": "stream",
     "text": [
      "Quedan 99999.9?: 0\n"
     ]
    }
   ],
   "source": [
    "#  Pasar P41601 a numérica\n",
    "df400[\"P41601\"] = pd.to_numeric(df400[\"P41601\"], errors=\"coerce\")\n",
    "\n",
    "#  Reemplazamos códigos de missing por NaN (mismo nombre de columna)\n",
    "df400[\"P41601\"] = df400[\"P41601\"].replace([99999.9, 99999, 999999], np.nan)\n",
    "\n",
    "# Verificamos que no queden códigos 99999.9\n",
    "print(\"Quedan 99999.9?:\", (df400[\"P41601\"] == 99999.9).sum())"
   ]
  },
  {
   "cell_type": "code",
   "execution_count": 145,
   "id": "0e6dd51c",
   "metadata": {},
   "outputs": [
    {
     "name": "stdout",
     "output_type": "stream",
     "text": [
      "count    4488.000000\n",
      "mean       51.357531\n",
      "std        50.490885\n",
      "min         1.200000\n",
      "25%        15.800000\n",
      "50%        40.000000\n",
      "75%        70.000000\n",
      "max       689.500000\n",
      "Name: P41601, dtype: float64\n"
     ]
    }
   ],
   "source": [
    "# Verificamos que el campo P41601 ya no tenga missing values con un describe\n",
    "print(df400[\"P41601\"].describe())  # revisión rápida el promedio ya no contará esos códigos"
   ]
  },
  {
   "cell_type": "code",
   "execution_count": null,
   "id": "7711b956",
   "metadata": {},
   "outputs": [
    {
     "name": "stdout",
     "output_type": "stream",
     "text": [
      "No hay montos > 5000 en P41601 (luego del reeemplazo de 99999.9 (missing value)).\n"
     ]
    }
   ],
   "source": [
    "# A. Con for: imprimir gastos en montos > 5000\n",
    "resultado = False\n",
    "for gasto in df400[\"P41601\"].dropna():\n",
    "    if gasto > 5000:\n",
    "        print(gasto)\n",
    "        resultado = True\n",
    "if not resultado:\n",
    "    print(\"No hay montos > 5000 en P41601 (luego del reeemplazo de 99999.9 (missing value)).\")        "
   ]
  },
  {
   "cell_type": "code",
   "execution_count": 157,
   "id": "902e2588",
   "metadata": {},
   "outputs": [
    {
     "name": "stdout",
     "output_type": "stream",
     "text": [
      "No hay montos > 5000 en la pregunta P41601 (monto total por la compra o servicio).\n"
     ]
    }
   ],
   "source": [
    "# B Usando vectores\n",
    "\n",
    "index = df400[\"P41601\"] > 5000 # indexación booleana\n",
    "gastos_gt_5000 = df400.loc[index, \"P41601\"] # renombramos la variable de resultados (gastos mayores a 5000) y con .loc filtramos los casos que sean TRUE\n",
    "if gastos_gt_5000.empty: # Ahora usamos .empty -> True si la Serie está vacía (no haya gastos > 5000)  y caso contrario, si los encuentra que halle: conteo y promedio.\n",
    "    print(\"No hay montos > 5000 en la pregunta P41601 (monto total por la compra o servicio).\")\n",
    "else:\n",
    "    print(gastos_gt_5000)\n",
    "    print(\"Cantidad:\", gastos_gt_5000.count(), \"| Promedio:\", float(gastos_gt_5000.mean()))"
   ]
  }
 ],
 "metadata": {
  "kernelspec": {
   "display_name": "base",
   "language": "python",
   "name": "python3"
  },
  "language_info": {
   "codemirror_mode": {
    "name": "ipython",
    "version": 3
   },
   "file_extension": ".py",
   "mimetype": "text/x-python",
   "name": "python",
   "nbconvert_exporter": "python",
   "pygments_lexer": "ipython3",
   "version": "3.12.7"
  }
 },
 "nbformat": 4,
 "nbformat_minor": 5
}
