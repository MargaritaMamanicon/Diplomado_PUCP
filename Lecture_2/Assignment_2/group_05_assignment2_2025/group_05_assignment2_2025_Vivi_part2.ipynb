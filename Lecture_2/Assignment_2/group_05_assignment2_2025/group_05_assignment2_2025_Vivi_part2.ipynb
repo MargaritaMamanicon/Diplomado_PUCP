{
 "cells": [
  {
   "cell_type": "code",
   "execution_count": 2,
   "id": "d95b6565-96d1-4134-b0be-df9603a8c6e4",
   "metadata": {},
   "outputs": [],
   "source": [
    "# Grupo 05 - Assignment 2 - Parte 2\n",
    "# Integrante: Vivi\n",
    "# Ejercicios 6 al 10: Condicionales en Python"
   ]
  },
  {
   "cell_type": "markdown",
   "id": "1b85feb8-3b3f-4ac4-acd1-ab45a639a7c8",
   "metadata": {},
   "source": [
    "## Ejercicio 6 – Condición básica `if`\n",
    "Escribe una función que verifique si un número dado es positivo.  \n",
    "- Si el número es mayor que cero devuelve *\"The number X is positive.\"*  \n",
    "- En caso contrario devuelve *\"The number X is not positive.\"*  "
   ]
  },
  {
   "cell_type": "code",
   "execution_count": 4,
   "id": "0eb99da5-d20d-44d6-9d63-03186a560853",
   "metadata": {},
   "outputs": [
    {
     "name": "stdout",
     "output_type": "stream",
     "text": [
      "The number X is positive.\n",
      "The number X is not positive.\n",
      "The number X is not positive.\n"
     ]
    }
   ],
   "source": [
    "def check_positive(x):\n",
    "    if x > 0:\n",
    "        return \"The number X is positive.\"\n",
    "    else:\n",
    "        return \"The number X is not positive.\"\n",
    "\n",
    "# Pruebas\n",
    "print(check_positive(7))\n",
    "print(check_positive(-2))\n",
    "print(check_positive(0))\n"
   ]
  },
  {
   "cell_type": "markdown",
   "id": "890d32e9-3a25-42d7-af3e-8e3cde61808a",
   "metadata": {},
   "source": [
    "## Ejercicio 7 – Condición con múltiples expresiones\n",
    "\n",
    "Crear un programa que verifique la temperatura en °C y devuelva un mensaje según el valor:  \n",
    "\n",
    "- Si la temperatura está por debajo de 0 → *\"It is freezing.\"*  \n",
    "- Si está entre 0 y 20 → *\"It is cold.\"*  \n",
    "- Si está entre 21 y 30 → *\"It is warm.\"*  \n",
    "- Si es mayor que 30 → *\"It is hot.\"*  "
   ]
  },
  {
   "cell_type": "code",
   "execution_count": 8,
   "id": "da996f0b-79ff-44b3-8fc3-0e9fdfff0753",
   "metadata": {},
   "outputs": [
    {
     "name": "stdout",
     "output_type": "stream",
     "text": [
      "-3 → It is freezing\n",
      "0 → It is cold\n",
      "18 → It is cold\n",
      "21 → It is warm\n",
      "28 → It is warm\n",
      "31 → It is hot\n"
     ]
    }
   ],
   "source": [
    "def describe_temp(t):\n",
    "    if t < 0:\n",
    "        return \"It is freezing\"\n",
    "    elif 0 <= t <= 20:\n",
    "        return \"It is cold\"\n",
    "    elif 21 <= t <= 30:\n",
    "        return \"It is warm\"\n",
    "    else:\n",
    "        return \"It is hot\"\n",
    "\n",
    "# Pruebas\n",
    "for v in (-3, 0, 18, 21, 28, 31):\n",
    "    print(v, \"→\", describe_temp(v))"
   ]
  },
  {
   "cell_type": "markdown",
   "id": "d5ddb0a0-490a-4194-b5ea-e4097019f9ff",
   "metadata": {},
   "source": [
    "## Ejercicio 8 – Operadores lógicos\n",
    "\n",
    "Escribe una función que determine si una persona es elegible para una beca, considerando:  \n",
    "\n",
    "- La persona debe tener un GPA mayor a 3.5 **y**  \n",
    "- (tener actividades extracurriculares = \"Yes\" **o** tener más de 50 horas de servicio comunitario).  \n",
    "\n",
    "La función debe devolver:  \n",
    "- `\"Eligible for scholarship.\"` si cumple las condiciones.  \n",
    "- `\"Not eligible for scholarship.\"` en caso contrario.  \n"
   ]
  },
  {
   "cell_type": "code",
   "execution_count": 9,
   "id": "1209fe7f-55a2-47f6-884d-6a1a981e0d76",
   "metadata": {},
   "outputs": [
    {
     "name": "stdout",
     "output_type": "stream",
     "text": [
      "Eligible for scholarship.\n",
      "Eligible for scholarship.\n",
      "Not eligible for scholarship.\n"
     ]
    }
   ],
   "source": [
    "def scholarship_eligibility(gpa, extracurriculars, community_hours):\n",
    "    has_extracurriculars = str(extracurriculars).strip().lower() == \"yes\"\n",
    "    if (gpa > 3.5) and (has_extracurriculars or community_hours > 50):\n",
    "        return \"Eligible for scholarship.\"\n",
    "    else:\n",
    "        return \"Not eligible for scholarship.\"\n",
    "\n",
    "# Pruebas\n",
    "print(scholarship_eligibility(3.6, \"Yes\", 10))   # Cumple: GPA alto y actividades\n",
    "print(scholarship_eligibility(3.6, \"no\", 60))    # Cumple: GPA alto y horas comunitarias > 50\n",
    "print(scholarship_eligibility(3.4, \"Yes\", 80))   # No cumple: GPA insuficiente"
   ]
  },
  {
   "cell_type": "markdown",
   "id": "1bc47273-a2a8-407e-b853-af1c81688609",
   "metadata": {},
   "source": [
    "## Ejercicio 9 – Operadores de identidad en Python\n",
    "\n",
    "Crea dos listas y utiliza los operadores de identidad (`is`) para comparar:  \n",
    "\n",
    "- `is` verifica si dos variables apuntan al **mismo objeto en memoria**.  \n",
    "- `==` compara si dos variables tienen el **mismo contenido**.  \n",
    "\n",
    "En este ejercicio, se debe:  \n",
    "1. Crear dos listas con el mismo contenido pero distintas en memoria.  \n",
    "2. Crear una tercera lista que sea referencia directa de la primera.  \n",
    "3. Comparar los resultados con `is` y `==`.  \n"
   ]
  },
  {
   "cell_type": "code",
   "execution_count": 10,
   "id": "f42ef2b5-0d21-4373-85c1-1b6772d63755",
   "metadata": {},
   "outputs": [
    {
     "name": "stdout",
     "output_type": "stream",
     "text": [
      "list1 is list2: False\n",
      "list1 is list3: True\n",
      "list1 == list2: True\n",
      "list1 == list3: True\n"
     ]
    }
   ],
   "source": [
    "list1 = [1, 2, 3]\n",
    "list2 = [1, 2, 3]\n",
    "list3 = list1\n",
    "\n",
    "print(\"list1 is list2:\", list1 is list2)   # False → distintos objetos\n",
    "print(\"list1 is list3:\", list1 is list3)   # True  → misma referencia\n",
    "print(\"list1 == list2:\", list1 == list2)   # True → mismo contenido\n",
    "print(\"list1 == list3:\", list1 == list3)   # True → mismo contenido\n"
   ]
  },
  {
   "cell_type": "markdown",
   "id": "1af20d51-a6b2-452d-8dd2-cebeb2a5f095",
   "metadata": {},
   "source": [
    "## Ejercicio 10 – If anidado (calificaciones)\n",
    "\n",
    "Escribe una función que reciba la puntuación (0–100) de un estudiante y devuelva su calificación según estas reglas:\n",
    "\n",
    "- **≥ 90** → `\"A\"`\n",
    "- **80–89** → `\"B\"` *(si es exactamente 85, devolver `\"B+\"`)*\n",
    "- **70–79** → `\"C\"`\n",
    "- **< 70** → `\"Fail\"`\n",
    "\n",
    "> Nota: Usamos una **if anidada** dentro del rango 80–89 para el caso especial de **85**.\n"
   ]
  },
  {
   "cell_type": "code",
   "execution_count": 11,
   "id": "c82c4b57-9a96-4596-bce5-ed0683d34355",
   "metadata": {},
   "outputs": [
    {
     "name": "stdout",
     "output_type": "stream",
     "text": [
      "95 → A\n",
      "89 → B\n",
      "85 → B+\n",
      "80 → B\n",
      "79 → C\n",
      "50 → Fail\n",
      "-3 → Score out of range\n",
      "101 → Score out of range\n",
      "90 → Invalid score type\n"
     ]
    }
   ],
   "source": [
    "def grade(score):\n",
    "    # Validación simple opcional (puedes omitirla si no la piden)\n",
    "    if not isinstance(score, (int, float)):\n",
    "        return \"Invalid score type\"\n",
    "    if score < 0 or score > 100:\n",
    "        return \"Score out of range\"\n",
    "\n",
    "    if score >= 90:\n",
    "        return \"A\"\n",
    "    elif 80 <= score <= 89:\n",
    "        if score == 85:\n",
    "            return \"B+\"\n",
    "        else:\n",
    "            return \"B\"\n",
    "    elif 70 <= score <= 79:\n",
    "        return \"C\"\n",
    "    else:\n",
    "        return \"Fail\"\n",
    "\n",
    "# Pruebas rápidas\n",
    "for s in (95, 89, 85, 80, 79, 50, -3, 101, \"90\"):\n",
    "    print(s, \"→\", grade(s))\n"
   ]
  },
  {
   "cell_type": "code",
   "execution_count": null,
   "id": "15532209-fbb5-4171-8fe5-e21652c79ac9",
   "metadata": {},
   "outputs": [],
   "source": []
  }
 ],
 "metadata": {
  "kernelspec": {
   "display_name": "Python (envvivi)",
   "language": "python",
   "name": "envvivi"
  },
  "language_info": {
   "codemirror_mode": {
    "name": "ipython",
    "version": 3
   },
   "file_extension": ".py",
   "mimetype": "text/x-python",
   "name": "python",
   "nbconvert_exporter": "python",
   "pygments_lexer": "ipython3",
   "version": "3.13.5"
  }
 },
 "nbformat": 4,
 "nbformat_minor": 5
}
