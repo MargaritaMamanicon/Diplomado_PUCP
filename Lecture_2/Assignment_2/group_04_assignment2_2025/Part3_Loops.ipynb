{
 "cells": [
  {
   "cell_type": "code",
   "execution_count": null,
   "id": "00667bed",
   "metadata": {},
   "outputs": [],
   "source": [
    "# Part 3: For loops\n",
    "\n",
    "import numpy as np\n",
    "import pandas as pd"
   ]
  },
  {
   "cell_type": "code",
   "execution_count": null,
   "id": "b05132eb",
   "metadata": {},
   "outputs": [],
   "source": [
    "# 11. For Loop in NumPya\n",
    "arr = np.array([10, 20, 30, 40, 50])\n",
    "\n",
    "for value in arr:\n",
    "    print(value * 2)\n",
    "\n",
    "#Store results in a new array\n",
    "results = np.array([value * 2 for value in arr])\n",
    "print(\"New array:\", results)\n"
   ]
  },
  {
   "cell_type": "code",
   "execution_count": null,
   "id": "704ba410",
   "metadata": {},
   "outputs": [],
   "source": [
    "# 12. For Loop in List\n",
    "words = [\"Jakeline\", \"Karen\", \"Santiago\", \"Sergio\"]\n",
    "\n",
    "for word in words:\n",
    "    print(f\"Length of '{word}':\", len(word))\n",
    "\n",
    "#List comprehension\n",
    "lengths = [len(word) for word in words]\n",
    "print(\"Word lengths:\", lengths)"
   ]
  },
  {
   "cell_type": "code",
   "execution_count": null,
   "id": "c689d3f3",
   "metadata": {},
   "outputs": [],
   "source": [
    "# 13. For Loop in Dictionary\n",
    "scores = {\"Jakeline\": 85, \"Karen\": 92, \"Santiago\": 78, \"Sergio\": 88}\n",
    "\n",
    "for name, score in scores.items():\n",
    "    print(name, \":\", score)\n",
    "\n",
    "#Only names with score > 80\n",
    "for name, score in scores.items():\n",
    "    if score > 80:\n",
    "        print(name)"
   ]
  },
  {
   "cell_type": "code",
   "execution_count": null,
   "id": "ad7560c8",
   "metadata": {},
   "outputs": [],
   "source": [
    "# 14. For Loop using Range\n",
    "for num in range(12, 16, 2):\n",
    "    print(num)\n",
    "\n",
    "# Calculate sum of even numbers\n",
    "total = 0\n",
    "for num in range(12, 16, 2):\n",
    "    print(num)\n",
    "    total += num\n",
    "print(\"Sum of even numbers:\", total)"
   ]
  },
  {
   "cell_type": "code",
   "execution_count": null,
   "id": "3cde6a1c",
   "metadata": {},
   "outputs": [],
   "source": [
    "#15. Iterations over Pandas (ENAHO dataset)\n",
    "df = pd.read_csv(\"ENAHO01A-2023-400.csv\", encoding=\"latin1\")\n",
    "\n",
    "for value in df[\"P41601\"]:\n",
    "    if value > 5000:\n",
    "        print(value)\n",
    "\n",
    "#Optimizar con operaciones vectorizadas\n",
    "filtered = df[df[\"P41601\"] > 5000][\"P41601\"]\n",
    "print(filtered)"
   ]
  }
 ],
 "metadata": {
  "kernelspec": {
   "display_name": "Python 3 (ipykernel)",
   "language": "python",
   "name": "python3"
  },
  "language_info": {
   "codemirror_mode": {
    "name": "ipython",
    "version": 3
   },
   "file_extension": ".py",
   "mimetype": "text/x-python",
   "name": "python",
   "nbconvert_exporter": "python",
   "pygments_lexer": "ipython3",
   "version": "3.11.5"
  }
 },
 "nbformat": 4,
 "nbformat_minor": 5
}
