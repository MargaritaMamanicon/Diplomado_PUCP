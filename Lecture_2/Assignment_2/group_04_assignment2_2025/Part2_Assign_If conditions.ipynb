{
 "cells": [
  {
   "cell_type": "markdown",
   "id": "9a6712d2",
   "metadata": {},
   "source": [
    "# PART 2 - If conditions"
   ]
  },
  {
   "cell_type": "markdown",
   "id": "dc51e7b5",
   "metadata": {},
   "source": [
    "## 6. Basic If Condition"
   ]
  },
  {
   "cell_type": "code",
   "execution_count": 58,
   "id": "d9c38d5d",
   "metadata": {},
   "outputs": [],
   "source": [
    "Examen = 50"
   ]
  },
  {
   "cell_type": "code",
   "execution_count": 23,
   "id": "f1770fce",
   "metadata": {},
   "outputs": [
    {
     "name": "stdout",
     "output_type": "stream",
     "text": [
      "The number 50 is positive.\n"
     ]
    }
   ],
   "source": [
    "if Examen > 0:\n",
    "    print(\"The number 50 is positive.\")\n",
    "else:\n",
    "    print(\"The number 50 is not positive.\")"
   ]
  },
  {
   "cell_type": "code",
   "execution_count": 24,
   "id": "d3988b1d",
   "metadata": {},
   "outputs": [],
   "source": [
    "Examen = -10"
   ]
  },
  {
   "cell_type": "code",
   "execution_count": 25,
   "id": "567d0e13",
   "metadata": {},
   "outputs": [
    {
     "name": "stdout",
     "output_type": "stream",
     "text": [
      "The number 50 is not positive.\n"
     ]
    }
   ],
   "source": [
    "if Examen > 0:\n",
    "    print(\"The number 50 is positive.\")\n",
    "else:\n",
    "    print(\"The number 50 is not positive.\")"
   ]
  },
  {
   "cell_type": "markdown",
   "id": "a5929edf",
   "metadata": {},
   "source": [
    "## 7. If Condition with Multiple Expressions"
   ]
  },
  {
   "cell_type": "code",
   "execution_count": 29,
   "id": "a2d2ebe2",
   "metadata": {},
   "outputs": [
    {
     "name": "stdout",
     "output_type": "stream",
     "text": [
      "It is freezing.\n"
     ]
    }
   ],
   "source": [
    "temperature = -5\n",
    "if temperature < 0:\n",
    "    print ( \"It is freezing.\" )\n",
    "    \n",
    "elif temperature <= 20:\n",
    "    print( \"It is cold.\" )\n",
    "\n",
    "elif temperature <= 30:\n",
    "    print(\"It is warm.\" )\n",
    "else :\n",
    "    print(\"It is hot\")\n",
    "        "
   ]
  },
  {
   "cell_type": "markdown",
   "id": "2ae2d4cd",
   "metadata": {},
   "source": [
    "## 8. Logical Operators\n",
    "\n",
    "### Sistema de Elegibilidad para Becas"
   ]
  },
  {
   "cell_type": "code",
   "execution_count": 39,
   "id": "83d55fc8",
   "metadata": {},
   "outputs": [],
   "source": [
    "gpa = 3\n",
    "extracurricular_activities = \"Yes\"\n",
    "community_service = 30"
   ]
  },
  {
   "cell_type": "code",
   "execution_count": 40,
   "id": "6d94f576",
   "metadata": {},
   "outputs": [
    {
     "name": "stdout",
     "output_type": "stream",
     "text": [
      "Not eligible for scholarship.\n"
     ]
    }
   ],
   "source": [
    "if gpa > 3.5 and (extracurricular_activities == \"Yes\" or hours > 50):\n",
    "    print(\"Eligible for scholarship.\")\n",
    "else:\n",
    "    print (\"Not eligible for scholarship.\")"
   ]
  },
  {
   "cell_type": "markdown",
   "id": "c188ad1a",
   "metadata": {},
   "source": [
    "## 9. Python Identity Operators"
   ]
  },
  {
   "cell_type": "markdown",
   "id": "856d6be9",
   "metadata": {},
   "source": [
    "### Lists: "
   ]
  },
  {
   "cell_type": "code",
   "execution_count": 41,
   "id": "16977c45",
   "metadata": {},
   "outputs": [],
   "source": [
    "list1 = [1, 2, 3]\n",
    "list2 = [1, 2, 3]\n",
    "list3 = list1 "
   ]
  },
  {
   "cell_type": "code",
   "execution_count": 43,
   "id": "266e7d30",
   "metadata": {},
   "outputs": [
    {
     "data": {
      "text/plain": [
       "False"
      ]
     },
     "execution_count": 43,
     "metadata": {},
     "output_type": "execute_result"
    }
   ],
   "source": [
    "list1 is list2 "
   ]
  },
  {
   "cell_type": "markdown",
   "id": "5ca77e0f",
   "metadata": {},
   "source": [
    "**La lista 1 y la lista 2 son diferentes porque cada una es un objeto, el operador \"is\" compara objetos, mas no contenido. Por tanto, cada lista es diferente, porque es un objeto independiente que, tiene su propio lugar en la memoria.**"
   ]
  },
  {
   "cell_type": "code",
   "execution_count": 46,
   "id": "a4481f66",
   "metadata": {},
   "outputs": [
    {
     "data": {
      "text/plain": [
       "True"
      ]
     },
     "execution_count": 46,
     "metadata": {},
     "output_type": "execute_result"
    }
   ],
   "source": [
    "list1 is list3"
   ]
  },
  {
   "cell_type": "markdown",
   "id": "1f70fe44",
   "metadata": {},
   "source": [
    "**La lista 1 y la lista 3 son iguales porque la lista 3 está haciendo referencia a un objeto, la lista 1. En la memoria de la computadora estos objetos son idénticos**"
   ]
  },
  {
   "cell_type": "code",
   "execution_count": 47,
   "id": "67a12015",
   "metadata": {},
   "outputs": [
    {
     "data": {
      "text/plain": [
       "True"
      ]
     },
     "execution_count": 47,
     "metadata": {},
     "output_type": "execute_result"
    }
   ],
   "source": [
    "list1 == list2 "
   ]
  },
  {
   "cell_type": "markdown",
   "id": "1549c785",
   "metadata": {},
   "source": [
    "**La lista 1 y la lista 2 son idénticas porque el operador \"==\" compara contenido, y aunque sean objetos diferentes, su contenido es idéntico. Por todo lo anterior, la respuesta es True.**"
   ]
  },
  {
   "cell_type": "markdown",
   "id": "89a9c64f",
   "metadata": {},
   "source": [
    "## 10. Nested If Statement"
   ]
  },
  {
   "cell_type": "code",
   "execution_count": 56,
   "id": "2985ac43",
   "metadata": {},
   "outputs": [],
   "source": [
    "score = 85"
   ]
  },
  {
   "cell_type": "code",
   "execution_count": 57,
   "id": "782fa5e1",
   "metadata": {},
   "outputs": [
    {
     "name": "stdout",
     "output_type": "stream",
     "text": [
      "B+\n"
     ]
    }
   ],
   "source": [
    "if score >= 90:\n",
    "    print(\"A\")\n",
    "elif score >= 80:\n",
    "    if score == 85:\n",
    "        print(\"B+\")\n",
    "    else:\n",
    "        print (\"B\")\n",
    "elif score >= 70:\n",
    "    print (\"C\")\n",
    "else:\n",
    "    print(\"fail\")\n"
   ]
  },
  {
   "cell_type": "code",
   "execution_count": null,
   "id": "daf2699d",
   "metadata": {},
   "outputs": [],
   "source": [
    " "
   ]
  }
 ],
 "metadata": {
  "kernelspec": {
   "display_name": "Python 3 (ipykernel)",
   "language": "python",
   "name": "python3"
  },
  "language_info": {
   "codemirror_mode": {
    "name": "ipython",
    "version": 3
   },
   "file_extension": ".py",
   "mimetype": "text/x-python",
   "name": "python",
   "nbconvert_exporter": "python",
   "pygments_lexer": "ipython3",
   "version": "3.11.5"
  }
 },
 "nbformat": 4,
 "nbformat_minor": 5
}
