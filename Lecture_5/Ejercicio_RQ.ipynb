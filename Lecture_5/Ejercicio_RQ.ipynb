{
 "cells": [
  {
   "cell_type": "code",
   "execution_count": 15,
   "id": "b9752617-e32b-4dc6-a6ea-abb5d75406a1",
   "metadata": {},
   "outputs": [],
   "source": [
    "import pandas as pd"
   ]
  },
  {
   "cell_type": "code",
   "execution_count": 17,
   "id": "4cabf1d9-5b32-48ef-9958-cad33c916ef2",
   "metadata": {},
   "outputs": [
    {
     "data": {
      "text/html": [
       "<div>\n",
       "<style scoped>\n",
       "    .dataframe tbody tr th:only-of-type {\n",
       "        vertical-align: middle;\n",
       "    }\n",
       "\n",
       "    .dataframe tbody tr th {\n",
       "        vertical-align: top;\n",
       "    }\n",
       "\n",
       "    .dataframe thead th {\n",
       "        text-align: right;\n",
       "    }\n",
       "</style>\n",
       "<table border=\"1\" class=\"dataframe\">\n",
       "  <thead>\n",
       "    <tr style=\"text-align: right;\">\n",
       "      <th></th>\n",
       "      <th>num_pushers</th>\n",
       "      <th>topic</th>\n",
       "      <th>iso2_code</th>\n",
       "      <th>year</th>\n",
       "      <th>quarter</th>\n",
       "    </tr>\n",
       "  </thead>\n",
       "  <tbody>\n",
       "    <tr>\n",
       "      <th>0</th>\n",
       "      <td>7206</td>\n",
       "      <td>python</td>\n",
       "      <td>EU</td>\n",
       "      <td>2020</td>\n",
       "      <td>1</td>\n",
       "    </tr>\n",
       "    <tr>\n",
       "      <th>1</th>\n",
       "      <td>6739</td>\n",
       "      <td>python</td>\n",
       "      <td>US</td>\n",
       "      <td>2020</td>\n",
       "      <td>1</td>\n",
       "    </tr>\n",
       "    <tr>\n",
       "      <th>2</th>\n",
       "      <td>5231</td>\n",
       "      <td>javascript</td>\n",
       "      <td>EU</td>\n",
       "      <td>2020</td>\n",
       "      <td>1</td>\n",
       "    </tr>\n",
       "    <tr>\n",
       "      <th>3</th>\n",
       "      <td>5025</td>\n",
       "      <td>javascript</td>\n",
       "      <td>US</td>\n",
       "      <td>2020</td>\n",
       "      <td>1</td>\n",
       "    </tr>\n",
       "    <tr>\n",
       "      <th>4</th>\n",
       "      <td>3874</td>\n",
       "      <td>java</td>\n",
       "      <td>EU</td>\n",
       "      <td>2020</td>\n",
       "      <td>1</td>\n",
       "    </tr>\n",
       "    <tr>\n",
       "      <th>...</th>\n",
       "      <td>...</td>\n",
       "      <td>...</td>\n",
       "      <td>...</td>\n",
       "      <td>...</td>\n",
       "      <td>...</td>\n",
       "    </tr>\n",
       "    <tr>\n",
       "      <th>65361</th>\n",
       "      <td>101</td>\n",
       "      <td>remote-sensing</td>\n",
       "      <td>US</td>\n",
       "      <td>2025</td>\n",
       "      <td>1</td>\n",
       "    </tr>\n",
       "    <tr>\n",
       "      <th>65362</th>\n",
       "      <td>101</td>\n",
       "      <td>llm-agent</td>\n",
       "      <td>US</td>\n",
       "      <td>2025</td>\n",
       "      <td>1</td>\n",
       "    </tr>\n",
       "    <tr>\n",
       "      <th>65363</th>\n",
       "      <td>101</td>\n",
       "      <td>static</td>\n",
       "      <td>US</td>\n",
       "      <td>2025</td>\n",
       "      <td>1</td>\n",
       "    </tr>\n",
       "    <tr>\n",
       "      <th>65364</th>\n",
       "      <td>101</td>\n",
       "      <td>autonomous-vehicles</td>\n",
       "      <td>US</td>\n",
       "      <td>2025</td>\n",
       "      <td>1</td>\n",
       "    </tr>\n",
       "    <tr>\n",
       "      <th>65365</th>\n",
       "      <td>101</td>\n",
       "      <td>nestjs</td>\n",
       "      <td>VN</td>\n",
       "      <td>2025</td>\n",
       "      <td>1</td>\n",
       "    </tr>\n",
       "  </tbody>\n",
       "</table>\n",
       "<p>65366 rows × 5 columns</p>\n",
       "</div>"
      ],
      "text/plain": [
       "       num_pushers                topic iso2_code  year  quarter\n",
       "0             7206               python        EU  2020        1\n",
       "1             6739               python        US  2020        1\n",
       "2             5231           javascript        EU  2020        1\n",
       "3             5025           javascript        US  2020        1\n",
       "4             3874                 java        EU  2020        1\n",
       "...            ...                  ...       ...   ...      ...\n",
       "65361          101       remote-sensing        US  2025        1\n",
       "65362          101            llm-agent        US  2025        1\n",
       "65363          101               static        US  2025        1\n",
       "65364          101  autonomous-vehicles        US  2025        1\n",
       "65365          101               nestjs        VN  2025        1\n",
       "\n",
       "[65366 rows x 5 columns]"
      ]
     },
     "execution_count": 17,
     "metadata": {},
     "output_type": "execute_result"
    }
   ],
   "source": [
    "url = \"https://raw.githubusercontent.com/github/innovationgraph/refs/heads/main/data/topics.csv\"\n",
    "topics_data = pd.read_csv(url)\n",
    "topics_data"
   ]
  },
  {
   "cell_type": "markdown",
   "id": "03e70a1e-0a49-4990-8a7b-89baf6d59262",
   "metadata": {},
   "source": [
    "# Calcular el número de paises donde hay machine learning"
   ]
  },
  {
   "cell_type": "code",
   "execution_count": 26,
   "id": "6c45053d-1c8b-4b31-800f-23226cbf4b32",
   "metadata": {},
   "outputs": [],
   "source": [
    "def count_unique_countries_for_topic(df, target_topic=\"machine-learning\"):\n",
    "    # Filter rows for the target topic\n",
    "    filtered_df = df[df['topic'] == target_topic]\n",
    "    # Get unique iso2_code values\n",
    "    unique_countries = filtered_df['iso2_code'].nunique()\n",
    "    return unique_countries"
   ]
  },
  {
   "cell_type": "code",
   "execution_count": 28,
   "id": "6d1a8c92-759a-45c4-b7db-03b24a8ccfe8",
   "metadata": {},
   "outputs": [
    {
     "data": {
      "text/plain": [
       "29"
      ]
     },
     "execution_count": 28,
     "metadata": {},
     "output_type": "execute_result"
    }
   ],
   "source": [
    "count_unique_countries_for_topic(topics_data)"
   ]
  },
  {
   "cell_type": "code",
   "execution_count": 29,
   "id": "3fc127fb-bf3b-415d-acaa-2efe570c3629",
   "metadata": {},
   "outputs": [
    {
     "data": {
      "text/plain": [
       "23"
      ]
     },
     "execution_count": 29,
     "metadata": {},
     "output_type": "execute_result"
    }
   ],
   "source": [
    "count_unique_countries_for_topic(df=topics_data,target_topic=\"deep-learning\" )"
   ]
  },
  {
   "cell_type": "markdown",
   "id": "f3cd60e9-a43d-470a-b93e-fa64894b840b",
   "metadata": {},
   "source": [
    "# Lista de los Top 5"
   ]
  },
  {
   "cell_type": "code",
   "execution_count": 31,
   "id": "58c24b28-cb29-425d-8973-ce96cc61a2db",
   "metadata": {},
   "outputs": [],
   "source": [
    "def top_countries_by_topic(df, target_topic=\"machine learning\", top_n=5):\n",
    "    # Filter for the given topic\n",
    "    filtered_df = df[df['topic'].str.lower() == target_topic.lower()]\n",
    "    # Group by country and sum num_pushers\n",
    "    country_pushers = filtered_df.groupby('iso2_code')['num_pushers'].sum()\n",
    "    # Sort descending and return top N\n",
    "    top_countries = country_pushers.sort_values(ascending=False).head(top_n)\n",
    "    return top_countries"
   ]
  },
  {
   "cell_type": "code",
   "execution_count": 32,
   "id": "2a6aa427-a860-4a9c-b11c-9fccb697eaff",
   "metadata": {},
   "outputs": [
    {
     "data": {
      "text/plain": [
       "iso2_code\n",
       "EU    203761\n",
       "US    183907\n",
       "IN     85611\n",
       "DE     54145\n",
       "GB     41858\n",
       "Name: num_pushers, dtype: int64"
      ]
     },
     "execution_count": 32,
     "metadata": {},
     "output_type": "execute_result"
    }
   ],
   "source": [
    "top_countries_by_topic(topics_data, target_topic=\"python\")"
   ]
  }
 ],
 "metadata": {
  "kernelspec": {
   "display_name": "Python [conda env:base] *",
   "language": "python",
   "name": "conda-base-py"
  },
  "language_info": {
   "codemirror_mode": {
    "name": "ipython",
    "version": 3
   },
   "file_extension": ".py",
   "mimetype": "text/x-python",
   "name": "python",
   "nbconvert_exporter": "python",
   "pygments_lexer": "ipython3",
   "version": "3.13.5"
  }
 },
 "nbformat": 4,
 "nbformat_minor": 5
}
