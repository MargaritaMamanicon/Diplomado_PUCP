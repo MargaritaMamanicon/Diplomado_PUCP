{
 "cells": [
  {
   "cell_type": "markdown",
   "id": "be587dc7",
   "metadata": {},
   "source": [
    "# Parte 2 – Tipos de datos y estructuras de datos  \n",
    "Este notebook contiene la **Parte 2** (preguntas 6–8) resueltas, con explicaciones breves y código ejecutable.\n"
   ]
  },
  {
   "cell_type": "markdown",
   "id": "53fa891e",
   "metadata": {},
   "source": [
    "## 6. Declarar variables de distintos tipos y mostrar su tipo\n",
    "\n",
    "Crea una variable para cada tipo: `int`, `float`, `string`, `bool`. Luego imprime el tipo con `type()`.\n"
   ]
  },
  {
   "cell_type": "code",
   "execution_count": null,
   "id": "fbacb42b",
   "metadata": {
    "scrolled": true
   },
   "outputs": [],
   "source": [
    "# 6) Variables y sus tipos\n",
    "# int\n",
    "entero = 42  \n",
    "\n",
    "# float\n",
    "flotante = 3.14159  \n",
    "\n",
    "# string\n",
    "cadena = \"Hola grupo 7\"\n",
    "\n",
    "# bool\n",
    "booleano = True           \n",
    "\n",
    "# Impresion de las variables y sus tipos\n",
    "print(entero, type(entero))\n",
    "print(flotante, type(flotante))\n",
    "print(cadena, type(cadena))\n",
    "print(booleano, type(booleano))"
   ]
  },
  {
   "cell_type": "markdown",
   "id": "b975adc1",
   "metadata": {},
   "source": [
    "## 7. Lista con elementos heterogéneos y operaciones\n",
    "\n",
    "Crear una lista con:  \n",
    "- Una cadena  \n",
    "- Un valor booleano  \n",
    "- Dos valores numéricos (cualquier tipo)  \n",
    "- Una **lista de dos cadenas** con tus artistas musicales favoritos  \n",
    "\n",
    "Luego:  \n",
    "- Accede al primer y al último elemento  \n",
    "- Agrega una nueva cadena  \n",
    "- Elimina el valor booleano\n"
   ]
  },
  {
   "cell_type": "code",
   "execution_count": 8,
   "id": "35d466d5",
   "metadata": {},
   "outputs": [
    {
     "name": "stdout",
     "output_type": "stream",
     "text": [
      "['Python', True, 2025, 3.14, ['Alex Zurdo', 'Redimidos']]\n"
     ]
    }
   ],
   "source": [
    "# 7) Lista y operaciones\n",
    "elementos = [\n",
    "    \"Python\",           # cadena\n",
    "    True,               # booleano\n",
    "    2025,               # numérico\n",
    "    3.14,               # numérico\n",
    "    [\"Alex Zurdo\", \"Redimidos\"]  # lista de dos cadenas \n",
    "            ]\n",
    "\n",
    "print(elementos)"
   ]
  },
  {
   "cell_type": "code",
   "execution_count": 9,
   "id": "037e45f0-18f2-43b0-bd5d-fb666b6c2d4f",
   "metadata": {},
   "outputs": [
    {
     "data": {
      "text/plain": [
       "['Alex Zurdo', 'Redimidos']"
      ]
     },
     "execution_count": 9,
     "metadata": {},
     "output_type": "execute_result"
    }
   ],
   "source": [
    "elementos[-1]"
   ]
  },
  {
   "cell_type": "code",
   "execution_count": 14,
   "id": "2f374860-ee39-489c-90ab-e72b367792d9",
   "metadata": {},
   "outputs": [
    {
     "name": "stdout",
     "output_type": "stream",
     "text": [
      "Primer elemento: Python\n",
      "Último elemento: nuevo elemento\n"
     ]
    }
   ],
   "source": [
    "# Acceso al primer y último elemento\n",
    "primer = elementos[0]\n",
    "ultimo = elementos[-1]\n",
    "print(\"Primer elemento:\", primer)\n",
    "print(\"Último elemento:\", ultimo)\n",
    "\n"
   ]
  },
  {
   "cell_type": "code",
   "execution_count": 11,
   "id": "019e4435-dccf-4934-bdcb-0c8686c1a3ca",
   "metadata": {},
   "outputs": [
    {
     "name": "stdout",
     "output_type": "stream",
     "text": [
      "Tras append: ['Python', True, 2025, 3.14, ['Alex Zurdo', 'Redimidos'], 'nuevo elemento']\n"
     ]
    }
   ],
   "source": [
    "# Agregar una nueva cadena\n",
    "elementos.append(\"nuevo elemento\")\n",
    "print(\"Tras append:\", elementos)\n",
    "\n"
   ]
  },
  {
   "cell_type": "code",
   "execution_count": 13,
   "id": "24235c08-214a-4379-a7cb-7a07767346df",
   "metadata": {},
   "outputs": [
    {
     "name": "stdout",
     "output_type": "stream",
     "text": [
      "['Python', 2025, 3.14, ['Alex Zurdo', 'Redimidos'], 'nuevo elemento']\n"
     ]
    }
   ],
   "source": [
    "# Eliminar el valor booleano (si está presente)\n",
    "if True in elementos:\n",
    "    elementos.remove(True)\n",
    "print(elementos)"
   ]
  },
  {
   "cell_type": "markdown",
   "id": "e930ad06",
   "metadata": {},
   "source": [
    "## 8. Tupla con distintos tipos y demostración de inmutabilidad\n",
    "\n",
    "Define una tupla que contenga:  \n",
    "- Una cadena  \n",
    "- Un booleano  \n",
    "- **Una tupla** con tres valores numéricos (de cualquier tipo)  \n",
    "\n",
    "Explica por qué una tupla es **inmutable** e intenta modificar un elemento para mostrar el error.\n"
   ]
  },
  {
   "cell_type": "code",
   "execution_count": 15,
   "id": "dbe506c7",
   "metadata": {},
   "outputs": [
    {
     "name": "stdout",
     "output_type": "stream",
     "text": [
      "Tupla original: ('Lima', False, (10, 20.5, -3))\n"
     ]
    }
   ],
   "source": [
    "# 8) Tuplas e inmutabilidad\n",
    "tupla = (\"Lima\", False, (10, 20.5, -3))\n",
    "\n",
    "print(\"Tupla original:\", tupla)\n"
   ]
  },
  {
   "cell_type": "code",
   "execution_count": 16,
   "id": "2ad4162f-4e68-4d25-b8d9-013eb0762bde",
   "metadata": {},
   "outputs": [
    {
     "name": "stdout",
     "output_type": "stream",
     "text": [
      "Las tuplas son inmutables: una vez creadas, no es posible realizar cambios, reasignar, agregar o eliminar sus elementosEsto permite que se usen como claves en diccionarios (si sus elementos también son inmutables) Algunos beneficios pueden ser que garantiza que su contenido no cambie accidentalmente.\n"
     ]
    }
   ],
   "source": [
    "explicacion = (\n",
    "    \"Las tuplas son inmutables: una vez creadas, no es posible realizar cambios, reasignar, agregar o eliminar sus elementos\"\n",
    "    \"Esto permite que se usen como claves en diccionarios (si sus elementos también son inmutables)\"\n",
    "    \" Algunos beneficios pueden ser que garantiza que su contenido no cambie accidentalmente.\"\n",
    ")\n",
    "print(explicacion)\n",
    "\n"
   ]
  },
  {
   "cell_type": "code",
   "execution_count": 22,
   "id": "7a73ccf7-4db7-419b-a9dc-75d777b7fbed",
   "metadata": {},
   "outputs": [
    {
     "name": "stdout",
     "output_type": "stream",
     "text": [
      "Ocurrió un error\n"
     ]
    }
   ],
   "source": [
    "# Cuando intento de modificar (debe lanzar Ocurrió un error)\n",
    "try:\n",
    "    tupla[0] = \"Cusco\"\n",
    "except:\n",
    "    print(\"Ocurrió un error\")"
   ]
  }
 ],
 "metadata": {
  "kernelspec": {
   "display_name": "Python 3 (ipykernel)",
   "language": "python",
   "name": "python3"
  },
  "language_info": {
   "codemirror_mode": {
    "name": "ipython",
    "version": 3
   },
   "file_extension": ".py",
   "mimetype": "text/x-python",
   "name": "python",
   "nbconvert_exporter": "python",
   "pygments_lexer": "ipython3",
   "version": "3.12.7"
  }
 },
 "nbformat": 4,
 "nbformat_minor": 5
}
